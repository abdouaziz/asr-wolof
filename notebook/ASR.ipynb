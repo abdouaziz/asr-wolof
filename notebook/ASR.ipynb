{
  "nbformat": 4,
  "nbformat_minor": 0,
  "metadata": {
    "colab": {
      "name": "ASR.ipynb",
      "provenance": [],
      "collapsed_sections": []
    },
    "kernelspec": {
      "name": "python3",
      "display_name": "Python 3"
    },
    "accelerator": "GPU"
  },
  "cells": [
    {
      "cell_type": "code",
      "metadata": {
        "colab": {
          "base_uri": "https://localhost:8080/"
        },
        "id": "cJgf5sHB8EBz",
        "outputId": "6c21f743-8dad-4afe-b74b-1751277b9322"
      },
      "source": [
        "!nvidia-smi"
      ],
      "execution_count": null,
      "outputs": [
        {
          "output_type": "stream",
          "text": [
            "NVIDIA-SMI has failed because it couldn't communicate with the NVIDIA driver. Make sure that the latest NVIDIA driver is installed and running.\n",
            "\n"
          ],
          "name": "stdout"
        }
      ]
    },
    {
      "cell_type": "code",
      "metadata": {
        "id": "kCiYgSq18JdP"
      },
      "source": [
        "!wget -q https://www.dropbox.com/s/91nylpfufphsure/21-137823-0022.flac"
      ],
      "execution_count": null,
      "outputs": []
    },
    {
      "cell_type": "code",
      "metadata": {
        "colab": {
          "base_uri": "https://localhost:8080/"
        },
        "id": "EtRcBCnA86N9",
        "outputId": "1db085e4-453b-4c0b-8ad5-b52965f51ff7"
      },
      "source": [
        "!ls"
      ],
      "execution_count": null,
      "outputs": [
        {
          "output_type": "stream",
          "text": [
            "21-137823-0022.flac  drive  sample_data\n"
          ],
          "name": "stdout"
        }
      ]
    },
    {
      "cell_type": "code",
      "metadata": {
        "id": "AB5R28HGOOK8"
      },
      "source": [
        "import matplotlib.pyplot as plt\n",
        "import numpy as np\n",
        "import pandas as pd\n",
        "import os \n",
        "import shutil\n",
        "import tensorflow as tf \n",
        "import librosa\n",
        "from string import ascii_lowercase\n",
        " "
      ],
      "execution_count": null,
      "outputs": []
    },
    {
      "cell_type": "code",
      "metadata": {
        "id": "REc8NDXYZaGO"
      },
      "source": [
        "train = pd.read_csv('/content/drive/MyDrive/ASR/Train.csv')"
      ],
      "execution_count": null,
      "outputs": []
    },
    {
      "cell_type": "code",
      "metadata": {
        "colab": {
          "base_uri": "https://localhost:8080/",
          "height": 359
        },
        "id": "xvo59VWCZaDU",
        "outputId": "1c808ef2-7fd9-49a3-d6da-35e754271b2a"
      },
      "source": [
        "train.head(10)"
      ],
      "execution_count": null,
      "outputs": [
        {
          "output_type": "execute_result",
          "data": {
            "text/html": [
              "<div>\n",
              "<style scoped>\n",
              "    .dataframe tbody tr th:only-of-type {\n",
              "        vertical-align: middle;\n",
              "    }\n",
              "\n",
              "    .dataframe tbody tr th {\n",
              "        vertical-align: top;\n",
              "    }\n",
              "\n",
              "    .dataframe thead th {\n",
              "        text-align: right;\n",
              "    }\n",
              "</style>\n",
              "<table border=\"1\" class=\"dataframe\">\n",
              "  <thead>\n",
              "    <tr style=\"text-align: right;\">\n",
              "      <th></th>\n",
              "      <th>ID</th>\n",
              "      <th>up_votes</th>\n",
              "      <th>down_votes</th>\n",
              "      <th>age</th>\n",
              "      <th>gender</th>\n",
              "      <th>transcription</th>\n",
              "    </tr>\n",
              "  </thead>\n",
              "  <tbody>\n",
              "    <tr>\n",
              "      <th>0</th>\n",
              "      <td>002e50c29ac2890c7cb3b3d63dcbe512bc6850de206ca8...</td>\n",
              "      <td>2</td>\n",
              "      <td>0</td>\n",
              "      <td>NaN</td>\n",
              "      <td>NaN</td>\n",
              "      <td>Malicka</td>\n",
              "    </tr>\n",
              "    <tr>\n",
              "      <th>1</th>\n",
              "      <td>0031672b4484f963c8a07babe6f713dd559539d44140e8...</td>\n",
              "      <td>2</td>\n",
              "      <td>0</td>\n",
              "      <td>twenties</td>\n",
              "      <td>female</td>\n",
              "      <td>Ecole Elementaire Pikine Nord</td>\n",
              "    </tr>\n",
              "    <tr>\n",
              "      <th>2</th>\n",
              "      <td>00362ccc6b48d3ea225e12ddf8a06a9d582cccc03b0353...</td>\n",
              "      <td>2</td>\n",
              "      <td>0</td>\n",
              "      <td>twenties</td>\n",
              "      <td>male</td>\n",
              "      <td>Cimetière de Cambérène</td>\n",
              "    </tr>\n",
              "    <tr>\n",
              "      <th>3</th>\n",
              "      <td>0042cdb4d4a015cddacc26d88faffdd714b7a27213d2b3...</td>\n",
              "      <td>2</td>\n",
              "      <td>0</td>\n",
              "      <td>twenties</td>\n",
              "      <td>male</td>\n",
              "      <td>Tournalou Boune</td>\n",
              "    </tr>\n",
              "    <tr>\n",
              "      <th>4</th>\n",
              "      <td>00439f02fa8f0dade934bdb317199b71662e9396f6bb81...</td>\n",
              "      <td>2</td>\n",
              "      <td>0</td>\n",
              "      <td>twenties</td>\n",
              "      <td>male</td>\n",
              "      <td>Pharmacie Golf Sud</td>\n",
              "    </tr>\n",
              "    <tr>\n",
              "      <th>5</th>\n",
              "      <td>00449100b205f8244174936b580e4084968ab7bbd738d0...</td>\n",
              "      <td>2</td>\n",
              "      <td>0</td>\n",
              "      <td>twenties</td>\n",
              "      <td>female</td>\n",
              "      <td>Gare Feroviére de Dakar</td>\n",
              "    </tr>\n",
              "    <tr>\n",
              "      <th>6</th>\n",
              "      <td>004bb970ff5217dc663cd9d69cf6dccc8b4197062ad48d...</td>\n",
              "      <td>2</td>\n",
              "      <td>0</td>\n",
              "      <td>teens</td>\n",
              "      <td>male</td>\n",
              "      <td>Ouakam</td>\n",
              "    </tr>\n",
              "    <tr>\n",
              "      <th>7</th>\n",
              "      <td>004bc77cc17a10c3964932a6e5acaa7494023d8fca26ac...</td>\n",
              "      <td>2</td>\n",
              "      <td>0</td>\n",
              "      <td>NaN</td>\n",
              "      <td>NaN</td>\n",
              "      <td>Mangazin</td>\n",
              "    </tr>\n",
              "    <tr>\n",
              "      <th>8</th>\n",
              "      <td>004eb9d3868f15c4d909147ef19b8a7b02140f481c1829...</td>\n",
              "      <td>3</td>\n",
              "      <td>0</td>\n",
              "      <td>twenties</td>\n",
              "      <td>male</td>\n",
              "      <td>Mairie de la ville de Dakar</td>\n",
              "    </tr>\n",
              "    <tr>\n",
              "      <th>9</th>\n",
              "      <td>005cea38ff6e71a7d1047aba774790ad04336b73fed6c0...</td>\n",
              "      <td>2</td>\n",
              "      <td>1</td>\n",
              "      <td>twenties</td>\n",
              "      <td>male</td>\n",
              "      <td>Collège Sacré Cœur</td>\n",
              "    </tr>\n",
              "  </tbody>\n",
              "</table>\n",
              "</div>"
            ],
            "text/plain": [
              "                                                  ID  ...                  transcription\n",
              "0  002e50c29ac2890c7cb3b3d63dcbe512bc6850de206ca8...  ...                        Malicka\n",
              "1  0031672b4484f963c8a07babe6f713dd559539d44140e8...  ...  Ecole Elementaire Pikine Nord\n",
              "2  00362ccc6b48d3ea225e12ddf8a06a9d582cccc03b0353...  ...         Cimetière de Cambérène\n",
              "3  0042cdb4d4a015cddacc26d88faffdd714b7a27213d2b3...  ...                Tournalou Boune\n",
              "4  00439f02fa8f0dade934bdb317199b71662e9396f6bb81...  ...             Pharmacie Golf Sud\n",
              "5  00449100b205f8244174936b580e4084968ab7bbd738d0...  ...        Gare Feroviére de Dakar\n",
              "6  004bb970ff5217dc663cd9d69cf6dccc8b4197062ad48d...  ...                         Ouakam\n",
              "7  004bc77cc17a10c3964932a6e5acaa7494023d8fca26ac...  ...                       Mangazin\n",
              "8  004eb9d3868f15c4d909147ef19b8a7b02140f481c1829...  ...    Mairie de la ville de Dakar\n",
              "9  005cea38ff6e71a7d1047aba774790ad04336b73fed6c0...  ...             Collège Sacré Cœur\n",
              "\n",
              "[10 rows x 6 columns]"
            ]
          },
          "metadata": {
            "tags": []
          },
          "execution_count": 4
        }
      ]
    },
    {
      "cell_type": "code",
      "metadata": {
        "id": "jJdIQZ-jZaBM"
      },
      "source": [
        "transcription = train['transcription']"
      ],
      "execution_count": null,
      "outputs": []
    },
    {
      "cell_type": "code",
      "metadata": {
        "id": "uWBfZKiMZZ3v"
      },
      "source": [
        "def get_alphabet():\n",
        "  uniques = set()\n",
        "  for line in transcription:\n",
        "    uniques.update(w.lower() for w in line)\n",
        "\n",
        "  return sorted(uniques)"
      ],
      "execution_count": null,
      "outputs": []
    },
    {
      "cell_type": "code",
      "metadata": {
        "colab": {
          "base_uri": "https://localhost:8080/"
        },
        "id": "mFw0aBjgZZ0A",
        "outputId": "a64c89b9-c5d0-4ddf-9b3e-bf6d20d3110f"
      },
      "source": [
        "print(\"All alphabet \",get_alphabet())\n",
        "print(\"The length of our alphabet {}\".format(len(get_alphabet())))"
      ],
      "execution_count": null,
      "outputs": [
        {
          "output_type": "stream",
          "text": [
            "All alphabet  [' ', '\"', \"'\", '(', ')', ',', '-', 'a', 'b', 'c', 'd', 'e', 'f', 'g', 'h', 'i', 'j', 'k', 'l', 'm', 'n', 'o', 'p', 'q', 'r', 's', 't', 'u', 'v', 'w', 'x', 'y', 'z', 'â', 'ç', 'è', 'é', 'ë', 'î', 'ô', 'œ', '’']\n",
            "The length of our alphabet 42\n"
          ],
          "name": "stdout"
        }
      ]
    },
    {
      "cell_type": "code",
      "metadata": {
        "id": "jP20wgRT9KLx"
      },
      "source": [
        "class ASR(tf.keras.Model):\n",
        "    def __init__(self, filters, kernel_size, conv_stride, conv_border,n_lstm_units, n_dense_units):\n",
        "      super(ASR, self).__init__()\n",
        "      self.conv_layer = tf.keras.layers.Conv1D(filters,\n",
        "                                                 kernel_size,\n",
        "                                                 strides=conv_stride,\n",
        "                                                 padding=conv_border, \n",
        "                                                activation='relu') \n",
        "      self.lstm_layer = tf.keras.layers.LSTM(n_lstm_units,\n",
        "                                               return_sequences=True,\n",
        "                                               activation='tanh')\n",
        "      self.lstm_layer_back = tf.keras.layers.LSTM(n_lstm_units,\n",
        "                                                    return_sequences=True,\n",
        "                                                    go_backwards=True,\n",
        "                                                    activation='tanh')\n",
        "      self.blstm_layer =tf.keras.layers.Bidirectional(self.lstm_layer,backward_layer=self.lstm_layer_back)\n",
        "      self.dense_layer = tf.keras.layers.Dense(n_dense_units)\n",
        "\n",
        "    def call(self, x):\n",
        "      x = self.conv_layer(x)\n",
        "      x = self.blstm_layer(x)\n",
        "      x = self.dense_layer(x)\n",
        "      return x"
      ],
      "execution_count": null,
      "outputs": []
    },
    {
      "cell_type": "code",
      "metadata": {
        "id": "gYqhGiTB93DO"
      },
      "source": [
        "def compute_ctc_loss (logits , labels , logit_length , label_length):\n",
        "\n",
        "\n",
        "  return tf.nn.ctc_loss (labels=labels, \n",
        "                         logits=logits, \n",
        "                         label_length=label_length,\n",
        "                         logit_length=logit_length,\n",
        "                         logits_time_major=False,\n",
        "                         unique=None,\n",
        "                         blank_index=1,\n",
        "                         name=None)"
      ],
      "execution_count": null,
      "outputs": []
    },
    {
      "cell_type": "code",
      "metadata": {
        "colab": {
          "base_uri": "https://localhost:8080/",
          "height": 231
        },
        "id": "-5CTkKEpfy7T",
        "outputId": "84675f75-c9c7-4fd5-8853-62d40da61585"
      },
      "source": [
        " \n",
        "temp_count = 0\n",
        "audio_lengths = []\n",
        "for i, (dirpath, dirnames, filenames) in enumerate(os.walk(train_path)):\n",
        "        print(dirpath)\n",
        "        for j,f in enumerate(filenames):\n",
        "            temp_count +=1\n",
        "            print(temp_count,f)\n",
        "            if temp_count%10==0:\n",
        "                y1, sr1 = librosa.load(dirpath+'/'+f)\n",
        "                print(y1.shape,sr1)\n",
        "                audio_lengths.append(y1.shape[0])\n"
      ],
      "execution_count": null,
      "outputs": [
        {
          "output_type": "error",
          "ename": "NameError",
          "evalue": "ignored",
          "traceback": [
            "\u001b[0;31m---------------------------------------------------------------------------\u001b[0m",
            "\u001b[0;31mNameError\u001b[0m                                 Traceback (most recent call last)",
            "\u001b[0;32m<ipython-input-10-ece6ecba570a>\u001b[0m in \u001b[0;36m<module>\u001b[0;34m()\u001b[0m\n\u001b[1;32m      2\u001b[0m \u001b[0mtemp_count\u001b[0m \u001b[0;34m=\u001b[0m \u001b[0;36m0\u001b[0m\u001b[0;34m\u001b[0m\u001b[0;34m\u001b[0m\u001b[0m\n\u001b[1;32m      3\u001b[0m \u001b[0maudio_lengths\u001b[0m \u001b[0;34m=\u001b[0m \u001b[0;34m[\u001b[0m\u001b[0;34m]\u001b[0m\u001b[0;34m\u001b[0m\u001b[0;34m\u001b[0m\u001b[0m\n\u001b[0;32m----> 4\u001b[0;31m \u001b[0;32mfor\u001b[0m \u001b[0mi\u001b[0m\u001b[0;34m,\u001b[0m \u001b[0;34m(\u001b[0m\u001b[0mdirpath\u001b[0m\u001b[0;34m,\u001b[0m \u001b[0mdirnames\u001b[0m\u001b[0;34m,\u001b[0m \u001b[0mfilenames\u001b[0m\u001b[0;34m)\u001b[0m \u001b[0;32min\u001b[0m \u001b[0menumerate\u001b[0m\u001b[0;34m(\u001b[0m\u001b[0mos\u001b[0m\u001b[0;34m.\u001b[0m\u001b[0mwalk\u001b[0m\u001b[0;34m(\u001b[0m\u001b[0mtrain_path\u001b[0m\u001b[0;34m)\u001b[0m\u001b[0;34m)\u001b[0m\u001b[0;34m:\u001b[0m\u001b[0;34m\u001b[0m\u001b[0;34m\u001b[0m\u001b[0m\n\u001b[0m\u001b[1;32m      5\u001b[0m        \u001b[0mprint\u001b[0m\u001b[0;34m(\u001b[0m\u001b[0mdirpath\u001b[0m\u001b[0;34m)\u001b[0m\u001b[0;34m\u001b[0m\u001b[0;34m\u001b[0m\u001b[0m\n\u001b[1;32m      6\u001b[0m        \u001b[0;32mfor\u001b[0m \u001b[0mj\u001b[0m\u001b[0;34m,\u001b[0m\u001b[0mf\u001b[0m \u001b[0;32min\u001b[0m \u001b[0menumerate\u001b[0m\u001b[0;34m(\u001b[0m\u001b[0mfilenames\u001b[0m\u001b[0;34m)\u001b[0m\u001b[0;34m:\u001b[0m\u001b[0;34m\u001b[0m\u001b[0;34m\u001b[0m\u001b[0m\n",
            "\u001b[0;31mNameError\u001b[0m: name 'train_path' is not defined"
          ]
        }
      ]
    },
    {
      "cell_type": "code",
      "metadata": {
        "colab": {
          "base_uri": "https://localhost:8080/"
        },
        "id": "SX9HFIZWfyoa",
        "outputId": "aa3d2bd0-288c-4461-a987-626cca95200f"
      },
      "source": [
        "aud_len = np.asarray(audio_lengths)\n",
        "\n",
        "# print the mean\n",
        "print(aud_len.mean())\n",
        "\n",
        "#get the min and max\n",
        "aud_len[aud_len.argmin()],aud_len[aud_len.argmax()]\n",
        "\n"
      ],
      "execution_count": null,
      "outputs": [
        {
          "output_type": "stream",
          "text": [
            "66524.45359281437\n"
          ],
          "name": "stdout"
        },
        {
          "output_type": "execute_result",
          "data": {
            "text/plain": [
              "(25931, 156644)"
            ]
          },
          "metadata": {
            "tags": []
          },
          "execution_count": 17
        }
      ]
    },
    {
      "cell_type": "code",
      "metadata": {
        "id": "tlcHtc0ciKIx"
      },
      "source": [
        "def pad_audio(data, fs, target):\n",
        "    # target number of samples\n",
        "    N_tar = int(fs * target)\n",
        "    # number of zero samples to append\n",
        "    shape = data.shape\n",
        "    if shape[0]> N_tar:\n",
        "        return data[:N_tar]\n",
        "    # Create the target shape    \n",
        "    N_pad = N_tar - shape[0]\n",
        "    print(\"Padding with %s seconds of silence\" % str(N_pad/fs) )\n",
        "    new_shape = (N_pad,) + shape[1:]\n",
        "    # Stack only if there is something to append    \n",
        "    if shape[0] > 0:                \n",
        "        if len(shape) > 1:\n",
        "            return np.vstack((np.zeros(new_shape),\n",
        "                              data))\n",
        "        else:\n",
        "            return np.hstack((np.zeros(new_shape),\n",
        "                              data))\n",
        "    else:\n",
        "        return data"
      ],
      "execution_count": null,
      "outputs": []
    },
    {
      "cell_type": "code",
      "metadata": {
        "id": "IgLzkH_cA3Yu"
      },
      "source": [
        "def create_spectrogram(signals):\n",
        "    stfts = tf.signal.stft(signals, frame_length=256,frame_step=80 , fft_length=256 )\n",
        "    spectrograms = tf.math.pow(tf.abs(stfts), 0.5)\n",
        "    return spectrograms"
      ],
      "execution_count": null,
      "outputs": []
    },
    {
      "cell_type": "code",
      "metadata": {
        "id": "PkaR2K3MCBDB"
      },
      "source": [
        "def generate_input_from_audio_file(path_to_audio_file , resample_to=8000):\n",
        "  signal , sample_rate= librosa.core.load(path_to_audio_file) \n",
        "  signal = pad_audio(signal , sample_rate , 6)\n",
        "\n",
        "  if signal.shape[0]==2:\n",
        "    signal = np.mean(signal , axis=0)\n",
        "  signal_resampled = librosa.core.resample(signal , sample_rate , resample_to)\n",
        "\n",
        "  X =  create_spectrogram(signal_resampled)\n",
        "\n",
        "  #Normalisation \n",
        "\n",
        "  means = tf.math.reduce_mean(X , 1, keepdims=True)\n",
        "  stddevs = tf.math.reduce_std(X , 1 , keepdims=True)\n",
        "  X=tf.divide(tf.subtract(X, means ) , stddevs)\n",
        "  X = tf.expand_dims(X , axis=0)\n",
        "\n",
        "  return X \n"
      ],
      "execution_count": null,
      "outputs": []
    },
    {
      "cell_type": "markdown",
      "metadata": {
        "id": "B3SXgpvLEFAS"
      },
      "source": [
        "Make the label from the target Text"
      ]
    },
    {
      "cell_type": "code",
      "metadata": {
        "id": "RHvnGitvEL3i"
      },
      "source": [
        "def generate_target_output_from_text(target_text):\n",
        "\n",
        "  #space_token = ' '\n",
        "  #end_token = '>'\n",
        "  #blank_token = '%'\n",
        "  #pp = ['é', 'è', 'œ','ù']\n",
        "\n",
        "  alphabet = get_alphabet()\n",
        "\n",
        "  char_to_index = {}\n",
        "\n",
        "  for idx , char in enumerate(alphabet):\n",
        "    char_to_index[char] =idx\n",
        "\n",
        "  y =[]\n",
        "\n",
        "  for char in target_text:\n",
        "    y.append(char_to_index[char]) \n",
        "\n",
        "  y=tf.expand_dims(tf.convert_to_tensor(y) , axis=0)\n",
        "\n",
        "  return y"
      ],
      "execution_count": null,
      "outputs": []
    },
    {
      "cell_type": "code",
      "metadata": {
        "colab": {
          "base_uri": "https://localhost:8080/"
        },
        "id": "41t8iYC_FGQC",
        "outputId": "7e2e93c1-4465-43dc-e1f1-9f73372171ae"
      },
      "source": [
        "x , sr = librosa.load('b.mp3')"
      ],
      "execution_count": null,
      "outputs": [
        {
          "output_type": "stream",
          "text": [
            "/usr/local/lib/python3.7/dist-packages/librosa/core/audio.py:162: UserWarning: PySoundFile failed. Trying audioread instead.\n",
            "  warnings.warn(\"PySoundFile failed. Trying audioread instead.\")\n"
          ],
          "name": "stderr"
        }
      ]
    },
    {
      "cell_type": "code",
      "metadata": {
        "colab": {
          "base_uri": "https://localhost:8080/"
        },
        "id": "vMJvY42dFM04",
        "outputId": "db4e2924-ad4f-465e-a03f-1b84ca44c113"
      },
      "source": [
        "print(x.shape)\n",
        "print(sr)"
      ],
      "execution_count": null,
      "outputs": [
        {
          "output_type": "stream",
          "text": [
            "(68267,)\n",
            "22050\n"
          ],
          "name": "stdout"
        }
      ]
    },
    {
      "cell_type": "code",
      "metadata": {
        "id": "7WSP7_tCFaca"
      },
      "source": [
        "import matplotlib.pyplot as plt\n",
        "import librosa.display\n",
        "from IPython.display import  Audio"
      ],
      "execution_count": null,
      "outputs": []
    },
    {
      "cell_type": "code",
      "metadata": {
        "colab": {
          "base_uri": "https://localhost:8080/",
          "height": 351
        },
        "id": "wbDAtOL9Fjd7",
        "outputId": "91b3b2a7-e545-439c-cc93-ffbba10b9195"
      },
      "source": [
        "plt.figure(figsize=(14,5))\n",
        "librosa.display.waveplot(x , sr=sr)"
      ],
      "execution_count": null,
      "outputs": [
        {
          "output_type": "execute_result",
          "data": {
            "text/plain": [
              "<matplotlib.collections.PolyCollection at 0x7f8de1dda750>"
            ]
          },
          "metadata": {
            "tags": []
          },
          "execution_count": 22
        },
        {
          "output_type": "display_data",
          "data": {
            "image/png": "[encoded data removed]",
            "text/plain": [
              "<Figure size 1008x360 with 1 Axes>"
            ]
          },
          "metadata": {
            "tags": [],
            "needs_background": "light"
          }
        }
      ]
    },
    {
      "cell_type": "code",
      "metadata": {
        "colab": {
          "base_uri": "https://localhost:8080/",
          "height": 75
        },
        "id": "s68cDdU-Fw6_",
        "outputId": "332a4233-29db-44a9-9919-d0f4731cf51e"
      },
      "source": [
        "Audio('b.mp3')"
      ],
      "execution_count": null,
      "outputs": [
        {
          "output_type": "execute_result",
          "data": {
            "text/html": [
              "\n",
              "                <audio controls=\"controls\" >\n",
              "                    <source src=\"data:audio/mpeg;base64,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\" type=\"audio/mpeg\" />\n",
              "                    Your browser does not support the audio element.\n",
              "                </audio>\n",
              "              "
            ],
            "text/plain": [
              "<IPython.lib.display.Audio object>"
            ]
          },
          "metadata": {
            "tags": []
          },
          "execution_count": 23
        }
      ]
    },
    {
      "cell_type": "code",
      "metadata": {
        "id": "s6Rf6ueMF-bN"
      },
      "source": [
        "sample_call = 'b.mp3'\n",
        "transcript = 'école élèmentaire pikine nord'"
      ],
      "execution_count": null,
      "outputs": []
    },
    {
      "cell_type": "code",
      "metadata": {
        "colab": {
          "base_uri": "https://localhost:8080/"
        },
        "id": "0IDgGAw7GaMW",
        "outputId": "84531837-0132-48e5-db42-fb559059c223"
      },
      "source": [
        "X = generate_input_from_audio_file(sample_call)\n",
        "#X = tf.expand_dims(X , axis=0)\n",
        "y= generate_target_output_from_text(transcript)\n",
        "#y=tf.expand_dims(tf.convert_to_tensor(y) , axis=0)\n",
        "\n",
        "print(X.shape)\n",
        "print(y.shape)"
      ],
      "execution_count": null,
      "outputs": [
        {
          "output_type": "stream",
          "text": [
            "/usr/local/lib/python3.7/dist-packages/librosa/core/audio.py:162: UserWarning: PySoundFile failed. Trying audioread instead.\n",
            "  warnings.warn(\"PySoundFile failed. Trying audioread instead.\")\n"
          ],
          "name": "stderr"
        },
        {
          "output_type": "stream",
          "text": [
            "Padding with 2.9039909297052153 seconds of silence\n",
            "(1, 597, 129)\n",
            "(1, 29)\n"
          ],
          "name": "stdout"
        }
      ]
    },
    {
      "cell_type": "markdown",
      "metadata": {
        "id": "kW8IdgUA5F3m"
      },
      "source": [
        ">Here we create the dataset for training "
      ]
    },
    {
      "cell_type": "code",
      "metadata": {
        "id": "ABcMqb4dCAO_"
      },
      "source": [
        "data={\n",
        "    \"inputs\":[],\n",
        "    \"targets\":[]\n",
        "}"
      ],
      "execution_count": null,
      "outputs": []
    },
    {
      "cell_type": "code",
      "metadata": {
        "id": "7aDBdeJ5sbM0"
      },
      "source": [
        "train_path = os.path.join('/content/drive/MyDrive/ASR/train/')"
      ],
      "execution_count": null,
      "outputs": []
    },
    {
      "cell_type": "code",
      "metadata": {
        "colab": {
          "base_uri": "https://localhost:8080/"
        },
        "id": "dbPgzmZ-sbKh",
        "outputId": "60ca0114-444f-47c5-8dc3-d690f52624d3"
      },
      "source": [
        "for i in range(100):\n",
        "  file = train_path+os.listdir(train_path)[i]\n",
        "  X = generate_input_from_audio_file(file)\n",
        "  y= generate_target_output_from_text(transcription[i].lower())\n",
        "  data[\"inputs\"].append(X)\n",
        "  data[\"targets\"].append(y)\n",
        "\n"
      ],
      "execution_count": null,
      "outputs": [
        {
          "output_type": "stream",
          "text": [
            "/usr/local/lib/python3.7/dist-packages/librosa/core/audio.py:162: UserWarning: PySoundFile failed. Trying audioread instead.\n",
            "  warnings.warn(\"PySoundFile failed. Trying audioread instead.\")\n"
          ],
          "name": "stderr"
        },
        {
          "output_type": "stream",
          "text": [
            "Padding with 3.8159637188208615 seconds of silence\n"
          ],
          "name": "stdout"
        },
        {
          "output_type": "stream",
          "text": [
            "/usr/local/lib/python3.7/dist-packages/librosa/core/audio.py:162: UserWarning: PySoundFile failed. Trying audioread instead.\n",
            "  warnings.warn(\"PySoundFile failed. Trying audioread instead.\")\n"
          ],
          "name": "stderr"
        },
        {
          "output_type": "stream",
          "text": [
            "Padding with 2.9759637188208616 seconds of silence\n"
          ],
          "name": "stdout"
        },
        {
          "output_type": "stream",
          "text": [
            "/usr/local/lib/python3.7/dist-packages/librosa/core/audio.py:162: UserWarning: PySoundFile failed. Trying audioread instead.\n",
            "  warnings.warn(\"PySoundFile failed. Trying audioread instead.\")\n"
          ],
          "name": "stderr"
        },
        {
          "output_type": "stream",
          "text": [
            "Padding with 1.1759637188208616 seconds of silence\n"
          ],
          "name": "stdout"
        },
        {
          "output_type": "stream",
          "text": [
            "/usr/local/lib/python3.7/dist-packages/librosa/core/audio.py:162: UserWarning: PySoundFile failed. Trying audioread instead.\n",
            "  warnings.warn(\"PySoundFile failed. Trying audioread instead.\")\n"
          ],
          "name": "stderr"
        },
        {
          "output_type": "stream",
          "text": [
            "Padding with 3.215963718820862 seconds of silence\n"
          ],
          "name": "stdout"
        },
        {
          "output_type": "stream",
          "text": [
            "/usr/local/lib/python3.7/dist-packages/librosa/core/audio.py:162: UserWarning: PySoundFile failed. Trying audioread instead.\n",
            "  warnings.warn(\"PySoundFile failed. Trying audioread instead.\")\n"
          ],
          "name": "stderr"
        },
        {
          "output_type": "stream",
          "text": [
            "Padding with 3.5039909297052154 seconds of silence\n"
          ],
          "name": "stdout"
        },
        {
          "output_type": "stream",
          "text": [
            "/usr/local/lib/python3.7/dist-packages/librosa/core/audio.py:162: UserWarning: PySoundFile failed. Trying audioread instead.\n",
            "  warnings.warn(\"PySoundFile failed. Trying audioread instead.\")\n"
          ],
          "name": "stderr"
        },
        {
          "output_type": "stream",
          "text": [
            "Padding with 2.0159637188208617 seconds of silence\n"
          ],
          "name": "stdout"
        },
        {
          "output_type": "stream",
          "text": [
            "/usr/local/lib/python3.7/dist-packages/librosa/core/audio.py:162: UserWarning: PySoundFile failed. Trying audioread instead.\n",
            "  warnings.warn(\"PySoundFile failed. Trying audioread instead.\")\n"
          ],
          "name": "stderr"
        },
        {
          "output_type": "stream",
          "text": [
            "Padding with 2.735963718820862 seconds of silence\n"
          ],
          "name": "stdout"
        },
        {
          "output_type": "stream",
          "text": [
            "/usr/local/lib/python3.7/dist-packages/librosa/core/audio.py:162: UserWarning: PySoundFile failed. Trying audioread instead.\n",
            "  warnings.warn(\"PySoundFile failed. Trying audioread instead.\")\n"
          ],
          "name": "stderr"
        },
        {
          "output_type": "stream",
          "text": [
            "Padding with 3.0959637188208617 seconds of silence\n"
          ],
          "name": "stdout"
        },
        {
          "output_type": "stream",
          "text": [
            "/usr/local/lib/python3.7/dist-packages/librosa/core/audio.py:162: UserWarning: PySoundFile failed. Trying audioread instead.\n",
            "  warnings.warn(\"PySoundFile failed. Trying audioread instead.\")\n"
          ],
          "name": "stderr"
        },
        {
          "output_type": "stream",
          "text": [
            "Padding with 3.263990929705215 seconds of silence\n"
          ],
          "name": "stdout"
        },
        {
          "output_type": "stream",
          "text": [
            "/usr/local/lib/python3.7/dist-packages/librosa/core/audio.py:162: UserWarning: PySoundFile failed. Trying audioread instead.\n",
            "  warnings.warn(\"PySoundFile failed. Trying audioread instead.\")\n"
          ],
          "name": "stderr"
        },
        {
          "output_type": "stream",
          "text": [
            "Padding with 3.5039909297052154 seconds of silence\n"
          ],
          "name": "stdout"
        },
        {
          "output_type": "stream",
          "text": [
            "/usr/local/lib/python3.7/dist-packages/librosa/core/audio.py:162: UserWarning: PySoundFile failed. Trying audioread instead.\n",
            "  warnings.warn(\"PySoundFile failed. Trying audioread instead.\")\n"
          ],
          "name": "stderr"
        },
        {
          "output_type": "stream",
          "text": [
            "Padding with 4.1039909297052155 seconds of silence\n"
          ],
          "name": "stdout"
        },
        {
          "output_type": "stream",
          "text": [
            "/usr/local/lib/python3.7/dist-packages/librosa/core/audio.py:162: UserWarning: PySoundFile failed. Trying audioread instead.\n",
            "  warnings.warn(\"PySoundFile failed. Trying audioread instead.\")\n"
          ],
          "name": "stderr"
        },
        {
          "output_type": "stream",
          "text": [
            "Padding with 3.9359637188208616 seconds of silence\n"
          ],
          "name": "stdout"
        },
        {
          "output_type": "stream",
          "text": [
            "/usr/local/lib/python3.7/dist-packages/librosa/core/audio.py:162: UserWarning: PySoundFile failed. Trying audioread instead.\n",
            "  warnings.warn(\"PySoundFile failed. Trying audioread instead.\")\n"
          ],
          "name": "stderr"
        },
        {
          "output_type": "stream",
          "text": [
            "Padding with 3.3359637188208615 seconds of silence\n"
          ],
          "name": "stdout"
        },
        {
          "output_type": "stream",
          "text": [
            "/usr/local/lib/python3.7/dist-packages/librosa/core/audio.py:162: UserWarning: PySoundFile failed. Trying audioread instead.\n",
            "  warnings.warn(\"PySoundFile failed. Trying audioread instead.\")\n"
          ],
          "name": "stderr"
        },
        {
          "output_type": "stream",
          "text": [
            "Padding with 3.0959637188208617 seconds of silence\n"
          ],
          "name": "stdout"
        },
        {
          "output_type": "stream",
          "text": [
            "/usr/local/lib/python3.7/dist-packages/librosa/core/audio.py:162: UserWarning: PySoundFile failed. Trying audioread instead.\n",
            "  warnings.warn(\"PySoundFile failed. Trying audioread instead.\")\n"
          ],
          "name": "stderr"
        },
        {
          "output_type": "stream",
          "text": [
            "Padding with 0.5759637188208617 seconds of silence\n"
          ],
          "name": "stdout"
        },
        {
          "output_type": "stream",
          "text": [
            "/usr/local/lib/python3.7/dist-packages/librosa/core/audio.py:162: UserWarning: PySoundFile failed. Trying audioread instead.\n",
            "  warnings.warn(\"PySoundFile failed. Trying audioread instead.\")\n"
          ],
          "name": "stderr"
        },
        {
          "output_type": "stream",
          "text": [
            "Padding with 2.0159637188208617 seconds of silence\n"
          ],
          "name": "stdout"
        },
        {
          "output_type": "stream",
          "text": [
            "/usr/local/lib/python3.7/dist-packages/librosa/core/audio.py:162: UserWarning: PySoundFile failed. Trying audioread instead.\n",
            "  warnings.warn(\"PySoundFile failed. Trying audioread instead.\")\n"
          ],
          "name": "stderr"
        },
        {
          "output_type": "stream",
          "text": [
            "Padding with 1.8239909297052155 seconds of silence\n"
          ],
          "name": "stdout"
        },
        {
          "output_type": "stream",
          "text": [
            "/usr/local/lib/python3.7/dist-packages/librosa/core/audio.py:162: UserWarning: PySoundFile failed. Trying audioread instead.\n",
            "  warnings.warn(\"PySoundFile failed. Trying audioread instead.\")\n"
          ],
          "name": "stderr"
        },
        {
          "output_type": "stream",
          "text": [
            "Padding with 3.5759637188208617 seconds of silence\n"
          ],
          "name": "stdout"
        },
        {
          "output_type": "stream",
          "text": [
            "/usr/local/lib/python3.7/dist-packages/librosa/core/audio.py:162: UserWarning: PySoundFile failed. Trying audioread instead.\n",
            "  warnings.warn(\"PySoundFile failed. Trying audioread instead.\")\n"
          ],
          "name": "stderr"
        },
        {
          "output_type": "stream",
          "text": [
            "Padding with 3.3359637188208615 seconds of silence\n"
          ],
          "name": "stdout"
        },
        {
          "output_type": "stream",
          "text": [
            "/usr/local/lib/python3.7/dist-packages/librosa/core/audio.py:162: UserWarning: PySoundFile failed. Trying audioread instead.\n",
            "  warnings.warn(\"PySoundFile failed. Trying audioread instead.\")\n"
          ],
          "name": "stderr"
        },
        {
          "output_type": "stream",
          "text": [
            "Padding with 3.263990929705215 seconds of silence\n"
          ],
          "name": "stdout"
        },
        {
          "output_type": "stream",
          "text": [
            "/usr/local/lib/python3.7/dist-packages/librosa/core/audio.py:162: UserWarning: PySoundFile failed. Trying audioread instead.\n",
            "  warnings.warn(\"PySoundFile failed. Trying audioread instead.\")\n"
          ],
          "name": "stderr"
        },
        {
          "output_type": "stream",
          "text": [
            "Padding with 2.3039909297052152 seconds of silence\n"
          ],
          "name": "stdout"
        },
        {
          "output_type": "stream",
          "text": [
            "/usr/local/lib/python3.7/dist-packages/librosa/core/audio.py:162: UserWarning: PySoundFile failed. Trying audioread instead.\n",
            "  warnings.warn(\"PySoundFile failed. Trying audioread instead.\")\n"
          ],
          "name": "stderr"
        },
        {
          "output_type": "stream",
          "text": [
            "Padding with 2.3039909297052152 seconds of silence\n"
          ],
          "name": "stdout"
        },
        {
          "output_type": "stream",
          "text": [
            "/usr/local/lib/python3.7/dist-packages/librosa/core/audio.py:162: UserWarning: PySoundFile failed. Trying audioread instead.\n",
            "  warnings.warn(\"PySoundFile failed. Trying audioread instead.\")\n"
          ],
          "name": "stderr"
        },
        {
          "output_type": "stream",
          "text": [
            "Padding with 3.7439909297052156 seconds of silence\n"
          ],
          "name": "stdout"
        },
        {
          "output_type": "stream",
          "text": [
            "/usr/local/lib/python3.7/dist-packages/librosa/core/audio.py:162: UserWarning: PySoundFile failed. Trying audioread instead.\n",
            "  warnings.warn(\"PySoundFile failed. Trying audioread instead.\")\n"
          ],
          "name": "stderr"
        },
        {
          "output_type": "stream",
          "text": [
            "Padding with 3.3359637188208615 seconds of silence\n"
          ],
          "name": "stdout"
        },
        {
          "output_type": "stream",
          "text": [
            "/usr/local/lib/python3.7/dist-packages/librosa/core/audio.py:162: UserWarning: PySoundFile failed. Trying audioread instead.\n",
            "  warnings.warn(\"PySoundFile failed. Trying audioread instead.\")\n"
          ],
          "name": "stderr"
        },
        {
          "output_type": "stream",
          "text": [
            "Padding with 4.223990929705216 seconds of silence\n"
          ],
          "name": "stdout"
        },
        {
          "output_type": "stream",
          "text": [
            "/usr/local/lib/python3.7/dist-packages/librosa/core/audio.py:162: UserWarning: PySoundFile failed. Trying audioread instead.\n",
            "  warnings.warn(\"PySoundFile failed. Trying audioread instead.\")\n"
          ],
          "name": "stderr"
        },
        {
          "output_type": "stream",
          "text": [
            "Padding with 3.0959637188208617 seconds of silence\n"
          ],
          "name": "stdout"
        },
        {
          "output_type": "stream",
          "text": [
            "/usr/local/lib/python3.7/dist-packages/librosa/core/audio.py:162: UserWarning: PySoundFile failed. Trying audioread instead.\n",
            "  warnings.warn(\"PySoundFile failed. Trying audioread instead.\")\n"
          ],
          "name": "stderr"
        },
        {
          "output_type": "stream",
          "text": [
            "Padding with 4.175963718820862 seconds of silence\n"
          ],
          "name": "stdout"
        },
        {
          "output_type": "stream",
          "text": [
            "/usr/local/lib/python3.7/dist-packages/librosa/core/audio.py:162: UserWarning: PySoundFile failed. Trying audioread instead.\n",
            "  warnings.warn(\"PySoundFile failed. Trying audioread instead.\")\n"
          ],
          "name": "stderr"
        },
        {
          "output_type": "stream",
          "text": [
            "Padding with 4.295963718820862 seconds of silence\n"
          ],
          "name": "stdout"
        },
        {
          "output_type": "stream",
          "text": [
            "/usr/local/lib/python3.7/dist-packages/librosa/core/audio.py:162: UserWarning: PySoundFile failed. Trying audioread instead.\n",
            "  warnings.warn(\"PySoundFile failed. Trying audioread instead.\")\n"
          ],
          "name": "stderr"
        },
        {
          "output_type": "stream",
          "text": [
            "Padding with 3.695963718820862 seconds of silence\n"
          ],
          "name": "stdout"
        },
        {
          "output_type": "stream",
          "text": [
            "/usr/local/lib/python3.7/dist-packages/librosa/core/audio.py:162: UserWarning: PySoundFile failed. Trying audioread instead.\n",
            "  warnings.warn(\"PySoundFile failed. Trying audioread instead.\")\n"
          ],
          "name": "stderr"
        },
        {
          "output_type": "stream",
          "text": [
            "Padding with 3.0239909297052154 seconds of silence\n"
          ],
          "name": "stdout"
        },
        {
          "output_type": "stream",
          "text": [
            "/usr/local/lib/python3.7/dist-packages/librosa/core/audio.py:162: UserWarning: PySoundFile failed. Trying audioread instead.\n",
            "  warnings.warn(\"PySoundFile failed. Trying audioread instead.\")\n"
          ],
          "name": "stderr"
        },
        {
          "output_type": "stream",
          "text": [
            "Padding with 2.9759637188208616 seconds of silence\n"
          ],
          "name": "stdout"
        },
        {
          "output_type": "stream",
          "text": [
            "/usr/local/lib/python3.7/dist-packages/librosa/core/audio.py:162: UserWarning: PySoundFile failed. Trying audioread instead.\n",
            "  warnings.warn(\"PySoundFile failed. Trying audioread instead.\")\n"
          ],
          "name": "stderr"
        },
        {
          "output_type": "stream",
          "text": [
            "Padding with 3.6239909297052155 seconds of silence\n"
          ],
          "name": "stdout"
        },
        {
          "output_type": "stream",
          "text": [
            "/usr/local/lib/python3.7/dist-packages/librosa/core/audio.py:162: UserWarning: PySoundFile failed. Trying audioread instead.\n",
            "  warnings.warn(\"PySoundFile failed. Trying audioread instead.\")\n"
          ],
          "name": "stderr"
        },
        {
          "output_type": "stream",
          "text": [
            "Padding with 4.1039909297052155 seconds of silence\n"
          ],
          "name": "stdout"
        },
        {
          "output_type": "stream",
          "text": [
            "/usr/local/lib/python3.7/dist-packages/librosa/core/audio.py:162: UserWarning: PySoundFile failed. Trying audioread instead.\n",
            "  warnings.warn(\"PySoundFile failed. Trying audioread instead.\")\n"
          ],
          "name": "stderr"
        },
        {
          "output_type": "stream",
          "text": [
            "Padding with 2.5439909297052155 seconds of silence\n"
          ],
          "name": "stdout"
        },
        {
          "output_type": "stream",
          "text": [
            "/usr/local/lib/python3.7/dist-packages/librosa/core/audio.py:162: UserWarning: PySoundFile failed. Trying audioread instead.\n",
            "  warnings.warn(\"PySoundFile failed. Trying audioread instead.\")\n"
          ],
          "name": "stderr"
        },
        {
          "output_type": "stream",
          "text": [
            "Padding with 3.0239909297052154 seconds of silence\n"
          ],
          "name": "stdout"
        },
        {
          "output_type": "stream",
          "text": [
            "/usr/local/lib/python3.7/dist-packages/librosa/core/audio.py:162: UserWarning: PySoundFile failed. Trying audioread instead.\n",
            "  warnings.warn(\"PySoundFile failed. Trying audioread instead.\")\n"
          ],
          "name": "stderr"
        },
        {
          "output_type": "stream",
          "text": [
            "Padding with 3.1439909297052155 seconds of silence\n"
          ],
          "name": "stdout"
        },
        {
          "output_type": "stream",
          "text": [
            "/usr/local/lib/python3.7/dist-packages/librosa/core/audio.py:162: UserWarning: PySoundFile failed. Trying audioread instead.\n",
            "  warnings.warn(\"PySoundFile failed. Trying audioread instead.\")\n"
          ],
          "name": "stderr"
        },
        {
          "output_type": "stream",
          "text": [
            "Padding with 4.1039909297052155 seconds of silence\n"
          ],
          "name": "stdout"
        },
        {
          "output_type": "stream",
          "text": [
            "/usr/local/lib/python3.7/dist-packages/librosa/core/audio.py:162: UserWarning: PySoundFile failed. Trying audioread instead.\n",
            "  warnings.warn(\"PySoundFile failed. Trying audioread instead.\")\n"
          ],
          "name": "stderr"
        },
        {
          "output_type": "stream",
          "text": [
            "Padding with 2.6639909297052156 seconds of silence\n"
          ],
          "name": "stdout"
        },
        {
          "output_type": "stream",
          "text": [
            "/usr/local/lib/python3.7/dist-packages/librosa/core/audio.py:162: UserWarning: PySoundFile failed. Trying audioread instead.\n",
            "  warnings.warn(\"PySoundFile failed. Trying audioread instead.\")\n"
          ],
          "name": "stderr"
        },
        {
          "output_type": "stream",
          "text": [
            "Padding with 3.6239909297052155 seconds of silence\n"
          ],
          "name": "stdout"
        },
        {
          "output_type": "stream",
          "text": [
            "/usr/local/lib/python3.7/dist-packages/librosa/core/audio.py:162: UserWarning: PySoundFile failed. Trying audioread instead.\n",
            "  warnings.warn(\"PySoundFile failed. Trying audioread instead.\")\n"
          ],
          "name": "stderr"
        },
        {
          "output_type": "stream",
          "text": [
            "Padding with 3.263990929705215 seconds of silence\n"
          ],
          "name": "stdout"
        },
        {
          "output_type": "stream",
          "text": [
            "/usr/local/lib/python3.7/dist-packages/librosa/core/audio.py:162: UserWarning: PySoundFile failed. Trying audioread instead.\n",
            "  warnings.warn(\"PySoundFile failed. Trying audioread instead.\")\n"
          ],
          "name": "stderr"
        },
        {
          "output_type": "stream",
          "text": [
            "Padding with 4.343990929705216 seconds of silence\n"
          ],
          "name": "stdout"
        },
        {
          "output_type": "stream",
          "text": [
            "/usr/local/lib/python3.7/dist-packages/librosa/core/audio.py:162: UserWarning: PySoundFile failed. Trying audioread instead.\n",
            "  warnings.warn(\"PySoundFile failed. Trying audioread instead.\")\n"
          ],
          "name": "stderr"
        },
        {
          "output_type": "stream",
          "text": [
            "Padding with 4.463990929705216 seconds of silence\n"
          ],
          "name": "stdout"
        },
        {
          "output_type": "stream",
          "text": [
            "/usr/local/lib/python3.7/dist-packages/librosa/core/audio.py:162: UserWarning: PySoundFile failed. Trying audioread instead.\n",
            "  warnings.warn(\"PySoundFile failed. Trying audioread instead.\")\n"
          ],
          "name": "stderr"
        },
        {
          "output_type": "stream",
          "text": [
            "Padding with 3.0959637188208617 seconds of silence\n"
          ],
          "name": "stdout"
        },
        {
          "output_type": "stream",
          "text": [
            "/usr/local/lib/python3.7/dist-packages/librosa/core/audio.py:162: UserWarning: PySoundFile failed. Trying audioread instead.\n",
            "  warnings.warn(\"PySoundFile failed. Trying audioread instead.\")\n"
          ],
          "name": "stderr"
        },
        {
          "output_type": "stream",
          "text": [
            "Padding with 4.223990929705216 seconds of silence\n"
          ],
          "name": "stdout"
        },
        {
          "output_type": "stream",
          "text": [
            "/usr/local/lib/python3.7/dist-packages/librosa/core/audio.py:162: UserWarning: PySoundFile failed. Trying audioread instead.\n",
            "  warnings.warn(\"PySoundFile failed. Trying audioread instead.\")\n"
          ],
          "name": "stderr"
        },
        {
          "output_type": "stream",
          "text": [
            "Padding with 3.4559637188208616 seconds of silence\n"
          ],
          "name": "stdout"
        },
        {
          "output_type": "stream",
          "text": [
            "/usr/local/lib/python3.7/dist-packages/librosa/core/audio.py:162: UserWarning: PySoundFile failed. Trying audioread instead.\n",
            "  warnings.warn(\"PySoundFile failed. Trying audioread instead.\")\n"
          ],
          "name": "stderr"
        },
        {
          "output_type": "stream",
          "text": [
            "Padding with 3.7439909297052156 seconds of silence\n"
          ],
          "name": "stdout"
        },
        {
          "output_type": "stream",
          "text": [
            "/usr/local/lib/python3.7/dist-packages/librosa/core/audio.py:162: UserWarning: PySoundFile failed. Trying audioread instead.\n",
            "  warnings.warn(\"PySoundFile failed. Trying audioread instead.\")\n"
          ],
          "name": "stderr"
        },
        {
          "output_type": "stream",
          "text": [
            "Padding with 4.295963718820862 seconds of silence\n"
          ],
          "name": "stdout"
        },
        {
          "output_type": "stream",
          "text": [
            "/usr/local/lib/python3.7/dist-packages/librosa/core/audio.py:162: UserWarning: PySoundFile failed. Trying audioread instead.\n",
            "  warnings.warn(\"PySoundFile failed. Trying audioread instead.\")\n"
          ],
          "name": "stderr"
        },
        {
          "output_type": "stream",
          "text": [
            "Padding with 3.695963718820862 seconds of silence\n"
          ],
          "name": "stdout"
        },
        {
          "output_type": "stream",
          "text": [
            "/usr/local/lib/python3.7/dist-packages/librosa/core/audio.py:162: UserWarning: PySoundFile failed. Trying audioread instead.\n",
            "  warnings.warn(\"PySoundFile failed. Trying audioread instead.\")\n"
          ],
          "name": "stderr"
        },
        {
          "output_type": "stream",
          "text": [
            "Padding with 3.263990929705215 seconds of silence\n"
          ],
          "name": "stdout"
        },
        {
          "output_type": "stream",
          "text": [
            "/usr/local/lib/python3.7/dist-packages/librosa/core/audio.py:162: UserWarning: PySoundFile failed. Trying audioread instead.\n",
            "  warnings.warn(\"PySoundFile failed. Trying audioread instead.\")\n"
          ],
          "name": "stderr"
        },
        {
          "output_type": "stream",
          "text": [
            "Padding with 3.9359637188208616 seconds of silence\n"
          ],
          "name": "stdout"
        },
        {
          "output_type": "stream",
          "text": [
            "/usr/local/lib/python3.7/dist-packages/librosa/core/audio.py:162: UserWarning: PySoundFile failed. Trying audioread instead.\n",
            "  warnings.warn(\"PySoundFile failed. Trying audioread instead.\")\n"
          ],
          "name": "stderr"
        },
        {
          "output_type": "stream",
          "text": [
            "Padding with 2.3039909297052152 seconds of silence\n"
          ],
          "name": "stdout"
        },
        {
          "output_type": "stream",
          "text": [
            "/usr/local/lib/python3.7/dist-packages/librosa/core/audio.py:162: UserWarning: PySoundFile failed. Trying audioread instead.\n",
            "  warnings.warn(\"PySoundFile failed. Trying audioread instead.\")\n"
          ],
          "name": "stderr"
        },
        {
          "output_type": "stream",
          "text": [
            "Padding with 4.223990929705216 seconds of silence\n"
          ],
          "name": "stdout"
        },
        {
          "output_type": "stream",
          "text": [
            "/usr/local/lib/python3.7/dist-packages/librosa/core/audio.py:162: UserWarning: PySoundFile failed. Trying audioread instead.\n",
            "  warnings.warn(\"PySoundFile failed. Trying audioread instead.\")\n"
          ],
          "name": "stderr"
        },
        {
          "output_type": "stream",
          "text": [
            "Padding with 3.3839909297052153 seconds of silence\n"
          ],
          "name": "stdout"
        },
        {
          "output_type": "stream",
          "text": [
            "/usr/local/lib/python3.7/dist-packages/librosa/core/audio.py:162: UserWarning: PySoundFile failed. Trying audioread instead.\n",
            "  warnings.warn(\"PySoundFile failed. Trying audioread instead.\")\n"
          ],
          "name": "stderr"
        },
        {
          "output_type": "stream",
          "text": [
            "Padding with 3.0239909297052154 seconds of silence\n"
          ],
          "name": "stdout"
        },
        {
          "output_type": "stream",
          "text": [
            "/usr/local/lib/python3.7/dist-packages/librosa/core/audio.py:162: UserWarning: PySoundFile failed. Trying audioread instead.\n",
            "  warnings.warn(\"PySoundFile failed. Trying audioread instead.\")\n"
          ],
          "name": "stderr"
        },
        {
          "output_type": "stream",
          "text": [
            "Padding with 3.0239909297052154 seconds of silence\n"
          ],
          "name": "stdout"
        },
        {
          "output_type": "stream",
          "text": [
            "/usr/local/lib/python3.7/dist-packages/librosa/core/audio.py:162: UserWarning: PySoundFile failed. Trying audioread instead.\n",
            "  warnings.warn(\"PySoundFile failed. Trying audioread instead.\")\n"
          ],
          "name": "stderr"
        },
        {
          "output_type": "stream",
          "text": [
            "Padding with 3.3839909297052153 seconds of silence\n"
          ],
          "name": "stdout"
        },
        {
          "output_type": "stream",
          "text": [
            "/usr/local/lib/python3.7/dist-packages/librosa/core/audio.py:162: UserWarning: PySoundFile failed. Trying audioread instead.\n",
            "  warnings.warn(\"PySoundFile failed. Trying audioread instead.\")\n"
          ],
          "name": "stderr"
        },
        {
          "output_type": "stream",
          "text": [
            "Padding with 3.5039909297052154 seconds of silence\n"
          ],
          "name": "stdout"
        },
        {
          "output_type": "stream",
          "text": [
            "/usr/local/lib/python3.7/dist-packages/librosa/core/audio.py:162: UserWarning: PySoundFile failed. Trying audioread instead.\n",
            "  warnings.warn(\"PySoundFile failed. Trying audioread instead.\")\n"
          ],
          "name": "stderr"
        },
        {
          "output_type": "stream",
          "text": [
            "Padding with 3.5039909297052154 seconds of silence\n"
          ],
          "name": "stdout"
        },
        {
          "output_type": "stream",
          "text": [
            "/usr/local/lib/python3.7/dist-packages/librosa/core/audio.py:162: UserWarning: PySoundFile failed. Trying audioread instead.\n",
            "  warnings.warn(\"PySoundFile failed. Trying audioread instead.\")\n"
          ],
          "name": "stderr"
        },
        {
          "output_type": "stream",
          "text": [
            "Padding with 3.5759637188208617 seconds of silence\n"
          ],
          "name": "stdout"
        },
        {
          "output_type": "stream",
          "text": [
            "/usr/local/lib/python3.7/dist-packages/librosa/core/audio.py:162: UserWarning: PySoundFile failed. Trying audioread instead.\n",
            "  warnings.warn(\"PySoundFile failed. Trying audioread instead.\")\n"
          ],
          "name": "stderr"
        },
        {
          "output_type": "stream",
          "text": [
            "Padding with 2.9039909297052153 seconds of silence\n"
          ],
          "name": "stdout"
        },
        {
          "output_type": "stream",
          "text": [
            "/usr/local/lib/python3.7/dist-packages/librosa/core/audio.py:162: UserWarning: PySoundFile failed. Trying audioread instead.\n",
            "  warnings.warn(\"PySoundFile failed. Trying audioread instead.\")\n"
          ],
          "name": "stderr"
        },
        {
          "output_type": "stream",
          "text": [
            "Padding with 2.735963718820862 seconds of silence\n"
          ],
          "name": "stdout"
        },
        {
          "output_type": "stream",
          "text": [
            "/usr/local/lib/python3.7/dist-packages/librosa/core/audio.py:162: UserWarning: PySoundFile failed. Trying audioread instead.\n",
            "  warnings.warn(\"PySoundFile failed. Trying audioread instead.\")\n"
          ],
          "name": "stderr"
        },
        {
          "output_type": "stream",
          "text": [
            "Padding with 2.9039909297052153 seconds of silence\n"
          ],
          "name": "stdout"
        },
        {
          "output_type": "stream",
          "text": [
            "/usr/local/lib/python3.7/dist-packages/librosa/core/audio.py:162: UserWarning: PySoundFile failed. Trying audioread instead.\n",
            "  warnings.warn(\"PySoundFile failed. Trying audioread instead.\")\n"
          ],
          "name": "stderr"
        },
        {
          "output_type": "stream",
          "text": [
            "Padding with 3.7439909297052156 seconds of silence\n"
          ],
          "name": "stdout"
        },
        {
          "output_type": "stream",
          "text": [
            "/usr/local/lib/python3.7/dist-packages/librosa/core/audio.py:162: UserWarning: PySoundFile failed. Trying audioread instead.\n",
            "  warnings.warn(\"PySoundFile failed. Trying audioread instead.\")\n"
          ],
          "name": "stderr"
        },
        {
          "output_type": "stream",
          "text": [
            "Padding with 3.3359637188208615 seconds of silence\n"
          ],
          "name": "stdout"
        },
        {
          "output_type": "stream",
          "text": [
            "/usr/local/lib/python3.7/dist-packages/librosa/core/audio.py:162: UserWarning: PySoundFile failed. Trying audioread instead.\n",
            "  warnings.warn(\"PySoundFile failed. Trying audioread instead.\")\n"
          ],
          "name": "stderr"
        },
        {
          "output_type": "stream",
          "text": [
            "Padding with 2.735963718820862 seconds of silence\n"
          ],
          "name": "stdout"
        },
        {
          "output_type": "stream",
          "text": [
            "/usr/local/lib/python3.7/dist-packages/librosa/core/audio.py:162: UserWarning: PySoundFile failed. Trying audioread instead.\n",
            "  warnings.warn(\"PySoundFile failed. Trying audioread instead.\")\n"
          ],
          "name": "stderr"
        },
        {
          "output_type": "stream",
          "text": [
            "Padding with 2.9039909297052153 seconds of silence\n"
          ],
          "name": "stdout"
        },
        {
          "output_type": "stream",
          "text": [
            "/usr/local/lib/python3.7/dist-packages/librosa/core/audio.py:162: UserWarning: PySoundFile failed. Trying audioread instead.\n",
            "  warnings.warn(\"PySoundFile failed. Trying audioread instead.\")\n"
          ],
          "name": "stderr"
        },
        {
          "output_type": "stream",
          "text": [
            "Padding with 3.7439909297052156 seconds of silence\n"
          ],
          "name": "stdout"
        },
        {
          "output_type": "stream",
          "text": [
            "/usr/local/lib/python3.7/dist-packages/librosa/core/audio.py:162: UserWarning: PySoundFile failed. Trying audioread instead.\n",
            "  warnings.warn(\"PySoundFile failed. Trying audioread instead.\")\n"
          ],
          "name": "stderr"
        },
        {
          "output_type": "stream",
          "text": [
            "Padding with 4.175963718820862 seconds of silence\n"
          ],
          "name": "stdout"
        },
        {
          "output_type": "stream",
          "text": [
            "/usr/local/lib/python3.7/dist-packages/librosa/core/audio.py:162: UserWarning: PySoundFile failed. Trying audioread instead.\n",
            "  warnings.warn(\"PySoundFile failed. Trying audioread instead.\")\n"
          ],
          "name": "stderr"
        },
        {
          "output_type": "stream",
          "text": [
            "Padding with 3.215963718820862 seconds of silence\n"
          ],
          "name": "stdout"
        },
        {
          "output_type": "stream",
          "text": [
            "/usr/local/lib/python3.7/dist-packages/librosa/core/audio.py:162: UserWarning: PySoundFile failed. Trying audioread instead.\n",
            "  warnings.warn(\"PySoundFile failed. Trying audioread instead.\")\n"
          ],
          "name": "stderr"
        },
        {
          "output_type": "stream",
          "text": [
            "Padding with 3.695963718820862 seconds of silence\n"
          ],
          "name": "stdout"
        },
        {
          "output_type": "stream",
          "text": [
            "/usr/local/lib/python3.7/dist-packages/librosa/core/audio.py:162: UserWarning: PySoundFile failed. Trying audioread instead.\n",
            "  warnings.warn(\"PySoundFile failed. Trying audioread instead.\")\n"
          ],
          "name": "stderr"
        },
        {
          "output_type": "stream",
          "text": [
            "Padding with 4.343990929705216 seconds of silence\n"
          ],
          "name": "stdout"
        },
        {
          "output_type": "stream",
          "text": [
            "/usr/local/lib/python3.7/dist-packages/librosa/core/audio.py:162: UserWarning: PySoundFile failed. Trying audioread instead.\n",
            "  warnings.warn(\"PySoundFile failed. Trying audioread instead.\")\n"
          ],
          "name": "stderr"
        },
        {
          "output_type": "stream",
          "text": [
            "Padding with 3.9359637188208616 seconds of silence\n"
          ],
          "name": "stdout"
        },
        {
          "output_type": "stream",
          "text": [
            "/usr/local/lib/python3.7/dist-packages/librosa/core/audio.py:162: UserWarning: PySoundFile failed. Trying audioread instead.\n",
            "  warnings.warn(\"PySoundFile failed. Trying audioread instead.\")\n"
          ],
          "name": "stderr"
        },
        {
          "output_type": "stream",
          "text": [
            "Padding with 3.215963718820862 seconds of silence\n"
          ],
          "name": "stdout"
        },
        {
          "output_type": "stream",
          "text": [
            "/usr/local/lib/python3.7/dist-packages/librosa/core/audio.py:162: UserWarning: PySoundFile failed. Trying audioread instead.\n",
            "  warnings.warn(\"PySoundFile failed. Trying audioread instead.\")\n"
          ],
          "name": "stderr"
        },
        {
          "output_type": "stream",
          "text": [
            "Padding with 3.9359637188208616 seconds of silence\n"
          ],
          "name": "stdout"
        },
        {
          "output_type": "stream",
          "text": [
            "/usr/local/lib/python3.7/dist-packages/librosa/core/audio.py:162: UserWarning: PySoundFile failed. Trying audioread instead.\n",
            "  warnings.warn(\"PySoundFile failed. Trying audioread instead.\")\n"
          ],
          "name": "stderr"
        },
        {
          "output_type": "stream",
          "text": [
            "Padding with 3.7439909297052156 seconds of silence\n"
          ],
          "name": "stdout"
        },
        {
          "output_type": "stream",
          "text": [
            "/usr/local/lib/python3.7/dist-packages/librosa/core/audio.py:162: UserWarning: PySoundFile failed. Trying audioread instead.\n",
            "  warnings.warn(\"PySoundFile failed. Trying audioread instead.\")\n"
          ],
          "name": "stderr"
        },
        {
          "output_type": "stream",
          "text": [
            "Padding with 4.175963718820862 seconds of silence\n"
          ],
          "name": "stdout"
        },
        {
          "output_type": "stream",
          "text": [
            "/usr/local/lib/python3.7/dist-packages/librosa/core/audio.py:162: UserWarning: PySoundFile failed. Trying audioread instead.\n",
            "  warnings.warn(\"PySoundFile failed. Trying audioread instead.\")\n"
          ],
          "name": "stderr"
        },
        {
          "output_type": "stream",
          "text": [
            "Padding with 2.8559637188208615 seconds of silence\n"
          ],
          "name": "stdout"
        },
        {
          "output_type": "stream",
          "text": [
            "/usr/local/lib/python3.7/dist-packages/librosa/core/audio.py:162: UserWarning: PySoundFile failed. Trying audioread instead.\n",
            "  warnings.warn(\"PySoundFile failed. Trying audioread instead.\")\n"
          ],
          "name": "stderr"
        },
        {
          "output_type": "stream",
          "text": [
            "Padding with 3.9359637188208616 seconds of silence\n"
          ],
          "name": "stdout"
        },
        {
          "output_type": "stream",
          "text": [
            "/usr/local/lib/python3.7/dist-packages/librosa/core/audio.py:162: UserWarning: PySoundFile failed. Trying audioread instead.\n",
            "  warnings.warn(\"PySoundFile failed. Trying audioread instead.\")\n"
          ],
          "name": "stderr"
        },
        {
          "output_type": "stream",
          "text": [
            "Padding with 3.695963718820862 seconds of silence\n"
          ],
          "name": "stdout"
        },
        {
          "output_type": "stream",
          "text": [
            "/usr/local/lib/python3.7/dist-packages/librosa/core/audio.py:162: UserWarning: PySoundFile failed. Trying audioread instead.\n",
            "  warnings.warn(\"PySoundFile failed. Trying audioread instead.\")\n"
          ],
          "name": "stderr"
        },
        {
          "output_type": "stream",
          "text": [
            "Padding with 3.5759637188208617 seconds of silence\n"
          ],
          "name": "stdout"
        },
        {
          "output_type": "stream",
          "text": [
            "/usr/local/lib/python3.7/dist-packages/librosa/core/audio.py:162: UserWarning: PySoundFile failed. Trying audioread instead.\n",
            "  warnings.warn(\"PySoundFile failed. Trying audioread instead.\")\n"
          ],
          "name": "stderr"
        },
        {
          "output_type": "stream",
          "text": [
            "Padding with 4.055963718820862 seconds of silence\n"
          ],
          "name": "stdout"
        },
        {
          "output_type": "stream",
          "text": [
            "/usr/local/lib/python3.7/dist-packages/librosa/core/audio.py:162: UserWarning: PySoundFile failed. Trying audioread instead.\n",
            "  warnings.warn(\"PySoundFile failed. Trying audioread instead.\")\n"
          ],
          "name": "stderr"
        },
        {
          "output_type": "stream",
          "text": [
            "Padding with 3.5759637188208617 seconds of silence\n"
          ],
          "name": "stdout"
        },
        {
          "output_type": "stream",
          "text": [
            "/usr/local/lib/python3.7/dist-packages/librosa/core/audio.py:162: UserWarning: PySoundFile failed. Trying audioread instead.\n",
            "  warnings.warn(\"PySoundFile failed. Trying audioread instead.\")\n"
          ],
          "name": "stderr"
        },
        {
          "output_type": "stream",
          "text": [
            "Padding with 3.4559637188208616 seconds of silence\n"
          ],
          "name": "stdout"
        },
        {
          "output_type": "stream",
          "text": [
            "/usr/local/lib/python3.7/dist-packages/librosa/core/audio.py:162: UserWarning: PySoundFile failed. Trying audioread instead.\n",
            "  warnings.warn(\"PySoundFile failed. Trying audioread instead.\")\n"
          ],
          "name": "stderr"
        },
        {
          "output_type": "stream",
          "text": [
            "Padding with 2.4239909297052153 seconds of silence\n"
          ],
          "name": "stdout"
        },
        {
          "output_type": "stream",
          "text": [
            "/usr/local/lib/python3.7/dist-packages/librosa/core/audio.py:162: UserWarning: PySoundFile failed. Trying audioread instead.\n",
            "  warnings.warn(\"PySoundFile failed. Trying audioread instead.\")\n"
          ],
          "name": "stderr"
        },
        {
          "output_type": "stream",
          "text": [
            "Padding with 3.3359637188208615 seconds of silence\n"
          ],
          "name": "stdout"
        },
        {
          "output_type": "stream",
          "text": [
            "/usr/local/lib/python3.7/dist-packages/librosa/core/audio.py:162: UserWarning: PySoundFile failed. Trying audioread instead.\n",
            "  warnings.warn(\"PySoundFile failed. Trying audioread instead.\")\n"
          ],
          "name": "stderr"
        },
        {
          "output_type": "stream",
          "text": [
            "Padding with 3.1439909297052155 seconds of silence\n"
          ],
          "name": "stdout"
        },
        {
          "output_type": "stream",
          "text": [
            "/usr/local/lib/python3.7/dist-packages/librosa/core/audio.py:162: UserWarning: PySoundFile failed. Trying audioread instead.\n",
            "  warnings.warn(\"PySoundFile failed. Trying audioread instead.\")\n"
          ],
          "name": "stderr"
        },
        {
          "output_type": "stream",
          "text": [
            "Padding with 3.5759637188208617 seconds of silence\n"
          ],
          "name": "stdout"
        },
        {
          "output_type": "stream",
          "text": [
            "/usr/local/lib/python3.7/dist-packages/librosa/core/audio.py:162: UserWarning: PySoundFile failed. Trying audioread instead.\n",
            "  warnings.warn(\"PySoundFile failed. Trying audioread instead.\")\n"
          ],
          "name": "stderr"
        },
        {
          "output_type": "stream",
          "text": [
            "Padding with 3.9839909297052154 seconds of silence\n"
          ],
          "name": "stdout"
        },
        {
          "output_type": "stream",
          "text": [
            "/usr/local/lib/python3.7/dist-packages/librosa/core/audio.py:162: UserWarning: PySoundFile failed. Trying audioread instead.\n",
            "  warnings.warn(\"PySoundFile failed. Trying audioread instead.\")\n"
          ],
          "name": "stderr"
        },
        {
          "output_type": "stream",
          "text": [
            "Padding with 4.1039909297052155 seconds of silence\n"
          ],
          "name": "stdout"
        },
        {
          "output_type": "stream",
          "text": [
            "/usr/local/lib/python3.7/dist-packages/librosa/core/audio.py:162: UserWarning: PySoundFile failed. Trying audioread instead.\n",
            "  warnings.warn(\"PySoundFile failed. Trying audioread instead.\")\n"
          ],
          "name": "stderr"
        },
        {
          "output_type": "stream",
          "text": [
            "Padding with 3.215963718820862 seconds of silence\n"
          ],
          "name": "stdout"
        },
        {
          "output_type": "stream",
          "text": [
            "/usr/local/lib/python3.7/dist-packages/librosa/core/audio.py:162: UserWarning: PySoundFile failed. Trying audioread instead.\n",
            "  warnings.warn(\"PySoundFile failed. Trying audioread instead.\")\n"
          ],
          "name": "stderr"
        },
        {
          "output_type": "stream",
          "text": [
            "Padding with 2.9039909297052153 seconds of silence\n"
          ],
          "name": "stdout"
        },
        {
          "output_type": "stream",
          "text": [
            "/usr/local/lib/python3.7/dist-packages/librosa/core/audio.py:162: UserWarning: PySoundFile failed. Trying audioread instead.\n",
            "  warnings.warn(\"PySoundFile failed. Trying audioread instead.\")\n"
          ],
          "name": "stderr"
        },
        {
          "output_type": "stream",
          "text": [
            "Padding with 3.6239909297052155 seconds of silence\n"
          ],
          "name": "stdout"
        },
        {
          "output_type": "stream",
          "text": [
            "/usr/local/lib/python3.7/dist-packages/librosa/core/audio.py:162: UserWarning: PySoundFile failed. Trying audioread instead.\n",
            "  warnings.warn(\"PySoundFile failed. Trying audioread instead.\")\n"
          ],
          "name": "stderr"
        },
        {
          "output_type": "stream",
          "text": [
            "Padding with 3.3839909297052153 seconds of silence\n"
          ],
          "name": "stdout"
        },
        {
          "output_type": "stream",
          "text": [
            "/usr/local/lib/python3.7/dist-packages/librosa/core/audio.py:162: UserWarning: PySoundFile failed. Trying audioread instead.\n",
            "  warnings.warn(\"PySoundFile failed. Trying audioread instead.\")\n"
          ],
          "name": "stderr"
        },
        {
          "output_type": "stream",
          "text": [
            "Padding with 3.5039909297052154 seconds of silence\n"
          ],
          "name": "stdout"
        },
        {
          "output_type": "stream",
          "text": [
            "/usr/local/lib/python3.7/dist-packages/librosa/core/audio.py:162: UserWarning: PySoundFile failed. Trying audioread instead.\n",
            "  warnings.warn(\"PySoundFile failed. Trying audioread instead.\")\n"
          ],
          "name": "stderr"
        },
        {
          "output_type": "stream",
          "text": [
            "Padding with 4.1039909297052155 seconds of silence\n"
          ],
          "name": "stdout"
        },
        {
          "output_type": "stream",
          "text": [
            "/usr/local/lib/python3.7/dist-packages/librosa/core/audio.py:162: UserWarning: PySoundFile failed. Trying audioread instead.\n",
            "  warnings.warn(\"PySoundFile failed. Trying audioread instead.\")\n"
          ],
          "name": "stderr"
        },
        {
          "output_type": "stream",
          "text": [
            "Padding with 3.215963718820862 seconds of silence\n"
          ],
          "name": "stdout"
        },
        {
          "output_type": "stream",
          "text": [
            "/usr/local/lib/python3.7/dist-packages/librosa/core/audio.py:162: UserWarning: PySoundFile failed. Trying audioread instead.\n",
            "  warnings.warn(\"PySoundFile failed. Trying audioread instead.\")\n"
          ],
          "name": "stderr"
        },
        {
          "output_type": "stream",
          "text": [
            "Padding with 4.343990929705216 seconds of silence\n"
          ],
          "name": "stdout"
        },
        {
          "output_type": "stream",
          "text": [
            "/usr/local/lib/python3.7/dist-packages/librosa/core/audio.py:162: UserWarning: PySoundFile failed. Trying audioread instead.\n",
            "  warnings.warn(\"PySoundFile failed. Trying audioread instead.\")\n"
          ],
          "name": "stderr"
        },
        {
          "output_type": "stream",
          "text": [
            "Padding with 4.223990929705216 seconds of silence\n"
          ],
          "name": "stdout"
        },
        {
          "output_type": "stream",
          "text": [
            "/usr/local/lib/python3.7/dist-packages/librosa/core/audio.py:162: UserWarning: PySoundFile failed. Trying audioread instead.\n",
            "  warnings.warn(\"PySoundFile failed. Trying audioread instead.\")\n"
          ],
          "name": "stderr"
        },
        {
          "output_type": "stream",
          "text": [
            "Padding with 3.5039909297052154 seconds of silence\n"
          ],
          "name": "stdout"
        },
        {
          "output_type": "stream",
          "text": [
            "/usr/local/lib/python3.7/dist-packages/librosa/core/audio.py:162: UserWarning: PySoundFile failed. Trying audioread instead.\n",
            "  warnings.warn(\"PySoundFile failed. Trying audioread instead.\")\n"
          ],
          "name": "stderr"
        },
        {
          "output_type": "stream",
          "text": [
            "Padding with 4.415963718820862 seconds of silence\n"
          ],
          "name": "stdout"
        }
      ]
    },
    {
      "cell_type": "code",
      "metadata": {
        "id": "Vk579NXKPJqU"
      },
      "source": [
        "maxx = []"
      ],
      "execution_count": null,
      "outputs": []
    },
    {
      "cell_type": "code",
      "metadata": {
        "id": "KcR2FBaLPN4p"
      },
      "source": [
        "for i in range(len(data[\"targets\"])):\n",
        "  maxx.append(data[\"targets\"][1].shape[1])"
      ],
      "execution_count": null,
      "outputs": []
    },
    {
      "cell_type": "code",
      "metadata": {
        "id": "VDBVEsaGQKnb"
      },
      "source": [
        "mm = []"
      ],
      "execution_count": null,
      "outputs": []
    },
    {
      "cell_type": "code",
      "metadata": {
        "id": "T7nfJkW8sa6K"
      },
      "source": [
        "for i in range(len(data[\"targets\"])):\n",
        "\n",
        "  y =tf.keras.preprocessing.sequence.pad_sequences(data[\"targets\"][i], maxlen=29 ,  padding='post')\n",
        "\n",
        "  mm.append(y)"
      ],
      "execution_count": null,
      "outputs": []
    },
    {
      "cell_type": "code",
      "metadata": {
        "colab": {
          "base_uri": "https://localhost:8080/"
        },
        "id": "LyT1YEck63_Q",
        "outputId": "855ac33b-0118-4d91-c790-66dfed6ea95d"
      },
      "source": [
        "mm[:2]"
      ],
      "execution_count": null,
      "outputs": [
        {
          "output_type": "execute_result",
          "data": {
            "text/plain": [
              "[array([[19,  7, 18, 15,  9, 17,  7,  0,  0,  0,  0,  0,  0,  0,  0,  0,\n",
              "          0,  0,  0,  0,  0,  0,  0,  0,  0,  0,  0,  0,  0]], dtype=int32),\n",
              " array([[11,  9, 21, 18, 11,  0, 11, 18, 11, 19, 11, 20, 26,  7, 15, 24,\n",
              "         11,  0, 22, 15, 17, 15, 20, 11,  0, 20, 21, 24, 10]], dtype=int32)]"
            ]
          },
          "metadata": {
            "tags": []
          },
          "execution_count": 54
        }
      ]
    },
    {
      "cell_type": "code",
      "metadata": {
        "colab": {
          "base_uri": "https://localhost:8080/"
        },
        "id": "k96SQv-v7Fjd",
        "outputId": "c319cfed-cfa5-4a11-a9bc-703beb6755dd"
      },
      "source": [
        "Y.shape"
      ],
      "execution_count": null,
      "outputs": [
        {
          "output_type": "execute_result",
          "data": {
            "text/plain": [
              "(1, 29)"
            ]
          },
          "metadata": {
            "tags": []
          },
          "execution_count": 34
        }
      ]
    },
    {
      "cell_type": "code",
      "metadata": {
        "colab": {
          "base_uri": "https://localhost:8080/"
        },
        "id": "9Jp7zFc6kkRI",
        "outputId": "86494e68-6f7b-4ebd-954c-df3f0b679bf3"
      },
      "source": [
        "data[\"inputs\"][0].shape"
      ],
      "execution_count": null,
      "outputs": [
        {
          "output_type": "execute_result",
          "data": {
            "text/plain": [
              "TensorShape([1, 597, 129])"
            ]
          },
          "metadata": {
            "tags": []
          },
          "execution_count": 45
        }
      ]
    },
    {
      "cell_type": "code",
      "metadata": {
        "colab": {
          "base_uri": "https://localhost:8080/"
        },
        "id": "wg__g8CemjQq",
        "outputId": "009527df-76f5-4fd7-b86e-e46ae4752acc"
      },
      "source": [
        "data[\"targets\"][3].shape"
      ],
      "execution_count": null,
      "outputs": [
        {
          "output_type": "execute_result",
          "data": {
            "text/plain": [
              "TensorShape([1, 15])"
            ]
          },
          "metadata": {
            "tags": []
          },
          "execution_count": 47
        }
      ]
    },
    {
      "cell_type": "code",
      "metadata": {
        "colab": {
          "base_uri": "https://localhost:8080/",
          "height": 340
        },
        "id": "0WYOeosojWgL",
        "outputId": "ec9ca40d-d631-4313-f4fb-8ae00b208e64"
      },
      "source": [
        "dataset = tf.data.Dataset.from_generator((data[\"inputs\"][:400], mm[:400]) , output_types=tf.float32)\n",
        "dataset = dataset.batch(4, drop_remainder=True) "
      ],
      "execution_count": null,
      "outputs": [
        {
          "output_type": "error",
          "ename": "TypeError",
          "evalue": "ignored",
          "traceback": [
            "\u001b[0;31m---------------------------------------------------------------------------\u001b[0m",
            "\u001b[0;31mTypeError\u001b[0m                                 Traceback (most recent call last)",
            "\u001b[0;32m<ipython-input-29-31cfbcd4f7d2>\u001b[0m in \u001b[0;36m<module>\u001b[0;34m()\u001b[0m\n\u001b[0;32m----> 1\u001b[0;31m \u001b[0mdataset\u001b[0m \u001b[0;34m=\u001b[0m \u001b[0mtf\u001b[0m\u001b[0;34m.\u001b[0m\u001b[0mdata\u001b[0m\u001b[0;34m.\u001b[0m\u001b[0mDataset\u001b[0m\u001b[0;34m.\u001b[0m\u001b[0mfrom_generator\u001b[0m\u001b[0;34m(\u001b[0m\u001b[0;34m(\u001b[0m\u001b[0mdata\u001b[0m\u001b[0;34m[\u001b[0m\u001b[0;34m\"inputs\"\u001b[0m\u001b[0;34m]\u001b[0m\u001b[0;34m[\u001b[0m\u001b[0;34m:\u001b[0m\u001b[0;36m400\u001b[0m\u001b[0;34m]\u001b[0m\u001b[0;34m,\u001b[0m \u001b[0mmm\u001b[0m\u001b[0;34m[\u001b[0m\u001b[0;34m:\u001b[0m\u001b[0;36m400\u001b[0m\u001b[0;34m]\u001b[0m\u001b[0;34m)\u001b[0m \u001b[0;34m,\u001b[0m \u001b[0moutput_types\u001b[0m\u001b[0;34m=\u001b[0m\u001b[0mtf\u001b[0m\u001b[0;34m.\u001b[0m\u001b[0mfloat32\u001b[0m\u001b[0;34m)\u001b[0m\u001b[0;34m\u001b[0m\u001b[0;34m\u001b[0m\u001b[0m\n\u001b[0m\u001b[1;32m      2\u001b[0m \u001b[0mdataset\u001b[0m \u001b[0;34m=\u001b[0m \u001b[0mdataset\u001b[0m\u001b[0;34m.\u001b[0m\u001b[0mbatch\u001b[0m\u001b[0;34m(\u001b[0m\u001b[0;36m4\u001b[0m\u001b[0;34m,\u001b[0m \u001b[0mdrop_remainder\u001b[0m\u001b[0;34m=\u001b[0m\u001b[0;32mTrue\u001b[0m\u001b[0;34m)\u001b[0m\u001b[0;34m\u001b[0m\u001b[0;34m\u001b[0m\u001b[0m\n",
            "\u001b[0;32m/usr/local/lib/python3.7/dist-packages/tensorflow/python/util/deprecation.py\u001b[0m in \u001b[0;36mnew_func\u001b[0;34m(*args, **kwargs)\u001b[0m\n\u001b[1;32m    536\u001b[0m                 \u001b[0;34m'in a future version'\u001b[0m \u001b[0;32mif\u001b[0m \u001b[0mdate\u001b[0m \u001b[0;32mis\u001b[0m \u001b[0;32mNone\u001b[0m \u001b[0;32melse\u001b[0m \u001b[0;34m(\u001b[0m\u001b[0;34m'after %s'\u001b[0m \u001b[0;34m%\u001b[0m \u001b[0mdate\u001b[0m\u001b[0;34m)\u001b[0m\u001b[0;34m,\u001b[0m\u001b[0;34m\u001b[0m\u001b[0;34m\u001b[0m\u001b[0m\n\u001b[1;32m    537\u001b[0m                 instructions)\n\u001b[0;32m--> 538\u001b[0;31m       \u001b[0;32mreturn\u001b[0m \u001b[0mfunc\u001b[0m\u001b[0;34m(\u001b[0m\u001b[0;34m*\u001b[0m\u001b[0margs\u001b[0m\u001b[0;34m,\u001b[0m \u001b[0;34m**\u001b[0m\u001b[0mkwargs\u001b[0m\u001b[0;34m)\u001b[0m\u001b[0;34m\u001b[0m\u001b[0;34m\u001b[0m\u001b[0m\n\u001b[0m\u001b[1;32m    539\u001b[0m \u001b[0;34m\u001b[0m\u001b[0m\n\u001b[1;32m    540\u001b[0m     doc = _add_deprecated_arg_notice_to_docstring(\n",
            "\u001b[0;32m/usr/local/lib/python3.7/dist-packages/tensorflow/python/data/ops/dataset_ops.py\u001b[0m in \u001b[0;36mfrom_generator\u001b[0;34m(generator, output_types, output_shapes, args, output_signature)\u001b[0m\n\u001b[1;32m    804\u001b[0m     \"\"\"\n\u001b[1;32m    805\u001b[0m     \u001b[0;32mif\u001b[0m \u001b[0;32mnot\u001b[0m \u001b[0mcallable\u001b[0m\u001b[0;34m(\u001b[0m\u001b[0mgenerator\u001b[0m\u001b[0;34m)\u001b[0m\u001b[0;34m:\u001b[0m\u001b[0;34m\u001b[0m\u001b[0;34m\u001b[0m\u001b[0m\n\u001b[0;32m--> 806\u001b[0;31m       \u001b[0;32mraise\u001b[0m \u001b[0mTypeError\u001b[0m\u001b[0;34m(\u001b[0m\u001b[0;34m\"`generator` must be callable.\"\u001b[0m\u001b[0;34m)\u001b[0m\u001b[0;34m\u001b[0m\u001b[0;34m\u001b[0m\u001b[0m\n\u001b[0m\u001b[1;32m    807\u001b[0m \u001b[0;34m\u001b[0m\u001b[0m\n\u001b[1;32m    808\u001b[0m     \u001b[0;32mif\u001b[0m \u001b[0moutput_signature\u001b[0m \u001b[0;32mis\u001b[0m \u001b[0;32mnot\u001b[0m \u001b[0;32mNone\u001b[0m\u001b[0;34m:\u001b[0m\u001b[0;34m\u001b[0m\u001b[0;34m\u001b[0m\u001b[0m\n",
            "\u001b[0;31mTypeError\u001b[0m: `generator` must be callable."
          ]
        }
      ]
    },
    {
      "cell_type": "code",
      "metadata": {
        "id": "N_TsB16VjWYI",
        "colab": {
          "base_uri": "https://localhost:8080/"
        },
        "outputId": "b08e4d7c-18b5-4720-df1d-ef06bd905172"
      },
      "source": [
        "\n",
        "for step ,(x,y) in enumerate(dataset):\n",
        "  print(x)\n",
        "  break"
      ],
      "execution_count": null,
      "outputs": [
        {
          "output_type": "stream",
          "text": [
            "tf.Tensor(\n",
            "[[[21 27  7 ...  0  0  0]]\n",
            "\n",
            " [[25 26  7 ...  0  0  0]]\n",
            "\n",
            " [[13  7 24 ...  0  0  0]]\n",
            "\n",
            " ...\n",
            "\n",
            " [[19  7 20 ...  0  0  0]]\n",
            "\n",
            " [[25 26  7 ...  0  0  0]]\n",
            "\n",
            " [[ 9  7 19 ...  0  0  0]]], shape=(64, 1, 29), dtype=int32)\n"
          ],
          "name": "stdout"
        }
      ]
    },
    {
      "cell_type": "code",
      "metadata": {
        "id": "ER3nxuBWjWNx",
        "colab": {
          "base_uri": "https://localhost:8080/"
        },
        "outputId": "fe3794f5-77d1-4db6-8cd5-50c9ad74c850"
      },
      "source": [
        "data[\"targets\"][0]"
      ],
      "execution_count": null,
      "outputs": [
        {
          "output_type": "execute_result",
          "data": {
            "text/plain": [
              "<tf.Tensor: shape=(1, 7), dtype=int32, numpy=array([[19,  7, 18, 15,  9, 17,  7]], dtype=int32)>"
            ]
          },
          "metadata": {
            "tags": []
          },
          "execution_count": 79
        }
      ]
    },
    {
      "cell_type": "code",
      "metadata": {
        "colab": {
          "base_uri": "https://localhost:8080/"
        },
        "id": "Vtx5L6ccG5PA",
        "outputId": "97a91cd5-fdaf-4c0a-f5c0-5bed79a04606"
      },
      "source": [
        "model =  ASR(256 , 5,5,'valid' ,256,42)\n",
        "\n",
        "\n",
        "\n",
        "optimizer =  tf.keras.optimizers.Adam()\n",
        "\n",
        "\n",
        "for step in range(10):\n",
        "  with tf.GradientTape() as tape :\n",
        "    logits = model(X)\n",
        "    labels =y\n",
        "    logits_length = [logits.shape[1]*logits.shape[0]]\n",
        "    labels_length = [labels.shape[1]*labels.shape[0]]\n",
        "    loss = compute_ctc_loss(logits , labels , logit_length = logits_length , label_length=labels_length)\n",
        "    loss =  tf.reduce_mean(loss)\n",
        "  grads = tape.gradient(loss , model.trainable_variables)\n",
        "  optimizer.apply_gradients(zip(grads , model.trainable_variables))\n",
        "\n",
        "  print('Epochs {}, Loss : {}'.format(step , loss))\n",
        "  \n"
      ],
      "execution_count": null,
      "outputs": [
        {
          "output_type": "stream",
          "text": [
            "Epochs 0, Loss : nan\n",
            "Epochs 1, Loss : nan\n",
            "Epochs 2, Loss : nan\n",
            "Epochs 3, Loss : nan\n",
            "Epochs 4, Loss : nan\n",
            "Epochs 5, Loss : nan\n",
            "Epochs 6, Loss : nan\n",
            "Epochs 7, Loss : nan\n",
            "Epochs 8, Loss : nan\n",
            "Epochs 9, Loss : nan\n"
          ],
          "name": "stdout"
        }
      ]
    },
    {
      "cell_type": "code",
      "metadata": {
        "colab": {
          "base_uri": "https://localhost:8080/"
        },
        "id": "Rnrn5VUz7Xvg",
        "outputId": "4b997833-231e-4bf0-cb2a-39cb280c5da7"
      },
      "source": [
        "print(\"Hello\")"
      ],
      "execution_count": null,
      "outputs": [
        {
          "output_type": "stream",
          "text": [
            "Hello\n"
          ],
          "name": "stdout"
        }
      ]
    },
    {
      "cell_type": "code",
      "metadata": {
        "colab": {
          "base_uri": "https://localhost:8080/"
        },
        "id": "eEPwJRsPLApZ",
        "outputId": "677531b6-ea80-4f3a-a454-0653d3194b0d"
      },
      "source": [
        "#Getting the ctc output look\n",
        "\n",
        "ctc_output = model(X)\n",
        "ctc_output = tf.nn.log_softmax(ctc_output) \n",
        "#greedy decoding \n",
        "#space_token = ' '\n",
        "#end_token='>'\n",
        "#blank_token='%'\n",
        "\n",
        "alphabet = get_alphabet()\n",
        "output_text = ''\n",
        "\n",
        "for timestep in ctc_output[0]:\n",
        "  output_text +=alphabet[tf.math.argmax(timestep)] \n",
        "\n",
        "\n",
        "print(output_text)"
      ],
      "execution_count": null,
      "outputs": [
        {
          "output_type": "stream",
          "text": [
            "                                                                                                                       \n"
          ],
          "name": "stdout"
        }
      ]
    },
    {
      "cell_type": "code",
      "metadata": {
        "id": "YtiNb_qKhqTn"
      },
      "source": [
        "#Getting the ctc output look\n",
        "def predict(file):\n",
        "  ctc_output = model(file)\n",
        "  ctc_output = tf.nn.log_softmax(ctc_output) \n",
        "#greedy decoding \n",
        "\n",
        "\n",
        " # space_token = ' '\n",
        "  #end_token='>'\n",
        "  #blank_token='%'\n",
        "  alphabet = get_alphabet()\n",
        "  output_text = ''\n",
        "\n",
        "  for timestep in ctc_output[0]:\n",
        "\n",
        "    output_text +=alphabet[tf.math.argmax(timestep)] \n",
        "\n",
        "  return output_text"
      ],
      "execution_count": null,
      "outputs": []
    },
    {
      "cell_type": "code",
      "metadata": {
        "id": "lKdvc4EBhqOL"
      },
      "source": [
        "train_path = os.path.join('/content/drive/MyDrive/ASR/train/')"
      ],
      "execution_count": null,
      "outputs": []
    },
    {
      "cell_type": "code",
      "metadata": {
        "id": "ivwZk_dt-XbE"
      },
      "source": [
        "track = train_path+os.listdir(train_path)[1]"
      ],
      "execution_count": null,
      "outputs": []
    },
    {
      "cell_type": "code",
      "metadata": {
        "colab": {
          "base_uri": "https://localhost:8080/",
          "height": 75
        },
        "id": "TCkYhTlIXDHq",
        "outputId": "5b67d032-5e6e-40a7-c00a-e73550018979"
      },
      "source": [
        "Audio(track)"
      ],
      "execution_count": null,
      "outputs": [
        {
          "output_type": "execute_result",
          "data": {
            "text/html": [
              "\n",
              "                <audio controls=\"controls\" >\n",
              "                    <source src=\"data:audio/mpeg;base64,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\" type=\"audio/mpeg\" />\n",
              "                    Your browser does not support the audio element.\n",
              "                </audio>\n",
              "              "
            ],
            "text/plain": [
              "<IPython.lib.display.Audio object>"
            ]
          },
          "metadata": {
            "tags": []
          },
          "execution_count": 34
        }
      ]
    },
    {
      "cell_type": "code",
      "metadata": {
        "id": "SpOaQ-hpXG2S"
      },
      "source": [
        "def preprocessing(file):\n",
        "\n",
        "  X= generate_input_from_audio_file(file)\n",
        "  return X"
      ],
      "execution_count": null,
      "outputs": []
    },
    {
      "cell_type": "code",
      "metadata": {
        "id": "Y651YSG-jDO_",
        "colab": {
          "base_uri": "https://localhost:8080/"
        },
        "outputId": "4d198091-ca45-4397-cd75-f953cbbea801"
      },
      "source": [
        "XX= preprocessing(track)"
      ],
      "execution_count": null,
      "outputs": [
        {
          "output_type": "stream",
          "text": [
            "/usr/local/lib/python3.7/dist-packages/librosa/core/audio.py:162: UserWarning: PySoundFile failed. Trying audioread instead.\n",
            "  warnings.warn(\"PySoundFile failed. Trying audioread instead.\")\n"
          ],
          "name": "stderr"
        }
      ]
    },
    {
      "cell_type": "code",
      "metadata": {
        "id": "FNvtJrLejIX0",
        "colab": {
          "base_uri": "https://localhost:8080/",
          "height": 35
        },
        "outputId": "b7d49e6c-7f7b-44ad-e7a6-ced1daf0f0e8"
      },
      "source": [
        "predict(XX)"
      ],
      "execution_count": null,
      "outputs": [
        {
          "output_type": "execute_result",
          "data": {
            "application/vnd.google.colaboratory.intrinsic+json": {
              "type": "string"
            },
            "text/plain": [
              "'ca\"\"m\"\"\"\" \"\"\"\"\"\"\"\"\"\"\"\"\"\"\"\"\"\"\"\"\"\"\"\"\"\"\"\"\"\"\"\"\"\"\"\"\"\"\"\"\"\"\"\"\"a\"\"\"\"'"
            ]
          },
          "metadata": {
            "tags": []
          },
          "execution_count": 37
        }
      ]
    },
    {
      "cell_type": "code",
      "metadata": {
        "id": "H0aIP18ohZQu"
      },
      "source": [
        "testa=[]"
      ],
      "execution_count": null,
      "outputs": []
    },
    {
      "cell_type": "code",
      "metadata": {
        "id": "gJsfT-ulGGAn"
      },
      "source": [
        "test = pd.read_csv('/content/drive/MyDrive/ASR/Test.csv')"
      ],
      "execution_count": null,
      "outputs": []
    },
    {
      "cell_type": "code",
      "metadata": {
        "colab": {
          "base_uri": "https://localhost:8080/",
          "height": 204
        },
        "id": "ewSJr9T1GF9d",
        "outputId": "c35d19bb-7423-47a4-e56f-fbcc704c3be3"
      },
      "source": [
        "test.head()"
      ],
      "execution_count": null,
      "outputs": [
        {
          "output_type": "execute_result",
          "data": {
            "text/html": [
              "<div>\n",
              "<style scoped>\n",
              "    .dataframe tbody tr th:only-of-type {\n",
              "        vertical-align: middle;\n",
              "    }\n",
              "\n",
              "    .dataframe tbody tr th {\n",
              "        vertical-align: top;\n",
              "    }\n",
              "\n",
              "    .dataframe thead th {\n",
              "        text-align: right;\n",
              "    }\n",
              "</style>\n",
              "<table border=\"1\" class=\"dataframe\">\n",
              "  <thead>\n",
              "    <tr style=\"text-align: right;\">\n",
              "      <th></th>\n",
              "      <th>ID</th>\n",
              "      <th>up_votes</th>\n",
              "      <th>down_votes</th>\n",
              "      <th>age</th>\n",
              "      <th>gender</th>\n",
              "    </tr>\n",
              "  </thead>\n",
              "  <tbody>\n",
              "    <tr>\n",
              "      <th>0</th>\n",
              "      <td>00416cff4f818d3dfd99c9178ff0e268e7575500c8baa5...</td>\n",
              "      <td>2</td>\n",
              "      <td>0</td>\n",
              "      <td>twenties</td>\n",
              "      <td>male</td>\n",
              "    </tr>\n",
              "    <tr>\n",
              "      <th>1</th>\n",
              "      <td>00891ba561e80e135f9d12b9fa1347f0a2560998f7ea16...</td>\n",
              "      <td>2</td>\n",
              "      <td>0</td>\n",
              "      <td>twenties</td>\n",
              "      <td>male</td>\n",
              "    </tr>\n",
              "    <tr>\n",
              "      <th>2</th>\n",
              "      <td>00a508027ed4edf0bd3db79f45f4ed6e1b89fba6482c10...</td>\n",
              "      <td>2</td>\n",
              "      <td>0</td>\n",
              "      <td>twenties</td>\n",
              "      <td>male</td>\n",
              "    </tr>\n",
              "    <tr>\n",
              "      <th>3</th>\n",
              "      <td>00ac13cd0d93e35c1ff672cc106ad94d1ea9b93fcf049a...</td>\n",
              "      <td>2</td>\n",
              "      <td>0</td>\n",
              "      <td>twenties</td>\n",
              "      <td>female</td>\n",
              "    </tr>\n",
              "    <tr>\n",
              "      <th>4</th>\n",
              "      <td>00c2d5baf4719bf01b990a8924e99bda043cd462147193...</td>\n",
              "      <td>2</td>\n",
              "      <td>0</td>\n",
              "      <td>twenties</td>\n",
              "      <td>male</td>\n",
              "    </tr>\n",
              "  </tbody>\n",
              "</table>\n",
              "</div>"
            ],
            "text/plain": [
              "                                                  ID  ...  gender\n",
              "0  00416cff4f818d3dfd99c9178ff0e268e7575500c8baa5...  ...    male\n",
              "1  00891ba561e80e135f9d12b9fa1347f0a2560998f7ea16...  ...    male\n",
              "2  00a508027ed4edf0bd3db79f45f4ed6e1b89fba6482c10...  ...    male\n",
              "3  00ac13cd0d93e35c1ff672cc106ad94d1ea9b93fcf049a...  ...  female\n",
              "4  00c2d5baf4719bf01b990a8924e99bda043cd462147193...  ...    male\n",
              "\n",
              "[5 rows x 5 columns]"
            ]
          },
          "metadata": {
            "tags": []
          },
          "execution_count": 40
        }
      ]
    },
    {
      "cell_type": "code",
      "metadata": {
        "id": "dyJCeESTGF5z"
      },
      "source": [
        "test_path = os.path.join('/content/drive/MyDrive/test/')"
      ],
      "execution_count": null,
      "outputs": []
    },
    {
      "cell_type": "code",
      "metadata": {
        "colab": {
          "base_uri": "https://localhost:8080/"
        },
        "id": "D5sq6VClGF2Q",
        "outputId": "5444d2e9-7911-4a1e-c264-082c68bfb42e"
      },
      "source": [
        "len(os.listdir(test_path))"
      ],
      "execution_count": null,
      "outputs": [
        {
          "output_type": "execute_result",
          "data": {
            "text/plain": [
              "1564"
            ]
          },
          "metadata": {
            "tags": []
          },
          "execution_count": 42
        }
      ]
    },
    {
      "cell_type": "code",
      "metadata": {
        "id": "UiuxUscaGFs2",
        "colab": {
          "base_uri": "https://localhost:8080/"
        },
        "outputId": "df3fc274-3cb7-4806-b82b-afc939c10fa9"
      },
      "source": [
        "len(test)"
      ],
      "execution_count": null,
      "outputs": [
        {
          "output_type": "execute_result",
          "data": {
            "text/plain": [
              "1590"
            ]
          },
          "metadata": {
            "tags": []
          },
          "execution_count": 43
        }
      ]
    },
    {
      "cell_type": "code",
      "metadata": {
        "colab": {
          "base_uri": "https://localhost:8080/"
        },
        "id": "LGcN7m5qXTE5",
        "outputId": "a97c9d02-0e09-44e9-aecd-c3afe23bb0ea"
      },
      "source": [
        "for i in range(1564):\n",
        "  file = test_path+os.listdir(test_path)[i]\n",
        "  X=preprocessing(file)\n",
        "  testa.append(predict(X))"
      ],
      "execution_count": null,
      "outputs": [
        {
          "output_type": "stream",
          "text": [
            "/usr/local/lib/python3.7/dist-packages/librosa/core/audio.py:162: UserWarning: PySoundFile failed. Trying audioread instead.\n",
            "  warnings.warn(\"PySoundFile failed. Trying audioread instead.\")\n",
            "/usr/local/lib/python3.7/dist-packages/librosa/core/audio.py:162: UserWarning: PySoundFile failed. Trying audioread instead.\n",
            "  warnings.warn(\"PySoundFile failed. Trying audioread instead.\")\n",
            "/usr/local/lib/python3.7/dist-packages/librosa/core/audio.py:162: UserWarning: PySoundFile failed. Trying audioread instead.\n",
            "  warnings.warn(\"PySoundFile failed. Trying audioread instead.\")\n",
            "/usr/local/lib/python3.7/dist-packages/librosa/core/audio.py:162: UserWarning: PySoundFile failed. Trying audioread instead.\n",
            "  warnings.warn(\"PySoundFile failed. Trying audioread instead.\")\n",
            "/usr/local/lib/python3.7/dist-packages/librosa/core/audio.py:162: UserWarning: PySoundFile failed. Trying audioread instead.\n",
            "  warnings.warn(\"PySoundFile failed. Trying audioread instead.\")\n",
            "/usr/local/lib/python3.7/dist-packages/librosa/core/audio.py:162: UserWarning: PySoundFile failed. Trying audioread instead.\n",
            "  warnings.warn(\"PySoundFile failed. Trying audioread instead.\")\n",
            "/usr/local/lib/python3.7/dist-packages/librosa/core/audio.py:162: UserWarning: PySoundFile failed. Trying audioread instead.\n",
            "  warnings.warn(\"PySoundFile failed. Trying audioread instead.\")\n",
            "/usr/local/lib/python3.7/dist-packages/librosa/core/audio.py:162: UserWarning: PySoundFile failed. Trying audioread instead.\n",
            "  warnings.warn(\"PySoundFile failed. Trying audioread instead.\")\n",
            "/usr/local/lib/python3.7/dist-packages/librosa/core/audio.py:162: UserWarning: PySoundFile failed. Trying audioread instead.\n",
            "  warnings.warn(\"PySoundFile failed. Trying audioread instead.\")\n",
            "/usr/local/lib/python3.7/dist-packages/librosa/core/audio.py:162: UserWarning: PySoundFile failed. Trying audioread instead.\n",
            "  warnings.warn(\"PySoundFile failed. Trying audioread instead.\")\n",
            "/usr/local/lib/python3.7/dist-packages/librosa/core/audio.py:162: UserWarning: PySoundFile failed. Trying audioread instead.\n",
            "  warnings.warn(\"PySoundFile failed. Trying audioread instead.\")\n",
            "/usr/local/lib/python3.7/dist-packages/librosa/core/audio.py:162: UserWarning: PySoundFile failed. Trying audioread instead.\n",
            "  warnings.warn(\"PySoundFile failed. Trying audioread instead.\")\n",
            "/usr/local/lib/python3.7/dist-packages/librosa/core/audio.py:162: UserWarning: PySoundFile failed. Trying audioread instead.\n",
            "  warnings.warn(\"PySoundFile failed. Trying audioread instead.\")\n",
            "/usr/local/lib/python3.7/dist-packages/librosa/core/audio.py:162: UserWarning: PySoundFile failed. Trying audioread instead.\n",
            "  warnings.warn(\"PySoundFile failed. Trying audioread instead.\")\n",
            "/usr/local/lib/python3.7/dist-packages/librosa/core/audio.py:162: UserWarning: PySoundFile failed. Trying audioread instead.\n",
            "  warnings.warn(\"PySoundFile failed. Trying audioread instead.\")\n",
            "/usr/local/lib/python3.7/dist-packages/librosa/core/audio.py:162: UserWarning: PySoundFile failed. Trying audioread instead.\n",
            "  warnings.warn(\"PySoundFile failed. Trying audioread instead.\")\n",
            "/usr/local/lib/python3.7/dist-packages/librosa/core/audio.py:162: UserWarning: PySoundFile failed. Trying audioread instead.\n",
            "  warnings.warn(\"PySoundFile failed. Trying audioread instead.\")\n",
            "/usr/local/lib/python3.7/dist-packages/librosa/core/audio.py:162: UserWarning: PySoundFile failed. Trying audioread instead.\n",
            "  warnings.warn(\"PySoundFile failed. Trying audioread instead.\")\n",
            "/usr/local/lib/python3.7/dist-packages/librosa/core/audio.py:162: UserWarning: PySoundFile failed. Trying audioread instead.\n",
            "  warnings.warn(\"PySoundFile failed. Trying audioread instead.\")\n",
            "/usr/local/lib/python3.7/dist-packages/librosa/core/audio.py:162: UserWarning: PySoundFile failed. Trying audioread instead.\n",
            "  warnings.warn(\"PySoundFile failed. Trying audioread instead.\")\n",
            "/usr/local/lib/python3.7/dist-packages/librosa/core/audio.py:162: UserWarning: PySoundFile failed. Trying audioread instead.\n",
            "  warnings.warn(\"PySoundFile failed. Trying audioread instead.\")\n",
            "/usr/local/lib/python3.7/dist-packages/librosa/core/audio.py:162: UserWarning: PySoundFile failed. Trying audioread instead.\n",
            "  warnings.warn(\"PySoundFile failed. Trying audioread instead.\")\n",
            "/usr/local/lib/python3.7/dist-packages/librosa/core/audio.py:162: UserWarning: PySoundFile failed. Trying audioread instead.\n",
            "  warnings.warn(\"PySoundFile failed. Trying audioread instead.\")\n",
            "/usr/local/lib/python3.7/dist-packages/librosa/core/audio.py:162: UserWarning: PySoundFile failed. Trying audioread instead.\n",
            "  warnings.warn(\"PySoundFile failed. Trying audioread instead.\")\n",
            "/usr/local/lib/python3.7/dist-packages/librosa/core/audio.py:162: UserWarning: PySoundFile failed. Trying audioread instead.\n",
            "  warnings.warn(\"PySoundFile failed. Trying audioread instead.\")\n",
            "/usr/local/lib/python3.7/dist-packages/librosa/core/audio.py:162: UserWarning: PySoundFile failed. Trying audioread instead.\n",
            "  warnings.warn(\"PySoundFile failed. Trying audioread instead.\")\n",
            "/usr/local/lib/python3.7/dist-packages/librosa/core/audio.py:162: UserWarning: PySoundFile failed. Trying audioread instead.\n",
            "  warnings.warn(\"PySoundFile failed. Trying audioread instead.\")\n",
            "/usr/local/lib/python3.7/dist-packages/librosa/core/audio.py:162: UserWarning: PySoundFile failed. Trying audioread instead.\n",
            "  warnings.warn(\"PySoundFile failed. Trying audioread instead.\")\n",
            "/usr/local/lib/python3.7/dist-packages/librosa/core/audio.py:162: UserWarning: PySoundFile failed. Trying audioread instead.\n",
            "  warnings.warn(\"PySoundFile failed. Trying audioread instead.\")\n",
            "/usr/local/lib/python3.7/dist-packages/librosa/core/audio.py:162: UserWarning: PySoundFile failed. Trying audioread instead.\n",
            "  warnings.warn(\"PySoundFile failed. Trying audioread instead.\")\n",
            "/usr/local/lib/python3.7/dist-packages/librosa/core/audio.py:162: UserWarning: PySoundFile failed. Trying audioread instead.\n",
            "  warnings.warn(\"PySoundFile failed. Trying audioread instead.\")\n",
            "/usr/local/lib/python3.7/dist-packages/librosa/core/audio.py:162: UserWarning: PySoundFile failed. Trying audioread instead.\n",
            "  warnings.warn(\"PySoundFile failed. Trying audioread instead.\")\n",
            "/usr/local/lib/python3.7/dist-packages/librosa/core/audio.py:162: UserWarning: PySoundFile failed. Trying audioread instead.\n",
            "  warnings.warn(\"PySoundFile failed. Trying audioread instead.\")\n",
            "/usr/local/lib/python3.7/dist-packages/librosa/core/audio.py:162: UserWarning: PySoundFile failed. Trying audioread instead.\n",
            "  warnings.warn(\"PySoundFile failed. Trying audioread instead.\")\n",
            "/usr/local/lib/python3.7/dist-packages/librosa/core/audio.py:162: UserWarning: PySoundFile failed. Trying audioread instead.\n",
            "  warnings.warn(\"PySoundFile failed. Trying audioread instead.\")\n",
            "/usr/local/lib/python3.7/dist-packages/librosa/core/audio.py:162: UserWarning: PySoundFile failed. Trying audioread instead.\n",
            "  warnings.warn(\"PySoundFile failed. Trying audioread instead.\")\n",
            "/usr/local/lib/python3.7/dist-packages/librosa/core/audio.py:162: UserWarning: PySoundFile failed. Trying audioread instead.\n",
            "  warnings.warn(\"PySoundFile failed. Trying audioread instead.\")\n",
            "/usr/local/lib/python3.7/dist-packages/librosa/core/audio.py:162: UserWarning: PySoundFile failed. Trying audioread instead.\n",
            "  warnings.warn(\"PySoundFile failed. Trying audioread instead.\")\n",
            "/usr/local/lib/python3.7/dist-packages/librosa/core/audio.py:162: UserWarning: PySoundFile failed. Trying audioread instead.\n",
            "  warnings.warn(\"PySoundFile failed. Trying audioread instead.\")\n",
            "/usr/local/lib/python3.7/dist-packages/librosa/core/audio.py:162: UserWarning: PySoundFile failed. Trying audioread instead.\n",
            "  warnings.warn(\"PySoundFile failed. Trying audioread instead.\")\n",
            "/usr/local/lib/python3.7/dist-packages/librosa/core/audio.py:162: UserWarning: PySoundFile failed. Trying audioread instead.\n",
            "  warnings.warn(\"PySoundFile failed. Trying audioread instead.\")\n",
            "/usr/local/lib/python3.7/dist-packages/librosa/core/audio.py:162: UserWarning: PySoundFile failed. Trying audioread instead.\n",
            "  warnings.warn(\"PySoundFile failed. Trying audioread instead.\")\n",
            "/usr/local/lib/python3.7/dist-packages/librosa/core/audio.py:162: UserWarning: PySoundFile failed. Trying audioread instead.\n",
            "  warnings.warn(\"PySoundFile failed. Trying audioread instead.\")\n",
            "/usr/local/lib/python3.7/dist-packages/librosa/core/audio.py:162: UserWarning: PySoundFile failed. Trying audioread instead.\n",
            "  warnings.warn(\"PySoundFile failed. Trying audioread instead.\")\n",
            "/usr/local/lib/python3.7/dist-packages/librosa/core/audio.py:162: UserWarning: PySoundFile failed. Trying audioread instead.\n",
            "  warnings.warn(\"PySoundFile failed. Trying audioread instead.\")\n",
            "/usr/local/lib/python3.7/dist-packages/librosa/core/audio.py:162: UserWarning: PySoundFile failed. Trying audioread instead.\n",
            "  warnings.warn(\"PySoundFile failed. Trying audioread instead.\")\n",
            "/usr/local/lib/python3.7/dist-packages/librosa/core/audio.py:162: UserWarning: PySoundFile failed. Trying audioread instead.\n",
            "  warnings.warn(\"PySoundFile failed. Trying audioread instead.\")\n",
            "/usr/local/lib/python3.7/dist-packages/librosa/core/audio.py:162: UserWarning: PySoundFile failed. Trying audioread instead.\n",
            "  warnings.warn(\"PySoundFile failed. Trying audioread instead.\")\n",
            "/usr/local/lib/python3.7/dist-packages/librosa/core/audio.py:162: UserWarning: PySoundFile failed. Trying audioread instead.\n",
            "  warnings.warn(\"PySoundFile failed. Trying audioread instead.\")\n",
            "/usr/local/lib/python3.7/dist-packages/librosa/core/audio.py:162: UserWarning: PySoundFile failed. Trying audioread instead.\n",
            "  warnings.warn(\"PySoundFile failed. Trying audioread instead.\")\n",
            "/usr/local/lib/python3.7/dist-packages/librosa/core/audio.py:162: UserWarning: PySoundFile failed. Trying audioread instead.\n",
            "  warnings.warn(\"PySoundFile failed. Trying audioread instead.\")\n",
            "/usr/local/lib/python3.7/dist-packages/librosa/core/audio.py:162: UserWarning: PySoundFile failed. Trying audioread instead.\n",
            "  warnings.warn(\"PySoundFile failed. Trying audioread instead.\")\n",
            "/usr/local/lib/python3.7/dist-packages/librosa/core/audio.py:162: UserWarning: PySoundFile failed. Trying audioread instead.\n",
            "  warnings.warn(\"PySoundFile failed. Trying audioread instead.\")\n",
            "/usr/local/lib/python3.7/dist-packages/librosa/core/audio.py:162: UserWarning: PySoundFile failed. Trying audioread instead.\n",
            "  warnings.warn(\"PySoundFile failed. Trying audioread instead.\")\n",
            "/usr/local/lib/python3.7/dist-packages/librosa/core/audio.py:162: UserWarning: PySoundFile failed. Trying audioread instead.\n",
            "  warnings.warn(\"PySoundFile failed. Trying audioread instead.\")\n",
            "/usr/local/lib/python3.7/dist-packages/librosa/core/audio.py:162: UserWarning: PySoundFile failed. Trying audioread instead.\n",
            "  warnings.warn(\"PySoundFile failed. Trying audioread instead.\")\n",
            "/usr/local/lib/python3.7/dist-packages/librosa/core/audio.py:162: UserWarning: PySoundFile failed. Trying audioread instead.\n",
            "  warnings.warn(\"PySoundFile failed. Trying audioread instead.\")\n",
            "/usr/local/lib/python3.7/dist-packages/librosa/core/audio.py:162: UserWarning: PySoundFile failed. Trying audioread instead.\n",
            "  warnings.warn(\"PySoundFile failed. Trying audioread instead.\")\n",
            "/usr/local/lib/python3.7/dist-packages/librosa/core/audio.py:162: UserWarning: PySoundFile failed. Trying audioread instead.\n",
            "  warnings.warn(\"PySoundFile failed. Trying audioread instead.\")\n",
            "/usr/local/lib/python3.7/dist-packages/librosa/core/audio.py:162: UserWarning: PySoundFile failed. Trying audioread instead.\n",
            "  warnings.warn(\"PySoundFile failed. Trying audioread instead.\")\n",
            "/usr/local/lib/python3.7/dist-packages/librosa/core/audio.py:162: UserWarning: PySoundFile failed. Trying audioread instead.\n",
            "  warnings.warn(\"PySoundFile failed. Trying audioread instead.\")\n",
            "/usr/local/lib/python3.7/dist-packages/librosa/core/audio.py:162: UserWarning: PySoundFile failed. Trying audioread instead.\n",
            "  warnings.warn(\"PySoundFile failed. Trying audioread instead.\")\n",
            "/usr/local/lib/python3.7/dist-packages/librosa/core/audio.py:162: UserWarning: PySoundFile failed. Trying audioread instead.\n",
            "  warnings.warn(\"PySoundFile failed. Trying audioread instead.\")\n",
            "/usr/local/lib/python3.7/dist-packages/librosa/core/audio.py:162: UserWarning: PySoundFile failed. Trying audioread instead.\n",
            "  warnings.warn(\"PySoundFile failed. Trying audioread instead.\")\n",
            "/usr/local/lib/python3.7/dist-packages/librosa/core/audio.py:162: UserWarning: PySoundFile failed. Trying audioread instead.\n",
            "  warnings.warn(\"PySoundFile failed. Trying audioread instead.\")\n",
            "/usr/local/lib/python3.7/dist-packages/librosa/core/audio.py:162: UserWarning: PySoundFile failed. Trying audioread instead.\n",
            "  warnings.warn(\"PySoundFile failed. Trying audioread instead.\")\n",
            "/usr/local/lib/python3.7/dist-packages/librosa/core/audio.py:162: UserWarning: PySoundFile failed. Trying audioread instead.\n",
            "  warnings.warn(\"PySoundFile failed. Trying audioread instead.\")\n",
            "/usr/local/lib/python3.7/dist-packages/librosa/core/audio.py:162: UserWarning: PySoundFile failed. Trying audioread instead.\n",
            "  warnings.warn(\"PySoundFile failed. Trying audioread instead.\")\n",
            "/usr/local/lib/python3.7/dist-packages/librosa/core/audio.py:162: UserWarning: PySoundFile failed. Trying audioread instead.\n",
            "  warnings.warn(\"PySoundFile failed. Trying audioread instead.\")\n",
            "/usr/local/lib/python3.7/dist-packages/librosa/core/audio.py:162: UserWarning: PySoundFile failed. Trying audioread instead.\n",
            "  warnings.warn(\"PySoundFile failed. Trying audioread instead.\")\n",
            "/usr/local/lib/python3.7/dist-packages/librosa/core/audio.py:162: UserWarning: PySoundFile failed. Trying audioread instead.\n",
            "  warnings.warn(\"PySoundFile failed. Trying audioread instead.\")\n",
            "/usr/local/lib/python3.7/dist-packages/librosa/core/audio.py:162: UserWarning: PySoundFile failed. Trying audioread instead.\n",
            "  warnings.warn(\"PySoundFile failed. Trying audioread instead.\")\n",
            "/usr/local/lib/python3.7/dist-packages/librosa/core/audio.py:162: UserWarning: PySoundFile failed. Trying audioread instead.\n",
            "  warnings.warn(\"PySoundFile failed. Trying audioread instead.\")\n",
            "/usr/local/lib/python3.7/dist-packages/librosa/core/audio.py:162: UserWarning: PySoundFile failed. Trying audioread instead.\n",
            "  warnings.warn(\"PySoundFile failed. Trying audioread instead.\")\n",
            "/usr/local/lib/python3.7/dist-packages/librosa/core/audio.py:162: UserWarning: PySoundFile failed. Trying audioread instead.\n",
            "  warnings.warn(\"PySoundFile failed. Trying audioread instead.\")\n",
            "/usr/local/lib/python3.7/dist-packages/librosa/core/audio.py:162: UserWarning: PySoundFile failed. Trying audioread instead.\n",
            "  warnings.warn(\"PySoundFile failed. Trying audioread instead.\")\n",
            "/usr/local/lib/python3.7/dist-packages/librosa/core/audio.py:162: UserWarning: PySoundFile failed. Trying audioread instead.\n",
            "  warnings.warn(\"PySoundFile failed. Trying audioread instead.\")\n",
            "/usr/local/lib/python3.7/dist-packages/librosa/core/audio.py:162: UserWarning: PySoundFile failed. Trying audioread instead.\n",
            "  warnings.warn(\"PySoundFile failed. Trying audioread instead.\")\n",
            "/usr/local/lib/python3.7/dist-packages/librosa/core/audio.py:162: UserWarning: PySoundFile failed. Trying audioread instead.\n",
            "  warnings.warn(\"PySoundFile failed. Trying audioread instead.\")\n",
            "/usr/local/lib/python3.7/dist-packages/librosa/core/audio.py:162: UserWarning: PySoundFile failed. Trying audioread instead.\n",
            "  warnings.warn(\"PySoundFile failed. Trying audioread instead.\")\n",
            "/usr/local/lib/python3.7/dist-packages/librosa/core/audio.py:162: UserWarning: PySoundFile failed. Trying audioread instead.\n",
            "  warnings.warn(\"PySoundFile failed. Trying audioread instead.\")\n",
            "/usr/local/lib/python3.7/dist-packages/librosa/core/audio.py:162: UserWarning: PySoundFile failed. Trying audioread instead.\n",
            "  warnings.warn(\"PySoundFile failed. Trying audioread instead.\")\n",
            "/usr/local/lib/python3.7/dist-packages/librosa/core/audio.py:162: UserWarning: PySoundFile failed. Trying audioread instead.\n",
            "  warnings.warn(\"PySoundFile failed. Trying audioread instead.\")\n",
            "/usr/local/lib/python3.7/dist-packages/librosa/core/audio.py:162: UserWarning: PySoundFile failed. Trying audioread instead.\n",
            "  warnings.warn(\"PySoundFile failed. Trying audioread instead.\")\n",
            "/usr/local/lib/python3.7/dist-packages/librosa/core/audio.py:162: UserWarning: PySoundFile failed. Trying audioread instead.\n",
            "  warnings.warn(\"PySoundFile failed. Trying audioread instead.\")\n",
            "/usr/local/lib/python3.7/dist-packages/librosa/core/audio.py:162: UserWarning: PySoundFile failed. Trying audioread instead.\n",
            "  warnings.warn(\"PySoundFile failed. Trying audioread instead.\")\n",
            "/usr/local/lib/python3.7/dist-packages/librosa/core/audio.py:162: UserWarning: PySoundFile failed. Trying audioread instead.\n",
            "  warnings.warn(\"PySoundFile failed. Trying audioread instead.\")\n",
            "/usr/local/lib/python3.7/dist-packages/librosa/core/audio.py:162: UserWarning: PySoundFile failed. Trying audioread instead.\n",
            "  warnings.warn(\"PySoundFile failed. Trying audioread instead.\")\n",
            "/usr/local/lib/python3.7/dist-packages/librosa/core/audio.py:162: UserWarning: PySoundFile failed. Trying audioread instead.\n",
            "  warnings.warn(\"PySoundFile failed. Trying audioread instead.\")\n",
            "/usr/local/lib/python3.7/dist-packages/librosa/core/audio.py:162: UserWarning: PySoundFile failed. Trying audioread instead.\n",
            "  warnings.warn(\"PySoundFile failed. Trying audioread instead.\")\n",
            "/usr/local/lib/python3.7/dist-packages/librosa/core/audio.py:162: UserWarning: PySoundFile failed. Trying audioread instead.\n",
            "  warnings.warn(\"PySoundFile failed. Trying audioread instead.\")\n",
            "/usr/local/lib/python3.7/dist-packages/librosa/core/audio.py:162: UserWarning: PySoundFile failed. Trying audioread instead.\n",
            "  warnings.warn(\"PySoundFile failed. Trying audioread instead.\")\n",
            "/usr/local/lib/python3.7/dist-packages/librosa/core/audio.py:162: UserWarning: PySoundFile failed. Trying audioread instead.\n",
            "  warnings.warn(\"PySoundFile failed. Trying audioread instead.\")\n",
            "/usr/local/lib/python3.7/dist-packages/librosa/core/audio.py:162: UserWarning: PySoundFile failed. Trying audioread instead.\n",
            "  warnings.warn(\"PySoundFile failed. Trying audioread instead.\")\n",
            "/usr/local/lib/python3.7/dist-packages/librosa/core/audio.py:162: UserWarning: PySoundFile failed. Trying audioread instead.\n",
            "  warnings.warn(\"PySoundFile failed. Trying audioread instead.\")\n",
            "/usr/local/lib/python3.7/dist-packages/librosa/core/audio.py:162: UserWarning: PySoundFile failed. Trying audioread instead.\n",
            "  warnings.warn(\"PySoundFile failed. Trying audioread instead.\")\n",
            "/usr/local/lib/python3.7/dist-packages/librosa/core/audio.py:162: UserWarning: PySoundFile failed. Trying audioread instead.\n",
            "  warnings.warn(\"PySoundFile failed. Trying audioread instead.\")\n",
            "/usr/local/lib/python3.7/dist-packages/librosa/core/audio.py:162: UserWarning: PySoundFile failed. Trying audioread instead.\n",
            "  warnings.warn(\"PySoundFile failed. Trying audioread instead.\")\n",
            "/usr/local/lib/python3.7/dist-packages/librosa/core/audio.py:162: UserWarning: PySoundFile failed. Trying audioread instead.\n",
            "  warnings.warn(\"PySoundFile failed. Trying audioread instead.\")\n",
            "/usr/local/lib/python3.7/dist-packages/librosa/core/audio.py:162: UserWarning: PySoundFile failed. Trying audioread instead.\n",
            "  warnings.warn(\"PySoundFile failed. Trying audioread instead.\")\n",
            "/usr/local/lib/python3.7/dist-packages/librosa/core/audio.py:162: UserWarning: PySoundFile failed. Trying audioread instead.\n",
            "  warnings.warn(\"PySoundFile failed. Trying audioread instead.\")\n",
            "/usr/local/lib/python3.7/dist-packages/librosa/core/audio.py:162: UserWarning: PySoundFile failed. Trying audioread instead.\n",
            "  warnings.warn(\"PySoundFile failed. Trying audioread instead.\")\n",
            "/usr/local/lib/python3.7/dist-packages/librosa/core/audio.py:162: UserWarning: PySoundFile failed. Trying audioread instead.\n",
            "  warnings.warn(\"PySoundFile failed. Trying audioread instead.\")\n",
            "/usr/local/lib/python3.7/dist-packages/librosa/core/audio.py:162: UserWarning: PySoundFile failed. Trying audioread instead.\n",
            "  warnings.warn(\"PySoundFile failed. Trying audioread instead.\")\n",
            "/usr/local/lib/python3.7/dist-packages/librosa/core/audio.py:162: UserWarning: PySoundFile failed. Trying audioread instead.\n",
            "  warnings.warn(\"PySoundFile failed. Trying audioread instead.\")\n",
            "/usr/local/lib/python3.7/dist-packages/librosa/core/audio.py:162: UserWarning: PySoundFile failed. Trying audioread instead.\n",
            "  warnings.warn(\"PySoundFile failed. Trying audioread instead.\")\n",
            "/usr/local/lib/python3.7/dist-packages/librosa/core/audio.py:162: UserWarning: PySoundFile failed. Trying audioread instead.\n",
            "  warnings.warn(\"PySoundFile failed. Trying audioread instead.\")\n",
            "/usr/local/lib/python3.7/dist-packages/librosa/core/audio.py:162: UserWarning: PySoundFile failed. Trying audioread instead.\n",
            "  warnings.warn(\"PySoundFile failed. Trying audioread instead.\")\n",
            "/usr/local/lib/python3.7/dist-packages/librosa/core/audio.py:162: UserWarning: PySoundFile failed. Trying audioread instead.\n",
            "  warnings.warn(\"PySoundFile failed. Trying audioread instead.\")\n",
            "/usr/local/lib/python3.7/dist-packages/librosa/core/audio.py:162: UserWarning: PySoundFile failed. Trying audioread instead.\n",
            "  warnings.warn(\"PySoundFile failed. Trying audioread instead.\")\n",
            "/usr/local/lib/python3.7/dist-packages/librosa/core/audio.py:162: UserWarning: PySoundFile failed. Trying audioread instead.\n",
            "  warnings.warn(\"PySoundFile failed. Trying audioread instead.\")\n",
            "/usr/local/lib/python3.7/dist-packages/librosa/core/audio.py:162: UserWarning: PySoundFile failed. Trying audioread instead.\n",
            "  warnings.warn(\"PySoundFile failed. Trying audioread instead.\")\n",
            "/usr/local/lib/python3.7/dist-packages/librosa/core/audio.py:162: UserWarning: PySoundFile failed. Trying audioread instead.\n",
            "  warnings.warn(\"PySoundFile failed. Trying audioread instead.\")\n",
            "/usr/local/lib/python3.7/dist-packages/librosa/core/audio.py:162: UserWarning: PySoundFile failed. Trying audioread instead.\n",
            "  warnings.warn(\"PySoundFile failed. Trying audioread instead.\")\n",
            "/usr/local/lib/python3.7/dist-packages/librosa/core/audio.py:162: UserWarning: PySoundFile failed. Trying audioread instead.\n",
            "  warnings.warn(\"PySoundFile failed. Trying audioread instead.\")\n",
            "/usr/local/lib/python3.7/dist-packages/librosa/core/audio.py:162: UserWarning: PySoundFile failed. Trying audioread instead.\n",
            "  warnings.warn(\"PySoundFile failed. Trying audioread instead.\")\n",
            "/usr/local/lib/python3.7/dist-packages/librosa/core/audio.py:162: UserWarning: PySoundFile failed. Trying audioread instead.\n",
            "  warnings.warn(\"PySoundFile failed. Trying audioread instead.\")\n",
            "/usr/local/lib/python3.7/dist-packages/librosa/core/audio.py:162: UserWarning: PySoundFile failed. Trying audioread instead.\n",
            "  warnings.warn(\"PySoundFile failed. Trying audioread instead.\")\n",
            "/usr/local/lib/python3.7/dist-packages/librosa/core/audio.py:162: UserWarning: PySoundFile failed. Trying audioread instead.\n",
            "  warnings.warn(\"PySoundFile failed. Trying audioread instead.\")\n",
            "/usr/local/lib/python3.7/dist-packages/librosa/core/audio.py:162: UserWarning: PySoundFile failed. Trying audioread instead.\n",
            "  warnings.warn(\"PySoundFile failed. Trying audioread instead.\")\n",
            "/usr/local/lib/python3.7/dist-packages/librosa/core/audio.py:162: UserWarning: PySoundFile failed. Trying audioread instead.\n",
            "  warnings.warn(\"PySoundFile failed. Trying audioread instead.\")\n",
            "/usr/local/lib/python3.7/dist-packages/librosa/core/audio.py:162: UserWarning: PySoundFile failed. Trying audioread instead.\n",
            "  warnings.warn(\"PySoundFile failed. Trying audioread instead.\")\n",
            "/usr/local/lib/python3.7/dist-packages/librosa/core/audio.py:162: UserWarning: PySoundFile failed. Trying audioread instead.\n",
            "  warnings.warn(\"PySoundFile failed. Trying audioread instead.\")\n",
            "/usr/local/lib/python3.7/dist-packages/librosa/core/audio.py:162: UserWarning: PySoundFile failed. Trying audioread instead.\n",
            "  warnings.warn(\"PySoundFile failed. Trying audioread instead.\")\n",
            "/usr/local/lib/python3.7/dist-packages/librosa/core/audio.py:162: UserWarning: PySoundFile failed. Trying audioread instead.\n",
            "  warnings.warn(\"PySoundFile failed. Trying audioread instead.\")\n",
            "/usr/local/lib/python3.7/dist-packages/librosa/core/audio.py:162: UserWarning: PySoundFile failed. Trying audioread instead.\n",
            "  warnings.warn(\"PySoundFile failed. Trying audioread instead.\")\n",
            "/usr/local/lib/python3.7/dist-packages/librosa/core/audio.py:162: UserWarning: PySoundFile failed. Trying audioread instead.\n",
            "  warnings.warn(\"PySoundFile failed. Trying audioread instead.\")\n",
            "/usr/local/lib/python3.7/dist-packages/librosa/core/audio.py:162: UserWarning: PySoundFile failed. Trying audioread instead.\n",
            "  warnings.warn(\"PySoundFile failed. Trying audioread instead.\")\n",
            "/usr/local/lib/python3.7/dist-packages/librosa/core/audio.py:162: UserWarning: PySoundFile failed. Trying audioread instead.\n",
            "  warnings.warn(\"PySoundFile failed. Trying audioread instead.\")\n",
            "/usr/local/lib/python3.7/dist-packages/librosa/core/audio.py:162: UserWarning: PySoundFile failed. Trying audioread instead.\n",
            "  warnings.warn(\"PySoundFile failed. Trying audioread instead.\")\n",
            "/usr/local/lib/python3.7/dist-packages/librosa/core/audio.py:162: UserWarning: PySoundFile failed. Trying audioread instead.\n",
            "  warnings.warn(\"PySoundFile failed. Trying audioread instead.\")\n",
            "/usr/local/lib/python3.7/dist-packages/librosa/core/audio.py:162: UserWarning: PySoundFile failed. Trying audioread instead.\n",
            "  warnings.warn(\"PySoundFile failed. Trying audioread instead.\")\n",
            "/usr/local/lib/python3.7/dist-packages/librosa/core/audio.py:162: UserWarning: PySoundFile failed. Trying audioread instead.\n",
            "  warnings.warn(\"PySoundFile failed. Trying audioread instead.\")\n",
            "/usr/local/lib/python3.7/dist-packages/librosa/core/audio.py:162: UserWarning: PySoundFile failed. Trying audioread instead.\n",
            "  warnings.warn(\"PySoundFile failed. Trying audioread instead.\")\n",
            "/usr/local/lib/python3.7/dist-packages/librosa/core/audio.py:162: UserWarning: PySoundFile failed. Trying audioread instead.\n",
            "  warnings.warn(\"PySoundFile failed. Trying audioread instead.\")\n",
            "/usr/local/lib/python3.7/dist-packages/librosa/core/audio.py:162: UserWarning: PySoundFile failed. Trying audioread instead.\n",
            "  warnings.warn(\"PySoundFile failed. Trying audioread instead.\")\n",
            "/usr/local/lib/python3.7/dist-packages/librosa/core/audio.py:162: UserWarning: PySoundFile failed. Trying audioread instead.\n",
            "  warnings.warn(\"PySoundFile failed. Trying audioread instead.\")\n",
            "/usr/local/lib/python3.7/dist-packages/librosa/core/audio.py:162: UserWarning: PySoundFile failed. Trying audioread instead.\n",
            "  warnings.warn(\"PySoundFile failed. Trying audioread instead.\")\n",
            "/usr/local/lib/python3.7/dist-packages/librosa/core/audio.py:162: UserWarning: PySoundFile failed. Trying audioread instead.\n",
            "  warnings.warn(\"PySoundFile failed. Trying audioread instead.\")\n",
            "/usr/local/lib/python3.7/dist-packages/librosa/core/audio.py:162: UserWarning: PySoundFile failed. Trying audioread instead.\n",
            "  warnings.warn(\"PySoundFile failed. Trying audioread instead.\")\n",
            "/usr/local/lib/python3.7/dist-packages/librosa/core/audio.py:162: UserWarning: PySoundFile failed. Trying audioread instead.\n",
            "  warnings.warn(\"PySoundFile failed. Trying audioread instead.\")\n",
            "/usr/local/lib/python3.7/dist-packages/librosa/core/audio.py:162: UserWarning: PySoundFile failed. Trying audioread instead.\n",
            "  warnings.warn(\"PySoundFile failed. Trying audioread instead.\")\n",
            "/usr/local/lib/python3.7/dist-packages/librosa/core/audio.py:162: UserWarning: PySoundFile failed. Trying audioread instead.\n",
            "  warnings.warn(\"PySoundFile failed. Trying audioread instead.\")\n",
            "/usr/local/lib/python3.7/dist-packages/librosa/core/audio.py:162: UserWarning: PySoundFile failed. Trying audioread instead.\n",
            "  warnings.warn(\"PySoundFile failed. Trying audioread instead.\")\n",
            "/usr/local/lib/python3.7/dist-packages/librosa/core/audio.py:162: UserWarning: PySoundFile failed. Trying audioread instead.\n",
            "  warnings.warn(\"PySoundFile failed. Trying audioread instead.\")\n",
            "/usr/local/lib/python3.7/dist-packages/librosa/core/audio.py:162: UserWarning: PySoundFile failed. Trying audioread instead.\n",
            "  warnings.warn(\"PySoundFile failed. Trying audioread instead.\")\n",
            "/usr/local/lib/python3.7/dist-packages/librosa/core/audio.py:162: UserWarning: PySoundFile failed. Trying audioread instead.\n",
            "  warnings.warn(\"PySoundFile failed. Trying audioread instead.\")\n",
            "/usr/local/lib/python3.7/dist-packages/librosa/core/audio.py:162: UserWarning: PySoundFile failed. Trying audioread instead.\n",
            "  warnings.warn(\"PySoundFile failed. Trying audioread instead.\")\n",
            "/usr/local/lib/python3.7/dist-packages/librosa/core/audio.py:162: UserWarning: PySoundFile failed. Trying audioread instead.\n",
            "  warnings.warn(\"PySoundFile failed. Trying audioread instead.\")\n",
            "/usr/local/lib/python3.7/dist-packages/librosa/core/audio.py:162: UserWarning: PySoundFile failed. Trying audioread instead.\n",
            "  warnings.warn(\"PySoundFile failed. Trying audioread instead.\")\n",
            "/usr/local/lib/python3.7/dist-packages/librosa/core/audio.py:162: UserWarning: PySoundFile failed. Trying audioread instead.\n",
            "  warnings.warn(\"PySoundFile failed. Trying audioread instead.\")\n",
            "/usr/local/lib/python3.7/dist-packages/librosa/core/audio.py:162: UserWarning: PySoundFile failed. Trying audioread instead.\n",
            "  warnings.warn(\"PySoundFile failed. Trying audioread instead.\")\n",
            "/usr/local/lib/python3.7/dist-packages/librosa/core/audio.py:162: UserWarning: PySoundFile failed. Trying audioread instead.\n",
            "  warnings.warn(\"PySoundFile failed. Trying audioread instead.\")\n",
            "/usr/local/lib/python3.7/dist-packages/librosa/core/audio.py:162: UserWarning: PySoundFile failed. Trying audioread instead.\n",
            "  warnings.warn(\"PySoundFile failed. Trying audioread instead.\")\n",
            "/usr/local/lib/python3.7/dist-packages/librosa/core/audio.py:162: UserWarning: PySoundFile failed. Trying audioread instead.\n",
            "  warnings.warn(\"PySoundFile failed. Trying audioread instead.\")\n",
            "/usr/local/lib/python3.7/dist-packages/librosa/core/audio.py:162: UserWarning: PySoundFile failed. Trying audioread instead.\n",
            "  warnings.warn(\"PySoundFile failed. Trying audioread instead.\")\n",
            "/usr/local/lib/python3.7/dist-packages/librosa/core/audio.py:162: UserWarning: PySoundFile failed. Trying audioread instead.\n",
            "  warnings.warn(\"PySoundFile failed. Trying audioread instead.\")\n",
            "/usr/local/lib/python3.7/dist-packages/librosa/core/audio.py:162: UserWarning: PySoundFile failed. Trying audioread instead.\n",
            "  warnings.warn(\"PySoundFile failed. Trying audioread instead.\")\n",
            "/usr/local/lib/python3.7/dist-packages/librosa/core/audio.py:162: UserWarning: PySoundFile failed. Trying audioread instead.\n",
            "  warnings.warn(\"PySoundFile failed. Trying audioread instead.\")\n",
            "/usr/local/lib/python3.7/dist-packages/librosa/core/audio.py:162: UserWarning: PySoundFile failed. Trying audioread instead.\n",
            "  warnings.warn(\"PySoundFile failed. Trying audioread instead.\")\n",
            "/usr/local/lib/python3.7/dist-packages/librosa/core/audio.py:162: UserWarning: PySoundFile failed. Trying audioread instead.\n",
            "  warnings.warn(\"PySoundFile failed. Trying audioread instead.\")\n",
            "/usr/local/lib/python3.7/dist-packages/librosa/core/audio.py:162: UserWarning: PySoundFile failed. Trying audioread instead.\n",
            "  warnings.warn(\"PySoundFile failed. Trying audioread instead.\")\n",
            "/usr/local/lib/python3.7/dist-packages/librosa/core/audio.py:162: UserWarning: PySoundFile failed. Trying audioread instead.\n",
            "  warnings.warn(\"PySoundFile failed. Trying audioread instead.\")\n",
            "/usr/local/lib/python3.7/dist-packages/librosa/core/audio.py:162: UserWarning: PySoundFile failed. Trying audioread instead.\n",
            "  warnings.warn(\"PySoundFile failed. Trying audioread instead.\")\n",
            "/usr/local/lib/python3.7/dist-packages/librosa/core/audio.py:162: UserWarning: PySoundFile failed. Trying audioread instead.\n",
            "  warnings.warn(\"PySoundFile failed. Trying audioread instead.\")\n",
            "/usr/local/lib/python3.7/dist-packages/librosa/core/audio.py:162: UserWarning: PySoundFile failed. Trying audioread instead.\n",
            "  warnings.warn(\"PySoundFile failed. Trying audioread instead.\")\n",
            "/usr/local/lib/python3.7/dist-packages/librosa/core/audio.py:162: UserWarning: PySoundFile failed. Trying audioread instead.\n",
            "  warnings.warn(\"PySoundFile failed. Trying audioread instead.\")\n",
            "/usr/local/lib/python3.7/dist-packages/librosa/core/audio.py:162: UserWarning: PySoundFile failed. Trying audioread instead.\n",
            "  warnings.warn(\"PySoundFile failed. Trying audioread instead.\")\n",
            "/usr/local/lib/python3.7/dist-packages/librosa/core/audio.py:162: UserWarning: PySoundFile failed. Trying audioread instead.\n",
            "  warnings.warn(\"PySoundFile failed. Trying audioread instead.\")\n",
            "/usr/local/lib/python3.7/dist-packages/librosa/core/audio.py:162: UserWarning: PySoundFile failed. Trying audioread instead.\n",
            "  warnings.warn(\"PySoundFile failed. Trying audioread instead.\")\n",
            "/usr/local/lib/python3.7/dist-packages/librosa/core/audio.py:162: UserWarning: PySoundFile failed. Trying audioread instead.\n",
            "  warnings.warn(\"PySoundFile failed. Trying audioread instead.\")\n",
            "/usr/local/lib/python3.7/dist-packages/librosa/core/audio.py:162: UserWarning: PySoundFile failed. Trying audioread instead.\n",
            "  warnings.warn(\"PySoundFile failed. Trying audioread instead.\")\n",
            "/usr/local/lib/python3.7/dist-packages/librosa/core/audio.py:162: UserWarning: PySoundFile failed. Trying audioread instead.\n",
            "  warnings.warn(\"PySoundFile failed. Trying audioread instead.\")\n",
            "/usr/local/lib/python3.7/dist-packages/librosa/core/audio.py:162: UserWarning: PySoundFile failed. Trying audioread instead.\n",
            "  warnings.warn(\"PySoundFile failed. Trying audioread instead.\")\n",
            "/usr/local/lib/python3.7/dist-packages/librosa/core/audio.py:162: UserWarning: PySoundFile failed. Trying audioread instead.\n",
            "  warnings.warn(\"PySoundFile failed. Trying audioread instead.\")\n",
            "/usr/local/lib/python3.7/dist-packages/librosa/core/audio.py:162: UserWarning: PySoundFile failed. Trying audioread instead.\n",
            "  warnings.warn(\"PySoundFile failed. Trying audioread instead.\")\n",
            "/usr/local/lib/python3.7/dist-packages/librosa/core/audio.py:162: UserWarning: PySoundFile failed. Trying audioread instead.\n",
            "  warnings.warn(\"PySoundFile failed. Trying audioread instead.\")\n",
            "/usr/local/lib/python3.7/dist-packages/librosa/core/audio.py:162: UserWarning: PySoundFile failed. Trying audioread instead.\n",
            "  warnings.warn(\"PySoundFile failed. Trying audioread instead.\")\n",
            "/usr/local/lib/python3.7/dist-packages/librosa/core/audio.py:162: UserWarning: PySoundFile failed. Trying audioread instead.\n",
            "  warnings.warn(\"PySoundFile failed. Trying audioread instead.\")\n",
            "/usr/local/lib/python3.7/dist-packages/librosa/core/audio.py:162: UserWarning: PySoundFile failed. Trying audioread instead.\n",
            "  warnings.warn(\"PySoundFile failed. Trying audioread instead.\")\n",
            "/usr/local/lib/python3.7/dist-packages/librosa/core/audio.py:162: UserWarning: PySoundFile failed. Trying audioread instead.\n",
            "  warnings.warn(\"PySoundFile failed. Trying audioread instead.\")\n",
            "/usr/local/lib/python3.7/dist-packages/librosa/core/audio.py:162: UserWarning: PySoundFile failed. Trying audioread instead.\n",
            "  warnings.warn(\"PySoundFile failed. Trying audioread instead.\")\n",
            "/usr/local/lib/python3.7/dist-packages/librosa/core/audio.py:162: UserWarning: PySoundFile failed. Trying audioread instead.\n",
            "  warnings.warn(\"PySoundFile failed. Trying audioread instead.\")\n",
            "/usr/local/lib/python3.7/dist-packages/librosa/core/audio.py:162: UserWarning: PySoundFile failed. Trying audioread instead.\n",
            "  warnings.warn(\"PySoundFile failed. Trying audioread instead.\")\n",
            "/usr/local/lib/python3.7/dist-packages/librosa/core/audio.py:162: UserWarning: PySoundFile failed. Trying audioread instead.\n",
            "  warnings.warn(\"PySoundFile failed. Trying audioread instead.\")\n",
            "/usr/local/lib/python3.7/dist-packages/librosa/core/audio.py:162: UserWarning: PySoundFile failed. Trying audioread instead.\n",
            "  warnings.warn(\"PySoundFile failed. Trying audioread instead.\")\n",
            "/usr/local/lib/python3.7/dist-packages/librosa/core/audio.py:162: UserWarning: PySoundFile failed. Trying audioread instead.\n",
            "  warnings.warn(\"PySoundFile failed. Trying audioread instead.\")\n",
            "/usr/local/lib/python3.7/dist-packages/librosa/core/audio.py:162: UserWarning: PySoundFile failed. Trying audioread instead.\n",
            "  warnings.warn(\"PySoundFile failed. Trying audioread instead.\")\n",
            "/usr/local/lib/python3.7/dist-packages/librosa/core/audio.py:162: UserWarning: PySoundFile failed. Trying audioread instead.\n",
            "  warnings.warn(\"PySoundFile failed. Trying audioread instead.\")\n",
            "/usr/local/lib/python3.7/dist-packages/librosa/core/audio.py:162: UserWarning: PySoundFile failed. Trying audioread instead.\n",
            "  warnings.warn(\"PySoundFile failed. Trying audioread instead.\")\n",
            "/usr/local/lib/python3.7/dist-packages/librosa/core/audio.py:162: UserWarning: PySoundFile failed. Trying audioread instead.\n",
            "  warnings.warn(\"PySoundFile failed. Trying audioread instead.\")\n",
            "/usr/local/lib/python3.7/dist-packages/librosa/core/audio.py:162: UserWarning: PySoundFile failed. Trying audioread instead.\n",
            "  warnings.warn(\"PySoundFile failed. Trying audioread instead.\")\n",
            "/usr/local/lib/python3.7/dist-packages/librosa/core/audio.py:162: UserWarning: PySoundFile failed. Trying audioread instead.\n",
            "  warnings.warn(\"PySoundFile failed. Trying audioread instead.\")\n",
            "/usr/local/lib/python3.7/dist-packages/librosa/core/audio.py:162: UserWarning: PySoundFile failed. Trying audioread instead.\n",
            "  warnings.warn(\"PySoundFile failed. Trying audioread instead.\")\n",
            "/usr/local/lib/python3.7/dist-packages/librosa/core/audio.py:162: UserWarning: PySoundFile failed. Trying audioread instead.\n",
            "  warnings.warn(\"PySoundFile failed. Trying audioread instead.\")\n",
            "/usr/local/lib/python3.7/dist-packages/librosa/core/audio.py:162: UserWarning: PySoundFile failed. Trying audioread instead.\n",
            "  warnings.warn(\"PySoundFile failed. Trying audioread instead.\")\n",
            "/usr/local/lib/python3.7/dist-packages/librosa/core/audio.py:162: UserWarning: PySoundFile failed. Trying audioread instead.\n",
            "  warnings.warn(\"PySoundFile failed. Trying audioread instead.\")\n",
            "/usr/local/lib/python3.7/dist-packages/librosa/core/audio.py:162: UserWarning: PySoundFile failed. Trying audioread instead.\n",
            "  warnings.warn(\"PySoundFile failed. Trying audioread instead.\")\n",
            "/usr/local/lib/python3.7/dist-packages/librosa/core/audio.py:162: UserWarning: PySoundFile failed. Trying audioread instead.\n",
            "  warnings.warn(\"PySoundFile failed. Trying audioread instead.\")\n",
            "/usr/local/lib/python3.7/dist-packages/librosa/core/audio.py:162: UserWarning: PySoundFile failed. Trying audioread instead.\n",
            "  warnings.warn(\"PySoundFile failed. Trying audioread instead.\")\n",
            "/usr/local/lib/python3.7/dist-packages/librosa/core/audio.py:162: UserWarning: PySoundFile failed. Trying audioread instead.\n",
            "  warnings.warn(\"PySoundFile failed. Trying audioread instead.\")\n",
            "/usr/local/lib/python3.7/dist-packages/librosa/core/audio.py:162: UserWarning: PySoundFile failed. Trying audioread instead.\n",
            "  warnings.warn(\"PySoundFile failed. Trying audioread instead.\")\n",
            "/usr/local/lib/python3.7/dist-packages/librosa/core/audio.py:162: UserWarning: PySoundFile failed. Trying audioread instead.\n",
            "  warnings.warn(\"PySoundFile failed. Trying audioread instead.\")\n",
            "/usr/local/lib/python3.7/dist-packages/librosa/core/audio.py:162: UserWarning: PySoundFile failed. Trying audioread instead.\n",
            "  warnings.warn(\"PySoundFile failed. Trying audioread instead.\")\n",
            "/usr/local/lib/python3.7/dist-packages/librosa/core/audio.py:162: UserWarning: PySoundFile failed. Trying audioread instead.\n",
            "  warnings.warn(\"PySoundFile failed. Trying audioread instead.\")\n",
            "/usr/local/lib/python3.7/dist-packages/librosa/core/audio.py:162: UserWarning: PySoundFile failed. Trying audioread instead.\n",
            "  warnings.warn(\"PySoundFile failed. Trying audioread instead.\")\n",
            "/usr/local/lib/python3.7/dist-packages/librosa/core/audio.py:162: UserWarning: PySoundFile failed. Trying audioread instead.\n",
            "  warnings.warn(\"PySoundFile failed. Trying audioread instead.\")\n",
            "/usr/local/lib/python3.7/dist-packages/librosa/core/audio.py:162: UserWarning: PySoundFile failed. Trying audioread instead.\n",
            "  warnings.warn(\"PySoundFile failed. Trying audioread instead.\")\n",
            "/usr/local/lib/python3.7/dist-packages/librosa/core/audio.py:162: UserWarning: PySoundFile failed. Trying audioread instead.\n",
            "  warnings.warn(\"PySoundFile failed. Trying audioread instead.\")\n",
            "/usr/local/lib/python3.7/dist-packages/librosa/core/audio.py:162: UserWarning: PySoundFile failed. Trying audioread instead.\n",
            "  warnings.warn(\"PySoundFile failed. Trying audioread instead.\")\n",
            "/usr/local/lib/python3.7/dist-packages/librosa/core/audio.py:162: UserWarning: PySoundFile failed. Trying audioread instead.\n",
            "  warnings.warn(\"PySoundFile failed. Trying audioread instead.\")\n",
            "/usr/local/lib/python3.7/dist-packages/librosa/core/audio.py:162: UserWarning: PySoundFile failed. Trying audioread instead.\n",
            "  warnings.warn(\"PySoundFile failed. Trying audioread instead.\")\n",
            "/usr/local/lib/python3.7/dist-packages/librosa/core/audio.py:162: UserWarning: PySoundFile failed. Trying audioread instead.\n",
            "  warnings.warn(\"PySoundFile failed. Trying audioread instead.\")\n",
            "/usr/local/lib/python3.7/dist-packages/librosa/core/audio.py:162: UserWarning: PySoundFile failed. Trying audioread instead.\n",
            "  warnings.warn(\"PySoundFile failed. Trying audioread instead.\")\n",
            "/usr/local/lib/python3.7/dist-packages/librosa/core/audio.py:162: UserWarning: PySoundFile failed. Trying audioread instead.\n",
            "  warnings.warn(\"PySoundFile failed. Trying audioread instead.\")\n",
            "/usr/local/lib/python3.7/dist-packages/librosa/core/audio.py:162: UserWarning: PySoundFile failed. Trying audioread instead.\n",
            "  warnings.warn(\"PySoundFile failed. Trying audioread instead.\")\n",
            "/usr/local/lib/python3.7/dist-packages/librosa/core/audio.py:162: UserWarning: PySoundFile failed. Trying audioread instead.\n",
            "  warnings.warn(\"PySoundFile failed. Trying audioread instead.\")\n",
            "/usr/local/lib/python3.7/dist-packages/librosa/core/audio.py:162: UserWarning: PySoundFile failed. Trying audioread instead.\n",
            "  warnings.warn(\"PySoundFile failed. Trying audioread instead.\")\n",
            "/usr/local/lib/python3.7/dist-packages/librosa/core/audio.py:162: UserWarning: PySoundFile failed. Trying audioread instead.\n",
            "  warnings.warn(\"PySoundFile failed. Trying audioread instead.\")\n",
            "/usr/local/lib/python3.7/dist-packages/librosa/core/audio.py:162: UserWarning: PySoundFile failed. Trying audioread instead.\n",
            "  warnings.warn(\"PySoundFile failed. Trying audioread instead.\")\n",
            "/usr/local/lib/python3.7/dist-packages/librosa/core/audio.py:162: UserWarning: PySoundFile failed. Trying audioread instead.\n",
            "  warnings.warn(\"PySoundFile failed. Trying audioread instead.\")\n",
            "/usr/local/lib/python3.7/dist-packages/librosa/core/audio.py:162: UserWarning: PySoundFile failed. Trying audioread instead.\n",
            "  warnings.warn(\"PySoundFile failed. Trying audioread instead.\")\n",
            "/usr/local/lib/python3.7/dist-packages/librosa/core/audio.py:162: UserWarning: PySoundFile failed. Trying audioread instead.\n",
            "  warnings.warn(\"PySoundFile failed. Trying audioread instead.\")\n",
            "/usr/local/lib/python3.7/dist-packages/librosa/core/audio.py:162: UserWarning: PySoundFile failed. Trying audioread instead.\n",
            "  warnings.warn(\"PySoundFile failed. Trying audioread instead.\")\n",
            "/usr/local/lib/python3.7/dist-packages/librosa/core/audio.py:162: UserWarning: PySoundFile failed. Trying audioread instead.\n",
            "  warnings.warn(\"PySoundFile failed. Trying audioread instead.\")\n",
            "/usr/local/lib/python3.7/dist-packages/librosa/core/audio.py:162: UserWarning: PySoundFile failed. Trying audioread instead.\n",
            "  warnings.warn(\"PySoundFile failed. Trying audioread instead.\")\n",
            "/usr/local/lib/python3.7/dist-packages/librosa/core/audio.py:162: UserWarning: PySoundFile failed. Trying audioread instead.\n",
            "  warnings.warn(\"PySoundFile failed. Trying audioread instead.\")\n",
            "/usr/local/lib/python3.7/dist-packages/librosa/core/audio.py:162: UserWarning: PySoundFile failed. Trying audioread instead.\n",
            "  warnings.warn(\"PySoundFile failed. Trying audioread instead.\")\n",
            "/usr/local/lib/python3.7/dist-packages/librosa/core/audio.py:162: UserWarning: PySoundFile failed. Trying audioread instead.\n",
            "  warnings.warn(\"PySoundFile failed. Trying audioread instead.\")\n",
            "/usr/local/lib/python3.7/dist-packages/librosa/core/audio.py:162: UserWarning: PySoundFile failed. Trying audioread instead.\n",
            "  warnings.warn(\"PySoundFile failed. Trying audioread instead.\")\n",
            "/usr/local/lib/python3.7/dist-packages/librosa/core/audio.py:162: UserWarning: PySoundFile failed. Trying audioread instead.\n",
            "  warnings.warn(\"PySoundFile failed. Trying audioread instead.\")\n",
            "/usr/local/lib/python3.7/dist-packages/librosa/core/audio.py:162: UserWarning: PySoundFile failed. Trying audioread instead.\n",
            "  warnings.warn(\"PySoundFile failed. Trying audioread instead.\")\n",
            "/usr/local/lib/python3.7/dist-packages/librosa/core/audio.py:162: UserWarning: PySoundFile failed. Trying audioread instead.\n",
            "  warnings.warn(\"PySoundFile failed. Trying audioread instead.\")\n",
            "/usr/local/lib/python3.7/dist-packages/librosa/core/audio.py:162: UserWarning: PySoundFile failed. Trying audioread instead.\n",
            "  warnings.warn(\"PySoundFile failed. Trying audioread instead.\")\n",
            "/usr/local/lib/python3.7/dist-packages/librosa/core/audio.py:162: UserWarning: PySoundFile failed. Trying audioread instead.\n",
            "  warnings.warn(\"PySoundFile failed. Trying audioread instead.\")\n",
            "/usr/local/lib/python3.7/dist-packages/librosa/core/audio.py:162: UserWarning: PySoundFile failed. Trying audioread instead.\n",
            "  warnings.warn(\"PySoundFile failed. Trying audioread instead.\")\n",
            "/usr/local/lib/python3.7/dist-packages/librosa/core/audio.py:162: UserWarning: PySoundFile failed. Trying audioread instead.\n",
            "  warnings.warn(\"PySoundFile failed. Trying audioread instead.\")\n",
            "/usr/local/lib/python3.7/dist-packages/librosa/core/audio.py:162: UserWarning: PySoundFile failed. Trying audioread instead.\n",
            "  warnings.warn(\"PySoundFile failed. Trying audioread instead.\")\n",
            "/usr/local/lib/python3.7/dist-packages/librosa/core/audio.py:162: UserWarning: PySoundFile failed. Trying audioread instead.\n",
            "  warnings.warn(\"PySoundFile failed. Trying audioread instead.\")\n",
            "/usr/local/lib/python3.7/dist-packages/librosa/core/audio.py:162: UserWarning: PySoundFile failed. Trying audioread instead.\n",
            "  warnings.warn(\"PySoundFile failed. Trying audioread instead.\")\n",
            "/usr/local/lib/python3.7/dist-packages/librosa/core/audio.py:162: UserWarning: PySoundFile failed. Trying audioread instead.\n",
            "  warnings.warn(\"PySoundFile failed. Trying audioread instead.\")\n",
            "/usr/local/lib/python3.7/dist-packages/librosa/core/audio.py:162: UserWarning: PySoundFile failed. Trying audioread instead.\n",
            "  warnings.warn(\"PySoundFile failed. Trying audioread instead.\")\n",
            "/usr/local/lib/python3.7/dist-packages/librosa/core/audio.py:162: UserWarning: PySoundFile failed. Trying audioread instead.\n",
            "  warnings.warn(\"PySoundFile failed. Trying audioread instead.\")\n",
            "/usr/local/lib/python3.7/dist-packages/librosa/core/audio.py:162: UserWarning: PySoundFile failed. Trying audioread instead.\n",
            "  warnings.warn(\"PySoundFile failed. Trying audioread instead.\")\n",
            "/usr/local/lib/python3.7/dist-packages/librosa/core/audio.py:162: UserWarning: PySoundFile failed. Trying audioread instead.\n",
            "  warnings.warn(\"PySoundFile failed. Trying audioread instead.\")\n",
            "/usr/local/lib/python3.7/dist-packages/librosa/core/audio.py:162: UserWarning: PySoundFile failed. Trying audioread instead.\n",
            "  warnings.warn(\"PySoundFile failed. Trying audioread instead.\")\n",
            "/usr/local/lib/python3.7/dist-packages/librosa/core/audio.py:162: UserWarning: PySoundFile failed. Trying audioread instead.\n",
            "  warnings.warn(\"PySoundFile failed. Trying audioread instead.\")\n",
            "/usr/local/lib/python3.7/dist-packages/librosa/core/audio.py:162: UserWarning: PySoundFile failed. Trying audioread instead.\n",
            "  warnings.warn(\"PySoundFile failed. Trying audioread instead.\")\n",
            "/usr/local/lib/python3.7/dist-packages/librosa/core/audio.py:162: UserWarning: PySoundFile failed. Trying audioread instead.\n",
            "  warnings.warn(\"PySoundFile failed. Trying audioread instead.\")\n",
            "/usr/local/lib/python3.7/dist-packages/librosa/core/audio.py:162: UserWarning: PySoundFile failed. Trying audioread instead.\n",
            "  warnings.warn(\"PySoundFile failed. Trying audioread instead.\")\n",
            "/usr/local/lib/python3.7/dist-packages/librosa/core/audio.py:162: UserWarning: PySoundFile failed. Trying audioread instead.\n",
            "  warnings.warn(\"PySoundFile failed. Trying audioread instead.\")\n",
            "/usr/local/lib/python3.7/dist-packages/librosa/core/audio.py:162: UserWarning: PySoundFile failed. Trying audioread instead.\n",
            "  warnings.warn(\"PySoundFile failed. Trying audioread instead.\")\n",
            "/usr/local/lib/python3.7/dist-packages/librosa/core/audio.py:162: UserWarning: PySoundFile failed. Trying audioread instead.\n",
            "  warnings.warn(\"PySoundFile failed. Trying audioread instead.\")\n",
            "/usr/local/lib/python3.7/dist-packages/librosa/core/audio.py:162: UserWarning: PySoundFile failed. Trying audioread instead.\n",
            "  warnings.warn(\"PySoundFile failed. Trying audioread instead.\")\n",
            "/usr/local/lib/python3.7/dist-packages/librosa/core/audio.py:162: UserWarning: PySoundFile failed. Trying audioread instead.\n",
            "  warnings.warn(\"PySoundFile failed. Trying audioread instead.\")\n",
            "/usr/local/lib/python3.7/dist-packages/librosa/core/audio.py:162: UserWarning: PySoundFile failed. Trying audioread instead.\n",
            "  warnings.warn(\"PySoundFile failed. Trying audioread instead.\")\n",
            "/usr/local/lib/python3.7/dist-packages/librosa/core/audio.py:162: UserWarning: PySoundFile failed. Trying audioread instead.\n",
            "  warnings.warn(\"PySoundFile failed. Trying audioread instead.\")\n",
            "/usr/local/lib/python3.7/dist-packages/librosa/core/audio.py:162: UserWarning: PySoundFile failed. Trying audioread instead.\n",
            "  warnings.warn(\"PySoundFile failed. Trying audioread instead.\")\n",
            "/usr/local/lib/python3.7/dist-packages/librosa/core/audio.py:162: UserWarning: PySoundFile failed. Trying audioread instead.\n",
            "  warnings.warn(\"PySoundFile failed. Trying audioread instead.\")\n",
            "/usr/local/lib/python3.7/dist-packages/librosa/core/audio.py:162: UserWarning: PySoundFile failed. Trying audioread instead.\n",
            "  warnings.warn(\"PySoundFile failed. Trying audioread instead.\")\n",
            "/usr/local/lib/python3.7/dist-packages/librosa/core/audio.py:162: UserWarning: PySoundFile failed. Trying audioread instead.\n",
            "  warnings.warn(\"PySoundFile failed. Trying audioread instead.\")\n",
            "/usr/local/lib/python3.7/dist-packages/librosa/core/audio.py:162: UserWarning: PySoundFile failed. Trying audioread instead.\n",
            "  warnings.warn(\"PySoundFile failed. Trying audioread instead.\")\n",
            "/usr/local/lib/python3.7/dist-packages/librosa/core/audio.py:162: UserWarning: PySoundFile failed. Trying audioread instead.\n",
            "  warnings.warn(\"PySoundFile failed. Trying audioread instead.\")\n",
            "/usr/local/lib/python3.7/dist-packages/librosa/core/audio.py:162: UserWarning: PySoundFile failed. Trying audioread instead.\n",
            "  warnings.warn(\"PySoundFile failed. Trying audioread instead.\")\n",
            "/usr/local/lib/python3.7/dist-packages/librosa/core/audio.py:162: UserWarning: PySoundFile failed. Trying audioread instead.\n",
            "  warnings.warn(\"PySoundFile failed. Trying audioread instead.\")\n",
            "/usr/local/lib/python3.7/dist-packages/librosa/core/audio.py:162: UserWarning: PySoundFile failed. Trying audioread instead.\n",
            "  warnings.warn(\"PySoundFile failed. Trying audioread instead.\")\n",
            "/usr/local/lib/python3.7/dist-packages/librosa/core/audio.py:162: UserWarning: PySoundFile failed. Trying audioread instead.\n",
            "  warnings.warn(\"PySoundFile failed. Trying audioread instead.\")\n",
            "/usr/local/lib/python3.7/dist-packages/librosa/core/audio.py:162: UserWarning: PySoundFile failed. Trying audioread instead.\n",
            "  warnings.warn(\"PySoundFile failed. Trying audioread instead.\")\n",
            "/usr/local/lib/python3.7/dist-packages/librosa/core/audio.py:162: UserWarning: PySoundFile failed. Trying audioread instead.\n",
            "  warnings.warn(\"PySoundFile failed. Trying audioread instead.\")\n",
            "/usr/local/lib/python3.7/dist-packages/librosa/core/audio.py:162: UserWarning: PySoundFile failed. Trying audioread instead.\n",
            "  warnings.warn(\"PySoundFile failed. Trying audioread instead.\")\n",
            "/usr/local/lib/python3.7/dist-packages/librosa/core/audio.py:162: UserWarning: PySoundFile failed. Trying audioread instead.\n",
            "  warnings.warn(\"PySoundFile failed. Trying audioread instead.\")\n",
            "/usr/local/lib/python3.7/dist-packages/librosa/core/audio.py:162: UserWarning: PySoundFile failed. Trying audioread instead.\n",
            "  warnings.warn(\"PySoundFile failed. Trying audioread instead.\")\n",
            "/usr/local/lib/python3.7/dist-packages/librosa/core/audio.py:162: UserWarning: PySoundFile failed. Trying audioread instead.\n",
            "  warnings.warn(\"PySoundFile failed. Trying audioread instead.\")\n",
            "/usr/local/lib/python3.7/dist-packages/librosa/core/audio.py:162: UserWarning: PySoundFile failed. Trying audioread instead.\n",
            "  warnings.warn(\"PySoundFile failed. Trying audioread instead.\")\n",
            "/usr/local/lib/python3.7/dist-packages/librosa/core/audio.py:162: UserWarning: PySoundFile failed. Trying audioread instead.\n",
            "  warnings.warn(\"PySoundFile failed. Trying audioread instead.\")\n",
            "/usr/local/lib/python3.7/dist-packages/librosa/core/audio.py:162: UserWarning: PySoundFile failed. Trying audioread instead.\n",
            "  warnings.warn(\"PySoundFile failed. Trying audioread instead.\")\n",
            "/usr/local/lib/python3.7/dist-packages/librosa/core/audio.py:162: UserWarning: PySoundFile failed. Trying audioread instead.\n",
            "  warnings.warn(\"PySoundFile failed. Trying audioread instead.\")\n",
            "/usr/local/lib/python3.7/dist-packages/librosa/core/audio.py:162: UserWarning: PySoundFile failed. Trying audioread instead.\n",
            "  warnings.warn(\"PySoundFile failed. Trying audioread instead.\")\n",
            "/usr/local/lib/python3.7/dist-packages/librosa/core/audio.py:162: UserWarning: PySoundFile failed. Trying audioread instead.\n",
            "  warnings.warn(\"PySoundFile failed. Trying audioread instead.\")\n",
            "/usr/local/lib/python3.7/dist-packages/librosa/core/audio.py:162: UserWarning: PySoundFile failed. Trying audioread instead.\n",
            "  warnings.warn(\"PySoundFile failed. Trying audioread instead.\")\n",
            "/usr/local/lib/python3.7/dist-packages/librosa/core/audio.py:162: UserWarning: PySoundFile failed. Trying audioread instead.\n",
            "  warnings.warn(\"PySoundFile failed. Trying audioread instead.\")\n",
            "/usr/local/lib/python3.7/dist-packages/librosa/core/audio.py:162: UserWarning: PySoundFile failed. Trying audioread instead.\n",
            "  warnings.warn(\"PySoundFile failed. Trying audioread instead.\")\n",
            "/usr/local/lib/python3.7/dist-packages/librosa/core/audio.py:162: UserWarning: PySoundFile failed. Trying audioread instead.\n",
            "  warnings.warn(\"PySoundFile failed. Trying audioread instead.\")\n",
            "/usr/local/lib/python3.7/dist-packages/librosa/core/audio.py:162: UserWarning: PySoundFile failed. Trying audioread instead.\n",
            "  warnings.warn(\"PySoundFile failed. Trying audioread instead.\")\n",
            "/usr/local/lib/python3.7/dist-packages/librosa/core/audio.py:162: UserWarning: PySoundFile failed. Trying audioread instead.\n",
            "  warnings.warn(\"PySoundFile failed. Trying audioread instead.\")\n",
            "/usr/local/lib/python3.7/dist-packages/librosa/core/audio.py:162: UserWarning: PySoundFile failed. Trying audioread instead.\n",
            "  warnings.warn(\"PySoundFile failed. Trying audioread instead.\")\n",
            "/usr/local/lib/python3.7/dist-packages/librosa/core/audio.py:162: UserWarning: PySoundFile failed. Trying audioread instead.\n",
            "  warnings.warn(\"PySoundFile failed. Trying audioread instead.\")\n",
            "/usr/local/lib/python3.7/dist-packages/librosa/core/audio.py:162: UserWarning: PySoundFile failed. Trying audioread instead.\n",
            "  warnings.warn(\"PySoundFile failed. Trying audioread instead.\")\n",
            "/usr/local/lib/python3.7/dist-packages/librosa/core/audio.py:162: UserWarning: PySoundFile failed. Trying audioread instead.\n",
            "  warnings.warn(\"PySoundFile failed. Trying audioread instead.\")\n",
            "/usr/local/lib/python3.7/dist-packages/librosa/core/audio.py:162: UserWarning: PySoundFile failed. Trying audioread instead.\n",
            "  warnings.warn(\"PySoundFile failed. Trying audioread instead.\")\n",
            "/usr/local/lib/python3.7/dist-packages/librosa/core/audio.py:162: UserWarning: PySoundFile failed. Trying audioread instead.\n",
            "  warnings.warn(\"PySoundFile failed. Trying audioread instead.\")\n",
            "/usr/local/lib/python3.7/dist-packages/librosa/core/audio.py:162: UserWarning: PySoundFile failed. Trying audioread instead.\n",
            "  warnings.warn(\"PySoundFile failed. Trying audioread instead.\")\n",
            "/usr/local/lib/python3.7/dist-packages/librosa/core/audio.py:162: UserWarning: PySoundFile failed. Trying audioread instead.\n",
            "  warnings.warn(\"PySoundFile failed. Trying audioread instead.\")\n",
            "/usr/local/lib/python3.7/dist-packages/librosa/core/audio.py:162: UserWarning: PySoundFile failed. Trying audioread instead.\n",
            "  warnings.warn(\"PySoundFile failed. Trying audioread instead.\")\n",
            "/usr/local/lib/python3.7/dist-packages/librosa/core/audio.py:162: UserWarning: PySoundFile failed. Trying audioread instead.\n",
            "  warnings.warn(\"PySoundFile failed. Trying audioread instead.\")\n",
            "/usr/local/lib/python3.7/dist-packages/librosa/core/audio.py:162: UserWarning: PySoundFile failed. Trying audioread instead.\n",
            "  warnings.warn(\"PySoundFile failed. Trying audioread instead.\")\n",
            "/usr/local/lib/python3.7/dist-packages/librosa/core/audio.py:162: UserWarning: PySoundFile failed. Trying audioread instead.\n",
            "  warnings.warn(\"PySoundFile failed. Trying audioread instead.\")\n",
            "/usr/local/lib/python3.7/dist-packages/librosa/core/audio.py:162: UserWarning: PySoundFile failed. Trying audioread instead.\n",
            "  warnings.warn(\"PySoundFile failed. Trying audioread instead.\")\n",
            "/usr/local/lib/python3.7/dist-packages/librosa/core/audio.py:162: UserWarning: PySoundFile failed. Trying audioread instead.\n",
            "  warnings.warn(\"PySoundFile failed. Trying audioread instead.\")\n",
            "/usr/local/lib/python3.7/dist-packages/librosa/core/audio.py:162: UserWarning: PySoundFile failed. Trying audioread instead.\n",
            "  warnings.warn(\"PySoundFile failed. Trying audioread instead.\")\n",
            "/usr/local/lib/python3.7/dist-packages/librosa/core/audio.py:162: UserWarning: PySoundFile failed. Trying audioread instead.\n",
            "  warnings.warn(\"PySoundFile failed. Trying audioread instead.\")\n",
            "/usr/local/lib/python3.7/dist-packages/librosa/core/audio.py:162: UserWarning: PySoundFile failed. Trying audioread instead.\n",
            "  warnings.warn(\"PySoundFile failed. Trying audioread instead.\")\n",
            "/usr/local/lib/python3.7/dist-packages/librosa/core/audio.py:162: UserWarning: PySoundFile failed. Trying audioread instead.\n",
            "  warnings.warn(\"PySoundFile failed. Trying audioread instead.\")\n",
            "/usr/local/lib/python3.7/dist-packages/librosa/core/audio.py:162: UserWarning: PySoundFile failed. Trying audioread instead.\n",
            "  warnings.warn(\"PySoundFile failed. Trying audioread instead.\")\n",
            "/usr/local/lib/python3.7/dist-packages/librosa/core/audio.py:162: UserWarning: PySoundFile failed. Trying audioread instead.\n",
            "  warnings.warn(\"PySoundFile failed. Trying audioread instead.\")\n",
            "/usr/local/lib/python3.7/dist-packages/librosa/core/audio.py:162: UserWarning: PySoundFile failed. Trying audioread instead.\n",
            "  warnings.warn(\"PySoundFile failed. Trying audioread instead.\")\n",
            "/usr/local/lib/python3.7/dist-packages/librosa/core/audio.py:162: UserWarning: PySoundFile failed. Trying audioread instead.\n",
            "  warnings.warn(\"PySoundFile failed. Trying audioread instead.\")\n",
            "/usr/local/lib/python3.7/dist-packages/librosa/core/audio.py:162: UserWarning: PySoundFile failed. Trying audioread instead.\n",
            "  warnings.warn(\"PySoundFile failed. Trying audioread instead.\")\n",
            "/usr/local/lib/python3.7/dist-packages/librosa/core/audio.py:162: UserWarning: PySoundFile failed. Trying audioread instead.\n",
            "  warnings.warn(\"PySoundFile failed. Trying audioread instead.\")\n",
            "/usr/local/lib/python3.7/dist-packages/librosa/core/audio.py:162: UserWarning: PySoundFile failed. Trying audioread instead.\n",
            "  warnings.warn(\"PySoundFile failed. Trying audioread instead.\")\n",
            "/usr/local/lib/python3.7/dist-packages/librosa/core/audio.py:162: UserWarning: PySoundFile failed. Trying audioread instead.\n",
            "  warnings.warn(\"PySoundFile failed. Trying audioread instead.\")\n",
            "/usr/local/lib/python3.7/dist-packages/librosa/core/audio.py:162: UserWarning: PySoundFile failed. Trying audioread instead.\n",
            "  warnings.warn(\"PySoundFile failed. Trying audioread instead.\")\n",
            "/usr/local/lib/python3.7/dist-packages/librosa/core/audio.py:162: UserWarning: PySoundFile failed. Trying audioread instead.\n",
            "  warnings.warn(\"PySoundFile failed. Trying audioread instead.\")\n",
            "/usr/local/lib/python3.7/dist-packages/librosa/core/audio.py:162: UserWarning: PySoundFile failed. Trying audioread instead.\n",
            "  warnings.warn(\"PySoundFile failed. Trying audioread instead.\")\n",
            "/usr/local/lib/python3.7/dist-packages/librosa/core/audio.py:162: UserWarning: PySoundFile failed. Trying audioread instead.\n",
            "  warnings.warn(\"PySoundFile failed. Trying audioread instead.\")\n",
            "/usr/local/lib/python3.7/dist-packages/librosa/core/audio.py:162: UserWarning: PySoundFile failed. Trying audioread instead.\n",
            "  warnings.warn(\"PySoundFile failed. Trying audioread instead.\")\n",
            "/usr/local/lib/python3.7/dist-packages/librosa/core/audio.py:162: UserWarning: PySoundFile failed. Trying audioread instead.\n",
            "  warnings.warn(\"PySoundFile failed. Trying audioread instead.\")\n",
            "/usr/local/lib/python3.7/dist-packages/librosa/core/audio.py:162: UserWarning: PySoundFile failed. Trying audioread instead.\n",
            "  warnings.warn(\"PySoundFile failed. Trying audioread instead.\")\n",
            "/usr/local/lib/python3.7/dist-packages/librosa/core/audio.py:162: UserWarning: PySoundFile failed. Trying audioread instead.\n",
            "  warnings.warn(\"PySoundFile failed. Trying audioread instead.\")\n",
            "/usr/local/lib/python3.7/dist-packages/librosa/core/audio.py:162: UserWarning: PySoundFile failed. Trying audioread instead.\n",
            "  warnings.warn(\"PySoundFile failed. Trying audioread instead.\")\n",
            "/usr/local/lib/python3.7/dist-packages/librosa/core/audio.py:162: UserWarning: PySoundFile failed. Trying audioread instead.\n",
            "  warnings.warn(\"PySoundFile failed. Trying audioread instead.\")\n",
            "/usr/local/lib/python3.7/dist-packages/librosa/core/audio.py:162: UserWarning: PySoundFile failed. Trying audioread instead.\n",
            "  warnings.warn(\"PySoundFile failed. Trying audioread instead.\")\n",
            "/usr/local/lib/python3.7/dist-packages/librosa/core/audio.py:162: UserWarning: PySoundFile failed. Trying audioread instead.\n",
            "  warnings.warn(\"PySoundFile failed. Trying audioread instead.\")\n",
            "/usr/local/lib/python3.7/dist-packages/librosa/core/audio.py:162: UserWarning: PySoundFile failed. Trying audioread instead.\n",
            "  warnings.warn(\"PySoundFile failed. Trying audioread instead.\")\n",
            "/usr/local/lib/python3.7/dist-packages/librosa/core/audio.py:162: UserWarning: PySoundFile failed. Trying audioread instead.\n",
            "  warnings.warn(\"PySoundFile failed. Trying audioread instead.\")\n",
            "/usr/local/lib/python3.7/dist-packages/librosa/core/audio.py:162: UserWarning: PySoundFile failed. Trying audioread instead.\n",
            "  warnings.warn(\"PySoundFile failed. Trying audioread instead.\")\n",
            "/usr/local/lib/python3.7/dist-packages/librosa/core/audio.py:162: UserWarning: PySoundFile failed. Trying audioread instead.\n",
            "  warnings.warn(\"PySoundFile failed. Trying audioread instead.\")\n",
            "/usr/local/lib/python3.7/dist-packages/librosa/core/audio.py:162: UserWarning: PySoundFile failed. Trying audioread instead.\n",
            "  warnings.warn(\"PySoundFile failed. Trying audioread instead.\")\n",
            "/usr/local/lib/python3.7/dist-packages/librosa/core/audio.py:162: UserWarning: PySoundFile failed. Trying audioread instead.\n",
            "  warnings.warn(\"PySoundFile failed. Trying audioread instead.\")\n",
            "/usr/local/lib/python3.7/dist-packages/librosa/core/audio.py:162: UserWarning: PySoundFile failed. Trying audioread instead.\n",
            "  warnings.warn(\"PySoundFile failed. Trying audioread instead.\")\n",
            "/usr/local/lib/python3.7/dist-packages/librosa/core/audio.py:162: UserWarning: PySoundFile failed. Trying audioread instead.\n",
            "  warnings.warn(\"PySoundFile failed. Trying audioread instead.\")\n",
            "/usr/local/lib/python3.7/dist-packages/librosa/core/audio.py:162: UserWarning: PySoundFile failed. Trying audioread instead.\n",
            "  warnings.warn(\"PySoundFile failed. Trying audioread instead.\")\n",
            "/usr/local/lib/python3.7/dist-packages/librosa/core/audio.py:162: UserWarning: PySoundFile failed. Trying audioread instead.\n",
            "  warnings.warn(\"PySoundFile failed. Trying audioread instead.\")\n",
            "/usr/local/lib/python3.7/dist-packages/librosa/core/audio.py:162: UserWarning: PySoundFile failed. Trying audioread instead.\n",
            "  warnings.warn(\"PySoundFile failed. Trying audioread instead.\")\n",
            "/usr/local/lib/python3.7/dist-packages/librosa/core/audio.py:162: UserWarning: PySoundFile failed. Trying audioread instead.\n",
            "  warnings.warn(\"PySoundFile failed. Trying audioread instead.\")\n",
            "/usr/local/lib/python3.7/dist-packages/librosa/core/audio.py:162: UserWarning: PySoundFile failed. Trying audioread instead.\n",
            "  warnings.warn(\"PySoundFile failed. Trying audioread instead.\")\n",
            "/usr/local/lib/python3.7/dist-packages/librosa/core/audio.py:162: UserWarning: PySoundFile failed. Trying audioread instead.\n",
            "  warnings.warn(\"PySoundFile failed. Trying audioread instead.\")\n",
            "/usr/local/lib/python3.7/dist-packages/librosa/core/audio.py:162: UserWarning: PySoundFile failed. Trying audioread instead.\n",
            "  warnings.warn(\"PySoundFile failed. Trying audioread instead.\")\n",
            "/usr/local/lib/python3.7/dist-packages/librosa/core/audio.py:162: UserWarning: PySoundFile failed. Trying audioread instead.\n",
            "  warnings.warn(\"PySoundFile failed. Trying audioread instead.\")\n",
            "/usr/local/lib/python3.7/dist-packages/librosa/core/audio.py:162: UserWarning: PySoundFile failed. Trying audioread instead.\n",
            "  warnings.warn(\"PySoundFile failed. Trying audioread instead.\")\n",
            "/usr/local/lib/python3.7/dist-packages/librosa/core/audio.py:162: UserWarning: PySoundFile failed. Trying audioread instead.\n",
            "  warnings.warn(\"PySoundFile failed. Trying audioread instead.\")\n",
            "/usr/local/lib/python3.7/dist-packages/librosa/core/audio.py:162: UserWarning: PySoundFile failed. Trying audioread instead.\n",
            "  warnings.warn(\"PySoundFile failed. Trying audioread instead.\")\n",
            "/usr/local/lib/python3.7/dist-packages/librosa/core/audio.py:162: UserWarning: PySoundFile failed. Trying audioread instead.\n",
            "  warnings.warn(\"PySoundFile failed. Trying audioread instead.\")\n",
            "/usr/local/lib/python3.7/dist-packages/librosa/core/audio.py:162: UserWarning: PySoundFile failed. Trying audioread instead.\n",
            "  warnings.warn(\"PySoundFile failed. Trying audioread instead.\")\n",
            "/usr/local/lib/python3.7/dist-packages/librosa/core/audio.py:162: UserWarning: PySoundFile failed. Trying audioread instead.\n",
            "  warnings.warn(\"PySoundFile failed. Trying audioread instead.\")\n",
            "/usr/local/lib/python3.7/dist-packages/librosa/core/audio.py:162: UserWarning: PySoundFile failed. Trying audioread instead.\n",
            "  warnings.warn(\"PySoundFile failed. Trying audioread instead.\")\n",
            "/usr/local/lib/python3.7/dist-packages/librosa/core/audio.py:162: UserWarning: PySoundFile failed. Trying audioread instead.\n",
            "  warnings.warn(\"PySoundFile failed. Trying audioread instead.\")\n",
            "/usr/local/lib/python3.7/dist-packages/librosa/core/audio.py:162: UserWarning: PySoundFile failed. Trying audioread instead.\n",
            "  warnings.warn(\"PySoundFile failed. Trying audioread instead.\")\n",
            "/usr/local/lib/python3.7/dist-packages/librosa/core/audio.py:162: UserWarning: PySoundFile failed. Trying audioread instead.\n",
            "  warnings.warn(\"PySoundFile failed. Trying audioread instead.\")\n",
            "/usr/local/lib/python3.7/dist-packages/librosa/core/audio.py:162: UserWarning: PySoundFile failed. Trying audioread instead.\n",
            "  warnings.warn(\"PySoundFile failed. Trying audioread instead.\")\n",
            "/usr/local/lib/python3.7/dist-packages/librosa/core/audio.py:162: UserWarning: PySoundFile failed. Trying audioread instead.\n",
            "  warnings.warn(\"PySoundFile failed. Trying audioread instead.\")\n",
            "/usr/local/lib/python3.7/dist-packages/librosa/core/audio.py:162: UserWarning: PySoundFile failed. Trying audioread instead.\n",
            "  warnings.warn(\"PySoundFile failed. Trying audioread instead.\")\n",
            "/usr/local/lib/python3.7/dist-packages/librosa/core/audio.py:162: UserWarning: PySoundFile failed. Trying audioread instead.\n",
            "  warnings.warn(\"PySoundFile failed. Trying audioread instead.\")\n",
            "/usr/local/lib/python3.7/dist-packages/librosa/core/audio.py:162: UserWarning: PySoundFile failed. Trying audioread instead.\n",
            "  warnings.warn(\"PySoundFile failed. Trying audioread instead.\")\n",
            "/usr/local/lib/python3.7/dist-packages/librosa/core/audio.py:162: UserWarning: PySoundFile failed. Trying audioread instead.\n",
            "  warnings.warn(\"PySoundFile failed. Trying audioread instead.\")\n",
            "/usr/local/lib/python3.7/dist-packages/librosa/core/audio.py:162: UserWarning: PySoundFile failed. Trying audioread instead.\n",
            "  warnings.warn(\"PySoundFile failed. Trying audioread instead.\")\n",
            "/usr/local/lib/python3.7/dist-packages/librosa/core/audio.py:162: UserWarning: PySoundFile failed. Trying audioread instead.\n",
            "  warnings.warn(\"PySoundFile failed. Trying audioread instead.\")\n",
            "/usr/local/lib/python3.7/dist-packages/librosa/core/audio.py:162: UserWarning: PySoundFile failed. Trying audioread instead.\n",
            "  warnings.warn(\"PySoundFile failed. Trying audioread instead.\")\n",
            "/usr/local/lib/python3.7/dist-packages/librosa/core/audio.py:162: UserWarning: PySoundFile failed. Trying audioread instead.\n",
            "  warnings.warn(\"PySoundFile failed. Trying audioread instead.\")\n",
            "/usr/local/lib/python3.7/dist-packages/librosa/core/audio.py:162: UserWarning: PySoundFile failed. Trying audioread instead.\n",
            "  warnings.warn(\"PySoundFile failed. Trying audioread instead.\")\n",
            "/usr/local/lib/python3.7/dist-packages/librosa/core/audio.py:162: UserWarning: PySoundFile failed. Trying audioread instead.\n",
            "  warnings.warn(\"PySoundFile failed. Trying audioread instead.\")\n",
            "/usr/local/lib/python3.7/dist-packages/librosa/core/audio.py:162: UserWarning: PySoundFile failed. Trying audioread instead.\n",
            "  warnings.warn(\"PySoundFile failed. Trying audioread instead.\")\n",
            "/usr/local/lib/python3.7/dist-packages/librosa/core/audio.py:162: UserWarning: PySoundFile failed. Trying audioread instead.\n",
            "  warnings.warn(\"PySoundFile failed. Trying audioread instead.\")\n",
            "/usr/local/lib/python3.7/dist-packages/librosa/core/audio.py:162: UserWarning: PySoundFile failed. Trying audioread instead.\n",
            "  warnings.warn(\"PySoundFile failed. Trying audioread instead.\")\n",
            "/usr/local/lib/python3.7/dist-packages/librosa/core/audio.py:162: UserWarning: PySoundFile failed. Trying audioread instead.\n",
            "  warnings.warn(\"PySoundFile failed. Trying audioread instead.\")\n",
            "/usr/local/lib/python3.7/dist-packages/librosa/core/audio.py:162: UserWarning: PySoundFile failed. Trying audioread instead.\n",
            "  warnings.warn(\"PySoundFile failed. Trying audioread instead.\")\n",
            "/usr/local/lib/python3.7/dist-packages/librosa/core/audio.py:162: UserWarning: PySoundFile failed. Trying audioread instead.\n",
            "  warnings.warn(\"PySoundFile failed. Trying audioread instead.\")\n",
            "/usr/local/lib/python3.7/dist-packages/librosa/core/audio.py:162: UserWarning: PySoundFile failed. Trying audioread instead.\n",
            "  warnings.warn(\"PySoundFile failed. Trying audioread instead.\")\n",
            "/usr/local/lib/python3.7/dist-packages/librosa/core/audio.py:162: UserWarning: PySoundFile failed. Trying audioread instead.\n",
            "  warnings.warn(\"PySoundFile failed. Trying audioread instead.\")\n",
            "/usr/local/lib/python3.7/dist-packages/librosa/core/audio.py:162: UserWarning: PySoundFile failed. Trying audioread instead.\n",
            "  warnings.warn(\"PySoundFile failed. Trying audioread instead.\")\n",
            "/usr/local/lib/python3.7/dist-packages/librosa/core/audio.py:162: UserWarning: PySoundFile failed. Trying audioread instead.\n",
            "  warnings.warn(\"PySoundFile failed. Trying audioread instead.\")\n",
            "/usr/local/lib/python3.7/dist-packages/librosa/core/audio.py:162: UserWarning: PySoundFile failed. Trying audioread instead.\n",
            "  warnings.warn(\"PySoundFile failed. Trying audioread instead.\")\n",
            "/usr/local/lib/python3.7/dist-packages/librosa/core/audio.py:162: UserWarning: PySoundFile failed. Trying audioread instead.\n",
            "  warnings.warn(\"PySoundFile failed. Trying audioread instead.\")\n",
            "/usr/local/lib/python3.7/dist-packages/librosa/core/audio.py:162: UserWarning: PySoundFile failed. Trying audioread instead.\n",
            "  warnings.warn(\"PySoundFile failed. Trying audioread instead.\")\n",
            "/usr/local/lib/python3.7/dist-packages/librosa/core/audio.py:162: UserWarning: PySoundFile failed. Trying audioread instead.\n",
            "  warnings.warn(\"PySoundFile failed. Trying audioread instead.\")\n",
            "/usr/local/lib/python3.7/dist-packages/librosa/core/audio.py:162: UserWarning: PySoundFile failed. Trying audioread instead.\n",
            "  warnings.warn(\"PySoundFile failed. Trying audioread instead.\")\n",
            "/usr/local/lib/python3.7/dist-packages/librosa/core/audio.py:162: UserWarning: PySoundFile failed. Trying audioread instead.\n",
            "  warnings.warn(\"PySoundFile failed. Trying audioread instead.\")\n",
            "/usr/local/lib/python3.7/dist-packages/librosa/core/audio.py:162: UserWarning: PySoundFile failed. Trying audioread instead.\n",
            "  warnings.warn(\"PySoundFile failed. Trying audioread instead.\")\n",
            "/usr/local/lib/python3.7/dist-packages/librosa/core/audio.py:162: UserWarning: PySoundFile failed. Trying audioread instead.\n",
            "  warnings.warn(\"PySoundFile failed. Trying audioread instead.\")\n",
            "/usr/local/lib/python3.7/dist-packages/librosa/core/audio.py:162: UserWarning: PySoundFile failed. Trying audioread instead.\n",
            "  warnings.warn(\"PySoundFile failed. Trying audioread instead.\")\n",
            "/usr/local/lib/python3.7/dist-packages/librosa/core/audio.py:162: UserWarning: PySoundFile failed. Trying audioread instead.\n",
            "  warnings.warn(\"PySoundFile failed. Trying audioread instead.\")\n",
            "/usr/local/lib/python3.7/dist-packages/librosa/core/audio.py:162: UserWarning: PySoundFile failed. Trying audioread instead.\n",
            "  warnings.warn(\"PySoundFile failed. Trying audioread instead.\")\n",
            "/usr/local/lib/python3.7/dist-packages/librosa/core/audio.py:162: UserWarning: PySoundFile failed. Trying audioread instead.\n",
            "  warnings.warn(\"PySoundFile failed. Trying audioread instead.\")\n",
            "/usr/local/lib/python3.7/dist-packages/librosa/core/audio.py:162: UserWarning: PySoundFile failed. Trying audioread instead.\n",
            "  warnings.warn(\"PySoundFile failed. Trying audioread instead.\")\n",
            "/usr/local/lib/python3.7/dist-packages/librosa/core/audio.py:162: UserWarning: PySoundFile failed. Trying audioread instead.\n",
            "  warnings.warn(\"PySoundFile failed. Trying audioread instead.\")\n",
            "/usr/local/lib/python3.7/dist-packages/librosa/core/audio.py:162: UserWarning: PySoundFile failed. Trying audioread instead.\n",
            "  warnings.warn(\"PySoundFile failed. Trying audioread instead.\")\n",
            "/usr/local/lib/python3.7/dist-packages/librosa/core/audio.py:162: UserWarning: PySoundFile failed. Trying audioread instead.\n",
            "  warnings.warn(\"PySoundFile failed. Trying audioread instead.\")\n",
            "/usr/local/lib/python3.7/dist-packages/librosa/core/audio.py:162: UserWarning: PySoundFile failed. Trying audioread instead.\n",
            "  warnings.warn(\"PySoundFile failed. Trying audioread instead.\")\n",
            "/usr/local/lib/python3.7/dist-packages/librosa/core/audio.py:162: UserWarning: PySoundFile failed. Trying audioread instead.\n",
            "  warnings.warn(\"PySoundFile failed. Trying audioread instead.\")\n",
            "/usr/local/lib/python3.7/dist-packages/librosa/core/audio.py:162: UserWarning: PySoundFile failed. Trying audioread instead.\n",
            "  warnings.warn(\"PySoundFile failed. Trying audioread instead.\")\n",
            "/usr/local/lib/python3.7/dist-packages/librosa/core/audio.py:162: UserWarning: PySoundFile failed. Trying audioread instead.\n",
            "  warnings.warn(\"PySoundFile failed. Trying audioread instead.\")\n",
            "/usr/local/lib/python3.7/dist-packages/librosa/core/audio.py:162: UserWarning: PySoundFile failed. Trying audioread instead.\n",
            "  warnings.warn(\"PySoundFile failed. Trying audioread instead.\")\n",
            "/usr/local/lib/python3.7/dist-packages/librosa/core/audio.py:162: UserWarning: PySoundFile failed. Trying audioread instead.\n",
            "  warnings.warn(\"PySoundFile failed. Trying audioread instead.\")\n",
            "/usr/local/lib/python3.7/dist-packages/librosa/core/audio.py:162: UserWarning: PySoundFile failed. Trying audioread instead.\n",
            "  warnings.warn(\"PySoundFile failed. Trying audioread instead.\")\n",
            "/usr/local/lib/python3.7/dist-packages/librosa/core/audio.py:162: UserWarning: PySoundFile failed. Trying audioread instead.\n",
            "  warnings.warn(\"PySoundFile failed. Trying audioread instead.\")\n",
            "/usr/local/lib/python3.7/dist-packages/librosa/core/audio.py:162: UserWarning: PySoundFile failed. Trying audioread instead.\n",
            "  warnings.warn(\"PySoundFile failed. Trying audioread instead.\")\n",
            "/usr/local/lib/python3.7/dist-packages/librosa/core/audio.py:162: UserWarning: PySoundFile failed. Trying audioread instead.\n",
            "  warnings.warn(\"PySoundFile failed. Trying audioread instead.\")\n",
            "/usr/local/lib/python3.7/dist-packages/librosa/core/audio.py:162: UserWarning: PySoundFile failed. Trying audioread instead.\n",
            "  warnings.warn(\"PySoundFile failed. Trying audioread instead.\")\n",
            "/usr/local/lib/python3.7/dist-packages/librosa/core/audio.py:162: UserWarning: PySoundFile failed. Trying audioread instead.\n",
            "  warnings.warn(\"PySoundFile failed. Trying audioread instead.\")\n",
            "/usr/local/lib/python3.7/dist-packages/librosa/core/audio.py:162: UserWarning: PySoundFile failed. Trying audioread instead.\n",
            "  warnings.warn(\"PySoundFile failed. Trying audioread instead.\")\n",
            "/usr/local/lib/python3.7/dist-packages/librosa/core/audio.py:162: UserWarning: PySoundFile failed. Trying audioread instead.\n",
            "  warnings.warn(\"PySoundFile failed. Trying audioread instead.\")\n",
            "/usr/local/lib/python3.7/dist-packages/librosa/core/audio.py:162: UserWarning: PySoundFile failed. Trying audioread instead.\n",
            "  warnings.warn(\"PySoundFile failed. Trying audioread instead.\")\n",
            "/usr/local/lib/python3.7/dist-packages/librosa/core/audio.py:162: UserWarning: PySoundFile failed. Trying audioread instead.\n",
            "  warnings.warn(\"PySoundFile failed. Trying audioread instead.\")\n",
            "/usr/local/lib/python3.7/dist-packages/librosa/core/audio.py:162: UserWarning: PySoundFile failed. Trying audioread instead.\n",
            "  warnings.warn(\"PySoundFile failed. Trying audioread instead.\")\n",
            "/usr/local/lib/python3.7/dist-packages/librosa/core/audio.py:162: UserWarning: PySoundFile failed. Trying audioread instead.\n",
            "  warnings.warn(\"PySoundFile failed. Trying audioread instead.\")\n",
            "/usr/local/lib/python3.7/dist-packages/librosa/core/audio.py:162: UserWarning: PySoundFile failed. Trying audioread instead.\n",
            "  warnings.warn(\"PySoundFile failed. Trying audioread instead.\")\n",
            "/usr/local/lib/python3.7/dist-packages/librosa/core/audio.py:162: UserWarning: PySoundFile failed. Trying audioread instead.\n",
            "  warnings.warn(\"PySoundFile failed. Trying audioread instead.\")\n",
            "/usr/local/lib/python3.7/dist-packages/librosa/core/audio.py:162: UserWarning: PySoundFile failed. Trying audioread instead.\n",
            "  warnings.warn(\"PySoundFile failed. Trying audioread instead.\")\n",
            "/usr/local/lib/python3.7/dist-packages/librosa/core/audio.py:162: UserWarning: PySoundFile failed. Trying audioread instead.\n",
            "  warnings.warn(\"PySoundFile failed. Trying audioread instead.\")\n",
            "/usr/local/lib/python3.7/dist-packages/librosa/core/audio.py:162: UserWarning: PySoundFile failed. Trying audioread instead.\n",
            "  warnings.warn(\"PySoundFile failed. Trying audioread instead.\")\n",
            "/usr/local/lib/python3.7/dist-packages/librosa/core/audio.py:162: UserWarning: PySoundFile failed. Trying audioread instead.\n",
            "  warnings.warn(\"PySoundFile failed. Trying audioread instead.\")\n",
            "/usr/local/lib/python3.7/dist-packages/librosa/core/audio.py:162: UserWarning: PySoundFile failed. Trying audioread instead.\n",
            "  warnings.warn(\"PySoundFile failed. Trying audioread instead.\")\n",
            "/usr/local/lib/python3.7/dist-packages/librosa/core/audio.py:162: UserWarning: PySoundFile failed. Trying audioread instead.\n",
            "  warnings.warn(\"PySoundFile failed. Trying audioread instead.\")\n",
            "/usr/local/lib/python3.7/dist-packages/librosa/core/audio.py:162: UserWarning: PySoundFile failed. Trying audioread instead.\n",
            "  warnings.warn(\"PySoundFile failed. Trying audioread instead.\")\n",
            "/usr/local/lib/python3.7/dist-packages/librosa/core/audio.py:162: UserWarning: PySoundFile failed. Trying audioread instead.\n",
            "  warnings.warn(\"PySoundFile failed. Trying audioread instead.\")\n",
            "/usr/local/lib/python3.7/dist-packages/librosa/core/audio.py:162: UserWarning: PySoundFile failed. Trying audioread instead.\n",
            "  warnings.warn(\"PySoundFile failed. Trying audioread instead.\")\n",
            "/usr/local/lib/python3.7/dist-packages/librosa/core/audio.py:162: UserWarning: PySoundFile failed. Trying audioread instead.\n",
            "  warnings.warn(\"PySoundFile failed. Trying audioread instead.\")\n",
            "/usr/local/lib/python3.7/dist-packages/librosa/core/audio.py:162: UserWarning: PySoundFile failed. Trying audioread instead.\n",
            "  warnings.warn(\"PySoundFile failed. Trying audioread instead.\")\n",
            "/usr/local/lib/python3.7/dist-packages/librosa/core/audio.py:162: UserWarning: PySoundFile failed. Trying audioread instead.\n",
            "  warnings.warn(\"PySoundFile failed. Trying audioread instead.\")\n",
            "/usr/local/lib/python3.7/dist-packages/librosa/core/audio.py:162: UserWarning: PySoundFile failed. Trying audioread instead.\n",
            "  warnings.warn(\"PySoundFile failed. Trying audioread instead.\")\n",
            "/usr/local/lib/python3.7/dist-packages/librosa/core/audio.py:162: UserWarning: PySoundFile failed. Trying audioread instead.\n",
            "  warnings.warn(\"PySoundFile failed. Trying audioread instead.\")\n",
            "/usr/local/lib/python3.7/dist-packages/librosa/core/audio.py:162: UserWarning: PySoundFile failed. Trying audioread instead.\n",
            "  warnings.warn(\"PySoundFile failed. Trying audioread instead.\")\n",
            "/usr/local/lib/python3.7/dist-packages/librosa/core/audio.py:162: UserWarning: PySoundFile failed. Trying audioread instead.\n",
            "  warnings.warn(\"PySoundFile failed. Trying audioread instead.\")\n",
            "/usr/local/lib/python3.7/dist-packages/librosa/core/audio.py:162: UserWarning: PySoundFile failed. Trying audioread instead.\n",
            "  warnings.warn(\"PySoundFile failed. Trying audioread instead.\")\n",
            "/usr/local/lib/python3.7/dist-packages/librosa/core/audio.py:162: UserWarning: PySoundFile failed. Trying audioread instead.\n",
            "  warnings.warn(\"PySoundFile failed. Trying audioread instead.\")\n",
            "/usr/local/lib/python3.7/dist-packages/librosa/core/audio.py:162: UserWarning: PySoundFile failed. Trying audioread instead.\n",
            "  warnings.warn(\"PySoundFile failed. Trying audioread instead.\")\n",
            "/usr/local/lib/python3.7/dist-packages/librosa/core/audio.py:162: UserWarning: PySoundFile failed. Trying audioread instead.\n",
            "  warnings.warn(\"PySoundFile failed. Trying audioread instead.\")\n",
            "/usr/local/lib/python3.7/dist-packages/librosa/core/audio.py:162: UserWarning: PySoundFile failed. Trying audioread instead.\n",
            "  warnings.warn(\"PySoundFile failed. Trying audioread instead.\")\n",
            "/usr/local/lib/python3.7/dist-packages/librosa/core/audio.py:162: UserWarning: PySoundFile failed. Trying audioread instead.\n",
            "  warnings.warn(\"PySoundFile failed. Trying audioread instead.\")\n",
            "/usr/local/lib/python3.7/dist-packages/librosa/core/audio.py:162: UserWarning: PySoundFile failed. Trying audioread instead.\n",
            "  warnings.warn(\"PySoundFile failed. Trying audioread instead.\")\n",
            "/usr/local/lib/python3.7/dist-packages/librosa/core/audio.py:162: UserWarning: PySoundFile failed. Trying audioread instead.\n",
            "  warnings.warn(\"PySoundFile failed. Trying audioread instead.\")\n",
            "/usr/local/lib/python3.7/dist-packages/librosa/core/audio.py:162: UserWarning: PySoundFile failed. Trying audioread instead.\n",
            "  warnings.warn(\"PySoundFile failed. Trying audioread instead.\")\n",
            "/usr/local/lib/python3.7/dist-packages/librosa/core/audio.py:162: UserWarning: PySoundFile failed. Trying audioread instead.\n",
            "  warnings.warn(\"PySoundFile failed. Trying audioread instead.\")\n",
            "/usr/local/lib/python3.7/dist-packages/librosa/core/audio.py:162: UserWarning: PySoundFile failed. Trying audioread instead.\n",
            "  warnings.warn(\"PySoundFile failed. Trying audioread instead.\")\n",
            "/usr/local/lib/python3.7/dist-packages/librosa/core/audio.py:162: UserWarning: PySoundFile failed. Trying audioread instead.\n",
            "  warnings.warn(\"PySoundFile failed. Trying audioread instead.\")\n",
            "/usr/local/lib/python3.7/dist-packages/librosa/core/audio.py:162: UserWarning: PySoundFile failed. Trying audioread instead.\n",
            "  warnings.warn(\"PySoundFile failed. Trying audioread instead.\")\n",
            "/usr/local/lib/python3.7/dist-packages/librosa/core/audio.py:162: UserWarning: PySoundFile failed. Trying audioread instead.\n",
            "  warnings.warn(\"PySoundFile failed. Trying audioread instead.\")\n",
            "/usr/local/lib/python3.7/dist-packages/librosa/core/audio.py:162: UserWarning: PySoundFile failed. Trying audioread instead.\n",
            "  warnings.warn(\"PySoundFile failed. Trying audioread instead.\")\n",
            "/usr/local/lib/python3.7/dist-packages/librosa/core/audio.py:162: UserWarning: PySoundFile failed. Trying audioread instead.\n",
            "  warnings.warn(\"PySoundFile failed. Trying audioread instead.\")\n",
            "/usr/local/lib/python3.7/dist-packages/librosa/core/audio.py:162: UserWarning: PySoundFile failed. Trying audioread instead.\n",
            "  warnings.warn(\"PySoundFile failed. Trying audioread instead.\")\n",
            "/usr/local/lib/python3.7/dist-packages/librosa/core/audio.py:162: UserWarning: PySoundFile failed. Trying audioread instead.\n",
            "  warnings.warn(\"PySoundFile failed. Trying audioread instead.\")\n",
            "/usr/local/lib/python3.7/dist-packages/librosa/core/audio.py:162: UserWarning: PySoundFile failed. Trying audioread instead.\n",
            "  warnings.warn(\"PySoundFile failed. Trying audioread instead.\")\n",
            "/usr/local/lib/python3.7/dist-packages/librosa/core/audio.py:162: UserWarning: PySoundFile failed. Trying audioread instead.\n",
            "  warnings.warn(\"PySoundFile failed. Trying audioread instead.\")\n",
            "/usr/local/lib/python3.7/dist-packages/librosa/core/audio.py:162: UserWarning: PySoundFile failed. Trying audioread instead.\n",
            "  warnings.warn(\"PySoundFile failed. Trying audioread instead.\")\n",
            "/usr/local/lib/python3.7/dist-packages/librosa/core/audio.py:162: UserWarning: PySoundFile failed. Trying audioread instead.\n",
            "  warnings.warn(\"PySoundFile failed. Trying audioread instead.\")\n",
            "/usr/local/lib/python3.7/dist-packages/librosa/core/audio.py:162: UserWarning: PySoundFile failed. Trying audioread instead.\n",
            "  warnings.warn(\"PySoundFile failed. Trying audioread instead.\")\n",
            "/usr/local/lib/python3.7/dist-packages/librosa/core/audio.py:162: UserWarning: PySoundFile failed. Trying audioread instead.\n",
            "  warnings.warn(\"PySoundFile failed. Trying audioread instead.\")\n",
            "/usr/local/lib/python3.7/dist-packages/librosa/core/audio.py:162: UserWarning: PySoundFile failed. Trying audioread instead.\n",
            "  warnings.warn(\"PySoundFile failed. Trying audioread instead.\")\n",
            "/usr/local/lib/python3.7/dist-packages/librosa/core/audio.py:162: UserWarning: PySoundFile failed. Trying audioread instead.\n",
            "  warnings.warn(\"PySoundFile failed. Trying audioread instead.\")\n",
            "/usr/local/lib/python3.7/dist-packages/librosa/core/audio.py:162: UserWarning: PySoundFile failed. Trying audioread instead.\n",
            "  warnings.warn(\"PySoundFile failed. Trying audioread instead.\")\n",
            "/usr/local/lib/python3.7/dist-packages/librosa/core/audio.py:162: UserWarning: PySoundFile failed. Trying audioread instead.\n",
            "  warnings.warn(\"PySoundFile failed. Trying audioread instead.\")\n",
            "/usr/local/lib/python3.7/dist-packages/librosa/core/audio.py:162: UserWarning: PySoundFile failed. Trying audioread instead.\n",
            "  warnings.warn(\"PySoundFile failed. Trying audioread instead.\")\n",
            "/usr/local/lib/python3.7/dist-packages/librosa/core/audio.py:162: UserWarning: PySoundFile failed. Trying audioread instead.\n",
            "  warnings.warn(\"PySoundFile failed. Trying audioread instead.\")\n",
            "/usr/local/lib/python3.7/dist-packages/librosa/core/audio.py:162: UserWarning: PySoundFile failed. Trying audioread instead.\n",
            "  warnings.warn(\"PySoundFile failed. Trying audioread instead.\")\n",
            "/usr/local/lib/python3.7/dist-packages/librosa/core/audio.py:162: UserWarning: PySoundFile failed. Trying audioread instead.\n",
            "  warnings.warn(\"PySoundFile failed. Trying audioread instead.\")\n",
            "/usr/local/lib/python3.7/dist-packages/librosa/core/audio.py:162: UserWarning: PySoundFile failed. Trying audioread instead.\n",
            "  warnings.warn(\"PySoundFile failed. Trying audioread instead.\")\n",
            "/usr/local/lib/python3.7/dist-packages/librosa/core/audio.py:162: UserWarning: PySoundFile failed. Trying audioread instead.\n",
            "  warnings.warn(\"PySoundFile failed. Trying audioread instead.\")\n",
            "/usr/local/lib/python3.7/dist-packages/librosa/core/audio.py:162: UserWarning: PySoundFile failed. Trying audioread instead.\n",
            "  warnings.warn(\"PySoundFile failed. Trying audioread instead.\")\n",
            "/usr/local/lib/python3.7/dist-packages/librosa/core/audio.py:162: UserWarning: PySoundFile failed. Trying audioread instead.\n",
            "  warnings.warn(\"PySoundFile failed. Trying audioread instead.\")\n",
            "/usr/local/lib/python3.7/dist-packages/librosa/core/audio.py:162: UserWarning: PySoundFile failed. Trying audioread instead.\n",
            "  warnings.warn(\"PySoundFile failed. Trying audioread instead.\")\n",
            "/usr/local/lib/python3.7/dist-packages/librosa/core/audio.py:162: UserWarning: PySoundFile failed. Trying audioread instead.\n",
            "  warnings.warn(\"PySoundFile failed. Trying audioread instead.\")\n",
            "/usr/local/lib/python3.7/dist-packages/librosa/core/audio.py:162: UserWarning: PySoundFile failed. Trying audioread instead.\n",
            "  warnings.warn(\"PySoundFile failed. Trying audioread instead.\")\n",
            "/usr/local/lib/python3.7/dist-packages/librosa/core/audio.py:162: UserWarning: PySoundFile failed. Trying audioread instead.\n",
            "  warnings.warn(\"PySoundFile failed. Trying audioread instead.\")\n",
            "/usr/local/lib/python3.7/dist-packages/librosa/core/audio.py:162: UserWarning: PySoundFile failed. Trying audioread instead.\n",
            "  warnings.warn(\"PySoundFile failed. Trying audioread instead.\")\n",
            "/usr/local/lib/python3.7/dist-packages/librosa/core/audio.py:162: UserWarning: PySoundFile failed. Trying audioread instead.\n",
            "  warnings.warn(\"PySoundFile failed. Trying audioread instead.\")\n",
            "/usr/local/lib/python3.7/dist-packages/librosa/core/audio.py:162: UserWarning: PySoundFile failed. Trying audioread instead.\n",
            "  warnings.warn(\"PySoundFile failed. Trying audioread instead.\")\n",
            "/usr/local/lib/python3.7/dist-packages/librosa/core/audio.py:162: UserWarning: PySoundFile failed. Trying audioread instead.\n",
            "  warnings.warn(\"PySoundFile failed. Trying audioread instead.\")\n",
            "/usr/local/lib/python3.7/dist-packages/librosa/core/audio.py:162: UserWarning: PySoundFile failed. Trying audioread instead.\n",
            "  warnings.warn(\"PySoundFile failed. Trying audioread instead.\")\n",
            "/usr/local/lib/python3.7/dist-packages/librosa/core/audio.py:162: UserWarning: PySoundFile failed. Trying audioread instead.\n",
            "  warnings.warn(\"PySoundFile failed. Trying audioread instead.\")\n",
            "/usr/local/lib/python3.7/dist-packages/librosa/core/audio.py:162: UserWarning: PySoundFile failed. Trying audioread instead.\n",
            "  warnings.warn(\"PySoundFile failed. Trying audioread instead.\")\n",
            "/usr/local/lib/python3.7/dist-packages/librosa/core/audio.py:162: UserWarning: PySoundFile failed. Trying audioread instead.\n",
            "  warnings.warn(\"PySoundFile failed. Trying audioread instead.\")\n",
            "/usr/local/lib/python3.7/dist-packages/librosa/core/audio.py:162: UserWarning: PySoundFile failed. Trying audioread instead.\n",
            "  warnings.warn(\"PySoundFile failed. Trying audioread instead.\")\n",
            "/usr/local/lib/python3.7/dist-packages/librosa/core/audio.py:162: UserWarning: PySoundFile failed. Trying audioread instead.\n",
            "  warnings.warn(\"PySoundFile failed. Trying audioread instead.\")\n",
            "/usr/local/lib/python3.7/dist-packages/librosa/core/audio.py:162: UserWarning: PySoundFile failed. Trying audioread instead.\n",
            "  warnings.warn(\"PySoundFile failed. Trying audioread instead.\")\n",
            "/usr/local/lib/python3.7/dist-packages/librosa/core/audio.py:162: UserWarning: PySoundFile failed. Trying audioread instead.\n",
            "  warnings.warn(\"PySoundFile failed. Trying audioread instead.\")\n",
            "/usr/local/lib/python3.7/dist-packages/librosa/core/audio.py:162: UserWarning: PySoundFile failed. Trying audioread instead.\n",
            "  warnings.warn(\"PySoundFile failed. Trying audioread instead.\")\n",
            "/usr/local/lib/python3.7/dist-packages/librosa/core/audio.py:162: UserWarning: PySoundFile failed. Trying audioread instead.\n",
            "  warnings.warn(\"PySoundFile failed. Trying audioread instead.\")\n",
            "/usr/local/lib/python3.7/dist-packages/librosa/core/audio.py:162: UserWarning: PySoundFile failed. Trying audioread instead.\n",
            "  warnings.warn(\"PySoundFile failed. Trying audioread instead.\")\n",
            "/usr/local/lib/python3.7/dist-packages/librosa/core/audio.py:162: UserWarning: PySoundFile failed. Trying audioread instead.\n",
            "  warnings.warn(\"PySoundFile failed. Trying audioread instead.\")\n",
            "/usr/local/lib/python3.7/dist-packages/librosa/core/audio.py:162: UserWarning: PySoundFile failed. Trying audioread instead.\n",
            "  warnings.warn(\"PySoundFile failed. Trying audioread instead.\")\n",
            "/usr/local/lib/python3.7/dist-packages/librosa/core/audio.py:162: UserWarning: PySoundFile failed. Trying audioread instead.\n",
            "  warnings.warn(\"PySoundFile failed. Trying audioread instead.\")\n",
            "/usr/local/lib/python3.7/dist-packages/librosa/core/audio.py:162: UserWarning: PySoundFile failed. Trying audioread instead.\n",
            "  warnings.warn(\"PySoundFile failed. Trying audioread instead.\")\n",
            "/usr/local/lib/python3.7/dist-packages/librosa/core/audio.py:162: UserWarning: PySoundFile failed. Trying audioread instead.\n",
            "  warnings.warn(\"PySoundFile failed. Trying audioread instead.\")\n",
            "/usr/local/lib/python3.7/dist-packages/librosa/core/audio.py:162: UserWarning: PySoundFile failed. Trying audioread instead.\n",
            "  warnings.warn(\"PySoundFile failed. Trying audioread instead.\")\n",
            "/usr/local/lib/python3.7/dist-packages/librosa/core/audio.py:162: UserWarning: PySoundFile failed. Trying audioread instead.\n",
            "  warnings.warn(\"PySoundFile failed. Trying audioread instead.\")\n",
            "/usr/local/lib/python3.7/dist-packages/librosa/core/audio.py:162: UserWarning: PySoundFile failed. Trying audioread instead.\n",
            "  warnings.warn(\"PySoundFile failed. Trying audioread instead.\")\n",
            "/usr/local/lib/python3.7/dist-packages/librosa/core/audio.py:162: UserWarning: PySoundFile failed. Trying audioread instead.\n",
            "  warnings.warn(\"PySoundFile failed. Trying audioread instead.\")\n",
            "/usr/local/lib/python3.7/dist-packages/librosa/core/audio.py:162: UserWarning: PySoundFile failed. Trying audioread instead.\n",
            "  warnings.warn(\"PySoundFile failed. Trying audioread instead.\")\n",
            "/usr/local/lib/python3.7/dist-packages/librosa/core/audio.py:162: UserWarning: PySoundFile failed. Trying audioread instead.\n",
            "  warnings.warn(\"PySoundFile failed. Trying audioread instead.\")\n",
            "/usr/local/lib/python3.7/dist-packages/librosa/core/audio.py:162: UserWarning: PySoundFile failed. Trying audioread instead.\n",
            "  warnings.warn(\"PySoundFile failed. Trying audioread instead.\")\n",
            "/usr/local/lib/python3.7/dist-packages/librosa/core/audio.py:162: UserWarning: PySoundFile failed. Trying audioread instead.\n",
            "  warnings.warn(\"PySoundFile failed. Trying audioread instead.\")\n",
            "/usr/local/lib/python3.7/dist-packages/librosa/core/audio.py:162: UserWarning: PySoundFile failed. Trying audioread instead.\n",
            "  warnings.warn(\"PySoundFile failed. Trying audioread instead.\")\n",
            "/usr/local/lib/python3.7/dist-packages/librosa/core/audio.py:162: UserWarning: PySoundFile failed. Trying audioread instead.\n",
            "  warnings.warn(\"PySoundFile failed. Trying audioread instead.\")\n",
            "/usr/local/lib/python3.7/dist-packages/librosa/core/audio.py:162: UserWarning: PySoundFile failed. Trying audioread instead.\n",
            "  warnings.warn(\"PySoundFile failed. Trying audioread instead.\")\n",
            "/usr/local/lib/python3.7/dist-packages/librosa/core/audio.py:162: UserWarning: PySoundFile failed. Trying audioread instead.\n",
            "  warnings.warn(\"PySoundFile failed. Trying audioread instead.\")\n",
            "/usr/local/lib/python3.7/dist-packages/librosa/core/audio.py:162: UserWarning: PySoundFile failed. Trying audioread instead.\n",
            "  warnings.warn(\"PySoundFile failed. Trying audioread instead.\")\n",
            "/usr/local/lib/python3.7/dist-packages/librosa/core/audio.py:162: UserWarning: PySoundFile failed. Trying audioread instead.\n",
            "  warnings.warn(\"PySoundFile failed. Trying audioread instead.\")\n",
            "/usr/local/lib/python3.7/dist-packages/librosa/core/audio.py:162: UserWarning: PySoundFile failed. Trying audioread instead.\n",
            "  warnings.warn(\"PySoundFile failed. Trying audioread instead.\")\n",
            "/usr/local/lib/python3.7/dist-packages/librosa/core/audio.py:162: UserWarning: PySoundFile failed. Trying audioread instead.\n",
            "  warnings.warn(\"PySoundFile failed. Trying audioread instead.\")\n",
            "/usr/local/lib/python3.7/dist-packages/librosa/core/audio.py:162: UserWarning: PySoundFile failed. Trying audioread instead.\n",
            "  warnings.warn(\"PySoundFile failed. Trying audioread instead.\")\n",
            "/usr/local/lib/python3.7/dist-packages/librosa/core/audio.py:162: UserWarning: PySoundFile failed. Trying audioread instead.\n",
            "  warnings.warn(\"PySoundFile failed. Trying audioread instead.\")\n",
            "/usr/local/lib/python3.7/dist-packages/librosa/core/audio.py:162: UserWarning: PySoundFile failed. Trying audioread instead.\n",
            "  warnings.warn(\"PySoundFile failed. Trying audioread instead.\")\n",
            "/usr/local/lib/python3.7/dist-packages/librosa/core/audio.py:162: UserWarning: PySoundFile failed. Trying audioread instead.\n",
            "  warnings.warn(\"PySoundFile failed. Trying audioread instead.\")\n",
            "/usr/local/lib/python3.7/dist-packages/librosa/core/audio.py:162: UserWarning: PySoundFile failed. Trying audioread instead.\n",
            "  warnings.warn(\"PySoundFile failed. Trying audioread instead.\")\n",
            "/usr/local/lib/python3.7/dist-packages/librosa/core/audio.py:162: UserWarning: PySoundFile failed. Trying audioread instead.\n",
            "  warnings.warn(\"PySoundFile failed. Trying audioread instead.\")\n",
            "/usr/local/lib/python3.7/dist-packages/librosa/core/audio.py:162: UserWarning: PySoundFile failed. Trying audioread instead.\n",
            "  warnings.warn(\"PySoundFile failed. Trying audioread instead.\")\n",
            "/usr/local/lib/python3.7/dist-packages/librosa/core/audio.py:162: UserWarning: PySoundFile failed. Trying audioread instead.\n",
            "  warnings.warn(\"PySoundFile failed. Trying audioread instead.\")\n",
            "/usr/local/lib/python3.7/dist-packages/librosa/core/audio.py:162: UserWarning: PySoundFile failed. Trying audioread instead.\n",
            "  warnings.warn(\"PySoundFile failed. Trying audioread instead.\")\n",
            "/usr/local/lib/python3.7/dist-packages/librosa/core/audio.py:162: UserWarning: PySoundFile failed. Trying audioread instead.\n",
            "  warnings.warn(\"PySoundFile failed. Trying audioread instead.\")\n",
            "/usr/local/lib/python3.7/dist-packages/librosa/core/audio.py:162: UserWarning: PySoundFile failed. Trying audioread instead.\n",
            "  warnings.warn(\"PySoundFile failed. Trying audioread instead.\")\n",
            "/usr/local/lib/python3.7/dist-packages/librosa/core/audio.py:162: UserWarning: PySoundFile failed. Trying audioread instead.\n",
            "  warnings.warn(\"PySoundFile failed. Trying audioread instead.\")\n",
            "/usr/local/lib/python3.7/dist-packages/librosa/core/audio.py:162: UserWarning: PySoundFile failed. Trying audioread instead.\n",
            "  warnings.warn(\"PySoundFile failed. Trying audioread instead.\")\n",
            "/usr/local/lib/python3.7/dist-packages/librosa/core/audio.py:162: UserWarning: PySoundFile failed. Trying audioread instead.\n",
            "  warnings.warn(\"PySoundFile failed. Trying audioread instead.\")\n",
            "/usr/local/lib/python3.7/dist-packages/librosa/core/audio.py:162: UserWarning: PySoundFile failed. Trying audioread instead.\n",
            "  warnings.warn(\"PySoundFile failed. Trying audioread instead.\")\n",
            "/usr/local/lib/python3.7/dist-packages/librosa/core/audio.py:162: UserWarning: PySoundFile failed. Trying audioread instead.\n",
            "  warnings.warn(\"PySoundFile failed. Trying audioread instead.\")\n",
            "/usr/local/lib/python3.7/dist-packages/librosa/core/audio.py:162: UserWarning: PySoundFile failed. Trying audioread instead.\n",
            "  warnings.warn(\"PySoundFile failed. Trying audioread instead.\")\n",
            "/usr/local/lib/python3.7/dist-packages/librosa/core/audio.py:162: UserWarning: PySoundFile failed. Trying audioread instead.\n",
            "  warnings.warn(\"PySoundFile failed. Trying audioread instead.\")\n",
            "/usr/local/lib/python3.7/dist-packages/librosa/core/audio.py:162: UserWarning: PySoundFile failed. Trying audioread instead.\n",
            "  warnings.warn(\"PySoundFile failed. Trying audioread instead.\")\n",
            "/usr/local/lib/python3.7/dist-packages/librosa/core/audio.py:162: UserWarning: PySoundFile failed. Trying audioread instead.\n",
            "  warnings.warn(\"PySoundFile failed. Trying audioread instead.\")\n",
            "/usr/local/lib/python3.7/dist-packages/librosa/core/audio.py:162: UserWarning: PySoundFile failed. Trying audioread instead.\n",
            "  warnings.warn(\"PySoundFile failed. Trying audioread instead.\")\n",
            "/usr/local/lib/python3.7/dist-packages/librosa/core/audio.py:162: UserWarning: PySoundFile failed. Trying audioread instead.\n",
            "  warnings.warn(\"PySoundFile failed. Trying audioread instead.\")\n",
            "/usr/local/lib/python3.7/dist-packages/librosa/core/audio.py:162: UserWarning: PySoundFile failed. Trying audioread instead.\n",
            "  warnings.warn(\"PySoundFile failed. Trying audioread instead.\")\n",
            "/usr/local/lib/python3.7/dist-packages/librosa/core/audio.py:162: UserWarning: PySoundFile failed. Trying audioread instead.\n",
            "  warnings.warn(\"PySoundFile failed. Trying audioread instead.\")\n",
            "/usr/local/lib/python3.7/dist-packages/librosa/core/audio.py:162: UserWarning: PySoundFile failed. Trying audioread instead.\n",
            "  warnings.warn(\"PySoundFile failed. Trying audioread instead.\")\n",
            "/usr/local/lib/python3.7/dist-packages/librosa/core/audio.py:162: UserWarning: PySoundFile failed. Trying audioread instead.\n",
            "  warnings.warn(\"PySoundFile failed. Trying audioread instead.\")\n",
            "/usr/local/lib/python3.7/dist-packages/librosa/core/audio.py:162: UserWarning: PySoundFile failed. Trying audioread instead.\n",
            "  warnings.warn(\"PySoundFile failed. Trying audioread instead.\")\n",
            "/usr/local/lib/python3.7/dist-packages/librosa/core/audio.py:162: UserWarning: PySoundFile failed. Trying audioread instead.\n",
            "  warnings.warn(\"PySoundFile failed. Trying audioread instead.\")\n",
            "/usr/local/lib/python3.7/dist-packages/librosa/core/audio.py:162: UserWarning: PySoundFile failed. Trying audioread instead.\n",
            "  warnings.warn(\"PySoundFile failed. Trying audioread instead.\")\n",
            "/usr/local/lib/python3.7/dist-packages/librosa/core/audio.py:162: UserWarning: PySoundFile failed. Trying audioread instead.\n",
            "  warnings.warn(\"PySoundFile failed. Trying audioread instead.\")\n",
            "/usr/local/lib/python3.7/dist-packages/librosa/core/audio.py:162: UserWarning: PySoundFile failed. Trying audioread instead.\n",
            "  warnings.warn(\"PySoundFile failed. Trying audioread instead.\")\n",
            "/usr/local/lib/python3.7/dist-packages/librosa/core/audio.py:162: UserWarning: PySoundFile failed. Trying audioread instead.\n",
            "  warnings.warn(\"PySoundFile failed. Trying audioread instead.\")\n",
            "/usr/local/lib/python3.7/dist-packages/librosa/core/audio.py:162: UserWarning: PySoundFile failed. Trying audioread instead.\n",
            "  warnings.warn(\"PySoundFile failed. Trying audioread instead.\")\n",
            "/usr/local/lib/python3.7/dist-packages/librosa/core/audio.py:162: UserWarning: PySoundFile failed. Trying audioread instead.\n",
            "  warnings.warn(\"PySoundFile failed. Trying audioread instead.\")\n",
            "/usr/local/lib/python3.7/dist-packages/librosa/core/audio.py:162: UserWarning: PySoundFile failed. Trying audioread instead.\n",
            "  warnings.warn(\"PySoundFile failed. Trying audioread instead.\")\n",
            "/usr/local/lib/python3.7/dist-packages/librosa/core/audio.py:162: UserWarning: PySoundFile failed. Trying audioread instead.\n",
            "  warnings.warn(\"PySoundFile failed. Trying audioread instead.\")\n",
            "/usr/local/lib/python3.7/dist-packages/librosa/core/audio.py:162: UserWarning: PySoundFile failed. Trying audioread instead.\n",
            "  warnings.warn(\"PySoundFile failed. Trying audioread instead.\")\n",
            "/usr/local/lib/python3.7/dist-packages/librosa/core/audio.py:162: UserWarning: PySoundFile failed. Trying audioread instead.\n",
            "  warnings.warn(\"PySoundFile failed. Trying audioread instead.\")\n",
            "/usr/local/lib/python3.7/dist-packages/librosa/core/audio.py:162: UserWarning: PySoundFile failed. Trying audioread instead.\n",
            "  warnings.warn(\"PySoundFile failed. Trying audioread instead.\")\n",
            "/usr/local/lib/python3.7/dist-packages/librosa/core/audio.py:162: UserWarning: PySoundFile failed. Trying audioread instead.\n",
            "  warnings.warn(\"PySoundFile failed. Trying audioread instead.\")\n",
            "/usr/local/lib/python3.7/dist-packages/librosa/core/audio.py:162: UserWarning: PySoundFile failed. Trying audioread instead.\n",
            "  warnings.warn(\"PySoundFile failed. Trying audioread instead.\")\n",
            "/usr/local/lib/python3.7/dist-packages/librosa/core/audio.py:162: UserWarning: PySoundFile failed. Trying audioread instead.\n",
            "  warnings.warn(\"PySoundFile failed. Trying audioread instead.\")\n",
            "/usr/local/lib/python3.7/dist-packages/librosa/core/audio.py:162: UserWarning: PySoundFile failed. Trying audioread instead.\n",
            "  warnings.warn(\"PySoundFile failed. Trying audioread instead.\")\n",
            "/usr/local/lib/python3.7/dist-packages/librosa/core/audio.py:162: UserWarning: PySoundFile failed. Trying audioread instead.\n",
            "  warnings.warn(\"PySoundFile failed. Trying audioread instead.\")\n",
            "/usr/local/lib/python3.7/dist-packages/librosa/core/audio.py:162: UserWarning: PySoundFile failed. Trying audioread instead.\n",
            "  warnings.warn(\"PySoundFile failed. Trying audioread instead.\")\n",
            "/usr/local/lib/python3.7/dist-packages/librosa/core/audio.py:162: UserWarning: PySoundFile failed. Trying audioread instead.\n",
            "  warnings.warn(\"PySoundFile failed. Trying audioread instead.\")\n",
            "/usr/local/lib/python3.7/dist-packages/librosa/core/audio.py:162: UserWarning: PySoundFile failed. Trying audioread instead.\n",
            "  warnings.warn(\"PySoundFile failed. Trying audioread instead.\")\n",
            "/usr/local/lib/python3.7/dist-packages/librosa/core/audio.py:162: UserWarning: PySoundFile failed. Trying audioread instead.\n",
            "  warnings.warn(\"PySoundFile failed. Trying audioread instead.\")\n",
            "/usr/local/lib/python3.7/dist-packages/librosa/core/audio.py:162: UserWarning: PySoundFile failed. Trying audioread instead.\n",
            "  warnings.warn(\"PySoundFile failed. Trying audioread instead.\")\n",
            "/usr/local/lib/python3.7/dist-packages/librosa/core/audio.py:162: UserWarning: PySoundFile failed. Trying audioread instead.\n",
            "  warnings.warn(\"PySoundFile failed. Trying audioread instead.\")\n",
            "/usr/local/lib/python3.7/dist-packages/librosa/core/audio.py:162: UserWarning: PySoundFile failed. Trying audioread instead.\n",
            "  warnings.warn(\"PySoundFile failed. Trying audioread instead.\")\n",
            "/usr/local/lib/python3.7/dist-packages/librosa/core/audio.py:162: UserWarning: PySoundFile failed. Trying audioread instead.\n",
            "  warnings.warn(\"PySoundFile failed. Trying audioread instead.\")\n",
            "/usr/local/lib/python3.7/dist-packages/librosa/core/audio.py:162: UserWarning: PySoundFile failed. Trying audioread instead.\n",
            "  warnings.warn(\"PySoundFile failed. Trying audioread instead.\")\n",
            "/usr/local/lib/python3.7/dist-packages/librosa/core/audio.py:162: UserWarning: PySoundFile failed. Trying audioread instead.\n",
            "  warnings.warn(\"PySoundFile failed. Trying audioread instead.\")\n",
            "/usr/local/lib/python3.7/dist-packages/librosa/core/audio.py:162: UserWarning: PySoundFile failed. Trying audioread instead.\n",
            "  warnings.warn(\"PySoundFile failed. Trying audioread instead.\")\n",
            "/usr/local/lib/python3.7/dist-packages/librosa/core/audio.py:162: UserWarning: PySoundFile failed. Trying audioread instead.\n",
            "  warnings.warn(\"PySoundFile failed. Trying audioread instead.\")\n",
            "/usr/local/lib/python3.7/dist-packages/librosa/core/audio.py:162: UserWarning: PySoundFile failed. Trying audioread instead.\n",
            "  warnings.warn(\"PySoundFile failed. Trying audioread instead.\")\n",
            "/usr/local/lib/python3.7/dist-packages/librosa/core/audio.py:162: UserWarning: PySoundFile failed. Trying audioread instead.\n",
            "  warnings.warn(\"PySoundFile failed. Trying audioread instead.\")\n",
            "/usr/local/lib/python3.7/dist-packages/librosa/core/audio.py:162: UserWarning: PySoundFile failed. Trying audioread instead.\n",
            "  warnings.warn(\"PySoundFile failed. Trying audioread instead.\")\n",
            "/usr/local/lib/python3.7/dist-packages/librosa/core/audio.py:162: UserWarning: PySoundFile failed. Trying audioread instead.\n",
            "  warnings.warn(\"PySoundFile failed. Trying audioread instead.\")\n",
            "/usr/local/lib/python3.7/dist-packages/librosa/core/audio.py:162: UserWarning: PySoundFile failed. Trying audioread instead.\n",
            "  warnings.warn(\"PySoundFile failed. Trying audioread instead.\")\n",
            "/usr/local/lib/python3.7/dist-packages/librosa/core/audio.py:162: UserWarning: PySoundFile failed. Trying audioread instead.\n",
            "  warnings.warn(\"PySoundFile failed. Trying audioread instead.\")\n",
            "/usr/local/lib/python3.7/dist-packages/librosa/core/audio.py:162: UserWarning: PySoundFile failed. Trying audioread instead.\n",
            "  warnings.warn(\"PySoundFile failed. Trying audioread instead.\")\n",
            "/usr/local/lib/python3.7/dist-packages/librosa/core/audio.py:162: UserWarning: PySoundFile failed. Trying audioread instead.\n",
            "  warnings.warn(\"PySoundFile failed. Trying audioread instead.\")\n",
            "/usr/local/lib/python3.7/dist-packages/librosa/core/audio.py:162: UserWarning: PySoundFile failed. Trying audioread instead.\n",
            "  warnings.warn(\"PySoundFile failed. Trying audioread instead.\")\n",
            "/usr/local/lib/python3.7/dist-packages/librosa/core/audio.py:162: UserWarning: PySoundFile failed. Trying audioread instead.\n",
            "  warnings.warn(\"PySoundFile failed. Trying audioread instead.\")\n",
            "/usr/local/lib/python3.7/dist-packages/librosa/core/audio.py:162: UserWarning: PySoundFile failed. Trying audioread instead.\n",
            "  warnings.warn(\"PySoundFile failed. Trying audioread instead.\")\n",
            "/usr/local/lib/python3.7/dist-packages/librosa/core/audio.py:162: UserWarning: PySoundFile failed. Trying audioread instead.\n",
            "  warnings.warn(\"PySoundFile failed. Trying audioread instead.\")\n",
            "/usr/local/lib/python3.7/dist-packages/librosa/core/audio.py:162: UserWarning: PySoundFile failed. Trying audioread instead.\n",
            "  warnings.warn(\"PySoundFile failed. Trying audioread instead.\")\n",
            "/usr/local/lib/python3.7/dist-packages/librosa/core/audio.py:162: UserWarning: PySoundFile failed. Trying audioread instead.\n",
            "  warnings.warn(\"PySoundFile failed. Trying audioread instead.\")\n",
            "/usr/local/lib/python3.7/dist-packages/librosa/core/audio.py:162: UserWarning: PySoundFile failed. Trying audioread instead.\n",
            "  warnings.warn(\"PySoundFile failed. Trying audioread instead.\")\n",
            "/usr/local/lib/python3.7/dist-packages/librosa/core/audio.py:162: UserWarning: PySoundFile failed. Trying audioread instead.\n",
            "  warnings.warn(\"PySoundFile failed. Trying audioread instead.\")\n",
            "/usr/local/lib/python3.7/dist-packages/librosa/core/audio.py:162: UserWarning: PySoundFile failed. Trying audioread instead.\n",
            "  warnings.warn(\"PySoundFile failed. Trying audioread instead.\")\n",
            "/usr/local/lib/python3.7/dist-packages/librosa/core/audio.py:162: UserWarning: PySoundFile failed. Trying audioread instead.\n",
            "  warnings.warn(\"PySoundFile failed. Trying audioread instead.\")\n",
            "/usr/local/lib/python3.7/dist-packages/librosa/core/audio.py:162: UserWarning: PySoundFile failed. Trying audioread instead.\n",
            "  warnings.warn(\"PySoundFile failed. Trying audioread instead.\")\n",
            "/usr/local/lib/python3.7/dist-packages/librosa/core/audio.py:162: UserWarning: PySoundFile failed. Trying audioread instead.\n",
            "  warnings.warn(\"PySoundFile failed. Trying audioread instead.\")\n",
            "/usr/local/lib/python3.7/dist-packages/librosa/core/audio.py:162: UserWarning: PySoundFile failed. Trying audioread instead.\n",
            "  warnings.warn(\"PySoundFile failed. Trying audioread instead.\")\n",
            "/usr/local/lib/python3.7/dist-packages/librosa/core/audio.py:162: UserWarning: PySoundFile failed. Trying audioread instead.\n",
            "  warnings.warn(\"PySoundFile failed. Trying audioread instead.\")\n",
            "/usr/local/lib/python3.7/dist-packages/librosa/core/audio.py:162: UserWarning: PySoundFile failed. Trying audioread instead.\n",
            "  warnings.warn(\"PySoundFile failed. Trying audioread instead.\")\n",
            "/usr/local/lib/python3.7/dist-packages/librosa/core/audio.py:162: UserWarning: PySoundFile failed. Trying audioread instead.\n",
            "  warnings.warn(\"PySoundFile failed. Trying audioread instead.\")\n",
            "/usr/local/lib/python3.7/dist-packages/librosa/core/audio.py:162: UserWarning: PySoundFile failed. Trying audioread instead.\n",
            "  warnings.warn(\"PySoundFile failed. Trying audioread instead.\")\n",
            "/usr/local/lib/python3.7/dist-packages/librosa/core/audio.py:162: UserWarning: PySoundFile failed. Trying audioread instead.\n",
            "  warnings.warn(\"PySoundFile failed. Trying audioread instead.\")\n",
            "/usr/local/lib/python3.7/dist-packages/librosa/core/audio.py:162: UserWarning: PySoundFile failed. Trying audioread instead.\n",
            "  warnings.warn(\"PySoundFile failed. Trying audioread instead.\")\n",
            "/usr/local/lib/python3.7/dist-packages/librosa/core/audio.py:162: UserWarning: PySoundFile failed. Trying audioread instead.\n",
            "  warnings.warn(\"PySoundFile failed. Trying audioread instead.\")\n",
            "/usr/local/lib/python3.7/dist-packages/librosa/core/audio.py:162: UserWarning: PySoundFile failed. Trying audioread instead.\n",
            "  warnings.warn(\"PySoundFile failed. Trying audioread instead.\")\n",
            "/usr/local/lib/python3.7/dist-packages/librosa/core/audio.py:162: UserWarning: PySoundFile failed. Trying audioread instead.\n",
            "  warnings.warn(\"PySoundFile failed. Trying audioread instead.\")\n",
            "/usr/local/lib/python3.7/dist-packages/librosa/core/audio.py:162: UserWarning: PySoundFile failed. Trying audioread instead.\n",
            "  warnings.warn(\"PySoundFile failed. Trying audioread instead.\")\n",
            "/usr/local/lib/python3.7/dist-packages/librosa/core/audio.py:162: UserWarning: PySoundFile failed. Trying audioread instead.\n",
            "  warnings.warn(\"PySoundFile failed. Trying audioread instead.\")\n",
            "/usr/local/lib/python3.7/dist-packages/librosa/core/audio.py:162: UserWarning: PySoundFile failed. Trying audioread instead.\n",
            "  warnings.warn(\"PySoundFile failed. Trying audioread instead.\")\n",
            "/usr/local/lib/python3.7/dist-packages/librosa/core/audio.py:162: UserWarning: PySoundFile failed. Trying audioread instead.\n",
            "  warnings.warn(\"PySoundFile failed. Trying audioread instead.\")\n",
            "/usr/local/lib/python3.7/dist-packages/librosa/core/audio.py:162: UserWarning: PySoundFile failed. Trying audioread instead.\n",
            "  warnings.warn(\"PySoundFile failed. Trying audioread instead.\")\n",
            "/usr/local/lib/python3.7/dist-packages/librosa/core/audio.py:162: UserWarning: PySoundFile failed. Trying audioread instead.\n",
            "  warnings.warn(\"PySoundFile failed. Trying audioread instead.\")\n",
            "/usr/local/lib/python3.7/dist-packages/librosa/core/audio.py:162: UserWarning: PySoundFile failed. Trying audioread instead.\n",
            "  warnings.warn(\"PySoundFile failed. Trying audioread instead.\")\n",
            "/usr/local/lib/python3.7/dist-packages/librosa/core/audio.py:162: UserWarning: PySoundFile failed. Trying audioread instead.\n",
            "  warnings.warn(\"PySoundFile failed. Trying audioread instead.\")\n",
            "/usr/local/lib/python3.7/dist-packages/librosa/core/audio.py:162: UserWarning: PySoundFile failed. Trying audioread instead.\n",
            "  warnings.warn(\"PySoundFile failed. Trying audioread instead.\")\n",
            "/usr/local/lib/python3.7/dist-packages/librosa/core/audio.py:162: UserWarning: PySoundFile failed. Trying audioread instead.\n",
            "  warnings.warn(\"PySoundFile failed. Trying audioread instead.\")\n",
            "/usr/local/lib/python3.7/dist-packages/librosa/core/audio.py:162: UserWarning: PySoundFile failed. Trying audioread instead.\n",
            "  warnings.warn(\"PySoundFile failed. Trying audioread instead.\")\n",
            "/usr/local/lib/python3.7/dist-packages/librosa/core/audio.py:162: UserWarning: PySoundFile failed. Trying audioread instead.\n",
            "  warnings.warn(\"PySoundFile failed. Trying audioread instead.\")\n",
            "/usr/local/lib/python3.7/dist-packages/librosa/core/audio.py:162: UserWarning: PySoundFile failed. Trying audioread instead.\n",
            "  warnings.warn(\"PySoundFile failed. Trying audioread instead.\")\n",
            "/usr/local/lib/python3.7/dist-packages/librosa/core/audio.py:162: UserWarning: PySoundFile failed. Trying audioread instead.\n",
            "  warnings.warn(\"PySoundFile failed. Trying audioread instead.\")\n",
            "/usr/local/lib/python3.7/dist-packages/librosa/core/audio.py:162: UserWarning: PySoundFile failed. Trying audioread instead.\n",
            "  warnings.warn(\"PySoundFile failed. Trying audioread instead.\")\n",
            "/usr/local/lib/python3.7/dist-packages/librosa/core/audio.py:162: UserWarning: PySoundFile failed. Trying audioread instead.\n",
            "  warnings.warn(\"PySoundFile failed. Trying audioread instead.\")\n",
            "/usr/local/lib/python3.7/dist-packages/librosa/core/audio.py:162: UserWarning: PySoundFile failed. Trying audioread instead.\n",
            "  warnings.warn(\"PySoundFile failed. Trying audioread instead.\")\n",
            "/usr/local/lib/python3.7/dist-packages/librosa/core/audio.py:162: UserWarning: PySoundFile failed. Trying audioread instead.\n",
            "  warnings.warn(\"PySoundFile failed. Trying audioread instead.\")\n",
            "/usr/local/lib/python3.7/dist-packages/librosa/core/audio.py:162: UserWarning: PySoundFile failed. Trying audioread instead.\n",
            "  warnings.warn(\"PySoundFile failed. Trying audioread instead.\")\n",
            "/usr/local/lib/python3.7/dist-packages/librosa/core/audio.py:162: UserWarning: PySoundFile failed. Trying audioread instead.\n",
            "  warnings.warn(\"PySoundFile failed. Trying audioread instead.\")\n",
            "/usr/local/lib/python3.7/dist-packages/librosa/core/audio.py:162: UserWarning: PySoundFile failed. Trying audioread instead.\n",
            "  warnings.warn(\"PySoundFile failed. Trying audioread instead.\")\n",
            "/usr/local/lib/python3.7/dist-packages/librosa/core/audio.py:162: UserWarning: PySoundFile failed. Trying audioread instead.\n",
            "  warnings.warn(\"PySoundFile failed. Trying audioread instead.\")\n",
            "/usr/local/lib/python3.7/dist-packages/librosa/core/audio.py:162: UserWarning: PySoundFile failed. Trying audioread instead.\n",
            "  warnings.warn(\"PySoundFile failed. Trying audioread instead.\")\n",
            "/usr/local/lib/python3.7/dist-packages/librosa/core/audio.py:162: UserWarning: PySoundFile failed. Trying audioread instead.\n",
            "  warnings.warn(\"PySoundFile failed. Trying audioread instead.\")\n",
            "/usr/local/lib/python3.7/dist-packages/librosa/core/audio.py:162: UserWarning: PySoundFile failed. Trying audioread instead.\n",
            "  warnings.warn(\"PySoundFile failed. Trying audioread instead.\")\n",
            "/usr/local/lib/python3.7/dist-packages/librosa/core/audio.py:162: UserWarning: PySoundFile failed. Trying audioread instead.\n",
            "  warnings.warn(\"PySoundFile failed. Trying audioread instead.\")\n",
            "/usr/local/lib/python3.7/dist-packages/librosa/core/audio.py:162: UserWarning: PySoundFile failed. Trying audioread instead.\n",
            "  warnings.warn(\"PySoundFile failed. Trying audioread instead.\")\n",
            "/usr/local/lib/python3.7/dist-packages/librosa/core/audio.py:162: UserWarning: PySoundFile failed. Trying audioread instead.\n",
            "  warnings.warn(\"PySoundFile failed. Trying audioread instead.\")\n",
            "/usr/local/lib/python3.7/dist-packages/librosa/core/audio.py:162: UserWarning: PySoundFile failed. Trying audioread instead.\n",
            "  warnings.warn(\"PySoundFile failed. Trying audioread instead.\")\n",
            "/usr/local/lib/python3.7/dist-packages/librosa/core/audio.py:162: UserWarning: PySoundFile failed. Trying audioread instead.\n",
            "  warnings.warn(\"PySoundFile failed. Trying audioread instead.\")\n",
            "/usr/local/lib/python3.7/dist-packages/librosa/core/audio.py:162: UserWarning: PySoundFile failed. Trying audioread instead.\n",
            "  warnings.warn(\"PySoundFile failed. Trying audioread instead.\")\n",
            "/usr/local/lib/python3.7/dist-packages/librosa/core/audio.py:162: UserWarning: PySoundFile failed. Trying audioread instead.\n",
            "  warnings.warn(\"PySoundFile failed. Trying audioread instead.\")\n",
            "/usr/local/lib/python3.7/dist-packages/librosa/core/audio.py:162: UserWarning: PySoundFile failed. Trying audioread instead.\n",
            "  warnings.warn(\"PySoundFile failed. Trying audioread instead.\")\n",
            "/usr/local/lib/python3.7/dist-packages/librosa/core/audio.py:162: UserWarning: PySoundFile failed. Trying audioread instead.\n",
            "  warnings.warn(\"PySoundFile failed. Trying audioread instead.\")\n",
            "/usr/local/lib/python3.7/dist-packages/librosa/core/audio.py:162: UserWarning: PySoundFile failed. Trying audioread instead.\n",
            "  warnings.warn(\"PySoundFile failed. Trying audioread instead.\")\n",
            "/usr/local/lib/python3.7/dist-packages/librosa/core/audio.py:162: UserWarning: PySoundFile failed. Trying audioread instead.\n",
            "  warnings.warn(\"PySoundFile failed. Trying audioread instead.\")\n",
            "/usr/local/lib/python3.7/dist-packages/librosa/core/audio.py:162: UserWarning: PySoundFile failed. Trying audioread instead.\n",
            "  warnings.warn(\"PySoundFile failed. Trying audioread instead.\")\n",
            "/usr/local/lib/python3.7/dist-packages/librosa/core/audio.py:162: UserWarning: PySoundFile failed. Trying audioread instead.\n",
            "  warnings.warn(\"PySoundFile failed. Trying audioread instead.\")\n",
            "/usr/local/lib/python3.7/dist-packages/librosa/core/audio.py:162: UserWarning: PySoundFile failed. Trying audioread instead.\n",
            "  warnings.warn(\"PySoundFile failed. Trying audioread instead.\")\n",
            "/usr/local/lib/python3.7/dist-packages/librosa/core/audio.py:162: UserWarning: PySoundFile failed. Trying audioread instead.\n",
            "  warnings.warn(\"PySoundFile failed. Trying audioread instead.\")\n",
            "/usr/local/lib/python3.7/dist-packages/librosa/core/audio.py:162: UserWarning: PySoundFile failed. Trying audioread instead.\n",
            "  warnings.warn(\"PySoundFile failed. Trying audioread instead.\")\n",
            "/usr/local/lib/python3.7/dist-packages/librosa/core/audio.py:162: UserWarning: PySoundFile failed. Trying audioread instead.\n",
            "  warnings.warn(\"PySoundFile failed. Trying audioread instead.\")\n",
            "/usr/local/lib/python3.7/dist-packages/librosa/core/audio.py:162: UserWarning: PySoundFile failed. Trying audioread instead.\n",
            "  warnings.warn(\"PySoundFile failed. Trying audioread instead.\")\n",
            "/usr/local/lib/python3.7/dist-packages/librosa/core/audio.py:162: UserWarning: PySoundFile failed. Trying audioread instead.\n",
            "  warnings.warn(\"PySoundFile failed. Trying audioread instead.\")\n",
            "/usr/local/lib/python3.7/dist-packages/librosa/core/audio.py:162: UserWarning: PySoundFile failed. Trying audioread instead.\n",
            "  warnings.warn(\"PySoundFile failed. Trying audioread instead.\")\n",
            "/usr/local/lib/python3.7/dist-packages/librosa/core/audio.py:162: UserWarning: PySoundFile failed. Trying audioread instead.\n",
            "  warnings.warn(\"PySoundFile failed. Trying audioread instead.\")\n",
            "/usr/local/lib/python3.7/dist-packages/librosa/core/audio.py:162: UserWarning: PySoundFile failed. Trying audioread instead.\n",
            "  warnings.warn(\"PySoundFile failed. Trying audioread instead.\")\n",
            "/usr/local/lib/python3.7/dist-packages/librosa/core/audio.py:162: UserWarning: PySoundFile failed. Trying audioread instead.\n",
            "  warnings.warn(\"PySoundFile failed. Trying audioread instead.\")\n",
            "/usr/local/lib/python3.7/dist-packages/librosa/core/audio.py:162: UserWarning: PySoundFile failed. Trying audioread instead.\n",
            "  warnings.warn(\"PySoundFile failed. Trying audioread instead.\")\n",
            "/usr/local/lib/python3.7/dist-packages/librosa/core/audio.py:162: UserWarning: PySoundFile failed. Trying audioread instead.\n",
            "  warnings.warn(\"PySoundFile failed. Trying audioread instead.\")\n",
            "/usr/local/lib/python3.7/dist-packages/librosa/core/audio.py:162: UserWarning: PySoundFile failed. Trying audioread instead.\n",
            "  warnings.warn(\"PySoundFile failed. Trying audioread instead.\")\n",
            "/usr/local/lib/python3.7/dist-packages/librosa/core/audio.py:162: UserWarning: PySoundFile failed. Trying audioread instead.\n",
            "  warnings.warn(\"PySoundFile failed. Trying audioread instead.\")\n",
            "/usr/local/lib/python3.7/dist-packages/librosa/core/audio.py:162: UserWarning: PySoundFile failed. Trying audioread instead.\n",
            "  warnings.warn(\"PySoundFile failed. Trying audioread instead.\")\n",
            "/usr/local/lib/python3.7/dist-packages/librosa/core/audio.py:162: UserWarning: PySoundFile failed. Trying audioread instead.\n",
            "  warnings.warn(\"PySoundFile failed. Trying audioread instead.\")\n",
            "/usr/local/lib/python3.7/dist-packages/librosa/core/audio.py:162: UserWarning: PySoundFile failed. Trying audioread instead.\n",
            "  warnings.warn(\"PySoundFile failed. Trying audioread instead.\")\n",
            "/usr/local/lib/python3.7/dist-packages/librosa/core/audio.py:162: UserWarning: PySoundFile failed. Trying audioread instead.\n",
            "  warnings.warn(\"PySoundFile failed. Trying audioread instead.\")\n",
            "/usr/local/lib/python3.7/dist-packages/librosa/core/audio.py:162: UserWarning: PySoundFile failed. Trying audioread instead.\n",
            "  warnings.warn(\"PySoundFile failed. Trying audioread instead.\")\n",
            "/usr/local/lib/python3.7/dist-packages/librosa/core/audio.py:162: UserWarning: PySoundFile failed. Trying audioread instead.\n",
            "  warnings.warn(\"PySoundFile failed. Trying audioread instead.\")\n",
            "/usr/local/lib/python3.7/dist-packages/librosa/core/audio.py:162: UserWarning: PySoundFile failed. Trying audioread instead.\n",
            "  warnings.warn(\"PySoundFile failed. Trying audioread instead.\")\n",
            "/usr/local/lib/python3.7/dist-packages/librosa/core/audio.py:162: UserWarning: PySoundFile failed. Trying audioread instead.\n",
            "  warnings.warn(\"PySoundFile failed. Trying audioread instead.\")\n",
            "/usr/local/lib/python3.7/dist-packages/librosa/core/audio.py:162: UserWarning: PySoundFile failed. Trying audioread instead.\n",
            "  warnings.warn(\"PySoundFile failed. Trying audioread instead.\")\n",
            "/usr/local/lib/python3.7/dist-packages/librosa/core/audio.py:162: UserWarning: PySoundFile failed. Trying audioread instead.\n",
            "  warnings.warn(\"PySoundFile failed. Trying audioread instead.\")\n",
            "/usr/local/lib/python3.7/dist-packages/librosa/core/audio.py:162: UserWarning: PySoundFile failed. Trying audioread instead.\n",
            "  warnings.warn(\"PySoundFile failed. Trying audioread instead.\")\n",
            "/usr/local/lib/python3.7/dist-packages/librosa/core/audio.py:162: UserWarning: PySoundFile failed. Trying audioread instead.\n",
            "  warnings.warn(\"PySoundFile failed. Trying audioread instead.\")\n",
            "/usr/local/lib/python3.7/dist-packages/librosa/core/audio.py:162: UserWarning: PySoundFile failed. Trying audioread instead.\n",
            "  warnings.warn(\"PySoundFile failed. Trying audioread instead.\")\n",
            "/usr/local/lib/python3.7/dist-packages/librosa/core/audio.py:162: UserWarning: PySoundFile failed. Trying audioread instead.\n",
            "  warnings.warn(\"PySoundFile failed. Trying audioread instead.\")\n",
            "/usr/local/lib/python3.7/dist-packages/librosa/core/audio.py:162: UserWarning: PySoundFile failed. Trying audioread instead.\n",
            "  warnings.warn(\"PySoundFile failed. Trying audioread instead.\")\n",
            "/usr/local/lib/python3.7/dist-packages/librosa/core/audio.py:162: UserWarning: PySoundFile failed. Trying audioread instead.\n",
            "  warnings.warn(\"PySoundFile failed. Trying audioread instead.\")\n",
            "/usr/local/lib/python3.7/dist-packages/librosa/core/audio.py:162: UserWarning: PySoundFile failed. Trying audioread instead.\n",
            "  warnings.warn(\"PySoundFile failed. Trying audioread instead.\")\n",
            "/usr/local/lib/python3.7/dist-packages/librosa/core/audio.py:162: UserWarning: PySoundFile failed. Trying audioread instead.\n",
            "  warnings.warn(\"PySoundFile failed. Trying audioread instead.\")\n",
            "/usr/local/lib/python3.7/dist-packages/librosa/core/audio.py:162: UserWarning: PySoundFile failed. Trying audioread instead.\n",
            "  warnings.warn(\"PySoundFile failed. Trying audioread instead.\")\n",
            "/usr/local/lib/python3.7/dist-packages/librosa/core/audio.py:162: UserWarning: PySoundFile failed. Trying audioread instead.\n",
            "  warnings.warn(\"PySoundFile failed. Trying audioread instead.\")\n",
            "/usr/local/lib/python3.7/dist-packages/librosa/core/audio.py:162: UserWarning: PySoundFile failed. Trying audioread instead.\n",
            "  warnings.warn(\"PySoundFile failed. Trying audioread instead.\")\n",
            "/usr/local/lib/python3.7/dist-packages/librosa/core/audio.py:162: UserWarning: PySoundFile failed. Trying audioread instead.\n",
            "  warnings.warn(\"PySoundFile failed. Trying audioread instead.\")\n",
            "/usr/local/lib/python3.7/dist-packages/librosa/core/audio.py:162: UserWarning: PySoundFile failed. Trying audioread instead.\n",
            "  warnings.warn(\"PySoundFile failed. Trying audioread instead.\")\n",
            "/usr/local/lib/python3.7/dist-packages/librosa/core/audio.py:162: UserWarning: PySoundFile failed. Trying audioread instead.\n",
            "  warnings.warn(\"PySoundFile failed. Trying audioread instead.\")\n",
            "/usr/local/lib/python3.7/dist-packages/librosa/core/audio.py:162: UserWarning: PySoundFile failed. Trying audioread instead.\n",
            "  warnings.warn(\"PySoundFile failed. Trying audioread instead.\")\n",
            "/usr/local/lib/python3.7/dist-packages/librosa/core/audio.py:162: UserWarning: PySoundFile failed. Trying audioread instead.\n",
            "  warnings.warn(\"PySoundFile failed. Trying audioread instead.\")\n",
            "/usr/local/lib/python3.7/dist-packages/librosa/core/audio.py:162: UserWarning: PySoundFile failed. Trying audioread instead.\n",
            "  warnings.warn(\"PySoundFile failed. Trying audioread instead.\")\n",
            "/usr/local/lib/python3.7/dist-packages/librosa/core/audio.py:162: UserWarning: PySoundFile failed. Trying audioread instead.\n",
            "  warnings.warn(\"PySoundFile failed. Trying audioread instead.\")\n",
            "/usr/local/lib/python3.7/dist-packages/librosa/core/audio.py:162: UserWarning: PySoundFile failed. Trying audioread instead.\n",
            "  warnings.warn(\"PySoundFile failed. Trying audioread instead.\")\n",
            "/usr/local/lib/python3.7/dist-packages/librosa/core/audio.py:162: UserWarning: PySoundFile failed. Trying audioread instead.\n",
            "  warnings.warn(\"PySoundFile failed. Trying audioread instead.\")\n",
            "/usr/local/lib/python3.7/dist-packages/librosa/core/audio.py:162: UserWarning: PySoundFile failed. Trying audioread instead.\n",
            "  warnings.warn(\"PySoundFile failed. Trying audioread instead.\")\n",
            "/usr/local/lib/python3.7/dist-packages/librosa/core/audio.py:162: UserWarning: PySoundFile failed. Trying audioread instead.\n",
            "  warnings.warn(\"PySoundFile failed. Trying audioread instead.\")\n",
            "/usr/local/lib/python3.7/dist-packages/librosa/core/audio.py:162: UserWarning: PySoundFile failed. Trying audioread instead.\n",
            "  warnings.warn(\"PySoundFile failed. Trying audioread instead.\")\n",
            "/usr/local/lib/python3.7/dist-packages/librosa/core/audio.py:162: UserWarning: PySoundFile failed. Trying audioread instead.\n",
            "  warnings.warn(\"PySoundFile failed. Trying audioread instead.\")\n",
            "/usr/local/lib/python3.7/dist-packages/librosa/core/audio.py:162: UserWarning: PySoundFile failed. Trying audioread instead.\n",
            "  warnings.warn(\"PySoundFile failed. Trying audioread instead.\")\n",
            "/usr/local/lib/python3.7/dist-packages/librosa/core/audio.py:162: UserWarning: PySoundFile failed. Trying audioread instead.\n",
            "  warnings.warn(\"PySoundFile failed. Trying audioread instead.\")\n",
            "/usr/local/lib/python3.7/dist-packages/librosa/core/audio.py:162: UserWarning: PySoundFile failed. Trying audioread instead.\n",
            "  warnings.warn(\"PySoundFile failed. Trying audioread instead.\")\n",
            "/usr/local/lib/python3.7/dist-packages/librosa/core/audio.py:162: UserWarning: PySoundFile failed. Trying audioread instead.\n",
            "  warnings.warn(\"PySoundFile failed. Trying audioread instead.\")\n",
            "/usr/local/lib/python3.7/dist-packages/librosa/core/audio.py:162: UserWarning: PySoundFile failed. Trying audioread instead.\n",
            "  warnings.warn(\"PySoundFile failed. Trying audioread instead.\")\n",
            "/usr/local/lib/python3.7/dist-packages/librosa/core/audio.py:162: UserWarning: PySoundFile failed. Trying audioread instead.\n",
            "  warnings.warn(\"PySoundFile failed. Trying audioread instead.\")\n",
            "/usr/local/lib/python3.7/dist-packages/librosa/core/audio.py:162: UserWarning: PySoundFile failed. Trying audioread instead.\n",
            "  warnings.warn(\"PySoundFile failed. Trying audioread instead.\")\n",
            "/usr/local/lib/python3.7/dist-packages/librosa/core/audio.py:162: UserWarning: PySoundFile failed. Trying audioread instead.\n",
            "  warnings.warn(\"PySoundFile failed. Trying audioread instead.\")\n",
            "/usr/local/lib/python3.7/dist-packages/librosa/core/audio.py:162: UserWarning: PySoundFile failed. Trying audioread instead.\n",
            "  warnings.warn(\"PySoundFile failed. Trying audioread instead.\")\n",
            "/usr/local/lib/python3.7/dist-packages/librosa/core/audio.py:162: UserWarning: PySoundFile failed. Trying audioread instead.\n",
            "  warnings.warn(\"PySoundFile failed. Trying audioread instead.\")\n",
            "/usr/local/lib/python3.7/dist-packages/librosa/core/audio.py:162: UserWarning: PySoundFile failed. Trying audioread instead.\n",
            "  warnings.warn(\"PySoundFile failed. Trying audioread instead.\")\n",
            "/usr/local/lib/python3.7/dist-packages/librosa/core/audio.py:162: UserWarning: PySoundFile failed. Trying audioread instead.\n",
            "  warnings.warn(\"PySoundFile failed. Trying audioread instead.\")\n",
            "/usr/local/lib/python3.7/dist-packages/librosa/core/audio.py:162: UserWarning: PySoundFile failed. Trying audioread instead.\n",
            "  warnings.warn(\"PySoundFile failed. Trying audioread instead.\")\n",
            "/usr/local/lib/python3.7/dist-packages/librosa/core/audio.py:162: UserWarning: PySoundFile failed. Trying audioread instead.\n",
            "  warnings.warn(\"PySoundFile failed. Trying audioread instead.\")\n",
            "/usr/local/lib/python3.7/dist-packages/librosa/core/audio.py:162: UserWarning: PySoundFile failed. Trying audioread instead.\n",
            "  warnings.warn(\"PySoundFile failed. Trying audioread instead.\")\n",
            "/usr/local/lib/python3.7/dist-packages/librosa/core/audio.py:162: UserWarning: PySoundFile failed. Trying audioread instead.\n",
            "  warnings.warn(\"PySoundFile failed. Trying audioread instead.\")\n",
            "/usr/local/lib/python3.7/dist-packages/librosa/core/audio.py:162: UserWarning: PySoundFile failed. Trying audioread instead.\n",
            "  warnings.warn(\"PySoundFile failed. Trying audioread instead.\")\n",
            "/usr/local/lib/python3.7/dist-packages/librosa/core/audio.py:162: UserWarning: PySoundFile failed. Trying audioread instead.\n",
            "  warnings.warn(\"PySoundFile failed. Trying audioread instead.\")\n",
            "/usr/local/lib/python3.7/dist-packages/librosa/core/audio.py:162: UserWarning: PySoundFile failed. Trying audioread instead.\n",
            "  warnings.warn(\"PySoundFile failed. Trying audioread instead.\")\n",
            "/usr/local/lib/python3.7/dist-packages/librosa/core/audio.py:162: UserWarning: PySoundFile failed. Trying audioread instead.\n",
            "  warnings.warn(\"PySoundFile failed. Trying audioread instead.\")\n",
            "/usr/local/lib/python3.7/dist-packages/librosa/core/audio.py:162: UserWarning: PySoundFile failed. Trying audioread instead.\n",
            "  warnings.warn(\"PySoundFile failed. Trying audioread instead.\")\n",
            "/usr/local/lib/python3.7/dist-packages/librosa/core/audio.py:162: UserWarning: PySoundFile failed. Trying audioread instead.\n",
            "  warnings.warn(\"PySoundFile failed. Trying audioread instead.\")\n",
            "/usr/local/lib/python3.7/dist-packages/librosa/core/audio.py:162: UserWarning: PySoundFile failed. Trying audioread instead.\n",
            "  warnings.warn(\"PySoundFile failed. Trying audioread instead.\")\n",
            "/usr/local/lib/python3.7/dist-packages/librosa/core/audio.py:162: UserWarning: PySoundFile failed. Trying audioread instead.\n",
            "  warnings.warn(\"PySoundFile failed. Trying audioread instead.\")\n",
            "/usr/local/lib/python3.7/dist-packages/librosa/core/audio.py:162: UserWarning: PySoundFile failed. Trying audioread instead.\n",
            "  warnings.warn(\"PySoundFile failed. Trying audioread instead.\")\n",
            "/usr/local/lib/python3.7/dist-packages/librosa/core/audio.py:162: UserWarning: PySoundFile failed. Trying audioread instead.\n",
            "  warnings.warn(\"PySoundFile failed. Trying audioread instead.\")\n",
            "/usr/local/lib/python3.7/dist-packages/librosa/core/audio.py:162: UserWarning: PySoundFile failed. Trying audioread instead.\n",
            "  warnings.warn(\"PySoundFile failed. Trying audioread instead.\")\n",
            "/usr/local/lib/python3.7/dist-packages/librosa/core/audio.py:162: UserWarning: PySoundFile failed. Trying audioread instead.\n",
            "  warnings.warn(\"PySoundFile failed. Trying audioread instead.\")\n",
            "/usr/local/lib/python3.7/dist-packages/librosa/core/audio.py:162: UserWarning: PySoundFile failed. Trying audioread instead.\n",
            "  warnings.warn(\"PySoundFile failed. Trying audioread instead.\")\n",
            "/usr/local/lib/python3.7/dist-packages/librosa/core/audio.py:162: UserWarning: PySoundFile failed. Trying audioread instead.\n",
            "  warnings.warn(\"PySoundFile failed. Trying audioread instead.\")\n",
            "/usr/local/lib/python3.7/dist-packages/librosa/core/audio.py:162: UserWarning: PySoundFile failed. Trying audioread instead.\n",
            "  warnings.warn(\"PySoundFile failed. Trying audioread instead.\")\n",
            "/usr/local/lib/python3.7/dist-packages/librosa/core/audio.py:162: UserWarning: PySoundFile failed. Trying audioread instead.\n",
            "  warnings.warn(\"PySoundFile failed. Trying audioread instead.\")\n",
            "/usr/local/lib/python3.7/dist-packages/librosa/core/audio.py:162: UserWarning: PySoundFile failed. Trying audioread instead.\n",
            "  warnings.warn(\"PySoundFile failed. Trying audioread instead.\")\n",
            "/usr/local/lib/python3.7/dist-packages/librosa/core/audio.py:162: UserWarning: PySoundFile failed. Trying audioread instead.\n",
            "  warnings.warn(\"PySoundFile failed. Trying audioread instead.\")\n",
            "/usr/local/lib/python3.7/dist-packages/librosa/core/audio.py:162: UserWarning: PySoundFile failed. Trying audioread instead.\n",
            "  warnings.warn(\"PySoundFile failed. Trying audioread instead.\")\n",
            "/usr/local/lib/python3.7/dist-packages/librosa/core/audio.py:162: UserWarning: PySoundFile failed. Trying audioread instead.\n",
            "  warnings.warn(\"PySoundFile failed. Trying audioread instead.\")\n",
            "/usr/local/lib/python3.7/dist-packages/librosa/core/audio.py:162: UserWarning: PySoundFile failed. Trying audioread instead.\n",
            "  warnings.warn(\"PySoundFile failed. Trying audioread instead.\")\n",
            "/usr/local/lib/python3.7/dist-packages/librosa/core/audio.py:162: UserWarning: PySoundFile failed. Trying audioread instead.\n",
            "  warnings.warn(\"PySoundFile failed. Trying audioread instead.\")\n",
            "/usr/local/lib/python3.7/dist-packages/librosa/core/audio.py:162: UserWarning: PySoundFile failed. Trying audioread instead.\n",
            "  warnings.warn(\"PySoundFile failed. Trying audioread instead.\")\n",
            "/usr/local/lib/python3.7/dist-packages/librosa/core/audio.py:162: UserWarning: PySoundFile failed. Trying audioread instead.\n",
            "  warnings.warn(\"PySoundFile failed. Trying audioread instead.\")\n",
            "/usr/local/lib/python3.7/dist-packages/librosa/core/audio.py:162: UserWarning: PySoundFile failed. Trying audioread instead.\n",
            "  warnings.warn(\"PySoundFile failed. Trying audioread instead.\")\n",
            "/usr/local/lib/python3.7/dist-packages/librosa/core/audio.py:162: UserWarning: PySoundFile failed. Trying audioread instead.\n",
            "  warnings.warn(\"PySoundFile failed. Trying audioread instead.\")\n",
            "/usr/local/lib/python3.7/dist-packages/librosa/core/audio.py:162: UserWarning: PySoundFile failed. Trying audioread instead.\n",
            "  warnings.warn(\"PySoundFile failed. Trying audioread instead.\")\n",
            "/usr/local/lib/python3.7/dist-packages/librosa/core/audio.py:162: UserWarning: PySoundFile failed. Trying audioread instead.\n",
            "  warnings.warn(\"PySoundFile failed. Trying audioread instead.\")\n",
            "/usr/local/lib/python3.7/dist-packages/librosa/core/audio.py:162: UserWarning: PySoundFile failed. Trying audioread instead.\n",
            "  warnings.warn(\"PySoundFile failed. Trying audioread instead.\")\n",
            "/usr/local/lib/python3.7/dist-packages/librosa/core/audio.py:162: UserWarning: PySoundFile failed. Trying audioread instead.\n",
            "  warnings.warn(\"PySoundFile failed. Trying audioread instead.\")\n",
            "/usr/local/lib/python3.7/dist-packages/librosa/core/audio.py:162: UserWarning: PySoundFile failed. Trying audioread instead.\n",
            "  warnings.warn(\"PySoundFile failed. Trying audioread instead.\")\n",
            "/usr/local/lib/python3.7/dist-packages/librosa/core/audio.py:162: UserWarning: PySoundFile failed. Trying audioread instead.\n",
            "  warnings.warn(\"PySoundFile failed. Trying audioread instead.\")\n",
            "/usr/local/lib/python3.7/dist-packages/librosa/core/audio.py:162: UserWarning: PySoundFile failed. Trying audioread instead.\n",
            "  warnings.warn(\"PySoundFile failed. Trying audioread instead.\")\n",
            "/usr/local/lib/python3.7/dist-packages/librosa/core/audio.py:162: UserWarning: PySoundFile failed. Trying audioread instead.\n",
            "  warnings.warn(\"PySoundFile failed. Trying audioread instead.\")\n",
            "/usr/local/lib/python3.7/dist-packages/librosa/core/audio.py:162: UserWarning: PySoundFile failed. Trying audioread instead.\n",
            "  warnings.warn(\"PySoundFile failed. Trying audioread instead.\")\n",
            "/usr/local/lib/python3.7/dist-packages/librosa/core/audio.py:162: UserWarning: PySoundFile failed. Trying audioread instead.\n",
            "  warnings.warn(\"PySoundFile failed. Trying audioread instead.\")\n",
            "/usr/local/lib/python3.7/dist-packages/librosa/core/audio.py:162: UserWarning: PySoundFile failed. Trying audioread instead.\n",
            "  warnings.warn(\"PySoundFile failed. Trying audioread instead.\")\n",
            "/usr/local/lib/python3.7/dist-packages/librosa/core/audio.py:162: UserWarning: PySoundFile failed. Trying audioread instead.\n",
            "  warnings.warn(\"PySoundFile failed. Trying audioread instead.\")\n",
            "/usr/local/lib/python3.7/dist-packages/librosa/core/audio.py:162: UserWarning: PySoundFile failed. Trying audioread instead.\n",
            "  warnings.warn(\"PySoundFile failed. Trying audioread instead.\")\n",
            "/usr/local/lib/python3.7/dist-packages/librosa/core/audio.py:162: UserWarning: PySoundFile failed. Trying audioread instead.\n",
            "  warnings.warn(\"PySoundFile failed. Trying audioread instead.\")\n",
            "/usr/local/lib/python3.7/dist-packages/librosa/core/audio.py:162: UserWarning: PySoundFile failed. Trying audioread instead.\n",
            "  warnings.warn(\"PySoundFile failed. Trying audioread instead.\")\n",
            "/usr/local/lib/python3.7/dist-packages/librosa/core/audio.py:162: UserWarning: PySoundFile failed. Trying audioread instead.\n",
            "  warnings.warn(\"PySoundFile failed. Trying audioread instead.\")\n",
            "/usr/local/lib/python3.7/dist-packages/librosa/core/audio.py:162: UserWarning: PySoundFile failed. Trying audioread instead.\n",
            "  warnings.warn(\"PySoundFile failed. Trying audioread instead.\")\n",
            "/usr/local/lib/python3.7/dist-packages/librosa/core/audio.py:162: UserWarning: PySoundFile failed. Trying audioread instead.\n",
            "  warnings.warn(\"PySoundFile failed. Trying audioread instead.\")\n",
            "/usr/local/lib/python3.7/dist-packages/librosa/core/audio.py:162: UserWarning: PySoundFile failed. Trying audioread instead.\n",
            "  warnings.warn(\"PySoundFile failed. Trying audioread instead.\")\n",
            "/usr/local/lib/python3.7/dist-packages/librosa/core/audio.py:162: UserWarning: PySoundFile failed. Trying audioread instead.\n",
            "  warnings.warn(\"PySoundFile failed. Trying audioread instead.\")\n",
            "/usr/local/lib/python3.7/dist-packages/librosa/core/audio.py:162: UserWarning: PySoundFile failed. Trying audioread instead.\n",
            "  warnings.warn(\"PySoundFile failed. Trying audioread instead.\")\n",
            "/usr/local/lib/python3.7/dist-packages/librosa/core/audio.py:162: UserWarning: PySoundFile failed. Trying audioread instead.\n",
            "  warnings.warn(\"PySoundFile failed. Trying audioread instead.\")\n",
            "/usr/local/lib/python3.7/dist-packages/librosa/core/audio.py:162: UserWarning: PySoundFile failed. Trying audioread instead.\n",
            "  warnings.warn(\"PySoundFile failed. Trying audioread instead.\")\n",
            "/usr/local/lib/python3.7/dist-packages/librosa/core/audio.py:162: UserWarning: PySoundFile failed. Trying audioread instead.\n",
            "  warnings.warn(\"PySoundFile failed. Trying audioread instead.\")\n",
            "/usr/local/lib/python3.7/dist-packages/librosa/core/audio.py:162: UserWarning: PySoundFile failed. Trying audioread instead.\n",
            "  warnings.warn(\"PySoundFile failed. Trying audioread instead.\")\n",
            "/usr/local/lib/python3.7/dist-packages/librosa/core/audio.py:162: UserWarning: PySoundFile failed. Trying audioread instead.\n",
            "  warnings.warn(\"PySoundFile failed. Trying audioread instead.\")\n",
            "/usr/local/lib/python3.7/dist-packages/librosa/core/audio.py:162: UserWarning: PySoundFile failed. Trying audioread instead.\n",
            "  warnings.warn(\"PySoundFile failed. Trying audioread instead.\")\n",
            "/usr/local/lib/python3.7/dist-packages/librosa/core/audio.py:162: UserWarning: PySoundFile failed. Trying audioread instead.\n",
            "  warnings.warn(\"PySoundFile failed. Trying audioread instead.\")\n",
            "/usr/local/lib/python3.7/dist-packages/librosa/core/audio.py:162: UserWarning: PySoundFile failed. Trying audioread instead.\n",
            "  warnings.warn(\"PySoundFile failed. Trying audioread instead.\")\n",
            "/usr/local/lib/python3.7/dist-packages/librosa/core/audio.py:162: UserWarning: PySoundFile failed. Trying audioread instead.\n",
            "  warnings.warn(\"PySoundFile failed. Trying audioread instead.\")\n",
            "/usr/local/lib/python3.7/dist-packages/librosa/core/audio.py:162: UserWarning: PySoundFile failed. Trying audioread instead.\n",
            "  warnings.warn(\"PySoundFile failed. Trying audioread instead.\")\n",
            "/usr/local/lib/python3.7/dist-packages/librosa/core/audio.py:162: UserWarning: PySoundFile failed. Trying audioread instead.\n",
            "  warnings.warn(\"PySoundFile failed. Trying audioread instead.\")\n",
            "/usr/local/lib/python3.7/dist-packages/librosa/core/audio.py:162: UserWarning: PySoundFile failed. Trying audioread instead.\n",
            "  warnings.warn(\"PySoundFile failed. Trying audioread instead.\")\n",
            "/usr/local/lib/python3.7/dist-packages/librosa/core/audio.py:162: UserWarning: PySoundFile failed. Trying audioread instead.\n",
            "  warnings.warn(\"PySoundFile failed. Trying audioread instead.\")\n",
            "/usr/local/lib/python3.7/dist-packages/librosa/core/audio.py:162: UserWarning: PySoundFile failed. Trying audioread instead.\n",
            "  warnings.warn(\"PySoundFile failed. Trying audioread instead.\")\n",
            "/usr/local/lib/python3.7/dist-packages/librosa/core/audio.py:162: UserWarning: PySoundFile failed. Trying audioread instead.\n",
            "  warnings.warn(\"PySoundFile failed. Trying audioread instead.\")\n",
            "/usr/local/lib/python3.7/dist-packages/librosa/core/audio.py:162: UserWarning: PySoundFile failed. Trying audioread instead.\n",
            "  warnings.warn(\"PySoundFile failed. Trying audioread instead.\")\n",
            "/usr/local/lib/python3.7/dist-packages/librosa/core/audio.py:162: UserWarning: PySoundFile failed. Trying audioread instead.\n",
            "  warnings.warn(\"PySoundFile failed. Trying audioread instead.\")\n",
            "/usr/local/lib/python3.7/dist-packages/librosa/core/audio.py:162: UserWarning: PySoundFile failed. Trying audioread instead.\n",
            "  warnings.warn(\"PySoundFile failed. Trying audioread instead.\")\n",
            "/usr/local/lib/python3.7/dist-packages/librosa/core/audio.py:162: UserWarning: PySoundFile failed. Trying audioread instead.\n",
            "  warnings.warn(\"PySoundFile failed. Trying audioread instead.\")\n",
            "/usr/local/lib/python3.7/dist-packages/librosa/core/audio.py:162: UserWarning: PySoundFile failed. Trying audioread instead.\n",
            "  warnings.warn(\"PySoundFile failed. Trying audioread instead.\")\n",
            "/usr/local/lib/python3.7/dist-packages/librosa/core/audio.py:162: UserWarning: PySoundFile failed. Trying audioread instead.\n",
            "  warnings.warn(\"PySoundFile failed. Trying audioread instead.\")\n",
            "/usr/local/lib/python3.7/dist-packages/librosa/core/audio.py:162: UserWarning: PySoundFile failed. Trying audioread instead.\n",
            "  warnings.warn(\"PySoundFile failed. Trying audioread instead.\")\n",
            "/usr/local/lib/python3.7/dist-packages/librosa/core/audio.py:162: UserWarning: PySoundFile failed. Trying audioread instead.\n",
            "  warnings.warn(\"PySoundFile failed. Trying audioread instead.\")\n",
            "/usr/local/lib/python3.7/dist-packages/librosa/core/audio.py:162: UserWarning: PySoundFile failed. Trying audioread instead.\n",
            "  warnings.warn(\"PySoundFile failed. Trying audioread instead.\")\n",
            "/usr/local/lib/python3.7/dist-packages/librosa/core/audio.py:162: UserWarning: PySoundFile failed. Trying audioread instead.\n",
            "  warnings.warn(\"PySoundFile failed. Trying audioread instead.\")\n",
            "/usr/local/lib/python3.7/dist-packages/librosa/core/audio.py:162: UserWarning: PySoundFile failed. Trying audioread instead.\n",
            "  warnings.warn(\"PySoundFile failed. Trying audioread instead.\")\n",
            "/usr/local/lib/python3.7/dist-packages/librosa/core/audio.py:162: UserWarning: PySoundFile failed. Trying audioread instead.\n",
            "  warnings.warn(\"PySoundFile failed. Trying audioread instead.\")\n",
            "/usr/local/lib/python3.7/dist-packages/librosa/core/audio.py:162: UserWarning: PySoundFile failed. Trying audioread instead.\n",
            "  warnings.warn(\"PySoundFile failed. Trying audioread instead.\")\n",
            "/usr/local/lib/python3.7/dist-packages/librosa/core/audio.py:162: UserWarning: PySoundFile failed. Trying audioread instead.\n",
            "  warnings.warn(\"PySoundFile failed. Trying audioread instead.\")\n",
            "/usr/local/lib/python3.7/dist-packages/librosa/core/audio.py:162: UserWarning: PySoundFile failed. Trying audioread instead.\n",
            "  warnings.warn(\"PySoundFile failed. Trying audioread instead.\")\n",
            "/usr/local/lib/python3.7/dist-packages/librosa/core/audio.py:162: UserWarning: PySoundFile failed. Trying audioread instead.\n",
            "  warnings.warn(\"PySoundFile failed. Trying audioread instead.\")\n",
            "/usr/local/lib/python3.7/dist-packages/librosa/core/audio.py:162: UserWarning: PySoundFile failed. Trying audioread instead.\n",
            "  warnings.warn(\"PySoundFile failed. Trying audioread instead.\")\n",
            "/usr/local/lib/python3.7/dist-packages/librosa/core/audio.py:162: UserWarning: PySoundFile failed. Trying audioread instead.\n",
            "  warnings.warn(\"PySoundFile failed. Trying audioread instead.\")\n",
            "/usr/local/lib/python3.7/dist-packages/librosa/core/audio.py:162: UserWarning: PySoundFile failed. Trying audioread instead.\n",
            "  warnings.warn(\"PySoundFile failed. Trying audioread instead.\")\n",
            "/usr/local/lib/python3.7/dist-packages/librosa/core/audio.py:162: UserWarning: PySoundFile failed. Trying audioread instead.\n",
            "  warnings.warn(\"PySoundFile failed. Trying audioread instead.\")\n",
            "/usr/local/lib/python3.7/dist-packages/librosa/core/audio.py:162: UserWarning: PySoundFile failed. Trying audioread instead.\n",
            "  warnings.warn(\"PySoundFile failed. Trying audioread instead.\")\n",
            "/usr/local/lib/python3.7/dist-packages/librosa/core/audio.py:162: UserWarning: PySoundFile failed. Trying audioread instead.\n",
            "  warnings.warn(\"PySoundFile failed. Trying audioread instead.\")\n",
            "/usr/local/lib/python3.7/dist-packages/librosa/core/audio.py:162: UserWarning: PySoundFile failed. Trying audioread instead.\n",
            "  warnings.warn(\"PySoundFile failed. Trying audioread instead.\")\n",
            "/usr/local/lib/python3.7/dist-packages/librosa/core/audio.py:162: UserWarning: PySoundFile failed. Trying audioread instead.\n",
            "  warnings.warn(\"PySoundFile failed. Trying audioread instead.\")\n",
            "/usr/local/lib/python3.7/dist-packages/librosa/core/audio.py:162: UserWarning: PySoundFile failed. Trying audioread instead.\n",
            "  warnings.warn(\"PySoundFile failed. Trying audioread instead.\")\n",
            "/usr/local/lib/python3.7/dist-packages/librosa/core/audio.py:162: UserWarning: PySoundFile failed. Trying audioread instead.\n",
            "  warnings.warn(\"PySoundFile failed. Trying audioread instead.\")\n",
            "/usr/local/lib/python3.7/dist-packages/librosa/core/audio.py:162: UserWarning: PySoundFile failed. Trying audioread instead.\n",
            "  warnings.warn(\"PySoundFile failed. Trying audioread instead.\")\n",
            "/usr/local/lib/python3.7/dist-packages/librosa/core/audio.py:162: UserWarning: PySoundFile failed. Trying audioread instead.\n",
            "  warnings.warn(\"PySoundFile failed. Trying audioread instead.\")\n",
            "/usr/local/lib/python3.7/dist-packages/librosa/core/audio.py:162: UserWarning: PySoundFile failed. Trying audioread instead.\n",
            "  warnings.warn(\"PySoundFile failed. Trying audioread instead.\")\n",
            "/usr/local/lib/python3.7/dist-packages/librosa/core/audio.py:162: UserWarning: PySoundFile failed. Trying audioread instead.\n",
            "  warnings.warn(\"PySoundFile failed. Trying audioread instead.\")\n",
            "/usr/local/lib/python3.7/dist-packages/librosa/core/audio.py:162: UserWarning: PySoundFile failed. Trying audioread instead.\n",
            "  warnings.warn(\"PySoundFile failed. Trying audioread instead.\")\n",
            "/usr/local/lib/python3.7/dist-packages/librosa/core/audio.py:162: UserWarning: PySoundFile failed. Trying audioread instead.\n",
            "  warnings.warn(\"PySoundFile failed. Trying audioread instead.\")\n",
            "/usr/local/lib/python3.7/dist-packages/librosa/core/audio.py:162: UserWarning: PySoundFile failed. Trying audioread instead.\n",
            "  warnings.warn(\"PySoundFile failed. Trying audioread instead.\")\n",
            "/usr/local/lib/python3.7/dist-packages/librosa/core/audio.py:162: UserWarning: PySoundFile failed. Trying audioread instead.\n",
            "  warnings.warn(\"PySoundFile failed. Trying audioread instead.\")\n",
            "/usr/local/lib/python3.7/dist-packages/librosa/core/audio.py:162: UserWarning: PySoundFile failed. Trying audioread instead.\n",
            "  warnings.warn(\"PySoundFile failed. Trying audioread instead.\")\n",
            "/usr/local/lib/python3.7/dist-packages/librosa/core/audio.py:162: UserWarning: PySoundFile failed. Trying audioread instead.\n",
            "  warnings.warn(\"PySoundFile failed. Trying audioread instead.\")\n",
            "/usr/local/lib/python3.7/dist-packages/librosa/core/audio.py:162: UserWarning: PySoundFile failed. Trying audioread instead.\n",
            "  warnings.warn(\"PySoundFile failed. Trying audioread instead.\")\n",
            "/usr/local/lib/python3.7/dist-packages/librosa/core/audio.py:162: UserWarning: PySoundFile failed. Trying audioread instead.\n",
            "  warnings.warn(\"PySoundFile failed. Trying audioread instead.\")\n",
            "/usr/local/lib/python3.7/dist-packages/librosa/core/audio.py:162: UserWarning: PySoundFile failed. Trying audioread instead.\n",
            "  warnings.warn(\"PySoundFile failed. Trying audioread instead.\")\n",
            "/usr/local/lib/python3.7/dist-packages/librosa/core/audio.py:162: UserWarning: PySoundFile failed. Trying audioread instead.\n",
            "  warnings.warn(\"PySoundFile failed. Trying audioread instead.\")\n",
            "/usr/local/lib/python3.7/dist-packages/librosa/core/audio.py:162: UserWarning: PySoundFile failed. Trying audioread instead.\n",
            "  warnings.warn(\"PySoundFile failed. Trying audioread instead.\")\n",
            "/usr/local/lib/python3.7/dist-packages/librosa/core/audio.py:162: UserWarning: PySoundFile failed. Trying audioread instead.\n",
            "  warnings.warn(\"PySoundFile failed. Trying audioread instead.\")\n",
            "/usr/local/lib/python3.7/dist-packages/librosa/core/audio.py:162: UserWarning: PySoundFile failed. Trying audioread instead.\n",
            "  warnings.warn(\"PySoundFile failed. Trying audioread instead.\")\n",
            "/usr/local/lib/python3.7/dist-packages/librosa/core/audio.py:162: UserWarning: PySoundFile failed. Trying audioread instead.\n",
            "  warnings.warn(\"PySoundFile failed. Trying audioread instead.\")\n",
            "/usr/local/lib/python3.7/dist-packages/librosa/core/audio.py:162: UserWarning: PySoundFile failed. Trying audioread instead.\n",
            "  warnings.warn(\"PySoundFile failed. Trying audioread instead.\")\n",
            "/usr/local/lib/python3.7/dist-packages/librosa/core/audio.py:162: UserWarning: PySoundFile failed. Trying audioread instead.\n",
            "  warnings.warn(\"PySoundFile failed. Trying audioread instead.\")\n",
            "/usr/local/lib/python3.7/dist-packages/librosa/core/audio.py:162: UserWarning: PySoundFile failed. Trying audioread instead.\n",
            "  warnings.warn(\"PySoundFile failed. Trying audioread instead.\")\n",
            "/usr/local/lib/python3.7/dist-packages/librosa/core/audio.py:162: UserWarning: PySoundFile failed. Trying audioread instead.\n",
            "  warnings.warn(\"PySoundFile failed. Trying audioread instead.\")\n",
            "/usr/local/lib/python3.7/dist-packages/librosa/core/audio.py:162: UserWarning: PySoundFile failed. Trying audioread instead.\n",
            "  warnings.warn(\"PySoundFile failed. Trying audioread instead.\")\n",
            "/usr/local/lib/python3.7/dist-packages/librosa/core/audio.py:162: UserWarning: PySoundFile failed. Trying audioread instead.\n",
            "  warnings.warn(\"PySoundFile failed. Trying audioread instead.\")\n",
            "/usr/local/lib/python3.7/dist-packages/librosa/core/audio.py:162: UserWarning: PySoundFile failed. Trying audioread instead.\n",
            "  warnings.warn(\"PySoundFile failed. Trying audioread instead.\")\n",
            "/usr/local/lib/python3.7/dist-packages/librosa/core/audio.py:162: UserWarning: PySoundFile failed. Trying audioread instead.\n",
            "  warnings.warn(\"PySoundFile failed. Trying audioread instead.\")\n",
            "/usr/local/lib/python3.7/dist-packages/librosa/core/audio.py:162: UserWarning: PySoundFile failed. Trying audioread instead.\n",
            "  warnings.warn(\"PySoundFile failed. Trying audioread instead.\")\n",
            "/usr/local/lib/python3.7/dist-packages/librosa/core/audio.py:162: UserWarning: PySoundFile failed. Trying audioread instead.\n",
            "  warnings.warn(\"PySoundFile failed. Trying audioread instead.\")\n",
            "/usr/local/lib/python3.7/dist-packages/librosa/core/audio.py:162: UserWarning: PySoundFile failed. Trying audioread instead.\n",
            "  warnings.warn(\"PySoundFile failed. Trying audioread instead.\")\n",
            "/usr/local/lib/python3.7/dist-packages/librosa/core/audio.py:162: UserWarning: PySoundFile failed. Trying audioread instead.\n",
            "  warnings.warn(\"PySoundFile failed. Trying audioread instead.\")\n",
            "/usr/local/lib/python3.7/dist-packages/librosa/core/audio.py:162: UserWarning: PySoundFile failed. Trying audioread instead.\n",
            "  warnings.warn(\"PySoundFile failed. Trying audioread instead.\")\n",
            "/usr/local/lib/python3.7/dist-packages/librosa/core/audio.py:162: UserWarning: PySoundFile failed. Trying audioread instead.\n",
            "  warnings.warn(\"PySoundFile failed. Trying audioread instead.\")\n",
            "/usr/local/lib/python3.7/dist-packages/librosa/core/audio.py:162: UserWarning: PySoundFile failed. Trying audioread instead.\n",
            "  warnings.warn(\"PySoundFile failed. Trying audioread instead.\")\n",
            "/usr/local/lib/python3.7/dist-packages/librosa/core/audio.py:162: UserWarning: PySoundFile failed. Trying audioread instead.\n",
            "  warnings.warn(\"PySoundFile failed. Trying audioread instead.\")\n",
            "/usr/local/lib/python3.7/dist-packages/librosa/core/audio.py:162: UserWarning: PySoundFile failed. Trying audioread instead.\n",
            "  warnings.warn(\"PySoundFile failed. Trying audioread instead.\")\n",
            "/usr/local/lib/python3.7/dist-packages/librosa/core/audio.py:162: UserWarning: PySoundFile failed. Trying audioread instead.\n",
            "  warnings.warn(\"PySoundFile failed. Trying audioread instead.\")\n",
            "/usr/local/lib/python3.7/dist-packages/librosa/core/audio.py:162: UserWarning: PySoundFile failed. Trying audioread instead.\n",
            "  warnings.warn(\"PySoundFile failed. Trying audioread instead.\")\n",
            "/usr/local/lib/python3.7/dist-packages/librosa/core/audio.py:162: UserWarning: PySoundFile failed. Trying audioread instead.\n",
            "  warnings.warn(\"PySoundFile failed. Trying audioread instead.\")\n",
            "/usr/local/lib/python3.7/dist-packages/librosa/core/audio.py:162: UserWarning: PySoundFile failed. Trying audioread instead.\n",
            "  warnings.warn(\"PySoundFile failed. Trying audioread instead.\")\n",
            "/usr/local/lib/python3.7/dist-packages/librosa/core/audio.py:162: UserWarning: PySoundFile failed. Trying audioread instead.\n",
            "  warnings.warn(\"PySoundFile failed. Trying audioread instead.\")\n",
            "/usr/local/lib/python3.7/dist-packages/librosa/core/audio.py:162: UserWarning: PySoundFile failed. Trying audioread instead.\n",
            "  warnings.warn(\"PySoundFile failed. Trying audioread instead.\")\n",
            "/usr/local/lib/python3.7/dist-packages/librosa/core/audio.py:162: UserWarning: PySoundFile failed. Trying audioread instead.\n",
            "  warnings.warn(\"PySoundFile failed. Trying audioread instead.\")\n",
            "/usr/local/lib/python3.7/dist-packages/librosa/core/audio.py:162: UserWarning: PySoundFile failed. Trying audioread instead.\n",
            "  warnings.warn(\"PySoundFile failed. Trying audioread instead.\")\n",
            "/usr/local/lib/python3.7/dist-packages/librosa/core/audio.py:162: UserWarning: PySoundFile failed. Trying audioread instead.\n",
            "  warnings.warn(\"PySoundFile failed. Trying audioread instead.\")\n",
            "/usr/local/lib/python3.7/dist-packages/librosa/core/audio.py:162: UserWarning: PySoundFile failed. Trying audioread instead.\n",
            "  warnings.warn(\"PySoundFile failed. Trying audioread instead.\")\n",
            "/usr/local/lib/python3.7/dist-packages/librosa/core/audio.py:162: UserWarning: PySoundFile failed. Trying audioread instead.\n",
            "  warnings.warn(\"PySoundFile failed. Trying audioread instead.\")\n",
            "/usr/local/lib/python3.7/dist-packages/librosa/core/audio.py:162: UserWarning: PySoundFile failed. Trying audioread instead.\n",
            "  warnings.warn(\"PySoundFile failed. Trying audioread instead.\")\n",
            "/usr/local/lib/python3.7/dist-packages/librosa/core/audio.py:162: UserWarning: PySoundFile failed. Trying audioread instead.\n",
            "  warnings.warn(\"PySoundFile failed. Trying audioread instead.\")\n",
            "/usr/local/lib/python3.7/dist-packages/librosa/core/audio.py:162: UserWarning: PySoundFile failed. Trying audioread instead.\n",
            "  warnings.warn(\"PySoundFile failed. Trying audioread instead.\")\n",
            "/usr/local/lib/python3.7/dist-packages/librosa/core/audio.py:162: UserWarning: PySoundFile failed. Trying audioread instead.\n",
            "  warnings.warn(\"PySoundFile failed. Trying audioread instead.\")\n",
            "/usr/local/lib/python3.7/dist-packages/librosa/core/audio.py:162: UserWarning: PySoundFile failed. Trying audioread instead.\n",
            "  warnings.warn(\"PySoundFile failed. Trying audioread instead.\")\n",
            "/usr/local/lib/python3.7/dist-packages/librosa/core/audio.py:162: UserWarning: PySoundFile failed. Trying audioread instead.\n",
            "  warnings.warn(\"PySoundFile failed. Trying audioread instead.\")\n",
            "/usr/local/lib/python3.7/dist-packages/librosa/core/audio.py:162: UserWarning: PySoundFile failed. Trying audioread instead.\n",
            "  warnings.warn(\"PySoundFile failed. Trying audioread instead.\")\n",
            "/usr/local/lib/python3.7/dist-packages/librosa/core/audio.py:162: UserWarning: PySoundFile failed. Trying audioread instead.\n",
            "  warnings.warn(\"PySoundFile failed. Trying audioread instead.\")\n",
            "/usr/local/lib/python3.7/dist-packages/librosa/core/audio.py:162: UserWarning: PySoundFile failed. Trying audioread instead.\n",
            "  warnings.warn(\"PySoundFile failed. Trying audioread instead.\")\n",
            "/usr/local/lib/python3.7/dist-packages/librosa/core/audio.py:162: UserWarning: PySoundFile failed. Trying audioread instead.\n",
            "  warnings.warn(\"PySoundFile failed. Trying audioread instead.\")\n",
            "/usr/local/lib/python3.7/dist-packages/librosa/core/audio.py:162: UserWarning: PySoundFile failed. Trying audioread instead.\n",
            "  warnings.warn(\"PySoundFile failed. Trying audioread instead.\")\n",
            "/usr/local/lib/python3.7/dist-packages/librosa/core/audio.py:162: UserWarning: PySoundFile failed. Trying audioread instead.\n",
            "  warnings.warn(\"PySoundFile failed. Trying audioread instead.\")\n",
            "/usr/local/lib/python3.7/dist-packages/librosa/core/audio.py:162: UserWarning: PySoundFile failed. Trying audioread instead.\n",
            "  warnings.warn(\"PySoundFile failed. Trying audioread instead.\")\n",
            "/usr/local/lib/python3.7/dist-packages/librosa/core/audio.py:162: UserWarning: PySoundFile failed. Trying audioread instead.\n",
            "  warnings.warn(\"PySoundFile failed. Trying audioread instead.\")\n",
            "/usr/local/lib/python3.7/dist-packages/librosa/core/audio.py:162: UserWarning: PySoundFile failed. Trying audioread instead.\n",
            "  warnings.warn(\"PySoundFile failed. Trying audioread instead.\")\n",
            "/usr/local/lib/python3.7/dist-packages/librosa/core/audio.py:162: UserWarning: PySoundFile failed. Trying audioread instead.\n",
            "  warnings.warn(\"PySoundFile failed. Trying audioread instead.\")\n",
            "/usr/local/lib/python3.7/dist-packages/librosa/core/audio.py:162: UserWarning: PySoundFile failed. Trying audioread instead.\n",
            "  warnings.warn(\"PySoundFile failed. Trying audioread instead.\")\n",
            "/usr/local/lib/python3.7/dist-packages/librosa/core/audio.py:162: UserWarning: PySoundFile failed. Trying audioread instead.\n",
            "  warnings.warn(\"PySoundFile failed. Trying audioread instead.\")\n",
            "/usr/local/lib/python3.7/dist-packages/librosa/core/audio.py:162: UserWarning: PySoundFile failed. Trying audioread instead.\n",
            "  warnings.warn(\"PySoundFile failed. Trying audioread instead.\")\n",
            "/usr/local/lib/python3.7/dist-packages/librosa/core/audio.py:162: UserWarning: PySoundFile failed. Trying audioread instead.\n",
            "  warnings.warn(\"PySoundFile failed. Trying audioread instead.\")\n",
            "/usr/local/lib/python3.7/dist-packages/librosa/core/audio.py:162: UserWarning: PySoundFile failed. Trying audioread instead.\n",
            "  warnings.warn(\"PySoundFile failed. Trying audioread instead.\")\n",
            "/usr/local/lib/python3.7/dist-packages/librosa/core/audio.py:162: UserWarning: PySoundFile failed. Trying audioread instead.\n",
            "  warnings.warn(\"PySoundFile failed. Trying audioread instead.\")\n",
            "/usr/local/lib/python3.7/dist-packages/librosa/core/audio.py:162: UserWarning: PySoundFile failed. Trying audioread instead.\n",
            "  warnings.warn(\"PySoundFile failed. Trying audioread instead.\")\n",
            "/usr/local/lib/python3.7/dist-packages/librosa/core/audio.py:162: UserWarning: PySoundFile failed. Trying audioread instead.\n",
            "  warnings.warn(\"PySoundFile failed. Trying audioread instead.\")\n",
            "/usr/local/lib/python3.7/dist-packages/librosa/core/audio.py:162: UserWarning: PySoundFile failed. Trying audioread instead.\n",
            "  warnings.warn(\"PySoundFile failed. Trying audioread instead.\")\n",
            "/usr/local/lib/python3.7/dist-packages/librosa/core/audio.py:162: UserWarning: PySoundFile failed. Trying audioread instead.\n",
            "  warnings.warn(\"PySoundFile failed. Trying audioread instead.\")\n",
            "/usr/local/lib/python3.7/dist-packages/librosa/core/audio.py:162: UserWarning: PySoundFile failed. Trying audioread instead.\n",
            "  warnings.warn(\"PySoundFile failed. Trying audioread instead.\")\n",
            "/usr/local/lib/python3.7/dist-packages/librosa/core/audio.py:162: UserWarning: PySoundFile failed. Trying audioread instead.\n",
            "  warnings.warn(\"PySoundFile failed. Trying audioread instead.\")\n",
            "/usr/local/lib/python3.7/dist-packages/librosa/core/audio.py:162: UserWarning: PySoundFile failed. Trying audioread instead.\n",
            "  warnings.warn(\"PySoundFile failed. Trying audioread instead.\")\n",
            "/usr/local/lib/python3.7/dist-packages/librosa/core/audio.py:162: UserWarning: PySoundFile failed. Trying audioread instead.\n",
            "  warnings.warn(\"PySoundFile failed. Trying audioread instead.\")\n",
            "/usr/local/lib/python3.7/dist-packages/librosa/core/audio.py:162: UserWarning: PySoundFile failed. Trying audioread instead.\n",
            "  warnings.warn(\"PySoundFile failed. Trying audioread instead.\")\n",
            "/usr/local/lib/python3.7/dist-packages/librosa/core/audio.py:162: UserWarning: PySoundFile failed. Trying audioread instead.\n",
            "  warnings.warn(\"PySoundFile failed. Trying audioread instead.\")\n",
            "/usr/local/lib/python3.7/dist-packages/librosa/core/audio.py:162: UserWarning: PySoundFile failed. Trying audioread instead.\n",
            "  warnings.warn(\"PySoundFile failed. Trying audioread instead.\")\n",
            "/usr/local/lib/python3.7/dist-packages/librosa/core/audio.py:162: UserWarning: PySoundFile failed. Trying audioread instead.\n",
            "  warnings.warn(\"PySoundFile failed. Trying audioread instead.\")\n",
            "/usr/local/lib/python3.7/dist-packages/librosa/core/audio.py:162: UserWarning: PySoundFile failed. Trying audioread instead.\n",
            "  warnings.warn(\"PySoundFile failed. Trying audioread instead.\")\n",
            "/usr/local/lib/python3.7/dist-packages/librosa/core/audio.py:162: UserWarning: PySoundFile failed. Trying audioread instead.\n",
            "  warnings.warn(\"PySoundFile failed. Trying audioread instead.\")\n",
            "/usr/local/lib/python3.7/dist-packages/librosa/core/audio.py:162: UserWarning: PySoundFile failed. Trying audioread instead.\n",
            "  warnings.warn(\"PySoundFile failed. Trying audioread instead.\")\n",
            "/usr/local/lib/python3.7/dist-packages/librosa/core/audio.py:162: UserWarning: PySoundFile failed. Trying audioread instead.\n",
            "  warnings.warn(\"PySoundFile failed. Trying audioread instead.\")\n",
            "/usr/local/lib/python3.7/dist-packages/librosa/core/audio.py:162: UserWarning: PySoundFile failed. Trying audioread instead.\n",
            "  warnings.warn(\"PySoundFile failed. Trying audioread instead.\")\n",
            "/usr/local/lib/python3.7/dist-packages/librosa/core/audio.py:162: UserWarning: PySoundFile failed. Trying audioread instead.\n",
            "  warnings.warn(\"PySoundFile failed. Trying audioread instead.\")\n",
            "/usr/local/lib/python3.7/dist-packages/librosa/core/audio.py:162: UserWarning: PySoundFile failed. Trying audioread instead.\n",
            "  warnings.warn(\"PySoundFile failed. Trying audioread instead.\")\n",
            "/usr/local/lib/python3.7/dist-packages/librosa/core/audio.py:162: UserWarning: PySoundFile failed. Trying audioread instead.\n",
            "  warnings.warn(\"PySoundFile failed. Trying audioread instead.\")\n",
            "/usr/local/lib/python3.7/dist-packages/librosa/core/audio.py:162: UserWarning: PySoundFile failed. Trying audioread instead.\n",
            "  warnings.warn(\"PySoundFile failed. Trying audioread instead.\")\n",
            "/usr/local/lib/python3.7/dist-packages/librosa/core/audio.py:162: UserWarning: PySoundFile failed. Trying audioread instead.\n",
            "  warnings.warn(\"PySoundFile failed. Trying audioread instead.\")\n",
            "/usr/local/lib/python3.7/dist-packages/librosa/core/audio.py:162: UserWarning: PySoundFile failed. Trying audioread instead.\n",
            "  warnings.warn(\"PySoundFile failed. Trying audioread instead.\")\n",
            "/usr/local/lib/python3.7/dist-packages/librosa/core/audio.py:162: UserWarning: PySoundFile failed. Trying audioread instead.\n",
            "  warnings.warn(\"PySoundFile failed. Trying audioread instead.\")\n",
            "/usr/local/lib/python3.7/dist-packages/librosa/core/audio.py:162: UserWarning: PySoundFile failed. Trying audioread instead.\n",
            "  warnings.warn(\"PySoundFile failed. Trying audioread instead.\")\n",
            "/usr/local/lib/python3.7/dist-packages/librosa/core/audio.py:162: UserWarning: PySoundFile failed. Trying audioread instead.\n",
            "  warnings.warn(\"PySoundFile failed. Trying audioread instead.\")\n",
            "/usr/local/lib/python3.7/dist-packages/librosa/core/audio.py:162: UserWarning: PySoundFile failed. Trying audioread instead.\n",
            "  warnings.warn(\"PySoundFile failed. Trying audioread instead.\")\n",
            "/usr/local/lib/python3.7/dist-packages/librosa/core/audio.py:162: UserWarning: PySoundFile failed. Trying audioread instead.\n",
            "  warnings.warn(\"PySoundFile failed. Trying audioread instead.\")\n",
            "/usr/local/lib/python3.7/dist-packages/librosa/core/audio.py:162: UserWarning: PySoundFile failed. Trying audioread instead.\n",
            "  warnings.warn(\"PySoundFile failed. Trying audioread instead.\")\n",
            "/usr/local/lib/python3.7/dist-packages/librosa/core/audio.py:162: UserWarning: PySoundFile failed. Trying audioread instead.\n",
            "  warnings.warn(\"PySoundFile failed. Trying audioread instead.\")\n",
            "/usr/local/lib/python3.7/dist-packages/librosa/core/audio.py:162: UserWarning: PySoundFile failed. Trying audioread instead.\n",
            "  warnings.warn(\"PySoundFile failed. Trying audioread instead.\")\n",
            "/usr/local/lib/python3.7/dist-packages/librosa/core/audio.py:162: UserWarning: PySoundFile failed. Trying audioread instead.\n",
            "  warnings.warn(\"PySoundFile failed. Trying audioread instead.\")\n",
            "/usr/local/lib/python3.7/dist-packages/librosa/core/audio.py:162: UserWarning: PySoundFile failed. Trying audioread instead.\n",
            "  warnings.warn(\"PySoundFile failed. Trying audioread instead.\")\n",
            "/usr/local/lib/python3.7/dist-packages/librosa/core/audio.py:162: UserWarning: PySoundFile failed. Trying audioread instead.\n",
            "  warnings.warn(\"PySoundFile failed. Trying audioread instead.\")\n",
            "/usr/local/lib/python3.7/dist-packages/librosa/core/audio.py:162: UserWarning: PySoundFile failed. Trying audioread instead.\n",
            "  warnings.warn(\"PySoundFile failed. Trying audioread instead.\")\n",
            "/usr/local/lib/python3.7/dist-packages/librosa/core/audio.py:162: UserWarning: PySoundFile failed. Trying audioread instead.\n",
            "  warnings.warn(\"PySoundFile failed. Trying audioread instead.\")\n",
            "/usr/local/lib/python3.7/dist-packages/librosa/core/audio.py:162: UserWarning: PySoundFile failed. Trying audioread instead.\n",
            "  warnings.warn(\"PySoundFile failed. Trying audioread instead.\")\n",
            "/usr/local/lib/python3.7/dist-packages/librosa/core/audio.py:162: UserWarning: PySoundFile failed. Trying audioread instead.\n",
            "  warnings.warn(\"PySoundFile failed. Trying audioread instead.\")\n",
            "/usr/local/lib/python3.7/dist-packages/librosa/core/audio.py:162: UserWarning: PySoundFile failed. Trying audioread instead.\n",
            "  warnings.warn(\"PySoundFile failed. Trying audioread instead.\")\n",
            "/usr/local/lib/python3.7/dist-packages/librosa/core/audio.py:162: UserWarning: PySoundFile failed. Trying audioread instead.\n",
            "  warnings.warn(\"PySoundFile failed. Trying audioread instead.\")\n",
            "/usr/local/lib/python3.7/dist-packages/librosa/core/audio.py:162: UserWarning: PySoundFile failed. Trying audioread instead.\n",
            "  warnings.warn(\"PySoundFile failed. Trying audioread instead.\")\n",
            "/usr/local/lib/python3.7/dist-packages/librosa/core/audio.py:162: UserWarning: PySoundFile failed. Trying audioread instead.\n",
            "  warnings.warn(\"PySoundFile failed. Trying audioread instead.\")\n",
            "/usr/local/lib/python3.7/dist-packages/librosa/core/audio.py:162: UserWarning: PySoundFile failed. Trying audioread instead.\n",
            "  warnings.warn(\"PySoundFile failed. Trying audioread instead.\")\n",
            "/usr/local/lib/python3.7/dist-packages/librosa/core/audio.py:162: UserWarning: PySoundFile failed. Trying audioread instead.\n",
            "  warnings.warn(\"PySoundFile failed. Trying audioread instead.\")\n",
            "/usr/local/lib/python3.7/dist-packages/librosa/core/audio.py:162: UserWarning: PySoundFile failed. Trying audioread instead.\n",
            "  warnings.warn(\"PySoundFile failed. Trying audioread instead.\")\n",
            "/usr/local/lib/python3.7/dist-packages/librosa/core/audio.py:162: UserWarning: PySoundFile failed. Trying audioread instead.\n",
            "  warnings.warn(\"PySoundFile failed. Trying audioread instead.\")\n",
            "/usr/local/lib/python3.7/dist-packages/librosa/core/audio.py:162: UserWarning: PySoundFile failed. Trying audioread instead.\n",
            "  warnings.warn(\"PySoundFile failed. Trying audioread instead.\")\n",
            "/usr/local/lib/python3.7/dist-packages/librosa/core/audio.py:162: UserWarning: PySoundFile failed. Trying audioread instead.\n",
            "  warnings.warn(\"PySoundFile failed. Trying audioread instead.\")\n",
            "/usr/local/lib/python3.7/dist-packages/librosa/core/audio.py:162: UserWarning: PySoundFile failed. Trying audioread instead.\n",
            "  warnings.warn(\"PySoundFile failed. Trying audioread instead.\")\n",
            "/usr/local/lib/python3.7/dist-packages/librosa/core/audio.py:162: UserWarning: PySoundFile failed. Trying audioread instead.\n",
            "  warnings.warn(\"PySoundFile failed. Trying audioread instead.\")\n",
            "/usr/local/lib/python3.7/dist-packages/librosa/core/audio.py:162: UserWarning: PySoundFile failed. Trying audioread instead.\n",
            "  warnings.warn(\"PySoundFile failed. Trying audioread instead.\")\n",
            "/usr/local/lib/python3.7/dist-packages/librosa/core/audio.py:162: UserWarning: PySoundFile failed. Trying audioread instead.\n",
            "  warnings.warn(\"PySoundFile failed. Trying audioread instead.\")\n",
            "/usr/local/lib/python3.7/dist-packages/librosa/core/audio.py:162: UserWarning: PySoundFile failed. Trying audioread instead.\n",
            "  warnings.warn(\"PySoundFile failed. Trying audioread instead.\")\n",
            "/usr/local/lib/python3.7/dist-packages/librosa/core/audio.py:162: UserWarning: PySoundFile failed. Trying audioread instead.\n",
            "  warnings.warn(\"PySoundFile failed. Trying audioread instead.\")\n",
            "/usr/local/lib/python3.7/dist-packages/librosa/core/audio.py:162: UserWarning: PySoundFile failed. Trying audioread instead.\n",
            "  warnings.warn(\"PySoundFile failed. Trying audioread instead.\")\n",
            "/usr/local/lib/python3.7/dist-packages/librosa/core/audio.py:162: UserWarning: PySoundFile failed. Trying audioread instead.\n",
            "  warnings.warn(\"PySoundFile failed. Trying audioread instead.\")\n",
            "/usr/local/lib/python3.7/dist-packages/librosa/core/audio.py:162: UserWarning: PySoundFile failed. Trying audioread instead.\n",
            "  warnings.warn(\"PySoundFile failed. Trying audioread instead.\")\n",
            "/usr/local/lib/python3.7/dist-packages/librosa/core/audio.py:162: UserWarning: PySoundFile failed. Trying audioread instead.\n",
            "  warnings.warn(\"PySoundFile failed. Trying audioread instead.\")\n",
            "/usr/local/lib/python3.7/dist-packages/librosa/core/audio.py:162: UserWarning: PySoundFile failed. Trying audioread instead.\n",
            "  warnings.warn(\"PySoundFile failed. Trying audioread instead.\")\n",
            "/usr/local/lib/python3.7/dist-packages/librosa/core/audio.py:162: UserWarning: PySoundFile failed. Trying audioread instead.\n",
            "  warnings.warn(\"PySoundFile failed. Trying audioread instead.\")\n",
            "/usr/local/lib/python3.7/dist-packages/librosa/core/audio.py:162: UserWarning: PySoundFile failed. Trying audioread instead.\n",
            "  warnings.warn(\"PySoundFile failed. Trying audioread instead.\")\n",
            "/usr/local/lib/python3.7/dist-packages/librosa/core/audio.py:162: UserWarning: PySoundFile failed. Trying audioread instead.\n",
            "  warnings.warn(\"PySoundFile failed. Trying audioread instead.\")\n",
            "/usr/local/lib/python3.7/dist-packages/librosa/core/audio.py:162: UserWarning: PySoundFile failed. Trying audioread instead.\n",
            "  warnings.warn(\"PySoundFile failed. Trying audioread instead.\")\n",
            "/usr/local/lib/python3.7/dist-packages/librosa/core/audio.py:162: UserWarning: PySoundFile failed. Trying audioread instead.\n",
            "  warnings.warn(\"PySoundFile failed. Trying audioread instead.\")\n",
            "/usr/local/lib/python3.7/dist-packages/librosa/core/audio.py:162: UserWarning: PySoundFile failed. Trying audioread instead.\n",
            "  warnings.warn(\"PySoundFile failed. Trying audioread instead.\")\n",
            "/usr/local/lib/python3.7/dist-packages/librosa/core/audio.py:162: UserWarning: PySoundFile failed. Trying audioread instead.\n",
            "  warnings.warn(\"PySoundFile failed. Trying audioread instead.\")\n",
            "/usr/local/lib/python3.7/dist-packages/librosa/core/audio.py:162: UserWarning: PySoundFile failed. Trying audioread instead.\n",
            "  warnings.warn(\"PySoundFile failed. Trying audioread instead.\")\n",
            "/usr/local/lib/python3.7/dist-packages/librosa/core/audio.py:162: UserWarning: PySoundFile failed. Trying audioread instead.\n",
            "  warnings.warn(\"PySoundFile failed. Trying audioread instead.\")\n",
            "/usr/local/lib/python3.7/dist-packages/librosa/core/audio.py:162: UserWarning: PySoundFile failed. Trying audioread instead.\n",
            "  warnings.warn(\"PySoundFile failed. Trying audioread instead.\")\n",
            "/usr/local/lib/python3.7/dist-packages/librosa/core/audio.py:162: UserWarning: PySoundFile failed. Trying audioread instead.\n",
            "  warnings.warn(\"PySoundFile failed. Trying audioread instead.\")\n",
            "/usr/local/lib/python3.7/dist-packages/librosa/core/audio.py:162: UserWarning: PySoundFile failed. Trying audioread instead.\n",
            "  warnings.warn(\"PySoundFile failed. Trying audioread instead.\")\n",
            "/usr/local/lib/python3.7/dist-packages/librosa/core/audio.py:162: UserWarning: PySoundFile failed. Trying audioread instead.\n",
            "  warnings.warn(\"PySoundFile failed. Trying audioread instead.\")\n",
            "/usr/local/lib/python3.7/dist-packages/librosa/core/audio.py:162: UserWarning: PySoundFile failed. Trying audioread instead.\n",
            "  warnings.warn(\"PySoundFile failed. Trying audioread instead.\")\n",
            "/usr/local/lib/python3.7/dist-packages/librosa/core/audio.py:162: UserWarning: PySoundFile failed. Trying audioread instead.\n",
            "  warnings.warn(\"PySoundFile failed. Trying audioread instead.\")\n",
            "/usr/local/lib/python3.7/dist-packages/librosa/core/audio.py:162: UserWarning: PySoundFile failed. Trying audioread instead.\n",
            "  warnings.warn(\"PySoundFile failed. Trying audioread instead.\")\n",
            "/usr/local/lib/python3.7/dist-packages/librosa/core/audio.py:162: UserWarning: PySoundFile failed. Trying audioread instead.\n",
            "  warnings.warn(\"PySoundFile failed. Trying audioread instead.\")\n",
            "/usr/local/lib/python3.7/dist-packages/librosa/core/audio.py:162: UserWarning: PySoundFile failed. Trying audioread instead.\n",
            "  warnings.warn(\"PySoundFile failed. Trying audioread instead.\")\n",
            "/usr/local/lib/python3.7/dist-packages/librosa/core/audio.py:162: UserWarning: PySoundFile failed. Trying audioread instead.\n",
            "  warnings.warn(\"PySoundFile failed. Trying audioread instead.\")\n",
            "/usr/local/lib/python3.7/dist-packages/librosa/core/audio.py:162: UserWarning: PySoundFile failed. Trying audioread instead.\n",
            "  warnings.warn(\"PySoundFile failed. Trying audioread instead.\")\n",
            "/usr/local/lib/python3.7/dist-packages/librosa/core/audio.py:162: UserWarning: PySoundFile failed. Trying audioread instead.\n",
            "  warnings.warn(\"PySoundFile failed. Trying audioread instead.\")\n",
            "/usr/local/lib/python3.7/dist-packages/librosa/core/audio.py:162: UserWarning: PySoundFile failed. Trying audioread instead.\n",
            "  warnings.warn(\"PySoundFile failed. Trying audioread instead.\")\n",
            "/usr/local/lib/python3.7/dist-packages/librosa/core/audio.py:162: UserWarning: PySoundFile failed. Trying audioread instead.\n",
            "  warnings.warn(\"PySoundFile failed. Trying audioread instead.\")\n",
            "/usr/local/lib/python3.7/dist-packages/librosa/core/audio.py:162: UserWarning: PySoundFile failed. Trying audioread instead.\n",
            "  warnings.warn(\"PySoundFile failed. Trying audioread instead.\")\n",
            "/usr/local/lib/python3.7/dist-packages/librosa/core/audio.py:162: UserWarning: PySoundFile failed. Trying audioread instead.\n",
            "  warnings.warn(\"PySoundFile failed. Trying audioread instead.\")\n",
            "/usr/local/lib/python3.7/dist-packages/librosa/core/audio.py:162: UserWarning: PySoundFile failed. Trying audioread instead.\n",
            "  warnings.warn(\"PySoundFile failed. Trying audioread instead.\")\n",
            "/usr/local/lib/python3.7/dist-packages/librosa/core/audio.py:162: UserWarning: PySoundFile failed. Trying audioread instead.\n",
            "  warnings.warn(\"PySoundFile failed. Trying audioread instead.\")\n",
            "/usr/local/lib/python3.7/dist-packages/librosa/core/audio.py:162: UserWarning: PySoundFile failed. Trying audioread instead.\n",
            "  warnings.warn(\"PySoundFile failed. Trying audioread instead.\")\n",
            "/usr/local/lib/python3.7/dist-packages/librosa/core/audio.py:162: UserWarning: PySoundFile failed. Trying audioread instead.\n",
            "  warnings.warn(\"PySoundFile failed. Trying audioread instead.\")\n",
            "/usr/local/lib/python3.7/dist-packages/librosa/core/audio.py:162: UserWarning: PySoundFile failed. Trying audioread instead.\n",
            "  warnings.warn(\"PySoundFile failed. Trying audioread instead.\")\n",
            "/usr/local/lib/python3.7/dist-packages/librosa/core/audio.py:162: UserWarning: PySoundFile failed. Trying audioread instead.\n",
            "  warnings.warn(\"PySoundFile failed. Trying audioread instead.\")\n",
            "/usr/local/lib/python3.7/dist-packages/librosa/core/audio.py:162: UserWarning: PySoundFile failed. Trying audioread instead.\n",
            "  warnings.warn(\"PySoundFile failed. Trying audioread instead.\")\n",
            "/usr/local/lib/python3.7/dist-packages/librosa/core/audio.py:162: UserWarning: PySoundFile failed. Trying audioread instead.\n",
            "  warnings.warn(\"PySoundFile failed. Trying audioread instead.\")\n",
            "/usr/local/lib/python3.7/dist-packages/librosa/core/audio.py:162: UserWarning: PySoundFile failed. Trying audioread instead.\n",
            "  warnings.warn(\"PySoundFile failed. Trying audioread instead.\")\n",
            "/usr/local/lib/python3.7/dist-packages/librosa/core/audio.py:162: UserWarning: PySoundFile failed. Trying audioread instead.\n",
            "  warnings.warn(\"PySoundFile failed. Trying audioread instead.\")\n",
            "/usr/local/lib/python3.7/dist-packages/librosa/core/audio.py:162: UserWarning: PySoundFile failed. Trying audioread instead.\n",
            "  warnings.warn(\"PySoundFile failed. Trying audioread instead.\")\n",
            "/usr/local/lib/python3.7/dist-packages/librosa/core/audio.py:162: UserWarning: PySoundFile failed. Trying audioread instead.\n",
            "  warnings.warn(\"PySoundFile failed. Trying audioread instead.\")\n",
            "/usr/local/lib/python3.7/dist-packages/librosa/core/audio.py:162: UserWarning: PySoundFile failed. Trying audioread instead.\n",
            "  warnings.warn(\"PySoundFile failed. Trying audioread instead.\")\n",
            "/usr/local/lib/python3.7/dist-packages/librosa/core/audio.py:162: UserWarning: PySoundFile failed. Trying audioread instead.\n",
            "  warnings.warn(\"PySoundFile failed. Trying audioread instead.\")\n",
            "/usr/local/lib/python3.7/dist-packages/librosa/core/audio.py:162: UserWarning: PySoundFile failed. Trying audioread instead.\n",
            "  warnings.warn(\"PySoundFile failed. Trying audioread instead.\")\n",
            "/usr/local/lib/python3.7/dist-packages/librosa/core/audio.py:162: UserWarning: PySoundFile failed. Trying audioread instead.\n",
            "  warnings.warn(\"PySoundFile failed. Trying audioread instead.\")\n",
            "/usr/local/lib/python3.7/dist-packages/librosa/core/audio.py:162: UserWarning: PySoundFile failed. Trying audioread instead.\n",
            "  warnings.warn(\"PySoundFile failed. Trying audioread instead.\")\n",
            "/usr/local/lib/python3.7/dist-packages/librosa/core/audio.py:162: UserWarning: PySoundFile failed. Trying audioread instead.\n",
            "  warnings.warn(\"PySoundFile failed. Trying audioread instead.\")\n",
            "/usr/local/lib/python3.7/dist-packages/librosa/core/audio.py:162: UserWarning: PySoundFile failed. Trying audioread instead.\n",
            "  warnings.warn(\"PySoundFile failed. Trying audioread instead.\")\n",
            "/usr/local/lib/python3.7/dist-packages/librosa/core/audio.py:162: UserWarning: PySoundFile failed. Trying audioread instead.\n",
            "  warnings.warn(\"PySoundFile failed. Trying audioread instead.\")\n",
            "/usr/local/lib/python3.7/dist-packages/librosa/core/audio.py:162: UserWarning: PySoundFile failed. Trying audioread instead.\n",
            "  warnings.warn(\"PySoundFile failed. Trying audioread instead.\")\n",
            "/usr/local/lib/python3.7/dist-packages/librosa/core/audio.py:162: UserWarning: PySoundFile failed. Trying audioread instead.\n",
            "  warnings.warn(\"PySoundFile failed. Trying audioread instead.\")\n",
            "/usr/local/lib/python3.7/dist-packages/librosa/core/audio.py:162: UserWarning: PySoundFile failed. Trying audioread instead.\n",
            "  warnings.warn(\"PySoundFile failed. Trying audioread instead.\")\n",
            "/usr/local/lib/python3.7/dist-packages/librosa/core/audio.py:162: UserWarning: PySoundFile failed. Trying audioread instead.\n",
            "  warnings.warn(\"PySoundFile failed. Trying audioread instead.\")\n",
            "/usr/local/lib/python3.7/dist-packages/librosa/core/audio.py:162: UserWarning: PySoundFile failed. Trying audioread instead.\n",
            "  warnings.warn(\"PySoundFile failed. Trying audioread instead.\")\n",
            "/usr/local/lib/python3.7/dist-packages/librosa/core/audio.py:162: UserWarning: PySoundFile failed. Trying audioread instead.\n",
            "  warnings.warn(\"PySoundFile failed. Trying audioread instead.\")\n",
            "/usr/local/lib/python3.7/dist-packages/librosa/core/audio.py:162: UserWarning: PySoundFile failed. Trying audioread instead.\n",
            "  warnings.warn(\"PySoundFile failed. Trying audioread instead.\")\n",
            "/usr/local/lib/python3.7/dist-packages/librosa/core/audio.py:162: UserWarning: PySoundFile failed. Trying audioread instead.\n",
            "  warnings.warn(\"PySoundFile failed. Trying audioread instead.\")\n",
            "/usr/local/lib/python3.7/dist-packages/librosa/core/audio.py:162: UserWarning: PySoundFile failed. Trying audioread instead.\n",
            "  warnings.warn(\"PySoundFile failed. Trying audioread instead.\")\n",
            "/usr/local/lib/python3.7/dist-packages/librosa/core/audio.py:162: UserWarning: PySoundFile failed. Trying audioread instead.\n",
            "  warnings.warn(\"PySoundFile failed. Trying audioread instead.\")\n",
            "/usr/local/lib/python3.7/dist-packages/librosa/core/audio.py:162: UserWarning: PySoundFile failed. Trying audioread instead.\n",
            "  warnings.warn(\"PySoundFile failed. Trying audioread instead.\")\n",
            "/usr/local/lib/python3.7/dist-packages/librosa/core/audio.py:162: UserWarning: PySoundFile failed. Trying audioread instead.\n",
            "  warnings.warn(\"PySoundFile failed. Trying audioread instead.\")\n",
            "/usr/local/lib/python3.7/dist-packages/librosa/core/audio.py:162: UserWarning: PySoundFile failed. Trying audioread instead.\n",
            "  warnings.warn(\"PySoundFile failed. Trying audioread instead.\")\n",
            "/usr/local/lib/python3.7/dist-packages/librosa/core/audio.py:162: UserWarning: PySoundFile failed. Trying audioread instead.\n",
            "  warnings.warn(\"PySoundFile failed. Trying audioread instead.\")\n",
            "/usr/local/lib/python3.7/dist-packages/librosa/core/audio.py:162: UserWarning: PySoundFile failed. Trying audioread instead.\n",
            "  warnings.warn(\"PySoundFile failed. Trying audioread instead.\")\n",
            "/usr/local/lib/python3.7/dist-packages/librosa/core/audio.py:162: UserWarning: PySoundFile failed. Trying audioread instead.\n",
            "  warnings.warn(\"PySoundFile failed. Trying audioread instead.\")\n",
            "/usr/local/lib/python3.7/dist-packages/librosa/core/audio.py:162: UserWarning: PySoundFile failed. Trying audioread instead.\n",
            "  warnings.warn(\"PySoundFile failed. Trying audioread instead.\")\n",
            "/usr/local/lib/python3.7/dist-packages/librosa/core/audio.py:162: UserWarning: PySoundFile failed. Trying audioread instead.\n",
            "  warnings.warn(\"PySoundFile failed. Trying audioread instead.\")\n",
            "/usr/local/lib/python3.7/dist-packages/librosa/core/audio.py:162: UserWarning: PySoundFile failed. Trying audioread instead.\n",
            "  warnings.warn(\"PySoundFile failed. Trying audioread instead.\")\n",
            "/usr/local/lib/python3.7/dist-packages/librosa/core/audio.py:162: UserWarning: PySoundFile failed. Trying audioread instead.\n",
            "  warnings.warn(\"PySoundFile failed. Trying audioread instead.\")\n",
            "/usr/local/lib/python3.7/dist-packages/librosa/core/audio.py:162: UserWarning: PySoundFile failed. Trying audioread instead.\n",
            "  warnings.warn(\"PySoundFile failed. Trying audioread instead.\")\n",
            "/usr/local/lib/python3.7/dist-packages/librosa/core/audio.py:162: UserWarning: PySoundFile failed. Trying audioread instead.\n",
            "  warnings.warn(\"PySoundFile failed. Trying audioread instead.\")\n",
            "/usr/local/lib/python3.7/dist-packages/librosa/core/audio.py:162: UserWarning: PySoundFile failed. Trying audioread instead.\n",
            "  warnings.warn(\"PySoundFile failed. Trying audioread instead.\")\n",
            "/usr/local/lib/python3.7/dist-packages/librosa/core/audio.py:162: UserWarning: PySoundFile failed. Trying audioread instead.\n",
            "  warnings.warn(\"PySoundFile failed. Trying audioread instead.\")\n",
            "/usr/local/lib/python3.7/dist-packages/librosa/core/audio.py:162: UserWarning: PySoundFile failed. Trying audioread instead.\n",
            "  warnings.warn(\"PySoundFile failed. Trying audioread instead.\")\n",
            "/usr/local/lib/python3.7/dist-packages/librosa/core/audio.py:162: UserWarning: PySoundFile failed. Trying audioread instead.\n",
            "  warnings.warn(\"PySoundFile failed. Trying audioread instead.\")\n",
            "/usr/local/lib/python3.7/dist-packages/librosa/core/audio.py:162: UserWarning: PySoundFile failed. Trying audioread instead.\n",
            "  warnings.warn(\"PySoundFile failed. Trying audioread instead.\")\n",
            "/usr/local/lib/python3.7/dist-packages/librosa/core/audio.py:162: UserWarning: PySoundFile failed. Trying audioread instead.\n",
            "  warnings.warn(\"PySoundFile failed. Trying audioread instead.\")\n",
            "/usr/local/lib/python3.7/dist-packages/librosa/core/audio.py:162: UserWarning: PySoundFile failed. Trying audioread instead.\n",
            "  warnings.warn(\"PySoundFile failed. Trying audioread instead.\")\n",
            "/usr/local/lib/python3.7/dist-packages/librosa/core/audio.py:162: UserWarning: PySoundFile failed. Trying audioread instead.\n",
            "  warnings.warn(\"PySoundFile failed. Trying audioread instead.\")\n",
            "/usr/local/lib/python3.7/dist-packages/librosa/core/audio.py:162: UserWarning: PySoundFile failed. Trying audioread instead.\n",
            "  warnings.warn(\"PySoundFile failed. Trying audioread instead.\")\n",
            "/usr/local/lib/python3.7/dist-packages/librosa/core/audio.py:162: UserWarning: PySoundFile failed. Trying audioread instead.\n",
            "  warnings.warn(\"PySoundFile failed. Trying audioread instead.\")\n",
            "/usr/local/lib/python3.7/dist-packages/librosa/core/audio.py:162: UserWarning: PySoundFile failed. Trying audioread instead.\n",
            "  warnings.warn(\"PySoundFile failed. Trying audioread instead.\")\n",
            "/usr/local/lib/python3.7/dist-packages/librosa/core/audio.py:162: UserWarning: PySoundFile failed. Trying audioread instead.\n",
            "  warnings.warn(\"PySoundFile failed. Trying audioread instead.\")\n",
            "/usr/local/lib/python3.7/dist-packages/librosa/core/audio.py:162: UserWarning: PySoundFile failed. Trying audioread instead.\n",
            "  warnings.warn(\"PySoundFile failed. Trying audioread instead.\")\n",
            "/usr/local/lib/python3.7/dist-packages/librosa/core/audio.py:162: UserWarning: PySoundFile failed. Trying audioread instead.\n",
            "  warnings.warn(\"PySoundFile failed. Trying audioread instead.\")\n",
            "/usr/local/lib/python3.7/dist-packages/librosa/core/audio.py:162: UserWarning: PySoundFile failed. Trying audioread instead.\n",
            "  warnings.warn(\"PySoundFile failed. Trying audioread instead.\")\n",
            "/usr/local/lib/python3.7/dist-packages/librosa/core/audio.py:162: UserWarning: PySoundFile failed. Trying audioread instead.\n",
            "  warnings.warn(\"PySoundFile failed. Trying audioread instead.\")\n",
            "/usr/local/lib/python3.7/dist-packages/librosa/core/audio.py:162: UserWarning: PySoundFile failed. Trying audioread instead.\n",
            "  warnings.warn(\"PySoundFile failed. Trying audioread instead.\")\n",
            "/usr/local/lib/python3.7/dist-packages/librosa/core/audio.py:162: UserWarning: PySoundFile failed. Trying audioread instead.\n",
            "  warnings.warn(\"PySoundFile failed. Trying audioread instead.\")\n",
            "/usr/local/lib/python3.7/dist-packages/librosa/core/audio.py:162: UserWarning: PySoundFile failed. Trying audioread instead.\n",
            "  warnings.warn(\"PySoundFile failed. Trying audioread instead.\")\n",
            "/usr/local/lib/python3.7/dist-packages/librosa/core/audio.py:162: UserWarning: PySoundFile failed. Trying audioread instead.\n",
            "  warnings.warn(\"PySoundFile failed. Trying audioread instead.\")\n",
            "/usr/local/lib/python3.7/dist-packages/librosa/core/audio.py:162: UserWarning: PySoundFile failed. Trying audioread instead.\n",
            "  warnings.warn(\"PySoundFile failed. Trying audioread instead.\")\n",
            "/usr/local/lib/python3.7/dist-packages/librosa/core/audio.py:162: UserWarning: PySoundFile failed. Trying audioread instead.\n",
            "  warnings.warn(\"PySoundFile failed. Trying audioread instead.\")\n",
            "/usr/local/lib/python3.7/dist-packages/librosa/core/audio.py:162: UserWarning: PySoundFile failed. Trying audioread instead.\n",
            "  warnings.warn(\"PySoundFile failed. Trying audioread instead.\")\n",
            "/usr/local/lib/python3.7/dist-packages/librosa/core/audio.py:162: UserWarning: PySoundFile failed. Trying audioread instead.\n",
            "  warnings.warn(\"PySoundFile failed. Trying audioread instead.\")\n",
            "/usr/local/lib/python3.7/dist-packages/librosa/core/audio.py:162: UserWarning: PySoundFile failed. Trying audioread instead.\n",
            "  warnings.warn(\"PySoundFile failed. Trying audioread instead.\")\n",
            "/usr/local/lib/python3.7/dist-packages/librosa/core/audio.py:162: UserWarning: PySoundFile failed. Trying audioread instead.\n",
            "  warnings.warn(\"PySoundFile failed. Trying audioread instead.\")\n",
            "/usr/local/lib/python3.7/dist-packages/librosa/core/audio.py:162: UserWarning: PySoundFile failed. Trying audioread instead.\n",
            "  warnings.warn(\"PySoundFile failed. Trying audioread instead.\")\n",
            "/usr/local/lib/python3.7/dist-packages/librosa/core/audio.py:162: UserWarning: PySoundFile failed. Trying audioread instead.\n",
            "  warnings.warn(\"PySoundFile failed. Trying audioread instead.\")\n",
            "/usr/local/lib/python3.7/dist-packages/librosa/core/audio.py:162: UserWarning: PySoundFile failed. Trying audioread instead.\n",
            "  warnings.warn(\"PySoundFile failed. Trying audioread instead.\")\n",
            "/usr/local/lib/python3.7/dist-packages/librosa/core/audio.py:162: UserWarning: PySoundFile failed. Trying audioread instead.\n",
            "  warnings.warn(\"PySoundFile failed. Trying audioread instead.\")\n",
            "/usr/local/lib/python3.7/dist-packages/librosa/core/audio.py:162: UserWarning: PySoundFile failed. Trying audioread instead.\n",
            "  warnings.warn(\"PySoundFile failed. Trying audioread instead.\")\n",
            "/usr/local/lib/python3.7/dist-packages/librosa/core/audio.py:162: UserWarning: PySoundFile failed. Trying audioread instead.\n",
            "  warnings.warn(\"PySoundFile failed. Trying audioread instead.\")\n",
            "/usr/local/lib/python3.7/dist-packages/librosa/core/audio.py:162: UserWarning: PySoundFile failed. Trying audioread instead.\n",
            "  warnings.warn(\"PySoundFile failed. Trying audioread instead.\")\n",
            "/usr/local/lib/python3.7/dist-packages/librosa/core/audio.py:162: UserWarning: PySoundFile failed. Trying audioread instead.\n",
            "  warnings.warn(\"PySoundFile failed. Trying audioread instead.\")\n",
            "/usr/local/lib/python3.7/dist-packages/librosa/core/audio.py:162: UserWarning: PySoundFile failed. Trying audioread instead.\n",
            "  warnings.warn(\"PySoundFile failed. Trying audioread instead.\")\n",
            "/usr/local/lib/python3.7/dist-packages/librosa/core/audio.py:162: UserWarning: PySoundFile failed. Trying audioread instead.\n",
            "  warnings.warn(\"PySoundFile failed. Trying audioread instead.\")\n",
            "/usr/local/lib/python3.7/dist-packages/librosa/core/audio.py:162: UserWarning: PySoundFile failed. Trying audioread instead.\n",
            "  warnings.warn(\"PySoundFile failed. Trying audioread instead.\")\n",
            "/usr/local/lib/python3.7/dist-packages/librosa/core/audio.py:162: UserWarning: PySoundFile failed. Trying audioread instead.\n",
            "  warnings.warn(\"PySoundFile failed. Trying audioread instead.\")\n",
            "/usr/local/lib/python3.7/dist-packages/librosa/core/audio.py:162: UserWarning: PySoundFile failed. Trying audioread instead.\n",
            "  warnings.warn(\"PySoundFile failed. Trying audioread instead.\")\n",
            "/usr/local/lib/python3.7/dist-packages/librosa/core/audio.py:162: UserWarning: PySoundFile failed. Trying audioread instead.\n",
            "  warnings.warn(\"PySoundFile failed. Trying audioread instead.\")\n",
            "/usr/local/lib/python3.7/dist-packages/librosa/core/audio.py:162: UserWarning: PySoundFile failed. Trying audioread instead.\n",
            "  warnings.warn(\"PySoundFile failed. Trying audioread instead.\")\n",
            "/usr/local/lib/python3.7/dist-packages/librosa/core/audio.py:162: UserWarning: PySoundFile failed. Trying audioread instead.\n",
            "  warnings.warn(\"PySoundFile failed. Trying audioread instead.\")\n",
            "/usr/local/lib/python3.7/dist-packages/librosa/core/audio.py:162: UserWarning: PySoundFile failed. Trying audioread instead.\n",
            "  warnings.warn(\"PySoundFile failed. Trying audioread instead.\")\n",
            "/usr/local/lib/python3.7/dist-packages/librosa/core/audio.py:162: UserWarning: PySoundFile failed. Trying audioread instead.\n",
            "  warnings.warn(\"PySoundFile failed. Trying audioread instead.\")\n",
            "/usr/local/lib/python3.7/dist-packages/librosa/core/audio.py:162: UserWarning: PySoundFile failed. Trying audioread instead.\n",
            "  warnings.warn(\"PySoundFile failed. Trying audioread instead.\")\n",
            "/usr/local/lib/python3.7/dist-packages/librosa/core/audio.py:162: UserWarning: PySoundFile failed. Trying audioread instead.\n",
            "  warnings.warn(\"PySoundFile failed. Trying audioread instead.\")\n",
            "/usr/local/lib/python3.7/dist-packages/librosa/core/audio.py:162: UserWarning: PySoundFile failed. Trying audioread instead.\n",
            "  warnings.warn(\"PySoundFile failed. Trying audioread instead.\")\n",
            "/usr/local/lib/python3.7/dist-packages/librosa/core/audio.py:162: UserWarning: PySoundFile failed. Trying audioread instead.\n",
            "  warnings.warn(\"PySoundFile failed. Trying audioread instead.\")\n",
            "/usr/local/lib/python3.7/dist-packages/librosa/core/audio.py:162: UserWarning: PySoundFile failed. Trying audioread instead.\n",
            "  warnings.warn(\"PySoundFile failed. Trying audioread instead.\")\n",
            "/usr/local/lib/python3.7/dist-packages/librosa/core/audio.py:162: UserWarning: PySoundFile failed. Trying audioread instead.\n",
            "  warnings.warn(\"PySoundFile failed. Trying audioread instead.\")\n",
            "/usr/local/lib/python3.7/dist-packages/librosa/core/audio.py:162: UserWarning: PySoundFile failed. Trying audioread instead.\n",
            "  warnings.warn(\"PySoundFile failed. Trying audioread instead.\")\n",
            "/usr/local/lib/python3.7/dist-packages/librosa/core/audio.py:162: UserWarning: PySoundFile failed. Trying audioread instead.\n",
            "  warnings.warn(\"PySoundFile failed. Trying audioread instead.\")\n",
            "/usr/local/lib/python3.7/dist-packages/librosa/core/audio.py:162: UserWarning: PySoundFile failed. Trying audioread instead.\n",
            "  warnings.warn(\"PySoundFile failed. Trying audioread instead.\")\n",
            "/usr/local/lib/python3.7/dist-packages/librosa/core/audio.py:162: UserWarning: PySoundFile failed. Trying audioread instead.\n",
            "  warnings.warn(\"PySoundFile failed. Trying audioread instead.\")\n",
            "/usr/local/lib/python3.7/dist-packages/librosa/core/audio.py:162: UserWarning: PySoundFile failed. Trying audioread instead.\n",
            "  warnings.warn(\"PySoundFile failed. Trying audioread instead.\")\n",
            "/usr/local/lib/python3.7/dist-packages/librosa/core/audio.py:162: UserWarning: PySoundFile failed. Trying audioread instead.\n",
            "  warnings.warn(\"PySoundFile failed. Trying audioread instead.\")\n",
            "/usr/local/lib/python3.7/dist-packages/librosa/core/audio.py:162: UserWarning: PySoundFile failed. Trying audioread instead.\n",
            "  warnings.warn(\"PySoundFile failed. Trying audioread instead.\")\n",
            "/usr/local/lib/python3.7/dist-packages/librosa/core/audio.py:162: UserWarning: PySoundFile failed. Trying audioread instead.\n",
            "  warnings.warn(\"PySoundFile failed. Trying audioread instead.\")\n",
            "/usr/local/lib/python3.7/dist-packages/librosa/core/audio.py:162: UserWarning: PySoundFile failed. Trying audioread instead.\n",
            "  warnings.warn(\"PySoundFile failed. Trying audioread instead.\")\n",
            "/usr/local/lib/python3.7/dist-packages/librosa/core/audio.py:162: UserWarning: PySoundFile failed. Trying audioread instead.\n",
            "  warnings.warn(\"PySoundFile failed. Trying audioread instead.\")\n",
            "/usr/local/lib/python3.7/dist-packages/librosa/core/audio.py:162: UserWarning: PySoundFile failed. Trying audioread instead.\n",
            "  warnings.warn(\"PySoundFile failed. Trying audioread instead.\")\n",
            "/usr/local/lib/python3.7/dist-packages/librosa/core/audio.py:162: UserWarning: PySoundFile failed. Trying audioread instead.\n",
            "  warnings.warn(\"PySoundFile failed. Trying audioread instead.\")\n",
            "/usr/local/lib/python3.7/dist-packages/librosa/core/audio.py:162: UserWarning: PySoundFile failed. Trying audioread instead.\n",
            "  warnings.warn(\"PySoundFile failed. Trying audioread instead.\")\n",
            "/usr/local/lib/python3.7/dist-packages/librosa/core/audio.py:162: UserWarning: PySoundFile failed. Trying audioread instead.\n",
            "  warnings.warn(\"PySoundFile failed. Trying audioread instead.\")\n",
            "/usr/local/lib/python3.7/dist-packages/librosa/core/audio.py:162: UserWarning: PySoundFile failed. Trying audioread instead.\n",
            "  warnings.warn(\"PySoundFile failed. Trying audioread instead.\")\n",
            "/usr/local/lib/python3.7/dist-packages/librosa/core/audio.py:162: UserWarning: PySoundFile failed. Trying audioread instead.\n",
            "  warnings.warn(\"PySoundFile failed. Trying audioread instead.\")\n",
            "/usr/local/lib/python3.7/dist-packages/librosa/core/audio.py:162: UserWarning: PySoundFile failed. Trying audioread instead.\n",
            "  warnings.warn(\"PySoundFile failed. Trying audioread instead.\")\n",
            "/usr/local/lib/python3.7/dist-packages/librosa/core/audio.py:162: UserWarning: PySoundFile failed. Trying audioread instead.\n",
            "  warnings.warn(\"PySoundFile failed. Trying audioread instead.\")\n",
            "/usr/local/lib/python3.7/dist-packages/librosa/core/audio.py:162: UserWarning: PySoundFile failed. Trying audioread instead.\n",
            "  warnings.warn(\"PySoundFile failed. Trying audioread instead.\")\n",
            "/usr/local/lib/python3.7/dist-packages/librosa/core/audio.py:162: UserWarning: PySoundFile failed. Trying audioread instead.\n",
            "  warnings.warn(\"PySoundFile failed. Trying audioread instead.\")\n",
            "/usr/local/lib/python3.7/dist-packages/librosa/core/audio.py:162: UserWarning: PySoundFile failed. Trying audioread instead.\n",
            "  warnings.warn(\"PySoundFile failed. Trying audioread instead.\")\n",
            "/usr/local/lib/python3.7/dist-packages/librosa/core/audio.py:162: UserWarning: PySoundFile failed. Trying audioread instead.\n",
            "  warnings.warn(\"PySoundFile failed. Trying audioread instead.\")\n",
            "/usr/local/lib/python3.7/dist-packages/librosa/core/audio.py:162: UserWarning: PySoundFile failed. Trying audioread instead.\n",
            "  warnings.warn(\"PySoundFile failed. Trying audioread instead.\")\n",
            "/usr/local/lib/python3.7/dist-packages/librosa/core/audio.py:162: UserWarning: PySoundFile failed. Trying audioread instead.\n",
            "  warnings.warn(\"PySoundFile failed. Trying audioread instead.\")\n",
            "/usr/local/lib/python3.7/dist-packages/librosa/core/audio.py:162: UserWarning: PySoundFile failed. Trying audioread instead.\n",
            "  warnings.warn(\"PySoundFile failed. Trying audioread instead.\")\n",
            "/usr/local/lib/python3.7/dist-packages/librosa/core/audio.py:162: UserWarning: PySoundFile failed. Trying audioread instead.\n",
            "  warnings.warn(\"PySoundFile failed. Trying audioread instead.\")\n",
            "/usr/local/lib/python3.7/dist-packages/librosa/core/audio.py:162: UserWarning: PySoundFile failed. Trying audioread instead.\n",
            "  warnings.warn(\"PySoundFile failed. Trying audioread instead.\")\n",
            "/usr/local/lib/python3.7/dist-packages/librosa/core/audio.py:162: UserWarning: PySoundFile failed. Trying audioread instead.\n",
            "  warnings.warn(\"PySoundFile failed. Trying audioread instead.\")\n",
            "/usr/local/lib/python3.7/dist-packages/librosa/core/audio.py:162: UserWarning: PySoundFile failed. Trying audioread instead.\n",
            "  warnings.warn(\"PySoundFile failed. Trying audioread instead.\")\n",
            "/usr/local/lib/python3.7/dist-packages/librosa/core/audio.py:162: UserWarning: PySoundFile failed. Trying audioread instead.\n",
            "  warnings.warn(\"PySoundFile failed. Trying audioread instead.\")\n",
            "/usr/local/lib/python3.7/dist-packages/librosa/core/audio.py:162: UserWarning: PySoundFile failed. Trying audioread instead.\n",
            "  warnings.warn(\"PySoundFile failed. Trying audioread instead.\")\n",
            "/usr/local/lib/python3.7/dist-packages/librosa/core/audio.py:162: UserWarning: PySoundFile failed. Trying audioread instead.\n",
            "  warnings.warn(\"PySoundFile failed. Trying audioread instead.\")\n",
            "/usr/local/lib/python3.7/dist-packages/librosa/core/audio.py:162: UserWarning: PySoundFile failed. Trying audioread instead.\n",
            "  warnings.warn(\"PySoundFile failed. Trying audioread instead.\")\n",
            "/usr/local/lib/python3.7/dist-packages/librosa/core/audio.py:162: UserWarning: PySoundFile failed. Trying audioread instead.\n",
            "  warnings.warn(\"PySoundFile failed. Trying audioread instead.\")\n",
            "/usr/local/lib/python3.7/dist-packages/librosa/core/audio.py:162: UserWarning: PySoundFile failed. Trying audioread instead.\n",
            "  warnings.warn(\"PySoundFile failed. Trying audioread instead.\")\n",
            "/usr/local/lib/python3.7/dist-packages/librosa/core/audio.py:162: UserWarning: PySoundFile failed. Trying audioread instead.\n",
            "  warnings.warn(\"PySoundFile failed. Trying audioread instead.\")\n",
            "/usr/local/lib/python3.7/dist-packages/librosa/core/audio.py:162: UserWarning: PySoundFile failed. Trying audioread instead.\n",
            "  warnings.warn(\"PySoundFile failed. Trying audioread instead.\")\n",
            "/usr/local/lib/python3.7/dist-packages/librosa/core/audio.py:162: UserWarning: PySoundFile failed. Trying audioread instead.\n",
            "  warnings.warn(\"PySoundFile failed. Trying audioread instead.\")\n",
            "/usr/local/lib/python3.7/dist-packages/librosa/core/audio.py:162: UserWarning: PySoundFile failed. Trying audioread instead.\n",
            "  warnings.warn(\"PySoundFile failed. Trying audioread instead.\")\n",
            "/usr/local/lib/python3.7/dist-packages/librosa/core/audio.py:162: UserWarning: PySoundFile failed. Trying audioread instead.\n",
            "  warnings.warn(\"PySoundFile failed. Trying audioread instead.\")\n",
            "/usr/local/lib/python3.7/dist-packages/librosa/core/audio.py:162: UserWarning: PySoundFile failed. Trying audioread instead.\n",
            "  warnings.warn(\"PySoundFile failed. Trying audioread instead.\")\n",
            "/usr/local/lib/python3.7/dist-packages/librosa/core/audio.py:162: UserWarning: PySoundFile failed. Trying audioread instead.\n",
            "  warnings.warn(\"PySoundFile failed. Trying audioread instead.\")\n",
            "/usr/local/lib/python3.7/dist-packages/librosa/core/audio.py:162: UserWarning: PySoundFile failed. Trying audioread instead.\n",
            "  warnings.warn(\"PySoundFile failed. Trying audioread instead.\")\n",
            "/usr/local/lib/python3.7/dist-packages/librosa/core/audio.py:162: UserWarning: PySoundFile failed. Trying audioread instead.\n",
            "  warnings.warn(\"PySoundFile failed. Trying audioread instead.\")\n",
            "/usr/local/lib/python3.7/dist-packages/librosa/core/audio.py:162: UserWarning: PySoundFile failed. Trying audioread instead.\n",
            "  warnings.warn(\"PySoundFile failed. Trying audioread instead.\")\n",
            "/usr/local/lib/python3.7/dist-packages/librosa/core/audio.py:162: UserWarning: PySoundFile failed. Trying audioread instead.\n",
            "  warnings.warn(\"PySoundFile failed. Trying audioread instead.\")\n",
            "/usr/local/lib/python3.7/dist-packages/librosa/core/audio.py:162: UserWarning: PySoundFile failed. Trying audioread instead.\n",
            "  warnings.warn(\"PySoundFile failed. Trying audioread instead.\")\n",
            "/usr/local/lib/python3.7/dist-packages/librosa/core/audio.py:162: UserWarning: PySoundFile failed. Trying audioread instead.\n",
            "  warnings.warn(\"PySoundFile failed. Trying audioread instead.\")\n",
            "/usr/local/lib/python3.7/dist-packages/librosa/core/audio.py:162: UserWarning: PySoundFile failed. Trying audioread instead.\n",
            "  warnings.warn(\"PySoundFile failed. Trying audioread instead.\")\n",
            "/usr/local/lib/python3.7/dist-packages/librosa/core/audio.py:162: UserWarning: PySoundFile failed. Trying audioread instead.\n",
            "  warnings.warn(\"PySoundFile failed. Trying audioread instead.\")\n",
            "/usr/local/lib/python3.7/dist-packages/librosa/core/audio.py:162: UserWarning: PySoundFile failed. Trying audioread instead.\n",
            "  warnings.warn(\"PySoundFile failed. Trying audioread instead.\")\n",
            "/usr/local/lib/python3.7/dist-packages/librosa/core/audio.py:162: UserWarning: PySoundFile failed. Trying audioread instead.\n",
            "  warnings.warn(\"PySoundFile failed. Trying audioread instead.\")\n",
            "/usr/local/lib/python3.7/dist-packages/librosa/core/audio.py:162: UserWarning: PySoundFile failed. Trying audioread instead.\n",
            "  warnings.warn(\"PySoundFile failed. Trying audioread instead.\")\n",
            "/usr/local/lib/python3.7/dist-packages/librosa/core/audio.py:162: UserWarning: PySoundFile failed. Trying audioread instead.\n",
            "  warnings.warn(\"PySoundFile failed. Trying audioread instead.\")\n",
            "/usr/local/lib/python3.7/dist-packages/librosa/core/audio.py:162: UserWarning: PySoundFile failed. Trying audioread instead.\n",
            "  warnings.warn(\"PySoundFile failed. Trying audioread instead.\")\n",
            "/usr/local/lib/python3.7/dist-packages/librosa/core/audio.py:162: UserWarning: PySoundFile failed. Trying audioread instead.\n",
            "  warnings.warn(\"PySoundFile failed. Trying audioread instead.\")\n",
            "/usr/local/lib/python3.7/dist-packages/librosa/core/audio.py:162: UserWarning: PySoundFile failed. Trying audioread instead.\n",
            "  warnings.warn(\"PySoundFile failed. Trying audioread instead.\")\n",
            "/usr/local/lib/python3.7/dist-packages/librosa/core/audio.py:162: UserWarning: PySoundFile failed. Trying audioread instead.\n",
            "  warnings.warn(\"PySoundFile failed. Trying audioread instead.\")\n",
            "/usr/local/lib/python3.7/dist-packages/librosa/core/audio.py:162: UserWarning: PySoundFile failed. Trying audioread instead.\n",
            "  warnings.warn(\"PySoundFile failed. Trying audioread instead.\")\n",
            "/usr/local/lib/python3.7/dist-packages/librosa/core/audio.py:162: UserWarning: PySoundFile failed. Trying audioread instead.\n",
            "  warnings.warn(\"PySoundFile failed. Trying audioread instead.\")\n",
            "/usr/local/lib/python3.7/dist-packages/librosa/core/audio.py:162: UserWarning: PySoundFile failed. Trying audioread instead.\n",
            "  warnings.warn(\"PySoundFile failed. Trying audioread instead.\")\n",
            "/usr/local/lib/python3.7/dist-packages/librosa/core/audio.py:162: UserWarning: PySoundFile failed. Trying audioread instead.\n",
            "  warnings.warn(\"PySoundFile failed. Trying audioread instead.\")\n",
            "/usr/local/lib/python3.7/dist-packages/librosa/core/audio.py:162: UserWarning: PySoundFile failed. Trying audioread instead.\n",
            "  warnings.warn(\"PySoundFile failed. Trying audioread instead.\")\n",
            "/usr/local/lib/python3.7/dist-packages/librosa/core/audio.py:162: UserWarning: PySoundFile failed. Trying audioread instead.\n",
            "  warnings.warn(\"PySoundFile failed. Trying audioread instead.\")\n",
            "/usr/local/lib/python3.7/dist-packages/librosa/core/audio.py:162: UserWarning: PySoundFile failed. Trying audioread instead.\n",
            "  warnings.warn(\"PySoundFile failed. Trying audioread instead.\")\n",
            "/usr/local/lib/python3.7/dist-packages/librosa/core/audio.py:162: UserWarning: PySoundFile failed. Trying audioread instead.\n",
            "  warnings.warn(\"PySoundFile failed. Trying audioread instead.\")\n",
            "/usr/local/lib/python3.7/dist-packages/librosa/core/audio.py:162: UserWarning: PySoundFile failed. Trying audioread instead.\n",
            "  warnings.warn(\"PySoundFile failed. Trying audioread instead.\")\n",
            "/usr/local/lib/python3.7/dist-packages/librosa/core/audio.py:162: UserWarning: PySoundFile failed. Trying audioread instead.\n",
            "  warnings.warn(\"PySoundFile failed. Trying audioread instead.\")\n",
            "/usr/local/lib/python3.7/dist-packages/librosa/core/audio.py:162: UserWarning: PySoundFile failed. Trying audioread instead.\n",
            "  warnings.warn(\"PySoundFile failed. Trying audioread instead.\")\n",
            "/usr/local/lib/python3.7/dist-packages/librosa/core/audio.py:162: UserWarning: PySoundFile failed. Trying audioread instead.\n",
            "  warnings.warn(\"PySoundFile failed. Trying audioread instead.\")\n",
            "/usr/local/lib/python3.7/dist-packages/librosa/core/audio.py:162: UserWarning: PySoundFile failed. Trying audioread instead.\n",
            "  warnings.warn(\"PySoundFile failed. Trying audioread instead.\")\n",
            "/usr/local/lib/python3.7/dist-packages/librosa/core/audio.py:162: UserWarning: PySoundFile failed. Trying audioread instead.\n",
            "  warnings.warn(\"PySoundFile failed. Trying audioread instead.\")\n",
            "/usr/local/lib/python3.7/dist-packages/librosa/core/audio.py:162: UserWarning: PySoundFile failed. Trying audioread instead.\n",
            "  warnings.warn(\"PySoundFile failed. Trying audioread instead.\")\n",
            "/usr/local/lib/python3.7/dist-packages/librosa/core/audio.py:162: UserWarning: PySoundFile failed. Trying audioread instead.\n",
            "  warnings.warn(\"PySoundFile failed. Trying audioread instead.\")\n",
            "/usr/local/lib/python3.7/dist-packages/librosa/core/audio.py:162: UserWarning: PySoundFile failed. Trying audioread instead.\n",
            "  warnings.warn(\"PySoundFile failed. Trying audioread instead.\")\n",
            "/usr/local/lib/python3.7/dist-packages/librosa/core/audio.py:162: UserWarning: PySoundFile failed. Trying audioread instead.\n",
            "  warnings.warn(\"PySoundFile failed. Trying audioread instead.\")\n",
            "/usr/local/lib/python3.7/dist-packages/librosa/core/audio.py:162: UserWarning: PySoundFile failed. Trying audioread instead.\n",
            "  warnings.warn(\"PySoundFile failed. Trying audioread instead.\")\n",
            "/usr/local/lib/python3.7/dist-packages/librosa/core/audio.py:162: UserWarning: PySoundFile failed. Trying audioread instead.\n",
            "  warnings.warn(\"PySoundFile failed. Trying audioread instead.\")\n",
            "/usr/local/lib/python3.7/dist-packages/librosa/core/audio.py:162: UserWarning: PySoundFile failed. Trying audioread instead.\n",
            "  warnings.warn(\"PySoundFile failed. Trying audioread instead.\")\n",
            "/usr/local/lib/python3.7/dist-packages/librosa/core/audio.py:162: UserWarning: PySoundFile failed. Trying audioread instead.\n",
            "  warnings.warn(\"PySoundFile failed. Trying audioread instead.\")\n",
            "/usr/local/lib/python3.7/dist-packages/librosa/core/audio.py:162: UserWarning: PySoundFile failed. Trying audioread instead.\n",
            "  warnings.warn(\"PySoundFile failed. Trying audioread instead.\")\n",
            "/usr/local/lib/python3.7/dist-packages/librosa/core/audio.py:162: UserWarning: PySoundFile failed. Trying audioread instead.\n",
            "  warnings.warn(\"PySoundFile failed. Trying audioread instead.\")\n",
            "/usr/local/lib/python3.7/dist-packages/librosa/core/audio.py:162: UserWarning: PySoundFile failed. Trying audioread instead.\n",
            "  warnings.warn(\"PySoundFile failed. Trying audioread instead.\")\n",
            "/usr/local/lib/python3.7/dist-packages/librosa/core/audio.py:162: UserWarning: PySoundFile failed. Trying audioread instead.\n",
            "  warnings.warn(\"PySoundFile failed. Trying audioread instead.\")\n",
            "/usr/local/lib/python3.7/dist-packages/librosa/core/audio.py:162: UserWarning: PySoundFile failed. Trying audioread instead.\n",
            "  warnings.warn(\"PySoundFile failed. Trying audioread instead.\")\n",
            "/usr/local/lib/python3.7/dist-packages/librosa/core/audio.py:162: UserWarning: PySoundFile failed. Trying audioread instead.\n",
            "  warnings.warn(\"PySoundFile failed. Trying audioread instead.\")\n",
            "/usr/local/lib/python3.7/dist-packages/librosa/core/audio.py:162: UserWarning: PySoundFile failed. Trying audioread instead.\n",
            "  warnings.warn(\"PySoundFile failed. Trying audioread instead.\")\n",
            "/usr/local/lib/python3.7/dist-packages/librosa/core/audio.py:162: UserWarning: PySoundFile failed. Trying audioread instead.\n",
            "  warnings.warn(\"PySoundFile failed. Trying audioread instead.\")\n",
            "/usr/local/lib/python3.7/dist-packages/librosa/core/audio.py:162: UserWarning: PySoundFile failed. Trying audioread instead.\n",
            "  warnings.warn(\"PySoundFile failed. Trying audioread instead.\")\n",
            "/usr/local/lib/python3.7/dist-packages/librosa/core/audio.py:162: UserWarning: PySoundFile failed. Trying audioread instead.\n",
            "  warnings.warn(\"PySoundFile failed. Trying audioread instead.\")\n",
            "/usr/local/lib/python3.7/dist-packages/librosa/core/audio.py:162: UserWarning: PySoundFile failed. Trying audioread instead.\n",
            "  warnings.warn(\"PySoundFile failed. Trying audioread instead.\")\n",
            "/usr/local/lib/python3.7/dist-packages/librosa/core/audio.py:162: UserWarning: PySoundFile failed. Trying audioread instead.\n",
            "  warnings.warn(\"PySoundFile failed. Trying audioread instead.\")\n",
            "/usr/local/lib/python3.7/dist-packages/librosa/core/audio.py:162: UserWarning: PySoundFile failed. Trying audioread instead.\n",
            "  warnings.warn(\"PySoundFile failed. Trying audioread instead.\")\n",
            "/usr/local/lib/python3.7/dist-packages/librosa/core/audio.py:162: UserWarning: PySoundFile failed. Trying audioread instead.\n",
            "  warnings.warn(\"PySoundFile failed. Trying audioread instead.\")\n",
            "/usr/local/lib/python3.7/dist-packages/librosa/core/audio.py:162: UserWarning: PySoundFile failed. Trying audioread instead.\n",
            "  warnings.warn(\"PySoundFile failed. Trying audioread instead.\")\n",
            "/usr/local/lib/python3.7/dist-packages/librosa/core/audio.py:162: UserWarning: PySoundFile failed. Trying audioread instead.\n",
            "  warnings.warn(\"PySoundFile failed. Trying audioread instead.\")\n",
            "/usr/local/lib/python3.7/dist-packages/librosa/core/audio.py:162: UserWarning: PySoundFile failed. Trying audioread instead.\n",
            "  warnings.warn(\"PySoundFile failed. Trying audioread instead.\")\n",
            "/usr/local/lib/python3.7/dist-packages/librosa/core/audio.py:162: UserWarning: PySoundFile failed. Trying audioread instead.\n",
            "  warnings.warn(\"PySoundFile failed. Trying audioread instead.\")\n",
            "/usr/local/lib/python3.7/dist-packages/librosa/core/audio.py:162: UserWarning: PySoundFile failed. Trying audioread instead.\n",
            "  warnings.warn(\"PySoundFile failed. Trying audioread instead.\")\n",
            "/usr/local/lib/python3.7/dist-packages/librosa/core/audio.py:162: UserWarning: PySoundFile failed. Trying audioread instead.\n",
            "  warnings.warn(\"PySoundFile failed. Trying audioread instead.\")\n",
            "/usr/local/lib/python3.7/dist-packages/librosa/core/audio.py:162: UserWarning: PySoundFile failed. Trying audioread instead.\n",
            "  warnings.warn(\"PySoundFile failed. Trying audioread instead.\")\n",
            "/usr/local/lib/python3.7/dist-packages/librosa/core/audio.py:162: UserWarning: PySoundFile failed. Trying audioread instead.\n",
            "  warnings.warn(\"PySoundFile failed. Trying audioread instead.\")\n",
            "/usr/local/lib/python3.7/dist-packages/librosa/core/audio.py:162: UserWarning: PySoundFile failed. Trying audioread instead.\n",
            "  warnings.warn(\"PySoundFile failed. Trying audioread instead.\")\n",
            "/usr/local/lib/python3.7/dist-packages/librosa/core/audio.py:162: UserWarning: PySoundFile failed. Trying audioread instead.\n",
            "  warnings.warn(\"PySoundFile failed. Trying audioread instead.\")\n",
            "/usr/local/lib/python3.7/dist-packages/librosa/core/audio.py:162: UserWarning: PySoundFile failed. Trying audioread instead.\n",
            "  warnings.warn(\"PySoundFile failed. Trying audioread instead.\")\n",
            "/usr/local/lib/python3.7/dist-packages/librosa/core/audio.py:162: UserWarning: PySoundFile failed. Trying audioread instead.\n",
            "  warnings.warn(\"PySoundFile failed. Trying audioread instead.\")\n",
            "/usr/local/lib/python3.7/dist-packages/librosa/core/audio.py:162: UserWarning: PySoundFile failed. Trying audioread instead.\n",
            "  warnings.warn(\"PySoundFile failed. Trying audioread instead.\")\n",
            "/usr/local/lib/python3.7/dist-packages/librosa/core/audio.py:162: UserWarning: PySoundFile failed. Trying audioread instead.\n",
            "  warnings.warn(\"PySoundFile failed. Trying audioread instead.\")\n",
            "/usr/local/lib/python3.7/dist-packages/librosa/core/audio.py:162: UserWarning: PySoundFile failed. Trying audioread instead.\n",
            "  warnings.warn(\"PySoundFile failed. Trying audioread instead.\")\n",
            "/usr/local/lib/python3.7/dist-packages/librosa/core/audio.py:162: UserWarning: PySoundFile failed. Trying audioread instead.\n",
            "  warnings.warn(\"PySoundFile failed. Trying audioread instead.\")\n",
            "/usr/local/lib/python3.7/dist-packages/librosa/core/audio.py:162: UserWarning: PySoundFile failed. Trying audioread instead.\n",
            "  warnings.warn(\"PySoundFile failed. Trying audioread instead.\")\n",
            "/usr/local/lib/python3.7/dist-packages/librosa/core/audio.py:162: UserWarning: PySoundFile failed. Trying audioread instead.\n",
            "  warnings.warn(\"PySoundFile failed. Trying audioread instead.\")\n",
            "/usr/local/lib/python3.7/dist-packages/librosa/core/audio.py:162: UserWarning: PySoundFile failed. Trying audioread instead.\n",
            "  warnings.warn(\"PySoundFile failed. Trying audioread instead.\")\n",
            "/usr/local/lib/python3.7/dist-packages/librosa/core/audio.py:162: UserWarning: PySoundFile failed. Trying audioread instead.\n",
            "  warnings.warn(\"PySoundFile failed. Trying audioread instead.\")\n",
            "/usr/local/lib/python3.7/dist-packages/librosa/core/audio.py:162: UserWarning: PySoundFile failed. Trying audioread instead.\n",
            "  warnings.warn(\"PySoundFile failed. Trying audioread instead.\")\n",
            "/usr/local/lib/python3.7/dist-packages/librosa/core/audio.py:162: UserWarning: PySoundFile failed. Trying audioread instead.\n",
            "  warnings.warn(\"PySoundFile failed. Trying audioread instead.\")\n",
            "/usr/local/lib/python3.7/dist-packages/librosa/core/audio.py:162: UserWarning: PySoundFile failed. Trying audioread instead.\n",
            "  warnings.warn(\"PySoundFile failed. Trying audioread instead.\")\n",
            "/usr/local/lib/python3.7/dist-packages/librosa/core/audio.py:162: UserWarning: PySoundFile failed. Trying audioread instead.\n",
            "  warnings.warn(\"PySoundFile failed. Trying audioread instead.\")\n",
            "/usr/local/lib/python3.7/dist-packages/librosa/core/audio.py:162: UserWarning: PySoundFile failed. Trying audioread instead.\n",
            "  warnings.warn(\"PySoundFile failed. Trying audioread instead.\")\n",
            "/usr/local/lib/python3.7/dist-packages/librosa/core/audio.py:162: UserWarning: PySoundFile failed. Trying audioread instead.\n",
            "  warnings.warn(\"PySoundFile failed. Trying audioread instead.\")\n",
            "/usr/local/lib/python3.7/dist-packages/librosa/core/audio.py:162: UserWarning: PySoundFile failed. Trying audioread instead.\n",
            "  warnings.warn(\"PySoundFile failed. Trying audioread instead.\")\n",
            "/usr/local/lib/python3.7/dist-packages/librosa/core/audio.py:162: UserWarning: PySoundFile failed. Trying audioread instead.\n",
            "  warnings.warn(\"PySoundFile failed. Trying audioread instead.\")\n",
            "/usr/local/lib/python3.7/dist-packages/librosa/core/audio.py:162: UserWarning: PySoundFile failed. Trying audioread instead.\n",
            "  warnings.warn(\"PySoundFile failed. Trying audioread instead.\")\n",
            "/usr/local/lib/python3.7/dist-packages/librosa/core/audio.py:162: UserWarning: PySoundFile failed. Trying audioread instead.\n",
            "  warnings.warn(\"PySoundFile failed. Trying audioread instead.\")\n",
            "/usr/local/lib/python3.7/dist-packages/librosa/core/audio.py:162: UserWarning: PySoundFile failed. Trying audioread instead.\n",
            "  warnings.warn(\"PySoundFile failed. Trying audioread instead.\")\n",
            "/usr/local/lib/python3.7/dist-packages/librosa/core/audio.py:162: UserWarning: PySoundFile failed. Trying audioread instead.\n",
            "  warnings.warn(\"PySoundFile failed. Trying audioread instead.\")\n",
            "/usr/local/lib/python3.7/dist-packages/librosa/core/audio.py:162: UserWarning: PySoundFile failed. Trying audioread instead.\n",
            "  warnings.warn(\"PySoundFile failed. Trying audioread instead.\")\n",
            "/usr/local/lib/python3.7/dist-packages/librosa/core/audio.py:162: UserWarning: PySoundFile failed. Trying audioread instead.\n",
            "  warnings.warn(\"PySoundFile failed. Trying audioread instead.\")\n",
            "/usr/local/lib/python3.7/dist-packages/librosa/core/audio.py:162: UserWarning: PySoundFile failed. Trying audioread instead.\n",
            "  warnings.warn(\"PySoundFile failed. Trying audioread instead.\")\n",
            "/usr/local/lib/python3.7/dist-packages/librosa/core/audio.py:162: UserWarning: PySoundFile failed. Trying audioread instead.\n",
            "  warnings.warn(\"PySoundFile failed. Trying audioread instead.\")\n",
            "/usr/local/lib/python3.7/dist-packages/librosa/core/audio.py:162: UserWarning: PySoundFile failed. Trying audioread instead.\n",
            "  warnings.warn(\"PySoundFile failed. Trying audioread instead.\")\n",
            "/usr/local/lib/python3.7/dist-packages/librosa/core/audio.py:162: UserWarning: PySoundFile failed. Trying audioread instead.\n",
            "  warnings.warn(\"PySoundFile failed. Trying audioread instead.\")\n",
            "/usr/local/lib/python3.7/dist-packages/librosa/core/audio.py:162: UserWarning: PySoundFile failed. Trying audioread instead.\n",
            "  warnings.warn(\"PySoundFile failed. Trying audioread instead.\")\n",
            "/usr/local/lib/python3.7/dist-packages/librosa/core/audio.py:162: UserWarning: PySoundFile failed. Trying audioread instead.\n",
            "  warnings.warn(\"PySoundFile failed. Trying audioread instead.\")\n",
            "/usr/local/lib/python3.7/dist-packages/librosa/core/audio.py:162: UserWarning: PySoundFile failed. Trying audioread instead.\n",
            "  warnings.warn(\"PySoundFile failed. Trying audioread instead.\")\n",
            "/usr/local/lib/python3.7/dist-packages/librosa/core/audio.py:162: UserWarning: PySoundFile failed. Trying audioread instead.\n",
            "  warnings.warn(\"PySoundFile failed. Trying audioread instead.\")\n",
            "/usr/local/lib/python3.7/dist-packages/librosa/core/audio.py:162: UserWarning: PySoundFile failed. Trying audioread instead.\n",
            "  warnings.warn(\"PySoundFile failed. Trying audioread instead.\")\n",
            "/usr/local/lib/python3.7/dist-packages/librosa/core/audio.py:162: UserWarning: PySoundFile failed. Trying audioread instead.\n",
            "  warnings.warn(\"PySoundFile failed. Trying audioread instead.\")\n",
            "/usr/local/lib/python3.7/dist-packages/librosa/core/audio.py:162: UserWarning: PySoundFile failed. Trying audioread instead.\n",
            "  warnings.warn(\"PySoundFile failed. Trying audioread instead.\")\n",
            "/usr/local/lib/python3.7/dist-packages/librosa/core/audio.py:162: UserWarning: PySoundFile failed. Trying audioread instead.\n",
            "  warnings.warn(\"PySoundFile failed. Trying audioread instead.\")\n",
            "/usr/local/lib/python3.7/dist-packages/librosa/core/audio.py:162: UserWarning: PySoundFile failed. Trying audioread instead.\n",
            "  warnings.warn(\"PySoundFile failed. Trying audioread instead.\")\n",
            "/usr/local/lib/python3.7/dist-packages/librosa/core/audio.py:162: UserWarning: PySoundFile failed. Trying audioread instead.\n",
            "  warnings.warn(\"PySoundFile failed. Trying audioread instead.\")\n",
            "/usr/local/lib/python3.7/dist-packages/librosa/core/audio.py:162: UserWarning: PySoundFile failed. Trying audioread instead.\n",
            "  warnings.warn(\"PySoundFile failed. Trying audioread instead.\")\n",
            "/usr/local/lib/python3.7/dist-packages/librosa/core/audio.py:162: UserWarning: PySoundFile failed. Trying audioread instead.\n",
            "  warnings.warn(\"PySoundFile failed. Trying audioread instead.\")\n",
            "/usr/local/lib/python3.7/dist-packages/librosa/core/audio.py:162: UserWarning: PySoundFile failed. Trying audioread instead.\n",
            "  warnings.warn(\"PySoundFile failed. Trying audioread instead.\")\n",
            "/usr/local/lib/python3.7/dist-packages/librosa/core/audio.py:162: UserWarning: PySoundFile failed. Trying audioread instead.\n",
            "  warnings.warn(\"PySoundFile failed. Trying audioread instead.\")\n",
            "/usr/local/lib/python3.7/dist-packages/librosa/core/audio.py:162: UserWarning: PySoundFile failed. Trying audioread instead.\n",
            "  warnings.warn(\"PySoundFile failed. Trying audioread instead.\")\n",
            "/usr/local/lib/python3.7/dist-packages/librosa/core/audio.py:162: UserWarning: PySoundFile failed. Trying audioread instead.\n",
            "  warnings.warn(\"PySoundFile failed. Trying audioread instead.\")\n",
            "/usr/local/lib/python3.7/dist-packages/librosa/core/audio.py:162: UserWarning: PySoundFile failed. Trying audioread instead.\n",
            "  warnings.warn(\"PySoundFile failed. Trying audioread instead.\")\n",
            "/usr/local/lib/python3.7/dist-packages/librosa/core/audio.py:162: UserWarning: PySoundFile failed. Trying audioread instead.\n",
            "  warnings.warn(\"PySoundFile failed. Trying audioread instead.\")\n",
            "/usr/local/lib/python3.7/dist-packages/librosa/core/audio.py:162: UserWarning: PySoundFile failed. Trying audioread instead.\n",
            "  warnings.warn(\"PySoundFile failed. Trying audioread instead.\")\n",
            "/usr/local/lib/python3.7/dist-packages/librosa/core/audio.py:162: UserWarning: PySoundFile failed. Trying audioread instead.\n",
            "  warnings.warn(\"PySoundFile failed. Trying audioread instead.\")\n",
            "/usr/local/lib/python3.7/dist-packages/librosa/core/audio.py:162: UserWarning: PySoundFile failed. Trying audioread instead.\n",
            "  warnings.warn(\"PySoundFile failed. Trying audioread instead.\")\n",
            "/usr/local/lib/python3.7/dist-packages/librosa/core/audio.py:162: UserWarning: PySoundFile failed. Trying audioread instead.\n",
            "  warnings.warn(\"PySoundFile failed. Trying audioread instead.\")\n",
            "/usr/local/lib/python3.7/dist-packages/librosa/core/audio.py:162: UserWarning: PySoundFile failed. Trying audioread instead.\n",
            "  warnings.warn(\"PySoundFile failed. Trying audioread instead.\")\n",
            "/usr/local/lib/python3.7/dist-packages/librosa/core/audio.py:162: UserWarning: PySoundFile failed. Trying audioread instead.\n",
            "  warnings.warn(\"PySoundFile failed. Trying audioread instead.\")\n",
            "/usr/local/lib/python3.7/dist-packages/librosa/core/audio.py:162: UserWarning: PySoundFile failed. Trying audioread instead.\n",
            "  warnings.warn(\"PySoundFile failed. Trying audioread instead.\")\n",
            "/usr/local/lib/python3.7/dist-packages/librosa/core/audio.py:162: UserWarning: PySoundFile failed. Trying audioread instead.\n",
            "  warnings.warn(\"PySoundFile failed. Trying audioread instead.\")\n",
            "/usr/local/lib/python3.7/dist-packages/librosa/core/audio.py:162: UserWarning: PySoundFile failed. Trying audioread instead.\n",
            "  warnings.warn(\"PySoundFile failed. Trying audioread instead.\")\n",
            "/usr/local/lib/python3.7/dist-packages/librosa/core/audio.py:162: UserWarning: PySoundFile failed. Trying audioread instead.\n",
            "  warnings.warn(\"PySoundFile failed. Trying audioread instead.\")\n",
            "/usr/local/lib/python3.7/dist-packages/librosa/core/audio.py:162: UserWarning: PySoundFile failed. Trying audioread instead.\n",
            "  warnings.warn(\"PySoundFile failed. Trying audioread instead.\")\n",
            "/usr/local/lib/python3.7/dist-packages/librosa/core/audio.py:162: UserWarning: PySoundFile failed. Trying audioread instead.\n",
            "  warnings.warn(\"PySoundFile failed. Trying audioread instead.\")\n",
            "/usr/local/lib/python3.7/dist-packages/librosa/core/audio.py:162: UserWarning: PySoundFile failed. Trying audioread instead.\n",
            "  warnings.warn(\"PySoundFile failed. Trying audioread instead.\")\n",
            "/usr/local/lib/python3.7/dist-packages/librosa/core/audio.py:162: UserWarning: PySoundFile failed. Trying audioread instead.\n",
            "  warnings.warn(\"PySoundFile failed. Trying audioread instead.\")\n",
            "/usr/local/lib/python3.7/dist-packages/librosa/core/audio.py:162: UserWarning: PySoundFile failed. Trying audioread instead.\n",
            "  warnings.warn(\"PySoundFile failed. Trying audioread instead.\")\n",
            "/usr/local/lib/python3.7/dist-packages/librosa/core/audio.py:162: UserWarning: PySoundFile failed. Trying audioread instead.\n",
            "  warnings.warn(\"PySoundFile failed. Trying audioread instead.\")\n",
            "/usr/local/lib/python3.7/dist-packages/librosa/core/audio.py:162: UserWarning: PySoundFile failed. Trying audioread instead.\n",
            "  warnings.warn(\"PySoundFile failed. Trying audioread instead.\")\n",
            "/usr/local/lib/python3.7/dist-packages/librosa/core/audio.py:162: UserWarning: PySoundFile failed. Trying audioread instead.\n",
            "  warnings.warn(\"PySoundFile failed. Trying audioread instead.\")\n",
            "/usr/local/lib/python3.7/dist-packages/librosa/core/audio.py:162: UserWarning: PySoundFile failed. Trying audioread instead.\n",
            "  warnings.warn(\"PySoundFile failed. Trying audioread instead.\")\n",
            "/usr/local/lib/python3.7/dist-packages/librosa/core/audio.py:162: UserWarning: PySoundFile failed. Trying audioread instead.\n",
            "  warnings.warn(\"PySoundFile failed. Trying audioread instead.\")\n",
            "/usr/local/lib/python3.7/dist-packages/librosa/core/audio.py:162: UserWarning: PySoundFile failed. Trying audioread instead.\n",
            "  warnings.warn(\"PySoundFile failed. Trying audioread instead.\")\n",
            "/usr/local/lib/python3.7/dist-packages/librosa/core/audio.py:162: UserWarning: PySoundFile failed. Trying audioread instead.\n",
            "  warnings.warn(\"PySoundFile failed. Trying audioread instead.\")\n",
            "/usr/local/lib/python3.7/dist-packages/librosa/core/audio.py:162: UserWarning: PySoundFile failed. Trying audioread instead.\n",
            "  warnings.warn(\"PySoundFile failed. Trying audioread instead.\")\n",
            "/usr/local/lib/python3.7/dist-packages/librosa/core/audio.py:162: UserWarning: PySoundFile failed. Trying audioread instead.\n",
            "  warnings.warn(\"PySoundFile failed. Trying audioread instead.\")\n",
            "/usr/local/lib/python3.7/dist-packages/librosa/core/audio.py:162: UserWarning: PySoundFile failed. Trying audioread instead.\n",
            "  warnings.warn(\"PySoundFile failed. Trying audioread instead.\")\n",
            "/usr/local/lib/python3.7/dist-packages/librosa/core/audio.py:162: UserWarning: PySoundFile failed. Trying audioread instead.\n",
            "  warnings.warn(\"PySoundFile failed. Trying audioread instead.\")\n",
            "/usr/local/lib/python3.7/dist-packages/librosa/core/audio.py:162: UserWarning: PySoundFile failed. Trying audioread instead.\n",
            "  warnings.warn(\"PySoundFile failed. Trying audioread instead.\")\n",
            "/usr/local/lib/python3.7/dist-packages/librosa/core/audio.py:162: UserWarning: PySoundFile failed. Trying audioread instead.\n",
            "  warnings.warn(\"PySoundFile failed. Trying audioread instead.\")\n",
            "/usr/local/lib/python3.7/dist-packages/librosa/core/audio.py:162: UserWarning: PySoundFile failed. Trying audioread instead.\n",
            "  warnings.warn(\"PySoundFile failed. Trying audioread instead.\")\n",
            "/usr/local/lib/python3.7/dist-packages/librosa/core/audio.py:162: UserWarning: PySoundFile failed. Trying audioread instead.\n",
            "  warnings.warn(\"PySoundFile failed. Trying audioread instead.\")\n",
            "/usr/local/lib/python3.7/dist-packages/librosa/core/audio.py:162: UserWarning: PySoundFile failed. Trying audioread instead.\n",
            "  warnings.warn(\"PySoundFile failed. Trying audioread instead.\")\n",
            "/usr/local/lib/python3.7/dist-packages/librosa/core/audio.py:162: UserWarning: PySoundFile failed. Trying audioread instead.\n",
            "  warnings.warn(\"PySoundFile failed. Trying audioread instead.\")\n",
            "/usr/local/lib/python3.7/dist-packages/librosa/core/audio.py:162: UserWarning: PySoundFile failed. Trying audioread instead.\n",
            "  warnings.warn(\"PySoundFile failed. Trying audioread instead.\")\n",
            "/usr/local/lib/python3.7/dist-packages/librosa/core/audio.py:162: UserWarning: PySoundFile failed. Trying audioread instead.\n",
            "  warnings.warn(\"PySoundFile failed. Trying audioread instead.\")\n",
            "/usr/local/lib/python3.7/dist-packages/librosa/core/audio.py:162: UserWarning: PySoundFile failed. Trying audioread instead.\n",
            "  warnings.warn(\"PySoundFile failed. Trying audioread instead.\")\n",
            "/usr/local/lib/python3.7/dist-packages/librosa/core/audio.py:162: UserWarning: PySoundFile failed. Trying audioread instead.\n",
            "  warnings.warn(\"PySoundFile failed. Trying audioread instead.\")\n",
            "/usr/local/lib/python3.7/dist-packages/librosa/core/audio.py:162: UserWarning: PySoundFile failed. Trying audioread instead.\n",
            "  warnings.warn(\"PySoundFile failed. Trying audioread instead.\")\n",
            "/usr/local/lib/python3.7/dist-packages/librosa/core/audio.py:162: UserWarning: PySoundFile failed. Trying audioread instead.\n",
            "  warnings.warn(\"PySoundFile failed. Trying audioread instead.\")\n",
            "/usr/local/lib/python3.7/dist-packages/librosa/core/audio.py:162: UserWarning: PySoundFile failed. Trying audioread instead.\n",
            "  warnings.warn(\"PySoundFile failed. Trying audioread instead.\")\n",
            "/usr/local/lib/python3.7/dist-packages/librosa/core/audio.py:162: UserWarning: PySoundFile failed. Trying audioread instead.\n",
            "  warnings.warn(\"PySoundFile failed. Trying audioread instead.\")\n",
            "/usr/local/lib/python3.7/dist-packages/librosa/core/audio.py:162: UserWarning: PySoundFile failed. Trying audioread instead.\n",
            "  warnings.warn(\"PySoundFile failed. Trying audioread instead.\")\n",
            "/usr/local/lib/python3.7/dist-packages/librosa/core/audio.py:162: UserWarning: PySoundFile failed. Trying audioread instead.\n",
            "  warnings.warn(\"PySoundFile failed. Trying audioread instead.\")\n",
            "/usr/local/lib/python3.7/dist-packages/librosa/core/audio.py:162: UserWarning: PySoundFile failed. Trying audioread instead.\n",
            "  warnings.warn(\"PySoundFile failed. Trying audioread instead.\")\n",
            "/usr/local/lib/python3.7/dist-packages/librosa/core/audio.py:162: UserWarning: PySoundFile failed. Trying audioread instead.\n",
            "  warnings.warn(\"PySoundFile failed. Trying audioread instead.\")\n",
            "/usr/local/lib/python3.7/dist-packages/librosa/core/audio.py:162: UserWarning: PySoundFile failed. Trying audioread instead.\n",
            "  warnings.warn(\"PySoundFile failed. Trying audioread instead.\")\n",
            "/usr/local/lib/python3.7/dist-packages/librosa/core/audio.py:162: UserWarning: PySoundFile failed. Trying audioread instead.\n",
            "  warnings.warn(\"PySoundFile failed. Trying audioread instead.\")\n",
            "/usr/local/lib/python3.7/dist-packages/librosa/core/audio.py:162: UserWarning: PySoundFile failed. Trying audioread instead.\n",
            "  warnings.warn(\"PySoundFile failed. Trying audioread instead.\")\n",
            "/usr/local/lib/python3.7/dist-packages/librosa/core/audio.py:162: UserWarning: PySoundFile failed. Trying audioread instead.\n",
            "  warnings.warn(\"PySoundFile failed. Trying audioread instead.\")\n",
            "/usr/local/lib/python3.7/dist-packages/librosa/core/audio.py:162: UserWarning: PySoundFile failed. Trying audioread instead.\n",
            "  warnings.warn(\"PySoundFile failed. Trying audioread instead.\")\n",
            "/usr/local/lib/python3.7/dist-packages/librosa/core/audio.py:162: UserWarning: PySoundFile failed. Trying audioread instead.\n",
            "  warnings.warn(\"PySoundFile failed. Trying audioread instead.\")\n",
            "/usr/local/lib/python3.7/dist-packages/librosa/core/audio.py:162: UserWarning: PySoundFile failed. Trying audioread instead.\n",
            "  warnings.warn(\"PySoundFile failed. Trying audioread instead.\")\n",
            "/usr/local/lib/python3.7/dist-packages/librosa/core/audio.py:162: UserWarning: PySoundFile failed. Trying audioread instead.\n",
            "  warnings.warn(\"PySoundFile failed. Trying audioread instead.\")\n",
            "/usr/local/lib/python3.7/dist-packages/librosa/core/audio.py:162: UserWarning: PySoundFile failed. Trying audioread instead.\n",
            "  warnings.warn(\"PySoundFile failed. Trying audioread instead.\")\n",
            "/usr/local/lib/python3.7/dist-packages/librosa/core/audio.py:162: UserWarning: PySoundFile failed. Trying audioread instead.\n",
            "  warnings.warn(\"PySoundFile failed. Trying audioread instead.\")\n",
            "/usr/local/lib/python3.7/dist-packages/librosa/core/audio.py:162: UserWarning: PySoundFile failed. Trying audioread instead.\n",
            "  warnings.warn(\"PySoundFile failed. Trying audioread instead.\")\n",
            "/usr/local/lib/python3.7/dist-packages/librosa/core/audio.py:162: UserWarning: PySoundFile failed. Trying audioread instead.\n",
            "  warnings.warn(\"PySoundFile failed. Trying audioread instead.\")\n",
            "/usr/local/lib/python3.7/dist-packages/librosa/core/audio.py:162: UserWarning: PySoundFile failed. Trying audioread instead.\n",
            "  warnings.warn(\"PySoundFile failed. Trying audioread instead.\")\n",
            "/usr/local/lib/python3.7/dist-packages/librosa/core/audio.py:162: UserWarning: PySoundFile failed. Trying audioread instead.\n",
            "  warnings.warn(\"PySoundFile failed. Trying audioread instead.\")\n",
            "/usr/local/lib/python3.7/dist-packages/librosa/core/audio.py:162: UserWarning: PySoundFile failed. Trying audioread instead.\n",
            "  warnings.warn(\"PySoundFile failed. Trying audioread instead.\")\n",
            "/usr/local/lib/python3.7/dist-packages/librosa/core/audio.py:162: UserWarning: PySoundFile failed. Trying audioread instead.\n",
            "  warnings.warn(\"PySoundFile failed. Trying audioread instead.\")\n",
            "/usr/local/lib/python3.7/dist-packages/librosa/core/audio.py:162: UserWarning: PySoundFile failed. Trying audioread instead.\n",
            "  warnings.warn(\"PySoundFile failed. Trying audioread instead.\")\n",
            "/usr/local/lib/python3.7/dist-packages/librosa/core/audio.py:162: UserWarning: PySoundFile failed. Trying audioread instead.\n",
            "  warnings.warn(\"PySoundFile failed. Trying audioread instead.\")\n",
            "/usr/local/lib/python3.7/dist-packages/librosa/core/audio.py:162: UserWarning: PySoundFile failed. Trying audioread instead.\n",
            "  warnings.warn(\"PySoundFile failed. Trying audioread instead.\")\n",
            "/usr/local/lib/python3.7/dist-packages/librosa/core/audio.py:162: UserWarning: PySoundFile failed. Trying audioread instead.\n",
            "  warnings.warn(\"PySoundFile failed. Trying audioread instead.\")\n",
            "/usr/local/lib/python3.7/dist-packages/librosa/core/audio.py:162: UserWarning: PySoundFile failed. Trying audioread instead.\n",
            "  warnings.warn(\"PySoundFile failed. Trying audioread instead.\")\n",
            "/usr/local/lib/python3.7/dist-packages/librosa/core/audio.py:162: UserWarning: PySoundFile failed. Trying audioread instead.\n",
            "  warnings.warn(\"PySoundFile failed. Trying audioread instead.\")\n",
            "/usr/local/lib/python3.7/dist-packages/librosa/core/audio.py:162: UserWarning: PySoundFile failed. Trying audioread instead.\n",
            "  warnings.warn(\"PySoundFile failed. Trying audioread instead.\")\n",
            "/usr/local/lib/python3.7/dist-packages/librosa/core/audio.py:162: UserWarning: PySoundFile failed. Trying audioread instead.\n",
            "  warnings.warn(\"PySoundFile failed. Trying audioread instead.\")\n",
            "/usr/local/lib/python3.7/dist-packages/librosa/core/audio.py:162: UserWarning: PySoundFile failed. Trying audioread instead.\n",
            "  warnings.warn(\"PySoundFile failed. Trying audioread instead.\")\n",
            "/usr/local/lib/python3.7/dist-packages/librosa/core/audio.py:162: UserWarning: PySoundFile failed. Trying audioread instead.\n",
            "  warnings.warn(\"PySoundFile failed. Trying audioread instead.\")\n",
            "/usr/local/lib/python3.7/dist-packages/librosa/core/audio.py:162: UserWarning: PySoundFile failed. Trying audioread instead.\n",
            "  warnings.warn(\"PySoundFile failed. Trying audioread instead.\")\n",
            "/usr/local/lib/python3.7/dist-packages/librosa/core/audio.py:162: UserWarning: PySoundFile failed. Trying audioread instead.\n",
            "  warnings.warn(\"PySoundFile failed. Trying audioread instead.\")\n",
            "/usr/local/lib/python3.7/dist-packages/librosa/core/audio.py:162: UserWarning: PySoundFile failed. Trying audioread instead.\n",
            "  warnings.warn(\"PySoundFile failed. Trying audioread instead.\")\n",
            "/usr/local/lib/python3.7/dist-packages/librosa/core/audio.py:162: UserWarning: PySoundFile failed. Trying audioread instead.\n",
            "  warnings.warn(\"PySoundFile failed. Trying audioread instead.\")\n",
            "/usr/local/lib/python3.7/dist-packages/librosa/core/audio.py:162: UserWarning: PySoundFile failed. Trying audioread instead.\n",
            "  warnings.warn(\"PySoundFile failed. Trying audioread instead.\")\n",
            "/usr/local/lib/python3.7/dist-packages/librosa/core/audio.py:162: UserWarning: PySoundFile failed. Trying audioread instead.\n",
            "  warnings.warn(\"PySoundFile failed. Trying audioread instead.\")\n",
            "/usr/local/lib/python3.7/dist-packages/librosa/core/audio.py:162: UserWarning: PySoundFile failed. Trying audioread instead.\n",
            "  warnings.warn(\"PySoundFile failed. Trying audioread instead.\")\n",
            "/usr/local/lib/python3.7/dist-packages/librosa/core/audio.py:162: UserWarning: PySoundFile failed. Trying audioread instead.\n",
            "  warnings.warn(\"PySoundFile failed. Trying audioread instead.\")\n",
            "/usr/local/lib/python3.7/dist-packages/librosa/core/audio.py:162: UserWarning: PySoundFile failed. Trying audioread instead.\n",
            "  warnings.warn(\"PySoundFile failed. Trying audioread instead.\")\n",
            "/usr/local/lib/python3.7/dist-packages/librosa/core/audio.py:162: UserWarning: PySoundFile failed. Trying audioread instead.\n",
            "  warnings.warn(\"PySoundFile failed. Trying audioread instead.\")\n",
            "/usr/local/lib/python3.7/dist-packages/librosa/core/audio.py:162: UserWarning: PySoundFile failed. Trying audioread instead.\n",
            "  warnings.warn(\"PySoundFile failed. Trying audioread instead.\")\n",
            "/usr/local/lib/python3.7/dist-packages/librosa/core/audio.py:162: UserWarning: PySoundFile failed. Trying audioread instead.\n",
            "  warnings.warn(\"PySoundFile failed. Trying audioread instead.\")\n",
            "/usr/local/lib/python3.7/dist-packages/librosa/core/audio.py:162: UserWarning: PySoundFile failed. Trying audioread instead.\n",
            "  warnings.warn(\"PySoundFile failed. Trying audioread instead.\")\n",
            "/usr/local/lib/python3.7/dist-packages/librosa/core/audio.py:162: UserWarning: PySoundFile failed. Trying audioread instead.\n",
            "  warnings.warn(\"PySoundFile failed. Trying audioread instead.\")\n",
            "/usr/local/lib/python3.7/dist-packages/librosa/core/audio.py:162: UserWarning: PySoundFile failed. Trying audioread instead.\n",
            "  warnings.warn(\"PySoundFile failed. Trying audioread instead.\")\n",
            "/usr/local/lib/python3.7/dist-packages/librosa/core/audio.py:162: UserWarning: PySoundFile failed. Trying audioread instead.\n",
            "  warnings.warn(\"PySoundFile failed. Trying audioread instead.\")\n",
            "/usr/local/lib/python3.7/dist-packages/librosa/core/audio.py:162: UserWarning: PySoundFile failed. Trying audioread instead.\n",
            "  warnings.warn(\"PySoundFile failed. Trying audioread instead.\")\n",
            "/usr/local/lib/python3.7/dist-packages/librosa/core/audio.py:162: UserWarning: PySoundFile failed. Trying audioread instead.\n",
            "  warnings.warn(\"PySoundFile failed. Trying audioread instead.\")\n",
            "/usr/local/lib/python3.7/dist-packages/librosa/core/audio.py:162: UserWarning: PySoundFile failed. Trying audioread instead.\n",
            "  warnings.warn(\"PySoundFile failed. Trying audioread instead.\")\n",
            "/usr/local/lib/python3.7/dist-packages/librosa/core/audio.py:162: UserWarning: PySoundFile failed. Trying audioread instead.\n",
            "  warnings.warn(\"PySoundFile failed. Trying audioread instead.\")\n",
            "/usr/local/lib/python3.7/dist-packages/librosa/core/audio.py:162: UserWarning: PySoundFile failed. Trying audioread instead.\n",
            "  warnings.warn(\"PySoundFile failed. Trying audioread instead.\")\n",
            "/usr/local/lib/python3.7/dist-packages/librosa/core/audio.py:162: UserWarning: PySoundFile failed. Trying audioread instead.\n",
            "  warnings.warn(\"PySoundFile failed. Trying audioread instead.\")\n",
            "/usr/local/lib/python3.7/dist-packages/librosa/core/audio.py:162: UserWarning: PySoundFile failed. Trying audioread instead.\n",
            "  warnings.warn(\"PySoundFile failed. Trying audioread instead.\")\n",
            "/usr/local/lib/python3.7/dist-packages/librosa/core/audio.py:162: UserWarning: PySoundFile failed. Trying audioread instead.\n",
            "  warnings.warn(\"PySoundFile failed. Trying audioread instead.\")\n",
            "/usr/local/lib/python3.7/dist-packages/librosa/core/audio.py:162: UserWarning: PySoundFile failed. Trying audioread instead.\n",
            "  warnings.warn(\"PySoundFile failed. Trying audioread instead.\")\n",
            "/usr/local/lib/python3.7/dist-packages/librosa/core/audio.py:162: UserWarning: PySoundFile failed. Trying audioread instead.\n",
            "  warnings.warn(\"PySoundFile failed. Trying audioread instead.\")\n",
            "/usr/local/lib/python3.7/dist-packages/librosa/core/audio.py:162: UserWarning: PySoundFile failed. Trying audioread instead.\n",
            "  warnings.warn(\"PySoundFile failed. Trying audioread instead.\")\n",
            "/usr/local/lib/python3.7/dist-packages/librosa/core/audio.py:162: UserWarning: PySoundFile failed. Trying audioread instead.\n",
            "  warnings.warn(\"PySoundFile failed. Trying audioread instead.\")\n",
            "/usr/local/lib/python3.7/dist-packages/librosa/core/audio.py:162: UserWarning: PySoundFile failed. Trying audioread instead.\n",
            "  warnings.warn(\"PySoundFile failed. Trying audioread instead.\")\n",
            "/usr/local/lib/python3.7/dist-packages/librosa/core/audio.py:162: UserWarning: PySoundFile failed. Trying audioread instead.\n",
            "  warnings.warn(\"PySoundFile failed. Trying audioread instead.\")\n",
            "/usr/local/lib/python3.7/dist-packages/librosa/core/audio.py:162: UserWarning: PySoundFile failed. Trying audioread instead.\n",
            "  warnings.warn(\"PySoundFile failed. Trying audioread instead.\")\n",
            "/usr/local/lib/python3.7/dist-packages/librosa/core/audio.py:162: UserWarning: PySoundFile failed. Trying audioread instead.\n",
            "  warnings.warn(\"PySoundFile failed. Trying audioread instead.\")\n",
            "/usr/local/lib/python3.7/dist-packages/librosa/core/audio.py:162: UserWarning: PySoundFile failed. Trying audioread instead.\n",
            "  warnings.warn(\"PySoundFile failed. Trying audioread instead.\")\n",
            "/usr/local/lib/python3.7/dist-packages/librosa/core/audio.py:162: UserWarning: PySoundFile failed. Trying audioread instead.\n",
            "  warnings.warn(\"PySoundFile failed. Trying audioread instead.\")\n",
            "/usr/local/lib/python3.7/dist-packages/librosa/core/audio.py:162: UserWarning: PySoundFile failed. Trying audioread instead.\n",
            "  warnings.warn(\"PySoundFile failed. Trying audioread instead.\")\n",
            "/usr/local/lib/python3.7/dist-packages/librosa/core/audio.py:162: UserWarning: PySoundFile failed. Trying audioread instead.\n",
            "  warnings.warn(\"PySoundFile failed. Trying audioread instead.\")\n",
            "/usr/local/lib/python3.7/dist-packages/librosa/core/audio.py:162: UserWarning: PySoundFile failed. Trying audioread instead.\n",
            "  warnings.warn(\"PySoundFile failed. Trying audioread instead.\")\n",
            "/usr/local/lib/python3.7/dist-packages/librosa/core/audio.py:162: UserWarning: PySoundFile failed. Trying audioread instead.\n",
            "  warnings.warn(\"PySoundFile failed. Trying audioread instead.\")\n",
            "/usr/local/lib/python3.7/dist-packages/librosa/core/audio.py:162: UserWarning: PySoundFile failed. Trying audioread instead.\n",
            "  warnings.warn(\"PySoundFile failed. Trying audioread instead.\")\n",
            "/usr/local/lib/python3.7/dist-packages/librosa/core/audio.py:162: UserWarning: PySoundFile failed. Trying audioread instead.\n",
            "  warnings.warn(\"PySoundFile failed. Trying audioread instead.\")\n",
            "/usr/local/lib/python3.7/dist-packages/librosa/core/audio.py:162: UserWarning: PySoundFile failed. Trying audioread instead.\n",
            "  warnings.warn(\"PySoundFile failed. Trying audioread instead.\")\n",
            "/usr/local/lib/python3.7/dist-packages/librosa/core/audio.py:162: UserWarning: PySoundFile failed. Trying audioread instead.\n",
            "  warnings.warn(\"PySoundFile failed. Trying audioread instead.\")\n",
            "/usr/local/lib/python3.7/dist-packages/librosa/core/audio.py:162: UserWarning: PySoundFile failed. Trying audioread instead.\n",
            "  warnings.warn(\"PySoundFile failed. Trying audioread instead.\")\n",
            "/usr/local/lib/python3.7/dist-packages/librosa/core/audio.py:162: UserWarning: PySoundFile failed. Trying audioread instead.\n",
            "  warnings.warn(\"PySoundFile failed. Trying audioread instead.\")\n",
            "/usr/local/lib/python3.7/dist-packages/librosa/core/audio.py:162: UserWarning: PySoundFile failed. Trying audioread instead.\n",
            "  warnings.warn(\"PySoundFile failed. Trying audioread instead.\")\n",
            "/usr/local/lib/python3.7/dist-packages/librosa/core/audio.py:162: UserWarning: PySoundFile failed. Trying audioread instead.\n",
            "  warnings.warn(\"PySoundFile failed. Trying audioread instead.\")\n",
            "/usr/local/lib/python3.7/dist-packages/librosa/core/audio.py:162: UserWarning: PySoundFile failed. Trying audioread instead.\n",
            "  warnings.warn(\"PySoundFile failed. Trying audioread instead.\")\n",
            "/usr/local/lib/python3.7/dist-packages/librosa/core/audio.py:162: UserWarning: PySoundFile failed. Trying audioread instead.\n",
            "  warnings.warn(\"PySoundFile failed. Trying audioread instead.\")\n",
            "/usr/local/lib/python3.7/dist-packages/librosa/core/audio.py:162: UserWarning: PySoundFile failed. Trying audioread instead.\n",
            "  warnings.warn(\"PySoundFile failed. Trying audioread instead.\")\n",
            "/usr/local/lib/python3.7/dist-packages/librosa/core/audio.py:162: UserWarning: PySoundFile failed. Trying audioread instead.\n",
            "  warnings.warn(\"PySoundFile failed. Trying audioread instead.\")\n",
            "/usr/local/lib/python3.7/dist-packages/librosa/core/audio.py:162: UserWarning: PySoundFile failed. Trying audioread instead.\n",
            "  warnings.warn(\"PySoundFile failed. Trying audioread instead.\")\n",
            "/usr/local/lib/python3.7/dist-packages/librosa/core/audio.py:162: UserWarning: PySoundFile failed. Trying audioread instead.\n",
            "  warnings.warn(\"PySoundFile failed. Trying audioread instead.\")\n",
            "/usr/local/lib/python3.7/dist-packages/librosa/core/audio.py:162: UserWarning: PySoundFile failed. Trying audioread instead.\n",
            "  warnings.warn(\"PySoundFile failed. Trying audioread instead.\")\n",
            "/usr/local/lib/python3.7/dist-packages/librosa/core/audio.py:162: UserWarning: PySoundFile failed. Trying audioread instead.\n",
            "  warnings.warn(\"PySoundFile failed. Trying audioread instead.\")\n",
            "/usr/local/lib/python3.7/dist-packages/librosa/core/audio.py:162: UserWarning: PySoundFile failed. Trying audioread instead.\n",
            "  warnings.warn(\"PySoundFile failed. Trying audioread instead.\")\n",
            "/usr/local/lib/python3.7/dist-packages/librosa/core/audio.py:162: UserWarning: PySoundFile failed. Trying audioread instead.\n",
            "  warnings.warn(\"PySoundFile failed. Trying audioread instead.\")\n",
            "/usr/local/lib/python3.7/dist-packages/librosa/core/audio.py:162: UserWarning: PySoundFile failed. Trying audioread instead.\n",
            "  warnings.warn(\"PySoundFile failed. Trying audioread instead.\")\n",
            "/usr/local/lib/python3.7/dist-packages/librosa/core/audio.py:162: UserWarning: PySoundFile failed. Trying audioread instead.\n",
            "  warnings.warn(\"PySoundFile failed. Trying audioread instead.\")\n",
            "/usr/local/lib/python3.7/dist-packages/librosa/core/audio.py:162: UserWarning: PySoundFile failed. Trying audioread instead.\n",
            "  warnings.warn(\"PySoundFile failed. Trying audioread instead.\")\n",
            "/usr/local/lib/python3.7/dist-packages/librosa/core/audio.py:162: UserWarning: PySoundFile failed. Trying audioread instead.\n",
            "  warnings.warn(\"PySoundFile failed. Trying audioread instead.\")\n",
            "/usr/local/lib/python3.7/dist-packages/librosa/core/audio.py:162: UserWarning: PySoundFile failed. Trying audioread instead.\n",
            "  warnings.warn(\"PySoundFile failed. Trying audioread instead.\")\n",
            "/usr/local/lib/python3.7/dist-packages/librosa/core/audio.py:162: UserWarning: PySoundFile failed. Trying audioread instead.\n",
            "  warnings.warn(\"PySoundFile failed. Trying audioread instead.\")\n",
            "/usr/local/lib/python3.7/dist-packages/librosa/core/audio.py:162: UserWarning: PySoundFile failed. Trying audioread instead.\n",
            "  warnings.warn(\"PySoundFile failed. Trying audioread instead.\")\n",
            "/usr/local/lib/python3.7/dist-packages/librosa/core/audio.py:162: UserWarning: PySoundFile failed. Trying audioread instead.\n",
            "  warnings.warn(\"PySoundFile failed. Trying audioread instead.\")\n",
            "/usr/local/lib/python3.7/dist-packages/librosa/core/audio.py:162: UserWarning: PySoundFile failed. Trying audioread instead.\n",
            "  warnings.warn(\"PySoundFile failed. Trying audioread instead.\")\n",
            "/usr/local/lib/python3.7/dist-packages/librosa/core/audio.py:162: UserWarning: PySoundFile failed. Trying audioread instead.\n",
            "  warnings.warn(\"PySoundFile failed. Trying audioread instead.\")\n",
            "/usr/local/lib/python3.7/dist-packages/librosa/core/audio.py:162: UserWarning: PySoundFile failed. Trying audioread instead.\n",
            "  warnings.warn(\"PySoundFile failed. Trying audioread instead.\")\n",
            "/usr/local/lib/python3.7/dist-packages/librosa/core/audio.py:162: UserWarning: PySoundFile failed. Trying audioread instead.\n",
            "  warnings.warn(\"PySoundFile failed. Trying audioread instead.\")\n",
            "/usr/local/lib/python3.7/dist-packages/librosa/core/audio.py:162: UserWarning: PySoundFile failed. Trying audioread instead.\n",
            "  warnings.warn(\"PySoundFile failed. Trying audioread instead.\")\n",
            "/usr/local/lib/python3.7/dist-packages/librosa/core/audio.py:162: UserWarning: PySoundFile failed. Trying audioread instead.\n",
            "  warnings.warn(\"PySoundFile failed. Trying audioread instead.\")\n",
            "/usr/local/lib/python3.7/dist-packages/librosa/core/audio.py:162: UserWarning: PySoundFile failed. Trying audioread instead.\n",
            "  warnings.warn(\"PySoundFile failed. Trying audioread instead.\")\n",
            "/usr/local/lib/python3.7/dist-packages/librosa/core/audio.py:162: UserWarning: PySoundFile failed. Trying audioread instead.\n",
            "  warnings.warn(\"PySoundFile failed. Trying audioread instead.\")\n",
            "/usr/local/lib/python3.7/dist-packages/librosa/core/audio.py:162: UserWarning: PySoundFile failed. Trying audioread instead.\n",
            "  warnings.warn(\"PySoundFile failed. Trying audioread instead.\")\n",
            "/usr/local/lib/python3.7/dist-packages/librosa/core/audio.py:162: UserWarning: PySoundFile failed. Trying audioread instead.\n",
            "  warnings.warn(\"PySoundFile failed. Trying audioread instead.\")\n",
            "/usr/local/lib/python3.7/dist-packages/librosa/core/audio.py:162: UserWarning: PySoundFile failed. Trying audioread instead.\n",
            "  warnings.warn(\"PySoundFile failed. Trying audioread instead.\")\n",
            "/usr/local/lib/python3.7/dist-packages/librosa/core/audio.py:162: UserWarning: PySoundFile failed. Trying audioread instead.\n",
            "  warnings.warn(\"PySoundFile failed. Trying audioread instead.\")\n",
            "/usr/local/lib/python3.7/dist-packages/librosa/core/audio.py:162: UserWarning: PySoundFile failed. Trying audioread instead.\n",
            "  warnings.warn(\"PySoundFile failed. Trying audioread instead.\")\n",
            "/usr/local/lib/python3.7/dist-packages/librosa/core/audio.py:162: UserWarning: PySoundFile failed. Trying audioread instead.\n",
            "  warnings.warn(\"PySoundFile failed. Trying audioread instead.\")\n",
            "/usr/local/lib/python3.7/dist-packages/librosa/core/audio.py:162: UserWarning: PySoundFile failed. Trying audioread instead.\n",
            "  warnings.warn(\"PySoundFile failed. Trying audioread instead.\")\n",
            "/usr/local/lib/python3.7/dist-packages/librosa/core/audio.py:162: UserWarning: PySoundFile failed. Trying audioread instead.\n",
            "  warnings.warn(\"PySoundFile failed. Trying audioread instead.\")\n",
            "/usr/local/lib/python3.7/dist-packages/librosa/core/audio.py:162: UserWarning: PySoundFile failed. Trying audioread instead.\n",
            "  warnings.warn(\"PySoundFile failed. Trying audioread instead.\")\n",
            "/usr/local/lib/python3.7/dist-packages/librosa/core/audio.py:162: UserWarning: PySoundFile failed. Trying audioread instead.\n",
            "  warnings.warn(\"PySoundFile failed. Trying audioread instead.\")\n",
            "/usr/local/lib/python3.7/dist-packages/librosa/core/audio.py:162: UserWarning: PySoundFile failed. Trying audioread instead.\n",
            "  warnings.warn(\"PySoundFile failed. Trying audioread instead.\")\n",
            "/usr/local/lib/python3.7/dist-packages/librosa/core/audio.py:162: UserWarning: PySoundFile failed. Trying audioread instead.\n",
            "  warnings.warn(\"PySoundFile failed. Trying audioread instead.\")\n",
            "/usr/local/lib/python3.7/dist-packages/librosa/core/audio.py:162: UserWarning: PySoundFile failed. Trying audioread instead.\n",
            "  warnings.warn(\"PySoundFile failed. Trying audioread instead.\")\n",
            "/usr/local/lib/python3.7/dist-packages/librosa/core/audio.py:162: UserWarning: PySoundFile failed. Trying audioread instead.\n",
            "  warnings.warn(\"PySoundFile failed. Trying audioread instead.\")\n",
            "/usr/local/lib/python3.7/dist-packages/librosa/core/audio.py:162: UserWarning: PySoundFile failed. Trying audioread instead.\n",
            "  warnings.warn(\"PySoundFile failed. Trying audioread instead.\")\n",
            "/usr/local/lib/python3.7/dist-packages/librosa/core/audio.py:162: UserWarning: PySoundFile failed. Trying audioread instead.\n",
            "  warnings.warn(\"PySoundFile failed. Trying audioread instead.\")\n",
            "/usr/local/lib/python3.7/dist-packages/librosa/core/audio.py:162: UserWarning: PySoundFile failed. Trying audioread instead.\n",
            "  warnings.warn(\"PySoundFile failed. Trying audioread instead.\")\n",
            "/usr/local/lib/python3.7/dist-packages/librosa/core/audio.py:162: UserWarning: PySoundFile failed. Trying audioread instead.\n",
            "  warnings.warn(\"PySoundFile failed. Trying audioread instead.\")\n",
            "/usr/local/lib/python3.7/dist-packages/librosa/core/audio.py:162: UserWarning: PySoundFile failed. Trying audioread instead.\n",
            "  warnings.warn(\"PySoundFile failed. Trying audioread instead.\")\n",
            "/usr/local/lib/python3.7/dist-packages/librosa/core/audio.py:162: UserWarning: PySoundFile failed. Trying audioread instead.\n",
            "  warnings.warn(\"PySoundFile failed. Trying audioread instead.\")\n",
            "/usr/local/lib/python3.7/dist-packages/librosa/core/audio.py:162: UserWarning: PySoundFile failed. Trying audioread instead.\n",
            "  warnings.warn(\"PySoundFile failed. Trying audioread instead.\")\n",
            "/usr/local/lib/python3.7/dist-packages/librosa/core/audio.py:162: UserWarning: PySoundFile failed. Trying audioread instead.\n",
            "  warnings.warn(\"PySoundFile failed. Trying audioread instead.\")\n",
            "/usr/local/lib/python3.7/dist-packages/librosa/core/audio.py:162: UserWarning: PySoundFile failed. Trying audioread instead.\n",
            "  warnings.warn(\"PySoundFile failed. Trying audioread instead.\")\n",
            "/usr/local/lib/python3.7/dist-packages/librosa/core/audio.py:162: UserWarning: PySoundFile failed. Trying audioread instead.\n",
            "  warnings.warn(\"PySoundFile failed. Trying audioread instead.\")\n",
            "/usr/local/lib/python3.7/dist-packages/librosa/core/audio.py:162: UserWarning: PySoundFile failed. Trying audioread instead.\n",
            "  warnings.warn(\"PySoundFile failed. Trying audioread instead.\")\n",
            "/usr/local/lib/python3.7/dist-packages/librosa/core/audio.py:162: UserWarning: PySoundFile failed. Trying audioread instead.\n",
            "  warnings.warn(\"PySoundFile failed. Trying audioread instead.\")\n",
            "/usr/local/lib/python3.7/dist-packages/librosa/core/audio.py:162: UserWarning: PySoundFile failed. Trying audioread instead.\n",
            "  warnings.warn(\"PySoundFile failed. Trying audioread instead.\")\n",
            "/usr/local/lib/python3.7/dist-packages/librosa/core/audio.py:162: UserWarning: PySoundFile failed. Trying audioread instead.\n",
            "  warnings.warn(\"PySoundFile failed. Trying audioread instead.\")\n",
            "/usr/local/lib/python3.7/dist-packages/librosa/core/audio.py:162: UserWarning: PySoundFile failed. Trying audioread instead.\n",
            "  warnings.warn(\"PySoundFile failed. Trying audioread instead.\")\n",
            "/usr/local/lib/python3.7/dist-packages/librosa/core/audio.py:162: UserWarning: PySoundFile failed. Trying audioread instead.\n",
            "  warnings.warn(\"PySoundFile failed. Trying audioread instead.\")\n",
            "/usr/local/lib/python3.7/dist-packages/librosa/core/audio.py:162: UserWarning: PySoundFile failed. Trying audioread instead.\n",
            "  warnings.warn(\"PySoundFile failed. Trying audioread instead.\")\n",
            "/usr/local/lib/python3.7/dist-packages/librosa/core/audio.py:162: UserWarning: PySoundFile failed. Trying audioread instead.\n",
            "  warnings.warn(\"PySoundFile failed. Trying audioread instead.\")\n",
            "/usr/local/lib/python3.7/dist-packages/librosa/core/audio.py:162: UserWarning: PySoundFile failed. Trying audioread instead.\n",
            "  warnings.warn(\"PySoundFile failed. Trying audioread instead.\")\n",
            "/usr/local/lib/python3.7/dist-packages/librosa/core/audio.py:162: UserWarning: PySoundFile failed. Trying audioread instead.\n",
            "  warnings.warn(\"PySoundFile failed. Trying audioread instead.\")\n",
            "/usr/local/lib/python3.7/dist-packages/librosa/core/audio.py:162: UserWarning: PySoundFile failed. Trying audioread instead.\n",
            "  warnings.warn(\"PySoundFile failed. Trying audioread instead.\")\n",
            "/usr/local/lib/python3.7/dist-packages/librosa/core/audio.py:162: UserWarning: PySoundFile failed. Trying audioread instead.\n",
            "  warnings.warn(\"PySoundFile failed. Trying audioread instead.\")\n",
            "/usr/local/lib/python3.7/dist-packages/librosa/core/audio.py:162: UserWarning: PySoundFile failed. Trying audioread instead.\n",
            "  warnings.warn(\"PySoundFile failed. Trying audioread instead.\")\n",
            "/usr/local/lib/python3.7/dist-packages/librosa/core/audio.py:162: UserWarning: PySoundFile failed. Trying audioread instead.\n",
            "  warnings.warn(\"PySoundFile failed. Trying audioread instead.\")\n",
            "/usr/local/lib/python3.7/dist-packages/librosa/core/audio.py:162: UserWarning: PySoundFile failed. Trying audioread instead.\n",
            "  warnings.warn(\"PySoundFile failed. Trying audioread instead.\")\n",
            "/usr/local/lib/python3.7/dist-packages/librosa/core/audio.py:162: UserWarning: PySoundFile failed. Trying audioread instead.\n",
            "  warnings.warn(\"PySoundFile failed. Trying audioread instead.\")\n",
            "/usr/local/lib/python3.7/dist-packages/librosa/core/audio.py:162: UserWarning: PySoundFile failed. Trying audioread instead.\n",
            "  warnings.warn(\"PySoundFile failed. Trying audioread instead.\")\n",
            "/usr/local/lib/python3.7/dist-packages/librosa/core/audio.py:162: UserWarning: PySoundFile failed. Trying audioread instead.\n",
            "  warnings.warn(\"PySoundFile failed. Trying audioread instead.\")\n",
            "/usr/local/lib/python3.7/dist-packages/librosa/core/audio.py:162: UserWarning: PySoundFile failed. Trying audioread instead.\n",
            "  warnings.warn(\"PySoundFile failed. Trying audioread instead.\")\n",
            "/usr/local/lib/python3.7/dist-packages/librosa/core/audio.py:162: UserWarning: PySoundFile failed. Trying audioread instead.\n",
            "  warnings.warn(\"PySoundFile failed. Trying audioread instead.\")\n",
            "/usr/local/lib/python3.7/dist-packages/librosa/core/audio.py:162: UserWarning: PySoundFile failed. Trying audioread instead.\n",
            "  warnings.warn(\"PySoundFile failed. Trying audioread instead.\")\n",
            "/usr/local/lib/python3.7/dist-packages/librosa/core/audio.py:162: UserWarning: PySoundFile failed. Trying audioread instead.\n",
            "  warnings.warn(\"PySoundFile failed. Trying audioread instead.\")\n",
            "/usr/local/lib/python3.7/dist-packages/librosa/core/audio.py:162: UserWarning: PySoundFile failed. Trying audioread instead.\n",
            "  warnings.warn(\"PySoundFile failed. Trying audioread instead.\")\n",
            "/usr/local/lib/python3.7/dist-packages/librosa/core/audio.py:162: UserWarning: PySoundFile failed. Trying audioread instead.\n",
            "  warnings.warn(\"PySoundFile failed. Trying audioread instead.\")\n",
            "/usr/local/lib/python3.7/dist-packages/librosa/core/audio.py:162: UserWarning: PySoundFile failed. Trying audioread instead.\n",
            "  warnings.warn(\"PySoundFile failed. Trying audioread instead.\")\n",
            "/usr/local/lib/python3.7/dist-packages/librosa/core/audio.py:162: UserWarning: PySoundFile failed. Trying audioread instead.\n",
            "  warnings.warn(\"PySoundFile failed. Trying audioread instead.\")\n",
            "/usr/local/lib/python3.7/dist-packages/librosa/core/audio.py:162: UserWarning: PySoundFile failed. Trying audioread instead.\n",
            "  warnings.warn(\"PySoundFile failed. Trying audioread instead.\")\n",
            "/usr/local/lib/python3.7/dist-packages/librosa/core/audio.py:162: UserWarning: PySoundFile failed. Trying audioread instead.\n",
            "  warnings.warn(\"PySoundFile failed. Trying audioread instead.\")\n",
            "/usr/local/lib/python3.7/dist-packages/librosa/core/audio.py:162: UserWarning: PySoundFile failed. Trying audioread instead.\n",
            "  warnings.warn(\"PySoundFile failed. Trying audioread instead.\")\n",
            "/usr/local/lib/python3.7/dist-packages/librosa/core/audio.py:162: UserWarning: PySoundFile failed. Trying audioread instead.\n",
            "  warnings.warn(\"PySoundFile failed. Trying audioread instead.\")\n",
            "/usr/local/lib/python3.7/dist-packages/librosa/core/audio.py:162: UserWarning: PySoundFile failed. Trying audioread instead.\n",
            "  warnings.warn(\"PySoundFile failed. Trying audioread instead.\")\n",
            "/usr/local/lib/python3.7/dist-packages/librosa/core/audio.py:162: UserWarning: PySoundFile failed. Trying audioread instead.\n",
            "  warnings.warn(\"PySoundFile failed. Trying audioread instead.\")\n",
            "/usr/local/lib/python3.7/dist-packages/librosa/core/audio.py:162: UserWarning: PySoundFile failed. Trying audioread instead.\n",
            "  warnings.warn(\"PySoundFile failed. Trying audioread instead.\")\n",
            "/usr/local/lib/python3.7/dist-packages/librosa/core/audio.py:162: UserWarning: PySoundFile failed. Trying audioread instead.\n",
            "  warnings.warn(\"PySoundFile failed. Trying audioread instead.\")\n",
            "/usr/local/lib/python3.7/dist-packages/librosa/core/audio.py:162: UserWarning: PySoundFile failed. Trying audioread instead.\n",
            "  warnings.warn(\"PySoundFile failed. Trying audioread instead.\")\n",
            "/usr/local/lib/python3.7/dist-packages/librosa/core/audio.py:162: UserWarning: PySoundFile failed. Trying audioread instead.\n",
            "  warnings.warn(\"PySoundFile failed. Trying audioread instead.\")\n",
            "/usr/local/lib/python3.7/dist-packages/librosa/core/audio.py:162: UserWarning: PySoundFile failed. Trying audioread instead.\n",
            "  warnings.warn(\"PySoundFile failed. Trying audioread instead.\")\n",
            "/usr/local/lib/python3.7/dist-packages/librosa/core/audio.py:162: UserWarning: PySoundFile failed. Trying audioread instead.\n",
            "  warnings.warn(\"PySoundFile failed. Trying audioread instead.\")\n",
            "/usr/local/lib/python3.7/dist-packages/librosa/core/audio.py:162: UserWarning: PySoundFile failed. Trying audioread instead.\n",
            "  warnings.warn(\"PySoundFile failed. Trying audioread instead.\")\n",
            "/usr/local/lib/python3.7/dist-packages/librosa/core/audio.py:162: UserWarning: PySoundFile failed. Trying audioread instead.\n",
            "  warnings.warn(\"PySoundFile failed. Trying audioread instead.\")\n",
            "/usr/local/lib/python3.7/dist-packages/librosa/core/audio.py:162: UserWarning: PySoundFile failed. Trying audioread instead.\n",
            "  warnings.warn(\"PySoundFile failed. Trying audioread instead.\")\n",
            "/usr/local/lib/python3.7/dist-packages/librosa/core/audio.py:162: UserWarning: PySoundFile failed. Trying audioread instead.\n",
            "  warnings.warn(\"PySoundFile failed. Trying audioread instead.\")\n",
            "/usr/local/lib/python3.7/dist-packages/librosa/core/audio.py:162: UserWarning: PySoundFile failed. Trying audioread instead.\n",
            "  warnings.warn(\"PySoundFile failed. Trying audioread instead.\")\n",
            "/usr/local/lib/python3.7/dist-packages/librosa/core/audio.py:162: UserWarning: PySoundFile failed. Trying audioread instead.\n",
            "  warnings.warn(\"PySoundFile failed. Trying audioread instead.\")\n",
            "/usr/local/lib/python3.7/dist-packages/librosa/core/audio.py:162: UserWarning: PySoundFile failed. Trying audioread instead.\n",
            "  warnings.warn(\"PySoundFile failed. Trying audioread instead.\")\n",
            "/usr/local/lib/python3.7/dist-packages/librosa/core/audio.py:162: UserWarning: PySoundFile failed. Trying audioread instead.\n",
            "  warnings.warn(\"PySoundFile failed. Trying audioread instead.\")\n",
            "/usr/local/lib/python3.7/dist-packages/librosa/core/audio.py:162: UserWarning: PySoundFile failed. Trying audioread instead.\n",
            "  warnings.warn(\"PySoundFile failed. Trying audioread instead.\")\n",
            "/usr/local/lib/python3.7/dist-packages/librosa/core/audio.py:162: UserWarning: PySoundFile failed. Trying audioread instead.\n",
            "  warnings.warn(\"PySoundFile failed. Trying audioread instead.\")\n",
            "/usr/local/lib/python3.7/dist-packages/librosa/core/audio.py:162: UserWarning: PySoundFile failed. Trying audioread instead.\n",
            "  warnings.warn(\"PySoundFile failed. Trying audioread instead.\")\n",
            "/usr/local/lib/python3.7/dist-packages/librosa/core/audio.py:162: UserWarning: PySoundFile failed. Trying audioread instead.\n",
            "  warnings.warn(\"PySoundFile failed. Trying audioread instead.\")\n",
            "/usr/local/lib/python3.7/dist-packages/librosa/core/audio.py:162: UserWarning: PySoundFile failed. Trying audioread instead.\n",
            "  warnings.warn(\"PySoundFile failed. Trying audioread instead.\")\n",
            "/usr/local/lib/python3.7/dist-packages/librosa/core/audio.py:162: UserWarning: PySoundFile failed. Trying audioread instead.\n",
            "  warnings.warn(\"PySoundFile failed. Trying audioread instead.\")\n",
            "/usr/local/lib/python3.7/dist-packages/librosa/core/audio.py:162: UserWarning: PySoundFile failed. Trying audioread instead.\n",
            "  warnings.warn(\"PySoundFile failed. Trying audioread instead.\")\n",
            "/usr/local/lib/python3.7/dist-packages/librosa/core/audio.py:162: UserWarning: PySoundFile failed. Trying audioread instead.\n",
            "  warnings.warn(\"PySoundFile failed. Trying audioread instead.\")\n",
            "/usr/local/lib/python3.7/dist-packages/librosa/core/audio.py:162: UserWarning: PySoundFile failed. Trying audioread instead.\n",
            "  warnings.warn(\"PySoundFile failed. Trying audioread instead.\")\n",
            "/usr/local/lib/python3.7/dist-packages/librosa/core/audio.py:162: UserWarning: PySoundFile failed. Trying audioread instead.\n",
            "  warnings.warn(\"PySoundFile failed. Trying audioread instead.\")\n",
            "/usr/local/lib/python3.7/dist-packages/librosa/core/audio.py:162: UserWarning: PySoundFile failed. Trying audioread instead.\n",
            "  warnings.warn(\"PySoundFile failed. Trying audioread instead.\")\n",
            "/usr/local/lib/python3.7/dist-packages/librosa/core/audio.py:162: UserWarning: PySoundFile failed. Trying audioread instead.\n",
            "  warnings.warn(\"PySoundFile failed. Trying audioread instead.\")\n",
            "/usr/local/lib/python3.7/dist-packages/librosa/core/audio.py:162: UserWarning: PySoundFile failed. Trying audioread instead.\n",
            "  warnings.warn(\"PySoundFile failed. Trying audioread instead.\")\n",
            "/usr/local/lib/python3.7/dist-packages/librosa/core/audio.py:162: UserWarning: PySoundFile failed. Trying audioread instead.\n",
            "  warnings.warn(\"PySoundFile failed. Trying audioread instead.\")\n",
            "/usr/local/lib/python3.7/dist-packages/librosa/core/audio.py:162: UserWarning: PySoundFile failed. Trying audioread instead.\n",
            "  warnings.warn(\"PySoundFile failed. Trying audioread instead.\")\n",
            "/usr/local/lib/python3.7/dist-packages/librosa/core/audio.py:162: UserWarning: PySoundFile failed. Trying audioread instead.\n",
            "  warnings.warn(\"PySoundFile failed. Trying audioread instead.\")\n",
            "/usr/local/lib/python3.7/dist-packages/librosa/core/audio.py:162: UserWarning: PySoundFile failed. Trying audioread instead.\n",
            "  warnings.warn(\"PySoundFile failed. Trying audioread instead.\")\n",
            "/usr/local/lib/python3.7/dist-packages/librosa/core/audio.py:162: UserWarning: PySoundFile failed. Trying audioread instead.\n",
            "  warnings.warn(\"PySoundFile failed. Trying audioread instead.\")\n",
            "/usr/local/lib/python3.7/dist-packages/librosa/core/audio.py:162: UserWarning: PySoundFile failed. Trying audioread instead.\n",
            "  warnings.warn(\"PySoundFile failed. Trying audioread instead.\")\n",
            "/usr/local/lib/python3.7/dist-packages/librosa/core/audio.py:162: UserWarning: PySoundFile failed. Trying audioread instead.\n",
            "  warnings.warn(\"PySoundFile failed. Trying audioread instead.\")\n",
            "/usr/local/lib/python3.7/dist-packages/librosa/core/audio.py:162: UserWarning: PySoundFile failed. Trying audioread instead.\n",
            "  warnings.warn(\"PySoundFile failed. Trying audioread instead.\")\n",
            "/usr/local/lib/python3.7/dist-packages/librosa/core/audio.py:162: UserWarning: PySoundFile failed. Trying audioread instead.\n",
            "  warnings.warn(\"PySoundFile failed. Trying audioread instead.\")\n",
            "/usr/local/lib/python3.7/dist-packages/librosa/core/audio.py:162: UserWarning: PySoundFile failed. Trying audioread instead.\n",
            "  warnings.warn(\"PySoundFile failed. Trying audioread instead.\")\n",
            "/usr/local/lib/python3.7/dist-packages/librosa/core/audio.py:162: UserWarning: PySoundFile failed. Trying audioread instead.\n",
            "  warnings.warn(\"PySoundFile failed. Trying audioread instead.\")\n",
            "/usr/local/lib/python3.7/dist-packages/librosa/core/audio.py:162: UserWarning: PySoundFile failed. Trying audioread instead.\n",
            "  warnings.warn(\"PySoundFile failed. Trying audioread instead.\")\n",
            "/usr/local/lib/python3.7/dist-packages/librosa/core/audio.py:162: UserWarning: PySoundFile failed. Trying audioread instead.\n",
            "  warnings.warn(\"PySoundFile failed. Trying audioread instead.\")\n",
            "/usr/local/lib/python3.7/dist-packages/librosa/core/audio.py:162: UserWarning: PySoundFile failed. Trying audioread instead.\n",
            "  warnings.warn(\"PySoundFile failed. Trying audioread instead.\")\n",
            "/usr/local/lib/python3.7/dist-packages/librosa/core/audio.py:162: UserWarning: PySoundFile failed. Trying audioread instead.\n",
            "  warnings.warn(\"PySoundFile failed. Trying audioread instead.\")\n",
            "/usr/local/lib/python3.7/dist-packages/librosa/core/audio.py:162: UserWarning: PySoundFile failed. Trying audioread instead.\n",
            "  warnings.warn(\"PySoundFile failed. Trying audioread instead.\")\n",
            "/usr/local/lib/python3.7/dist-packages/librosa/core/audio.py:162: UserWarning: PySoundFile failed. Trying audioread instead.\n",
            "  warnings.warn(\"PySoundFile failed. Trying audioread instead.\")\n",
            "/usr/local/lib/python3.7/dist-packages/librosa/core/audio.py:162: UserWarning: PySoundFile failed. Trying audioread instead.\n",
            "  warnings.warn(\"PySoundFile failed. Trying audioread instead.\")\n",
            "/usr/local/lib/python3.7/dist-packages/librosa/core/audio.py:162: UserWarning: PySoundFile failed. Trying audioread instead.\n",
            "  warnings.warn(\"PySoundFile failed. Trying audioread instead.\")\n",
            "/usr/local/lib/python3.7/dist-packages/librosa/core/audio.py:162: UserWarning: PySoundFile failed. Trying audioread instead.\n",
            "  warnings.warn(\"PySoundFile failed. Trying audioread instead.\")\n",
            "/usr/local/lib/python3.7/dist-packages/librosa/core/audio.py:162: UserWarning: PySoundFile failed. Trying audioread instead.\n",
            "  warnings.warn(\"PySoundFile failed. Trying audioread instead.\")\n",
            "/usr/local/lib/python3.7/dist-packages/librosa/core/audio.py:162: UserWarning: PySoundFile failed. Trying audioread instead.\n",
            "  warnings.warn(\"PySoundFile failed. Trying audioread instead.\")\n",
            "/usr/local/lib/python3.7/dist-packages/librosa/core/audio.py:162: UserWarning: PySoundFile failed. Trying audioread instead.\n",
            "  warnings.warn(\"PySoundFile failed. Trying audioread instead.\")\n",
            "/usr/local/lib/python3.7/dist-packages/librosa/core/audio.py:162: UserWarning: PySoundFile failed. Trying audioread instead.\n",
            "  warnings.warn(\"PySoundFile failed. Trying audioread instead.\")\n",
            "/usr/local/lib/python3.7/dist-packages/librosa/core/audio.py:162: UserWarning: PySoundFile failed. Trying audioread instead.\n",
            "  warnings.warn(\"PySoundFile failed. Trying audioread instead.\")\n",
            "/usr/local/lib/python3.7/dist-packages/librosa/core/audio.py:162: UserWarning: PySoundFile failed. Trying audioread instead.\n",
            "  warnings.warn(\"PySoundFile failed. Trying audioread instead.\")\n",
            "/usr/local/lib/python3.7/dist-packages/librosa/core/audio.py:162: UserWarning: PySoundFile failed. Trying audioread instead.\n",
            "  warnings.warn(\"PySoundFile failed. Trying audioread instead.\")\n",
            "/usr/local/lib/python3.7/dist-packages/librosa/core/audio.py:162: UserWarning: PySoundFile failed. Trying audioread instead.\n",
            "  warnings.warn(\"PySoundFile failed. Trying audioread instead.\")\n",
            "/usr/local/lib/python3.7/dist-packages/librosa/core/audio.py:162: UserWarning: PySoundFile failed. Trying audioread instead.\n",
            "  warnings.warn(\"PySoundFile failed. Trying audioread instead.\")\n",
            "/usr/local/lib/python3.7/dist-packages/librosa/core/audio.py:162: UserWarning: PySoundFile failed. Trying audioread instead.\n",
            "  warnings.warn(\"PySoundFile failed. Trying audioread instead.\")\n",
            "/usr/local/lib/python3.7/dist-packages/librosa/core/audio.py:162: UserWarning: PySoundFile failed. Trying audioread instead.\n",
            "  warnings.warn(\"PySoundFile failed. Trying audioread instead.\")\n",
            "/usr/local/lib/python3.7/dist-packages/librosa/core/audio.py:162: UserWarning: PySoundFile failed. Trying audioread instead.\n",
            "  warnings.warn(\"PySoundFile failed. Trying audioread instead.\")\n",
            "/usr/local/lib/python3.7/dist-packages/librosa/core/audio.py:162: UserWarning: PySoundFile failed. Trying audioread instead.\n",
            "  warnings.warn(\"PySoundFile failed. Trying audioread instead.\")\n",
            "/usr/local/lib/python3.7/dist-packages/librosa/core/audio.py:162: UserWarning: PySoundFile failed. Trying audioread instead.\n",
            "  warnings.warn(\"PySoundFile failed. Trying audioread instead.\")\n",
            "/usr/local/lib/python3.7/dist-packages/librosa/core/audio.py:162: UserWarning: PySoundFile failed. Trying audioread instead.\n",
            "  warnings.warn(\"PySoundFile failed. Trying audioread instead.\")\n",
            "/usr/local/lib/python3.7/dist-packages/librosa/core/audio.py:162: UserWarning: PySoundFile failed. Trying audioread instead.\n",
            "  warnings.warn(\"PySoundFile failed. Trying audioread instead.\")\n",
            "/usr/local/lib/python3.7/dist-packages/librosa/core/audio.py:162: UserWarning: PySoundFile failed. Trying audioread instead.\n",
            "  warnings.warn(\"PySoundFile failed. Trying audioread instead.\")\n",
            "/usr/local/lib/python3.7/dist-packages/librosa/core/audio.py:162: UserWarning: PySoundFile failed. Trying audioread instead.\n",
            "  warnings.warn(\"PySoundFile failed. Trying audioread instead.\")\n",
            "/usr/local/lib/python3.7/dist-packages/librosa/core/audio.py:162: UserWarning: PySoundFile failed. Trying audioread instead.\n",
            "  warnings.warn(\"PySoundFile failed. Trying audioread instead.\")\n",
            "/usr/local/lib/python3.7/dist-packages/librosa/core/audio.py:162: UserWarning: PySoundFile failed. Trying audioread instead.\n",
            "  warnings.warn(\"PySoundFile failed. Trying audioread instead.\")\n",
            "/usr/local/lib/python3.7/dist-packages/librosa/core/audio.py:162: UserWarning: PySoundFile failed. Trying audioread instead.\n",
            "  warnings.warn(\"PySoundFile failed. Trying audioread instead.\")\n",
            "/usr/local/lib/python3.7/dist-packages/librosa/core/audio.py:162: UserWarning: PySoundFile failed. Trying audioread instead.\n",
            "  warnings.warn(\"PySoundFile failed. Trying audioread instead.\")\n",
            "/usr/local/lib/python3.7/dist-packages/librosa/core/audio.py:162: UserWarning: PySoundFile failed. Trying audioread instead.\n",
            "  warnings.warn(\"PySoundFile failed. Trying audioread instead.\")\n",
            "/usr/local/lib/python3.7/dist-packages/librosa/core/audio.py:162: UserWarning: PySoundFile failed. Trying audioread instead.\n",
            "  warnings.warn(\"PySoundFile failed. Trying audioread instead.\")\n",
            "/usr/local/lib/python3.7/dist-packages/librosa/core/audio.py:162: UserWarning: PySoundFile failed. Trying audioread instead.\n",
            "  warnings.warn(\"PySoundFile failed. Trying audioread instead.\")\n",
            "/usr/local/lib/python3.7/dist-packages/librosa/core/audio.py:162: UserWarning: PySoundFile failed. Trying audioread instead.\n",
            "  warnings.warn(\"PySoundFile failed. Trying audioread instead.\")\n",
            "/usr/local/lib/python3.7/dist-packages/librosa/core/audio.py:162: UserWarning: PySoundFile failed. Trying audioread instead.\n",
            "  warnings.warn(\"PySoundFile failed. Trying audioread instead.\")\n",
            "/usr/local/lib/python3.7/dist-packages/librosa/core/audio.py:162: UserWarning: PySoundFile failed. Trying audioread instead.\n",
            "  warnings.warn(\"PySoundFile failed. Trying audioread instead.\")\n",
            "/usr/local/lib/python3.7/dist-packages/librosa/core/audio.py:162: UserWarning: PySoundFile failed. Trying audioread instead.\n",
            "  warnings.warn(\"PySoundFile failed. Trying audioread instead.\")\n",
            "/usr/local/lib/python3.7/dist-packages/librosa/core/audio.py:162: UserWarning: PySoundFile failed. Trying audioread instead.\n",
            "  warnings.warn(\"PySoundFile failed. Trying audioread instead.\")\n",
            "/usr/local/lib/python3.7/dist-packages/librosa/core/audio.py:162: UserWarning: PySoundFile failed. Trying audioread instead.\n",
            "  warnings.warn(\"PySoundFile failed. Trying audioread instead.\")\n",
            "/usr/local/lib/python3.7/dist-packages/librosa/core/audio.py:162: UserWarning: PySoundFile failed. Trying audioread instead.\n",
            "  warnings.warn(\"PySoundFile failed. Trying audioread instead.\")\n",
            "/usr/local/lib/python3.7/dist-packages/librosa/core/audio.py:162: UserWarning: PySoundFile failed. Trying audioread instead.\n",
            "  warnings.warn(\"PySoundFile failed. Trying audioread instead.\")\n",
            "/usr/local/lib/python3.7/dist-packages/librosa/core/audio.py:162: UserWarning: PySoundFile failed. Trying audioread instead.\n",
            "  warnings.warn(\"PySoundFile failed. Trying audioread instead.\")\n",
            "/usr/local/lib/python3.7/dist-packages/librosa/core/audio.py:162: UserWarning: PySoundFile failed. Trying audioread instead.\n",
            "  warnings.warn(\"PySoundFile failed. Trying audioread instead.\")\n",
            "/usr/local/lib/python3.7/dist-packages/librosa/core/audio.py:162: UserWarning: PySoundFile failed. Trying audioread instead.\n",
            "  warnings.warn(\"PySoundFile failed. Trying audioread instead.\")\n",
            "/usr/local/lib/python3.7/dist-packages/librosa/core/audio.py:162: UserWarning: PySoundFile failed. Trying audioread instead.\n",
            "  warnings.warn(\"PySoundFile failed. Trying audioread instead.\")\n",
            "/usr/local/lib/python3.7/dist-packages/librosa/core/audio.py:162: UserWarning: PySoundFile failed. Trying audioread instead.\n",
            "  warnings.warn(\"PySoundFile failed. Trying audioread instead.\")\n",
            "/usr/local/lib/python3.7/dist-packages/librosa/core/audio.py:162: UserWarning: PySoundFile failed. Trying audioread instead.\n",
            "  warnings.warn(\"PySoundFile failed. Trying audioread instead.\")\n",
            "/usr/local/lib/python3.7/dist-packages/librosa/core/audio.py:162: UserWarning: PySoundFile failed. Trying audioread instead.\n",
            "  warnings.warn(\"PySoundFile failed. Trying audioread instead.\")\n",
            "/usr/local/lib/python3.7/dist-packages/librosa/core/audio.py:162: UserWarning: PySoundFile failed. Trying audioread instead.\n",
            "  warnings.warn(\"PySoundFile failed. Trying audioread instead.\")\n",
            "/usr/local/lib/python3.7/dist-packages/librosa/core/audio.py:162: UserWarning: PySoundFile failed. Trying audioread instead.\n",
            "  warnings.warn(\"PySoundFile failed. Trying audioread instead.\")\n",
            "/usr/local/lib/python3.7/dist-packages/librosa/core/audio.py:162: UserWarning: PySoundFile failed. Trying audioread instead.\n",
            "  warnings.warn(\"PySoundFile failed. Trying audioread instead.\")\n",
            "/usr/local/lib/python3.7/dist-packages/librosa/core/audio.py:162: UserWarning: PySoundFile failed. Trying audioread instead.\n",
            "  warnings.warn(\"PySoundFile failed. Trying audioread instead.\")\n",
            "/usr/local/lib/python3.7/dist-packages/librosa/core/audio.py:162: UserWarning: PySoundFile failed. Trying audioread instead.\n",
            "  warnings.warn(\"PySoundFile failed. Trying audioread instead.\")\n",
            "/usr/local/lib/python3.7/dist-packages/librosa/core/audio.py:162: UserWarning: PySoundFile failed. Trying audioread instead.\n",
            "  warnings.warn(\"PySoundFile failed. Trying audioread instead.\")\n",
            "/usr/local/lib/python3.7/dist-packages/librosa/core/audio.py:162: UserWarning: PySoundFile failed. Trying audioread instead.\n",
            "  warnings.warn(\"PySoundFile failed. Trying audioread instead.\")\n",
            "/usr/local/lib/python3.7/dist-packages/librosa/core/audio.py:162: UserWarning: PySoundFile failed. Trying audioread instead.\n",
            "  warnings.warn(\"PySoundFile failed. Trying audioread instead.\")\n",
            "/usr/local/lib/python3.7/dist-packages/librosa/core/audio.py:162: UserWarning: PySoundFile failed. Trying audioread instead.\n",
            "  warnings.warn(\"PySoundFile failed. Trying audioread instead.\")\n",
            "/usr/local/lib/python3.7/dist-packages/librosa/core/audio.py:162: UserWarning: PySoundFile failed. Trying audioread instead.\n",
            "  warnings.warn(\"PySoundFile failed. Trying audioread instead.\")\n",
            "/usr/local/lib/python3.7/dist-packages/librosa/core/audio.py:162: UserWarning: PySoundFile failed. Trying audioread instead.\n",
            "  warnings.warn(\"PySoundFile failed. Trying audioread instead.\")\n",
            "/usr/local/lib/python3.7/dist-packages/librosa/core/audio.py:162: UserWarning: PySoundFile failed. Trying audioread instead.\n",
            "  warnings.warn(\"PySoundFile failed. Trying audioread instead.\")\n",
            "/usr/local/lib/python3.7/dist-packages/librosa/core/audio.py:162: UserWarning: PySoundFile failed. Trying audioread instead.\n",
            "  warnings.warn(\"PySoundFile failed. Trying audioread instead.\")\n",
            "/usr/local/lib/python3.7/dist-packages/librosa/core/audio.py:162: UserWarning: PySoundFile failed. Trying audioread instead.\n",
            "  warnings.warn(\"PySoundFile failed. Trying audioread instead.\")\n",
            "/usr/local/lib/python3.7/dist-packages/librosa/core/audio.py:162: UserWarning: PySoundFile failed. Trying audioread instead.\n",
            "  warnings.warn(\"PySoundFile failed. Trying audioread instead.\")\n",
            "/usr/local/lib/python3.7/dist-packages/librosa/core/audio.py:162: UserWarning: PySoundFile failed. Trying audioread instead.\n",
            "  warnings.warn(\"PySoundFile failed. Trying audioread instead.\")\n",
            "/usr/local/lib/python3.7/dist-packages/librosa/core/audio.py:162: UserWarning: PySoundFile failed. Trying audioread instead.\n",
            "  warnings.warn(\"PySoundFile failed. Trying audioread instead.\")\n",
            "/usr/local/lib/python3.7/dist-packages/librosa/core/audio.py:162: UserWarning: PySoundFile failed. Trying audioread instead.\n",
            "  warnings.warn(\"PySoundFile failed. Trying audioread instead.\")\n",
            "/usr/local/lib/python3.7/dist-packages/librosa/core/audio.py:162: UserWarning: PySoundFile failed. Trying audioread instead.\n",
            "  warnings.warn(\"PySoundFile failed. Trying audioread instead.\")\n",
            "/usr/local/lib/python3.7/dist-packages/librosa/core/audio.py:162: UserWarning: PySoundFile failed. Trying audioread instead.\n",
            "  warnings.warn(\"PySoundFile failed. Trying audioread instead.\")\n",
            "/usr/local/lib/python3.7/dist-packages/librosa/core/audio.py:162: UserWarning: PySoundFile failed. Trying audioread instead.\n",
            "  warnings.warn(\"PySoundFile failed. Trying audioread instead.\")\n",
            "/usr/local/lib/python3.7/dist-packages/librosa/core/audio.py:162: UserWarning: PySoundFile failed. Trying audioread instead.\n",
            "  warnings.warn(\"PySoundFile failed. Trying audioread instead.\")\n",
            "/usr/local/lib/python3.7/dist-packages/librosa/core/audio.py:162: UserWarning: PySoundFile failed. Trying audioread instead.\n",
            "  warnings.warn(\"PySoundFile failed. Trying audioread instead.\")\n",
            "/usr/local/lib/python3.7/dist-packages/librosa/core/audio.py:162: UserWarning: PySoundFile failed. Trying audioread instead.\n",
            "  warnings.warn(\"PySoundFile failed. Trying audioread instead.\")\n",
            "/usr/local/lib/python3.7/dist-packages/librosa/core/audio.py:162: UserWarning: PySoundFile failed. Trying audioread instead.\n",
            "  warnings.warn(\"PySoundFile failed. Trying audioread instead.\")\n",
            "/usr/local/lib/python3.7/dist-packages/librosa/core/audio.py:162: UserWarning: PySoundFile failed. Trying audioread instead.\n",
            "  warnings.warn(\"PySoundFile failed. Trying audioread instead.\")\n",
            "/usr/local/lib/python3.7/dist-packages/librosa/core/audio.py:162: UserWarning: PySoundFile failed. Trying audioread instead.\n",
            "  warnings.warn(\"PySoundFile failed. Trying audioread instead.\")\n",
            "/usr/local/lib/python3.7/dist-packages/librosa/core/audio.py:162: UserWarning: PySoundFile failed. Trying audioread instead.\n",
            "  warnings.warn(\"PySoundFile failed. Trying audioread instead.\")\n",
            "/usr/local/lib/python3.7/dist-packages/librosa/core/audio.py:162: UserWarning: PySoundFile failed. Trying audioread instead.\n",
            "  warnings.warn(\"PySoundFile failed. Trying audioread instead.\")\n",
            "/usr/local/lib/python3.7/dist-packages/librosa/core/audio.py:162: UserWarning: PySoundFile failed. Trying audioread instead.\n",
            "  warnings.warn(\"PySoundFile failed. Trying audioread instead.\")\n",
            "/usr/local/lib/python3.7/dist-packages/librosa/core/audio.py:162: UserWarning: PySoundFile failed. Trying audioread instead.\n",
            "  warnings.warn(\"PySoundFile failed. Trying audioread instead.\")\n",
            "/usr/local/lib/python3.7/dist-packages/librosa/core/audio.py:162: UserWarning: PySoundFile failed. Trying audioread instead.\n",
            "  warnings.warn(\"PySoundFile failed. Trying audioread instead.\")\n",
            "/usr/local/lib/python3.7/dist-packages/librosa/core/audio.py:162: UserWarning: PySoundFile failed. Trying audioread instead.\n",
            "  warnings.warn(\"PySoundFile failed. Trying audioread instead.\")\n",
            "/usr/local/lib/python3.7/dist-packages/librosa/core/audio.py:162: UserWarning: PySoundFile failed. Trying audioread instead.\n",
            "  warnings.warn(\"PySoundFile failed. Trying audioread instead.\")\n",
            "/usr/local/lib/python3.7/dist-packages/librosa/core/audio.py:162: UserWarning: PySoundFile failed. Trying audioread instead.\n",
            "  warnings.warn(\"PySoundFile failed. Trying audioread instead.\")\n",
            "/usr/local/lib/python3.7/dist-packages/librosa/core/audio.py:162: UserWarning: PySoundFile failed. Trying audioread instead.\n",
            "  warnings.warn(\"PySoundFile failed. Trying audioread instead.\")\n",
            "/usr/local/lib/python3.7/dist-packages/librosa/core/audio.py:162: UserWarning: PySoundFile failed. Trying audioread instead.\n",
            "  warnings.warn(\"PySoundFile failed. Trying audioread instead.\")\n",
            "/usr/local/lib/python3.7/dist-packages/librosa/core/audio.py:162: UserWarning: PySoundFile failed. Trying audioread instead.\n",
            "  warnings.warn(\"PySoundFile failed. Trying audioread instead.\")\n",
            "/usr/local/lib/python3.7/dist-packages/librosa/core/audio.py:162: UserWarning: PySoundFile failed. Trying audioread instead.\n",
            "  warnings.warn(\"PySoundFile failed. Trying audioread instead.\")\n",
            "/usr/local/lib/python3.7/dist-packages/librosa/core/audio.py:162: UserWarning: PySoundFile failed. Trying audioread instead.\n",
            "  warnings.warn(\"PySoundFile failed. Trying audioread instead.\")\n",
            "/usr/local/lib/python3.7/dist-packages/librosa/core/audio.py:162: UserWarning: PySoundFile failed. Trying audioread instead.\n",
            "  warnings.warn(\"PySoundFile failed. Trying audioread instead.\")\n",
            "/usr/local/lib/python3.7/dist-packages/librosa/core/audio.py:162: UserWarning: PySoundFile failed. Trying audioread instead.\n",
            "  warnings.warn(\"PySoundFile failed. Trying audioread instead.\")\n",
            "/usr/local/lib/python3.7/dist-packages/librosa/core/audio.py:162: UserWarning: PySoundFile failed. Trying audioread instead.\n",
            "  warnings.warn(\"PySoundFile failed. Trying audioread instead.\")\n",
            "/usr/local/lib/python3.7/dist-packages/librosa/core/audio.py:162: UserWarning: PySoundFile failed. Trying audioread instead.\n",
            "  warnings.warn(\"PySoundFile failed. Trying audioread instead.\")\n",
            "/usr/local/lib/python3.7/dist-packages/librosa/core/audio.py:162: UserWarning: PySoundFile failed. Trying audioread instead.\n",
            "  warnings.warn(\"PySoundFile failed. Trying audioread instead.\")\n",
            "/usr/local/lib/python3.7/dist-packages/librosa/core/audio.py:162: UserWarning: PySoundFile failed. Trying audioread instead.\n",
            "  warnings.warn(\"PySoundFile failed. Trying audioread instead.\")\n",
            "/usr/local/lib/python3.7/dist-packages/librosa/core/audio.py:162: UserWarning: PySoundFile failed. Trying audioread instead.\n",
            "  warnings.warn(\"PySoundFile failed. Trying audioread instead.\")\n",
            "/usr/local/lib/python3.7/dist-packages/librosa/core/audio.py:162: UserWarning: PySoundFile failed. Trying audioread instead.\n",
            "  warnings.warn(\"PySoundFile failed. Trying audioread instead.\")\n",
            "/usr/local/lib/python3.7/dist-packages/librosa/core/audio.py:162: UserWarning: PySoundFile failed. Trying audioread instead.\n",
            "  warnings.warn(\"PySoundFile failed. Trying audioread instead.\")\n",
            "/usr/local/lib/python3.7/dist-packages/librosa/core/audio.py:162: UserWarning: PySoundFile failed. Trying audioread instead.\n",
            "  warnings.warn(\"PySoundFile failed. Trying audioread instead.\")\n",
            "/usr/local/lib/python3.7/dist-packages/librosa/core/audio.py:162: UserWarning: PySoundFile failed. Trying audioread instead.\n",
            "  warnings.warn(\"PySoundFile failed. Trying audioread instead.\")\n",
            "/usr/local/lib/python3.7/dist-packages/librosa/core/audio.py:162: UserWarning: PySoundFile failed. Trying audioread instead.\n",
            "  warnings.warn(\"PySoundFile failed. Trying audioread instead.\")\n",
            "/usr/local/lib/python3.7/dist-packages/librosa/core/audio.py:162: UserWarning: PySoundFile failed. Trying audioread instead.\n",
            "  warnings.warn(\"PySoundFile failed. Trying audioread instead.\")\n",
            "/usr/local/lib/python3.7/dist-packages/librosa/core/audio.py:162: UserWarning: PySoundFile failed. Trying audioread instead.\n",
            "  warnings.warn(\"PySoundFile failed. Trying audioread instead.\")\n",
            "/usr/local/lib/python3.7/dist-packages/librosa/core/audio.py:162: UserWarning: PySoundFile failed. Trying audioread instead.\n",
            "  warnings.warn(\"PySoundFile failed. Trying audioread instead.\")\n",
            "/usr/local/lib/python3.7/dist-packages/librosa/core/audio.py:162: UserWarning: PySoundFile failed. Trying audioread instead.\n",
            "  warnings.warn(\"PySoundFile failed. Trying audioread instead.\")\n",
            "/usr/local/lib/python3.7/dist-packages/librosa/core/audio.py:162: UserWarning: PySoundFile failed. Trying audioread instead.\n",
            "  warnings.warn(\"PySoundFile failed. Trying audioread instead.\")\n",
            "/usr/local/lib/python3.7/dist-packages/librosa/core/audio.py:162: UserWarning: PySoundFile failed. Trying audioread instead.\n",
            "  warnings.warn(\"PySoundFile failed. Trying audioread instead.\")\n",
            "/usr/local/lib/python3.7/dist-packages/librosa/core/audio.py:162: UserWarning: PySoundFile failed. Trying audioread instead.\n",
            "  warnings.warn(\"PySoundFile failed. Trying audioread instead.\")\n",
            "/usr/local/lib/python3.7/dist-packages/librosa/core/audio.py:162: UserWarning: PySoundFile failed. Trying audioread instead.\n",
            "  warnings.warn(\"PySoundFile failed. Trying audioread instead.\")\n",
            "/usr/local/lib/python3.7/dist-packages/librosa/core/audio.py:162: UserWarning: PySoundFile failed. Trying audioread instead.\n",
            "  warnings.warn(\"PySoundFile failed. Trying audioread instead.\")\n",
            "/usr/local/lib/python3.7/dist-packages/librosa/core/audio.py:162: UserWarning: PySoundFile failed. Trying audioread instead.\n",
            "  warnings.warn(\"PySoundFile failed. Trying audioread instead.\")\n",
            "/usr/local/lib/python3.7/dist-packages/librosa/core/audio.py:162: UserWarning: PySoundFile failed. Trying audioread instead.\n",
            "  warnings.warn(\"PySoundFile failed. Trying audioread instead.\")\n",
            "/usr/local/lib/python3.7/dist-packages/librosa/core/audio.py:162: UserWarning: PySoundFile failed. Trying audioread instead.\n",
            "  warnings.warn(\"PySoundFile failed. Trying audioread instead.\")\n",
            "/usr/local/lib/python3.7/dist-packages/librosa/core/audio.py:162: UserWarning: PySoundFile failed. Trying audioread instead.\n",
            "  warnings.warn(\"PySoundFile failed. Trying audioread instead.\")\n",
            "/usr/local/lib/python3.7/dist-packages/librosa/core/audio.py:162: UserWarning: PySoundFile failed. Trying audioread instead.\n",
            "  warnings.warn(\"PySoundFile failed. Trying audioread instead.\")\n",
            "/usr/local/lib/python3.7/dist-packages/librosa/core/audio.py:162: UserWarning: PySoundFile failed. Trying audioread instead.\n",
            "  warnings.warn(\"PySoundFile failed. Trying audioread instead.\")\n",
            "/usr/local/lib/python3.7/dist-packages/librosa/core/audio.py:162: UserWarning: PySoundFile failed. Trying audioread instead.\n",
            "  warnings.warn(\"PySoundFile failed. Trying audioread instead.\")\n",
            "/usr/local/lib/python3.7/dist-packages/librosa/core/audio.py:162: UserWarning: PySoundFile failed. Trying audioread instead.\n",
            "  warnings.warn(\"PySoundFile failed. Trying audioread instead.\")\n",
            "/usr/local/lib/python3.7/dist-packages/librosa/core/audio.py:162: UserWarning: PySoundFile failed. Trying audioread instead.\n",
            "  warnings.warn(\"PySoundFile failed. Trying audioread instead.\")\n",
            "/usr/local/lib/python3.7/dist-packages/librosa/core/audio.py:162: UserWarning: PySoundFile failed. Trying audioread instead.\n",
            "  warnings.warn(\"PySoundFile failed. Trying audioread instead.\")\n",
            "/usr/local/lib/python3.7/dist-packages/librosa/core/audio.py:162: UserWarning: PySoundFile failed. Trying audioread instead.\n",
            "  warnings.warn(\"PySoundFile failed. Trying audioread instead.\")\n",
            "/usr/local/lib/python3.7/dist-packages/librosa/core/audio.py:162: UserWarning: PySoundFile failed. Trying audioread instead.\n",
            "  warnings.warn(\"PySoundFile failed. Trying audioread instead.\")\n",
            "/usr/local/lib/python3.7/dist-packages/librosa/core/audio.py:162: UserWarning: PySoundFile failed. Trying audioread instead.\n",
            "  warnings.warn(\"PySoundFile failed. Trying audioread instead.\")\n",
            "/usr/local/lib/python3.7/dist-packages/librosa/core/audio.py:162: UserWarning: PySoundFile failed. Trying audioread instead.\n",
            "  warnings.warn(\"PySoundFile failed. Trying audioread instead.\")\n",
            "/usr/local/lib/python3.7/dist-packages/librosa/core/audio.py:162: UserWarning: PySoundFile failed. Trying audioread instead.\n",
            "  warnings.warn(\"PySoundFile failed. Trying audioread instead.\")\n",
            "/usr/local/lib/python3.7/dist-packages/librosa/core/audio.py:162: UserWarning: PySoundFile failed. Trying audioread instead.\n",
            "  warnings.warn(\"PySoundFile failed. Trying audioread instead.\")\n",
            "/usr/local/lib/python3.7/dist-packages/librosa/core/audio.py:162: UserWarning: PySoundFile failed. Trying audioread instead.\n",
            "  warnings.warn(\"PySoundFile failed. Trying audioread instead.\")\n",
            "/usr/local/lib/python3.7/dist-packages/librosa/core/audio.py:162: UserWarning: PySoundFile failed. Trying audioread instead.\n",
            "  warnings.warn(\"PySoundFile failed. Trying audioread instead.\")\n",
            "/usr/local/lib/python3.7/dist-packages/librosa/core/audio.py:162: UserWarning: PySoundFile failed. Trying audioread instead.\n",
            "  warnings.warn(\"PySoundFile failed. Trying audioread instead.\")\n",
            "/usr/local/lib/python3.7/dist-packages/librosa/core/audio.py:162: UserWarning: PySoundFile failed. Trying audioread instead.\n",
            "  warnings.warn(\"PySoundFile failed. Trying audioread instead.\")\n",
            "/usr/local/lib/python3.7/dist-packages/librosa/core/audio.py:162: UserWarning: PySoundFile failed. Trying audioread instead.\n",
            "  warnings.warn(\"PySoundFile failed. Trying audioread instead.\")\n",
            "/usr/local/lib/python3.7/dist-packages/librosa/core/audio.py:162: UserWarning: PySoundFile failed. Trying audioread instead.\n",
            "  warnings.warn(\"PySoundFile failed. Trying audioread instead.\")\n",
            "/usr/local/lib/python3.7/dist-packages/librosa/core/audio.py:162: UserWarning: PySoundFile failed. Trying audioread instead.\n",
            "  warnings.warn(\"PySoundFile failed. Trying audioread instead.\")\n",
            "/usr/local/lib/python3.7/dist-packages/librosa/core/audio.py:162: UserWarning: PySoundFile failed. Trying audioread instead.\n",
            "  warnings.warn(\"PySoundFile failed. Trying audioread instead.\")\n",
            "/usr/local/lib/python3.7/dist-packages/librosa/core/audio.py:162: UserWarning: PySoundFile failed. Trying audioread instead.\n",
            "  warnings.warn(\"PySoundFile failed. Trying audioread instead.\")\n",
            "/usr/local/lib/python3.7/dist-packages/librosa/core/audio.py:162: UserWarning: PySoundFile failed. Trying audioread instead.\n",
            "  warnings.warn(\"PySoundFile failed. Trying audioread instead.\")\n",
            "/usr/local/lib/python3.7/dist-packages/librosa/core/audio.py:162: UserWarning: PySoundFile failed. Trying audioread instead.\n",
            "  warnings.warn(\"PySoundFile failed. Trying audioread instead.\")\n",
            "/usr/local/lib/python3.7/dist-packages/librosa/core/audio.py:162: UserWarning: PySoundFile failed. Trying audioread instead.\n",
            "  warnings.warn(\"PySoundFile failed. Trying audioread instead.\")\n",
            "/usr/local/lib/python3.7/dist-packages/librosa/core/audio.py:162: UserWarning: PySoundFile failed. Trying audioread instead.\n",
            "  warnings.warn(\"PySoundFile failed. Trying audioread instead.\")\n",
            "/usr/local/lib/python3.7/dist-packages/librosa/core/audio.py:162: UserWarning: PySoundFile failed. Trying audioread instead.\n",
            "  warnings.warn(\"PySoundFile failed. Trying audioread instead.\")\n",
            "/usr/local/lib/python3.7/dist-packages/librosa/core/audio.py:162: UserWarning: PySoundFile failed. Trying audioread instead.\n",
            "  warnings.warn(\"PySoundFile failed. Trying audioread instead.\")\n",
            "/usr/local/lib/python3.7/dist-packages/librosa/core/audio.py:162: UserWarning: PySoundFile failed. Trying audioread instead.\n",
            "  warnings.warn(\"PySoundFile failed. Trying audioread instead.\")\n",
            "/usr/local/lib/python3.7/dist-packages/librosa/core/audio.py:162: UserWarning: PySoundFile failed. Trying audioread instead.\n",
            "  warnings.warn(\"PySoundFile failed. Trying audioread instead.\")\n",
            "/usr/local/lib/python3.7/dist-packages/librosa/core/audio.py:162: UserWarning: PySoundFile failed. Trying audioread instead.\n",
            "  warnings.warn(\"PySoundFile failed. Trying audioread instead.\")\n",
            "/usr/local/lib/python3.7/dist-packages/librosa/core/audio.py:162: UserWarning: PySoundFile failed. Trying audioread instead.\n",
            "  warnings.warn(\"PySoundFile failed. Trying audioread instead.\")\n",
            "/usr/local/lib/python3.7/dist-packages/librosa/core/audio.py:162: UserWarning: PySoundFile failed. Trying audioread instead.\n",
            "  warnings.warn(\"PySoundFile failed. Trying audioread instead.\")\n",
            "/usr/local/lib/python3.7/dist-packages/librosa/core/audio.py:162: UserWarning: PySoundFile failed. Trying audioread instead.\n",
            "  warnings.warn(\"PySoundFile failed. Trying audioread instead.\")\n",
            "/usr/local/lib/python3.7/dist-packages/librosa/core/audio.py:162: UserWarning: PySoundFile failed. Trying audioread instead.\n",
            "  warnings.warn(\"PySoundFile failed. Trying audioread instead.\")\n",
            "/usr/local/lib/python3.7/dist-packages/librosa/core/audio.py:162: UserWarning: PySoundFile failed. Trying audioread instead.\n",
            "  warnings.warn(\"PySoundFile failed. Trying audioread instead.\")\n",
            "/usr/local/lib/python3.7/dist-packages/librosa/core/audio.py:162: UserWarning: PySoundFile failed. Trying audioread instead.\n",
            "  warnings.warn(\"PySoundFile failed. Trying audioread instead.\")\n",
            "/usr/local/lib/python3.7/dist-packages/librosa/core/audio.py:162: UserWarning: PySoundFile failed. Trying audioread instead.\n",
            "  warnings.warn(\"PySoundFile failed. Trying audioread instead.\")\n",
            "/usr/local/lib/python3.7/dist-packages/librosa/core/audio.py:162: UserWarning: PySoundFile failed. Trying audioread instead.\n",
            "  warnings.warn(\"PySoundFile failed. Trying audioread instead.\")\n",
            "/usr/local/lib/python3.7/dist-packages/librosa/core/audio.py:162: UserWarning: PySoundFile failed. Trying audioread instead.\n",
            "  warnings.warn(\"PySoundFile failed. Trying audioread instead.\")\n",
            "/usr/local/lib/python3.7/dist-packages/librosa/core/audio.py:162: UserWarning: PySoundFile failed. Trying audioread instead.\n",
            "  warnings.warn(\"PySoundFile failed. Trying audioread instead.\")\n",
            "/usr/local/lib/python3.7/dist-packages/librosa/core/audio.py:162: UserWarning: PySoundFile failed. Trying audioread instead.\n",
            "  warnings.warn(\"PySoundFile failed. Trying audioread instead.\")\n",
            "/usr/local/lib/python3.7/dist-packages/librosa/core/audio.py:162: UserWarning: PySoundFile failed. Trying audioread instead.\n",
            "  warnings.warn(\"PySoundFile failed. Trying audioread instead.\")\n",
            "/usr/local/lib/python3.7/dist-packages/librosa/core/audio.py:162: UserWarning: PySoundFile failed. Trying audioread instead.\n",
            "  warnings.warn(\"PySoundFile failed. Trying audioread instead.\")\n",
            "/usr/local/lib/python3.7/dist-packages/librosa/core/audio.py:162: UserWarning: PySoundFile failed. Trying audioread instead.\n",
            "  warnings.warn(\"PySoundFile failed. Trying audioread instead.\")\n",
            "/usr/local/lib/python3.7/dist-packages/librosa/core/audio.py:162: UserWarning: PySoundFile failed. Trying audioread instead.\n",
            "  warnings.warn(\"PySoundFile failed. Trying audioread instead.\")\n"
          ],
          "name": "stderr"
        }
      ]
    },
    {
      "cell_type": "code",
      "metadata": {
        "colab": {
          "base_uri": "https://localhost:8080/"
        },
        "id": "jUSMP9h1XVU_",
        "outputId": "e3709d86-835d-4cf7-afbd-5f350a14b97b"
      },
      "source": [
        "testa"
      ],
      "execution_count": null,
      "outputs": [
        {
          "output_type": "execute_result",
          "data": {
            "text/plain": [
              "['\"\"\"\"\"\"\"\"\"\"\"\"\"\"\"\"\"\"\"\"\"\"\"\"\"\"\"\"\"\"\"\"\"\"\"\"\"ee\"\"\"b\"\"\"\"\"\"\"\"\"\"\"\"\"\"\"\"\"\"\"\"\"\"\"\"e\"ét\" \"\"\"\"\"\" \"\"\"\"aa\"\"tié\"\"\"n\"\"\"\"\"\"\"al\"ee',\n",
              " 'b\"a\"t\"\"n\"\"\"\"\"\"\"\"\"\"\"\"\"\"\"\"\"\"\"\"\"\" \"\"\"\"l\"\"\"\"\"\"\"\"\"dar\"\"\"',\n",
              " 'ci\"\"mi\"\"ss\"\"\"\"\"\"\"\"\"\"\"\"ee \"\"i\"\"\"\"\"\"\"\"\"\"\"\"\"\"\"\"\"\"\"\"\"\"\"\"\"\"\"\"\"\"\"\"\"\"\"\"\"\"\"e\"\"\"\"\"\"\"\"l\"\" \"e\"\"\"\"mati\"\"',\n",
              " 'pa\"rki\"\"\"\"\"\"\"\"\"\"\"\"\"\"\"\"\"\"\"\"\"\"\"\"\"\"\"\"\"\"\"\"\"\"\"\"\"\"sar\"\"e',\n",
              " '\"\"\"\"r\"o\"\"\"\"\"\"\"\"\"\"\"\"\"\"\"\"\"\"\"\"\"\"\"\"\"\"\"\"\"\"\"\"\"\"\"\" \"\"o\"\"\"\" \"\"\"\"\"\"yas\"\"f',\n",
              " 'bo\"\"\"io\"\"\"\"c\"\"l\"\"\"\"\"\"\"\"e\"\"\"\"\"\"\"\"\"\"\"\"\"\"\" \"\"o\"\"\"\"\"\"e \"\"\"\"ak\"n\"',\n",
              " 'bo\"\"\"io\"\"\"\"c\"\"l\"\"\"\"\"\"\"\"e\"\"\"\"\"\"\"\"\"\"\"\"\"\"\" \"\"o\"\"\"\"\"\"e \"\"\"\"ak\"n\"',\n",
              " 'r\"u\"t\"\"\"\"\" \"\"\"\"\"\"\"\"\"\"\"\"\"\"\"\"\"\"\"\"\"\"\"\"\"\"\"\"\"\"\"\"\"our\"\"\"\"\" \"\"\"bok\"\"\"',\n",
              " '\"a\"\"\"i\"\"\"\" c\"\"\"\"\"\"\"\"\"\"\"\"\"\"\"\"\"\"\" \"\"o\"\"\"\" \"\"\"\"\"\"bo\"\"\"r',\n",
              " '\"\"a\"m\"\"\"\"\"\"\"\"\"\"\"\"\"\"\"\"\"\"\"\"\"\"\"\"\"\"\"\"\"\"\"\"\"\"\"\"\"\"\"\"\"\"\"\"\"\"zin\"\"e',\n",
              " 't\"u\"\"\"\"\"\"\"\"\"\"\"\"\"\"\"\"\"\"\"\"\"\"\"\"\"\"\"\"\" \"\"\"\"\"\"\"\"\"\"\"\"\"\"\"\"e\"\"\"\"\"\"\"\"r\"\"sasq\"e',\n",
              " 'b\"a\"\"\"\"n \"\"\"\"\"\"\"\"\"\"\"\"\"\"\"\"\"\"\"\"\"\"\"\"\"\"\"\"\"\"\"\"\"\"\"\"\"\"\"\"\"\" r\"\"\"ak\"\"e',\n",
              " 'g\"a\"\"i\"\"\"\"\"\"\"\"\"\"\"e\" \"\"\"\"\"\"\"\"\"\"\"\"\"\"\"\"o\"r\"\"\"\"\" d\"\"yas\"\"e',\n",
              " 'c\"\"r\"\"\"\"\"\"\"\"e\"\"\"\"\"\"\"\"\"\"\"\"\"\"\"\"\"ko\"\"\"\"\"\"\" \"\"\"sau\"\"\"',\n",
              " 'bo\"\"\"io\"\"\"\"c\"\"l\"\"\"\"\"\"\"\"e\"\"\"\"\"\"\"\"\"\"\"\"\"\"\" \"\"o\"\"\"\"\"\"e \"\"\"\"ak\"n\"',\n",
              " 'cea\" p\"\"\"\" ch\"é\"\"e\"\"\"o\"\"\"y\"\"a\"\"\" bik\"\"e',\n",
              " 's\"s\"\"\"\"\"\"\"\"\"\"\"\"\"n\"\"\"i\"\"e\"\"\"\"\"\"\"\"\"\"\"\"\"\"\"\"\"\"\"\"\"\"\"\"\"\"\"\"\"\"\"\"\"\"\"\"\"\"\"\"\"\"\"ee\"te \"\" d\"  an\"aa',\n",
              " '\"\"\"\"r\"o\"\"\"\"\"\"\"\"\"\"\"\"\"\"\"\"\"\"\"\"\"\"\"\"\"\"\"\"\"\"\"\"\"\"\"\" \"\"o\"\"\"\" \"\"\"\"\"\"yas\"\"f',\n",
              " 's\"\"\"tio\"\"\"\"\"\"\"\"\"\"\"\"\"\"\"\"\"\"\" \"\"ou\"\"\"\"\"\"\"\"\"\"\"ik\"ae',\n",
              " 't\"u\"\"\"\"\"\"\"\"\"\"\"\"\"\"\"\"\"\"\"\"\"\"\"\"\"\"\"\"\" \"\"\"\"\"\"\"\"\"\"\"\"\"\"\"\"e\"\"\"\"\"\"\"\"r\"\"sasq\"e',\n",
              " 'p\"\"\"m\"\"\"\"\" \"\"\"\"\"\"\"\"\"\"\"\"e \"\"p\"r\"\" \"\" \"\"\"\"a\"\"\"e',\n",
              " 'cen\"t\"\"\"\"\" \"o\"\"\"\"o\"\"\"\"\"\"\"l\"\"\"\"\"\"\"\"\"\"\"\"\"\"\"\"\"\"w\"\"\"\"\" \"\"p\"\"\"\"\"\"\"\"\"\"mzat\"\"t',\n",
              " '\"a\"\"\"i\"\"\"\" c\"\"\"\"\"\"\"\"\"\"\"\"\"\"\"\"\"\"\" \"\"o\"\"\"\" \"\"\"\"\"\"bo\"\"\"r',\n",
              " 's\"\"\"tio\"\"\"\"\"\"\"\"\"\"\"\"\"\"\"\"\"\"\" \"\"ou\"\"\"\"\"\"\"\"\"\"\"ik\"ae',\n",
              " 'p\"\"\"m\"\"\"\"\" \"\"\"\"\"\"\"\"\"\"\"\"e \"\"p\"r\"\" \"\" \"\"\"\"a\"\"\"e',\n",
              " '\"\"\"\"r\"o\"\"\"\"\"\"\"\"\"\"\"\"\"\"\"\"\"\"\"\"\"\"\"\"\"\"\"\"\"\"\"\"\"\"\"\" \"\"o\"\"\"\" \"\"\"\"\"\"yas\"\"f',\n",
              " 'b\"\"r\"\"o\"\"\"\"\"\"\"\"\"\"\"\"\"\"\"\"\"\"\"\"\"\"\"\"\"\"\"\"\"\"\"\"\"\"\"\"\"\"\"\"o\"\"\"\"\"\"\"\"bu\"kss\"\"m',\n",
              " '\"\"a\"m\"\"\"\"\"\"\"\"\"\"\"\"\"\"\"\"\"\"\"\"\"\"\"\"\"\"\"\"\"\"\"\"\"\"\"\"\"\"\"\"\"\"\"\"\"\"zin\"\"e',\n",
              " '\"a\"\"\"i\"\"\"\" c\"\"\"\"\"\"\"\"\"\"\"\"\"\"\"\"\"\"\" \"\"o\"\"\"\" \"\"\"\"\"\"bo\"\"\"r',\n",
              " 'pa\"rki\"\"\"\"\"\"\"\"\"\"\"\"\"\"\"\"\"\"\"\"\"\"\"\"\"\"\"\"\"\"\"\"\"\"\"\"\"\"sar\"\"e',\n",
              " 'b\"a\"\"\"\"n \"\"\"\"\"\"\"\"\"\"\"\"\"\"\"\"\"\"\"\"\"\"\"\"\"\"\"\"\"\"\"\"\"\"\"\"\"\"\"\"\"\" r\"\"\"ak\"\"e',\n",
              " 'p\"\"\"m\"\"\"\"\" \"\"\"\"\"\"\"\"\"\"\"\"e \"\"p\"r\"\" \"\" \"\"\"\"a\"\"\"e',\n",
              " 't\"\"\"m\"\"\"\"\" y\"\"\"\"\"\"\"\"\"\"\"\"\"\"\"\"\"\"\"w\"\"\"\"\"\"\"\"\"\"\"\"\"\"\"\"\"\"u zal\"ar',\n",
              " '\"\"\"r\"n\"\"\"i\"\"e\"r\"\"\"\"\"\" \"\"\"\"\"\"\"\"\"\"\"\"\"\"\"\"\" \"\"\"\"\"\"\"\"\"\"\"\"\"\"\"\"a\"r\"\"\"\"\"\"\"u\"\"ét\"\"\"',\n",
              " 'p\"\"\"m\"\"\"\"\" \"\"\"\"\"\"\"\"\"\"\"\"e \"\"p\"r\"\" \"\" \"\"\"\"a\"\"\"e',\n",
              " 'di\"\"\"\"\"\"\"\"\"\"\"\"\"\"\"\"\"\"\"\"\"\"\"\"\"\"\"\"e\"\"\"\"\"\"\"\"\"\"\"din\"\"r',\n",
              " '\"\"\"r\"n\"\"\"i\"\"e\"r\"\"\"\"\"\" \"\"\"\"\"\"\"\"\"\"\"\"\"\"\"\"\" \"\"\"\"\"\"\"\"\"\"\"\"\"\"\"\"a\"r\"\"\"\"\"\"\"u\"\"ét\"\"\"',\n",
              " 'c\"\"r\"\"\"\"\"\"\"\"e\"\"\"\"\"\"\"\"\"\"\"\"\"\"\"\"\"ko\"\"\"\"\"\"\" \"\"\"sau\"\"\"',\n",
              " 'b\"a\"\"\"\"n \"\"\"\"\"\"\"\"\"\"\"\"\"\"\"\"\"\"\"\"\"\"\"\"\"\"\"\"\"\"\"\"\"\"\"\"\"\"\"\"\"\" r\"\"\"ak\"\"e',\n",
              " 'r\"s\"ta\"\"d\"\"\"\"\"\"\"\"\"\"\"\"\"\"\"\"\"\"\"\"\"\"\"\"\"\"\"\"\"\"\"\"\"\"\"\"\"\"\"\"\"\"\" \"\"\"\"\"\"\"\"\"\"\"\"\"\"dis\"e\"',\n",
              " 'co\"\"\"\"\"\"\"\"\"\"\"\"\"\"\"\"\"\" \"\"\"\"\"\"\"\"\"\"\"\"\"\"\"\"o\"\"\"\"\"\"\"\"\"\"\"\"at\"ne',\n",
              " 'si\"\"m\"\"\"\"\"\"\"\"\"\"\"\"\"\"seem\"\"i\"\"\"\"\"\"\"\"\"\"\"\"\"\"\"\"\"\"\"\"\"\"\"\"\"\"\"\"\"\"\"\"\"\"\"\"\"\"\"\"\"ee tc\"\"\"\"a\"   n\"\"aat\"tt',\n",
              " '\"\"a\"m\"\"\"\"\"\"\"\"\"\"\"\"\"\"\"\"\"\"\"\"\"\"\"\"\"\"\"\"\"\"\"\"\"\"\"\"\"\"\"\"\"\"\"\"\"\"zin\"\"e',\n",
              " 'gi\"\"\"a\"\"\"y\"\"\"\"\"\"\"\"\"\"\" \"\"\"\"\"\"\"\"\"\"\"\"\"\"\"ke\"\"\"\"\"\"a\"\"\"\"saz\"\"\"',\n",
              " 'c\"\"r\"\"\"\"\"\"\"\"e\"\"\"\"\"\"\"\"\"\"\"\"\"\"\"\"\"ko\"\"\"\"\"\"\" \"\"\"sau\"\"\"',\n",
              " 'b\"a\"\"\"\"n \"\"\"\"\"\"\"\"\"\"\"\"\"\"\"\"\"\"\"\"\"\"\"\"\"\"\"\"\"\"\"\"\"\"\"\"\"\"\"\"\"\" r\"\"\"ak\"\"e',\n",
              " 'ci\"\"mi\"\"ss\"\"\"\"\"\"\"\"\"\"\"\"ee \"\"i\"\"\"\"\"\"\"\"\"\"\"\"\"\"\"\"\"\"\"\"\"\"\"\"\"\"\"\"\"\"\"\"\"\"\"\"\"\"\"e\"\"\"\"\"\"\"\"l\"\" \"e\"\"\"\"mati\"\"',\n",
              " 'de\"\"\"i\"\"\"\"\"\"\"\"\"\"\"\"\"\"\"\"\"\" \"\"\"\"\"\"\"\"\"\"\"\"\"\"\"\"o\"\"\"\"\"\"\"\"\"\"\"ba\"\"\"e',\n",
              " 's\"\"\"\"\"o\"\"\"\"\"u\"\"\"mb\"\"\"\"\"\"\"\" \"\"\"kan\"ne',\n",
              " 'si\"\"m\"\"\"\"\"\"\"\"\"\"\"se\"t\"\"i\"\"\"\"\"\"\"\"\"\"\"\"\"\"\"\"\"\"\"\"\"\"\"\"\"\"\"\"\" \"\"\"\"\"\"\"\"\"\"\"\"\"\"\"\"\"\"c\"\"\"\"a\"\" \"pa\"aam',\n",
              " 'pa\"rki\"\"\"\"\"\"\"\"\"\"\"\"\"\"\"\"\"\"\"\"\"\"\"\"\"\"\"\"\"\"\"\"\"\"\"\"\"\"sar\"\"e',\n",
              " 's\"\"\"\"\"o\"\"\"\"\"u\"\"\"mb\"\"\"\"\"\"\"\" \"\"\"kan\"ne',\n",
              " 't\"\"\"\"\"on\"\"\"\"\"\"\"\"\"\"\"\"\"\"\"\"\"\"\"\"\"\"\"\"\"\"\"\"\"\"\"ok\"\"e',\n",
              " 'gi\"\"\"a\"\"\"y\"\"\"\"\"\"\"\"\"\"\" \"\"\"\"\"\"\"\"\"\"\"\"\"\"\"ke\"\"\"\"\"\"a\"\"\"\"saz\"\"\"',\n",
              " 'gi\"\"\"a\"\"\"y\"\"\"\"\"\"\"\"\"\"\" \"\"\"\"\"\"\"\"\"\"\"\"\"\"\"ke\"\"\"\"\"\"a\"\"\"\"saz\"\"\"',\n",
              " '\"\"\"\"r\"o\"\"\"\"\"\"\"\"\"\"\"\"\"\"\"\"\"\"\"\"\"\"\"\"\"\"\"\"\"\"\"\"\"\"\"\" \"\"o\"\"\"\" \"\"\"\"\"\"yas\"\"f',\n",
              " '\"\"\"\"\"\"\"\"\"\"\"\"\"\"\"\"\"\"\"\"\"\"\"\"\"\"\"\"\"\"\"\"\"\"\"\"\"\"\"\"\"\"\"\"\"\"\"\"\"\"\"\"\"\"\"\"\"\"\"\"\"\"\"\"\"\"\"\"\"\"\"\"\"\"\"\"\"\"\"\"\"\"\"\"\"\"\"ett\"\"b\"\"\"\"\"\"\"\"\"\"l\"\"e\"\"\"el\"e\"\"\"è\"ee\"\"\"\"\"\"\"\"\"\"\"\"\"\"\"\"\"\"e\"\"\"\"\"\"e\"\"\"\"\"a\"\"\"e',\n",
              " 'si\"\"mp\"n \"\"\"\"\"\"\"\"\"\"\"\"\"\"\"b\"\"c\"\"\"\"\"\"\"e\"ka\"\"\"t',\n",
              " 'taa\" cveun\"y\"\"\"\"se\"son\"es',\n",
              " 's\"s\"\"\"\"\"\"\"\"\"\"\"\"\"ee\"\"\"d\"\"\"\"\"\"\"\"\"\"\"\"\"\"\"\"\"\"\"\"\"\"\"\"\"\"\"\"\" \"\"\"\"\"\"\"\"\"\"\"\"\"\"\"\"e\"t\"\"\"\"\"\"\"  ca\"\"aa',\n",
              " 'gi\"\"\"a\"\"\"y\"\"\"\"\"\"\"\"\"\"\" \"\"\"\"\"\"\"\"\"\"\"\"\"\"\"ke\"\"\"\"\"\"a\"\"\"\"saz\"\"\"',\n",
              " 's\"\"\"tio\"\"\"\"\"\"\"\"\"\"\"\"\"\"\"\"\"\"\" \"\"ou\"\"\"\"\"\"\"\"\"\"\"ik\"ae',\n",
              " 'pa\"rki\"\"\"\"\"\"\"\"\"\"\"\"\"\"\"\"\"\"\"\"\"\"\"\"\"\"\"\"\"\"\"\"\"\"\"\"\"\"sar\"\"e',\n",
              " 'di\"\"\"\"\"\"\"\"\"\"\"\"\"\"\"\"\"\"\"\"\"\"\"\"\"\"\"\"e\"\"\"\"\"\"\"\"\"\"\"din\"\"r',\n",
              " '\"h\"\"mi\"\"\"\"\"\"e\"\"fi\"\"\"\" m\"\"xc\"\"\"\"w \"\"\"dir\"\"e',\n",
              " '\"\"\"r\"n\"\"\"i\"\"e\"r\"\"\"\"\"\" \"\"\"\"\"\"\"\"\"\"\"\"\"\"\"\"\" \"\"\"\"\"\"\"\"\"\"\"\"\"\"\"\"a\"r\"\"\"\"\"\"\"u\"\"ét\"\"\"',\n",
              " 'b\"a\"\"\"\"n \"\"\"\"\"\"\"\"\"\"\"\"\"\"\"\"\"\"\"\"\"\"\"\"\"\"\"\"\"\"\"\"\"\"\"\"\"\"\"\"\"\" r\"\"\"ak\"\"e',\n",
              " 'pa\"rki\"\"\"\"\"\"\"\"\"\"\"\"\"\"\"\"\"\"\"\"\"\"\"\"\"\"\"\"\"\"\"\"\"\"\"\"\"\"sar\"\"e',\n",
              " 'r\"u\"t\"\"\"\"\" \"\"\"\"\"\"\"\"\"\"\"\"\"\"\"\"\"\"\"\"\"\"\"\"\"\"\"\"\"\"\"\"\"our\"\"\"\"\" \"\"\"bok\"\"\"',\n",
              " 'p\"\"\"m\"\"\"\"\" \"\"\"\"\"\"\"\"\"\"\"\"e \"\"p\"r\"\" \"\" \"\"\"\"a\"\"\"e',\n",
              " 'c\"\"\"mi\"\"\"ss\"\"\"\"\"\"\"\"\"\"\"\"e\"\"\"\"i\"\"\"\"\"\"\"\"\"\"\"\"\"\"\"\"\"\"\"\"\"\"\"\"\"\"\"\"\"\"\"\"\"\"\"\"\"\"\"e\"\"e \"\"o\"\"\" \"ne\"\"\"m\"atè\"è',\n",
              " 'r\"u\"t\"\"\"\"\" \"\"\"\"\"\"\"\"\"\"\"\"\"\"\"\"\"\"\"\"\"\"\"\"\"\"\"\"\"\"\"\"\"our\"\"\"\"\" \"\"\"bok\"\"\"',\n",
              " 'co\"\"\"\"\"\"\"\"\"\"\"\"\"\"\"\"\"\" \"\"\"\"\"\"\"\"\"\"\"\"\"\"\"\"o\"\"\"\"\"\"\"\"\"\"\"\"at\"ne',\n",
              " 's\"\"\"tio\"\"\"\"\"\"\"\"\"\"\"\"\"\"\"\"\"\"\" \"\"ou\"\"\"\"\"\"\"\"\"\"\"ik\"ae',\n",
              " 're\"r\"\"\"n\"\" \"h\"\"\"\"\"\"\"\"\"\"\"\"x\"\"\"\"\"\"\"\"\"\"\"\"\"\"\"\"\"\"\"o\"l\"\"\"\"\"\"\"\"\"sak\"\"f',\n",
              " 'r\"u\"t\"\"\"\"\" \"\"\"\"\"\"\"\"\"\"\"\"\"\"\"\"\"\"\"\"\"\"\"\"\"\"\"\"\"\"\"\"\"our\"\"\"\"\" \"\"\"bok\"\"\"',\n",
              " '\"\"\"\"r\"o\"\"\"\"\"\"\"\"\"\"\"\"\"\"\"\"\"\"\"\"\"\"\"\"\"\"\"\"\"\"\"\"\"\"\"\" \"\"o\"\"\"\" \"\"\"\"\"\"yas\"\"f',\n",
              " '\"o\"\"\"\"\"\"ee \"\"b\"\"\"\"\"\"\"\"\"\"\"\"\"\"\"\"\"\"\"\"\"\"\"\"\"\"\"\"\"\"\"\"\"\"\"\"\"\"\"\"\"\"\"\"\"ke\"\"\"\"\"\"e\"\"\"\"sa\"\"a\"',\n",
              " 'di\"r\"\"\"\"\"\"\"\"u\"\"\"\"\"\"\"\"\"\"\"\"\"\"\"\"\"\"\"\"\"\"\"\"\"\"\"\"\"\"\"\"\"\"\"o\"\"\"\"\"\"\"\"\"\"\"baf\"\"\"',\n",
              " 'si\"\"m\"\"\"\"\"\"\"\"\"\"\"se\"t\"\"i\"\"\"\"\"\"\"\"\"\"\"\"\"\"\"\"\"\"\"\"\"\"\"\"\"\"\"\"\" \"\"\"\"\"\"\"\"\"\"\"\"\"\"\"\"\"\"c\"\"\"\"a\"\" \"pa\"aam',\n",
              " '\"\"\"\"\"\"\"\"\"\"e\"m\"\"b\"\"\"\"\"\"\"\"\"\"\"\"\"\"\"\"\"\"\"\"\"\"\"\"\"\"\"\"\"\"\"\"\"\"\"\"\"\"\"\"\"\"\"\"\"\"\"i\"\"\"\"e\"\"\"\"\"zak\"\" ',\n",
              " 'pa\"rki\"\"\"\"\"\"\"\"\"\"\"\"\"\"\"\"\"\"\"\"\"\"\"\"\"\"\"\"\"\"\"\"\"\"\"\"\"\"sar\"\"e',\n",
              " 's\"\"\"\"\"\"\"\"\"\"\"\"\"\"\"go\"n\"\"\"\"\"\"\"\"\"yow\"\"t',\n",
              " 'cen\"t\"\"\"\"\" \"o\"\"\"\"o\"\"\"\"\"\"\"l\"\"\"\"\"\"\"\"\"\"\"\"\"\"\"\"\"\"w\"\"\"\"\" \"\"p\"\"\"\"\"\"\"\"\"\"mzat\"\"t',\n",
              " 'pia\"k\"\"\"\"\"\"\"i\"\"\"n\"\"\"o\"c\"\"\"\"\"\"\"u\"bat\"\"e',\n",
              " 'si\"\"m\"\"\"\"\"\"\"\"\"\"\"\"\"ee \"\"b\"\"\"\"\"\"\"\"\"\"\"\"\"\"\"\"\"\"\"\"\"\"\"\"\"\"\"\"\"\"\"\"\"\"\"\"\"\"\"\"\"\"\"\"\"\"tu\"\"\" a\"  \"n\"aaaa\"',\n",
              " 's\"\"\"\"\"\"\"\"\"\"\"\"\"\"\"go\"n\"\"\"\"\"\"\"\"\"yow\"\"t',\n",
              " '\"\"\"r\"cen \"\"b\"\"\"\"\"o\"\"\"\"\"\"\"\"\"\"\"\"\"w\"\"\"\"\"\"\"\"\"\"\"\"\"\"\"\"\"\"\"\"\"\"\"\"\"\"e\"\"\"\"\"m\"\"ee tss\"\"l',\n",
              " '\"a\"\"\"i\"\"\"\" c\"\"\"\"\"\"\"\"\"\"\"\"\"\"\"\"\"\"\" \"\"o\"\"\"\" \"\"\"\"\"\"bo\"\"\"r',\n",
              " 'di\"r\"\"\"\"\"\"\"\"u\"\"\"\"\"\"\"\"\"\"\"\"\"\"\"\"\"\"\"\"\"\"\"\"\"\"\"\"\"\"\"\"\"\"\"o\"\"\"\"\"\"\"\"\"\"\"baf\"\"\"',\n",
              " 'di\"r\"\"\"\"\"\"\"\"u\"\"\"\"\"\"\"\"\"\"\"\"\"\"\"\"\"\"\"\"\"\"\"\"\"\"\"\"\"\"\"\"\"\"\"o\"\"\"\"\"\"\"\"\"\"\"baf\"\"\"',\n",
              " 'de\"\"\"i\"\"\"\"\"\"\"\"\"\"\"\"\"\"\"\"\"\" \"\"\"\"\"\"\"\"\"\"\"\"\"\"\"\"o\"\"\"\"\"\"\"\"\"\"\"ba\"\"\"e',\n",
              " 'cea\" p\"\"\"\" ch\"é\"\"e\"\"\"o\"\"\"y\"\"a\"\"\" bik\"\"e',\n",
              " 'r\"u\"t\"\"\"\"\" \"\"\"\"\"\"\"\"\"\"\"\"\"\"\"\"\"\"\"\"\"\"\"\"\"\"\"\"\"\"\"\"\"our\"\"\"\"\" \"\"\"bok\"\"\"',\n",
              " 't\"u\"\"\"\"\"\"\"\"\"\"\"\"\"\"\"\"\"\"\"\"\"\"\"\"\"\"\"\"\" \"\"\"\"\"\"\"\"\"\"\"\"\"\"\"\"e\"\"\"\"\"\"\"\"r\"\"sasq\"e',\n",
              " 'pa\"rki\"\"\"\"\"\"\"\"\"\"\"\"\"\"\"\"\"\"\"\"\"\"\"\"\"\"\"\"\"\"\"\"\"\"\"\"\"\"sar\"\"e',\n",
              " 'p\"\"\"m\"\"\"\"\" \"\"\"\"\"\"\"\"\"\"\"\"e \"\"p\"r\"\" \"\" \"\"\"\"a\"\"\"e',\n",
              " '\"\"\"\"\"\"\"\"\"\"\"\"\"\"\"\"\"\"\"\"\"\"\"\"\"\"\"\"\"\"\"\"\"\"\"\"\"\"\"\"\"\"\"\"\"\"\"\"\"\"\"\"\"\"\"\"\"\"\"\"\"\"\"\"\"\"\"\"\"\"\"\"\"\"\"\"a\"\" \"\"\"\"\"a\"\"\"\"\"\"\"\"\"\"\"\"\"\"\"\"\"\"\"\"\"\"\"\"\"\"\"\"eee\"\"b\"\"e\"\"\"\"\"\"\"\"\"\"\"\"\"\"\"\"\"\"\"\"\"è\"\"\"\"\"\"\"\"\"\"\"\"\"\"\"\"\"\"\"\"\"e\"l\"e\"\"e\"\"e\"\"a\"\"\"e',\n",
              " 'b\"a\"t\"\"n\"\"\"\"\"\"\"\"\"\"\"\"\"\"\"\"\"\"\"\"\"\" \"\"\"\"l\"\"\"\"\"\"\"\"\"dar\"\"\"',\n",
              " '\"\"\"\"\"\"\"\"reec\"\"\"\"\"e\"\"\"\"\"\"\"l\"\"\"\"\"\"\"\"\"\"\"\"\"\"\"\"\"\"\"\"\"\"\"\"\"\"\"\"\"\"\"\"\"\"\"\"\"\"\"\"\"ee de zola\"r',\n",
              " 's\"\"\"tio\"\"\"\"\"\"\"\"\"\"\"\"\"\"\"\"\"\"\" \"\"ou\"\"\"\"\"\"\"\"\"\"\"ik\"ae',\n",
              " 'de\"\"\"i\"\"\"\"\"\"\"\"\"\"\"\"\"\"\"\"\"\" \"\"\"\"\"\"\"\"\"\"\"\"\"\"\"\"o\"\"\"\"\"\"\"\"\"\"\"ba\"\"\"e',\n",
              " '\"\"\"\"\"\"\"\"\"\"\"\"\"\"\"\"\"\"\"\"\"\"\"\"\"\"\"\"\"\"\"\"\"\"\"\"\"\"\"\"\"\"\"\"\"\"\"\"\"\"\"\"\"\"\"b\"\"\"\"\"\"\"\"\"\"\"\"\"\"t\"\"\"\"\"a\"\" \"\"\"\"a\"\"\"t\"\"\"\"èè\"\"\"\"\"\"\"e\"l\"e\"ee\"ee\"\"al\"ee',\n",
              " 'bo\"\"\"io\"\"\"\"c\"\"l\"\"\"\"\"\"\"\"e\"\"\"\"\"\"\"\"\"\"\"\"\"\"\" \"\"o\"\"\"\"\"\"e \"\"\"\"ak\"n\"',\n",
              " '\"\"\"\"\"\"\"\"\"\"\"\"\"\"\"\"\"\"\"\"\"\"\"\"\"\"\"\"\"\"\"\"\"\"\"\"\"\"\"\"\"\"\"\"\"\"\"\"\"e\" \"\"i\"\"\"\"\"\"\"\"\"\"\"\"\"e\"\"\"\"\"\"\"a\"\"è\"\"\"\"\"\"\"\"t\"è\"èè\"\"\"\"\"\"\"e\"l\"e\"ee\"ee\"\"al\"ee',\n",
              " 'gi\"\"\"a\"\"\"y\"\"\"\"\"\"\"\"\"\"\" \"\"\"\"\"\"\"\"\"\"\"\"\"\"\"ke\"\"\"\"\"\"a\"\"\"\"saz\"\"\"',\n",
              " '\"\"\"r\"cen \"\"b\"\"\"\"\"o\"\"\"\"\"\"\"\"\"\"\"\"\"w\"\"\"\"\"\"\"\"\"\"\"\"\"\"\"\"\"\"\"\"\"\"\"\"\"\"e\"\"\"\"\"m\"\"ee tss\"\"l',\n",
              " 'pia\"k\"\"\"\"\"\"\"i\"\"\"n\"\"\"o\"c\"\"\"\"\"\"\"u\"bat\"\"e',\n",
              " 'co\"\"\"\"\"\"\"\"\"\"\"\"\"\"\"\"\"\" \"\"\"\"\"\"\"\"\"\"\"\"\"\"\"\"o\"\"\"\"\"\"\"\"\"\"\"\"at\"ne',\n",
              " 't\"\"\"\"\"on\"\"\"\"\"\"\"\"\"\"\"\"\"\"\"\"\"\"\"\"\"\"\"\"\"\"\"\"\"\"\"ok\"\"e',\n",
              " '\"\"\"\"\"\"\"\"\"\"\"\"\"\"\"\"\"\"\"\"\"\"\"\"\"\"\"\"\"\"\"\"\"\"\"\"\"\"\"\"\"\"\"\"\"\"\"\"\"\"\"\"\"\"\"\"\"\"\"\"\"\"\"\"\"\"\"e\"et\"\"\"\"\"\"\"  \"\"\"\"a\"m\"\"\"\"\"\"\"\"\"\"\"\"\"\"\"\"\"\"\"\"\"eee\"\"\"\"\"\"e\"\"\"e\"\"\"e\"\"e\"\"e\"\"i\"\"\"e',\n",
              " 't\"\"\"\"\"on\"\"\"\"\"\"\"\"\"\"\"\"\"\"\"\"\"\"\"\"\"\"\"\"\"\"\"\"\"\"\"ok\"\"e',\n",
              " 's\"\"\"\"\"\"\"\"\"\"\"\"\"\"\"go\"n\"\"\"\"\"\"\"\"\"yow\"\"t',\n",
              " '\"\"\"\"\"\"\"\"\"\"\"\"\"\"\"\"s\"\"\"\"\"\"\"\"\"\"\"\"\"e\"\"\"\"i\"\"\"\"\"\"\"\"\"\"\"\"\"\"\"\"\"\"\"\"\"\"\"\"\"\"\"\"\"\"\"\"\"\"\"\"\"\"\"\"a\"\" \"ce\"\"aa\"ti\"\"\"\"\"on\"\"\"',\n",
              " 'cea\" p\"\"\"\" ch\"é\"\"e\"\"\"o\"\"\"y\"\"a\"\"\" bik\"\"e',\n",
              " 'cea\" p\"\"\"\" ch\"é\"\"e\"\"\"o\"\"\"y\"\"a\"\"\" bik\"\"e',\n",
              " 'g\"a\"\"i\"\"\"\"\"\"\"\"\"\"\"e\" \"\"\"\"\"\"\"\"\"\"\"\"\"\"\"\"o\"r\"\"\"\"\" d\"\"yas\"\"e',\n",
              " '\"\"\"\"\"\"\"\"\"\"seet\"\"i\"\"\"\"\"\"\"\"x\"\"\"\"\"\"\"\"\"\"\"\"\"\"\"\"\"\"\"\"\"\"\"\"\"\"\"\"\"\"\"\"r\"\"\"\"i\"\"\"e\"\"t\"\"\"\"da\"\"u\"',\n",
              " 'cea\" p\"\"\"\" ch\"é\"\"e\"\"\"o\"\"\"y\"\"a\"\"\" bik\"\"e',\n",
              " 'si\"\"mp\"n \"\"\"\"\"\"\"\"\"\"\"\"\"\"\"b\"\"c\"\"\"\"\"\"\"e\"ka\"\"\"t',\n",
              " '\"a\"\"\"i\"\"\"\" c\"\"\"\"\"\"\"\"\"\"\"\"\"\"\"\"\"\"\" \"\"o\"\"\"\" \"\"\"\"\"\"bo\"\"\"r',\n",
              " '\"\"\"\"r\"o\"\"\"\"\"\"\"\"\"\"\"\"\"\"\"\"\"\"\"\"\"\"\"\"\"\"\"\"\"\"\"\"\"\"\"\" \"\"o\"\"\"\" \"\"\"\"\"\"yas\"\"f',\n",
              " 'b\"\"\"\"\"\"\"\"\"\"\"\"\"\"\"\"\"\" \"\"e\"\"\"\"\"\"e \"\"\"fa\"\"\"\"',\n",
              " '\"\"a\"m\"\"\"\"\"\"\"\"\"\"\"\"\"\"\"\"\"\"\"\"\"\"\"\"\"\"\"\"\"\"\"\"\"\"\"\"\"\"\"\"\"\"\"\"\"\"zin\"\"e',\n",
              " '\"\"\"r\"n\"\"\"i\"\"e\"r\"\"\"\"\"\" \"\"\"\"\"\"\"\"\"\"\"\"\"\"\"\"\" \"\"\"\"\"\"\"\"\"\"\"\"\"\"\"\"a\"r\"\"\"\"\"\"\"u\"\"ét\"\"\"',\n",
              " '\"\"\"\"\"\"\"\"reec\"\"\"\"\"e\"\"\"\"\"\"\"l\"\"\"\"\"\"\"\"\"\"\"\"\"\"\"\"\"\"\"\"\"\"\"\"\"\"\"\"\"\"\"\"\"\"\"\"\"\"\"\"\"ee de zola\"r',\n",
              " 'b\"a\"t\"\"n\"\"\"\"\"\"\"\"\"\"\"\"\"\"\"\"\"\"\"\"\"\" \"\"\"\"l\"\"\"\"\"\"\"\"\"dar\"\"\"',\n",
              " 'b\"\"\"\"\"\"\"\"\"\"\"\"\"\"\"\"\"\" \"\"e\"\"\"\"\"\"e \"\"\"fa\"\"\"\"',\n",
              " 'pa\"rki\"\"\"\"\"\"\"\"\"\"\"\"\"\"\"\"\"\"\"\"\"\"\"\"\"\"\"\"\"\"\"\"\"\"\"\"\"\"sar\"\"e',\n",
              " '\"\"\"\"\"e\"\"\"\"b\"\"\"\"\"\"\"\"\"\"\"\"\"\"\"\"v\"\"\"\"\"\"\"\"\"\"\"\"\"\"\"\"\"\"\"\"\"\"\"\"r\"\"\"bo\"\"\"\"\"m\"\"\"e\"siu\"d\"',\n",
              " 's\"s\"\"\"\"\"\"\"\"\"\"\"\"\"ee\"\"\"d\"\"\"\"\"\"\"\"\"\"\"\"\"\"\"\"\"\"\"\"\"\"\"\"\"\"\"\"\" \"\"\"\"\"\"\"\"\"\"\"\"\"\"\"\"e\"t\"\"\"\"\"\"\"  ca\"\"aa',\n",
              " 'g\"a\"\"i\"\"\"\"\"\"\"\"\"\"\"e\" \"\"\"\"\"\"\"\"\"\"\"\"\"\"\"\"o\"r\"\"\"\"\" d\"\"yas\"\"e',\n",
              " 'pa\"rki\"\"\"\"\"\"\"\"\"\"\"\"\"\"\"\"\"\"\"\"\"\"\"\"\"\"\"\"\"\"\"\"\"\"\"\"\"\"sar\"\"e',\n",
              " '\"h\"\"mi\"\"\"\"\"\"e\"\"fi\"\"\"\" m\"\"xc\"\"\"\"w \"\"\"dir\"\"e',\n",
              " 'di\"\"\"\"\"\"\"\"\"\"\"\"\"\"\"\"\"\"\"\"\"\"\"\"\"\"\"\"e\"\"\"\"\"\"\"\"\"\"\"din\"\"r',\n",
              " 'pa\"rki\"\"\"\"\"\"\"\"\"\"\"\"\"\"\"\"\"\"\"\"\"\"\"\"\"\"\"\"\"\"\"\"\"\"\"\"\"\"sar\"\"e',\n",
              " 'gi\"\"\"a\"\"\"y\"\"\"\"\"\"\"\"\"\"\" \"\"\"\"\"\"\"\"\"\"\"\"\"\"\"ke\"\"\"\"\"\"a\"\"\"\"saz\"\"\"',\n",
              " 'm\"\"d\"\"\"\"r\"\"\"\"\"\"\"\"\"\"\"\"\"\"\"\"\"\"\"\"\"\"\"\"\"\"\"\"\"\"\"\"\"\"\"\"\"\"\"\"\"\"\"r\"\"\"\"\"\"\"\"\"fisq\"e',\n",
              " 'di\"\"\"\"\"\"\"\"\"\"\"\"\"\"\"\"\"\"\"\"\"\"\"\"\"\"\"\"e\"\"\"\"\"\"\"\"\"\"\"din\"\"r',\n",
              " 'de\"\"\"i\"\"\"\"\"\"\"\"\"\"\"\"\"\"\"\"\"\" \"\"\"\"\"\"\"\"\"\"\"\"\"\"\"\"o\"\"\"\"\"\"\"\"\"\"\"ba\"\"\"e',\n",
              " '\"h\"\"mi\"\"\"\"\"\"e\"\"fi\"\"\"\" m\"\"xc\"\"\"\"w \"\"\"dir\"\"e',\n",
              " '\"h\"\"mi\"\"\"\"\"\"e\"\"fi\"\"\"\" m\"\"xc\"\"\"\"w \"\"\"dir\"\"e',\n",
              " 'r\"u\"t\"\"\"\"\" \"\"\"\"\"\"\"\"\"\"\"\"\"\"\"\"\"\"\"\"\"\"\"\"\"\"\"\"\"\"\"\"\"our\"\"\"\"\" \"\"\"bok\"\"\"',\n",
              " 'b\"a\"t\"\"n\"\"\"\"\"\"\"\"\"\"\"\"\"\"\"\"\"\"\"\"\"\" \"\"\"\"l\"\"\"\"\"\"\"\"\"dar\"\"\"',\n",
              " 'gi\"\"\"a\"\"\"y\"\"\"\"\"\"\"\"\"\"\" \"\"\"\"\"\"\"\"\"\"\"\"\"\"\"ke\"\"\"\"\"\"a\"\"\"\"saz\"\"\"',\n",
              " '\"h\"\"mi\"\"\"\"\"\"e\"\"fi\"\"\"\" m\"\"xc\"\"\"\"w \"\"\"dir\"\"e',\n",
              " 'caar\"i\"\"e\" \"u\"\"fnou \"as\"\"l',\n",
              " 'de\"\"\"i\"\"\"\"\"\"\"\"\"\"\"\"\"\"\"\"\"\" \"\"\"\"\"\"\"\"\"\"\"\"\"\"\"\"o\"\"\"\"\"\"\"\"\"\"\"ba\"\"\"e',\n",
              " 'ba\"\"\"\"\"\"\"\"\"\"\"\"\"\"\"\"\"e\"\"\"e \"\"\"d\"\"ja\"\"ne',\n",
              " 't\"u\"\"\"\"\"\"\"\"\"\"\"\"\"\"\"\"\"\"\"\"\"\"\"\"\"\"\"\"\" \"\"\"\"\"\"\"\"\"\"\"\"\"\"\"\"e\"\"\"\"\"\"\"\"r\"\"sasq\"e',\n",
              " 'm\"\"d\"\"\"\"r\"\"\"\"\"\"\"\"\"\"\"\"\"\"\"\"\"\"\"\"\"\"\"\"\"\"\"\"\"\"\"\"\"\"\"\"\"\"\"\"\"\"\"r\"\"\"\"\"\"\"\"\"fisq\"e',\n",
              " '\"\"\"r\"cen \"\"b\"\"\"\"\"o\"\"\"\"\"\"\"\"\"\"\"\"\"w\"\"\"\"\"\"\"\"\"\"\"\"\"\"\"\"\"\"\"\"\"\"\"\"\"\"e\"\"\"\"\"m\"\"ee tss\"\"l',\n",
              " '\"\"a\"m\"\"\"\"\"\"\"\"\"\"\"\"\"\"\"\"\"\"\"\"\"\"\"\"\"\"\"\"\"\"\"\"\"\"\"\"\"\"\"\"\"\"\"\"\"\"zin\"\"e',\n",
              " 'r\"s\"ta\"\"d\"\"\"\"\"\"\"\"\"\"\"\"\"\"\"\"\"\"\"\"\"\"\"\"\"\"\"\"\"\"\"\"\"\"\"\"\"\"\"\"\"\"\" \"\"\"\"\"\"\"\"\"\"\"\"\"\"dis\"e\"',\n",
              " 's\"\"\"tio\"\"\"\"\"\"\"\"\"\"\"\"\"\"\"\"\"\"\" \"\"ou\"\"\"\"\"\"\"\"\"\"\"ik\"ae',\n",
              " 't\"u\"\"\"\"\"\"\"\"\"\"\"\"\"\"\"\"\"\"\"\"\"\"\"\"\"\"\"\"\" \"\"\"\"\"\"\"\"\"\"\"\"\"\"\"\"e\"\"\"\"\"\"\"\"r\"\"sasq\"e',\n",
              " 't\"u\"\"\"\"\"\"\"\"\"\"\"\"\"\"\"\"\"\"\"\"\"\"\"\"\"\"\"\"\" \"\"\"\"\"\"\"\"\"\"\"\"\"\"\"\"e\"\"\"\"\"\"\"\"r\"\"sasq\"e',\n",
              " 't\"\"\"\"\"on\"\"\"\"\"\"\"\"\"\"\"\"\"\"\"\"\"\"\"\"\"\"\"\"\"\"\"\"\"\"\"ok\"\"e',\n",
              " 't\"\"\"\"\"on\"\"\"\"\"\"\"\"\"\"\"\"\"\"\"\"\"\"\"\"\"\"\"\"\"\"\"\"\"\"\"ok\"\"e',\n",
              " 's\"\"\"tio\"\"\"\"\"\"\"\"\"\"\"\"\"\"\"\"\"\"\" \"\"ou\"\"\"\"\"\"\"\"\"\"\"ik\"ae',\n",
              " 'b\"a\"\"\"\"n \"\"\"\"\"\"\"\"\"\"\"\"\"\"\"\"\"\"\"\"\"\"\"\"\"\"\"\"\"\"\"\"\"\"\"\"\"\"\"\"\"\" r\"\"\"ak\"\"e',\n",
              " '\"a\"\"m\"\"i\"\"\"\"u\"\"\"\"\"\" \"\"\"\"\"y\"\"\"\"\"\"\"\"\"\"\"\"\"\"\"\"\"\"\"\"\"\"\"\"\" \"\"e\"r\"y\"\"\"\"\"\"\"\"a\"\"de',\n",
              " 'c\"\"\"\"i\"\"\"\"\"s\"\"\"\"\"\"\"\"\"\"\"\"\"e\"\"\"\"b\"\"\"\"\"\"\"\"\"\"\"\"\"\"\"\"\"\"\"\"\"\"\"\"\"\"\"\"\"\"\"\"\"\"\"\"\"\"\"t\"\"\"\"\"ai  \"n\"\"a\"m\"\"io\"è\"e',\n",
              " 'si\"\"m\"\"\"\"\"\"\"\"\"\"\"se\"t\"\"i\"\"\"\"\"\"\"\"\"\"\"\"\"\"\"\"\"\"\"\"\"\"\"\"\"\"\"\"\" \"\"\"\"\"\"\"\"\"\"\"\"\"\"\"\"\"\"c\"\"\"\"a\"\" \"pa\"aam',\n",
              " 'm\"\"d\"\"\"\"r\"\"\"\"\"\"\"\"\"\"\"\"\"\"\"\"\"\"\"\"\"\"\"\"\"\"\"\"\"\"\"\"\"\"\"\"\"\"\"\"\"\"\"r\"\"\"\"\"\"\"\"\"fisq\"e',\n",
              " '\"a\"\"\"i\"\"\"\" c\"\"\"\"\"\"\"\"\"\"\"\"\"\"\"\"\"\"\" \"\"o\"\"\"\" \"\"\"\"\"\"bo\"\"\"r',\n",
              " 'de\"\"\"i\"\"\"\"\"\"\"\"\"\"\"\"\"\"\"\"\"\" \"\"\"\"\"\"\"\"\"\"\"\"\"\"\"\"o\"\"\"\"\"\"\"\"\"\"\"ba\"\"\"e',\n",
              " '\"\"\"\"r\"o\"\"\"\"\"\"\"\"\"\"\"\"\"\"\"\"\"\"\"\"\"\"\"\"\"\"\"\"\"\"\"\"\"\"\"\" \"\"o\"\"\"\" \"\"\"\"\"\"yas\"\"f',\n",
              " '\"\"a\"m\"\"\"\"\"\"\"\"\"\"\"\"\"\"\"\"\"\"\"\"\"\"\"\"\"\"\"\"\"\"\"\"\"\"\"\"\"\"\"\"\"\"\"\"\"\"zin\"\"e',\n",
              " 'b\"\"r\"\"o\"\"\"\"\"\"\"\"\"\"\"\"\"\"\"\"\"\"\"\"\"\"\"\"\"\"\"\"\"\"\"\"\"\"\"\"\"\"\"\"o\"\"\"\"\"\"\"\"bu\"kss\"\"m',\n",
              " 'b\"\"\"\"\"\"\"\"\"\"\"\"\"\"\"\"\"\" \"\"e\"\"\"\"\"\"e \"\"\"fa\"\"\"\"',\n",
              " 'cea\" p\"\"\"\" ch\"é\"\"e\"\"\"o\"\"\"y\"\"a\"\"\" bik\"\"e',\n",
              " 'di\"\"\"\"\"\"\"\"\"\"\"\"\"\"\"\"\"\"\"\"\"\"\"\"\"\"\"\"e\"\"\"\"\"\"\"\"\"\"\"din\"\"r',\n",
              " '\"\"a\"m\"\"\"\"\"\"\"\"\"\"\"\"\"\"\"\"\"\"\"\"\"\"\"\"\"\"\"\"\"\"\"\"\"\"\"\"\"\"\"\"\"\"\"\"\"\"zin\"\"e',\n",
              " 'r\"s\"ta\"\"d\"\"\"\"\"\"\"\"\"\"\"\"\"\"\"\"\"\"\"\"\"\"\"\"\"\"\"\"\"\"\"\"\"\"\"\"\"\"\"\"\"\"\" \"\"\"\"\"\"\"\"\"\"\"\"\"\"dis\"e\"',\n",
              " 'co\"\"\"\"\"\"\"\"\"\"\"\"\"\"\"\"\"\" \"\"\"\"\"\"\"\"\"\"\"\"\"\"\"\"o\"\"\"\"\"\"\"\"\"\"\"\"at\"ne',\n",
              " 're\"r\"\"\"n\"\" \"h\"\"\"\"\"\"\"\"\"\"\"\"x\"\"\"\"\"\"\"\"\"\"\"\"\"\"\"\"\"\"\"o\"l\"\"\"\"\"\"\"\"\"sak\"\"f',\n",
              " 'r\"u\"t\"\"\"\"\" \"\"\"\"\"\"\"\"\"\"\"\"\"\"\"\"\"\"\"\"\"\"\"\"\"\"\"\"\"\"\"\"\"our\"\"\"\"\" \"\"\"bok\"\"\"',\n",
              " 'bo\"\"\"io\"\"\"\"c\"\"l\"\"\"\"\"\"\"\"e\"\"\"\"\"\"\"\"\"\"\"\"\"\"\" \"\"o\"\"\"\"\"\"e \"\"\"\"ak\"n\"',\n",
              " 'b\"\"\"\"\"\"\"\"\"\"\"\"\"\"\"\"\"\" \"\"e\"\"\"\"\"\"e \"\"\"fa\"\"\"\"',\n",
              " 'co\"\"\"\"\"\"\"\"\"\"\"\"\"\"\"\"\"\" \"\"\"\"\"\"\"\"\"\"\"\"\"\"\"\"o\"\"\"\"\"\"\"\"\"\"\"\"at\"ne',\n",
              " 'b\"a\"t\"\"n\"\"\"\"\"\"\"\"\"\"\"\"\"\"\"\"\"\"\"\"\"\" \"\"\"\"l\"\"\"\"\"\"\"\"\"dar\"\"\"',\n",
              " 't\"\"\"\"\"on\"\"\"\"\"\"\"\"\"\"\"\"\"\"\"\"\"\"\"\"\"\"\"\"\"\"\"\"\"\"\"ok\"\"e',\n",
              " 'di\"r\"\"\"\"\"\"\"\"u\"\"\"\"\"\"\"\"\"\"\"\"\"\"\"\"\"\"\"\"\"\"\"\"\"\"\"\"\"\"\"\"\"\"\"o\"\"\"\"\"\"\"\"\"\"\"baf\"\"\"',\n",
              " 'bo\"\"\"io\"\"\"\"c\"\"l\"\"\"\"\"\"\"\"e\"\"\"\"\"\"\"\"\"\"\"\"\"\"\" \"\"o\"\"\"\"\"\"e \"\"\"\"ak\"n\"',\n",
              " 'di\"\"\"\"\"\"\"\"\"\"\"\"\"\"\"\"\"\"\"\"\"\"\"\"\"\"\"\"e\"\"\"\"\"\"\"\"\"\"\"din\"\"r',\n",
              " 'b\"a\"\"\"\"n \"\"\"\"\"\"\"\"\"\"\"\"\"\"\"\"\"\"\"\"\"\"\"\"\"\"\"\"\"\"\"\"\"\"\"\"\"\"\"\"\"\" r\"\"\"ak\"\"e',\n",
              " 'c\"\"r\"\"\"\"\"\"\"\"e\"\"\"\"\"\"\"\"\"\"\"\"\"\"\"\"\"ko\"\"\"\"\"\"\" \"\"\"sau\"\"\"',\n",
              " 'si\"\"mp\"n \"\"\"\"\"\"\"\"\"\"\"\"\"\"\"b\"\"c\"\"\"\"\"\"\"e\"ka\"\"\"t',\n",
              " 'ba\"\"\"\"\"\"\"\"\"\"\"\"\"\"\"\"\"e\"\"\"e \"\"\"d\"\"ja\"\"ne',\n",
              " 's\"s\"\"\"\"\"\"\"\"\"\"\"\"\"ee\"\"\"d\"\"\"\"\"\"\"\"\"\"\"\"\"\"\"\"\"\"\"\"\"\"\"\"\"\"\"\"\" \"\"\"\"\"\"\"\"\"\"\"\"\"\"\"\"e\"t\"\"\"\"\"\"\"  ca\"\"aa',\n",
              " '\"\"\"r\"n\"\"\"i\"\"e\"r\"\"\"\"\"\" \"\"\"\"\"\"\"\"\"\"\"\"\"\"\"\"\" \"\"\"\"\"\"\"\"\"\"\"\"\"\"\"\"a\"r\"\"\"\"\"\"\"u\"\"ét\"\"\"',\n",
              " 't\"u\"\"\"\"\"\"\"\"\"\"\"\"\"\"\"\"\"\"\"\"\"\"\"\"\"\"\"\"\" \"\"\"\"\"\"\"\"\"\"\"\"\"\"\"\"e\"\"\"\"\"\"\"\"r\"\"sasq\"e',\n",
              " 'b\"a\"t\"\"n\"\"\"\"\"\"\"\"\"\"\"\"\"\"\"\"\"\"\"\"\"\" \"\"\"\"l\"\"\"\"\"\"\"\"\"dar\"\"\"',\n",
              " 'di\"\"\"\"\"\"\"\"\"\"\"\"\"\"\"\"\"\"\"\"\"\"\"\"\"\"\"\"e\"\"\"\"\"\"\"\"\"\"\"din\"\"r',\n",
              " 'co\"\"\"\"\"\"\"\"\"\"\"\"\"\"\"\"\"\" \"\"\"\"\"\"\"\"\"\"\"\"\"\"\"\"o\"\"\"\"\"\"\"\"\"\"\"\"at\"ne',\n",
              " 'cha\"ki\"n\"\"e\"\"\"é\"me s\" sos\"\"f',\n",
              " 'bo\"\"\"io\"\"\"\"c\"\"l\"\"\"\"\"\"\"\"e\"\"\"\"\"\"\"\"\"\"\"\"\"\"\" \"\"o\"\"\"\"\"\"e \"\"\"\"ak\"n\"',\n",
              " 'b\"\"r\"\"o\"\"\"\"\"\"\"\"\"\"\"\"\"\"\"\"\"\"\"\"\"\"\"\"\"\"\"\"\"\"\"\"\"\"\"\"\"\"\"\"o\"\"\"\"\"\"\"\"bu\"kss\"\"m',\n",
              " 'cea\" p\"\"\"\" ch\"é\"\"e\"\"\"o\"\"\"y\"\"a\"\"\" bik\"\"e',\n",
              " 'p\"\"\"m\"\"\"\"\" \"\"\"\"\"\"\"\"\"\"\"\"e \"\"p\"r\"\" \"\" \"\"\"\"a\"\"\"e',\n",
              " 'r\"u\"t\"\"\"\"\" \"\"\"\"\"\"\"\"\"\"\"\"\"\"\"\"\"\"\"\"\"\"\"\"\"\"\"\"\"\"\"\"\"our\"\"\"\"\" \"\"\"bok\"\"\"',\n",
              " '\"h\"\"mi\"\"\"\"\"\"e\"\"fi\"\"\"\" m\"\"xc\"\"\"\"w \"\"\"dir\"\"e',\n",
              " 'di\"\"\"\"\"\"\"\"\"\"\"\"\"\"\"\"\"\"\"\"\"\"\"\"\"\"\"\"e\"\"\"\"\"\"\"\"\"\"\"din\"\"r',\n",
              " 'si\"\"m\"\"\"\"\"\"\"\"\"\"\"se\"t\"\"i\"\"\"\"\"\"\"\"\"\"\"\"\"\"\"\"\"\"\"\"\"\"\"\"\"\"\"\"\" \"\"\"\"\"\"\"\"\"\"\"\"\"\"\"\"\"\"c\"\"\"\"a\"\" \"pa\"aam',\n",
              " 'de\"\"\"i\"\"\"\"\"\"\"\"\"\"\"\"\"\"\"\"\"\" \"\"\"\"\"\"\"\"\"\"\"\"\"\"\"\"o\"\"\"\"\"\"\"\"\"\"\"ba\"\"\"e',\n",
              " 'r\"u\"t\"\"\"\"\" \"\"\"\"\"\"\"\"\"\"\"\"\"\"\"\"\"\"\"\"\"\"\"\"\"\"\"\"\"\"\"\"\"our\"\"\"\"\" \"\"\"bok\"\"\"',\n",
              " 'b\"a\"t\"\"n\"\"\"\"\"\"\"\"\"\"\"\"\"\"\"\"\"\"\"\"\"\" \"\"\"\"l\"\"\"\"\"\"\"\"\"dar\"\"\"',\n",
              " 't\"u\"\"\"\"\"\"\"\"\"\"\"\"\"\"\"\"\"\"\"\"\"\"\"\"\"\"\"\"\" \"\"\"\"\"\"\"\"\"\"\"\"\"\"\"\"e\"\"\"\"\"\"\"\"r\"\"sasq\"e',\n",
              " 'p\"\"\"m\"\"\"\"\" \"\"\"\"\"\"\"\"\"\"\"\"e \"\"p\"r\"\" \"\" \"\"\"\"a\"\"\"e',\n",
              " '\"\"\"\"r\"o\"\"\"\"\"\"\"\"\"\"\"\"\"\"\"\"\"\"\"\"\"\"\"\"\"\"\"\"\"\"\"\"\"\"\"\" \"\"o\"\"\"\" \"\"\"\"\"\"yas\"\"f',\n",
              " 'r\"u\"t\"\"\"\"\" \"\"\"\"\"\"\"\"\"\"\"\"\"\"\"\"\"\"\"\"\"\"\"\"\"\"\"\"\"\"\"\"\"our\"\"\"\"\" \"\"\"bok\"\"\"',\n",
              " '\"\"a\"m\"\"\"\"\"\"\"\"\"\"\"\"\"\"\"\"\"\"\"\"\"\"\"\"\"\"\"\"\"\"\"\"\"\"\"\"\"\"\"\"\"\"\"\"\"\"zin\"\"e',\n",
              " 's\"\"\"\"\"o\"\"\"\"\"u\"\"\"mb\"\"\"\"\"\"\"\" \"\"\"kan\"ne',\n",
              " 'di\"\"\"\"\"\"\"\"\"\"\"\"\"\"\"\"\"\"\"\"\"\"\"\"\"\"\"\"e\"\"\"\"\"\"\"\"\"\"\"din\"\"r',\n",
              " 'di\"\"\"\"\"\"\"\"\"\"\"\"\"\"\"\"\"\"\"\"\"\"\"\"\"\"\"\"e\"\"\"\"\"\"\"\"\"\"\"din\"\"r',\n",
              " 'si\"\"mp\"n \"\"\"\"\"\"\"\"\"\"\"\"\"\"\"b\"\"c\"\"\"\"\"\"\"e\"ka\"\"\"t',\n",
              " '\"\"\"r\"cen \"\"b\"\"\"\"\"o\"\"\"\"\"\"\"\"\"\"\"\"\"w\"\"\"\"\"\"\"\"\"\"\"\"\"\"\"\"\"\"\"\"\"\"\"\"\"\"e\"\"\"\"\"m\"\"ee tss\"\"l',\n",
              " 'si\"\"mp\"n \"\"\"\"\"\"\"\"\"\"\"\"\"\"\"b\"\"c\"\"\"\"\"\"\"e\"ka\"\"\"t',\n",
              " 'pia\"k\"\"\"\"\"\"\"i\"\"\"n\"\"\"o\"c\"\"\"\"\"\"\"u\"bat\"\"e',\n",
              " 't\"u\"\"\"\"\"\"\"\"\"\"\"\"\"\"\"\"\"\"\"\"\"\"\"\"\"\"\"\"\" \"\"\"\"\"\"\"\"\"\"\"\"\"\"\"\"e\"\"\"\"\"\"\"\"r\"\"sasq\"e',\n",
              " 'si\"\"mp\"n \"\"\"\"\"\"\"\"\"\"\"\"\"\"\"b\"\"c\"\"\"\"\"\"\"e\"ka\"\"\"t',\n",
              " 'm\"\"d\"\"\"\"r\"\"\"\"\"\"\"\"\"\"\"\"\"\"\"\"\"\"\"\"\"\"\"\"\"\"\"\"\"\"\"\"\"\"\"\"\"\"\"\"\"\"\"r\"\"\"\"\"\"\"\"\"fisq\"e',\n",
              " 'co\"\"\"\"\"\"\"\"\"\"\"\"\"\"\"\"\"\" \"\"\"\"\"\"\"\"\"\"\"\"\"\"\"\"o\"\"\"\"\"\"\"\"\"\"\"\"at\"ne',\n",
              " 'b\"a\"\"\"\"n \"\"\"\"\"\"\"\"\"\"\"\"\"\"\"\"\"\"\"\"\"\"\"\"\"\"\"\"\"\"\"\"\"\"\"\"\"\"\"\"\"\" r\"\"\"ak\"\"e',\n",
              " '\"\"\"\"\"\"\"\"\"\"e\"m\"\"b\"\"\"\"\"\"\"\"\"\"\"\"\"\"\"\"\"\"\"\"\"\"\"\"\"\"\"\"\"\"\"\"\"\"\"\"\"\"\"\"\"\"\"\"\"\"\"i\"\"\"\"e\"\"\"\"\"zak\"\" ',\n",
              " 'ea\"\"i\"\"e\"\"\"\"\"\"\"\"\"\"\"\"\"\"\"\"\"\"\"\"\"\"\"\"\"\"\"\"\"\"\"\"\"\"\"\"\"\"\"\"\"\"\"o\"r\"\"\"\"e\"\"-\"sozqee',\n",
              " 'b\"\"\"\"\"\"\"\"\"\"\"\"\"\"\"\"\"\" \"\"e\"\"\"\"\"\"e \"\"\"fa\"\"\"\"',\n",
              " 's\"\"\"\"\"o\"\"\"\"\"u\"\"\"mb\"\"\"\"\"\"\"\" \"\"\"kan\"ne',\n",
              " '\"\"\"\"\"\"\"\"\"\"\"\"\"\"\"\"\"\"\"s\"\"\"\"\"\"\"\"\"\"\"\"\"e\"\"\"\"\"\"\"\"\"\"\"\"\"\"\"\"\"\"\"\"\"\"\"\"\"\"\"\"\"\"\"\"\"\"\"\"t\"\"\"\"\"a\"\" \"n\"\"aa\"\"ti\"\"\"\"n\"n\"a\"\"\"e',\n",
              " 'bo\"\"\"io\"\"\"\"c\"\"l\"\"\"\"\"\"\"\"e\"\"\"\"\"\"\"\"\"\"\"\"\"\"\" \"\"o\"\"\"\"\"\"e \"\"\"\"ak\"n\"',\n",
              " 'pa\"rki\"\"\"\"\"\"\"\"\"\"\"\"\"\"\"\"\"\"\"\"\"\"\"\"\"\"\"\"\"\"\"\"\"\"\"\"\"\"sar\"\"e',\n",
              " 'cea\" p\"\"\"\" ch\"é\"\"e\"\"\"o\"\"\"y\"\"a\"\"\" bik\"\"e',\n",
              " '\"a\"\"\"i\"\"\"\" c\"\"\"\"\"\"\"\"\"\"\"\"\"\"\"\"\"\"\" \"\"o\"\"\"\" \"\"\"\"\"\"bo\"\"\"r',\n",
              " 'si\"\"mp\"n \"\"\"\"\"\"\"\"\"\"\"\"\"\"\"b\"\"c\"\"\"\"\"\"\"e\"ka\"\"\"t',\n",
              " 'bo\"\"\"io\"\"\"\"c\"\"l\"\"\"\"\"\"\"\"e\"\"\"\"\"\"\"\"\"\"\"\"\"\"\" \"\"o\"\"\"\"\"\"e \"\"\"\"ak\"n\"',\n",
              " 's\"\"\"tio\"\"\"\"\"\"\"\"\"\"\"\"\"\"\"\"\"\"\" \"\"ou\"\"\"\"\"\"\"\"\"\"\"ik\"ae',\n",
              " 'si\"\"m\"\"\"\"\"\"\"\"\"\"\"\"\"ee \"\"b\"\"\"\"\"\"\"\"\"\"\"\"\"\"\"\"\"\"\"\"\"\"\"\"\"\"\"\"\"\"\"\"\"\"\"\"\"\"\"\"\"\"\"\"\"\"tu\"\"\" a\"  \"n\"aaaa\"',\n",
              " 'si\"\"mp\"n \"\"\"\"\"\"\"\"\"\"\"\"\"\"\"b\"\"c\"\"\"\"\"\"\"e\"ka\"\"\"t',\n",
              " 'bo\"\"\"io\"\"\"\"c\"\"l\"\"\"\"\"\"\"\"e\"\"\"\"\"\"\"\"\"\"\"\"\"\"\" \"\"o\"\"\"\"\"\"e \"\"\"\"ak\"n\"',\n",
              " '\"o\"\"\"\"\"\"ee \"\"b\"\"\"\"\"\"\"\"\"\"\"\"\"\"\"\"\"\"\"\"\"\"\"\"\"\"\"\"\"\"\"\"\"\"\"\"\"\"\"\"\"\"\"\"\"ke\"\"\"\"\"\"e\"\"\"\"sa\"\"a\"',\n",
              " 's\"\"\"\"\"\"\"\"\"\"\"\"\"\"\"go\"n\"\"\"\"\"\"\"\"\"yow\"\"t',\n",
              " 'de\"\"\"i\"\"\"\"\"\"\"\"\"\"\"\"\"\"\"\"\"\" \"\"\"\"\"\"\"\"\"\"\"\"\"\"\"\"o\"\"\"\"\"\"\"\"\"\"\"ba\"\"\"e',\n",
              " 'si\"\"m\"\"\"\"\"\"\"\"\"\"\"\"\"\"seem\"\"i\"\"\"\"\"\"\"\"\"\"\"\"\"\"\"\"\"\"\"\"\"\"\"\"\"\"\"\"\"\"\"\"\"\"\"\"\"\"\"\"\"ee tc\"\"\"\"a\"   n\"\"aat\"tt',\n",
              " 's\"\"\"\"\"o\"\"\"\"\"\"\"\"\"\"\"\"\"\"\"\"\"\"\"\"\"\"\"\"\"\"\"\"\"\"\"\"\"\"\"\"\"\"\"\"\"\"\"\"\"\"\"\"\"\"\"\"\"\"\"\"mb\"u\"\"é\"\"\"\"\"\"diou\"ne',\n",
              " '\"\"\"r\"n\"\"\"i\"\"e\"r\"\"\"\"\"\" \"\"\"\"\"\"\"\"\"\"\"\"\"\"\"\"\" \"\"\"\"\"\"\"\"\"\"\"\"\"\"\"\"a\"r\"\"\"\"\"\"\"u\"\"ét\"\"\"',\n",
              " 'r\"u\"t\"\"\"\"\" \"\"\"\"\"\"\"\"\"\"\"\"\"\"\"\"\"\"\"\"\"\"\"\"\"\"\"\"\"\"\"\"\"our\"\"\"\"\" \"\"\"bok\"\"\"',\n",
              " 'r\"u\"t\"\"\"\"\" \"\"\"\"\"\"\"\"\"\"\"\"\"\"\"\"\"\"\"\"\"\"\"\"\"\"\"\"\"\"\"\"\"our\"\"\"\"\" \"\"\"bok\"\"\"',\n",
              " 's\"\"r\"\"\"\"\"\"\"\"\"\"foi\"\"\" \"e \"\"\"dan\"\"\"',\n",
              " 'b\"\"\"\"\"\"\"\"\"\"\"\"\"\"\"\"\"\" \"\"e\"\"\"\"\"\"e \"\"\"fa\"\"\"\"',\n",
              " 'r\"u\"t\"\"\"\"\" \"\"\"\"\"\"\"\"\"\"\"\"\"\"\"\"\"\"\"\"\"\"\"\"\"\"\"\"\"\"\"\"\"our\"\"\"\"\" \"\"\"bok\"\"\"',\n",
              " '\"\"\"\"\"\"\"\"\"\"seet\"\"i\"\"\"\"\"\"\"\"x\"\"\"\"\"\"\"\"\"\"\"\"\"\"\"\"\"\"\"\"\"\"\"\"\"\"\"\"\"\"\"\"r\"\"\"\"i\"\"\"e\"\"t\"\"\"\"da\"\"u\"',\n",
              " '\"\"\"\"\"\"\"\"\"\"seet\"\"i\"\"\"\"\"\"\"\"x\"\"\"\"\"\"\"\"\"\"\"\"\"\"\"\"\"\"\"\"\"\"\"\"\"\"\"\"\"\"\"\"r\"\"\"\"i\"\"\"e\"\"t\"\"\"\"da\"\"u\"',\n",
              " 'si\"\"mp\"n \"\"\"\"\"\"\"\"\"\"\"\"\"\"\"b\"\"c\"\"\"\"\"\"\"e\"ka\"\"\"t',\n",
              " 'ea\"\"i\"\"e\"\"\"\"\"\"\"\"\"\"\"\"\"\"\"\"\"\"\"\"\"\"\"\"\"\"\"\"\"\"\"\"\"\"\"\"\"\"\"\"\"\"\"o\"r\"\"\"\"e\"\"-\"sozqee',\n",
              " '\"a\"\"m\"\"i\"\"\"\"u\"\"\"\"\"\" \"\"\"\"\"y\"\"\"\"\"\"\"\"\"\"\"\"\"\"\"\"\"\"\"\"\"\"\"\"\" \"\"e\"r\"y\"\"\"\"\"\"\"\"a\"\"de',\n",
              " 're\"r\"\"\"n\"\" \"h\"\"\"\"\"\"\"\"\"\"\"\"x\"\"\"\"\"\"\"\"\"\"\"\"\"\"\"\"\"\"\"o\"l\"\"\"\"\"\"\"\"\"sak\"\"f',\n",
              " 'ci\"\"mi\"\"ss\"\"\"\"\"\"\"\"\"\"\"\"ee \"\"i\"\"\"\"\"\"\"\"\"\"\"\"\"\"\"\"\"\"\"\"\"\"\"\"\"\"\"\"\"\"\"\"\"\"\"\"\"\"\"e\"\"\"\"\"\"\"\"l\"\" \"e\"\"\"\"mati\"\"',\n",
              " '\"\"\"\"\"\"\"\"\"\"seet\"\"i\"\"\"\"\"\"\"\"x\"\"\"\"\"\"\"\"\"\"\"\"\"\"\"\"\"\"\"\"\"\"\"\"\"\"\"\"\"\"\"\"r\"\"\"\"i\"\"\"e\"\"t\"\"\"\"da\"\"u\"',\n",
              " '\"\"\"\"\"\"\"\"\"\"\"\"\"\"\"\"\"\"\"\"\"\"\"\"\"\"\"e\"\"\"\"b\"\"\"\"\"\"\"\"\"\"\"\"\"\"\"\"\"\"\"\"\"\"\"\"\"\"\"\"\"\"\"\"\"\"ee\"t\"\"\"\"\"\"\"\" \"n\"\"\"aa\"ri\"\"a\"èn\"',\n",
              " '\"\"a\"m\"\"\"\"\"\"\"\"\"\"\"\"\"\"\"\"\"\"\"\"\"\"\"\"\"\"\"\"\"\"\"\"\"\"\"\"\"\"\"\"\"\"\"\"\"\"zin\"\"e',\n",
              " 'si\"\"mp\"n \"\"\"\"\"\"\"\"\"\"\"\"\"\"\"b\"\"c\"\"\"\"\"\"\"e\"ka\"\"\"t',\n",
              " 's\"\"\"tio\"\"\"\"\"\"\"\"\"\"\"\"\"\"\"\"\"\"\" \"\"ou\"\"\"\"\"\"\"\"\"\"\"ik\"ae',\n",
              " 'p\"\"\"m\"\"\"\"\" \"\"\"\"\"\"\"\"\"\"\"\"e \"\"p\"r\"\" \"\" \"\"\"\"a\"\"\"e',\n",
              " 'r\"s\"ta\"\"d\"\"\"\"\"\"\"\"\"\"\"\"\"\"\"\"\"\"\"\"\"\"\"\"\"\"\"\"\"\"\"\"\"\"\"\"\"\"\"\"\"\"\" \"\"\"\"\"\"\"\"\"\"\"\"\"\"dis\"e\"',\n",
              " '\"\"\"\"r\"o\"\"\"\"\"\"\"\"\"\"\"\"\"\"\"\"\"\"\"\"\"\"\"\"\"\"\"\"\"\"\"\"\"\"\"\" \"\"o\"\"\"\" \"\"\"\"\"\"yas\"\"f',\n",
              " 'gi\"\"\"a\"\"\"y\"\"\"\"\"\"\"\"\"\"\" \"\"\"\"\"\"\"\"\"\"\"\"\"\"\"ke\"\"\"\"\"\"a\"\"\"\"saz\"\"\"',\n",
              " '\"\"\"\"r\"o\"\"\"\"\"\"\"\"\"\"\"\"\"\"\"\"\"\"\"\"\"\"\"\"\"\"\"\"\"\"\"\"\"\"\"\" \"\"o\"\"\"\" \"\"\"\"\"\"yas\"\"f',\n",
              " 's\"\"\"\"\"\"\"\"\"\"\"\"\"\"\"go\"n\"\"\"\"\"\"\"\"\"yow\"\"t',\n",
              " 'di\"r\"\"\"\"\"\"\"\"u\"\"\"\"\"\"\"\"\"\"\"\"\"\"\"\"\"\"\"\"\"\"\"\"\"\"\"\"\"\"\"\"\"\"\"o\"\"\"\"\"\"\"\"\"\"\"baf\"\"\"',\n",
              " '\"\"a\"m\"\"\"\"\"\"\"\"\"\"\"\"\"\"\"\"\"\"\"\"\"\"\"\"\"\"\"\"\"\"\"\"\"\"\"\"\"\"\"\"\"\"\"\"\"\"zin\"\"e',\n",
              " '\"\"\"\"\"\"\"\"\"\"\"\"\"\"\"\"\"\"\"\"\"\"\"\"\"\"\"\"\"\"\"\"\"\"\"\"\"\"\"\"\"\"\"\"\"d\"\"\"\"\"\"\"\"\"\"\"\"\"\"\"\"\"\"\"\"\"e\"\"\"\"\"\"\" d\"\" \"n\"\"aa\"\"\"i\"\"\"\"n\"\"\"\"\"\"\"e\"\"al\"ee',\n",
              " '\"o\"\"\"\"\"\"ee \"\"b\"\"\"\"\"\"\"\"\"\"\"\"\"\"\"\"\"\"\"\"\"\"\"\"\"\"\"\"\"\"\"\"\"\"\"\"\"\"\"\"\"\"\"\"\"ke\"\"\"\"\"\"e\"\"\"\"sa\"\"a\"',\n",
              " 'b\"a\"t\"\"n\"\"\"\"\"\"\"\"\"\"\"\"\"\"\"\"\"\"\"\"\"\" \"\"\"\"l\"\"\"\"\"\"\"\"\"dar\"\"\"',\n",
              " 'p\"\"\"m\"\"\"\"\" \"\"\"\"\"\"\"\"\"\"\"\"e \"\"p\"r\"\" \"\" \"\"\"\"a\"\"\"e',\n",
              " 'co\"\"\"\"\"\"\"\"\"\"\"\"\"\"\"\"\"\" \"\"\"\"\"\"\"\"\"\"\"\"\"\"\"\"o\"\"\"\"\"\"\"\"\"\"\"\"at\"ne',\n",
              " '\"a\"\"\"i\"\"\"\" c\"\"\"\"\"\"\"\"\"\"\"\"\"\"\"\"\"\"\" \"\"o\"\"\"\" \"\"\"\"\"\"bo\"\"\"r',\n",
              " 'b\"a\"t\"\"n\"\"\"\"\"\"\"\"\"\"\"\"\"\"\"\"\"\"\"\"\"\" \"\"\"\"l\"\"\"\"\"\"\"\"\"dar\"\"\"',\n",
              " '\"\"\"\"r\"o\"\"\"\"\"\"\"\"\"\"\"\"\"\"\"\"\"\"\"\"\"\"\"\"\"\"\"\"\"\"\"\"\"\"\"\" \"\"o\"\"\"\" \"\"\"\"\"\"yas\"\"f',\n",
              " 'pa\"rki\"\"\"\"\"\"\"\"\"\"\"\"\"\"\"\"\"\"\"\"\"\"\"\"\"\"\"\"\"\"\"\"\"\"\"\"\"\"sar\"\"e',\n",
              " '\"a\"\"\"i\"\"\"\" c\"\"\"\"\"\"\"\"\"\"\"\"\"\"\"\"\"\"\" \"\"o\"\"\"\" \"\"\"\"\"\"bo\"\"\"r',\n",
              " '\"h\"\"mi\"\"\"\"\"\"e\"\"fi\"\"\"\" m\"\"xc\"\"\"\"w \"\"\"dir\"\"e',\n",
              " '\"h\"\"mi\"\"\"\"\"\"e\"\"fi\"\"\"\" m\"\"xc\"\"\"\"w \"\"\"dir\"\"e',\n",
              " 'b\"a\"t\"\"n\"\"\"\"\"\"\"\"\"\"\"\"\"\"\"\"\"\"\"\"\"\" \"\"\"\"l\"\"\"\"\"\"\"\"\"dar\"\"\"',\n",
              " 'di\"r\"\"\"\"\"\"\"\"u\"\"\"\"\"\"\"\"\"\"\"\"\"\"\"\"\"\"\"\"\"\"\"\"\"\"\"\"\"\"\"\"\"\"\"o\"\"\"\"\"\"\"\"\"\"\"baf\"\"\"',\n",
              " 's\"\"\"tio\"\"\"\"\"\"\"\"\"\"\"\"\"\"\"\"\"\"\" \"\"ou\"\"\"\"\"\"\"\"\"\"\"ik\"ae',\n",
              " 'cen\"t\"\"\"\"\" \"o\"\"\"\"o\"\"\"\"\"\"\"l\"\"\"\"\"\"\"\"\"\"\"\"\"\"\"\"\"\"w\"\"\"\"\" \"\"p\"\"\"\"\"\"\"\"\"\"mzat\"\"t',\n",
              " 's\"\"\"tio\"\"\"\"\"\"\"\"\"\"\"\"\"\"\"\"\"\"\" \"\"ou\"\"\"\"\"\"\"\"\"\"\"ik\"ae',\n",
              " 'p\"\"\"m\"\"\"\"\" \"\"\"\"\"\"\"\"\"\"\"\"e \"\"p\"r\"\" \"\" \"\"\"\"a\"\"\"e',\n",
              " '\"\"\"\"\"\"\"\"\"\"e\"m\"\"b\"\"\"\"\"\"\"\"\"\"\"\"\"\"\"\"\"\"\"\"\"\"\"\"\"\"\"\"\"\"\"\"\"\"\"\"\"\"\"\"\"\"\"\"\"\"\"i\"\"\"\"e\"\"\"\"\"zak\"\" ',\n",
              " 't\"u\"\"\"\"\"\"\"\"\"\"\"\"\"\"\"\"\"\"\"\"\"\"\"\"\"\"\"\"\" \"\"\"\"\"\"\"\"\"\"\"\"\"\"\"\"e\"\"\"\"\"\"\"\"r\"\"sasq\"e',\n",
              " 't\"\"\"\"\"on\"\"\"\"\"\"\"\"\"\"\"\"\"\"\"\"\"\"\"\"\"\"\"\"\"\"\"\"\"\"\"ok\"\"e',\n",
              " 'di\"\"\"\"\"\"\"\"\"\"\"\"\"\"\"\"\"\"\"\"\"\"\"\"\"\"\"\"e\"\"\"\"\"\"\"\"\"\"\"din\"\"r',\n",
              " '\"\"\"r\"n\"\"\"i\"\"e\"r\"\"\"\"\"\" \"\"\"\"\"\"\"\"\"\"\"\"\"\"\"\"\" \"\"\"\"\"\"\"\"\"\"\"\"\"\"\"\"a\"r\"\"\"\"\"\"\"u\"\"ét\"\"\"',\n",
              " 'c\"\"r\"\"\"\"\"\"\"\"e\"\"\"\"\"\"\"\"\"\"\"\"\"\"\"\"\"ko\"\"\"\"\"\"\" \"\"\"sau\"\"\"',\n",
              " 'r\"s\"ta\"\"d\"\"\"\"\"\"\"\"\"\"\"\"\"\"\"\"\"\"\"\"\"\"\"\"\"\"\"\"\"\"\"\"\"\"\"\"\"\"\"\"\"\"\" \"\"\"\"\"\"\"\"\"\"\"\"\"\"dis\"e\"',\n",
              " 'ea\"\"i\"\"e\"\"\"\"\"\"\"\"\"\"\"\"\"\"\"\"\"\"\"\"\"\"\"\"\"\"\"\"\"\"\"\"\"\"\"\"\"\"\"\"\"\"\"o\"r\"\"\"\"e\"\"-\"sozqee',\n",
              " 'm\"\"d\"\"\"\"r\"\"\"\"\"\"\"\"\"\"\"\"\"\"\"\"\"\"\"\"\"\"\"\"\"\"\"\"\"\"\"\"\"\"\"\"\"\"\"\"\"\"\"r\"\"\"\"\"\"\"\"\"fisq\"e',\n",
              " 'gi\"\"\"a\"\"\"y\"\"\"\"\"\"\"\"\"\"\" \"\"\"\"\"\"\"\"\"\"\"\"\"\"\"ke\"\"\"\"\"\"a\"\"\"\"saz\"\"\"',\n",
              " 'bo\"\"\"io\"\"\"\"c\"\"l\"\"\"\"\"\"\"\"e\"\"\"\"\"\"\"\"\"\"\"\"\"\"\" \"\"o\"\"\"\"\"\"e \"\"\"\"ak\"n\"',\n",
              " 'pa\"rki\"\"\"\"\"\"\"\"\"\"\"\"\"\"\"\"\"\"\"\"\"\"\"\"\"\"\"\"\"\"\"\"\"\"\"\"\"\"sar\"\"e',\n",
              " 'g\"a\"\"i\"\"\"\"\"\"\"\"\"\"\"e\" \"\"\"\"\"\"\"\"\"\"\"\"\"\"\"\"o\"r\"\"\"\"\" d\"\"yas\"\"e',\n",
              " 'p\"\"\"m\"\"\"\"\" \"\"\"\"\"\"\"\"\"\"\"\"e \"\"p\"r\"\" \"\" \"\"\"\"a\"\"\"e',\n",
              " 'b\"a\"\"\"\"n \"\"\"\"\"\"\"\"\"\"\"\"\"\"\"\"\"\"\"\"\"\"\"\"\"\"\"\"\"\"\"\"\"\"\"\"\"\"\"\"\"\" r\"\"\"ak\"\"e',\n",
              " 'si\"\"mp\"n \"\"\"\"\"\"\"\"\"\"\"\"\"\"\"b\"\"c\"\"\"\"\"\"\"e\"ka\"\"\"t',\n",
              " 'pa\"rki\"\"\"\"\"\"\"\"\"\"\"\"\"\"\"\"\"\"\"\"\"\"\"\"\"\"\"\"\"\"\"\"\"\"\"\"\"\"sar\"\"e',\n",
              " 't\"u\"\"\"\"\"\"\"\"\"\"\"\"\"\"\"\"\"\"\"\"\"\"\"\"\"\"\"\"\" \"\"\"\"\"\"\"\"\"\"\"\"\"\"\"\"e\"\"\"\"\"\"\"\"r\"\"sasq\"e',\n",
              " 'c\"\"r\"\"\"\"\"\"\"\"e\"\"\"\"\"\"\"\"\"\"\"\"\"\"\"\"\"ko\"\"\"\"\"\"\" \"\"\"sau\"\"\"',\n",
              " 'si\"\"mi\"\"s\"\"\"\"\"\"\"\"\"\"\"\"ee\"\"\"i\"\"\"\"\"\"\"\"\"\"\"\"\"\"\"\"\"\"\"\"\"\"\"\"\"\"\"\"\"\"\"\"\"\"\"\"\"\"\"\"\"e\"\"\"\"\"\"la\"  \"n\"\"\"aatt\"è',\n",
              " 't\"\"\"\"\"on\"\"\"\"\"\"\"\"\"\"\"\"\"\"\"\"\"\"\"\"\"\"\"\"\"\"\"\"\"\"\"ok\"\"e',\n",
              " 'r\"s\"ta\"\"d\"\"\"\"\"\"\"\"\"\"\"\"\"\"\"\"\"\"\"\"\"\"\"\"\"\"\"\"\"\"\"\"\"\"\"\"\"\"\"\"\"\"\" \"\"\"\"\"\"\"\"\"\"\"\"\"\"dis\"e\"',\n",
              " '\"o\"\"\"\"\"\"ee \"\"b\"\"\"\"\"\"\"\"\"\"\"\"\"\"\"\"\"\"\"\"\"\"\"\"\"\"\"\"\"\"\"\"\"\"\"\"\"\"\"\"\"\"\"\"\"ke\"\"\"\"\"\"e\"\"\"\"sa\"\"a\"',\n",
              " 's\"\"r\"\"\"\"\"\"\"\"\"\"foi\"\"\" \"e \"\"\"dan\"\"\"',\n",
              " 'si\"\"m\"\"\"\"\"\"\"\"\"\"\"\"\"\"seem\"\"i\"\"\"\"\"\"\"\"\"\"\"\"\"\"\"\"\"\"\"\"\"\"\"\"\"\"\"\"\"\"\"\"\"\"\"\"\"\"\"\"\"ee tc\"\"\"\"a\"   n\"\"aat\"tt',\n",
              " 'p\"\"\"m\"\"\"\"\" \"\"\"\"\"\"\"\"\"\"\"\"e \"\"p\"r\"\" \"\" \"\"\"\"a\"\"\"e',\n",
              " 'de\"\"\"i\"\"\"\"\"\"\"\"\"\"\"\"\"\"\"\"\"\" \"\"\"\"\"\"\"\"\"\"\"\"\"\"\"\"o\"\"\"\"\"\"\"\"\"\"\"ba\"\"\"e',\n",
              " '\"\"\"\"r\"o\"\"\"\"\"\"\"\"\"\"\"\"\"\"\"\"\"\"\"\"\"\"\"\"\"\"\"\"\"\"\"\"\"\"\"\" \"\"o\"\"\"\" \"\"\"\"\"\"yas\"\"f',\n",
              " 'c\"\"\"\"\"\"\"\"\"\"\"m\"\"\"\"\"\"\"\"\"\"\"\"\"e\"t\"\"i\"\"\"\"\"\"\"\"\"\"\"\"\"\"\"\"\"\"\"\"\"\"\"\"è\"\"\"\"\"\"\"\"\"\"e\"\"\"\"\"\"\" d\"\" c\"\"\"aam\"\"\"bérène',\n",
              " '\"\"a\"m\"\"\"\"\"\"\"\"\"\"\"\"\"\"\"\"\"\"\"\"\"\"\"\"\"\"\"\"\"\"\"\"\"\"\"\"\"\"\"\"\"\"\"\"\"\"zin\"\"e',\n",
              " 'si\"\"m\"\"\"\"\"\"\"\"\"\"\"\"\"ee \"\"b\"\"\"\"\"\"\"\"\"\"\"\"\"\"\"\"\"\"\"\"\"\"\"\"\"\"\"\"\"\"\"\"\"\"\"\"\"\"\"\"\"\"\"\"\"\"tu\"\"\" a\"  \"n\"aaaa\"',\n",
              " 'di\"\"\"\"\"\"\"\"\"\"\"\"\"\"\"\"\"\"\"\"\"\"\"\"\"\"\"\"e\"\"\"\"\"\"\"\"\"\"\"din\"\"r',\n",
              " 'be\"\"\"\"\"\"\"\"s mka\"n\"\" \"a \"\"\"fak\"\"\"',\n",
              " '\"\"\"\"\"\"\"\"\"\"\"\"\"\"\"ss\"\"\"\"\"\"\"\"\"\"\"\"e\"\"\"\"i\"\"\"\"\"\"\"\"\"\"\"\"\"\"\"\"\"\"\"\"\"\"\"\"\"\"\"\"\"\"\"\"\"e\"\"\"\"\"\"\"a\"  cp\"\"aa\"\"tio\"\"\"on\"n\"',\n",
              " '\"\"\"\"\"\"\"\"\"\"\"\"\"\"\"\"\"\"\"\"\"\"\"\"\"\"\"\"\"\"\"\"\"\"\"\"\"\"\"e\"\"\"\"i\"\"\"\"\"\"\"\"\"\"\"\"\"\"\"\"\"\"\"\"\"\"\"e\"t\"\"\"\"\"d\"\" \"\"\"\"aa\"\"\"\"b\"\"\"\"\"n\"\"\"\"\"\"\"al\"ee',\n",
              " 'ba\"\"\"\"\"\"\"\"\"\"\"\"\"\"\"\"\"e\"\"\"e \"\"\"d\"\"ja\"\"ne',\n",
              " 't\"u\"\"\"\"\"\"\"\"\"\"\"\"\"\"\"\"\"\"\"\"\"\"\"\"\"\"\"\"\" \"\"\"\"\"\"\"\"\"\"\"\"\"\"\"\"e\"\"\"\"\"\"\"\"r\"\"sasq\"e',\n",
              " 'bo\"\"\"io\"\"\"\"c\"\"l\"\"\"\"\"\"\"\"e\"\"\"\"\"\"\"\"\"\"\"\"\"\"\" \"\"o\"\"\"\"\"\"e \"\"\"\"ak\"n\"',\n",
              " 're\"r\"\"\"n\"\" \"h\"\"\"\"\"\"\"\"\"\"\"\"x\"\"\"\"\"\"\"\"\"\"\"\"\"\"\"\"\"\"\"o\"l\"\"\"\"\"\"\"\"\"sak\"\"f',\n",
              " 'si\"\"m\"\"\"\"\"\"\"\"\"\"\"se\"t\"\"i\"\"\"\"\"\"\"\"\"\"\"\"\"\"\"\"\"\"\"\"\"\"\"\"\"\"\"\"\" \"\"\"\"\"\"\"\"\"\"\"\"\"\"\"\"\"\"c\"\"\"\"a\"\" \"pa\"aam',\n",
              " 'ba\"\"\"\"\"\"\"\"\"\"\"\"\"\"\"\"\"e\"\"\"e \"\"\"d\"\"ja\"\"ne',\n",
              " 'r\"u\"t\"\"\"\"\" \"\"\"\"\"\"\"\"\"\"\"\"\"\"\"\"\"\"\"\"\"\"\"\"\"\"\"\"\"\"\"\"\"our\"\"\"\"\" \"\"\"bok\"\"\"',\n",
              " 'pia\"k\"\"\"\"\"\"\"i\"\"\"n\"\"\"o\"c\"\"\"\"\"\"\"u\"bat\"\"e',\n",
              " 'pa\"rki\"\"\"\"\"\"\"\"\"\"\"\"\"\"\"\"\"\"\"\"\"\"\"\"\"\"\"\"\"\"\"\"\"\"\"\"\"\"sar\"\"e',\n",
              " 'caa\"k\"\"l\"\"\"\"h\"\"\"i\"\"\"\"\"\"\"\"\"\"\"\"\"\"\" \"\"e\"c\"\"\"\"\" \"u\"sa\"\"\"r',\n",
              " 'di\"\"\"\"\"\"\"\"\"\"\"\"\"\"\"\"\"\"\"\"\"\"\"\"\"\"\"\"e\"\"\"\"\"\"\"\"\"\"\"din\"\"r',\n",
              " 'c\"\"\"mi\"\"\"ss\"\"\"\"\"\"\"\"\"\"\"\"e\"\"\"\"i\"\"\"\"\"\"\"\"\"\"\"\"\"\"\"\"\"\"\"\"\"\"\"\"\"\"\"\"\"\"\"\"\"\"\"\"\"\"\"e\"\"e \"\"o\"\"\" \"ne\"\"\"m\"atè\"è',\n",
              " 'gi\"\"\"a\"\"\"y\"\"\"\"\"\"\"\"\"\"\" \"\"\"\"\"\"\"\"\"\"\"\"\"\"\"ke\"\"\"\"\"\"a\"\"\"\"saz\"\"\"',\n",
              " 'de\"\"\"i\"\"\"\"\"\"\"\"\"\"\"\"\"\"\"\"\"\" \"\"\"\"\"\"\"\"\"\"\"\"\"\"\"\"o\"\"\"\"\"\"\"\"\"\"\"ba\"\"\"e',\n",
              " '\"o\"\"\"\"\"\"ee \"\"b\"\"\"\"\"\"\"\"\"\"\"\"\"\"\"\"\"\"\"\"\"\"\"\"\"\"\"\"\"\"\"\"\"\"\"\"\"\"\"\"\"\"\"\"\"ke\"\"\"\"\"\"e\"\"\"\"sa\"\"a\"',\n",
              " 's\"\"r\"\"\"\"\"\"\"\"\"\"foi\"\"\" \"e \"\"\"dan\"\"\"',\n",
              " 'co\"\"\"\"\"\"\"\"\"\"\"\"\"\"\"\"\"\" \"\"\"\"\"\"\"\"\"\"\"\"\"\"\"\"o\"\"\"\"\"\"\"\"\"\"\"\"at\"ne',\n",
              " 's\"\"\"\"\"\"\"\"\"\"\"\"\"\"\"s\"\"i\"\"\"\"\"\"\"\"\"\"\"\"\"\"\"\"\"\"\"\"\"\"\"\"\"\"\"\"\"\"\"\"\"\"\"\"\"\"\"\"\"\"\"\"m\"\"e\"\"\"\"\"\"\"\"\"\"\"ucn\"\"',\n",
              " '\"\"\"r\"n\"\"\"i\"\"e\"r\"\"\"\"\"\" \"\"\"\"\"\"\"\"\"\"\"\"\"\"\"\"\" \"\"\"\"\"\"\"\"\"\"\"\"\"\"\"\"a\"r\"\"\"\"\"\"\"u\"\"ét\"\"\"',\n",
              " 'bo\"\"\"io\"\"\"\"c\"\"l\"\"\"\"\"\"\"\"e\"\"\"\"\"\"\"\"\"\"\"\"\"\"\" \"\"o\"\"\"\"\"\"e \"\"\"\"ak\"n\"',\n",
              " 'p\"\"\"m\"\"\"\"\" \"\"\"\"\"\"\"\"\"\"\"\"e \"\"p\"r\"\" \"\" \"\"\"\"a\"\"\"e',\n",
              " '\"a\"\"m\"\"i\"\"\"\"u\"\"\"\"\"\" \"\"\"\"\"y\"\"\"\"\"\"\"\"\"\"\"\"\"\"\"\"\"\"\"\"\"\"\"\"\" \"\"e\"r\"y\"\"\"\"\"\"\"\"a\"\"de',\n",
              " '\"\"\"\"\"\"\"\"\"\"\"\"\"\"\"\"\"\"\"\"\"\"\"\"\"\"\"\"\"\"\"\"\"\"\"\"\"\"\"\"\"\"\"\"\"\"\"\"\"\"\"\"\"\"\"\"\"\"\"\"\"\"\"\"\"\"\"\"\"\"\"\"\"\"\"\"\"\"\" \"\"\"\"\"mm\"\"\"è\"è\"\"\"\"\"\"e\"\"\"\"\"\"\"e\"\"ee\"\"e\"\"\"e\"\"\"\"\"\"\"\"\"\"è\"\"\"\"\"\"\"\"\"\"\"\"\"\"\"\"\"\"\"\"\"e\"\"\"\"\"\"e\"\"\"\"\"al\"ee',\n",
              " 'b\"\"\"\"\"\"\"\"\"\"\"\"\"\"\"\"\"\" \"\"e\"\"\"\"\"\"e \"\"\"fa\"\"\"\"',\n",
              " 'co\"\"\"\"\"\"\"\"\"\"\"\"\"\"\"\"\"\" \"\"\"\"\"\"\"\"\"\"\"\"\"\"\"\"o\"\"\"\"\"\"\"\"\"\"\"\"at\"ne',\n",
              " '\"a\"\"m\"\"i\"\"\"\"u\"\"\"\"\"\" \"\"\"\"\"y\"\"\"\"\"\"\"\"\"\"\"\"\"\"\"\"\"\"\"\"\"\"\"\"\" \"\"e\"r\"y\"\"\"\"\"\"\"\"a\"\"de',\n",
              " 's\"\"\"tio\"\"\"\"\"\"\"\"\"\"\"\"\"\"\"\"\"\"\" \"\"ou\"\"\"\"\"\"\"\"\"\"\"ik\"ae',\n",
              " 's\"\"\"\"\"o\"\"\"\"\"u\"\"\"mb\"\"\"\"\"\"\"\" \"\"\"kan\"ne',\n",
              " 'c\"\"\"mi\"\"\"ss\"\"\"\"\"\"\"\"\"\"\"\"e\"\"\"\"i\"\"\"\"\"\"\"\"\"\"\"\"\"\"\"\"\"\"\"\"\"\"\"\"\"\"\"\"\"\"\"\"\"\"\"\"\"\"\"e\"\"e \"\"o\"\"\" \"ne\"\"\"m\"atè\"è',\n",
              " 's\"\"\"\"\"\"\"\"\"\"\"\"\"\"\"s\"\"i\"\"\"\"\"\"\"\"\"\"\"\"\"\"\"\"\"\"\"\"\"\"\"\"\"\"\"\"\"\"\"\"\"\"\"\"\"\"\"\"\"\"\"\"m\"\"e\"\"\"\"\"\"\"\"\"\"\"ucn\"\"',\n",
              " 't\"\"\"\"\"on\"\"\"\"\"\"\"\"\"\"\"\"\"\"\"\"\"\"\"\"\"\"\"\"\"\"\"\"\"\"\"ok\"\"e',\n",
              " 'di\"\"\"\"\"\"\"\"\"\"\"\"\"\"\"\"\"\"\"\"\"\"\"\"\"\"\"\"e\"\"\"\"\"\"\"\"\"\"\"din\"\"r',\n",
              " 'cen\"t\"\"\"\"\" \"o\"\"\"\"o\"\"\"\"\"\"\"l\"\"\"\"\"\"\"\"\"\"\"\"\"\"\"\"\"\"w\"\"\"\"\" \"\"p\"\"\"\"\"\"\"\"\"\"mzat\"\"t',\n",
              " 'p\"\"\"m\"\"\"\"\" \"\"\"\"\"\"\"\"\"\"\"\"e \"\"p\"r\"\" \"\" \"\"\"\"a\"\"\"e',\n",
              " 'g\"a\"\"i\"\"\"\"\"\"\"\"\"\"\"e\" \"\"\"\"\"\"\"\"\"\"\"\"\"\"\"\"o\"r\"\"\"\"\" d\"\"yas\"\"e',\n",
              " 'b\"\"\"\"\"\"\"\"\"\"\"\"\"\"\"\"\"\" \"\"e\"\"\"\"\"\"e \"\"\"fa\"\"\"\"',\n",
              " 'p\"\"\"m\"\"\"\"\" \"\"\"\"\"\"\"\"\"\"\"\"e \"\"p\"r\"\" \"\" \"\"\"\"a\"\"\"e',\n",
              " 'di\"r\"\"\"\"\"\"\"\"u\"\"\"\"\"\"\"\"\"\"\"\"\"\"\"\"\"\"\"\"\"\"\"\"\"\"\"\"\"\"\"\"\"\"\"o\"\"\"\"\"\"\"\"\"\"\"baf\"\"\"',\n",
              " '\"\"\"\"\"\"\"\"\"\"seet\"\"i\"\"\"\"\"\"\"\"x\"\"\"\"\"\"\"\"\"\"\"\"\"\"\"\"\"\"\"\"\"\"\"\"\"\"\"\"\"\"\"\"r\"\"\"\"i\"\"\"e\"\"t\"\"\"\"da\"\"u\"',\n",
              " '\"\"\"\"\"\"\"\"\"\"\"\"\"\"\"\"\"\"\"\"\"\"\"\"\"\"\"\"\"\"\"\"\"\"\"\"\"\"\"\"\"\"\"\"\"\"\"e\"\"\"\"i\"\"\"\"\"\"\"\"\"\"\"\"\"\"\"\"\"t\"\"\"\"\"a\"\" \"n\"\"\"\"\"\"\"\"è\"\"\"\"n\"\"\"\"\"l\"e\"ee\"ee\"\"al\"ee',\n",
              " 'b\"\"\"\"\"\"\"\"\"\"\"\"\"\"\"\"\"\" \"\"e\"\"\"\"\"\"e \"\"\"fa\"\"\"\"',\n",
              " 's\"\"\"\"\"\"\"\"\"\"\"\"\"\"\"s\"\"i\"\"\"\"\"\"\"\"\"\"\"\"\"\"\"\"\"\"\"\"\"\"\"\"\"\"\"\"\"\"\"\"\"\"\"\"\"\"\"\"\"\"\"\"m\"\"e\"\"\"\"\"\"\"\"\"\"\"ucn\"\"',\n",
              " '\"a\"\"m\"\"i\"\"\"\"u\"\"\"\"\"\" \"\"\"\"\"y\"\"\"\"\"\"\"\"\"\"\"\"\"\"\"\"\"\"\"\"\"\"\"\"\" \"\"e\"r\"y\"\"\"\"\"\"\"\"a\"\"de',\n",
              " 'ci\"\"mi\"\"ss\"\"\"\"\"\"\"\"\"\"\"\"ee \"\"i\"\"\"\"\"\"\"\"\"\"\"\"\"\"\"\"\"\"\"\"\"\"\"\"\"\"\"\"\"\"\"\"\"\"\"\"\"\"\"e\"\"\"\"\"\"\"\"l\"\" \"e\"\"\"\"mati\"\"',\n",
              " 'ea\"\"i\"\"e\"\"\"\"\"\"\"\"\"\"\"\"\"\"\"\"\"\"\"\"\"\"\"\"\"\"\"\"\"\"\"\"\"\"\"\"\"\"\"\"\"\"\"o\"r\"\"\"\"e\"\"-\"sozqee',\n",
              " 's\"s\"\"\"\"\"\"\"\"\"\"\"\"\"n\"\"\"i\"\"e\"\"\"\"\"\"\"\"\"\"\"\"\"\"\"\"\"\"\"\"\"\"\"\"\"\"\"\"\"\"\"\"\"\"\"\"\"\"\"\"\"\"\"ee\"te \"\" d\"  an\"aa',\n",
              " 'bo\"\"\"io\"\"\"\"c\"\"l\"\"\"\"\"\"\"\"e\"\"\"\"\"\"\"\"\"\"\"\"\"\"\" \"\"o\"\"\"\"\"\"e \"\"\"\"ak\"n\"',\n",
              " 're\"r\"\"\"n\"\" \"h\"\"\"\"\"\"\"\"\"\"\"\"x\"\"\"\"\"\"\"\"\"\"\"\"\"\"\"\"\"\"\"o\"l\"\"\"\"\"\"\"\"\"sak\"\"f',\n",
              " 'bo\"\"\"io\"\"\"\"c\"\"l\"\"\"\"\"\"\"\"e\"\"\"\"\"\"\"\"\"\"\"\"\"\"\" \"\"o\"\"\"\"\"\"e \"\"\"\"ak\"n\"',\n",
              " 'pa\"rki\"\"\"\"\"\"\"\"\"\"\"\"\"\"\"\"\"\"\"\"\"\"\"\"\"\"\"\"\"\"\"\"\"\"\"\"\"\"sar\"\"e',\n",
              " 'pia\"k\"\"\"\"\"\"\"i\"\"\"n\"\"\"o\"c\"\"\"\"\"\"\"u\"bat\"\"e',\n",
              " 'gi\"\"\"a\"\"\"y\"\"\"\"\"\"\"\"\"\"\" \"\"\"\"\"\"\"\"\"\"\"\"\"\"\"ke\"\"\"\"\"\"a\"\"\"\"saz\"\"\"',\n",
              " 'r\"u\"t\"\"\"\"\" \"\"\"\"\"\"\"\"\"\"\"\"\"\"\"\"\"\"\"\"\"\"\"\"\"\"\"\"\"\"\"\"\"our\"\"\"\"\" \"\"\"bok\"\"\"',\n",
              " 'g\"a\"\"i\"\"\"\"\"\"\"\"\"\"\"e\" \"\"\"\"\"\"\"\"\"\"\"\"\"\"\"\"o\"r\"\"\"\"\" d\"\"yas\"\"e',\n",
              " '\"\"a\"m\"\"\"\"\"\"\"\"\"\"\"\"\"\"\"\"\"\"\"\"\"\"\"\"\"\"\"\"\"\"\"\"\"\"\"\"\"\"\"\"\"\"\"\"\"\"zin\"\"e',\n",
              " 'b\"\"\"\"\"\"\"\"\"\"\"\"\"\"\"\"\"\" \"\"e\"\"\"\"\"\"e \"\"\"fa\"\"\"\"',\n",
              " 'de\"\"\"i\"\"\"\"\"\"\"\"\"\"\"\"\"\"\"\"\"\" \"\"\"\"\"\"\"\"\"\"\"\"\"\"\"\"o\"\"\"\"\"\"\"\"\"\"\"ba\"\"\"e',\n",
              " 'di\"\"\"\"\"\"\"\"\"\"\"\"\"\"\"\"\"\"\"\"\"\"\"\"\"\"\"\"e\"\"\"\"\"\"\"\"\"\"\"din\"\"r',\n",
              " 'ba\"\"\"\"\"\"\"\"\"\"\"\"\"\"\"\"\"e\"\"\"e \"\"\"d\"\"ja\"\"ne',\n",
              " '\"\"\"r\"cen \"\"b\"\"\"\"\"o\"\"\"\"\"\"\"\"\"\"\"\"\"w\"\"\"\"\"\"\"\"\"\"\"\"\"\"\"\"\"\"\"\"\"\"\"\"\"\"e\"\"\"\"\"m\"\"ee tss\"\"l',\n",
              " 'p\"\"\"m\"\"\"\"\" \"\"\"\"\"\"\"\"\"\"\"\"e \"\"p\"r\"\" \"\" \"\"\"\"a\"\"\"e',\n",
              " 'p\"\"\"m\"\"\"\"\" \"\"\"\"\"\"\"\"\"\"\"\"e \"\"p\"r\"\" \"\" \"\"\"\"a\"\"\"e',\n",
              " 'di\"\"\"\"\"\"\"\"\"\"\"\"\"\"\"\"\"\"\"\"\"\"\"\"\"\"\"\"e\"\"\"\"\"\"\"\"\"\"\"din\"\"r',\n",
              " 'di\"\"\"\"\"\"\"\"\"\"\"\"\"\"\"\"\"\"\"\"\"\"\"\"\"\"\"\"e\"\"\"\"\"\"\"\"\"\"\"din\"\"r',\n",
              " 'si\"\"mi\"\"s\"\"\"\"\"\"\"\"\"\"\"\"ee\"\"\"i\"\"\"\"\"\"\"\"\"\"\"\"\"\"\"\"\"\"\"\"\"\"\"\"\"\"\"\"\"\"\"\"\"\"\"\"\"\"\"\"\"e\"\"\"\"\"\"la\"  \"n\"\"\"aatt\"è',\n",
              " '\"a\"\"m\"\"i\"\"\"\"u\"\"\"\"\"\" \"\"\"\"\"y\"\"\"\"\"\"\"\"\"\"\"\"\"\"\"\"\"\"\"\"\"\"\"\"\" \"\"e\"r\"y\"\"\"\"\"\"\"\"a\"\"de',\n",
              " 'm\"a\"\"\"\"\"\" \"ch\"l\"i\"\"e o\"\"ba\"\"ae',\n",
              " 'b\"a\"t\"\"n\"\"\"\"\"\"\"\"\"\"\"\"\"\"\"\"\"\"\"\"\"\" \"\"\"\"l\"\"\"\"\"\"\"\"\"dar\"\"\"',\n",
              " 'bo\"\"\"io\"\"\"\"c\"\"l\"\"\"\"\"\"\"\"e\"\"\"\"\"\"\"\"\"\"\"\"\"\"\" \"\"o\"\"\"\"\"\"e \"\"\"\"ak\"n\"',\n",
              " 'm\"\"d\"\"\"\"r\"\"\"\"\"\"\"\"\"\"\"\"\"\"\"\"\"\"\"\"\"\"\"\"\"\"\"\"\"\"\"\"\"\"\"\"\"\"\"\"\"\"\"r\"\"\"\"\"\"\"\"\"fisq\"e',\n",
              " '\"\"\"\"\"\"\"\"\"\"\"\"\"\"\"\"\"\"\"\"\"\"\"\"\"\"\"\"\"\"\"\"\"\"\"\"\"\"\"\"\"\"\"\"\"d\"\"\"\"\"\"\"\"\"\"\"\"\"\"\"\"\"\"\"\"\"e\"\"\"\"\"\"\" d\"\" \"n\"\"aa\"\"\"i\"\"\"\"n\"\"\"\"\"\"\"e\"\"al\"ee',\n",
              " '\"a\"\"m\"\"i\"\"\"\"u\"\"\"\"\"\" \"\"\"\"\"y\"\"\"\"\"\"\"\"\"\"\"\"\"\"\"\"\"\"\"\"\"\"\"\"\" \"\"e\"r\"y\"\"\"\"\"\"\"\"a\"\"de',\n",
              " '\"h\"\"mi\"\"\"\"\"\"e\"\"fi\"\"\"\" m\"\"xc\"\"\"\"w \"\"\"dir\"\"e',\n",
              " '\"h\"\"mi\"\"\"\"\"\"e\"\"fi\"\"\"\" m\"\"xc\"\"\"\"w \"\"\"dir\"\"e',\n",
              " 'pia\"k\"\"\"\"\"\"\"i\"\"\"n\"\"\"o\"c\"\"\"\"\"\"\"u\"bat\"\"e',\n",
              " 'co\"\"\"\"\"\"\"\"\"\"\"\"\"\"\"\"\"\" \"\"\"\"\"\"\"\"\"\"\"\"\"\"\"\"o\"\"\"\"\"\"\"\"\"\"\"\"at\"ne',\n",
              " 't\"u\"\"\"\"\"\"\"\"\"\"\"\"\"\"\"\"\"\"\"\"\"\"\"\"\"\"\"\"\" \"\"\"\"\"\"\"\"\"\"\"\"\"\"\"\"e\"\"\"\"\"\"\"\"r\"\"sasq\"e',\n",
              " 'ba\"\"\"\"\"\"\"\"\"\"\"\"\"\"\"\"\"e\"\"\"e \"\"\"d\"\"ja\"\"ne',\n",
              " '\"a\"\"m\"\"i\"\"\"\"u\"\"\"\"\"\" \"\"\"\"\"y\"\"\"\"\"\"\"\"\"\"\"\"\"\"\"\"\"\"\"\"\"\"\"\"\" \"\"e\"r\"y\"\"\"\"\"\"\"\"a\"\"de',\n",
              " '\"\"\"\"\"\"\"\"\"\"seet\"\"i\"\"\"\"\"\"\"\"x\"\"\"\"\"\"\"\"\"\"\"\"\"\"\"\"\"\"\"\"\"\"\"\"\"\"\"\"\"\"\"\"r\"\"\"\"i\"\"\"e\"\"t\"\"\"\"da\"\"u\"',\n",
              " 'ea\"\"i\"\"e\"\"\"\"\"\"\"\"\"\"\"\"\"\"\"\"\"\"\"\"\"\"\"\"\"\"\"\"\"\"\"\"\"\"\"\"\"\"\"\"\"\"\"o\"r\"\"\"\"e\"\"-\"sozqee',\n",
              " '\"\"\"r\"n\"\"\"i\"\"e\"r\"\"\"\"\"\" \"\"\"\"\"\"\"\"\"\"\"\"\"\"\"\"\" \"\"\"\"\"\"\"\"\"\"\"\"\"\"\"\"a\"r\"\"\"\"\"\"\"u\"\"ét\"\"\"',\n",
              " 'r\"u\"t\"\"\"\"\" \"\"\"\"\"\"\"\"\"\"\"\"\"\"\"\"\"\"\"\"\"\"\"\"\"\"\"\"\"\"\"\"\"our\"\"\"\"\" \"\"\"bok\"\"\"',\n",
              " 'si\"\"mp\"n \"\"\"\"\"\"\"\"\"\"\"\"\"\"\"b\"\"c\"\"\"\"\"\"\"e\"ka\"\"\"t',\n",
              " 'co\"\"\"\"\"\"\"\"\"\"\"\"\"\"\"\"\"\" \"\"\"\"\"\"\"\"\"\"\"\"\"\"\"\"o\"\"\"\"\"\"\"\"\"\"\"\"at\"ne',\n",
              " 'di\"r\"\"\"\"\"\"\"\"u\"\"\"\"\"\"\"\"\"\"\"\"\"\"\"\"\"\"\"\"\"\"\"\"\"\"\"\"\"\"\"\"\"\"\"o\"\"\"\"\"\"\"\"\"\"\"baf\"\"\"',\n",
              " 'si\"\"m\"\"\"\"\"\"\"\"\"\"\"\"\"ee \"\"b\"\"\"\"\"\"\"\"\"\"\"\"\"\"\"\"\"\"\"\"\"\"\"\"\"\"\"\"\"\"\"\"\"\"\"\"\"\"\"\"\"\"\"\"\"\"tu\"\"\" a\"  \"n\"aaaa\"',\n",
              " '\"a\"\"\"i\"\"\"\" c\"\"\"\"\"\"\"\"\"\"\"\"\"\"\"\"\"\"\" \"\"o\"\"\"\" \"\"\"\"\"\"bo\"\"\"r',\n",
              " 'co\"\"\"\"\"\"\"\"\"\"\"\"\"\"\"\"\"\" \"\"\"\"\"\"\"\"\"\"\"\"\"\"\"\"o\"\"\"\"\"\"\"\"\"\"\"\"at\"ne',\n",
              " '\"o\"\"\"\"\"\"ee \"\"b\"\"\"\"\"\"\"\"\"\"\"\"\"\"\"\"\"\"\"\"\"\"\"\"\"\"\"\"\"\"\"\"\"\"\"\"\"\"\"\"\"\"\"\"\"ke\"\"\"\"\"\"e\"\"\"\"sa\"\"a\"',\n",
              " '\"\"a\"m\"\"\"\"\"\"\"\"\"\"\"\"\"\"\"\"\"\"\"\"\"\"\"\"\"\"\"\"\"\"\"\"\"\"\"\"\"\"\"\"\"\"\"\"\"\"zin\"\"e',\n",
              " '\"o\"\"\"\"\"\"ee \"\"b\"\"\"\"\"\"\"\"\"\"\"\"\"\"\"\"\"\"\"\"\"\"\"\"\"\"\"\"\"\"\"\"\"\"\"\"\"\"\"\"\"\"\"\"\"ke\"\"\"\"\"\"e\"\"\"\"sa\"\"a\"',\n",
              " 'pa\"rki\"\"\"\"\"\"\"\"\"\"\"\"\"\"\"\"\"\"\"\"\"\"\"\"\"\"\"\"\"\"\"\"\"\"\"\"\"\"sar\"\"e',\n",
              " 'b\"a\"\"\"\"n \"\"\"\"\"\"\"\"\"\"\"\"\"\"\"\"\"\"\"\"\"\"\"\"\"\"\"\"\"\"\"\"\"\"\"\"\"\"\"\"\"\" r\"\"\"ak\"\"e',\n",
              " '\"\"a\"m\"\"\"\"\"\"\"\"\"\"\"\"\"\"\"\"\"\"\"\"\"\"\"\"\"\"\"\"\"\"\"\"\"\"\"\"\"\"\"\"\"\"\"\"\"\"zin\"\"e',\n",
              " 'm\"\"d\"\"\"\"r\"\"\"\"\"\"\"\"\"\"\"\"\"\"\"\"\"\"\"\"\"\"\"\"\"\"\"\"\"\"\"\"\"\"\"\"\"\"\"\"\"\"\"r\"\"\"\"\"\"\"\"\"fisq\"e',\n",
              " '\"\"\"\"\"\"\"\"reec\"\"\"\"\"e\"\"\"\"\"\"\"l\"\"\"\"\"\"\"\"\"\"\"\"\"\"\"\"\"\"\"\"\"\"\"\"\"\"\"\"\"\"\"\"\"\"\"\"\"\"\"\"\"ee de zola\"r',\n",
              " 'si\"\"m\"\"\"\"\"\"\"\"\"\"\"\"\"\"seem\"\"i\"\"\"\"\"\"\"\"\"\"\"\"\"\"\"\"\"\"\"\"\"\"\"\"\"\"\"\"\"\"\"\"\"\"\"\"\"\"\"\"\"ee tc\"\"\"\"a\"   n\"\"aat\"tt',\n",
              " 'r\"s\"ta\"\"d\"\"\"\"\"\"\"\"\"\"\"\"\"\"\"\"\"\"\"\"\"\"\"\"\"\"\"\"\"\"\"\"\"\"\"\"\"\"\"\"\"\"\" \"\"\"\"\"\"\"\"\"\"\"\"\"\"dis\"e\"',\n",
              " '\"\"\"r\"n\"\"\"i\"\"e\"r\"\"\"\"\"\" \"\"\"\"\"\"\"\"\"\"\"\"\"\"\"\"\" \"\"\"\"\"\"\"\"\"\"\"\"\"\"\"\"a\"r\"\"\"\"\"\"\"u\"\"ét\"\"\"',\n",
              " 'de\"\"\"i\"\"\"\"\"\"\"\"\"\"\"\"\"\"\"\"\"\" \"\"\"\"\"\"\"\"\"\"\"\"\"\"\"\"o\"\"\"\"\"\"\"\"\"\"\"ba\"\"\"e',\n",
              " 'pia\"k\"\"\"\"\"\"\"i\"\"\"n\"\"\"o\"c\"\"\"\"\"\"\"u\"bat\"\"e',\n",
              " '\"\"\"\"\"\"\"\"\"\"\"\"\"\"\"\"\"\"\"\"\"\"\"\"\"\"\"e\"\"\"\"b\"\"\"\"\"\"\"\"\"\"\"\"\"\"\"\"\"\"\"\"\"\"\"\"\"\"\"\"\"\"\"\"\"\"ee\"t\"\"\"\"\"\"\"\" \"n\"\"\"aa\"ri\"\"a\"èn\"',\n",
              " 'bo\"\"\"io\"\"\"\"c\"\"l\"\"\"\"\"\"\"\"e\"\"\"\"\"\"\"\"\"\"\"\"\"\"\" \"\"o\"\"\"\"\"\"e \"\"\"\"ak\"n\"',\n",
              " 'pa\"rki\"\"\"\"\"\"\"\"\"\"\"\"\"\"\"\"\"\"\"\"\"\"\"\"\"\"\"\"\"\"\"\"\"\"\"\"\"\"sar\"\"e',\n",
              " 'm\"\"d\"\"\"\"r\"\"\"\"\"\"\"\"\"\"\"\"\"\"\"\"\"\"\"\"\"\"\"\"\"\"\"\"\"\"\"\"\"\"\"\"\"\"\"\"\"\"\"r\"\"\"\"\"\"\"\"\"fisq\"e',\n",
              " 're\"r\"\"\"n\"\" \"h\"\"\"\"\"\"\"\"\"\"\"\"x\"\"\"\"\"\"\"\"\"\"\"\"\"\"\"\"\"\"\"o\"l\"\"\"\"\"\"\"\"\"sak\"\"f',\n",
              " 'b\"\"\"\"\"\"\"\"\"\"\"\"\"\"\"\"\"\" \"\"e\"\"\"\"\"\"e \"\"\"fa\"\"\"\"',\n",
              " '\"\"\"\"r\"o\"\"\"\"\"\"\"\"\"\"\"\"\"\"\"\"\"\"\"\"\"\"\"\"\"\"\"\"\"\"\"\"\"\"\"\" \"\"o\"\"\"\" \"\"\"\"\"\"yas\"\"f',\n",
              " 'si\"\"m\"\"\"\"\"\"\"\"\"\"\"se\"t\"\"i\"\"\"\"\"\"\"\"\"\"\"\"\"\"\"\"\"\"\"\"\"\"\"\"\"\"\"\"\" \"\"\"\"\"\"\"\"\"\"\"\"\"\"\"\"\"\"c\"\"\"\"a\"\" \"pa\"aam',\n",
              " 'r\"u\"t\"\"\"\"\" \"\"\"\"\"\"\"\"\"\"\"\"\"\"\"\"\"\"\"\"\"\"\"\"\"\"\"\"\"\"\"\"\"our\"\"\"\"\" \"\"\"bok\"\"\"',\n",
              " 't\"u\"\"\"\"\"\"\"\"\"\"\"\"\"\"\"\"\"\"\"\"\"\"\"\"\"\"\"\"\" \"\"\"\"\"\"\"\"\"\"\"\"\"\"\"\"e\"\"\"\"\"\"\"\"r\"\"sasq\"e',\n",
              " 'b\"a\"t\"\"n\"\"\"\"\"\"\"\"\"\"\"\"\"\"\"\"\"\"\"\"\"\" \"\"\"\"l\"\"\"\"\"\"\"\"\"dar\"\"\"',\n",
              " '\"\"\"\"r\"o\"\"\"\"\"\"\"\"\"\"\"\"\"\"\"\"\"\"\"\"\"\"\"\"\"\"\"\"\"\"\"\"\"\"\"\" \"\"o\"\"\"\" \"\"\"\"\"\"yas\"\"f',\n",
              " 'bo\"\"\"io\"\"\"\"c\"\"l\"\"\"\"\"\"\"\"e\"\"\"\"\"\"\"\"\"\"\"\"\"\"\" \"\"o\"\"\"\"\"\"e \"\"\"\"ak\"n\"',\n",
              " 'di\"\"\"\"\"\"\"\"\"\"\"\"\"\"\"\"\"\"\"\"\"\"\"\"\"\"\"\"e\"\"\"\"\"\"\"\"\"\"\"din\"\"r',\n",
              " 'pa\"rki\"\"\"\"\"\"\"\"\"\"\"\"\"\"\"\"\"\"\"\"\"\"\"\"\"\"\"\"\"\"\"\"\"\"\"\"\"\"sar\"\"e',\n",
              " 'caa\"k\"\"l\"\"\"\"h\"\"\"i\"\"\"\"\"\"\"\"\"\"\"\"\"\"\" \"\"e\"c\"\"\"\"\" \"u\"sa\"\"\"r',\n",
              " 'pa\"rki\"\"\"\"\"\"\"\"\"\"\"\"\"\"\"\"\"\"\"\"\"\"\"\"\"\"\"\"\"\"\"\"\"\"\"\"\"\"sar\"\"e',\n",
              " 'si\"\"mp\"n \"\"\"\"\"\"\"\"\"\"\"\"\"\"\"b\"\"c\"\"\"\"\"\"\"e\"ka\"\"\"t',\n",
              " 'co\"\"\"\"\"\"\"\"\"\"\"\"\"\"\"\"\"\" \"\"\"\"\"\"\"\"\"\"\"\"\"\"\"\"o\"\"\"\"\"\"\"\"\"\"\"\"at\"ne',\n",
              " 'ea\"\"i\"\"e\"\"\"\"\"\"\"\"\"\"\"\"\"\"\"\"\"\"\"\"\"\"\"\"\"\"\"\"\"\"\"\"\"\"\"\"\"\"\"\"\"\"\"o\"r\"\"\"\"e\"\"-\"sozqee',\n",
              " 't\"u\"\"\"\"\"\"\"\"\"\"\"\"\"\"\"\"\"\"\"\"\"\"\"\"\"\"\"\"\" \"\"\"\"\"\"\"\"\"\"\"\"\"\"\"\"e\"\"\"\"\"\"\"\"r\"\"sasq\"e',\n",
              " 't\"\"\"\"\"on\"\"\"\"\"\"\"\"\"\"\"\"\"\"\"\"\"\"\"\"\"\"\"\"\"\"\"\"\"\"\"ok\"\"e',\n",
              " 'si\"\"mp\"n \"\"\"\"\"\"\"\"\"\"\"\"\"\"\"b\"\"c\"\"\"\"\"\"\"e\"ka\"\"\"t',\n",
              " 'pa\"rki\"\"\"\"\"\"\"\"\"\"\"\"\"\"\"\"\"\"\"\"\"\"\"\"\"\"\"\"\"\"\"\"\"\"\"\"\"\"sar\"\"e',\n",
              " 'r\"u\"t\"\"\"\"\" \"\"\"\"\"\"\"\"\"\"\"\"\"\"\"\"\"\"\"\"\"\"\"\"\"\"\"\"\"\"\"\"\"our\"\"\"\"\" \"\"\"bok\"\"\"',\n",
              " '\"h\"\"mi\"\"\"\"\"\"e\"\"fi\"\"\"\" m\"\"xc\"\"\"\"w \"\"\"dir\"\"e',\n",
              " 'b\"a\"t\"\"n\"\"\"\"\"\"\"\"\"\"\"\"\"\"\"\"\"\"\"\"\"\" \"\"\"\"l\"\"\"\"\"\"\"\"\"dar\"\"\"',\n",
              " '\"a\"\"\"i\"\"\"\" c\"\"\"\"\"\"\"\"\"\"\"\"\"\"\"\"\"\"\" \"\"o\"\"\"\" \"\"\"\"\"\"bo\"\"\"r',\n",
              " 'b\"\"\"\"\"\"\"\"\"\"\"\"\"\"\"\"\"\" \"\"e\"\"\"\"\"\"e \"\"\"fa\"\"\"\"',\n",
              " 't\"\"\"\"\"on\"\"\"\"\"\"\"\"\"\"\"\"\"\"\"\"\"\"\"\"\"\"\"\"\"\"\"\"\"\"\"ok\"\"e',\n",
              " 'b\"a\"t\"\"n\"\"\"\"\"\"\"\"\"\"\"\"\"\"\"\"\"\"\"\"\"\" \"\"\"\"l\"\"\"\"\"\"\"\"\"dar\"\"\"',\n",
              " 't\"u\"\"\"\"\"\"\"\"\"\"\"\"\"\"\"\"\"\"\"\"\"\"\"\"\"\"\"\"\" \"\"\"\"\"\"\"\"\"\"\"\"\"\"\"\"e\"\"\"\"\"\"\"\"r\"\"sasq\"e',\n",
              " 't\"\"\"\"\"on\"\"\"\"\"\"\"\"\"\"\"\"\"\"\"\"\"\"\"\"\"\"\"\"\"\"\"\"\"\"\"ok\"\"e',\n",
              " 'b\"\"\"\"\"\"\"\"\"\"\"\"\"\"\"\"\"\" \"\"e\"\"\"\"\"\"e \"\"\"fa\"\"\"\"',\n",
              " 'di\"\"\"\"\"\"\"\"\"\"\"\"\"\"\"\"\"\"\"\"\"\"\"\"\"\"\"\"e\"\"\"\"\"\"\"\"\"\"\"din\"\"r',\n",
              " 'co\"\"\"\"\"\"\"\"\"\"\"\"\"\"\"\"\"\" \"\"\"\"\"\"\"\"\"\"\"\"\"\"\"\"o\"\"\"\"\"\"\"\"\"\"\"\"at\"ne',\n",
              " 'bo\"\"\"io\"\"\"\"c\"\"l\"\"\"\"\"\"\"\"e\"\"\"\"\"\"\"\"\"\"\"\"\"\"\" \"\"o\"\"\"\"\"\"e \"\"\"\"ak\"n\"',\n",
              " 'p\"\"\"m\"\"\"\"\" \"\"\"\"\"\"\"\"\"\"\"\"e \"\"p\"r\"\" \"\" \"\"\"\"a\"\"\"e',\n",
              " 'b\"a\"\"\"\"n \"\"\"\"\"\"\"\"\"\"\"\"\"\"\"\"\"\"\"\"\"\"\"\"\"\"\"\"\"\"\"\"\"\"\"\"\"\"\"\"\"\" r\"\"\"ak\"\"e',\n",
              " 's\"\"\"tio\"\"\"\"\"\"\"\"\"\"\"\"\"\"\"\"\"\"\" \"\"ou\"\"\"\"\"\"\"\"\"\"\"ik\"ae',\n",
              " 're\"r\"\"\"n\"\" \"h\"\"\"\"\"\"\"\"\"\"\"\"x\"\"\"\"\"\"\"\"\"\"\"\"\"\"\"\"\"\"\"o\"l\"\"\"\"\"\"\"\"\"sak\"\"f',\n",
              " 'g\"a\"\"i\"\"\"\"\"\"\"\"\"\"\"e\" \"\"\"\"\"\"\"\"\"\"\"\"\"\"\"\"o\"r\"\"\"\"\" d\"\"yas\"\"e',\n",
              " 'bo\"\"\"io\"\"\"\"c\"\"l\"\"\"\"\"\"\"\"e\"\"\"\"\"\"\"\"\"\"\"\"\"\"\" \"\"o\"\"\"\"\"\"e \"\"\"\"ak\"n\"',\n",
              " 's\"s\"\"\"\"\"\"\"\"\"\"\"\"\"n\"\"\"i\"\"e\"\"\"\"\"\"\"\"\"\"\"\"\"\"\"\"\"\"\"\"\"\"\"\"\"\"\"\"\"\"\"\"\"\"\"\"\"\"\"\"\"\"\"ee\"te \"\" d\"  an\"aa',\n",
              " '\"\"\"\"\"e\"\"\"\"b\"\"\"\"\"\"\"\"\"\"\"\"\"\"\"\"v\"\"\"\"\"\"\"\"\"\"\"\"\"\"\"\"\"\"\"\"\"\"\"\"r\"\"\"bo\"\"\"\"\"m\"\"\"e\"siu\"d\"',\n",
              " 'b\"a\"\"\"\"n \"\"\"\"\"\"\"\"\"\"\"\"\"\"\"\"\"\"\"\"\"\"\"\"\"\"\"\"\"\"\"\"\"\"\"\"\"\"\"\"\"\" r\"\"\"ak\"\"e',\n",
              " 'b\"\"\"\"\"\"\"\"\"\"\"\"\"\"\"\"\"\" \"\"e\"\"\"\"\"\"e \"\"\"fa\"\"\"\"',\n",
              " 'si\"\"m\"\"\"\"\"\"\"\"\"\"\"se\"t\"\"i\"\"\"\"\"\"\"\"\"\"\"\"\"\"\"\"\"\"\"\"\"\"\"\"\"\"\"\"\" \"\"\"\"\"\"\"\"\"\"\"\"\"\"\"\"\"\"c\"\"\"\"a\"\" \"pa\"aam',\n",
              " 'pa\"rki\"\"\"\"\"\"\"\"\"\"\"\"\"\"\"\"\"\"\"\"\"\"\"\"\"\"\"\"\"\"\"\"\"\"\"\"\"\"sar\"\"e',\n",
              " 'g\"a\"\"i\"\"\"\"\"\"\"\"\"\"\"e\" \"\"\"\"\"\"\"\"\"\"\"\"\"\"\"\"o\"r\"\"\"\"\" d\"\"yas\"\"e',\n",
              " '\"h\"\"mi\"\"\"\"\"\"e\"\"fi\"\"\"\" m\"\"xc\"\"\"\"w \"\"\"dir\"\"e',\n",
              " 'si\"\"m\"\"\"\"\"\"\"\"\"\"\"se\"t\"\"i\"\"\"\"\"\"\"\"\"\"\"\"\"\"\"\"\"\"\"\"\"\"\"\"\"\"\"\"\" \"\"\"\"\"\"\"\"\"\"\"\"\"\"\"\"\"\"c\"\"\"\"a\"\" \"pa\"aam',\n",
              " 'ea\"\"i\"\"e\"\"\"\"\"\"\"\"\"\"\"\"\"\"\"\"\"\"\"\"\"\"\"\"\"\"\"\"\"\"\"\"\"\"\"\"\"\"\"\"\"\"\"o\"r\"\"\"\"e\"\"-\"sozqee',\n",
              " 'de\"\"\"i\"\"\"\"\"\"\"\"\"\"\"\"\"\"\"\"\"\" \"\"\"\"\"\"\"\"\"\"\"\"\"\"\"\"o\"\"\"\"\"\"\"\"\"\"\"ba\"\"\"e',\n",
              " '\"\"\"\"\"e\"\"\"\"b\"\"\"\"\"\"\"\"\"\"\"\"\"\"\"\"v\"\"\"\"\"\"\"\"\"\"\"\"\"\"\"\"\"\"\"\"\"\"\"\"r\"\"\"bo\"\"\"\"\"m\"\"\"e\"siu\"d\"',\n",
              " '\"a\"\"\"i\"\"\"\" c\"\"\"\"\"\"\"\"\"\"\"\"\"\"\"\"\"\"\" \"\"o\"\"\"\" \"\"\"\"\"\"bo\"\"\"r',\n",
              " 'pa\"rki\"\"\"\"\"\"\"\"\"\"\"\"\"\"\"\"\"\"\"\"\"\"\"\"\"\"\"\"\"\"\"\"\"\"\"\"\"\"sar\"\"e',\n",
              " 'bo\"\"\"io\"\"\"\"c\"\"l\"\"\"\"\"\"\"\"e\"\"\"\"\"\"\"\"\"\"\"\"\"\"\" \"\"o\"\"\"\"\"\"e \"\"\"\"ak\"n\"',\n",
              " 'b\"\"\"\"\"\"\"\"\"\"\"\"\"\"\"\"\"\" \"\"e\"\"\"\"\"\"e \"\"\"fa\"\"\"\"',\n",
              " '\"h\"\"mi\"\"\"\"\"\"e\"\"fi\"\"\"\" m\"\"xc\"\"\"\"w \"\"\"dir\"\"e',\n",
              " 'g\"a\"\"i\"\"\"\"\"\"\"\"\"\"\"e\" \"\"\"\"\"\"\"\"\"\"\"\"\"\"\"\"o\"r\"\"\"\"\" d\"\"yas\"\"e',\n",
              " 'c\"\"r\"\"\"\"\"\"\"\"e\"\"\"\"\"\"\"\"\"\"\"\"\"\"\"\"\"ko\"\"\"\"\"\"\" \"\"\"sau\"\"\"',\n",
              " '\"\"\"r\"n\"\"\"i\"\"e\"r\"\"\"\"\"\" \"\"\"\"\"\"\"\"\"\"\"\"\"\"\"\"\" \"\"\"\"\"\"\"\"\"\"\"\"\"\"\"\"a\"r\"\"\"\"\"\"\"u\"\"ét\"\"\"',\n",
              " 'si\"\"mp\"n \"\"\"\"\"\"\"\"\"\"\"\"\"\"\"b\"\"c\"\"\"\"\"\"\"e\"ka\"\"\"t',\n",
              " '\"o\"\"\"\"\"\"ee \"\"b\"\"\"\"\"\"\"\"\"\"\"\"\"\"\"\"\"\"\"\"\"\"\"\"\"\"\"\"\"\"\"\"\"\"\"\"\"\"\"\"\"\"\"\"\"ke\"\"\"\"\"\"e\"\"\"\"sa\"\"a\"',\n",
              " 'co\"\"\"\"\"\"\"\"\"\"\"\"\"\"\"\"\"\" \"\"\"\"\"\"\"\"\"\"\"\"\"\"\"\"o\"\"\"\"\"\"\"\"\"\"\"\"at\"ne',\n",
              " '\"a\"\"\"i\"\"\"\" c\"\"\"\"\"\"\"\"\"\"\"\"\"\"\"\"\"\"\" \"\"o\"\"\"\" \"\"\"\"\"\"bo\"\"\"r',\n",
              " 's\"s\"\"\"\"\"\"\"\"\"\"\"\"\"ee\"\"\"d\"\"\"\"\"\"\"\"\"\"\"\"\"\"\"\"\"\"\"\"\"\"\"\"\"\"\"\"\" \"\"\"\"\"\"\"\"\"\"\"\"\"\"\"\"e\"t\"\"\"\"\"\"\"  ca\"\"aa',\n",
              " 'di\"r\"\"\"\"\"\"\"\"u\"\"\"\"\"\"\"\"\"\"\"\"\"\"\"\"\"\"\"\"\"\"\"\"\"\"\"\"\"\"\"\"\"\"\"o\"\"\"\"\"\"\"\"\"\"\"baf\"\"\"',\n",
              " '\"\"\"\"\"\"\"\"\"\"\"\"\"\"\"\"\"\"\"\"\"\"\"\"\"\"\"\"\"\"\"\"\"\"\"\"\"\"\"\"\"e\"\"\"\"b\"\"\"\"\"\"\"\"\"\"\"\"\"\"\"\"\"\"\"\"ee\"t\"\"\"\"\"\"\"\"\"\"n\"\"waa\"r\"è\"\"\"\"n\"\"\"\"\"\"\"e\"\"al\"ee',\n",
              " 'pa\"rki\"\"\"\"\"\"\"\"\"\"\"\"\"\"\"\"\"\"\"\"\"\"\"\"\"\"\"\"\"\"\"\"\"\"\"\"\"\"sar\"\"e',\n",
              " '\"a\"\"\"i\"\"\"\" c\"\"\"\"\"\"\"\"\"\"\"\"\"\"\"\"\"\"\" \"\"o\"\"\"\" \"\"\"\"\"\"bo\"\"\"r',\n",
              " 'cea\" p\"\"\"\" ch\"é\"\"e\"\"\"o\"\"\"y\"\"a\"\"\" bik\"\"e',\n",
              " 'gi\"\"\"a\"\"\"y\"\"\"\"\"\"\"\"\"\"\" \"\"\"\"\"\"\"\"\"\"\"\"\"\"\"ke\"\"\"\"\"\"a\"\"\"\"saz\"\"\"',\n",
              " 'b\"a\"t\"\"n\"\"\"\"\"\"\"\"\"\"\"\"\"\"\"\"\"\"\"\"\"\" \"\"\"\"l\"\"\"\"\"\"\"\"\"dar\"\"\"',\n",
              " 'si\"\"m\"\"\"\"\"\"\"\"\"\"\"\"\"ee \"\"b\"\"\"\"\"\"\"\"\"\"\"\"\"\"\"\"\"\"\"\"\"\"\"\"\"\"\"\"\"\"\"\"\"\"\"\"\"\"\"\"\"\"\"\"\"\"tu\"\"\" a\"  \"n\"aaaa\"',\n",
              " 'pa\"rki\"\"\"\"\"\"\"\"\"\"\"\"\"\"\"\"\"\"\"\"\"\"\"\"\"\"\"\"\"\"\"\"\"\"\"\"\"\"sar\"\"e',\n",
              " 't\"\"\"\"\"on\"\"\"\"\"\"\"\"\"\"\"\"\"\"\"\"\"\"\"\"\"\"\"\"\"\"\"\"\"\"\"ok\"\"e',\n",
              " 'si\"\"m\"\"\"\"\"\"\"\"\"\"\"\"\"ee \"\"b\"\"\"\"\"\"\"\"\"\"\"\"\"\"\"\"\"\"\"\"\"\"\"\"\"\"\"\"\"\"\"\"\"\"\"\"\"\"\"\"\"\"\"\"\"\"tu\"\"\" a\"  \"n\"aaaa\"',\n",
              " 'gi\"\"\"a\"\"\"y\"\"\"\"\"\"\"\"\"\"\" \"\"\"\"\"\"\"\"\"\"\"\"\"\"\"ke\"\"\"\"\"\"a\"\"\"\"saz\"\"\"',\n",
              " 's\"\"\"\"\"\"\"\"\"\"\"\"\"\"\"go\"n\"\"\"\"\"\"\"\"\"yow\"\"t',\n",
              " 'c\"\"\"\"\"\"\"\"\"\"\"m\"\"\"\"\"\"\"\"\"\"\"\"\"e\"t\"\"i\"\"\"\"\"\"\"\"\"\"\"\"\"\"\"\"\"\"\"\"\"\"\"\"è\"\"\"\"\"\"\"\"\"\"e\"\"\"\"\"\"\" d\"\" c\"\"\"aam\"\"\"bérène',\n",
              " 'c\"\"r\"\"\"\"\"\"\"\"e\"\"\"\"\"\"\"\"\"\"\"\"\"\"\"\"\"ko\"\"\"\"\"\"\" \"\"\"sau\"\"\"',\n",
              " '\"\"\"\"\"\"\"\"\"\"\"\"\"\"\"\"\"\"\"\"\"\"\"\"\"\"\"\"\"\"\"\"\"\"\"\"\"\"\"\"\"\"\"\"\"\"\"\"\"e\" \"\"i\"\"\"\"\"\"\"\"\"\"\"\"\"e\"\"\"\"\"\"\"a\"\"è\"\"\"\"\"\"\"\"t\"è\"èè\"\"\"\"\"\"\"e\"l\"e\"ee\"ee\"\"al\"ee',\n",
              " 'de\"\"\"i\"\"\"\"\"\"\"\"\"\"\"\"\"\"\"\"\"\" \"\"\"\"\"\"\"\"\"\"\"\"\"\"\"\"o\"\"\"\"\"\"\"\"\"\"\"ba\"\"\"e',\n",
              " 'm\"\"d\"\"\"\"r\"\"\"\"\"\"\"\"\"\"\"\"\"\"\"\"\"\"\"\"\"\"\"\"\"\"\"\"\"\"\"\"\"\"\"\"\"\"\"\"\"\"\"r\"\"\"\"\"\"\"\"\"fisq\"e',\n",
              " 'p\"\"\"m\"\"\"\"\" \"\"\"\"\"\"\"\"\"\"\"\"e \"\"p\"r\"\" \"\" \"\"\"\"a\"\"\"e',\n",
              " 'ba\"\"\"\"\"\"\"\"\"\"\"\"\"\"\"\"\"e\"\"\"e \"\"\"d\"\"ja\"\"ne',\n",
              " '\"\"\"r\"cen \"\"b\"\"\"\"\"o\"\"\"\"\"\"\"\"\"\"\"\"\"w\"\"\"\"\"\"\"\"\"\"\"\"\"\"\"\"\"\"\"\"\"\"\"\"\"\"e\"\"\"\"\"m\"\"ee tss\"\"l',\n",
              " '\"h\"\"mi\"\"\"\"\"\"e\"\"fi\"\"\"\" m\"\"xc\"\"\"\"w \"\"\"dir\"\"e',\n",
              " 'pa\"rki\"\"\"\"\"\"\"\"\"\"\"\"\"\"\"\"\"\"\"\"\"\"\"\"\"\"\"\"\"\"\"\"\"\"\"\"\"\"sar\"\"e',\n",
              " '\"\"\"\"r\"o\"\"\"\"\"\"\"\"\"\"\"\"\"\"\"\"\"\"\"\"\"\"\"\"\"\"\"\"\"\"\"\"\"\"\"\" \"\"o\"\"\"\" \"\"\"\"\"\"yas\"\"f',\n",
              " '\"\"\"\"\"\"\"\"\"\"\"\"\"\"\"\"\"\"\"\"\"\"\"\"\"\"\"\"\"\"\"\"\"\"\"\"\"\"\"e\"\"\"\"i\"\"\"\"\"\"\"\"\"\"\"\"\"\"\"\"\"\"\"\"\"\"\"e\"t\"\"\"\"\"d\"\" \"\"\"\"aa\"\"\"\"b\"\"\"\"\"n\"\"\"\"\"\"\"al\"ee',\n",
              " '\"a\"\"\"i\"\"\"\" c\"\"\"\"\"\"\"\"\"\"\"\"\"\"\"\"\"\"\" \"\"o\"\"\"\" \"\"\"\"\"\"bo\"\"\"r',\n",
              " '\"\"\"\"\"\"\"\"reec\"\"\"\"\"e\"\"\"\"\"\"\"l\"\"\"\"\"\"\"\"\"\"\"\"\"\"\"\"\"\"\"\"\"\"\"\"\"\"\"\"\"\"\"\"\"\"\"\"\"\"\"\"\"ee de zola\"r',\n",
              " 'cea\" p\"\"\"\" ch\"é\"\"e\"\"\"o\"\"\"y\"\"a\"\"\" bik\"\"e',\n",
              " '\"o\"\"\"\"\"\"ee \"\"b\"\"\"\"\"\"\"\"\"\"\"\"\"\"\"\"\"\"\"\"\"\"\"\"\"\"\"\"\"\"\"\"\"\"\"\"\"\"\"\"\"\"\"\"\"ke\"\"\"\"\"\"e\"\"\"\"sa\"\"a\"',\n",
              " '\"\"\"r\"cen \"\"b\"\"\"\"\"o\"\"\"\"\"\"\"\"\"\"\"\"\"w\"\"\"\"\"\"\"\"\"\"\"\"\"\"\"\"\"\"\"\"\"\"\"\"\"\"e\"\"\"\"\"m\"\"ee tss\"\"l',\n",
              " 'caa\"k\"\"l\"\"\"\"h\"\"\"i\"\"\"\"\"\"\"\"\"\"\"\"\"\"\" \"\"e\"c\"\"\"\"\" \"u\"sa\"\"\"r',\n",
              " '\"\"\"\"\"\"\"\"\"\"\"\"\"\"\"ss\"\"\"\"\"\"\"\"\"\"\"\"e\"\"\"\"i\"\"\"\"\"\"\"\"\"\"\"\"\"\"\"\"\"\"\"\"\"\"\"\"\"\"\"\"\"\"\"\"\"e\"\"\"\"\"\"\"a\"  cp\"\"aa\"\"tio\"\"\"on\"n\"',\n",
              " '\"a\"\"\"i\"\"\"\" c\"\"\"\"\"\"\"\"\"\"\"\"\"\"\"\"\"\"\" \"\"o\"\"\"\" \"\"\"\"\"\"bo\"\"\"r',\n",
              " '\"h\"\"mi\"\"\"\"\"\"e\"\"fi\"\"\"\" m\"\"xc\"\"\"\"w \"\"\"dir\"\"e',\n",
              " 'g\"a\"\"i\"\"\"\"\"\"\"\"\"\"\"e\" \"\"\"\"\"\"\"\"\"\"\"\"\"\"\"\"o\"r\"\"\"\"\" d\"\"yas\"\"e',\n",
              " 't\"u\"\"\"\"\"\"\"\"\"\"\"\"\"\"\"\"\"\"\"\"\"\"\"\"\"\"\"\"\" \"\"\"\"\"\"\"\"\"\"\"\"\"\"\"\"e\"\"\"\"\"\"\"\"r\"\"sasq\"e',\n",
              " '\"\"a\"m\"\"\"\"\"\"\"\"\"\"\"\"\"\"\"\"\"\"\"\"\"\"\"\"\"\"\"\"\"\"\"\"\"\"\"\"\"\"\"\"\"\"\"\"\"\"zin\"\"e',\n",
              " 'b\"a\"t\"\"n\"\"\"\"\"\"\"\"\"\"\"\"\"\"\"\"\"\"\"\"\"\" \"\"\"\"l\"\"\"\"\"\"\"\"\"dar\"\"\"',\n",
              " '\"a\"\"\"i\"\"\"\" c\"\"\"\"\"\"\"\"\"\"\"\"\"\"\"\"\"\"\" \"\"o\"\"\"\" \"\"\"\"\"\"bo\"\"\"r',\n",
              " 'gi\"\"\"a\"\"\"y\"\"\"\"\"\"\"\"\"\"\" \"\"\"\"\"\"\"\"\"\"\"\"\"\"\"ke\"\"\"\"\"\"a\"\"\"\"saz\"\"\"',\n",
              " '\"o\"\"\"\"\"\"ee \"\"b\"\"\"\"\"\"\"\"\"\"\"\"\"\"\"\"\"\"\"\"\"\"\"\"\"\"\"\"\"\"\"\"\"\"\"\"\"\"\"\"\"\"\"\"\"ke\"\"\"\"\"\"e\"\"\"\"sa\"\"a\"',\n",
              " '\"\"\"\"\"e\"\"\"\"b\"\"\"\"\"\"\"\"\"\"\"\"\"\"\"\"v\"\"\"\"\"\"\"\"\"\"\"\"\"\"\"\"\"\"\"\"\"\"\"\"r\"\"\"bo\"\"\"\"\"m\"\"\"e\"siu\"d\"',\n",
              " 'pa\"rki\"\"\"\"\"\"\"\"\"\"\"\"\"\"\"\"\"\"\"\"\"\"\"\"\"\"\"\"\"\"\"\"\"\"\"\"\"\"sar\"\"e',\n",
              " 't\"\"\"\"\"on\"\"\"\"\"\"\"\"\"\"\"\"\"\"\"\"\"\"\"\"\"\"\"\"\"\"\"\"\"\"\"ok\"\"e',\n",
              " '\"\"\"\"\"\"\"\"\"\"seet\"\"i\"\"\"\"\"\"\"\"x\"\"\"\"\"\"\"\"\"\"\"\"\"\"\"\"\"\"\"\"\"\"\"\"\"\"\"\"\"\"\"\"r\"\"\"\"i\"\"\"e\"\"t\"\"\"\"da\"\"u\"',\n",
              " '\"\"\"\"\"e\"\"\"\"b\"\"\"\"\"\"\"\"\"\"\"\"\"\"\"\"v\"\"\"\"\"\"\"\"\"\"\"\"\"\"\"\"\"\"\"\"\"\"\"\"r\"\"\"bo\"\"\"\"\"m\"\"\"e\"siu\"d\"',\n",
              " 't\"u\"\"\"\"\"\"\"\"\"\"\"\"\"\"\"\"\"\"\"\"\"\"\"\"\"\"\"\"\" \"\"\"\"\"\"\"\"\"\"\"\"\"\"\"\"e\"\"\"\"\"\"\"\"r\"\"sasq\"e',\n",
              " '\"e\"\"mionr\" cut\"\"\"\"\"\"e \"e yat\"nr',\n",
              " '\"\"\"\"\"e\"\"\"\"b\"\"\"\"\"\"\"\"\"\"\"\"\"\"\"\"v\"\"\"\"\"\"\"\"\"\"\"\"\"\"\"\"\"\"\"\"\"\"\"\"r\"\"\"bo\"\"\"\"\"m\"\"\"e\"siu\"d\"',\n",
              " '\"a\"\"m\"\"i\"\"\"\"u\"\"\"\"\"\" \"\"\"\"\"y\"\"\"\"\"\"\"\"\"\"\"\"\"\"\"\"\"\"\"\"\"\"\"\"\" \"\"e\"r\"y\"\"\"\"\"\"\"\"a\"\"de',\n",
              " 'cea\" p\"\"\"\" ch\"é\"\"e\"\"\"o\"\"\"y\"\"a\"\"\" bik\"\"e',\n",
              " 'm\"a\"\"\"\"\"\" \"ch\"l\"i\"\"e o\"\"ba\"\"ae',\n",
              " 'bo\"\"\"io\"\"\"\"c\"\"l\"\"\"\"\"\"\"\"e\"\"\"\"\"\"\"\"\"\"\"\"\"\"\" \"\"o\"\"\"\"\"\"e \"\"\"\"ak\"n\"',\n",
              " 's\"\"\"tio\"\"\"\"\"\"\"\"\"\"\"\"\"\"\"\"\"\"\" \"\"ou\"\"\"\"\"\"\"\"\"\"\"ik\"ae',\n",
              " 'gi\"\"\"a\"\"\"y\"\"\"\"\"\"\"\"\"\"\" \"\"\"\"\"\"\"\"\"\"\"\"\"\"\"ke\"\"\"\"\"\"a\"\"\"\"saz\"\"\"',\n",
              " 's\"\"\"\"\"\"\"\"\"\"\"\"\"\"\"s\"\"i\"\"\"\"\"\"\"\"\"\"\"\"\"\"\"\"\"\"\"\"\"\"\"\"\"\"\"\"\"\"\"\"\"\"\"\"\"\"\"\"\"\"\"\"m\"\"e\"\"\"\"\"\"\"\"\"\"\"ucn\"\"',\n",
              " 'g\"a\"\"i\"\"\"\"\"\"\"\"\"\"\"e\" \"\"\"\"\"\"\"\"\"\"\"\"\"\"\"\"o\"r\"\"\"\"\" d\"\"yas\"\"e',\n",
              " 'si\"\"mp\"n \"\"\"\"\"\"\"\"\"\"\"\"\"\"\"b\"\"c\"\"\"\"\"\"\"e\"ka\"\"\"t',\n",
              " '\"\"\"\"\"\"\"\"\"\"seet\"\"i\"\"\"\"\"\"\"\"x\"\"\"\"\"\"\"\"\"\"\"\"\"\"\"\"\"\"\"\"\"\"\"\"\"\"\"\"\"\"\"\"r\"\"\"\"i\"\"\"e\"\"t\"\"\"\"da\"\"u\"',\n",
              " '\"a\"\"\"i\"\"\"\" c\"\"\"\"\"\"\"\"\"\"\"\"\"\"\"\"\"\"\" \"\"o\"\"\"\" \"\"\"\"\"\"bo\"\"\"r',\n",
              " 't\"\"\"\"\"on\"\"\"\"\"\"\"\"\"\"\"\"\"\"\"\"\"\"\"\"\"\"\"\"\"\"\"\"\"\"\"ok\"\"e',\n",
              " '\"\"\"\"\"\"\"\"\"\"\"\"\"\"\"\"\"\"\"\"\"\"\"\"\"\"\"\"\"\"\"\"\"\"\"\"\"\"\"\"\"\"\"\"\"\"\"s\"\"\"\"\"\"\"\"\"\"\"\"\"\"\"m\"\"\"\"\"\"t\"\"\"\"\"a\"  \"n\"\"a\"m\"tièèèè\"\"\"\"\"\"\"\"\"\"\"\"\"\"\"e\"\"\"eel\"e\"\"e\"\"e\"\"a\"\"ee',\n",
              " 'di\"\"\"\"\"\"\"\"\"\"\"\"\"\"\"\"\"\"\"\"\"\"\"\"\"\"\"\"e\"\"\"\"\"\"\"\"\"\"\"din\"\"r',\n",
              " '\"a\"\"\"i\"\"\"\" c\"\"\"\"\"\"\"\"\"\"\"\"\"\"\"\"\"\"\" \"\"o\"\"\"\" \"\"\"\"\"\"bo\"\"\"r',\n",
              " 'g\"a\"\"i\"\"\"\"\"\"\"\"\"\"\"e\" \"\"\"\"\"\"\"\"\"\"\"\"\"\"\"\"o\"r\"\"\"\"\" d\"\"yas\"\"e',\n",
              " 's\"\"\"\"\"o\"\"\"\"\"u\"\"\"mb\"\"\"\"\"\"\"\" \"\"\"kan\"ne',\n",
              " 's\"\"\"\"\"\"\"\"\"\"\"\"\"\"\"go\"n\"\"\"\"\"\"\"\"\"yow\"\"t',\n",
              " 's\"\"\"\"\"\"\"\"\"\"\"\"\"\"\"go\"n\"\"\"\"\"\"\"\"\"yow\"\"t',\n",
              " 's\"\"\"tio\"\"\"\"\"\"\"\"\"\"\"\"\"\"\"\"\"\"\" \"\"ou\"\"\"\"\"\"\"\"\"\"\"ik\"ae',\n",
              " '\"e\"\"mionr\" cut\"\"\"\"\"\"e \"e yat\"nr',\n",
              " 't\"u\"\"\"\"\"\"\"\"\"\"\"\"\"\"\"\"\"\"\"\"\"\"\"\"\"\"\"\"\" \"\"\"\"\"\"\"\"\"\"\"\"\"\"\"\"e\"\"\"\"\"\"\"\"r\"\"sasq\"e',\n",
              " 'r\"s\"ta\"\"d\"\"\"\"\"\"\"\"\"\"\"\"\"\"\"\"\"\"\"\"\"\"\"\"\"\"\"\"\"\"\"\"\"\"\"\"\"\"\"\"\"\"\" \"\"\"\"\"\"\"\"\"\"\"\"\"\"dis\"e\"',\n",
              " '\"\"\"\"\"\"\"\"\"\"\"\"\"\"\"\"\"\"\"\"\"\"\"\"\"\"\"\"\"\"\"\"\"\"\"\"\"\"\"\"\"\"\"\"\"\"\"\"\"\"\"\"\"\"\"\"b\"\"\"\"\"\"\"\"\"\"\"\"\"\"\"\"\"\"la\"\" \"n\"\"aa\"\"t\"\"\"è\"è\"\"\"\"\"\"\"\"eel\"e\"ee\"ee\"\"al\"ee',\n",
              " 's\"\"\"\"\"\"\"\"\"\"\"\"\"\"\"go\"n\"\"\"\"\"\"\"\"\"yow\"\"t',\n",
              " 'si\"\"mp\"n \"\"\"\"\"\"\"\"\"\"\"\"\"\"\"b\"\"c\"\"\"\"\"\"\"e\"ka\"\"\"t',\n",
              " 'p\"\"\"m\"\"\"\"\" \"\"\"\"\"\"\"\"\"\"\"\"e \"\"p\"r\"\" \"\" \"\"\"\"a\"\"\"e',\n",
              " 'ea\"\"i\"\"e\"\"\"\"\"\"\"\"\"\"\"\"\"\"\"\"\"\"\"\"\"\"\"\"\"\"\"\"\"\"\"\"\"\"\"\"\"\"\"\"\"\"\"o\"r\"\"\"\"e\"\"-\"sozqee',\n",
              " 'cen\"t\"\"\"\"\" \"o\"\"\"\"o\"\"\"\"\"\"\"l\"\"\"\"\"\"\"\"\"\"\"\"\"\"\"\"\"\"w\"\"\"\"\" \"\"p\"\"\"\"\"\"\"\"\"\"mzat\"\"t',\n",
              " 's\"\"\"tio\"\"\"\"\"\"\"\"\"\"\"\"\"\"\"\"\"\"\" \"\"ou\"\"\"\"\"\"\"\"\"\"\"ik\"ae',\n",
              " 'ba\"\"\"\"\"\"\"\"\"\"\"\"\"\"\"\"\"e\"\"\"e \"\"\"d\"\"ja\"\"ne',\n",
              " 'pia\"k\"\"\"\"\"\"\"i\"\"\"n\"\"\"o\"c\"\"\"\"\"\"\"u\"bat\"\"e',\n",
              " 'bo\"\"\"io\"\"\"\"c\"\"l\"\"\"\"\"\"\"\"e\"\"\"\"\"\"\"\"\"\"\"\"\"\"\" \"\"o\"\"\"\"\"\"e \"\"\"\"ak\"n\"',\n",
              " 'bo\"\"\"io\"\"\"\"c\"\"l\"\"\"\"\"\"\"\"e\"\"\"\"\"\"\"\"\"\"\"\"\"\"\" \"\"o\"\"\"\"\"\"e \"\"\"\"ak\"n\"',\n",
              " 's\"\"\"\"\"o\"\"\"\"\"\"\"\"\"\"\"\"\"\"\"\"\"\"\"\"\"\"\"\"\"\"\"\"\"\"\"\"\"\"\"\"\"\"\"\"\"\"\"\"\"\"\"\"\"\"\"\"\"\"\"\"mb\"u\"\"é\"\"\"\"\"\"diou\"ne',\n",
              " 'p\"\"\"m\"\"\"\"\" \"\"\"\"\"\"\"\"\"\"\"\"e \"\"p\"r\"\" \"\" \"\"\"\"a\"\"\"e',\n",
              " 't\"u\"\"\"\"\"\"\"\"\"\"\"\"\"\"\"\"\"\"\"\"\"\"\"\"\"\"\"\"\" \"\"\"\"\"\"\"\"\"\"\"\"\"\"\"\"e\"\"\"\"\"\"\"\"r\"\"sasq\"e',\n",
              " 'c\"\"\"\"\"\"\"\"\"\"\"m\"\"\"\"\"\"\"\"\"\"\"\"\"e\"t\"\"i\"\"\"\"\"\"\"\"\"\"\"\"\"\"\"\"\"\"\"\"\"\"\"\"è\"\"\"\"\"\"\"\"\"\"e\"\"\"\"\"\"\" d\"\" c\"\"\"aam\"\"\"bérène',\n",
              " 'di\"r\"\"\"\"\"\"\"\"u\"\"\"\"\"\"\"\"\"\"\"\"\"\"\"\"\"\"\"\"\"\"\"\"\"\"\"\"\"\"\"\"\"\"\"o\"\"\"\"\"\"\"\"\"\"\"baf\"\"\"',\n",
              " '\"\"\"\"\"\"\"\"reec\"\"\"\"\"e\"\"\"\"\"\"\"l\"\"\"\"\"\"\"\"\"\"\"\"\"\"\"\"\"\"\"\"\"\"\"\"\"\"\"\"\"\"\"\"\"\"\"\"\"\"\"\"\"ee de zola\"r',\n",
              " 'pa\"rki\"\"\"\"\"\"\"\"\"\"\"\"\"\"\"\"\"\"\"\"\"\"\"\"\"\"\"\"\"\"\"\"\"\"\"\"\"\"sar\"\"e',\n",
              " 'de\"\"\"i\"\"\"\"\"\"\"\"\"\"\"\"\"\"\"\"\"\" \"\"\"\"\"\"\"\"\"\"\"\"\"\"\"\"o\"\"\"\"\"\"\"\"\"\"\"ba\"\"\"e',\n",
              " '\"\"\"r\"cen \"\"b\"\"\"\"\"o\"\"\"\"\"\"\"\"\"\"\"\"\"w\"\"\"\"\"\"\"\"\"\"\"\"\"\"\"\"\"\"\"\"\"\"\"\"\"\"e\"\"\"\"\"m\"\"ee tss\"\"l',\n",
              " 's\"s\"\"\"\"\"\"\"\"\"\"\"\"\"ee\"\"\"d\"\"\"\"\"\"\"\"\"\"\"\"\"\"\"\"\"\"\"\"\"\"\"\"\"\"\"\"\" \"\"\"\"\"\"\"\"\"\"\"\"\"\"\"\"e\"t\"\"\"\"\"\"\"  ca\"\"aa',\n",
              " 't\"\"\"\"\"on\"\"\"\"\"\"\"\"\"\"\"\"\"\"\"\"\"\"\"\"\"\"\"\"\"\"\"\"\"\"\"ok\"\"e',\n",
              " '\"\"\"\"\"\"\"\"reec\"\"\"\"\"e\"\"\"\"\"\"\"l\"\"\"\"\"\"\"\"\"\"\"\"\"\"\"\"\"\"\"\"\"\"\"\"\"\"\"\"\"\"\"\"\"\"\"\"\"\"\"\"\"ee de zola\"r',\n",
              " 'cen\"t\"\"\"\"\" \"o\"\"\"\"o\"\"\"\"\"\"\"l\"\"\"\"\"\"\"\"\"\"\"\"\"\"\"\"\"\"w\"\"\"\"\" \"\"p\"\"\"\"\"\"\"\"\"\"mzat\"\"t',\n",
              " 'di\"r\"\"\"\"\"\"\"\"u\"\"\"\"\"\"\"\"\"\"\"\"\"\"\"\"\"\"\"\"\"\"\"\"\"\"\"\"\"\"\"\"\"\"\"o\"\"\"\"\"\"\"\"\"\"\"baf\"\"\"',\n",
              " '\"\"\"r\"n\"\"\"i\"\"e\"r\"\"\"\"\"\" \"\"\"\"\"\"\"\"\"\"\"\"\"\"\"\"\" \"\"\"\"\"\"\"\"\"\"\"\"\"\"\"\"a\"r\"\"\"\"\"\"\"u\"\"ét\"\"\"',\n",
              " 'pa\"rki\"\"\"\"\"\"\"\"\"\"\"\"\"\"\"\"\"\"\"\"\"\"\"\"\"\"\"\"\"\"\"\"\"\"\"\"\"\"sar\"\"e',\n",
              " 'bo\"\"\"io\"\"\"\"c\"\"l\"\"\"\"\"\"\"\"e\"\"\"\"\"\"\"\"\"\"\"\"\"\"\" \"\"o\"\"\"\"\"\"e \"\"\"\"ak\"n\"',\n",
              " 's\"\"\"\"\"\"\"\"\"\"\"\"\"\"\"go\"n\"\"\"\"\"\"\"\"\"yow\"\"t',\n",
              " 'c\"\"r\"\"\"\"\"\"\"\"e\"\"\"\"\"\"\"\"\"\"\"\"\"\"\"\"\"ko\"\"\"\"\"\"\" \"\"\"sau\"\"\"',\n",
              " 's\"\"\"tio\"\"\"\"\"\"\"\"\"\"\"\"\"\"\"\"\"\"\" \"\"ou\"\"\"\"\"\"\"\"\"\"\"ik\"ae',\n",
              " 'di\"\"\"\"\"\"\"\"\"\"\"\"\"\"\"\"\"\"\"\"\"\"\"\"\"\"\"\"e\"\"\"\"\"\"\"\"\"\"\"din\"\"r',\n",
              " 'di\"r\"\"\"\"\"\"\"\"u\"\"\"\"\"\"\"\"\"\"\"\"\"\"\"\"\"\"\"\"\"\"\"\"\"\"\"\"\"\"\"\"\"\"\"o\"\"\"\"\"\"\"\"\"\"\"baf\"\"\"',\n",
              " 'bo\"\"\"io\"\"\"\"c\"\"l\"\"\"\"\"\"\"\"e\"\"\"\"\"\"\"\"\"\"\"\"\"\"\" \"\"o\"\"\"\"\"\"e \"\"\"\"ak\"n\"',\n",
              " 'r\"u\"t\"\"\"\"\" \"\"\"\"\"\"\"\"\"\"\"\"\"\"\"\"\"\"\"\"\"\"\"\"\"\"\"\"\"\"\"\"\"our\"\"\"\"\" \"\"\"bok\"\"\"',\n",
              " 'b\"a\"\"\"\"n \"\"\"\"\"\"\"\"\"\"\"\"\"\"\"\"\"\"\"\"\"\"\"\"\"\"\"\"\"\"\"\"\"\"\"\"\"\"\"\"\"\" r\"\"\"ak\"\"e',\n",
              " 's\"\"\"\"\"o\"\"\"\"\"\"\"\"\"\"\"\"\"\"\"\"\"\"\"\"\"\"\"\"\"\"\"\"\"\"\"\"\"\"\"\"\"\"\"\"\"\"\"\"\"\"\"\"\"\"\"\"\"\"\"\"mb\"u\"\"é\"\"\"\"\"\"diou\"ne',\n",
              " 'si\"\"mp\"n \"\"\"\"\"\"\"\"\"\"\"\"\"\"\"b\"\"c\"\"\"\"\"\"\"e\"ka\"\"\"t',\n",
              " 'co\"\"\"\"\"\"\"\"\"\"\"\"\"\"\"\"\"\" \"\"\"\"\"\"\"\"\"\"\"\"\"\"\"\"o\"\"\"\"\"\"\"\"\"\"\"\"at\"ne',\n",
              " 'co\"\"\"\"\"\"\"\"\"\"\"\"\"\"\"\"\"\" \"\"\"\"\"\"\"\"\"\"\"\"\"\"\"\"o\"\"\"\"\"\"\"\"\"\"\"\"at\"ne',\n",
              " 'si\"\"m\"\"\"\"\"\"\"\"\"\"\"se\"t\"\"i\"\"\"\"\"\"\"\"\"\"\"\"\"\"\"\"\"\"\"\"\"\"\"\"\"\"\"\"\" \"\"\"\"\"\"\"\"\"\"\"\"\"\"\"\"\"\"c\"\"\"\"a\"\" \"pa\"aam',\n",
              " 'b\"\"\"\"\"\"\"\"\"\"\"\"\"\"\"\"\"\" \"\"e\"\"\"\"\"\"e \"\"\"fa\"\"\"\"',\n",
              " 'g\"a\"\"i\"\"\"\"\"\"\"\"\"\"\"e\" \"\"\"\"\"\"\"\"\"\"\"\"\"\"\"\"o\"r\"\"\"\"\" d\"\"yas\"\"e',\n",
              " '\"\"a\"m\"\"\"\"\"\"\"\"\"\"\"\"\"\"\"\"\"\"\"\"\"\"\"\"\"\"\"\"\"\"\"\"\"\"\"\"\"\"\"\"\"\"\"\"\"\"zin\"\"e',\n",
              " 't\"\"\"\"\"on\"\"\"\"\"\"\"\"\"\"\"\"\"\"\"\"\"\"\"\"\"\"\"\"\"\"\"\"\"\"\"ok\"\"e',\n",
              " '\"\"a\"m\"\"\"\"\"\"\"\"\"\"\"\"\"\"\"\"\"\"\"\"\"\"\"\"\"\"\"\"\"\"\"\"\"\"\"\"\"\"\"\"\"\"\"\"\"\"zin\"\"e',\n",
              " 'caa\"k\"\"l\"\"\"\"h\"\"\"i\"\"\"\"\"\"\"\"\"\"\"\"\"\"\" \"\"e\"c\"\"\"\"\" \"u\"sa\"\"\"r',\n",
              " '\"\"a\"m\"\"\"\"\"\"\"\"\"\"\"\"\"\"\"\"\"\"\"\"\"\"\"\"\"\"\"\"\"\"\"\"\"\"\"\"\"\"\"\"\"\"\"\"\"\"zin\"\"e',\n",
              " 'pa\"rki\"\"\"\"\"\"\"\"\"\"\"\"\"\"\"\"\"\"\"\"\"\"\"\"\"\"\"\"\"\"\"\"\"\"\"\"\"\"sar\"\"e',\n",
              " '\"\"\"\"\"\"\"\"\"\"seet\"\"i\"\"\"\"\"\"\"\"x\"\"\"\"\"\"\"\"\"\"\"\"\"\"\"\"\"\"\"\"\"\"\"\"\"\"\"\"\"\"\"\"r\"\"\"\"i\"\"\"e\"\"t\"\"\"\"da\"\"u\"',\n",
              " '\"h\"\"mi\"\"\"\"\"\"e\"\"fi\"\"\"\" m\"\"xc\"\"\"\"w \"\"\"dir\"\"e',\n",
              " 's\"\"r\"\"\"\"\"\"\"\"\"\"foi\"\"\" \"e \"\"\"dan\"\"\"',\n",
              " 's\"\"\"\"\"\"\"\"\"\"\"\"\"\"\"s\"\"i\"\"\"\"\"\"\"\"\"\"\"\"\"\"\"\"\"\"\"\"\"\"\"\"\"\"\"\"\"\"\"\"\"\"\"\"\"\"\"\"\"\"\"\"m\"\"e\"\"\"\"\"\"\"\"\"\"\"ucn\"\"',\n",
              " 'de\"\"\"i\"\"\"\"\"\"\"\"\"\"\"\"\"\"\"\"\"\" \"\"\"\"\"\"\"\"\"\"\"\"\"\"\"\"o\"\"\"\"\"\"\"\"\"\"\"ba\"\"\"e',\n",
              " 'r\"u\"t\"\"\"\"\" \"\"\"\"\"\"\"\"\"\"\"\"\"\"\"\"\"\"\"\"\"\"\"\"\"\"\"\"\"\"\"\"\"our\"\"\"\"\" \"\"\"bok\"\"\"',\n",
              " '\"\"\"\"r\"o\"\"\"\"\"\"\"\"\"\"\"\"\"\"\"\"\"\"\"\"\"\"\"\"\"\"\"\"\"\"\"\"\"\"\"\" \"\"o\"\"\"\" \"\"\"\"\"\"yas\"\"f',\n",
              " 't\"u\"\"\"\"\"\"\"\"\"\"\"\"\"\"\"\"\"\"\"\"\"\"\"\"\"\"\"\"\" \"\"\"\"\"\"\"\"\"\"\"\"\"\"\"\"e\"\"\"\"\"\"\"\"r\"\"sasq\"e',\n",
              " 'di\"\"\"\"\"\"\"\"\"\"\"\"\"\"\"\"\"\"\"\"\"\"\"\"\"\"\"\"e\"\"\"\"\"\"\"\"\"\"\"din\"\"r',\n",
              " '\"\"\"\"\"\"\"\"\"\"seet\"\"i\"\"\"\"\"\"\"\"x\"\"\"\"\"\"\"\"\"\"\"\"\"\"\"\"\"\"\"\"\"\"\"\"\"\"\"\"\"\"\"\"r\"\"\"\"i\"\"\"e\"\"t\"\"\"\"da\"\"u\"',\n",
              " 's\"\"\"\"\"\"\"\"\"\"\"\"\"\"\"go\"n\"\"\"\"\"\"\"\"\"yow\"\"t',\n",
              " 'ea\"\"i\"\"e\"\"\"\"\"\"\"\"\"\"\"\"\"\"\"\"\"\"\"\"\"\"\"\"\"\"\"\"\"\"\"\"\"\"\"\"\"\"\"\"\"\"\"o\"r\"\"\"\"e\"\"-\"sozqee',\n",
              " 'si\"\"m\"\"\"\"\"\"\"\"\"\"\"\"\"ee \"\"b\"\"\"\"\"\"\"\"\"\"\"\"\"\"\"\"\"\"\"\"\"\"\"\"\"\"\"\"\"\"\"\"\"\"\"\"\"\"\"\"\"\"\"\"\"\"tu\"\"\" a\"  \"n\"aaaa\"',\n",
              " 'p\"\"\"m\"\"\"\"\" \"\"\"\"\"\"\"\"\"\"\"\"e \"\"p\"r\"\" \"\" \"\"\"\"a\"\"\"e',\n",
              " '\"\"\"\"r\"o\"\"\"\"\"\"\"\"\"\"\"\"\"\"\"\"\"\"\"\"\"\"\"\"\"\"\"\"\"\"\"\"\"\"\"\" \"\"o\"\"\"\" \"\"\"\"\"\"yas\"\"f',\n",
              " 'si\"\"mp\"n \"\"\"\"\"\"\"\"\"\"\"\"\"\"\"b\"\"c\"\"\"\"\"\"\"e\"ka\"\"\"t',\n",
              " '\"\"\"\"\"e\"\"\"\"b\"\"\"\"\"\"\"\"\"\"\"\"\"\"\"\"v\"\"\"\"\"\"\"\"\"\"\"\"\"\"\"\"\"\"\"\"\"\"\"\"r\"\"\"bo\"\"\"\"\"m\"\"\"e\"siu\"d\"',\n",
              " 'di\"\"\"\"\"\"\"\"\"\"\"\"\"\"\"\"\"\"\"\"\"\"\"\"\"\"\"\"e\"\"\"\"\"\"\"\"\"\"\"din\"\"r',\n",
              " '\"\"\"\"r\"o\"\"\"\"\"\"\"\"\"\"\"\"\"\"\"\"\"\"\"\"\"\"\"\"\"\"\"\"\"\"\"\"\"\"\"\" \"\"o\"\"\"\" \"\"\"\"\"\"yas\"\"f',\n",
              " 'c\"\"r\"\"\"\"\"\"\"\"e\"\"\"\"\"\"\"\"\"\"\"\"\"\"\"\"\"ko\"\"\"\"\"\"\" \"\"\"sau\"\"\"',\n",
              " 'di\"r\"\"\"\"\"\"\"\"u\"\"\"\"\"\"\"\"\"\"\"\"\"\"\"\"\"\"\"\"\"\"\"\"\"\"\"\"\"\"\"\"\"\"\"o\"\"\"\"\"\"\"\"\"\"\"baf\"\"\"',\n",
              " 'de\"\"\"i\"\"\"\"\"\"\"\"\"\"\"\"\"\"\"\"\"\" \"\"\"\"\"\"\"\"\"\"\"\"\"\"\"\"o\"\"\"\"\"\"\"\"\"\"\"ba\"\"\"e',\n",
              " 's\"\"\"\"\"o\"\"\"\"\"\"\"\"\"\"\"\"\"\"\"\"\"\"\"\"\"\"\"\"\"\"\"\"\"\"\"\"\"\"\"\"\"\"\"\"\"\"\"\"\"\"\"\"\"\"\"\"\"\"\"\"mb\"u\"\"é\"\"\"\"\"\"diou\"ne',\n",
              " 'di\"r\"\"\"\"\"\"\"\"u\"\"\"\"\"\"\"\"\"\"\"\"\"\"\"\"\"\"\"\"\"\"\"\"\"\"\"\"\"\"\"\"\"\"\"o\"\"\"\"\"\"\"\"\"\"\"baf\"\"\"',\n",
              " 'c\"\"\"\"\"\"\"\"\"\"\"m\"\"\"\"\"\"\"\"\"\"\"\"\"e\"t\"\"i\"\"\"\"\"\"\"\"\"\"\"\"\"\"\"\"\"\"\"\"\"\"\"\"è\"\"\"\"\"\"\"\"\"\"e\"\"\"\"\"\"\" d\"\" c\"\"\"aam\"\"\"bérène',\n",
              " 't\"\"\"\"\"on\"\"\"\"\"\"\"\"\"\"\"\"\"\"\"\"\"\"\"\"\"\"\"\"\"\"\"\"\"\"\"ok\"\"e',\n",
              " 'be\"\"\"\"\"\"\"\"s mka\"n\"\" \"a \"\"\"fak\"\"\"',\n",
              " '\"\"\"r\"n\"\"\"i\"\"e\"r\"\"\"\"\"\" \"\"\"\"\"\"\"\"\"\"\"\"\"\"\"\"\" \"\"\"\"\"\"\"\"\"\"\"\"\"\"\"\"a\"r\"\"\"\"\"\"\"u\"\"ét\"\"\"',\n",
              " 'pa\"rki\"\"\"\"\"\"\"\"\"\"\"\"\"\"\"\"\"\"\"\"\"\"\"\"\"\"\"\"\"\"\"\"\"\"\"\"\"\"sar\"\"e',\n",
              " 's\"\"\"tio\"\"\"\"\"\"\"\"\"\"\"\"\"\"\"\"\"\"\" \"\"ou\"\"\"\"\"\"\"\"\"\"\"ik\"ae',\n",
              " 't\"\"\"\"\"on\"\"\"\"\"\"\"\"\"\"\"\"\"\"\"\"\"\"\"\"\"\"\"\"\"\"\"\"\"\"\"ok\"\"e',\n",
              " '\"h\"\"mi\"\"\"\"\"\"e\"\"fi\"\"\"\" m\"\"xc\"\"\"\"w \"\"\"dir\"\"e',\n",
              " 'di\"\"\"\"\"\"\"\"\"\"\"\"\"\"\"\"\"\"\"\"\"\"\"\"\"\"\"\"e\"\"\"\"\"\"\"\"\"\"\"din\"\"r',\n",
              " '\"h\"\"mi\"\"\"\"\"\"e\"\"fi\"\"\"\" m\"\"xc\"\"\"\"w \"\"\"dir\"\"e',\n",
              " 'co\"\"\"\"\"\"\"\"\"\"\"\"\"\"\"\"\"\" \"\"\"\"\"\"\"\"\"\"\"\"\"\"\"\"o\"\"\"\"\"\"\"\"\"\"\"\"at\"ne',\n",
              " 't\"\"\"\"\"on\"\"\"\"\"\"\"\"\"\"\"\"\"\"\"\"\"\"\"\"\"\"\"\"\"\"\"\"\"\"\"ok\"\"e',\n",
              " 'si\"\"mp\"n \"\"\"\"\"\"\"\"\"\"\"\"\"\"\"b\"\"c\"\"\"\"\"\"\"e\"ka\"\"\"t',\n",
              " '\"\"\"\"\"\"\"\"\"\"\"\"\"\"\"\"\"\"\"\"\"m\"\"\"\"\"\"\"\"\"\"\"\"\"e\"\"\"\"i\"\"\"\"\"\"\"\"\"\"\"\"\"\"\"\"\"y\"\"\"\"\"\"\"\"ee\"\"\"\"\"\"\"\"\"\"\"\"n\"\"\"ma\"\"\"\"\"\"\"\"n\"\"\"\"al\"ee',\n",
              " 'be\"\"\"\"\"\"\"\"s mka\"n\"\" \"a \"\"\"fak\"\"\"',\n",
              " '\"\"\"r\"cen \"\"b\"\"\"\"\"o\"\"\"\"\"\"\"\"\"\"\"\"\"w\"\"\"\"\"\"\"\"\"\"\"\"\"\"\"\"\"\"\"\"\"\"\"\"\"\"e\"\"\"\"\"m\"\"ee tss\"\"l',\n",
              " 'de\"\"\"i\"\"\"\"\"\"\"\"\"\"\"\"\"\"\"\"\"\" \"\"\"\"\"\"\"\"\"\"\"\"\"\"\"\"o\"\"\"\"\"\"\"\"\"\"\"ba\"\"\"e',\n",
              " 'pa\"rki\"\"\"\"\"\"\"\"\"\"\"\"\"\"\"\"\"\"\"\"\"\"\"\"\"\"\"\"\"\"\"\"\"\"\"\"\"\"sar\"\"e',\n",
              " 's\"\"r\"\"\"\"\"\"\"\"\"\"foi\"\"\" \"e \"\"\"dan\"\"\"',\n",
              " 'pia\"k\"\"\"\"\"\"\"i\"\"\"n\"\"\"o\"c\"\"\"\"\"\"\"u\"bat\"\"e',\n",
              " '\"a\"\"\"i\"\"\"\" c\"\"\"\"\"\"\"\"\"\"\"\"\"\"\"\"\"\"\" \"\"o\"\"\"\" \"\"\"\"\"\"bo\"\"\"r',\n",
              " 'g\"a\"\"i\"\"\"\"\"\"\"\"\"\"\"e\" \"\"\"\"\"\"\"\"\"\"\"\"\"\"\"\"o\"r\"\"\"\"\" d\"\"yas\"\"e',\n",
              " 't\"u\"\"\"\"\"\"\"\"\"\"\"\"\"\"\"\"\"\"\"\"\"\"\"\"\"\"\"\"\" \"\"\"\"\"\"\"\"\"\"\"\"\"\"\"\"e\"\"\"\"\"\"\"\"r\"\"sasq\"e',\n",
              " 'si\"\"mi\"\"s\"\"\"\"\"\"\"\"\"\"\"\"ee\"\"\"i\"\"\"\"\"\"\"\"\"\"\"\"\"\"\"\"\"\"\"\"\"\"\"\"\"\"\"\"\"\"\"\"\"\"\"\"\"\"\"\"\"e\"\"\"\"\"\"la\"  \"n\"\"\"aatt\"è',\n",
              " 't\"\"\"\"\"on\"\"\"\"\"\"\"\"\"\"\"\"\"\"\"\"\"\"\"\"\"\"\"\"\"\"\"\"\"\"\"ok\"\"e',\n",
              " '\"\"\"\"\"\"\"\"\"\"\"\"\"\"\"\"\"\"\"\"\"\"\"\"\"\"\"\"\"\"\"\"\"\"\"\"\"\"\"\"\"\"\"\"\"\"\"\"\"\"\"\"\"\"\"\"b\"\"\"\"\"\"\"\"\"\"\"\"\"\"\"\"\"\"la\"\" \"n\"\"aa\"\"t\"\"\"è\"è\"\"\"\"\"\"\"\"eel\"e\"ee\"ee\"\"al\"ee',\n",
              " 'c\"\"r\"\"\"\"\"\"\"\"e\"\"\"\"\"\"\"\"\"\"\"\"\"\"\"\"\"ko\"\"\"\"\"\"\" \"\"\"sau\"\"\"',\n",
              " 'c\"\"\"\"\"\"\"\"\"\"\"m\"\"\"\"\"\"\"\"\"\"\"\"\"e\"t\"\"i\"\"\"\"\"\"\"\"\"\"\"\"\"\"\"\"\"\"\"\"\"\"\"\"è\"\"\"\"\"\"\"\"\"\"e\"\"\"\"\"\"\" d\"\" c\"\"\"aam\"\"\"bérène',\n",
              " 'pa\"rki\"\"\"\"\"\"\"\"\"\"\"\"\"\"\"\"\"\"\"\"\"\"\"\"\"\"\"\"\"\"\"\"\"\"\"\"\"\"sar\"\"e',\n",
              " 'co\"\"\"\"\"\"\"\"\"\"\"\"\"\"\"\"\"\" \"\"\"\"\"\"\"\"\"\"\"\"\"\"\"\"o\"\"\"\"\"\"\"\"\"\"\"\"at\"ne',\n",
              " '\"\"\"r\"cen \"\"b\"\"\"\"\"o\"\"\"\"\"\"\"\"\"\"\"\"\"w\"\"\"\"\"\"\"\"\"\"\"\"\"\"\"\"\"\"\"\"\"\"\"\"\"\"e\"\"\"\"\"m\"\"ee tss\"\"l',\n",
              " 'de\"\"\"i\"\"\"\"\"\"\"\"\"\"\"\"\"\"\"\"\"\" \"\"\"\"\"\"\"\"\"\"\"\"\"\"\"\"o\"\"\"\"\"\"\"\"\"\"\"ba\"\"\"e',\n",
              " 'co\"\"\"\"\"\"\"\"\"\"\"\"\"\"\"\"\"\" \"\"\"\"\"\"\"\"\"\"\"\"\"\"\"\"o\"\"\"\"\"\"\"\"\"\"\"\"at\"ne',\n",
              " 're\"r\"\"\"n\"\" \"h\"\"\"\"\"\"\"\"\"\"\"\"x\"\"\"\"\"\"\"\"\"\"\"\"\"\"\"\"\"\"\"o\"l\"\"\"\"\"\"\"\"\"sak\"\"f',\n",
              " 'b\"\"\"\"\"\"\"\"\"\"\"\"\"\"\"\"\"\" \"\"e\"\"\"\"\"\"e \"\"\"fa\"\"\"\"',\n",
              " 's\"\"\"\"\"o\"\"\"\"\"\"\"\"\"\"\"\"\"\"\"\"\"\"\"\"\"\"\"\"\"\"\"\"\"\"\"\"\"\"\"\"\"\"\"\"\"\"\"\"\"\"\"\"\"\"\"\"\"\"\"\"mb\"u\"\"é\"\"\"\"\"\"diou\"ne',\n",
              " '\"\"\"\"\"\"\"\"\"\"seet\"\"i\"\"\"\"\"\"\"\"x\"\"\"\"\"\"\"\"\"\"\"\"\"\"\"\"\"\"\"\"\"\"\"\"\"\"\"\"\"\"\"\"r\"\"\"\"i\"\"\"e\"\"t\"\"\"\"da\"\"u\"',\n",
              " 'b\"a\"\"\"\"n \"\"\"\"\"\"\"\"\"\"\"\"\"\"\"\"\"\"\"\"\"\"\"\"\"\"\"\"\"\"\"\"\"\"\"\"\"\"\"\"\"\" r\"\"\"ak\"\"e',\n",
              " 'pa\"rki\"\"\"\"\"\"\"\"\"\"\"\"\"\"\"\"\"\"\"\"\"\"\"\"\"\"\"\"\"\"\"\"\"\"\"\"\"\"sar\"\"e',\n",
              " 'm\"\"d\"\"\"\"r\"\"\"\"\"\"\"\"\"\"\"\"\"\"\"\"\"\"\"\"\"\"\"\"\"\"\"\"\"\"\"\"\"\"\"\"\"\"\"\"\"\"\"r\"\"\"\"\"\"\"\"\"fisq\"e',\n",
              " 'gi\"\"\"a\"\"\"y\"\"\"\"\"\"\"\"\"\"\" \"\"\"\"\"\"\"\"\"\"\"\"\"\"\"ke\"\"\"\"\"\"a\"\"\"\"saz\"\"\"',\n",
              " '\"\"\"\"\"\"\"\"\"\"\"\"\"\"\"\"s\"\"\"\"\"\"\"\"\"\"\"\"\"e\"\"\"\"i\"\"\"\"\"\"\"\"\"\"\"\"\"\"\"\"\"\"\"\"\"\"\"\"\"\"\"\"\"\"\"\"\"\"\"\"\"\"\"\"a\"\" \"ce\"\"aa\"ti\"\"\"\"\"on\"\"\"',\n",
              " 'pia\"k\"\"\"\"\"\"\"i\"\"\"n\"\"\"o\"c\"\"\"\"\"\"\"u\"bat\"\"e',\n",
              " '\"\"\"\"\"\"\"\"\"\"\"\"\"\"\"\"\"\"\"\"\"\"\"\"\"\"\"\"\"\"\"\"\"\"\"\"\"\"\"\"\"\"\"\"\"\"\"\"\"\"\"\"\"\"\"\"\"\"\"\"\"\"\"\"\"\"\"\"e\"t\"\"d\"\"\"\"\" \"n\"\"\"a\"\"ti\"\"\"\"\"\"\"\"è\"\"\"\"\"\"\"\"eee\"\"\"\"\"\"e\"\"\"e\"\"\"e\"\"e\"\"e\"\"i\"\"\"e',\n",
              " '\"o\"\"\"\"\"\"ee \"\"b\"\"\"\"\"\"\"\"\"\"\"\"\"\"\"\"\"\"\"\"\"\"\"\"\"\"\"\"\"\"\"\"\"\"\"\"\"\"\"\"\"\"\"\"\"ke\"\"\"\"\"\"e\"\"\"\"sa\"\"a\"',\n",
              " 'b\"a\"t\"\"n\"\"\"\"\"\"\"\"\"\"\"\"\"\"\"\"\"\"\"\"\"\" \"\"\"\"l\"\"\"\"\"\"\"\"\"dar\"\"\"',\n",
              " 'si\"\"m\"\"\"\"\"\"\"\"\"\"\"\"\"\"seem\"\"i\"\"\"\"\"\"\"\"\"\"\"\"\"\"\"\"\"\"\"\"\"\"\"\"\"\"\"\"\"\"\"\"\"\"\"\"\"\"\"\"\"ee tc\"\"\"\"a\"   n\"\"aat\"tt',\n",
              " 'co\"\"\"\"\"\"\"\"\"\"\"\"\"\"\"\"\"\" \"\"\"\"\"\"\"\"\"\"\"\"\"\"\"\"o\"\"\"\"\"\"\"\"\"\"\"\"at\"ne',\n",
              " 'ba\"\"\"\"\"\"\"\"\"\"\"\"\"\"\"\"\"e\"\"\"e \"\"\"d\"\"ja\"\"ne',\n",
              " 'cea\" p\"\"\"\" ch\"é\"\"e\"\"\"o\"\"\"y\"\"a\"\"\" bik\"\"e',\n",
              " '\"\"\"r\"cen \"\"b\"\"\"\"\"o\"\"\"\"\"\"\"\"\"\"\"\"\"w\"\"\"\"\"\"\"\"\"\"\"\"\"\"\"\"\"\"\"\"\"\"\"\"\"\"e\"\"\"\"\"m\"\"ee tss\"\"l',\n",
              " 'si\"\"mp\"n \"\"\"\"\"\"\"\"\"\"\"\"\"\"\"b\"\"c\"\"\"\"\"\"\"e\"ka\"\"\"t',\n",
              " 's\"\"\"\"\"\"\"\"\"\"\"\"\"\"\"go\"n\"\"\"\"\"\"\"\"\"yow\"\"t',\n",
              " 're\"r\"\"\"n\"\" \"h\"\"\"\"\"\"\"\"\"\"\"\"x\"\"\"\"\"\"\"\"\"\"\"\"\"\"\"\"\"\"\"o\"l\"\"\"\"\"\"\"\"\"sak\"\"f',\n",
              " 'c\"\"r\"\"\"\"\"\"\"\"e\"\"\"\"\"\"\"\"\"\"\"\"\"\"\"\"\"ko\"\"\"\"\"\"\" \"\"\"sau\"\"\"',\n",
              " '\"a\"\"\"i\"\"\"\" c\"\"\"\"\"\"\"\"\"\"\"\"\"\"\"\"\"\"\" \"\"o\"\"\"\" \"\"\"\"\"\"bo\"\"\"r',\n",
              " 'de\"\"\"i\"\"\"\"\"\"\"\"\"\"\"\"\"\"\"\"\"\" \"\"\"\"\"\"\"\"\"\"\"\"\"\"\"\"o\"\"\"\"\"\"\"\"\"\"\"ba\"\"\"e',\n",
              " 'r\"s\"ta\"\"d\"\"\"\"\"\"\"\"\"\"\"\"\"\"\"\"\"\"\"\"\"\"\"\"\"\"\"\"\"\"\"\"\"\"\"\"\"\"\"\"\"\"\" \"\"\"\"\"\"\"\"\"\"\"\"\"\"dis\"e\"',\n",
              " 't\"\"\"m\"\"\"\"\" y\"\"\"\"\"\"\"\"\"\"\"\"\"\"\"\"\"\"\"w\"\"\"\"\"\"\"\"\"\"\"\"\"\"\"\"\"\"u zal\"ar',\n",
              " '\"a\"\"\"i\"\"\"\" c\"\"\"\"\"\"\"\"\"\"\"\"\"\"\"\"\"\"\" \"\"o\"\"\"\" \"\"\"\"\"\"bo\"\"\"r',\n",
              " '\"\"\"\"\"\"\"\"\"\"\"\"\"\"\"\"\"\"\"\"\"\"\"\"\"\"\"\"\"\"\"\"\"\"\"\"\"\"\"\"\"\"\"\"\"d\"\"\"\"\"\"\"\"\"\"\"\"\"\"\"\"\"\"\"\"\"e\"\"\"\"\"\"\" d\"\" \"n\"\"aa\"\"\"i\"\"\"\"n\"\"\"\"\"\"\"e\"\"al\"ee',\n",
              " 'c\"\"r\"\"\"\"\"\"\"\"e\"\"\"\"\"\"\"\"\"\"\"\"\"\"\"\"\"ko\"\"\"\"\"\"\" \"\"\"sau\"\"\"',\n",
              " 's\"\"\"tio\"\"\"\"\"\"\"\"\"\"\"\"\"\"\"\"\"\"\" \"\"ou\"\"\"\"\"\"\"\"\"\"\"ik\"ae',\n",
              " 'cen\"t\"\"\"\"\" \"o\"\"\"\"o\"\"\"\"\"\"\"l\"\"\"\"\"\"\"\"\"\"\"\"\"\"\"\"\"\"w\"\"\"\"\" \"\"p\"\"\"\"\"\"\"\"\"\"mzat\"\"t',\n",
              " 'de\"\"\"i\"\"\"\"\"\"\"\"\"\"\"\"\"\"\"\"\"\" \"\"\"\"\"\"\"\"\"\"\"\"\"\"\"\"o\"\"\"\"\"\"\"\"\"\"\"ba\"\"\"e',\n",
              " 't\"u\"\"\"\"\"\"\"\"\"\"\"\"\"\"\"\"\"\"\"\"\"\"\"\"\"\"\"\"\" \"\"\"\"\"\"\"\"\"\"\"\"\"\"\"\"e\"\"\"\"\"\"\"\"r\"\"sasq\"e',\n",
              " 'si\"\"m\"\"\"\"\"\"\"\"\"\"\"\"\"\"seem\"\"i\"\"\"\"\"\"\"\"\"\"\"\"\"\"\"\"\"\"\"\"\"\"\"\"\"\"\"\"\"\"\"\"\"\"\"\"\"\"\"\"\"ee tc\"\"\"\"a\"   n\"\"aat\"tt',\n",
              " 'r\"u\"t\"\"\"\"\" \"\"\"\"\"\"\"\"\"\"\"\"\"\"\"\"\"\"\"\"\"\"\"\"\"\"\"\"\"\"\"\"\"our\"\"\"\"\" \"\"\"bok\"\"\"',\n",
              " 't\"u\"\"\"\"\"\"\"\"\"\"\"\"\"\"\"\"\"\"\"\"\"\"\"\"\"\"\"\"\" \"\"\"\"\"\"\"\"\"\"\"\"\"\"\"\"e\"\"\"\"\"\"\"\"r\"\"sasq\"e',\n",
              " 'c\"\"\"\"i\"\"\"\"\"s\"\"\"\"\"\"\"\"\"\"\"\"\"e\"\"\"\"b\"\"\"\"\"\"\"\"\"\"\"\"\"\"\"\"\"\"\"\"\"\"\"\"\"\"\"\"\"\"\"\"\"\"\"\"\"\"\"t\"\"\"\"\"ai  \"n\"\"a\"m\"\"io\"è\"e',\n",
              " 's\"\"\"\"\"\"\"\"\"\"\"\"\"\"\"go\"n\"\"\"\"\"\"\"\"\"yow\"\"t',\n",
              " '\"\"a\"m\"\"\"\"\"\"\"\"\"\"\"\"\"\"\"\"\"\"\"\"\"\"\"\"\"\"\"\"\"\"\"\"\"\"\"\"\"\"\"\"\"\"\"\"\"\"zin\"\"e',\n",
              " 'r\"u\"t\"\"\"\"\" \"\"\"\"\"\"\"\"\"\"\"\"\"\"\"\"\"\"\"\"\"\"\"\"\"\"\"\"\"\"\"\"\"our\"\"\"\"\" \"\"\"bok\"\"\"',\n",
              " 'm\"\"d\"\"\"\"r\"\"\"\"\"\"\"\"\"\"\"\"\"\"\"\"\"\"\"\"\"\"\"\"\"\"\"\"\"\"\"\"\"\"\"\"\"\"\"\"\"\"\"r\"\"\"\"\"\"\"\"\"fisq\"e',\n",
              " 'bo\"\"\"io\"\"\"\"c\"\"l\"\"\"\"\"\"\"\"e\"\"\"\"\"\"\"\"\"\"\"\"\"\"\" \"\"o\"\"\"\"\"\"e \"\"\"\"ak\"n\"',\n",
              " 'de\"\"\"i\"\"\"\"\"\"\"\"\"\"\"\"\"\"\"\"\"\" \"\"\"\"\"\"\"\"\"\"\"\"\"\"\"\"o\"\"\"\"\"\"\"\"\"\"\"ba\"\"\"e',\n",
              " 'di\"\"\"\"\"\"\"\"\"\"\"\"\"\"\"\"\"\"\"\"\"\"\"\"\"\"\"\"e\"\"\"\"\"\"\"\"\"\"\"din\"\"r',\n",
              " 'r\"s\"ta\"\"d\"\"\"\"\"\"\"\"\"\"\"\"\"\"\"\"\"\"\"\"\"\"\"\"\"\"\"\"\"\"\"\"\"\"\"\"\"\"\"\"\"\"\" \"\"\"\"\"\"\"\"\"\"\"\"\"\"dis\"e\"',\n",
              " 'r\"s\"ta\"\"d\"\"\"\"\"\"\"\"\"\"\"\"\"\"\"\"\"\"\"\"\"\"\"\"\"\"\"\"\"\"\"\"\"\"\"\"\"\"\"\"\"\"\" \"\"\"\"\"\"\"\"\"\"\"\"\"\"dis\"e\"',\n",
              " 'cen\"t\"\"\"\"\" \"o\"\"\"\"o\"\"\"\"\"\"\"l\"\"\"\"\"\"\"\"\"\"\"\"\"\"\"\"\"\"w\"\"\"\"\" \"\"p\"\"\"\"\"\"\"\"\"\"mzat\"\"t',\n",
              " 'si\"\"mp\"n \"\"\"\"\"\"\"\"\"\"\"\"\"\"\"b\"\"c\"\"\"\"\"\"\"e\"ka\"\"\"t',\n",
              " 'pia\"k\"\"\"\"\"\"\"i\"\"\"n\"\"\"o\"c\"\"\"\"\"\"\"u\"bat\"\"e',\n",
              " 're\"r\"\"\"n\"\" \"h\"\"\"\"\"\"\"\"\"\"\"\"x\"\"\"\"\"\"\"\"\"\"\"\"\"\"\"\"\"\"\"o\"l\"\"\"\"\"\"\"\"\"sak\"\"f',\n",
              " 'b\"a\"t\"\"n\"\"\"\"\"\"\"\"\"\"\"\"\"\"\"\"\"\"\"\"\"\" \"\"\"\"l\"\"\"\"\"\"\"\"\"dar\"\"\"',\n",
              " 't\"u\"\"\"\"\"\"\"\"\"\"\"\"\"\"\"\"\"\"\"\"\"\"\"\"\"\"\"\"\" \"\"\"\"\"\"\"\"\"\"\"\"\"\"\"\"e\"\"\"\"\"\"\"\"r\"\"sasq\"e',\n",
              " 'de\"\"\"i\"\"\"\"\"\"\"\"\"\"\"\"\"\"\"\"\"\" \"\"\"\"\"\"\"\"\"\"\"\"\"\"\"\"o\"\"\"\"\"\"\"\"\"\"\"ba\"\"\"e',\n",
              " 'r\"s\"ta\"\"d\"\"\"\"\"\"\"\"\"\"\"\"\"\"\"\"\"\"\"\"\"\"\"\"\"\"\"\"\"\"\"\"\"\"\"\"\"\"\"\"\"\"\" \"\"\"\"\"\"\"\"\"\"\"\"\"\"dis\"e\"',\n",
              " '\"\"\"\"r\"o\"\"\"\"\"\"\"\"\"\"\"\"\"\"\"\"\"\"\"\"\"\"\"\"\"\"\"\"\"\"\"\"\"\"\"\" \"\"o\"\"\"\" \"\"\"\"\"\"yas\"\"f',\n",
              " '\"a\"\"m\"\"i\"\"\"\"u\"\"\"\"\"\" \"\"\"\"\"y\"\"\"\"\"\"\"\"\"\"\"\"\"\"\"\"\"\"\"\"\"\"\"\"\" \"\"e\"r\"y\"\"\"\"\"\"\"\"a\"\"de',\n",
              " 'bo\"\"\"io\"\"\"\"c\"\"l\"\"\"\"\"\"\"\"e\"\"\"\"\"\"\"\"\"\"\"\"\"\"\" \"\"o\"\"\"\"\"\"e \"\"\"\"ak\"n\"',\n",
              " '\"\"a\"m\"\"\"\"\"\"\"\"\"\"\"\"\"\"\"\"\"\"\"\"\"\"\"\"\"\"\"\"\"\"\"\"\"\"\"\"\"\"\"\"\"\"\"\"\"\"zin\"\"e',\n",
              " '\"a\"\"\"i\"\"\"\" c\"\"\"\"\"\"\"\"\"\"\"\"\"\"\"\"\"\"\" \"\"o\"\"\"\" \"\"\"\"\"\"bo\"\"\"r',\n",
              " 'm\"a\"\"\"\"\"\" \"ch\"l\"i\"\"e o\"\"ba\"\"ae',\n",
              " '\"\"\"\"r\"o\"\"\"\"\"\"\"\"\"\"\"\"\"\"\"\"\"\"\"\"\"\"\"\"\"\"\"\"\"\"\"\"\"\"\"\" \"\"o\"\"\"\" \"\"\"\"\"\"yas\"\"f',\n",
              " '\"\"\"r\"n\"\"\"i\"\"e\"r\"\"\"\"\"\" \"\"\"\"\"\"\"\"\"\"\"\"\"\"\"\"\" \"\"\"\"\"\"\"\"\"\"\"\"\"\"\"\"a\"r\"\"\"\"\"\"\"u\"\"ét\"\"\"',\n",
              " 'ea\"\"i\"\"e\"\"\"\"\"\"\"\"\"\"\"\"\"\"\"\"\"\"\"\"\"\"\"\"\"\"\"\"\"\"\"\"\"\"\"\"\"\"\"\"\"\"\"o\"r\"\"\"\"e\"\"-\"sozqee',\n",
              " '\"a\"\"\"i\"\"\"\" c\"\"\"\"\"\"\"\"\"\"\"\"\"\"\"\"\"\"\" \"\"o\"\"\"\" \"\"\"\"\"\"bo\"\"\"r',\n",
              " 'cea\" p\"\"\"\" ch\"é\"\"e\"\"\"o\"\"\"y\"\"a\"\"\" bik\"\"e',\n",
              " 'b\"a\"t\"\"n\"\"\"\"\"\"\"\"\"\"\"\"\"\"\"\"\"\"\"\"\"\" \"\"\"\"l\"\"\"\"\"\"\"\"\"dar\"\"\"',\n",
              " 's\"s\"\"\"\"\"\"\"\"\"\"\"\"\"ee\"\"\"d\"\"\"\"\"\"\"\"\"\"\"\"\"\"\"\"\"\"\"\"\"\"\"\"\"\"\"\"\" \"\"\"\"\"\"\"\"\"\"\"\"\"\"\"\"e\"t\"\"\"\"\"\"\"  ca\"\"aa',\n",
              " 't\"\"\"\"\"on\"\"\"\"\"\"\"\"\"\"\"\"\"\"\"\"\"\"\"\"\"\"\"\"\"\"\"\"\"\"\"ok\"\"e',\n",
              " 'p\"\"\"m\"\"\"\"\" \"\"\"\"\"\"\"\"\"\"\"\"e \"\"p\"r\"\" \"\" \"\"\"\"a\"\"\"e',\n",
              " 'caar\"i\"\"e\" \"u\"\"fnou \"as\"\"l',\n",
              " '\"a\"\"\"i\"\"\"\" c\"\"\"\"\"\"\"\"\"\"\"\"\"\"\"\"\"\"\" \"\"o\"\"\"\" \"\"\"\"\"\"bo\"\"\"r',\n",
              " 's\"\"\"\"\"\"\"\"\"\"\"\"\"\"\"go\"n\"\"\"\"\"\"\"\"\"yow\"\"t',\n",
              " '\"a\"\"\"i\"\"\"\" c\"\"\"\"\"\"\"\"\"\"\"\"\"\"\"\"\"\"\" \"\"o\"\"\"\" \"\"\"\"\"\"bo\"\"\"r',\n",
              " 'bo\"\"\"io\"\"\"\"c\"\"l\"\"\"\"\"\"\"\"e\"\"\"\"\"\"\"\"\"\"\"\"\"\"\" \"\"o\"\"\"\"\"\"e \"\"\"\"ak\"n\"',\n",
              " 'gi\"\"\"a\"\"\"y\"\"\"\"\"\"\"\"\"\"\" \"\"\"\"\"\"\"\"\"\"\"\"\"\"\"ke\"\"\"\"\"\"a\"\"\"\"saz\"\"\"',\n",
              " '\"\"\"\"\"\"\"\"\"\"\"\"\"\"\"\"\"\"ss\"\"\"\"\"\"\"\"\"\"\"\"\"\"\"\"\"i\"\"\"\"\"\"\"\"\"\"\"\"\"\"\"\"\"\"\"\"\"\"\"\"\"\"\"\"\"\"\"\"t\"\"\"\"\"a\"\" \"n\"\"a\"m\"\"\"\"\"\"\"\"n\"a\"\"\"e',\n",
              " 'cea\" p\"\"\"\" ch\"é\"\"e\"\"\"o\"\"\"y\"\"a\"\"\" bik\"\"e',\n",
              " 'di\"r\"\"\"\"\"\"\"\"u\"\"\"\"\"\"\"\"\"\"\"\"\"\"\"\"\"\"\"\"\"\"\"\"\"\"\"\"\"\"\"\"\"\"\"o\"\"\"\"\"\"\"\"\"\"\"baf\"\"\"',\n",
              " 'cen\"t\"\"\"\"\" \"o\"\"\"\"o\"\"\"\"\"\"\"l\"\"\"\"\"\"\"\"\"\"\"\"\"\"\"\"\"\"w\"\"\"\"\" \"\"p\"\"\"\"\"\"\"\"\"\"mzat\"\"t',\n",
              " 'ci\"\"mi\"\"ss\"\"\"\"\"\"\"\"\"\"\"\"ee \"\"i\"\"\"\"\"\"\"\"\"\"\"\"\"\"\"\"\"\"\"\"\"\"\"\"\"\"\"\"\"\"\"\"\"\"\"\"\"\"\"e\"\"\"\"\"\"\"\"l\"\" \"e\"\"\"\"mati\"\"',\n",
              " 'cea\" p\"\"\"\" ch\"é\"\"e\"\"\"o\"\"\"y\"\"a\"\"\" bik\"\"e',\n",
              " 'cea\" p\"\"\"\" ch\"é\"\"e\"\"\"o\"\"\"y\"\"a\"\"\" bik\"\"e',\n",
              " 'r\"u\"t\"\"\"\"\" \"\"\"\"\"\"\"\"\"\"\"\"\"\"\"\"\"\"\"\"\"\"\"\"\"\"\"\"\"\"\"\"\"our\"\"\"\"\" \"\"\"bok\"\"\"',\n",
              " 'de\"\"\"i\"\"\"\"\"\"\"\"\"\"\"\"\"\"\"\"\"\" \"\"\"\"\"\"\"\"\"\"\"\"\"\"\"\"o\"\"\"\"\"\"\"\"\"\"\"ba\"\"\"e',\n",
              " 't\"u\"\"\"\"\"\"\"\"\"\"\"\"\"\"\"\"\"\"\"\"\"\"\"\"\"\"\"\"\" \"\"\"\"\"\"\"\"\"\"\"\"\"\"\"\"e\"\"\"\"\"\"\"\"r\"\"sasq\"e',\n",
              " 'ea\"\"i\"\"e\"\"\"\"\"\"\"\"\"\"\"\"\"\"\"\"\"\"\"\"\"\"\"\"\"\"\"\"\"\"\"\"\"\"\"\"\"\"\"\"\"\"\"o\"r\"\"\"\"e\"\"-\"sozqee',\n",
              " 'b\"\"\"\"\"\"\"\"\"\"\"\"\"\"\"\"\"\" \"\"e\"\"\"\"\"\"e \"\"\"fa\"\"\"\"',\n",
              " '\"\"\"r\"cen \"\"b\"\"\"\"\"o\"\"\"\"\"\"\"\"\"\"\"\"\"w\"\"\"\"\"\"\"\"\"\"\"\"\"\"\"\"\"\"\"\"\"\"\"\"\"\"e\"\"\"\"\"m\"\"ee tss\"\"l',\n",
              " 'g\"a\"\"i\"\"\"\"\"\"\"\"\"\"\"e\" \"\"\"\"\"\"\"\"\"\"\"\"\"\"\"\"o\"r\"\"\"\"\" d\"\"yas\"\"e',\n",
              " '\"\"\"r\"cen \"\"b\"\"\"\"\"o\"\"\"\"\"\"\"\"\"\"\"\"\"w\"\"\"\"\"\"\"\"\"\"\"\"\"\"\"\"\"\"\"\"\"\"\"\"\"\"e\"\"\"\"\"m\"\"ee tss\"\"l',\n",
              " '\"\"\"\"\"\"\"\"reec\"\"\"\"\"e\"\"\"\"\"\"\"l\"\"\"\"\"\"\"\"\"\"\"\"\"\"\"\"\"\"\"\"\"\"\"\"\"\"\"\"\"\"\"\"\"\"\"\"\"\"\"\"\"ee de zola\"r',\n",
              " '\"h\"\"mi\"\"\"\"\"\"e\"\"fi\"\"\"\" m\"\"xc\"\"\"\"w \"\"\"dir\"\"e',\n",
              " 'co\"\"\"\"\"\"\"\"\"\"\"\"\"\"\"\"\"\" \"\"\"\"\"\"\"\"\"\"\"\"\"\"\"\"o\"\"\"\"\"\"\"\"\"\"\"\"at\"ne',\n",
              " 'b\"\"\"\"\"\"\"\"\"\"\"\"\"\"\"\"\"\" \"\"e\"\"\"\"\"\"e \"\"\"fa\"\"\"\"',\n",
              " '\"a\"\"\"i\"\"\"\" c\"\"\"\"\"\"\"\"\"\"\"\"\"\"\"\"\"\"\" \"\"o\"\"\"\" \"\"\"\"\"\"bo\"\"\"r',\n",
              " 're\"r\"\"\"n\"\" \"h\"\"\"\"\"\"\"\"\"\"\"\"x\"\"\"\"\"\"\"\"\"\"\"\"\"\"\"\"\"\"\"o\"l\"\"\"\"\"\"\"\"\"sak\"\"f',\n",
              " '\"\"\"\"r\"o\"\"\"\"\"\"\"\"\"\"\"\"\"\"\"\"\"\"\"\"\"\"\"\"\"\"\"\"\"\"\"\"\"\"\"\" \"\"o\"\"\"\" \"\"\"\"\"\"yas\"\"f',\n",
              " 'cen\"t\"\"\"\"\" \"o\"\"\"\"o\"\"\"\"\"\"\"l\"\"\"\"\"\"\"\"\"\"\"\"\"\"\"\"\"\"w\"\"\"\"\" \"\"p\"\"\"\"\"\"\"\"\"\"mzat\"\"t',\n",
              " 'g\"a\"\"i\"\"\"\"\"\"\"\"\"\"\"e\" \"\"\"\"\"\"\"\"\"\"\"\"\"\"\"\"o\"r\"\"\"\"\" d\"\"yas\"\"e',\n",
              " 'b\"a\"t\"\"n\"\"\"\"\"\"\"\"\"\"\"\"\"\"\"\"\"\"\"\"\"\" \"\"\"\"l\"\"\"\"\"\"\"\"\"dar\"\"\"',\n",
              " 's\"\"\"tio\"\"\"\"\"\"\"\"\"\"\"\"\"\"\"\"\"\"\" \"\"ou\"\"\"\"\"\"\"\"\"\"\"ik\"ae',\n",
              " 't\"\"\"\"\"on\"\"\"\"\"\"\"\"\"\"\"\"\"\"\"\"\"\"\"\"\"\"\"\"\"\"\"\"\"\"\"ok\"\"e',\n",
              " 'de\"\"\"i\"\"\"\"\"\"\"\"\"\"\"\"\"\"\"\"\"\" \"\"\"\"\"\"\"\"\"\"\"\"\"\"\"\"o\"\"\"\"\"\"\"\"\"\"\"ba\"\"\"e',\n",
              " 'c\"\"r\"\"\"\"\"\"\"\"e\"\"\"\"\"\"\"\"\"\"\"\"\"\"\"\"\"ko\"\"\"\"\"\"\" \"\"\"sau\"\"\"',\n",
              " 'co\"\"\"\"\"\"\"\"\"\"\"\"\"\"\"\"\"\" \"\"\"\"\"\"\"\"\"\"\"\"\"\"\"\"o\"\"\"\"\"\"\"\"\"\"\"\"at\"ne',\n",
              " '\"\"\"r\"cen \"\"b\"\"\"\"\"o\"\"\"\"\"\"\"\"\"\"\"\"\"w\"\"\"\"\"\"\"\"\"\"\"\"\"\"\"\"\"\"\"\"\"\"\"\"\"\"e\"\"\"\"\"m\"\"ee tss\"\"l',\n",
              " 'r\"u\"t\"\"\"\"\" \"\"\"\"\"\"\"\"\"\"\"\"\"\"\"\"\"\"\"\"\"\"\"\"\"\"\"\"\"\"\"\"\"our\"\"\"\"\" \"\"\"bok\"\"\"',\n",
              " '\"h\"\"mi\"\"\"\"\"\"e\"\"fi\"\"\"\" m\"\"xc\"\"\"\"w \"\"\"dir\"\"e',\n",
              " '\"e\"\"mionr\" cut\"\"\"\"\"\"e \"e yat\"nr',\n",
              " '\"a\"\"\"i\"\"\"\" c\"\"\"\"\"\"\"\"\"\"\"\"\"\"\"\"\"\"\" \"\"o\"\"\"\" \"\"\"\"\"\"bo\"\"\"r',\n",
              " '\"\"\"\"\"\"\"\"\"\"\"\"\"\"\"\"\"\"\"\"\"\"\"\"\"\"\"\"ee\"\"\"b\"\"\"\"\"\"\"\"\"\"\"\"\"\"\"\"\"\"\"\"\"\"\"\"\"\"\"\"\"\"\"\"\"ee\"t\"\"\"\"\"a\"\" \"\"\"\"a\"m\"\"\"é\"banèn\"',\n",
              " '\"\"\"\"\"\"\"\"reec\"\"\"\"\"e\"\"\"\"\"\"\"l\"\"\"\"\"\"\"\"\"\"\"\"\"\"\"\"\"\"\"\"\"\"\"\"\"\"\"\"\"\"\"\"\"\"\"\"\"\"\"\"\"ee de zola\"r',\n",
              " '\"o\"\"\"\"\"\"ee \"\"b\"\"\"\"\"\"\"\"\"\"\"\"\"\"\"\"\"\"\"\"\"\"\"\"\"\"\"\"\"\"\"\"\"\"\"\"\"\"\"\"\"\"\"\"\"ke\"\"\"\"\"\"e\"\"\"\"sa\"\"a\"',\n",
              " 's\"\"\"tio\"\"\"\"\"\"\"\"\"\"\"\"\"\"\"\"\"\"\" \"\"ou\"\"\"\"\"\"\"\"\"\"\"ik\"ae',\n",
              " 'p\"\"\"m\"\"\"\"\" \"\"\"\"\"\"\"\"\"\"\"\"e \"\"p\"r\"\" \"\" \"\"\"\"a\"\"\"e',\n",
              " '\"a\"\"m\"\"i\"\"\"\"u\"\"\"\"\"\" \"\"\"\"\"y\"\"\"\"\"\"\"\"\"\"\"\"\"\"\"\"\"\"\"\"\"\"\"\"\" \"\"e\"r\"y\"\"\"\"\"\"\"\"a\"\"de',\n",
              " 'si\"\"mi\"\"s\"\"\"\"\"\"\"\"\"\"\"\"ee\"\"\"i\"\"\"\"\"\"\"\"\"\"\"\"\"\"\"\"\"\"\"\"\"\"\"\"\"\"\"\"\"\"\"\"\"\"\"\"\"\"\"\"\"e\"\"\"\"\"\"la\"  \"n\"\"\"aatt\"è',\n",
              " 'p\"\"\"m\"\"\"\"\" \"\"\"\"\"\"\"\"\"\"\"\"e \"\"p\"r\"\" \"\" \"\"\"\"a\"\"\"e',\n",
              " 'c\"\"r\"\"\"\"\"\"\"\"e\"\"\"\"\"\"\"\"\"\"\"\"\"\"\"\"\"ko\"\"\"\"\"\"\" \"\"\"sau\"\"\"',\n",
              " 'g\"a\"\"i\"\"\"\"\"\"\"\"\"\"\"e\" \"\"\"\"\"\"\"\"\"\"\"\"\"\"\"\"o\"r\"\"\"\"\" d\"\"yas\"\"e',\n",
              " '\"a\"\"\"i\"\"\"\" c\"\"\"\"\"\"\"\"\"\"\"\"\"\"\"\"\"\"\" \"\"o\"\"\"\" \"\"\"\"\"\"bo\"\"\"r',\n",
              " 'si\"\"mi\"\"s\"\"\"\"\"\"\"\"\"\"\"\"ee\"\"\"i\"\"\"\"\"\"\"\"\"\"\"\"\"\"\"\"\"\"\"\"\"\"\"\"\"\"\"\"\"\"\"\"\"\"\"\"\"\"\"\"\"e\"\"\"\"\"\"la\"  \"n\"\"\"aatt\"è',\n",
              " 'b\"a\"t\"\"n\"\"\"\"\"\"\"\"\"\"\"\"\"\"\"\"\"\"\"\"\"\" \"\"\"\"l\"\"\"\"\"\"\"\"\"dar\"\"\"',\n",
              " 'di\"r\"\"\"\"\"\"\"\"u\"\"\"\"\"\"\"\"\"\"\"\"\"\"\"\"\"\"\"\"\"\"\"\"\"\"\"\"\"\"\"\"\"\"\"o\"\"\"\"\"\"\"\"\"\"\"baf\"\"\"',\n",
              " 'p\"\"\"m\"\"\"\"\" \"\"\"\"\"\"\"\"\"\"\"\"e \"\"p\"r\"\" \"\" \"\"\"\"a\"\"\"e',\n",
              " '\"\"a\"m\"\"\"\"\"\"\"\"\"\"\"\"\"\"\"\"\"\"\"\"\"\"\"\"\"\"\"\"\"\"\"\"\"\"\"\"\"\"\"\"\"\"\"\"\"\"zin\"\"e',\n",
              " 'bo\"\"\"io\"\"\"\"c\"\"l\"\"\"\"\"\"\"\"e\"\"\"\"\"\"\"\"\"\"\"\"\"\"\" \"\"o\"\"\"\"\"\"e \"\"\"\"ak\"n\"',\n",
              " '\"\"\"\"\"\"\"\"\"\"\"\"\"\"\"\"\"\"\"\"\"\"\"\"\"\"\"\"\"\"\"\"\"\"\"\"\"\"\"\"\"\"\"\"\"\"\"\"\"\"\"s\"\"\"\"\"\"\"\"\"\"\"\"\"\"\"e\"\"d\"\"\"\"\"a\"\" \"n\"\"a\"a\"t\"\"\"\"èèè\"\"\"\"\"\"\"\"eee\"\"\"\"\"\"e\"\"\"e\"l\"e\"\"e\"\"e\"\"a\"\"\"e',\n",
              " 'm\"a\"\"\"\"\"\" \"ch\"l\"i\"\"e o\"\"ba\"\"ae',\n",
              " 'di\"r\"\"\"\"\"\"\"\"u\"\"\"\"\"\"\"\"\"\"\"\"\"\"\"\"\"\"\"\"\"\"\"\"\"\"\"\"\"\"\"\"\"\"\"o\"\"\"\"\"\"\"\"\"\"\"baf\"\"\"',\n",
              " 'pa\"rki\"\"\"\"\"\"\"\"\"\"\"\"\"\"\"\"\"\"\"\"\"\"\"\"\"\"\"\"\"\"\"\"\"\"\"\"\"\"sar\"\"e',\n",
              " 'de\"\"\"i\"\"\"\"\"\"\"\"\"\"\"\"\"\"\"\"\"\" \"\"\"\"\"\"\"\"\"\"\"\"\"\"\"\"o\"\"\"\"\"\"\"\"\"\"\"ba\"\"\"e',\n",
              " 'si\"\"mp\"n \"\"\"\"\"\"\"\"\"\"\"\"\"\"\"b\"\"c\"\"\"\"\"\"\"e\"ka\"\"\"t',\n",
              " 't\"\"\"\"\"on\"\"\"\"\"\"\"\"\"\"\"\"\"\"\"\"\"\"\"\"\"\"\"\"\"\"\"\"\"\"\"ok\"\"e',\n",
              " '\"a\"\"m\"\"i\"\"\"\"u\"\"\"\"\"\" \"\"\"\"\"y\"\"\"\"\"\"\"\"\"\"\"\"\"\"\"\"\"\"\"\"\"\"\"\"\" \"\"e\"r\"y\"\"\"\"\"\"\"\"a\"\"de',\n",
              " 'cen\"t\"\"\"\"\" \"o\"\"\"\"o\"\"\"\"\"\"\"l\"\"\"\"\"\"\"\"\"\"\"\"\"\"\"\"\"\"w\"\"\"\"\" \"\"p\"\"\"\"\"\"\"\"\"\"mzat\"\"t',\n",
              " 'p\"\"\"m\"\"\"\"\" \"\"\"\"\"\"\"\"\"\"\"\"e \"\"p\"r\"\" \"\" \"\"\"\"a\"\"\"e',\n",
              " 's\"s\"\"\"\"\"\"\"\"\"\"\"\"\"n\"\"\"i\"\"e\"\"\"\"\"\"\"\"\"\"\"\"\"\"\"\"\"\"\"\"\"\"\"\"\"\"\"\"\"\"\"\"\"\"\"\"\"\"\"\"\"\"\"ee\"te \"\" d\"  an\"aa',\n",
              " 'r\"s\"ta\"\"d\"\"\"\"\"\"\"\"\"\"\"\"\"\"\"\"\"\"\"\"\"\"\"\"\"\"\"\"\"\"\"\"\"\"\"\"\"\"\"\"\"\"\" \"\"\"\"\"\"\"\"\"\"\"\"\"\"dis\"e\"',\n",
              " 't\"u\"\"\"\"\"\"\"\"\"\"\"\"\"\"\"\"\"\"\"\"\"\"\"\"\"\"\"\"\" \"\"\"\"\"\"\"\"\"\"\"\"\"\"\"\"e\"\"\"\"\"\"\"\"r\"\"sasq\"e',\n",
              " '\"a\"\"\"i\"\"\"\" c\"\"\"\"\"\"\"\"\"\"\"\"\"\"\"\"\"\"\" \"\"o\"\"\"\" \"\"\"\"\"\"bo\"\"\"r',\n",
              " 'de\"\"\"i\"\"\"\"\"\"\"\"\"\"\"\"\"\"\"\"\"\" \"\"\"\"\"\"\"\"\"\"\"\"\"\"\"\"o\"\"\"\"\"\"\"\"\"\"\"ba\"\"\"e',\n",
              " 's\"\"\"\"\"\"\"\"\"\"\"\"\"\"\"go\"n\"\"\"\"\"\"\"\"\"yow\"\"t',\n",
              " '\"\"\"\"r\"o\"\"\"\"\"\"\"\"\"\"\"\"\"\"\"\"\"\"\"\"\"\"\"\"\"\"\"\"\"\"\"\"\"\"\"\" \"\"o\"\"\"\" \"\"\"\"\"\"yas\"\"f',\n",
              " 'bo\"\"\"io\"\"\"\"c\"\"l\"\"\"\"\"\"\"\"e\"\"\"\"\"\"\"\"\"\"\"\"\"\"\" \"\"o\"\"\"\"\"\"e \"\"\"\"ak\"n\"',\n",
              " 'p\"\"\"m\"\"\"\"\" \"\"\"\"\"\"\"\"\"\"\"\"e \"\"p\"r\"\" \"\" \"\"\"\"a\"\"\"e',\n",
              " 'm\"\"d\"\"\"\"r\"\"\"\"\"\"\"\"\"\"\"\"\"\"\"\"\"\"\"\"\"\"\"\"\"\"\"\"\"\"\"\"\"\"\"\"\"\"\"\"\"\"\"r\"\"\"\"\"\"\"\"\"fisq\"e',\n",
              " '\"\"a\"m\"\"\"\"\"\"\"\"\"\"\"\"\"\"\"\"\"\"\"\"\"\"\"\"\"\"\"\"\"\"\"\"\"\"\"\"\"\"\"\"\"\"\"\"\"\"zin\"\"e',\n",
              " '\"a\"\"\"i\"\"\"\" c\"\"\"\"\"\"\"\"\"\"\"\"\"\"\"\"\"\"\" \"\"o\"\"\"\" \"\"\"\"\"\"bo\"\"\"r',\n",
              " '\"\"a\"m\"\"\"\"\"\"\"\"\"\"\"\"\"\"\"\"\"\"\"\"\"\"\"\"\"\"\"\"\"\"\"\"\"\"\"\"\"\"\"\"\"\"\"\"\"\"zin\"\"e',\n",
              " 'de\"\"\"i\"\"\"\"\"\"\"\"\"\"\"\"\"\"\"\"\"\" \"\"\"\"\"\"\"\"\"\"\"\"\"\"\"\"o\"\"\"\"\"\"\"\"\"\"\"ba\"\"\"e',\n",
              " 'gi\"\"\"a\"\"\"y\"\"\"\"\"\"\"\"\"\"\" \"\"\"\"\"\"\"\"\"\"\"\"\"\"\"ke\"\"\"\"\"\"a\"\"\"\"saz\"\"\"',\n",
              " 'bo\"\"\"io\"\"\"\"c\"\"l\"\"\"\"\"\"\"\"e\"\"\"\"\"\"\"\"\"\"\"\"\"\"\" \"\"o\"\"\"\"\"\"e \"\"\"\"ak\"n\"',\n",
              " 's\"\"\"\"\"\"\"\"\"\"\"\"\"\"\"go\"n\"\"\"\"\"\"\"\"\"yow\"\"t',\n",
              " 'r\"u\"t\"\"\"\"\" \"\"\"\"\"\"\"\"\"\"\"\"\"\"\"\"\"\"\"\"\"\"\"\"\"\"\"\"\"\"\"\"\"our\"\"\"\"\" \"\"\"bok\"\"\"',\n",
              " '\"\"\"\"\"\"\"\"reec\"\"\"\"\"e\"\"\"\"\"\"\"l\"\"\"\"\"\"\"\"\"\"\"\"\"\"\"\"\"\"\"\"\"\"\"\"\"\"\"\"\"\"\"\"\"\"\"\"\"\"\"\"\"ee de zola\"r',\n",
              " 'r\"u\"t\"\"\"\"\" \"\"\"\"\"\"\"\"\"\"\"\"\"\"\"\"\"\"\"\"\"\"\"\"\"\"\"\"\"\"\"\"\"our\"\"\"\"\" \"\"\"bok\"\"\"',\n",
              " 'cen\"t\"\"\"\"\" \"o\"\"\"\"o\"\"\"\"\"\"\"l\"\"\"\"\"\"\"\"\"\"\"\"\"\"\"\"\"\"w\"\"\"\"\" \"\"p\"\"\"\"\"\"\"\"\"\"mzat\"\"t',\n",
              " 'b\"a\"t\"\"n\"\"\"\"\"\"\"\"\"\"\"\"\"\"\"\"\"\"\"\"\"\" \"\"\"\"l\"\"\"\"\"\"\"\"\"dar\"\"\"',\n",
              " 's\"\"r\"\"\"\"\"\"\"\"\"\"foi\"\"\" \"e \"\"\"dan\"\"\"',\n",
              " 'co\"\"\"\"\"\"\"\"\"\"\"\"\"\"\"\"\"\" \"\"\"\"\"\"\"\"\"\"\"\"\"\"\"\"o\"\"\"\"\"\"\"\"\"\"\"\"at\"ne',\n",
              " 'p\"\"\"m\"\"\"\"\" \"\"\"\"\"\"\"\"\"\"\"\"e \"\"p\"r\"\" \"\" \"\"\"\"a\"\"\"e',\n",
              " 'be\"\"\"\"\"\"\"\"s mka\"n\"\" \"a \"\"\"fak\"\"\"',\n",
              " 'c\"\"\"\"i\"\"\"\"\"s\"\"\"\"\"\"\"\"\"\"\"\"\"e\"\"\"\"b\"\"\"\"\"\"\"\"\"\"\"\"\"\"\"\"\"\"\"\"\"\"\"\"\"\"\"\"\"\"\"\"\"\"\"\"\"\"\"t\"\"\"\"\"ai  \"n\"\"a\"m\"\"io\"è\"e',\n",
              " 's\"\"\"\"\"o\"\"\"\"\"u\"\"\"mb\"\"\"\"\"\"\"\" \"\"\"kan\"ne',\n",
              " 'co\"\"\"\"\"\"\"\"\"\"\"\"\"\"\"\"\"\" \"\"\"\"\"\"\"\"\"\"\"\"\"\"\"\"o\"\"\"\"\"\"\"\"\"\"\"\"at\"ne',\n",
              " 'pia\"k\"\"\"\"\"\"\"i\"\"\"n\"\"\"o\"c\"\"\"\"\"\"\"u\"bat\"\"e',\n",
              " 'b\"a\"\"\"\"n \"\"\"\"\"\"\"\"\"\"\"\"\"\"\"\"\"\"\"\"\"\"\"\"\"\"\"\"\"\"\"\"\"\"\"\"\"\"\"\"\"\" r\"\"\"ak\"\"e',\n",
              " 'co\"\"\"\"\"\"\"\"\"\"\"\"\"\"\"\"\"\" \"\"\"\"\"\"\"\"\"\"\"\"\"\"\"\"o\"\"\"\"\"\"\"\"\"\"\"\"at\"ne',\n",
              " 'g\"a\"\"i\"\"\"\"\"\"\"\"\"\"\"e\" \"\"\"\"\"\"\"\"\"\"\"\"\"\"\"\"o\"r\"\"\"\"\" d\"\"yas\"\"e',\n",
              " 's\"s\"\"\"\"\"\"\"\"\"\"\"\"\"n\"\"\"i\"\"e\"\"\"\"\"\"\"\"\"\"\"\"\"\"\"\"\"\"\"\"\"\"\"\"\"\"\"\"\"\"\"\"\"\"\"\"\"\"\"\"\"\"\"ee\"te \"\" d\"  an\"aa',\n",
              " '\"\"\"\"r\"o\"\"\"\"\"\"\"\"\"\"\"\"\"\"\"\"\"\"\"\"\"\"\"\"\"\"\"\"\"\"\"\"\"\"\"\" \"\"o\"\"\"\" \"\"\"\"\"\"yas\"\"f',\n",
              " 't\"\"\"\"\"on\"\"\"\"\"\"\"\"\"\"\"\"\"\"\"\"\"\"\"\"\"\"\"\"\"\"\"\"\"\"\"ok\"\"e',\n",
              " '\"a\"\"\"i\"\"\"\" c\"\"\"\"\"\"\"\"\"\"\"\"\"\"\"\"\"\"\" \"\"o\"\"\"\" \"\"\"\"\"\"bo\"\"\"r',\n",
              " 't\"\"\"\"\"on\"\"\"\"\"\"\"\"\"\"\"\"\"\"\"\"\"\"\"\"\"\"\"\"\"\"\"\"\"\"\"ok\"\"e',\n",
              " 'r\"s\"ta\"\"d\"\"\"\"\"\"\"\"\"\"\"\"\"\"\"\"\"\"\"\"\"\"\"\"\"\"\"\"\"\"\"\"\"\"\"\"\"\"\"\"\"\"\" \"\"\"\"\"\"\"\"\"\"\"\"\"\"dis\"e\"',\n",
              " '\"e\"\"mionr\" cut\"\"\"\"\"\"e \"e yat\"nr',\n",
              " 'ea\"\"i\"\"e\"\"\"\"\"\"\"\"\"\"\"\"\"\"\"\"\"\"\"\"\"\"\"\"\"\"\"\"\"\"\"\"\"\"\"\"\"\"\"\"\"\"\"o\"r\"\"\"\"e\"\"-\"sozqee',\n",
              " 'p\"\"\"m\"\"\"\"\" \"\"\"\"\"\"\"\"\"\"\"\"e \"\"p\"r\"\" \"\" \"\"\"\"a\"\"\"e',\n",
              " '\"\"\"\"\"\"\"\"\"\"\"\"\"\"\"\"\"\"\"s\"\"\"\"\"\"\"\"\"\"\"\"\"e\"\"\"\"\"\"\"\"\"\"\"\"\"\"\"\"\"\"\"\"\"\"\"\"\"\"\"\"\"\"\"\"\"\"\"\"t\"\"\"\"\"a\"\" \"n\"\"aa\"\"ti\"\"\"\"n\"n\"a\"\"\"e',\n",
              " 'c\"\"r\"\"\"\"\"\"\"\"e\"\"\"\"\"\"\"\"\"\"\"\"\"\"\"\"\"ko\"\"\"\"\"\"\" \"\"\"sau\"\"\"',\n",
              " 'ea\"\"i\"\"e\"\"\"\"\"\"\"\"\"\"\"\"\"\"\"\"\"\"\"\"\"\"\"\"\"\"\"\"\"\"\"\"\"\"\"\"\"\"\"\"\"\"\"o\"r\"\"\"\"e\"\"-\"sozqee',\n",
              " 'si\"\"mp\"n \"\"\"\"\"\"\"\"\"\"\"\"\"\"\"b\"\"c\"\"\"\"\"\"\"e\"ka\"\"\"t',\n",
              " 'b\"a\"t\"\"n\"\"\"\"\"\"\"\"\"\"\"\"\"\"\"\"\"\"\"\"\"\" \"\"\"\"l\"\"\"\"\"\"\"\"\"dar\"\"\"',\n",
              " '\"\"\"\"\"\"\"\"reec\"\"\"\"\"e\"\"\"\"\"\"\"l\"\"\"\"\"\"\"\"\"\"\"\"\"\"\"\"\"\"\"\"\"\"\"\"\"\"\"\"\"\"\"\"\"\"\"\"\"\"\"\"\"ee de zola\"r',\n",
              " 'cen\"t\"\"\"\"\" \"o\"\"\"\"o\"\"\"\"\"\"\"l\"\"\"\"\"\"\"\"\"\"\"\"\"\"\"\"\"\"w\"\"\"\"\" \"\"p\"\"\"\"\"\"\"\"\"\"mzat\"\"t',\n",
              " 'co\"\"\"\"\"\"\"\"\"\"\"\"\"\"\"\"\"\" \"\"\"\"\"\"\"\"\"\"\"\"\"\"\"\"o\"\"\"\"\"\"\"\"\"\"\"\"at\"ne',\n",
              " 't\"\"\"\"\"on\"\"\"\"\"\"\"\"\"\"\"\"\"\"\"\"\"\"\"\"\"\"\"\"\"\"\"\"\"\"\"ok\"\"e',\n",
              " 'pia\"k\"\"\"\"\"\"\"i\"\"\"n\"\"\"o\"c\"\"\"\"\"\"\"u\"bat\"\"e',\n",
              " '\"h\"\"mi\"\"\"\"\"\"e\"\"fi\"\"\"\" m\"\"xc\"\"\"\"w \"\"\"dir\"\"e',\n",
              " 'ea\"\"i\"\"e\"\"\"\"\"\"\"\"\"\"\"\"\"\"\"\"\"\"\"\"\"\"\"\"\"\"\"\"\"\"\"\"\"\"\"\"\"\"\"\"\"\"\"o\"r\"\"\"\"e\"\"-\"sozqee',\n",
              " 'de\"\"\"i\"\"\"\"\"\"\"\"\"\"\"\"\"\"\"\"\"\" \"\"\"\"\"\"\"\"\"\"\"\"\"\"\"\"o\"\"\"\"\"\"\"\"\"\"\"ba\"\"\"e',\n",
              " 'p\"\"\"m\"\"\"\"\" \"\"\"\"\"\"\"\"\"\"\"\"e \"\"p\"r\"\" \"\" \"\"\"\"a\"\"\"e',\n",
              " 's\"\"\"\"\"o\"\"\"\"\"u\"\"\"mb\"\"\"\"\"\"\"\" \"\"\"kan\"ne',\n",
              " 'de\"\"\"i\"\"\"\"\"\"\"\"\"\"\"\"\"\"\"\"\"\" \"\"\"\"\"\"\"\"\"\"\"\"\"\"\"\"o\"\"\"\"\"\"\"\"\"\"\"ba\"\"\"e',\n",
              " '\"a\"\"\"i\"\"\"\" c\"\"\"\"\"\"\"\"\"\"\"\"\"\"\"\"\"\"\" \"\"o\"\"\"\" \"\"\"\"\"\"bo\"\"\"r',\n",
              " 'ea\"\"i\"\"e\"\"\"\"\"\"\"\"\"\"\"\"\"\"\"\"\"\"\"\"\"\"\"\"\"\"\"\"\"\"\"\"\"\"\"\"\"\"\"\"\"\"\"o\"r\"\"\"\"e\"\"-\"sozqee',\n",
              " 'di\"\"\"\"\"\"\"\"\"\"\"\"\"\"\"\"\"\"\"\"\"\"\"\"\"\"\"\"e\"\"\"\"\"\"\"\"\"\"\"din\"\"r',\n",
              " 're\"r\"\"\"n\"\" \"h\"\"\"\"\"\"\"\"\"\"\"\"x\"\"\"\"\"\"\"\"\"\"\"\"\"\"\"\"\"\"\"o\"l\"\"\"\"\"\"\"\"\"sak\"\"f',\n",
              " 'c\"\"r\"\"\"\"\"\"\"\"e\"\"\"\"\"\"\"\"\"\"\"\"\"\"\"\"\"ko\"\"\"\"\"\"\" \"\"\"sau\"\"\"',\n",
              " 'co\"\"\"\"\"\"\"\"\"\"\"\"\"\"\"\"\"\" \"\"\"\"\"\"\"\"\"\"\"\"\"\"\"\"o\"\"\"\"\"\"\"\"\"\"\"\"at\"ne',\n",
              " 'gi\"\"\"a\"\"\"y\"\"\"\"\"\"\"\"\"\"\" \"\"\"\"\"\"\"\"\"\"\"\"\"\"\"ke\"\"\"\"\"\"a\"\"\"\"saz\"\"\"',\n",
              " 'b\"a\"t\"\"n\"\"\"\"\"\"\"\"\"\"\"\"\"\"\"\"\"\"\"\"\"\" \"\"\"\"l\"\"\"\"\"\"\"\"\"dar\"\"\"',\n",
              " '\"\"\"\"\"\"\"\"\"\"\"\"\"\"\"\"\"\"\"\"\"\"\"\"\"\"\"\"\"\"\"\"\"\"\"\"\"\"\"\"\"\"\"\"\"\"\"\"\"\"\"\"\"\"\"\"\"\"\"\"\"\"\"\"\"\"\"\"\"\"\"\"\"e\" \"\"\" \"\"\"\"a\"\"\"ti\"\"\"\"\"\"\"\"\"\"\"\"\"è\"ee\"\"\"\"\"eee\"\"\"\"\"\"e\"\"\"e\"\"\"e\"\"e\"\"e\"\"a\"\"\"e',\n",
              " 'ea\"\"i\"\"e\"\"\"\"\"\"\"\"\"\"\"\"\"\"\"\"\"\"\"\"\"\"\"\"\"\"\"\"\"\"\"\"\"\"\"\"\"\"\"\"\"\"\"o\"r\"\"\"\"e\"\"-\"sozqee',\n",
              " 'r\"u\"t\"\"\"\"\" \"\"\"\"\"\"\"\"\"\"\"\"\"\"\"\"\"\"\"\"\"\"\"\"\"\"\"\"\"\"\"\"\"our\"\"\"\"\" \"\"\"bok\"\"\"',\n",
              " 't\"u\"\"\"\"\"\"\"\"\"\"\"\"\"\"\"\"\"\"\"\"\"\"\"\"\"\"\"\"\" \"\"\"\"\"\"\"\"\"\"\"\"\"\"\"\"e\"\"\"\"\"\"\"\"r\"\"sasq\"e',\n",
              " '\"a\"\"m\"\"i\"\"\"\"u\"\"\"\"\"\" \"\"\"\"\"y\"\"\"\"\"\"\"\"\"\"\"\"\"\"\"\"\"\"\"\"\"\"\"\"\" \"\"e\"r\"y\"\"\"\"\"\"\"\"a\"\"de',\n",
              " 'co\"\"\"\"\"\"\"\"\"\"\"\"\"\"\"\"\"\" \"\"\"\"\"\"\"\"\"\"\"\"\"\"\"\"o\"\"\"\"\"\"\"\"\"\"\"\"at\"ne',\n",
              " '\"\"\"\"\"\"\"\"\"\"e\"m\"\"b\"\"\"\"\"\"\"\"\"\"\"\"\"\"\"\"\"\"\"\"\"\"\"\"\"\"\"\"\"\"\"\"\"\"\"\"\"\"\"\"\"\"\"\"\"\"\"i\"\"\"\"e\"\"\"\"\"zak\"\" ',\n",
              " 'di\"\"\"\"\"\"\"\"\"\"\"\"\"\"\"\"\"\"\"\"\"\"\"\"\"\"\"\"e\"\"\"\"\"\"\"\"\"\"\"din\"\"r',\n",
              " 'm\"\"d\"\"\"\"r\"\"\"\"\"\"\"\"\"\"\"\"\"\"\"\"\"\"\"\"\"\"\"\"\"\"\"\"\"\"\"\"\"\"\"\"\"\"\"\"\"\"\"r\"\"\"\"\"\"\"\"\"fisq\"e',\n",
              " 'si\"\"mp\"n \"\"\"\"\"\"\"\"\"\"\"\"\"\"\"b\"\"c\"\"\"\"\"\"\"e\"ka\"\"\"t',\n",
              " 's\"\"\"tio\"\"\"\"\"\"\"\"\"\"\"\"\"\"\"\"\"\"\" \"\"ou\"\"\"\"\"\"\"\"\"\"\"ik\"ae',\n",
              " '\"\"a\"m\"\"\"\"\"\"\"\"\"\"\"\"\"\"\"\"\"\"\"\"\"\"\"\"\"\"\"\"\"\"\"\"\"\"\"\"\"\"\"\"\"\"\"\"\"\"zin\"\"e',\n",
              " 'b\"a\"t\"\"n\"\"\"\"\"\"\"\"\"\"\"\"\"\"\"\"\"\"\"\"\"\" \"\"\"\"l\"\"\"\"\"\"\"\"\"dar\"\"\"',\n",
              " 'p\"\"\"m\"\"\"\"\" \"\"\"\"\"\"\"\"\"\"\"\"e \"\"p\"r\"\" \"\" \"\"\"\"a\"\"\"e',\n",
              " 'pia\"k\"\"\"\"\"\"\"i\"\"\"n\"\"\"o\"c\"\"\"\"\"\"\"u\"bat\"\"e',\n",
              " 'co\"\"\"\"\"\"\"\"\"\"\"\"\"\"\"\"\"\" \"\"\"\"\"\"\"\"\"\"\"\"\"\"\"\"o\"\"\"\"\"\"\"\"\"\"\"\"at\"ne',\n",
              " 'r\"s\"ta\"\"d\"\"\"\"\"\"\"\"\"\"\"\"\"\"\"\"\"\"\"\"\"\"\"\"\"\"\"\"\"\"\"\"\"\"\"\"\"\"\"\"\"\"\" \"\"\"\"\"\"\"\"\"\"\"\"\"\"dis\"e\"',\n",
              " 'p\"\"\"m\"\"\"\"\" \"\"\"\"\"\"\"\"\"\"\"\"e \"\"p\"r\"\" \"\" \"\"\"\"a\"\"\"e',\n",
              " 'b\"a\"t\"\"n\"\"\"\"\"\"\"\"\"\"\"\"\"\"\"\"\"\"\"\"\"\" \"\"\"\"l\"\"\"\"\"\"\"\"\"dar\"\"\"',\n",
              " 'pia\"k\"\"\"\"\"\"\"i\"\"\"n\"\"\"o\"c\"\"\"\"\"\"\"u\"bat\"\"e',\n",
              " 'co\"\"\"\"\"\"\"\"\"\"\"\"\"\"\"\"\"\" \"\"\"\"\"\"\"\"\"\"\"\"\"\"\"\"o\"\"\"\"\"\"\"\"\"\"\"\"at\"ne',\n",
              " 't\"u\"\"\"\"\"\"\"\"\"\"\"\"\"\"\"\"\"\"\"\"\"\"\"\"\"\"\"\"\" \"\"\"\"\"\"\"\"\"\"\"\"\"\"\"\"e\"\"\"\"\"\"\"\"r\"\"sasq\"e',\n",
              " 't\"u\"\"\"\"\"\"\"\"\"\"\"\"\"\"\"\"\"\"\"\"\"\"\"\"\"\"\"\"\" \"\"\"\"\"\"\"\"\"\"\"\"\"\"\"\"e\"\"\"\"\"\"\"\"r\"\"sasq\"e',\n",
              " 'di\"\"\"\"\"\"\"\"\"\"\"\"\"\"\"\"\"\"\"\"\"\"\"\"\"\"\"\"e\"\"\"\"\"\"\"\"\"\"\"din\"\"r',\n",
              " '\"\"\"\"\"\"\"\"\"\"\"\"\"\"\"\"\"\"\"\"\"\"\"\"\"\"\"\"\"\"\"\"\"\"\"\"\"\"\"\"\"\"\"\"\"\"\"e\"\"\"\"i\"\"\"\"\"\"\"\"\"\"\"\"\"\"\"\"\"t\"\"\"\"\"a\"\" \"n\"\"\"\"\"\"\"\"è\"\"\"\"n\"\"\"\"\"l\"e\"ee\"ee\"\"al\"ee',\n",
              " 'di\"\"\"\"\"\"\"\"\"\"\"\"\"\"\"\"\"\"\"\"\"\"\"\"\"\"\"\"e\"\"\"\"\"\"\"\"\"\"\"din\"\"r',\n",
              " 're\"r\"\"\"n\"\" \"h\"\"\"\"\"\"\"\"\"\"\"\"x\"\"\"\"\"\"\"\"\"\"\"\"\"\"\"\"\"\"\"o\"l\"\"\"\"\"\"\"\"\"sak\"\"f',\n",
              " '\"h\"\"mi\"\"\"\"\"\"e\"\"fi\"\"\"\" m\"\"xc\"\"\"\"w \"\"\"dir\"\"e',\n",
              " 'r\"s\"ta\"\"d\"\"\"\"\"\"\"\"\"\"\"\"\"\"\"\"\"\"\"\"\"\"\"\"\"\"\"\"\"\"\"\"\"\"\"\"\"\"\"\"\"\"\" \"\"\"\"\"\"\"\"\"\"\"\"\"\"dis\"e\"',\n",
              " 's\"s\"\"\"\"\"\"\"\"\"\"\"\"\"n\"\"\"i\"\"e\"\"\"\"\"\"\"\"\"\"\"\"\"\"\"\"\"\"\"\"\"\"\"\"\"\"\"\"\"\"\"\"\"\"\"\"\"\"\"\"\"\"\"ee\"te \"\" d\"  an\"aa',\n",
              " '\"\"\"\"\"\"\"\"\"\"e\"m\"\"b\"\"\"\"\"\"\"\"\"\"\"\"\"\"\"\"\"\"\"\"\"\"\"\"\"\"\"\"\"\"\"\"\"\"\"\"\"\"\"\"\"\"\"\"\"\"\"i\"\"\"\"e\"\"\"\"\"zak\"\" ',\n",
              " 'c\"\"r\"\"\"\"\"\"\"\"e\"\"\"\"\"\"\"\"\"\"\"\"\"\"\"\"\"ko\"\"\"\"\"\"\" \"\"\"sau\"\"\"',\n",
              " 'co\"\"\"\"\"\"\"\"\"\"\"\"\"\"\"\"\"\" \"\"\"\"\"\"\"\"\"\"\"\"\"\"\"\"o\"\"\"\"\"\"\"\"\"\"\"\"at\"ne',\n",
              " 'si\"\"m\"\"\"\"\"\"\"\"\"\"\"\"\"\"seem\"\"i\"\"\"\"\"\"\"\"\"\"\"\"\"\"\"\"\"\"\"\"\"\"\"\"\"\"\"\"\"\"\"\"\"\"\"\"\"\"\"\"\"ee tc\"\"\"\"a\"   n\"\"aat\"tt',\n",
              " 'si\"\"m\"\"\"\"\"\"\"\"\"\"\"se\"t\"\"i\"\"\"\"\"\"\"\"\"\"\"\"\"\"\"\"\"\"\"\"\"\"\"\"\"\"\"\"\" \"\"\"\"\"\"\"\"\"\"\"\"\"\"\"\"\"\"c\"\"\"\"a\"\" \"pa\"aam',\n",
              " '\"\"\"r\"n\"\"\"i\"\"e\"r\"\"\"\"\"\" \"\"\"\"\"\"\"\"\"\"\"\"\"\"\"\"\" \"\"\"\"\"\"\"\"\"\"\"\"\"\"\"\"a\"r\"\"\"\"\"\"\"u\"\"ét\"\"\"',\n",
              " 'si\"\"m\"\"\"\"\"\"\"\"\"\"\"\"\"\"seem\"\"i\"\"\"\"\"\"\"\"\"\"\"\"\"\"\"\"\"\"\"\"\"\"\"\"\"\"\"\"\"\"\"\"\"\"\"\"\"\"\"\"\"ee tc\"\"\"\"a\"   n\"\"aat\"tt',\n",
              " '\"\"\"\"\"e\"\"\"\"b\"\"\"\"\"\"\"\"\"\"\"\"\"\"\"\"v\"\"\"\"\"\"\"\"\"\"\"\"\"\"\"\"\"\"\"\"\"\"\"\"r\"\"\"bo\"\"\"\"\"m\"\"\"e\"siu\"d\"',\n",
              " '\"h\"\"mi\"\"\"\"\"\"e\"\"fi\"\"\"\" m\"\"xc\"\"\"\"w \"\"\"dir\"\"e',\n",
              " '\"a\"\"m\"\"i\"\"\"\"u\"\"\"\"\"\" \"\"\"\"\"y\"\"\"\"\"\"\"\"\"\"\"\"\"\"\"\"\"\"\"\"\"\"\"\"\" \"\"e\"r\"y\"\"\"\"\"\"\"\"a\"\"de',\n",
              " 'bo\"\"\"io\"\"\"\"c\"\"l\"\"\"\"\"\"\"\"e\"\"\"\"\"\"\"\"\"\"\"\"\"\"\" \"\"o\"\"\"\"\"\"e \"\"\"\"ak\"n\"',\n",
              " '\"h\"\"mi\"\"\"\"\"\"e\"\"fi\"\"\"\" m\"\"xc\"\"\"\"w \"\"\"dir\"\"e',\n",
              " '\"\"\"\"\"e\"\"\"\"b\"\"\"\"\"\"\"\"\"\"\"\"\"\"\"\"v\"\"\"\"\"\"\"\"\"\"\"\"\"\"\"\"\"\"\"\"\"\"\"\"r\"\"\"bo\"\"\"\"\"m\"\"\"e\"siu\"d\"',\n",
              " '\"a\"\"\"i\"\"\"\" c\"\"\"\"\"\"\"\"\"\"\"\"\"\"\"\"\"\"\" \"\"o\"\"\"\" \"\"\"\"\"\"bo\"\"\"r',\n",
              " 'ea\"\"i\"\"e\"\"\"\"\"\"\"\"\"\"\"\"\"\"\"\"\"\"\"\"\"\"\"\"\"\"\"\"\"\"\"\"\"\"\"\"\"\"\"\"\"\"\"o\"r\"\"\"\"e\"\"-\"sozqee',\n",
              " 's\"\"\"\"\"\"\"\"\"\"\"\"\"\"\"go\"n\"\"\"\"\"\"\"\"\"yow\"\"t',\n",
              " '\"\"\"r\"cen \"\"b\"\"\"\"\"o\"\"\"\"\"\"\"\"\"\"\"\"\"w\"\"\"\"\"\"\"\"\"\"\"\"\"\"\"\"\"\"\"\"\"\"\"\"\"\"e\"\"\"\"\"m\"\"ee tss\"\"l',\n",
              " '\"\"\"\"\"\"\"\"\"\"\"\"\"\"\"ss\"\"\"\"\"\"\"\"\"\"\"\"e\"\"\"\"i\"\"\"\"\"\"\"\"\"\"\"\"\"\"\"\"\"\"\"\"\"\"\"\"\"\"\"\"\"\"\"\"\"e\"\"\"\"\"\"\"a\"  cp\"\"aa\"\"tio\"\"\"on\"n\"',\n",
              " 'di\"\"\"\"\"\"\"\"\"\"\"\"\"\"\"\"\"\"\"\"\"\"\"\"\"\"\"\"e\"\"\"\"\"\"\"\"\"\"\"din\"\"r',\n",
              " 'di\"r\"\"\"\"\"\"\"\"u\"\"\"\"\"\"\"\"\"\"\"\"\"\"\"\"\"\"\"\"\"\"\"\"\"\"\"\"\"\"\"\"\"\"\"o\"\"\"\"\"\"\"\"\"\"\"baf\"\"\"',\n",
              " 'co\"\"\"\"\"\"\"\"\"\"\"\"\"\"\"\"\"\" \"\"\"\"\"\"\"\"\"\"\"\"\"\"\"\"o\"\"\"\"\"\"\"\"\"\"\"\"at\"ne',\n",
              " '\"\"\"r\"n\"\"\"i\"\"e\"r\"\"\"\"\"\" \"\"\"\"\"\"\"\"\"\"\"\"\"\"\"\"\" \"\"\"\"\"\"\"\"\"\"\"\"\"\"\"\"a\"r\"\"\"\"\"\"\"u\"\"ét\"\"\"',\n",
              " '\"a\"\"\"i\"\"\"\" c\"\"\"\"\"\"\"\"\"\"\"\"\"\"\"\"\"\"\" \"\"o\"\"\"\" \"\"\"\"\"\"bo\"\"\"r',\n",
              " 's\"s\"\"\"\"\"\"\"\"\"\"\"\"\"ee\"\"\"d\"\"\"\"\"\"\"\"\"\"\"\"\"\"\"\"\"\"\"\"\"\"\"\"\"\"\"\"\" \"\"\"\"\"\"\"\"\"\"\"\"\"\"\"\"e\"t\"\"\"\"\"\"\"  ca\"\"aa',\n",
              " 'si\"\"mp\"n \"\"\"\"\"\"\"\"\"\"\"\"\"\"\"b\"\"c\"\"\"\"\"\"\"e\"ka\"\"\"t',\n",
              " 'ba\"\"\"\"\"\"\"\"\"\"\"\"\"\"\"\"\"e\"\"\"e \"\"\"d\"\"ja\"\"ne',\n",
              " 'co\"\"\"\"\"\"\"\"\"\"\"\"\"\"\"\"\"\" \"\"\"\"\"\"\"\"\"\"\"\"\"\"\"\"o\"\"\"\"\"\"\"\"\"\"\"\"at\"ne',\n",
              " 'b\"a\"t\"\"n\"\"\"\"\"\"\"\"\"\"\"\"\"\"\"\"\"\"\"\"\"\" \"\"\"\"l\"\"\"\"\"\"\"\"\"dar\"\"\"',\n",
              " '\"\"\"\"\"\"\"\"\"\"\"\"\"\"\"\"\"\"\"\"\"\"\"\"\"\"\"\"ee\"\"\"b\"\"\"\"\"\"\"\"\"\"\"\"\"\"\"\"\"\"\"\"\"\"\"\"\"\"\"\"\"\"\"\"\"ee\"t\"\"\"\"\"a\"\" \"\"\"\"a\"m\"\"\"é\"banèn\"',\n",
              " 'b\"a\"\"\"\"n \"\"\"\"\"\"\"\"\"\"\"\"\"\"\"\"\"\"\"\"\"\"\"\"\"\"\"\"\"\"\"\"\"\"\"\"\"\"\"\"\"\" r\"\"\"ak\"\"e',\n",
              " 'di\"\"\"\"\"\"\"\"\"\"\"\"\"\"\"\"\"\"\"\"\"\"\"\"\"\"\"\"e\"\"\"\"\"\"\"\"\"\"\"din\"\"r',\n",
              " 'si\"\"mi\"\"s\"\"\"\"\"\"\"\"\"\"\"\"ee\"\"\"i\"\"\"\"\"\"\"\"\"\"\"\"\"\"\"\"\"\"\"\"\"\"\"\"\"\"\"\"\"\"\"\"\"\"\"\"\"\"\"\"\"e\"\"\"\"\"\"la\"  \"n\"\"\"aatt\"è',\n",
              " 'cea\" p\"\"\"\" ch\"é\"\"e\"\"\"o\"\"\"y\"\"a\"\"\" bik\"\"e',\n",
              " 'ea\"\"i\"\"e\"\"\"\"\"\"\"\"\"\"\"\"\"\"\"\"\"\"\"\"\"\"\"\"\"\"\"\"\"\"\"\"\"\"\"\"\"\"\"\"\"\"\"o\"r\"\"\"\"e\"\"-\"sozqee',\n",
              " '\"\"\"\"\"\"\"\"\"\"\"\"\"\"\"\"\"\"\"\"\"\"\"\"\"\"\"e\"\"\"\"b\"\"\"\"\"\"\"\"\"\"\"\"\"\"\"\"\"\"\"\"\"\"\"\"\"\"\"\"\"\"\"\"\"\"ee\"t\"\"\"\"\"\"\"\" \"n\"\"\"aa\"ri\"\"a\"èn\"',\n",
              " 'ea\"\"i\"\"e\"\"\"\"\"\"\"\"\"\"\"\"\"\"\"\"\"\"\"\"\"\"\"\"\"\"\"\"\"\"\"\"\"\"\"\"\"\"\"\"\"\"\"o\"r\"\"\"\"e\"\"-\"sozqee',\n",
              " 'b\"a\"t\"\"n\"\"\"\"\"\"\"\"\"\"\"\"\"\"\"\"\"\"\"\"\"\" \"\"\"\"l\"\"\"\"\"\"\"\"\"dar\"\"\"',\n",
              " 'b\"a\"\"\"\"n \"\"\"\"\"\"\"\"\"\"\"\"\"\"\"\"\"\"\"\"\"\"\"\"\"\"\"\"\"\"\"\"\"\"\"\"\"\"\"\"\"\" r\"\"\"ak\"\"e',\n",
              " 'de\"\"\"i\"\"\"\"\"\"\"\"\"\"\"\"\"\"\"\"\"\" \"\"\"\"\"\"\"\"\"\"\"\"\"\"\"\"o\"\"\"\"\"\"\"\"\"\"\"ba\"\"\"e',\n",
              " '\"\"\"r\"n\"\"\"i\"\"e\"r\"\"\"\"\"\" \"\"\"\"\"\"\"\"\"\"\"\"\"\"\"\"\" \"\"\"\"\"\"\"\"\"\"\"\"\"\"\"\"a\"r\"\"\"\"\"\"\"u\"\"ét\"\"\"',\n",
              " '\"a\"\"\"i\"\"\"\" c\"\"\"\"\"\"\"\"\"\"\"\"\"\"\"\"\"\"\" \"\"o\"\"\"\" \"\"\"\"\"\"bo\"\"\"r',\n",
              " 's\"\"r\"\"\"\"\"\"\"\"\"\"foi\"\"\" \"e \"\"\"dan\"\"\"',\n",
              " '\"h\"\"mi\"\"\"\"\"\"e\"\"fi\"\"\"\" m\"\"xc\"\"\"\"w \"\"\"dir\"\"e',\n",
              " 'si\"\"mp\"n \"\"\"\"\"\"\"\"\"\"\"\"\"\"\"b\"\"c\"\"\"\"\"\"\"e\"ka\"\"\"t',\n",
              " 'c\"\"r\"\"\"\"\"\"\"\"e\"\"\"\"\"\"\"\"\"\"\"\"\"\"\"\"\"ko\"\"\"\"\"\"\" \"\"\"sau\"\"\"',\n",
              " 'g\"a\"\"i\"\"\"\"\"\"\"\"\"\"\"e\" \"\"\"\"\"\"\"\"\"\"\"\"\"\"\"\"o\"r\"\"\"\"\" d\"\"yas\"\"e',\n",
              " 'pa\"rki\"\"\"\"\"\"\"\"\"\"\"\"\"\"\"\"\"\"\"\"\"\"\"\"\"\"\"\"\"\"\"\"\"\"\"\"\"\"sar\"\"e',\n",
              " 'cen\"t\"\"\"\"\" \"o\"\"\"\"o\"\"\"\"\"\"\"l\"\"\"\"\"\"\"\"\"\"\"\"\"\"\"\"\"\"w\"\"\"\"\" \"\"p\"\"\"\"\"\"\"\"\"\"mzat\"\"t',\n",
              " 'g\"a\"\"i\"\"\"\"\"\"\"\"\"\"\"e\" \"\"\"\"\"\"\"\"\"\"\"\"\"\"\"\"o\"r\"\"\"\"\" d\"\"yas\"\"e',\n",
              " '\"\"\"\"\"\"\"\"\"\"\"\"\"\"\"\"\"\"\"\"\"\"\"\"\"\"\"e\"\"\"\"b\"\"\"\"\"\"\"\"\"\"\"\"\"\"\"\"\"\"\"\"\"\"\"\"\"\"\"\"\"\"\"\"\"\"ee\"t\"\"\"\"\"\"\"\" \"n\"\"\"aa\"ri\"\"a\"èn\"',\n",
              " '\"a\"\"\"i\"\"\"\" c\"\"\"\"\"\"\"\"\"\"\"\"\"\"\"\"\"\"\" \"\"o\"\"\"\" \"\"\"\"\"\"bo\"\"\"r',\n",
              " 're\"r\"\"\"n\"\" \"h\"\"\"\"\"\"\"\"\"\"\"\"x\"\"\"\"\"\"\"\"\"\"\"\"\"\"\"\"\"\"\"o\"l\"\"\"\"\"\"\"\"\"sak\"\"f',\n",
              " 'b\"\"r\"\"o\"\"\"\"\"\"\"\"\"\"\"\"\"\"\"\"\"\"\"\"\"\"\"\"\"\"\"\"\"\"\"\"\"\"\"\"\"\"\"\"o\"\"\"\"\"\"\"\"bu\"kss\"\"m',\n",
              " '\"\"a\"m\"\"\"\"\"\"\"\"\"\"\"\"\"\"\"\"\"\"\"\"\"\"\"\"\"\"\"\"\"\"\"\"\"\"\"\"\"\"\"\"\"\"\"\"\"\"zin\"\"e',\n",
              " 'de\"\"\"i\"\"\"\"\"\"\"\"\"\"\"\"\"\"\"\"\"\" \"\"\"\"\"\"\"\"\"\"\"\"\"\"\"\"o\"\"\"\"\"\"\"\"\"\"\"ba\"\"\"e',\n",
              " '\"o\"\"\"\"\"\"ee \"\"b\"\"\"\"\"\"\"\"\"\"\"\"\"\"\"\"\"\"\"\"\"\"\"\"\"\"\"\"\"\"\"\"\"\"\"\"\"\"\"\"\"\"\"\"\"ke\"\"\"\"\"\"e\"\"\"\"sa\"\"a\"',\n",
              " 'g\"a\"\"i\"\"\"\"\"\"\"\"\"\"\"e\" \"\"\"\"\"\"\"\"\"\"\"\"\"\"\"\"o\"r\"\"\"\"\" d\"\"yas\"\"e',\n",
              " 't\"\"\"\"\"on\"\"\"\"\"\"\"\"\"\"\"\"\"\"\"\"\"\"\"\"\"\"\"\"\"\"\"\"\"\"\"ok\"\"e',\n",
              " '\"\"a\"m\"\"\"\"\"\"\"\"\"\"\"\"\"\"\"\"\"\"\"\"\"\"\"\"\"\"\"\"\"\"\"\"\"\"\"\"\"\"\"\"\"\"\"\"\"\"zin\"\"e',\n",
              " 't\"u\"\"\"\"\"\"\"\"\"\"\"\"\"\"\"\"\"\"\"\"\"\"\"\"\"\"\"\"\" \"\"\"\"\"\"\"\"\"\"\"\"\"\"\"\"e\"\"\"\"\"\"\"\"r\"\"sasq\"e',\n",
              " 'si\"\"mp\"n \"\"\"\"\"\"\"\"\"\"\"\"\"\"\"b\"\"c\"\"\"\"\"\"\"e\"ka\"\"\"t',\n",
              " 's\"\"\"\"\"o\"\"\"\"\"u\"\"\"mb\"\"\"\"\"\"\"\" \"\"\"kan\"ne',\n",
              " '\"h\"\"mi\"\"\"\"\"\"e\"\"fi\"\"\"\" m\"\"xc\"\"\"\"w \"\"\"dir\"\"e',\n",
              " 'di\"\"\"\"\"\"\"\"\"\"\"\"\"\"\"\"\"\"\"\"\"\"\"\"\"\"\"\"e\"\"\"\"\"\"\"\"\"\"\"din\"\"r',\n",
              " '\"\"\"r\"cen \"\"b\"\"\"\"\"o\"\"\"\"\"\"\"\"\"\"\"\"\"w\"\"\"\"\"\"\"\"\"\"\"\"\"\"\"\"\"\"\"\"\"\"\"\"\"\"e\"\"\"\"\"m\"\"ee tss\"\"l',\n",
              " '\"\"\"\"\"\"\"\"\"\"\"\"\"\"\"\"\"\"\"\"\"\"\"\"\"\"\"e\"\"\"\"b\"\"\"\"\"\"\"\"\"\"\"\"\"\"\"\"\"\"\"\"\"\"\"\"\"\"\"\"\"\"\"\"\"\"ee\"t\"\"\"\"\"\"\"\" \"n\"\"\"aa\"ri\"\"a\"èn\"',\n",
              " 'caa\"k\"\"l\"\"\"\"h\"\"\"i\"\"\"\"\"\"\"\"\"\"\"\"\"\"\" \"\"e\"c\"\"\"\"\" \"u\"sa\"\"\"r',\n",
              " 'm\"a\"\"\"\"\"\" \"ch\"l\"i\"\"e o\"\"ba\"\"ae',\n",
              " '\"\"\"\"\"\"\"\"\"\"seet\"\"i\"\"\"\"\"\"\"\"x\"\"\"\"\"\"\"\"\"\"\"\"\"\"\"\"\"\"\"\"\"\"\"\"\"\"\"\"\"\"\"\"r\"\"\"\"i\"\"\"e\"\"t\"\"\"\"da\"\"u\"',\n",
              " '\"\"\"r\"n\"\"\"i\"\"e\"r\"\"\"\"\"\" \"\"\"\"\"\"\"\"\"\"\"\"\"\"\"\"\" \"\"\"\"\"\"\"\"\"\"\"\"\"\"\"\"a\"r\"\"\"\"\"\"\"u\"\"ét\"\"\"',\n",
              " 'cen\"t\"\"\"\"\" \"o\"\"\"\"o\"\"\"\"\"\"\"l\"\"\"\"\"\"\"\"\"\"\"\"\"\"\"\"\"\"w\"\"\"\"\" \"\"p\"\"\"\"\"\"\"\"\"\"mzat\"\"t',\n",
              " 're\"r\"\"\"n\"\" \"h\"\"\"\"\"\"\"\"\"\"\"\"x\"\"\"\"\"\"\"\"\"\"\"\"\"\"\"\"\"\"\"o\"l\"\"\"\"\"\"\"\"\"sak\"\"f',\n",
              " 'si\"\"mi\"\"s\"\"\"\"\"\"\"\"\"\"\"\"ee\"\"\"i\"\"\"\"\"\"\"\"\"\"\"\"\"\"\"\"\"\"\"\"\"\"\"\"\"\"\"\"\"\"\"\"\"\"\"\"\"\"\"\"\"e\"\"\"\"\"\"la\"  \"n\"\"\"aatt\"è',\n",
              " '\"a\"\"\"i\"\"\"\" c\"\"\"\"\"\"\"\"\"\"\"\"\"\"\"\"\"\"\" \"\"o\"\"\"\" \"\"\"\"\"\"bo\"\"\"r',\n",
              " 'b\"a\"\"\"\"n \"\"\"\"\"\"\"\"\"\"\"\"\"\"\"\"\"\"\"\"\"\"\"\"\"\"\"\"\"\"\"\"\"\"\"\"\"\"\"\"\"\" r\"\"\"ak\"\"e',\n",
              " 'pa\"rki\"\"\"\"\"\"\"\"\"\"\"\"\"\"\"\"\"\"\"\"\"\"\"\"\"\"\"\"\"\"\"\"\"\"\"\"\"\"sar\"\"e',\n",
              " '\"a\"\"m\"\"i\"\"\"\"u\"\"\"\"\"\" \"\"\"\"\"y\"\"\"\"\"\"\"\"\"\"\"\"\"\"\"\"\"\"\"\"\"\"\"\"\" \"\"e\"r\"y\"\"\"\"\"\"\"\"a\"\"de',\n",
              " 's\"\"r\"\"\"\"\"\"\"\"\"\"foi\"\"\" \"e \"\"\"dan\"\"\"',\n",
              " '\"e\"\"mionr\" cut\"\"\"\"\"\"e \"e yat\"nr',\n",
              " '\"\"\"\"\"\"\"\"\"\"\"\"\"\"\"\"\"\"\"\"\"\"\"\"\"\"\"\"\"\"\"\"\"\"ee\"\"\"b\"\"\"\"\"\"\"\"\"\"\"\"\"\"\"\"\"\"\"\"\"\"\"\"\"\"\"e\" t\"\"\"\"\"a\"\" \"\"\"\"\"aa\"tié\"\"\"nn\"\"\"al\"\"e',\n",
              " 'b\"a\"\"\"\"n \"\"\"\"\"\"\"\"\"\"\"\"\"\"\"\"\"\"\"\"\"\"\"\"\"\"\"\"\"\"\"\"\"\"\"\"\"\"\"\"\"\" r\"\"\"ak\"\"e',\n",
              " 't\"\"\"\"\"on\"\"\"\"\"\"\"\"\"\"\"\"\"\"\"\"\"\"\"\"\"\"\"\"\"\"\"\"\"\"\"ok\"\"e',\n",
              " 'm\"a\"\"\"\"\"\" \"ch\"l\"i\"\"e o\"\"ba\"\"ae',\n",
              " '\"\"\"\"\"\"\"\"\"\"seet\"\"i\"\"\"\"\"\"\"\"x\"\"\"\"\"\"\"\"\"\"\"\"\"\"\"\"\"\"\"\"\"\"\"\"\"\"\"\"\"\"\"\"r\"\"\"\"i\"\"\"e\"\"t\"\"\"\"da\"\"u\"',\n",
              " 'm\"\"d\"\"\"\"r\"\"\"\"\"\"\"\"\"\"\"\"\"\"\"\"\"\"\"\"\"\"\"\"\"\"\"\"\"\"\"\"\"\"\"\"\"\"\"\"\"\"\"r\"\"\"\"\"\"\"\"\"fisq\"e',\n",
              " 'b\"\"\"\"\"\"\"\"\"\"\"\"\"\"\"\"\"\" \"\"e\"\"\"\"\"\"e \"\"\"fa\"\"\"\"',\n",
              " '\"o\"\"\"\"\"\"ee \"\"b\"\"\"\"\"\"\"\"\"\"\"\"\"\"\"\"\"\"\"\"\"\"\"\"\"\"\"\"\"\"\"\"\"\"\"\"\"\"\"\"\"\"\"\"\"ke\"\"\"\"\"\"e\"\"\"\"sa\"\"a\"',\n",
              " 'p\"\"\"m\"\"\"\"\" \"\"\"\"\"\"\"\"\"\"\"\"e \"\"p\"r\"\" \"\" \"\"\"\"a\"\"\"e',\n",
              " 'm\"\"d\"\"\"\"r\"\"\"\"\"\"\"\"\"\"\"\"\"\"\"\"\"\"\"\"\"\"\"\"\"\"\"\"\"\"\"\"\"\"\"\"\"\"\"\"\"\"\"r\"\"\"\"\"\"\"\"\"fisq\"e',\n",
              " '\"\"\"\"\"\"\"\"\"\"e\"m\"\"b\"\"\"\"\"\"\"\"\"\"\"\"\"\"\"\"\"\"\"\"\"\"\"\"\"\"\"\"\"\"\"\"\"\"\"\"\"\"\"\"\"\"\"\"\"\"\"i\"\"\"\"e\"\"\"\"\"zak\"\" ',\n",
              " 'ba\"\"\"\"\"\"\"\"\"\"\"\"\"\"\"\"\"e\"\"\"e \"\"\"d\"\"ja\"\"ne',\n",
              " 'co\"\"\"\"\"\"\"\"\"\"\"\"\"\"\"\"\"\" \"\"\"\"\"\"\"\"\"\"\"\"\"\"\"\"o\"\"\"\"\"\"\"\"\"\"\"\"at\"ne',\n",
              " 'r\"s\"ta\"\"d\"\"\"\"\"\"\"\"\"\"\"\"\"\"\"\"\"\"\"\"\"\"\"\"\"\"\"\"\"\"\"\"\"\"\"\"\"\"\"\"\"\"\" \"\"\"\"\"\"\"\"\"\"\"\"\"\"dis\"e\"',\n",
              " 'di\"r\"\"\"\"\"\"\"\"u\"\"\"\"\"\"\"\"\"\"\"\"\"\"\"\"\"\"\"\"\"\"\"\"\"\"\"\"\"\"\"\"\"\"\"o\"\"\"\"\"\"\"\"\"\"\"baf\"\"\"',\n",
              " '\"o\"\"\"\"\"\"ee \"\"b\"\"\"\"\"\"\"\"\"\"\"\"\"\"\"\"\"\"\"\"\"\"\"\"\"\"\"\"\"\"\"\"\"\"\"\"\"\"\"\"\"\"\"\"\"ke\"\"\"\"\"\"e\"\"\"\"sa\"\"a\"',\n",
              " ...]"
            ]
          },
          "metadata": {
            "tags": []
          },
          "execution_count": 66
        }
      ]
    },
    {
      "cell_type": "code",
      "metadata": {
        "id": "f1RFH3vRhmwR",
        "colab": {
          "base_uri": "https://localhost:8080/"
        },
        "outputId": "a94a16b4-7e42-4df7-a4df-82910fd3e80c"
      },
      "source": [
        "len(testa)"
      ],
      "execution_count": null,
      "outputs": [
        {
          "output_type": "execute_result",
          "data": {
            "text/plain": [
              "1564"
            ]
          },
          "metadata": {
            "tags": []
          },
          "execution_count": 67
        }
      ]
    },
    {
      "cell_type": "code",
      "metadata": {
        "id": "dPl6RzLUiImw"
      },
      "source": [
        "sub = pd.read_csv('/content/SampleSubmission.csv')"
      ],
      "execution_count": null,
      "outputs": []
    },
    {
      "cell_type": "code",
      "metadata": {
        "id": "sGvP47wkiKwg",
        "colab": {
          "base_uri": "https://localhost:8080/",
          "height": 204
        },
        "outputId": "537193b2-595d-4594-ee50-9e8d29dd4a9e"
      },
      "source": [
        "sub.head()"
      ],
      "execution_count": null,
      "outputs": [
        {
          "output_type": "execute_result",
          "data": {
            "text/html": [
              "<div>\n",
              "<style scoped>\n",
              "    .dataframe tbody tr th:only-of-type {\n",
              "        vertical-align: middle;\n",
              "    }\n",
              "\n",
              "    .dataframe tbody tr th {\n",
              "        vertical-align: top;\n",
              "    }\n",
              "\n",
              "    .dataframe thead th {\n",
              "        text-align: right;\n",
              "    }\n",
              "</style>\n",
              "<table border=\"1\" class=\"dataframe\">\n",
              "  <thead>\n",
              "    <tr style=\"text-align: right;\">\n",
              "      <th></th>\n",
              "      <th>ID</th>\n",
              "      <th>transcription</th>\n",
              "    </tr>\n",
              "  </thead>\n",
              "  <tbody>\n",
              "    <tr>\n",
              "      <th>0</th>\n",
              "      <td>00416cff4f818d3dfd99c9178ff0e268e7575500c8baa5...</td>\n",
              "      <td>0</td>\n",
              "    </tr>\n",
              "    <tr>\n",
              "      <th>1</th>\n",
              "      <td>00891ba561e80e135f9d12b9fa1347f0a2560998f7ea16...</td>\n",
              "      <td>0</td>\n",
              "    </tr>\n",
              "    <tr>\n",
              "      <th>2</th>\n",
              "      <td>00a508027ed4edf0bd3db79f45f4ed6e1b89fba6482c10...</td>\n",
              "      <td>0</td>\n",
              "    </tr>\n",
              "    <tr>\n",
              "      <th>3</th>\n",
              "      <td>00ac13cd0d93e35c1ff672cc106ad94d1ea9b93fcf049a...</td>\n",
              "      <td>0</td>\n",
              "    </tr>\n",
              "    <tr>\n",
              "      <th>4</th>\n",
              "      <td>01337d7daaf50c9a53b783f4cd6704b5a152dd5d299899...</td>\n",
              "      <td>0</td>\n",
              "    </tr>\n",
              "  </tbody>\n",
              "</table>\n",
              "</div>"
            ],
            "text/plain": [
              "                                                  ID  transcription\n",
              "0  00416cff4f818d3dfd99c9178ff0e268e7575500c8baa5...              0\n",
              "1  00891ba561e80e135f9d12b9fa1347f0a2560998f7ea16...              0\n",
              "2  00a508027ed4edf0bd3db79f45f4ed6e1b89fba6482c10...              0\n",
              "3  00ac13cd0d93e35c1ff672cc106ad94d1ea9b93fcf049a...              0\n",
              "4  01337d7daaf50c9a53b783f4cd6704b5a152dd5d299899...              0"
            ]
          },
          "metadata": {
            "tags": []
          },
          "execution_count": 83
        }
      ]
    },
    {
      "cell_type": "code",
      "metadata": {
        "id": "QN08cdRQT42R"
      },
      "source": [
        "zz = testa"
      ],
      "execution_count": null,
      "outputs": []
    },
    {
      "cell_type": "code",
      "metadata": {
        "colab": {
          "base_uri": "https://localhost:8080/"
        },
        "id": "GVEFdU_oReeV",
        "outputId": "3b24c30a-e636-4814-9391-871cf2ea733b"
      },
      "source": [
        "len(sub)"
      ],
      "execution_count": null,
      "outputs": [
        {
          "output_type": "execute_result",
          "data": {
            "text/plain": [
              "1590"
            ]
          },
          "metadata": {
            "tags": []
          },
          "execution_count": 84
        }
      ]
    },
    {
      "cell_type": "code",
      "metadata": {
        "id": "gviOd0_FRthu"
      },
      "source": [
        "aa=testa[1538:]"
      ],
      "execution_count": null,
      "outputs": []
    },
    {
      "cell_type": "code",
      "metadata": {
        "id": "fWIfuAcRR_VF"
      },
      "source": [
        "for  i in aa :\n",
        "  testa.append(i)"
      ],
      "execution_count": null,
      "outputs": []
    },
    {
      "cell_type": "code",
      "metadata": {
        "colab": {
          "base_uri": "https://localhost:8080/",
          "height": 163
        },
        "id": "ajcN-eeJTeZQ",
        "outputId": "0df50fc2-de6c-435c-81c2-60073c8b48a1"
      },
      "source": [
        "len(testa)"
      ],
      "execution_count": null,
      "outputs": [
        {
          "output_type": "error",
          "ename": "NameError",
          "evalue": "ignored",
          "traceback": [
            "\u001b[0;31m---------------------------------------------------------------------------\u001b[0m",
            "\u001b[0;31mNameError\u001b[0m                                 Traceback (most recent call last)",
            "\u001b[0;32m<ipython-input-1-d605f6f75dd3>\u001b[0m in \u001b[0;36m<module>\u001b[0;34m()\u001b[0m\n\u001b[0;32m----> 1\u001b[0;31m \u001b[0mlen\u001b[0m\u001b[0;34m(\u001b[0m\u001b[0mtesta\u001b[0m\u001b[0;34m)\u001b[0m\u001b[0;34m\u001b[0m\u001b[0;34m\u001b[0m\u001b[0m\n\u001b[0m",
            "\u001b[0;31mNameError\u001b[0m: name 'testa' is not defined"
          ]
        }
      ]
    },
    {
      "cell_type": "code",
      "metadata": {
        "id": "qhvpPrWzTiM2"
      },
      "source": [
        "sub['transcription']=testa"
      ],
      "execution_count": null,
      "outputs": []
    },
    {
      "cell_type": "code",
      "metadata": {
        "id": "k7uI-uNaSFjm"
      },
      "source": [
        "sub.to_csv(\"submissions.csv\", index=False)"
      ],
      "execution_count": null,
      "outputs": []
    },
    {
      "cell_type": "code",
      "metadata": {
        "id": "_DRLdRI4SI2j"
      },
      "source": [
        "sub['ID']=IID"
      ],
      "execution_count": null,
      "outputs": []
    },
    {
      "cell_type": "code",
      "metadata": {
        "colab": {
          "base_uri": "https://localhost:8080/",
          "height": 306
        },
        "id": "Fhsi9-XpSSLk",
        "outputId": "a6784460-7a50-4673-961e-e747f403996c"
      },
      "source": [
        "sub['transcription']=testa"
      ],
      "execution_count": null,
      "outputs": [
        {
          "output_type": "error",
          "ename": "ValueError",
          "evalue": "ignored",
          "traceback": [
            "\u001b[0;31m---------------------------------------------------------------------------\u001b[0m",
            "\u001b[0;31mValueError\u001b[0m                                Traceback (most recent call last)",
            "\u001b[0;32m<ipython-input-81-83838ac29808>\u001b[0m in \u001b[0;36m<module>\u001b[0;34m()\u001b[0m\n\u001b[0;32m----> 1\u001b[0;31m \u001b[0msub\u001b[0m\u001b[0;34m[\u001b[0m\u001b[0;34m'transcription'\u001b[0m\u001b[0;34m]\u001b[0m\u001b[0;34m=\u001b[0m\u001b[0mtesta\u001b[0m\u001b[0;34m\u001b[0m\u001b[0;34m\u001b[0m\u001b[0m\n\u001b[0m",
            "\u001b[0;32m/usr/local/lib/python3.7/dist-packages/pandas/core/frame.py\u001b[0m in \u001b[0;36m__setitem__\u001b[0;34m(self, key, value)\u001b[0m\n\u001b[1;32m   3042\u001b[0m         \u001b[0;32melse\u001b[0m\u001b[0;34m:\u001b[0m\u001b[0;34m\u001b[0m\u001b[0;34m\u001b[0m\u001b[0m\n\u001b[1;32m   3043\u001b[0m             \u001b[0;31m# set column\u001b[0m\u001b[0;34m\u001b[0m\u001b[0;34m\u001b[0m\u001b[0;34m\u001b[0m\u001b[0m\n\u001b[0;32m-> 3044\u001b[0;31m             \u001b[0mself\u001b[0m\u001b[0;34m.\u001b[0m\u001b[0m_set_item\u001b[0m\u001b[0;34m(\u001b[0m\u001b[0mkey\u001b[0m\u001b[0;34m,\u001b[0m \u001b[0mvalue\u001b[0m\u001b[0;34m)\u001b[0m\u001b[0;34m\u001b[0m\u001b[0;34m\u001b[0m\u001b[0m\n\u001b[0m\u001b[1;32m   3045\u001b[0m \u001b[0;34m\u001b[0m\u001b[0m\n\u001b[1;32m   3046\u001b[0m     \u001b[0;32mdef\u001b[0m \u001b[0m_setitem_slice\u001b[0m\u001b[0;34m(\u001b[0m\u001b[0mself\u001b[0m\u001b[0;34m,\u001b[0m \u001b[0mkey\u001b[0m\u001b[0;34m:\u001b[0m \u001b[0mslice\u001b[0m\u001b[0;34m,\u001b[0m \u001b[0mvalue\u001b[0m\u001b[0;34m)\u001b[0m\u001b[0;34m:\u001b[0m\u001b[0;34m\u001b[0m\u001b[0;34m\u001b[0m\u001b[0m\n",
            "\u001b[0;32m/usr/local/lib/python3.7/dist-packages/pandas/core/frame.py\u001b[0m in \u001b[0;36m_set_item\u001b[0;34m(self, key, value)\u001b[0m\n\u001b[1;32m   3118\u001b[0m         \"\"\"\n\u001b[1;32m   3119\u001b[0m         \u001b[0mself\u001b[0m\u001b[0;34m.\u001b[0m\u001b[0m_ensure_valid_index\u001b[0m\u001b[0;34m(\u001b[0m\u001b[0mvalue\u001b[0m\u001b[0;34m)\u001b[0m\u001b[0;34m\u001b[0m\u001b[0;34m\u001b[0m\u001b[0m\n\u001b[0;32m-> 3120\u001b[0;31m         \u001b[0mvalue\u001b[0m \u001b[0;34m=\u001b[0m \u001b[0mself\u001b[0m\u001b[0;34m.\u001b[0m\u001b[0m_sanitize_column\u001b[0m\u001b[0;34m(\u001b[0m\u001b[0mkey\u001b[0m\u001b[0;34m,\u001b[0m \u001b[0mvalue\u001b[0m\u001b[0;34m)\u001b[0m\u001b[0;34m\u001b[0m\u001b[0;34m\u001b[0m\u001b[0m\n\u001b[0m\u001b[1;32m   3121\u001b[0m         \u001b[0mNDFrame\u001b[0m\u001b[0;34m.\u001b[0m\u001b[0m_set_item\u001b[0m\u001b[0;34m(\u001b[0m\u001b[0mself\u001b[0m\u001b[0;34m,\u001b[0m \u001b[0mkey\u001b[0m\u001b[0;34m,\u001b[0m \u001b[0mvalue\u001b[0m\u001b[0;34m)\u001b[0m\u001b[0;34m\u001b[0m\u001b[0;34m\u001b[0m\u001b[0m\n\u001b[1;32m   3122\u001b[0m \u001b[0;34m\u001b[0m\u001b[0m\n",
            "\u001b[0;32m/usr/local/lib/python3.7/dist-packages/pandas/core/frame.py\u001b[0m in \u001b[0;36m_sanitize_column\u001b[0;34m(self, key, value, broadcast)\u001b[0m\n\u001b[1;32m   3766\u001b[0m \u001b[0;34m\u001b[0m\u001b[0m\n\u001b[1;32m   3767\u001b[0m             \u001b[0;31m# turn me into an ndarray\u001b[0m\u001b[0;34m\u001b[0m\u001b[0;34m\u001b[0m\u001b[0;34m\u001b[0m\u001b[0m\n\u001b[0;32m-> 3768\u001b[0;31m             \u001b[0mvalue\u001b[0m \u001b[0;34m=\u001b[0m \u001b[0msanitize_index\u001b[0m\u001b[0;34m(\u001b[0m\u001b[0mvalue\u001b[0m\u001b[0;34m,\u001b[0m \u001b[0mself\u001b[0m\u001b[0;34m.\u001b[0m\u001b[0mindex\u001b[0m\u001b[0;34m)\u001b[0m\u001b[0;34m\u001b[0m\u001b[0;34m\u001b[0m\u001b[0m\n\u001b[0m\u001b[1;32m   3769\u001b[0m             \u001b[0;32mif\u001b[0m \u001b[0;32mnot\u001b[0m \u001b[0misinstance\u001b[0m\u001b[0;34m(\u001b[0m\u001b[0mvalue\u001b[0m\u001b[0;34m,\u001b[0m \u001b[0;34m(\u001b[0m\u001b[0mnp\u001b[0m\u001b[0;34m.\u001b[0m\u001b[0mndarray\u001b[0m\u001b[0;34m,\u001b[0m \u001b[0mIndex\u001b[0m\u001b[0;34m)\u001b[0m\u001b[0;34m)\u001b[0m\u001b[0;34m:\u001b[0m\u001b[0;34m\u001b[0m\u001b[0;34m\u001b[0m\u001b[0m\n\u001b[1;32m   3770\u001b[0m                 \u001b[0;32mif\u001b[0m \u001b[0misinstance\u001b[0m\u001b[0;34m(\u001b[0m\u001b[0mvalue\u001b[0m\u001b[0;34m,\u001b[0m \u001b[0mlist\u001b[0m\u001b[0;34m)\u001b[0m \u001b[0;32mand\u001b[0m \u001b[0mlen\u001b[0m\u001b[0;34m(\u001b[0m\u001b[0mvalue\u001b[0m\u001b[0;34m)\u001b[0m \u001b[0;34m>\u001b[0m \u001b[0;36m0\u001b[0m\u001b[0;34m:\u001b[0m\u001b[0;34m\u001b[0m\u001b[0;34m\u001b[0m\u001b[0m\n",
            "\u001b[0;32m/usr/local/lib/python3.7/dist-packages/pandas/core/internals/construction.py\u001b[0m in \u001b[0;36msanitize_index\u001b[0;34m(data, index)\u001b[0m\n\u001b[1;32m    746\u001b[0m     \u001b[0;32mif\u001b[0m \u001b[0mlen\u001b[0m\u001b[0;34m(\u001b[0m\u001b[0mdata\u001b[0m\u001b[0;34m)\u001b[0m \u001b[0;34m!=\u001b[0m \u001b[0mlen\u001b[0m\u001b[0;34m(\u001b[0m\u001b[0mindex\u001b[0m\u001b[0;34m)\u001b[0m\u001b[0;34m:\u001b[0m\u001b[0;34m\u001b[0m\u001b[0;34m\u001b[0m\u001b[0m\n\u001b[1;32m    747\u001b[0m         raise ValueError(\n\u001b[0;32m--> 748\u001b[0;31m             \u001b[0;34m\"Length of values \"\u001b[0m\u001b[0;34m\u001b[0m\u001b[0;34m\u001b[0m\u001b[0m\n\u001b[0m\u001b[1;32m    749\u001b[0m             \u001b[0;34mf\"({len(data)}) \"\u001b[0m\u001b[0;34m\u001b[0m\u001b[0;34m\u001b[0m\u001b[0m\n\u001b[1;32m    750\u001b[0m             \u001b[0;34m\"does not match length of index \"\u001b[0m\u001b[0;34m\u001b[0m\u001b[0;34m\u001b[0m\u001b[0m\n",
            "\u001b[0;31mValueError\u001b[0m: Length of values (1564) does not match length of index (1590)"
          ]
        }
      ]
    },
    {
      "cell_type": "code",
      "metadata": {
        "id": "QS5WJPi8STzX"
      },
      "source": [
        ""
      ],
      "execution_count": null,
      "outputs": []
    }
  ]
}
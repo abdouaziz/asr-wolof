{
  "nbformat": 4,
  "nbformat_minor": 0,
  "metadata": {
    "accelerator": "GPU",
    "colab": {
      "name": "Automatic Speech Recognition in WOLOF.ipynb",
      "provenance": [],
      "collapsed_sections": [],
      "machine_shape": "hm"
    },
    "kernelspec": {
      "display_name": "Python 3",
      "name": "python3"
    },
    "widgets": {
      "application/vnd.jupyter.widget-state+json": {
        "89aca9b5bb6b4020bb617480bb7de29b": {
          "model_module": "@jupyter-widgets/controls",
          "model_name": "HBoxModel",
          "model_module_version": "1.5.0",
          "state": {
            "_view_name": "HBoxView",
            "_dom_classes": [],
            "_model_name": "HBoxModel",
            "_view_module": "@jupyter-widgets/controls",
            "_model_module_version": "1.5.0",
            "_view_count": null,
            "_view_module_version": "1.5.0",
            "box_style": "",
            "layout": "IPY_MODEL_1607ef22f043405f9a76a5986e59f0ea",
            "_model_module": "@jupyter-widgets/controls",
            "children": [
              "IPY_MODEL_01c69100f20744ffb9a10058a63ae8e1",
              "IPY_MODEL_eeed381b5d6b4838b58c3c09d6fff51c"
            ]
          }
        },
        "1607ef22f043405f9a76a5986e59f0ea": {
          "model_module": "@jupyter-widgets/base",
          "model_name": "LayoutModel",
          "model_module_version": "1.2.0",
          "state": {
            "_view_name": "LayoutView",
            "grid_template_rows": null,
            "right": null,
            "justify_content": null,
            "_view_module": "@jupyter-widgets/base",
            "overflow": null,
            "_model_module_version": "1.2.0",
            "_view_count": null,
            "flex_flow": null,
            "width": null,
            "min_width": null,
            "border": null,
            "align_items": null,
            "bottom": null,
            "_model_module": "@jupyter-widgets/base",
            "top": null,
            "grid_column": null,
            "overflow_y": null,
            "overflow_x": null,
            "grid_auto_flow": null,
            "grid_area": null,
            "grid_template_columns": null,
            "flex": null,
            "_model_name": "LayoutModel",
            "justify_items": null,
            "grid_row": null,
            "max_height": null,
            "align_content": null,
            "visibility": null,
            "align_self": null,
            "height": null,
            "min_height": null,
            "padding": null,
            "grid_auto_rows": null,
            "grid_gap": null,
            "max_width": null,
            "order": null,
            "_view_module_version": "1.2.0",
            "grid_template_areas": null,
            "object_position": null,
            "object_fit": null,
            "grid_auto_columns": null,
            "margin": null,
            "display": null,
            "left": null
          }
        },
        "01c69100f20744ffb9a10058a63ae8e1": {
          "model_module": "@jupyter-widgets/controls",
          "model_name": "FloatProgressModel",
          "model_module_version": "1.5.0",
          "state": {
            "_view_name": "ProgressView",
            "style": "IPY_MODEL_16914640d9754d47a9ba8df2a862adec",
            "_dom_classes": [],
            "description": "",
            "_model_name": "FloatProgressModel",
            "bar_style": "info",
            "max": 1,
            "_view_module": "@jupyter-widgets/controls",
            "_model_module_version": "1.5.0",
            "value": 1,
            "_view_count": null,
            "_view_module_version": "1.5.0",
            "orientation": "horizontal",
            "min": 0,
            "description_tooltip": null,
            "_model_module": "@jupyter-widgets/controls",
            "layout": "IPY_MODEL_52ec80559a4c4b32bc4213e5bd502f9f"
          }
        },
        "eeed381b5d6b4838b58c3c09d6fff51c": {
          "model_module": "@jupyter-widgets/controls",
          "model_name": "HTMLModel",
          "model_module_version": "1.5.0",
          "state": {
            "_view_name": "HTMLView",
            "style": "IPY_MODEL_d1ea07dc749f4b359a3fa325a183b3be",
            "_dom_classes": [],
            "description": "",
            "_model_name": "HTMLModel",
            "placeholder": "​",
            "_view_module": "@jupyter-widgets/controls",
            "_model_module_version": "1.5.0",
            "value": " 1/? [00:00&lt;00:00, 11.44 tables/s]",
            "_view_count": null,
            "_view_module_version": "1.5.0",
            "description_tooltip": null,
            "_model_module": "@jupyter-widgets/controls",
            "layout": "IPY_MODEL_dc529c34528b4a5baf0d97a14f85e886"
          }
        },
        "16914640d9754d47a9ba8df2a862adec": {
          "model_module": "@jupyter-widgets/controls",
          "model_name": "ProgressStyleModel",
          "model_module_version": "1.5.0",
          "state": {
            "_view_name": "StyleView",
            "_model_name": "ProgressStyleModel",
            "description_width": "initial",
            "_view_module": "@jupyter-widgets/base",
            "_model_module_version": "1.5.0",
            "_view_count": null,
            "_view_module_version": "1.2.0",
            "bar_color": null,
            "_model_module": "@jupyter-widgets/controls"
          }
        },
        "52ec80559a4c4b32bc4213e5bd502f9f": {
          "model_module": "@jupyter-widgets/base",
          "model_name": "LayoutModel",
          "model_module_version": "1.2.0",
          "state": {
            "_view_name": "LayoutView",
            "grid_template_rows": null,
            "right": null,
            "justify_content": null,
            "_view_module": "@jupyter-widgets/base",
            "overflow": null,
            "_model_module_version": "1.2.0",
            "_view_count": null,
            "flex_flow": null,
            "width": null,
            "min_width": null,
            "border": null,
            "align_items": null,
            "bottom": null,
            "_model_module": "@jupyter-widgets/base",
            "top": null,
            "grid_column": null,
            "overflow_y": null,
            "overflow_x": null,
            "grid_auto_flow": null,
            "grid_area": null,
            "grid_template_columns": null,
            "flex": null,
            "_model_name": "LayoutModel",
            "justify_items": null,
            "grid_row": null,
            "max_height": null,
            "align_content": null,
            "visibility": null,
            "align_self": null,
            "height": null,
            "min_height": null,
            "padding": null,
            "grid_auto_rows": null,
            "grid_gap": null,
            "max_width": null,
            "order": null,
            "_view_module_version": "1.2.0",
            "grid_template_areas": null,
            "object_position": null,
            "object_fit": null,
            "grid_auto_columns": null,
            "margin": null,
            "display": null,
            "left": null
          }
        },
        "d1ea07dc749f4b359a3fa325a183b3be": {
          "model_module": "@jupyter-widgets/controls",
          "model_name": "DescriptionStyleModel",
          "model_module_version": "1.5.0",
          "state": {
            "_view_name": "StyleView",
            "_model_name": "DescriptionStyleModel",
            "description_width": "",
            "_view_module": "@jupyter-widgets/base",
            "_model_module_version": "1.5.0",
            "_view_count": null,
            "_view_module_version": "1.2.0",
            "_model_module": "@jupyter-widgets/controls"
          }
        },
        "dc529c34528b4a5baf0d97a14f85e886": {
          "model_module": "@jupyter-widgets/base",
          "model_name": "LayoutModel",
          "model_module_version": "1.2.0",
          "state": {
            "_view_name": "LayoutView",
            "grid_template_rows": null,
            "right": null,
            "justify_content": null,
            "_view_module": "@jupyter-widgets/base",
            "overflow": null,
            "_model_module_version": "1.2.0",
            "_view_count": null,
            "flex_flow": null,
            "width": null,
            "min_width": null,
            "border": null,
            "align_items": null,
            "bottom": null,
            "_model_module": "@jupyter-widgets/base",
            "top": null,
            "grid_column": null,
            "overflow_y": null,
            "overflow_x": null,
            "grid_auto_flow": null,
            "grid_area": null,
            "grid_template_columns": null,
            "flex": null,
            "_model_name": "LayoutModel",
            "justify_items": null,
            "grid_row": null,
            "max_height": null,
            "align_content": null,
            "visibility": null,
            "align_self": null,
            "height": null,
            "min_height": null,
            "padding": null,
            "grid_auto_rows": null,
            "grid_gap": null,
            "max_width": null,
            "order": null,
            "_view_module_version": "1.2.0",
            "grid_template_areas": null,
            "object_position": null,
            "object_fit": null,
            "grid_auto_columns": null,
            "margin": null,
            "display": null,
            "left": null
          }
        },
        "6103ec916bdb497d814625bd2d364a6c": {
          "model_module": "@jupyter-widgets/controls",
          "model_name": "HBoxModel",
          "model_module_version": "1.5.0",
          "state": {
            "_view_name": "HBoxView",
            "_dom_classes": [],
            "_model_name": "HBoxModel",
            "_view_module": "@jupyter-widgets/controls",
            "_model_module_version": "1.5.0",
            "_view_count": null,
            "_view_module_version": "1.5.0",
            "box_style": "",
            "layout": "IPY_MODEL_1e6d68505eb04477b40921f17ef93a6c",
            "_model_module": "@jupyter-widgets/controls",
            "children": [
              "IPY_MODEL_cbc97f0401144db7a5a282c8a7064181",
              "IPY_MODEL_144455799aad4ff893f4de9717a25c6e"
            ]
          }
        },
        "1e6d68505eb04477b40921f17ef93a6c": {
          "model_module": "@jupyter-widgets/base",
          "model_name": "LayoutModel",
          "model_module_version": "1.2.0",
          "state": {
            "_view_name": "LayoutView",
            "grid_template_rows": null,
            "right": null,
            "justify_content": null,
            "_view_module": "@jupyter-widgets/base",
            "overflow": null,
            "_model_module_version": "1.2.0",
            "_view_count": null,
            "flex_flow": null,
            "width": null,
            "min_width": null,
            "border": null,
            "align_items": null,
            "bottom": null,
            "_model_module": "@jupyter-widgets/base",
            "top": null,
            "grid_column": null,
            "overflow_y": null,
            "overflow_x": null,
            "grid_auto_flow": null,
            "grid_area": null,
            "grid_template_columns": null,
            "flex": null,
            "_model_name": "LayoutModel",
            "justify_items": null,
            "grid_row": null,
            "max_height": null,
            "align_content": null,
            "visibility": null,
            "align_self": null,
            "height": null,
            "min_height": null,
            "padding": null,
            "grid_auto_rows": null,
            "grid_gap": null,
            "max_width": null,
            "order": null,
            "_view_module_version": "1.2.0",
            "grid_template_areas": null,
            "object_position": null,
            "object_fit": null,
            "grid_auto_columns": null,
            "margin": null,
            "display": null,
            "left": null
          }
        },
        "cbc97f0401144db7a5a282c8a7064181": {
          "model_module": "@jupyter-widgets/controls",
          "model_name": "FloatProgressModel",
          "model_module_version": "1.5.0",
          "state": {
            "_view_name": "ProgressView",
            "style": "IPY_MODEL_e50084b4342542d5bc5b4c4086f3c053",
            "_dom_classes": [],
            "description": "100%",
            "_model_name": "FloatProgressModel",
            "bar_style": "success",
            "max": 5346,
            "_view_module": "@jupyter-widgets/controls",
            "_model_module_version": "1.5.0",
            "value": 5346,
            "_view_count": null,
            "_view_module_version": "1.5.0",
            "orientation": "horizontal",
            "min": 0,
            "description_tooltip": null,
            "_model_module": "@jupyter-widgets/controls",
            "layout": "IPY_MODEL_3110a7b956334cefa4a1bb654d2aa147"
          }
        },
        "144455799aad4ff893f4de9717a25c6e": {
          "model_module": "@jupyter-widgets/controls",
          "model_name": "HTMLModel",
          "model_module_version": "1.5.0",
          "state": {
            "_view_name": "HTMLView",
            "style": "IPY_MODEL_90d1eba3663d4baab535aa486c459c0a",
            "_dom_classes": [],
            "description": "",
            "_model_name": "HTMLModel",
            "placeholder": "​",
            "_view_module": "@jupyter-widgets/controls",
            "_model_module_version": "1.5.0",
            "value": " 5346/5346 [02:07&lt;00:00, 41.84ex/s]",
            "_view_count": null,
            "_view_module_version": "1.5.0",
            "description_tooltip": null,
            "_model_module": "@jupyter-widgets/controls",
            "layout": "IPY_MODEL_2f465ecf840d4e8e8226236c81df1c92"
          }
        },
        "e50084b4342542d5bc5b4c4086f3c053": {
          "model_module": "@jupyter-widgets/controls",
          "model_name": "ProgressStyleModel",
          "model_module_version": "1.5.0",
          "state": {
            "_view_name": "StyleView",
            "_model_name": "ProgressStyleModel",
            "description_width": "initial",
            "_view_module": "@jupyter-widgets/base",
            "_model_module_version": "1.5.0",
            "_view_count": null,
            "_view_module_version": "1.2.0",
            "bar_color": null,
            "_model_module": "@jupyter-widgets/controls"
          }
        },
        "3110a7b956334cefa4a1bb654d2aa147": {
          "model_module": "@jupyter-widgets/base",
          "model_name": "LayoutModel",
          "model_module_version": "1.2.0",
          "state": {
            "_view_name": "LayoutView",
            "grid_template_rows": null,
            "right": null,
            "justify_content": null,
            "_view_module": "@jupyter-widgets/base",
            "overflow": null,
            "_model_module_version": "1.2.0",
            "_view_count": null,
            "flex_flow": null,
            "width": null,
            "min_width": null,
            "border": null,
            "align_items": null,
            "bottom": null,
            "_model_module": "@jupyter-widgets/base",
            "top": null,
            "grid_column": null,
            "overflow_y": null,
            "overflow_x": null,
            "grid_auto_flow": null,
            "grid_area": null,
            "grid_template_columns": null,
            "flex": null,
            "_model_name": "LayoutModel",
            "justify_items": null,
            "grid_row": null,
            "max_height": null,
            "align_content": null,
            "visibility": null,
            "align_self": null,
            "height": null,
            "min_height": null,
            "padding": null,
            "grid_auto_rows": null,
            "grid_gap": null,
            "max_width": null,
            "order": null,
            "_view_module_version": "1.2.0",
            "grid_template_areas": null,
            "object_position": null,
            "object_fit": null,
            "grid_auto_columns": null,
            "margin": null,
            "display": null,
            "left": null
          }
        },
        "90d1eba3663d4baab535aa486c459c0a": {
          "model_module": "@jupyter-widgets/controls",
          "model_name": "DescriptionStyleModel",
          "model_module_version": "1.5.0",
          "state": {
            "_view_name": "StyleView",
            "_model_name": "DescriptionStyleModel",
            "description_width": "",
            "_view_module": "@jupyter-widgets/base",
            "_model_module_version": "1.5.0",
            "_view_count": null,
            "_view_module_version": "1.2.0",
            "_model_module": "@jupyter-widgets/controls"
          }
        },
        "2f465ecf840d4e8e8226236c81df1c92": {
          "model_module": "@jupyter-widgets/base",
          "model_name": "LayoutModel",
          "model_module_version": "1.2.0",
          "state": {
            "_view_name": "LayoutView",
            "grid_template_rows": null,
            "right": null,
            "justify_content": null,
            "_view_module": "@jupyter-widgets/base",
            "overflow": null,
            "_model_module_version": "1.2.0",
            "_view_count": null,
            "flex_flow": null,
            "width": null,
            "min_width": null,
            "border": null,
            "align_items": null,
            "bottom": null,
            "_model_module": "@jupyter-widgets/base",
            "top": null,
            "grid_column": null,
            "overflow_y": null,
            "overflow_x": null,
            "grid_auto_flow": null,
            "grid_area": null,
            "grid_template_columns": null,
            "flex": null,
            "_model_name": "LayoutModel",
            "justify_items": null,
            "grid_row": null,
            "max_height": null,
            "align_content": null,
            "visibility": null,
            "align_self": null,
            "height": null,
            "min_height": null,
            "padding": null,
            "grid_auto_rows": null,
            "grid_gap": null,
            "max_width": null,
            "order": null,
            "_view_module_version": "1.2.0",
            "grid_template_areas": null,
            "object_position": null,
            "object_fit": null,
            "grid_auto_columns": null,
            "margin": null,
            "display": null,
            "left": null
          }
        },
        "53859c67b4b148d7b0242511afa63b92": {
          "model_module": "@jupyter-widgets/controls",
          "model_name": "HBoxModel",
          "model_module_version": "1.5.0",
          "state": {
            "_view_name": "HBoxView",
            "_dom_classes": [],
            "_model_name": "HBoxModel",
            "_view_module": "@jupyter-widgets/controls",
            "_model_module_version": "1.5.0",
            "_view_count": null,
            "_view_module_version": "1.5.0",
            "box_style": "",
            "layout": "IPY_MODEL_fa27fbd4c315495f95b2c90a662e26b2",
            "_model_module": "@jupyter-widgets/controls",
            "children": [
              "IPY_MODEL_28c16b7dc79846c0a740b8f624ae7b7d",
              "IPY_MODEL_7cc549cc1a6940a28d61fd1c751154b0"
            ]
          }
        },
        "fa27fbd4c315495f95b2c90a662e26b2": {
          "model_module": "@jupyter-widgets/base",
          "model_name": "LayoutModel",
          "model_module_version": "1.2.0",
          "state": {
            "_view_name": "LayoutView",
            "grid_template_rows": null,
            "right": null,
            "justify_content": null,
            "_view_module": "@jupyter-widgets/base",
            "overflow": null,
            "_model_module_version": "1.2.0",
            "_view_count": null,
            "flex_flow": null,
            "width": null,
            "min_width": null,
            "border": null,
            "align_items": null,
            "bottom": null,
            "_model_module": "@jupyter-widgets/base",
            "top": null,
            "grid_column": null,
            "overflow_y": null,
            "overflow_x": null,
            "grid_auto_flow": null,
            "grid_area": null,
            "grid_template_columns": null,
            "flex": null,
            "_model_name": "LayoutModel",
            "justify_items": null,
            "grid_row": null,
            "max_height": null,
            "align_content": null,
            "visibility": null,
            "align_self": null,
            "height": null,
            "min_height": null,
            "padding": null,
            "grid_auto_rows": null,
            "grid_gap": null,
            "max_width": null,
            "order": null,
            "_view_module_version": "1.2.0",
            "grid_template_areas": null,
            "object_position": null,
            "object_fit": null,
            "grid_auto_columns": null,
            "margin": null,
            "display": null,
            "left": null
          }
        },
        "28c16b7dc79846c0a740b8f624ae7b7d": {
          "model_module": "@jupyter-widgets/controls",
          "model_name": "FloatProgressModel",
          "model_module_version": "1.5.0",
          "state": {
            "_view_name": "ProgressView",
            "style": "IPY_MODEL_6f7191a4c4764e6a92d28ca07d92ecde",
            "_dom_classes": [],
            "description": "100%",
            "_model_name": "FloatProgressModel",
            "bar_style": "success",
            "max": 1337,
            "_view_module": "@jupyter-widgets/controls",
            "_model_module_version": "1.5.0",
            "value": 1337,
            "_view_count": null,
            "_view_module_version": "1.5.0",
            "orientation": "horizontal",
            "min": 0,
            "description_tooltip": null,
            "_model_module": "@jupyter-widgets/controls",
            "layout": "IPY_MODEL_09fc45fab56f4a188cf0a55d3bd0c7f9"
          }
        },
        "7cc549cc1a6940a28d61fd1c751154b0": {
          "model_module": "@jupyter-widgets/controls",
          "model_name": "HTMLModel",
          "model_module_version": "1.5.0",
          "state": {
            "_view_name": "HTMLView",
            "style": "IPY_MODEL_901d962d846b4ca4bf2cd8514aa56618",
            "_dom_classes": [],
            "description": "",
            "_model_name": "HTMLModel",
            "placeholder": "​",
            "_view_module": "@jupyter-widgets/controls",
            "_model_module_version": "1.5.0",
            "value": " 1337/1337 [00:39&lt;00:00, 34.23ex/s]",
            "_view_count": null,
            "_view_module_version": "1.5.0",
            "description_tooltip": null,
            "_model_module": "@jupyter-widgets/controls",
            "layout": "IPY_MODEL_5417315c9f7a46088e2f3c9f93f8ac02"
          }
        },
        "6f7191a4c4764e6a92d28ca07d92ecde": {
          "model_module": "@jupyter-widgets/controls",
          "model_name": "ProgressStyleModel",
          "model_module_version": "1.5.0",
          "state": {
            "_view_name": "StyleView",
            "_model_name": "ProgressStyleModel",
            "description_width": "initial",
            "_view_module": "@jupyter-widgets/base",
            "_model_module_version": "1.5.0",
            "_view_count": null,
            "_view_module_version": "1.2.0",
            "bar_color": null,
            "_model_module": "@jupyter-widgets/controls"
          }
        },
        "09fc45fab56f4a188cf0a55d3bd0c7f9": {
          "model_module": "@jupyter-widgets/base",
          "model_name": "LayoutModel",
          "model_module_version": "1.2.0",
          "state": {
            "_view_name": "LayoutView",
            "grid_template_rows": null,
            "right": null,
            "justify_content": null,
            "_view_module": "@jupyter-widgets/base",
            "overflow": null,
            "_model_module_version": "1.2.0",
            "_view_count": null,
            "flex_flow": null,
            "width": null,
            "min_width": null,
            "border": null,
            "align_items": null,
            "bottom": null,
            "_model_module": "@jupyter-widgets/base",
            "top": null,
            "grid_column": null,
            "overflow_y": null,
            "overflow_x": null,
            "grid_auto_flow": null,
            "grid_area": null,
            "grid_template_columns": null,
            "flex": null,
            "_model_name": "LayoutModel",
            "justify_items": null,
            "grid_row": null,
            "max_height": null,
            "align_content": null,
            "visibility": null,
            "align_self": null,
            "height": null,
            "min_height": null,
            "padding": null,
            "grid_auto_rows": null,
            "grid_gap": null,
            "max_width": null,
            "order": null,
            "_view_module_version": "1.2.0",
            "grid_template_areas": null,
            "object_position": null,
            "object_fit": null,
            "grid_auto_columns": null,
            "margin": null,
            "display": null,
            "left": null
          }
        },
        "901d962d846b4ca4bf2cd8514aa56618": {
          "model_module": "@jupyter-widgets/controls",
          "model_name": "DescriptionStyleModel",
          "model_module_version": "1.5.0",
          "state": {
            "_view_name": "StyleView",
            "_model_name": "DescriptionStyleModel",
            "description_width": "",
            "_view_module": "@jupyter-widgets/base",
            "_model_module_version": "1.5.0",
            "_view_count": null,
            "_view_module_version": "1.2.0",
            "_model_module": "@jupyter-widgets/controls"
          }
        },
        "5417315c9f7a46088e2f3c9f93f8ac02": {
          "model_module": "@jupyter-widgets/base",
          "model_name": "LayoutModel",
          "model_module_version": "1.2.0",
          "state": {
            "_view_name": "LayoutView",
            "grid_template_rows": null,
            "right": null,
            "justify_content": null,
            "_view_module": "@jupyter-widgets/base",
            "overflow": null,
            "_model_module_version": "1.2.0",
            "_view_count": null,
            "flex_flow": null,
            "width": null,
            "min_width": null,
            "border": null,
            "align_items": null,
            "bottom": null,
            "_model_module": "@jupyter-widgets/base",
            "top": null,
            "grid_column": null,
            "overflow_y": null,
            "overflow_x": null,
            "grid_auto_flow": null,
            "grid_area": null,
            "grid_template_columns": null,
            "flex": null,
            "_model_name": "LayoutModel",
            "justify_items": null,
            "grid_row": null,
            "max_height": null,
            "align_content": null,
            "visibility": null,
            "align_self": null,
            "height": null,
            "min_height": null,
            "padding": null,
            "grid_auto_rows": null,
            "grid_gap": null,
            "max_width": null,
            "order": null,
            "_view_module_version": "1.2.0",
            "grid_template_areas": null,
            "object_position": null,
            "object_fit": null,
            "grid_auto_columns": null,
            "margin": null,
            "display": null,
            "left": null
          }
        },
        "605974ff6b764be9b348d2b7bbfefb17": {
          "model_module": "@jupyter-widgets/controls",
          "model_name": "HBoxModel",
          "model_module_version": "1.5.0",
          "state": {
            "_view_name": "HBoxView",
            "_dom_classes": [],
            "_model_name": "HBoxModel",
            "_view_module": "@jupyter-widgets/controls",
            "_model_module_version": "1.5.0",
            "_view_count": null,
            "_view_module_version": "1.5.0",
            "box_style": "",
            "layout": "IPY_MODEL_0b8f13448df14bb1af016d0e4b89d23c",
            "_model_module": "@jupyter-widgets/controls",
            "children": [
              "IPY_MODEL_ede1b52944a84cbcbfd4958f80bfd9ba",
              "IPY_MODEL_afa4d743146f41dba80bb1eb631622a0"
            ]
          }
        },
        "0b8f13448df14bb1af016d0e4b89d23c": {
          "model_module": "@jupyter-widgets/base",
          "model_name": "LayoutModel",
          "model_module_version": "1.2.0",
          "state": {
            "_view_name": "LayoutView",
            "grid_template_rows": null,
            "right": null,
            "justify_content": null,
            "_view_module": "@jupyter-widgets/base",
            "overflow": null,
            "_model_module_version": "1.2.0",
            "_view_count": null,
            "flex_flow": null,
            "width": null,
            "min_width": null,
            "border": null,
            "align_items": null,
            "bottom": null,
            "_model_module": "@jupyter-widgets/base",
            "top": null,
            "grid_column": null,
            "overflow_y": null,
            "overflow_x": null,
            "grid_auto_flow": null,
            "grid_area": null,
            "grid_template_columns": null,
            "flex": null,
            "_model_name": "LayoutModel",
            "justify_items": null,
            "grid_row": null,
            "max_height": null,
            "align_content": null,
            "visibility": null,
            "align_self": null,
            "height": null,
            "min_height": null,
            "padding": null,
            "grid_auto_rows": null,
            "grid_gap": null,
            "max_width": null,
            "order": null,
            "_view_module_version": "1.2.0",
            "grid_template_areas": null,
            "object_position": null,
            "object_fit": null,
            "grid_auto_columns": null,
            "margin": null,
            "display": null,
            "left": null
          }
        },
        "ede1b52944a84cbcbfd4958f80bfd9ba": {
          "model_module": "@jupyter-widgets/controls",
          "model_name": "FloatProgressModel",
          "model_module_version": "1.5.0",
          "state": {
            "_view_name": "ProgressView",
            "style": "IPY_MODEL_2c5a79fc823b4b93872d19e44e7cb932",
            "_dom_classes": [],
            "description": "100%",
            "_model_name": "FloatProgressModel",
            "bar_style": "success",
            "max": 1,
            "_view_module": "@jupyter-widgets/controls",
            "_model_module_version": "1.5.0",
            "value": 1,
            "_view_count": null,
            "_view_module_version": "1.5.0",
            "orientation": "horizontal",
            "min": 0,
            "description_tooltip": null,
            "_model_module": "@jupyter-widgets/controls",
            "layout": "IPY_MODEL_eb01b0df93dc454c9d62bdf793b99824"
          }
        },
        "afa4d743146f41dba80bb1eb631622a0": {
          "model_module": "@jupyter-widgets/controls",
          "model_name": "HTMLModel",
          "model_module_version": "1.5.0",
          "state": {
            "_view_name": "HTMLView",
            "style": "IPY_MODEL_20d1aacfb414467a8a7317db785bedcd",
            "_dom_classes": [],
            "description": "",
            "_model_name": "HTMLModel",
            "placeholder": "​",
            "_view_module": "@jupyter-widgets/controls",
            "_model_module_version": "1.5.0",
            "value": " 1/1 [00:07&lt;00:00,  7.63s/ba]",
            "_view_count": null,
            "_view_module_version": "1.5.0",
            "description_tooltip": null,
            "_model_module": "@jupyter-widgets/controls",
            "layout": "IPY_MODEL_7733288324b442b49d3bc14dc5413440"
          }
        },
        "2c5a79fc823b4b93872d19e44e7cb932": {
          "model_module": "@jupyter-widgets/controls",
          "model_name": "ProgressStyleModel",
          "model_module_version": "1.5.0",
          "state": {
            "_view_name": "StyleView",
            "_model_name": "ProgressStyleModel",
            "description_width": "initial",
            "_view_module": "@jupyter-widgets/base",
            "_model_module_version": "1.5.0",
            "_view_count": null,
            "_view_module_version": "1.2.0",
            "bar_color": null,
            "_model_module": "@jupyter-widgets/controls"
          }
        },
        "eb01b0df93dc454c9d62bdf793b99824": {
          "model_module": "@jupyter-widgets/base",
          "model_name": "LayoutModel",
          "model_module_version": "1.2.0",
          "state": {
            "_view_name": "LayoutView",
            "grid_template_rows": null,
            "right": null,
            "justify_content": null,
            "_view_module": "@jupyter-widgets/base",
            "overflow": null,
            "_model_module_version": "1.2.0",
            "_view_count": null,
            "flex_flow": null,
            "width": null,
            "min_width": null,
            "border": null,
            "align_items": null,
            "bottom": null,
            "_model_module": "@jupyter-widgets/base",
            "top": null,
            "grid_column": null,
            "overflow_y": null,
            "overflow_x": null,
            "grid_auto_flow": null,
            "grid_area": null,
            "grid_template_columns": null,
            "flex": null,
            "_model_name": "LayoutModel",
            "justify_items": null,
            "grid_row": null,
            "max_height": null,
            "align_content": null,
            "visibility": null,
            "align_self": null,
            "height": null,
            "min_height": null,
            "padding": null,
            "grid_auto_rows": null,
            "grid_gap": null,
            "max_width": null,
            "order": null,
            "_view_module_version": "1.2.0",
            "grid_template_areas": null,
            "object_position": null,
            "object_fit": null,
            "grid_auto_columns": null,
            "margin": null,
            "display": null,
            "left": null
          }
        },
        "20d1aacfb414467a8a7317db785bedcd": {
          "model_module": "@jupyter-widgets/controls",
          "model_name": "DescriptionStyleModel",
          "model_module_version": "1.5.0",
          "state": {
            "_view_name": "StyleView",
            "_model_name": "DescriptionStyleModel",
            "description_width": "",
            "_view_module": "@jupyter-widgets/base",
            "_model_module_version": "1.5.0",
            "_view_count": null,
            "_view_module_version": "1.2.0",
            "_model_module": "@jupyter-widgets/controls"
          }
        },
        "7733288324b442b49d3bc14dc5413440": {
          "model_module": "@jupyter-widgets/base",
          "model_name": "LayoutModel",
          "model_module_version": "1.2.0",
          "state": {
            "_view_name": "LayoutView",
            "grid_template_rows": null,
            "right": null,
            "justify_content": null,
            "_view_module": "@jupyter-widgets/base",
            "overflow": null,
            "_model_module_version": "1.2.0",
            "_view_count": null,
            "flex_flow": null,
            "width": null,
            "min_width": null,
            "border": null,
            "align_items": null,
            "bottom": null,
            "_model_module": "@jupyter-widgets/base",
            "top": null,
            "grid_column": null,
            "overflow_y": null,
            "overflow_x": null,
            "grid_auto_flow": null,
            "grid_area": null,
            "grid_template_columns": null,
            "flex": null,
            "_model_name": "LayoutModel",
            "justify_items": null,
            "grid_row": null,
            "max_height": null,
            "align_content": null,
            "visibility": null,
            "align_self": null,
            "height": null,
            "min_height": null,
            "padding": null,
            "grid_auto_rows": null,
            "grid_gap": null,
            "max_width": null,
            "order": null,
            "_view_module_version": "1.2.0",
            "grid_template_areas": null,
            "object_position": null,
            "object_fit": null,
            "grid_auto_columns": null,
            "margin": null,
            "display": null,
            "left": null
          }
        },
        "331e8b75410d482cb16adb8b9a4a5424": {
          "model_module": "@jupyter-widgets/controls",
          "model_name": "HBoxModel",
          "model_module_version": "1.5.0",
          "state": {
            "_view_name": "HBoxView",
            "_dom_classes": [],
            "_model_name": "HBoxModel",
            "_view_module": "@jupyter-widgets/controls",
            "_model_module_version": "1.5.0",
            "_view_count": null,
            "_view_module_version": "1.5.0",
            "box_style": "",
            "layout": "IPY_MODEL_f74918c6f2d04d12838c111c04bbc748",
            "_model_module": "@jupyter-widgets/controls",
            "children": [
              "IPY_MODEL_3ecfb30d678d4756bfdffc6a8b6d17ff",
              "IPY_MODEL_dd01700b5a114b10a41e67f913b9b57d"
            ]
          }
        },
        "f74918c6f2d04d12838c111c04bbc748": {
          "model_module": "@jupyter-widgets/base",
          "model_name": "LayoutModel",
          "model_module_version": "1.2.0",
          "state": {
            "_view_name": "LayoutView",
            "grid_template_rows": null,
            "right": null,
            "justify_content": null,
            "_view_module": "@jupyter-widgets/base",
            "overflow": null,
            "_model_module_version": "1.2.0",
            "_view_count": null,
            "flex_flow": null,
            "width": null,
            "min_width": null,
            "border": null,
            "align_items": null,
            "bottom": null,
            "_model_module": "@jupyter-widgets/base",
            "top": null,
            "grid_column": null,
            "overflow_y": null,
            "overflow_x": null,
            "grid_auto_flow": null,
            "grid_area": null,
            "grid_template_columns": null,
            "flex": null,
            "_model_name": "LayoutModel",
            "justify_items": null,
            "grid_row": null,
            "max_height": null,
            "align_content": null,
            "visibility": null,
            "align_self": null,
            "height": null,
            "min_height": null,
            "padding": null,
            "grid_auto_rows": null,
            "grid_gap": null,
            "max_width": null,
            "order": null,
            "_view_module_version": "1.2.0",
            "grid_template_areas": null,
            "object_position": null,
            "object_fit": null,
            "grid_auto_columns": null,
            "margin": null,
            "display": null,
            "left": null
          }
        },
        "3ecfb30d678d4756bfdffc6a8b6d17ff": {
          "model_module": "@jupyter-widgets/controls",
          "model_name": "FloatProgressModel",
          "model_module_version": "1.5.0",
          "state": {
            "_view_name": "ProgressView",
            "style": "IPY_MODEL_668053b713ff4443b9f061c30d6a880a",
            "_dom_classes": [],
            "description": "100%",
            "_model_name": "FloatProgressModel",
            "bar_style": "success",
            "max": 1,
            "_view_module": "@jupyter-widgets/controls",
            "_model_module_version": "1.5.0",
            "value": 1,
            "_view_count": null,
            "_view_module_version": "1.5.0",
            "orientation": "horizontal",
            "min": 0,
            "description_tooltip": null,
            "_model_module": "@jupyter-widgets/controls",
            "layout": "IPY_MODEL_00f5930c3e054e16a446408ef2a3f040"
          }
        },
        "dd01700b5a114b10a41e67f913b9b57d": {
          "model_module": "@jupyter-widgets/controls",
          "model_name": "HTMLModel",
          "model_module_version": "1.5.0",
          "state": {
            "_view_name": "HTMLView",
            "style": "IPY_MODEL_25414503a6ea46d48e6fe5d6560f970f",
            "_dom_classes": [],
            "description": "",
            "_model_name": "HTMLModel",
            "placeholder": "​",
            "_view_module": "@jupyter-widgets/controls",
            "_model_module_version": "1.5.0",
            "value": " 1/1 [00:05&lt;00:00,  5.39s/ba]",
            "_view_count": null,
            "_view_module_version": "1.5.0",
            "description_tooltip": null,
            "_model_module": "@jupyter-widgets/controls",
            "layout": "IPY_MODEL_c3a5563a53bc49f7bdb93cfcd9f95d34"
          }
        },
        "668053b713ff4443b9f061c30d6a880a": {
          "model_module": "@jupyter-widgets/controls",
          "model_name": "ProgressStyleModel",
          "model_module_version": "1.5.0",
          "state": {
            "_view_name": "StyleView",
            "_model_name": "ProgressStyleModel",
            "description_width": "initial",
            "_view_module": "@jupyter-widgets/base",
            "_model_module_version": "1.5.0",
            "_view_count": null,
            "_view_module_version": "1.2.0",
            "bar_color": null,
            "_model_module": "@jupyter-widgets/controls"
          }
        },
        "00f5930c3e054e16a446408ef2a3f040": {
          "model_module": "@jupyter-widgets/base",
          "model_name": "LayoutModel",
          "model_module_version": "1.2.0",
          "state": {
            "_view_name": "LayoutView",
            "grid_template_rows": null,
            "right": null,
            "justify_content": null,
            "_view_module": "@jupyter-widgets/base",
            "overflow": null,
            "_model_module_version": "1.2.0",
            "_view_count": null,
            "flex_flow": null,
            "width": null,
            "min_width": null,
            "border": null,
            "align_items": null,
            "bottom": null,
            "_model_module": "@jupyter-widgets/base",
            "top": null,
            "grid_column": null,
            "overflow_y": null,
            "overflow_x": null,
            "grid_auto_flow": null,
            "grid_area": null,
            "grid_template_columns": null,
            "flex": null,
            "_model_name": "LayoutModel",
            "justify_items": null,
            "grid_row": null,
            "max_height": null,
            "align_content": null,
            "visibility": null,
            "align_self": null,
            "height": null,
            "min_height": null,
            "padding": null,
            "grid_auto_rows": null,
            "grid_gap": null,
            "max_width": null,
            "order": null,
            "_view_module_version": "1.2.0",
            "grid_template_areas": null,
            "object_position": null,
            "object_fit": null,
            "grid_auto_columns": null,
            "margin": null,
            "display": null,
            "left": null
          }
        },
        "25414503a6ea46d48e6fe5d6560f970f": {
          "model_module": "@jupyter-widgets/controls",
          "model_name": "DescriptionStyleModel",
          "model_module_version": "1.5.0",
          "state": {
            "_view_name": "StyleView",
            "_model_name": "DescriptionStyleModel",
            "description_width": "",
            "_view_module": "@jupyter-widgets/base",
            "_model_module_version": "1.5.0",
            "_view_count": null,
            "_view_module_version": "1.2.0",
            "_model_module": "@jupyter-widgets/controls"
          }
        },
        "c3a5563a53bc49f7bdb93cfcd9f95d34": {
          "model_module": "@jupyter-widgets/base",
          "model_name": "LayoutModel",
          "model_module_version": "1.2.0",
          "state": {
            "_view_name": "LayoutView",
            "grid_template_rows": null,
            "right": null,
            "justify_content": null,
            "_view_module": "@jupyter-widgets/base",
            "overflow": null,
            "_model_module_version": "1.2.0",
            "_view_count": null,
            "flex_flow": null,
            "width": null,
            "min_width": null,
            "border": null,
            "align_items": null,
            "bottom": null,
            "_model_module": "@jupyter-widgets/base",
            "top": null,
            "grid_column": null,
            "overflow_y": null,
            "overflow_x": null,
            "grid_auto_flow": null,
            "grid_area": null,
            "grid_template_columns": null,
            "flex": null,
            "_model_name": "LayoutModel",
            "justify_items": null,
            "grid_row": null,
            "max_height": null,
            "align_content": null,
            "visibility": null,
            "align_self": null,
            "height": null,
            "min_height": null,
            "padding": null,
            "grid_auto_rows": null,
            "grid_gap": null,
            "max_width": null,
            "order": null,
            "_view_module_version": "1.2.0",
            "grid_template_areas": null,
            "object_position": null,
            "object_fit": null,
            "grid_auto_columns": null,
            "margin": null,
            "display": null,
            "left": null
          }
        },
        "ac6fb31bc89b44a8bab0de6dbaf98158": {
          "model_module": "@jupyter-widgets/controls",
          "model_name": "HBoxModel",
          "model_module_version": "1.5.0",
          "state": {
            "_view_name": "HBoxView",
            "_dom_classes": [],
            "_model_name": "HBoxModel",
            "_view_module": "@jupyter-widgets/controls",
            "_model_module_version": "1.5.0",
            "_view_count": null,
            "_view_module_version": "1.5.0",
            "box_style": "",
            "layout": "IPY_MODEL_345d8a273c0a444d91c32a2a07490843",
            "_model_module": "@jupyter-widgets/controls",
            "children": [
              "IPY_MODEL_6c7b103192ae4dfcaca4b6b50cc99703",
              "IPY_MODEL_e346b65a55a3418ca19ff1e848756633"
            ]
          }
        },
        "345d8a273c0a444d91c32a2a07490843": {
          "model_module": "@jupyter-widgets/base",
          "model_name": "LayoutModel",
          "model_module_version": "1.2.0",
          "state": {
            "_view_name": "LayoutView",
            "grid_template_rows": null,
            "right": null,
            "justify_content": null,
            "_view_module": "@jupyter-widgets/base",
            "overflow": null,
            "_model_module_version": "1.2.0",
            "_view_count": null,
            "flex_flow": null,
            "width": null,
            "min_width": null,
            "border": null,
            "align_items": null,
            "bottom": null,
            "_model_module": "@jupyter-widgets/base",
            "top": null,
            "grid_column": null,
            "overflow_y": null,
            "overflow_x": null,
            "grid_auto_flow": null,
            "grid_area": null,
            "grid_template_columns": null,
            "flex": null,
            "_model_name": "LayoutModel",
            "justify_items": null,
            "grid_row": null,
            "max_height": null,
            "align_content": null,
            "visibility": null,
            "align_self": null,
            "height": null,
            "min_height": null,
            "padding": null,
            "grid_auto_rows": null,
            "grid_gap": null,
            "max_width": null,
            "order": null,
            "_view_module_version": "1.2.0",
            "grid_template_areas": null,
            "object_position": null,
            "object_fit": null,
            "grid_auto_columns": null,
            "margin": null,
            "display": null,
            "left": null
          }
        },
        "6c7b103192ae4dfcaca4b6b50cc99703": {
          "model_module": "@jupyter-widgets/controls",
          "model_name": "FloatProgressModel",
          "model_module_version": "1.5.0",
          "state": {
            "_view_name": "ProgressView",
            "style": "IPY_MODEL_9a33e703caff401caefa27f6e7dc1448",
            "_dom_classes": [],
            "description": "100%",
            "_model_name": "FloatProgressModel",
            "bar_style": "success",
            "max": 5346,
            "_view_module": "@jupyter-widgets/controls",
            "_model_module_version": "1.5.0",
            "value": 5346,
            "_view_count": null,
            "_view_module_version": "1.5.0",
            "orientation": "horizontal",
            "min": 0,
            "description_tooltip": null,
            "_model_module": "@jupyter-widgets/controls",
            "layout": "IPY_MODEL_ab7b0ca47c654155bdbd6f90dc6b371d"
          }
        },
        "e346b65a55a3418ca19ff1e848756633": {
          "model_module": "@jupyter-widgets/controls",
          "model_name": "HTMLModel",
          "model_module_version": "1.5.0",
          "state": {
            "_view_name": "HTMLView",
            "style": "IPY_MODEL_1d54002de8374d5f9c36030967e6bf15",
            "_dom_classes": [],
            "description": "",
            "_model_name": "HTMLModel",
            "placeholder": "​",
            "_view_module": "@jupyter-widgets/controls",
            "_model_module_version": "1.5.0",
            "value": " 5346/5346 [11:11&lt;00:00,  7.96ex/s]",
            "_view_count": null,
            "_view_module_version": "1.5.0",
            "description_tooltip": null,
            "_model_module": "@jupyter-widgets/controls",
            "layout": "IPY_MODEL_b5d685a85e064899b6a214522719216a"
          }
        },
        "9a33e703caff401caefa27f6e7dc1448": {
          "model_module": "@jupyter-widgets/controls",
          "model_name": "ProgressStyleModel",
          "model_module_version": "1.5.0",
          "state": {
            "_view_name": "StyleView",
            "_model_name": "ProgressStyleModel",
            "description_width": "initial",
            "_view_module": "@jupyter-widgets/base",
            "_model_module_version": "1.5.0",
            "_view_count": null,
            "_view_module_version": "1.2.0",
            "bar_color": null,
            "_model_module": "@jupyter-widgets/controls"
          }
        },
        "ab7b0ca47c654155bdbd6f90dc6b371d": {
          "model_module": "@jupyter-widgets/base",
          "model_name": "LayoutModel",
          "model_module_version": "1.2.0",
          "state": {
            "_view_name": "LayoutView",
            "grid_template_rows": null,
            "right": null,
            "justify_content": null,
            "_view_module": "@jupyter-widgets/base",
            "overflow": null,
            "_model_module_version": "1.2.0",
            "_view_count": null,
            "flex_flow": null,
            "width": null,
            "min_width": null,
            "border": null,
            "align_items": null,
            "bottom": null,
            "_model_module": "@jupyter-widgets/base",
            "top": null,
            "grid_column": null,
            "overflow_y": null,
            "overflow_x": null,
            "grid_auto_flow": null,
            "grid_area": null,
            "grid_template_columns": null,
            "flex": null,
            "_model_name": "LayoutModel",
            "justify_items": null,
            "grid_row": null,
            "max_height": null,
            "align_content": null,
            "visibility": null,
            "align_self": null,
            "height": null,
            "min_height": null,
            "padding": null,
            "grid_auto_rows": null,
            "grid_gap": null,
            "max_width": null,
            "order": null,
            "_view_module_version": "1.2.0",
            "grid_template_areas": null,
            "object_position": null,
            "object_fit": null,
            "grid_auto_columns": null,
            "margin": null,
            "display": null,
            "left": null
          }
        },
        "1d54002de8374d5f9c36030967e6bf15": {
          "model_module": "@jupyter-widgets/controls",
          "model_name": "DescriptionStyleModel",
          "model_module_version": "1.5.0",
          "state": {
            "_view_name": "StyleView",
            "_model_name": "DescriptionStyleModel",
            "description_width": "",
            "_view_module": "@jupyter-widgets/base",
            "_model_module_version": "1.5.0",
            "_view_count": null,
            "_view_module_version": "1.2.0",
            "_model_module": "@jupyter-widgets/controls"
          }
        },
        "b5d685a85e064899b6a214522719216a": {
          "model_module": "@jupyter-widgets/base",
          "model_name": "LayoutModel",
          "model_module_version": "1.2.0",
          "state": {
            "_view_name": "LayoutView",
            "grid_template_rows": null,
            "right": null,
            "justify_content": null,
            "_view_module": "@jupyter-widgets/base",
            "overflow": null,
            "_model_module_version": "1.2.0",
            "_view_count": null,
            "flex_flow": null,
            "width": null,
            "min_width": null,
            "border": null,
            "align_items": null,
            "bottom": null,
            "_model_module": "@jupyter-widgets/base",
            "top": null,
            "grid_column": null,
            "overflow_y": null,
            "overflow_x": null,
            "grid_auto_flow": null,
            "grid_area": null,
            "grid_template_columns": null,
            "flex": null,
            "_model_name": "LayoutModel",
            "justify_items": null,
            "grid_row": null,
            "max_height": null,
            "align_content": null,
            "visibility": null,
            "align_self": null,
            "height": null,
            "min_height": null,
            "padding": null,
            "grid_auto_rows": null,
            "grid_gap": null,
            "max_width": null,
            "order": null,
            "_view_module_version": "1.2.0",
            "grid_template_areas": null,
            "object_position": null,
            "object_fit": null,
            "grid_auto_columns": null,
            "margin": null,
            "display": null,
            "left": null
          }
        },
        "38a8851a1e3548319c5dbf43768f1fd5": {
          "model_module": "@jupyter-widgets/controls",
          "model_name": "HBoxModel",
          "model_module_version": "1.5.0",
          "state": {
            "_view_name": "HBoxView",
            "_dom_classes": [],
            "_model_name": "HBoxModel",
            "_view_module": "@jupyter-widgets/controls",
            "_model_module_version": "1.5.0",
            "_view_count": null,
            "_view_module_version": "1.5.0",
            "box_style": "",
            "layout": "IPY_MODEL_c1194f2afa234261a00c93b9c69d4528",
            "_model_module": "@jupyter-widgets/controls",
            "children": [
              "IPY_MODEL_8681daf5336148d6ad7d9f5e3f779bec",
              "IPY_MODEL_849495a5b2a74000b67dbff1ef6ec4db"
            ]
          }
        },
        "c1194f2afa234261a00c93b9c69d4528": {
          "model_module": "@jupyter-widgets/base",
          "model_name": "LayoutModel",
          "model_module_version": "1.2.0",
          "state": {
            "_view_name": "LayoutView",
            "grid_template_rows": null,
            "right": null,
            "justify_content": null,
            "_view_module": "@jupyter-widgets/base",
            "overflow": null,
            "_model_module_version": "1.2.0",
            "_view_count": null,
            "flex_flow": null,
            "width": null,
            "min_width": null,
            "border": null,
            "align_items": null,
            "bottom": null,
            "_model_module": "@jupyter-widgets/base",
            "top": null,
            "grid_column": null,
            "overflow_y": null,
            "overflow_x": null,
            "grid_auto_flow": null,
            "grid_area": null,
            "grid_template_columns": null,
            "flex": null,
            "_model_name": "LayoutModel",
            "justify_items": null,
            "grid_row": null,
            "max_height": null,
            "align_content": null,
            "visibility": null,
            "align_self": null,
            "height": null,
            "min_height": null,
            "padding": null,
            "grid_auto_rows": null,
            "grid_gap": null,
            "max_width": null,
            "order": null,
            "_view_module_version": "1.2.0",
            "grid_template_areas": null,
            "object_position": null,
            "object_fit": null,
            "grid_auto_columns": null,
            "margin": null,
            "display": null,
            "left": null
          }
        },
        "8681daf5336148d6ad7d9f5e3f779bec": {
          "model_module": "@jupyter-widgets/controls",
          "model_name": "FloatProgressModel",
          "model_module_version": "1.5.0",
          "state": {
            "_view_name": "ProgressView",
            "style": "IPY_MODEL_3ff7ccd75b564567baa3fde4a496538a",
            "_dom_classes": [],
            "description": "100%",
            "_model_name": "FloatProgressModel",
            "bar_style": "success",
            "max": 1337,
            "_view_module": "@jupyter-widgets/controls",
            "_model_module_version": "1.5.0",
            "value": 1337,
            "_view_count": null,
            "_view_module_version": "1.5.0",
            "orientation": "horizontal",
            "min": 0,
            "description_tooltip": null,
            "_model_module": "@jupyter-widgets/controls",
            "layout": "IPY_MODEL_527ff02b5f1e43b6b46c5777f0af2416"
          }
        },
        "849495a5b2a74000b67dbff1ef6ec4db": {
          "model_module": "@jupyter-widgets/controls",
          "model_name": "HTMLModel",
          "model_module_version": "1.5.0",
          "state": {
            "_view_name": "HTMLView",
            "style": "IPY_MODEL_dd3418ebdf2648a39a1018a4041db91e",
            "_dom_classes": [],
            "description": "",
            "_model_name": "HTMLModel",
            "placeholder": "​",
            "_view_module": "@jupyter-widgets/controls",
            "_model_module_version": "1.5.0",
            "value": " 1337/1337 [06:53&lt;00:00,  3.23ex/s]",
            "_view_count": null,
            "_view_module_version": "1.5.0",
            "description_tooltip": null,
            "_model_module": "@jupyter-widgets/controls",
            "layout": "IPY_MODEL_f5eab5685ff24e5e9f94e8fee8ef8966"
          }
        },
        "3ff7ccd75b564567baa3fde4a496538a": {
          "model_module": "@jupyter-widgets/controls",
          "model_name": "ProgressStyleModel",
          "model_module_version": "1.5.0",
          "state": {
            "_view_name": "StyleView",
            "_model_name": "ProgressStyleModel",
            "description_width": "initial",
            "_view_module": "@jupyter-widgets/base",
            "_model_module_version": "1.5.0",
            "_view_count": null,
            "_view_module_version": "1.2.0",
            "bar_color": null,
            "_model_module": "@jupyter-widgets/controls"
          }
        },
        "527ff02b5f1e43b6b46c5777f0af2416": {
          "model_module": "@jupyter-widgets/base",
          "model_name": "LayoutModel",
          "model_module_version": "1.2.0",
          "state": {
            "_view_name": "LayoutView",
            "grid_template_rows": null,
            "right": null,
            "justify_content": null,
            "_view_module": "@jupyter-widgets/base",
            "overflow": null,
            "_model_module_version": "1.2.0",
            "_view_count": null,
            "flex_flow": null,
            "width": null,
            "min_width": null,
            "border": null,
            "align_items": null,
            "bottom": null,
            "_model_module": "@jupyter-widgets/base",
            "top": null,
            "grid_column": null,
            "overflow_y": null,
            "overflow_x": null,
            "grid_auto_flow": null,
            "grid_area": null,
            "grid_template_columns": null,
            "flex": null,
            "_model_name": "LayoutModel",
            "justify_items": null,
            "grid_row": null,
            "max_height": null,
            "align_content": null,
            "visibility": null,
            "align_self": null,
            "height": null,
            "min_height": null,
            "padding": null,
            "grid_auto_rows": null,
            "grid_gap": null,
            "max_width": null,
            "order": null,
            "_view_module_version": "1.2.0",
            "grid_template_areas": null,
            "object_position": null,
            "object_fit": null,
            "grid_auto_columns": null,
            "margin": null,
            "display": null,
            "left": null
          }
        },
        "dd3418ebdf2648a39a1018a4041db91e": {
          "model_module": "@jupyter-widgets/controls",
          "model_name": "DescriptionStyleModel",
          "model_module_version": "1.5.0",
          "state": {
            "_view_name": "StyleView",
            "_model_name": "DescriptionStyleModel",
            "description_width": "",
            "_view_module": "@jupyter-widgets/base",
            "_model_module_version": "1.5.0",
            "_view_count": null,
            "_view_module_version": "1.2.0",
            "_model_module": "@jupyter-widgets/controls"
          }
        },
        "f5eab5685ff24e5e9f94e8fee8ef8966": {
          "model_module": "@jupyter-widgets/base",
          "model_name": "LayoutModel",
          "model_module_version": "1.2.0",
          "state": {
            "_view_name": "LayoutView",
            "grid_template_rows": null,
            "right": null,
            "justify_content": null,
            "_view_module": "@jupyter-widgets/base",
            "overflow": null,
            "_model_module_version": "1.2.0",
            "_view_count": null,
            "flex_flow": null,
            "width": null,
            "min_width": null,
            "border": null,
            "align_items": null,
            "bottom": null,
            "_model_module": "@jupyter-widgets/base",
            "top": null,
            "grid_column": null,
            "overflow_y": null,
            "overflow_x": null,
            "grid_auto_flow": null,
            "grid_area": null,
            "grid_template_columns": null,
            "flex": null,
            "_model_name": "LayoutModel",
            "justify_items": null,
            "grid_row": null,
            "max_height": null,
            "align_content": null,
            "visibility": null,
            "align_self": null,
            "height": null,
            "min_height": null,
            "padding": null,
            "grid_auto_rows": null,
            "grid_gap": null,
            "max_width": null,
            "order": null,
            "_view_module_version": "1.2.0",
            "grid_template_areas": null,
            "object_position": null,
            "object_fit": null,
            "grid_auto_columns": null,
            "margin": null,
            "display": null,
            "left": null
          }
        },
        "9e124c6be9f34d8a865e1a44329ffd8c": {
          "model_module": "@jupyter-widgets/controls",
          "model_name": "HBoxModel",
          "model_module_version": "1.5.0",
          "state": {
            "_view_name": "HBoxView",
            "_dom_classes": [],
            "_model_name": "HBoxModel",
            "_view_module": "@jupyter-widgets/controls",
            "_model_module_version": "1.5.0",
            "_view_count": null,
            "_view_module_version": "1.5.0",
            "box_style": "",
            "layout": "IPY_MODEL_9a8fba7dabec4d789c1cd7c2630937b8",
            "_model_module": "@jupyter-widgets/controls",
            "children": [
              "IPY_MODEL_2e294e6fbc6e4e0faf5283277b0f0bd4",
              "IPY_MODEL_5103997704e04f97bcd374c43f708cbb"
            ]
          }
        },
        "9a8fba7dabec4d789c1cd7c2630937b8": {
          "model_module": "@jupyter-widgets/base",
          "model_name": "LayoutModel",
          "model_module_version": "1.2.0",
          "state": {
            "_view_name": "LayoutView",
            "grid_template_rows": null,
            "right": null,
            "justify_content": null,
            "_view_module": "@jupyter-widgets/base",
            "overflow": null,
            "_model_module_version": "1.2.0",
            "_view_count": null,
            "flex_flow": null,
            "width": null,
            "min_width": null,
            "border": null,
            "align_items": null,
            "bottom": null,
            "_model_module": "@jupyter-widgets/base",
            "top": null,
            "grid_column": null,
            "overflow_y": null,
            "overflow_x": null,
            "grid_auto_flow": null,
            "grid_area": null,
            "grid_template_columns": null,
            "flex": null,
            "_model_name": "LayoutModel",
            "justify_items": null,
            "grid_row": null,
            "max_height": null,
            "align_content": null,
            "visibility": null,
            "align_self": null,
            "height": null,
            "min_height": null,
            "padding": null,
            "grid_auto_rows": null,
            "grid_gap": null,
            "max_width": null,
            "order": null,
            "_view_module_version": "1.2.0",
            "grid_template_areas": null,
            "object_position": null,
            "object_fit": null,
            "grid_auto_columns": null,
            "margin": null,
            "display": null,
            "left": null
          }
        },
        "2e294e6fbc6e4e0faf5283277b0f0bd4": {
          "model_module": "@jupyter-widgets/controls",
          "model_name": "FloatProgressModel",
          "model_module_version": "1.5.0",
          "state": {
            "_view_name": "ProgressView",
            "style": "IPY_MODEL_1e8312ce485b4e2caa35cacfd56bb03c",
            "_dom_classes": [],
            "description": "#0: 100%",
            "_model_name": "FloatProgressModel",
            "bar_style": "success",
            "max": 168,
            "_view_module": "@jupyter-widgets/controls",
            "_model_module_version": "1.5.0",
            "value": 168,
            "_view_count": null,
            "_view_module_version": "1.5.0",
            "orientation": "horizontal",
            "min": 0,
            "description_tooltip": null,
            "_model_module": "@jupyter-widgets/controls",
            "layout": "IPY_MODEL_af86ba0581864f7196d00f20892750cb"
          }
        },
        "5103997704e04f97bcd374c43f708cbb": {
          "model_module": "@jupyter-widgets/controls",
          "model_name": "HTMLModel",
          "model_module_version": "1.5.0",
          "state": {
            "_view_name": "HTMLView",
            "style": "IPY_MODEL_fd3e170b532a41f38cf6c9839bde6d25",
            "_dom_classes": [],
            "description": "",
            "_model_name": "HTMLModel",
            "placeholder": "​",
            "_view_module": "@jupyter-widgets/controls",
            "_model_module_version": "1.5.0",
            "value": " 168/168 [01:55&lt;00:00,  1.45ba/s]",
            "_view_count": null,
            "_view_module_version": "1.5.0",
            "description_tooltip": null,
            "_model_module": "@jupyter-widgets/controls",
            "layout": "IPY_MODEL_011483f5758a4984a8d61113ca000da8"
          }
        },
        "1e8312ce485b4e2caa35cacfd56bb03c": {
          "model_module": "@jupyter-widgets/controls",
          "model_name": "ProgressStyleModel",
          "model_module_version": "1.5.0",
          "state": {
            "_view_name": "StyleView",
            "_model_name": "ProgressStyleModel",
            "description_width": "initial",
            "_view_module": "@jupyter-widgets/base",
            "_model_module_version": "1.5.0",
            "_view_count": null,
            "_view_module_version": "1.2.0",
            "bar_color": null,
            "_model_module": "@jupyter-widgets/controls"
          }
        },
        "af86ba0581864f7196d00f20892750cb": {
          "model_module": "@jupyter-widgets/base",
          "model_name": "LayoutModel",
          "model_module_version": "1.2.0",
          "state": {
            "_view_name": "LayoutView",
            "grid_template_rows": null,
            "right": null,
            "justify_content": null,
            "_view_module": "@jupyter-widgets/base",
            "overflow": null,
            "_model_module_version": "1.2.0",
            "_view_count": null,
            "flex_flow": null,
            "width": null,
            "min_width": null,
            "border": null,
            "align_items": null,
            "bottom": null,
            "_model_module": "@jupyter-widgets/base",
            "top": null,
            "grid_column": null,
            "overflow_y": null,
            "overflow_x": null,
            "grid_auto_flow": null,
            "grid_area": null,
            "grid_template_columns": null,
            "flex": null,
            "_model_name": "LayoutModel",
            "justify_items": null,
            "grid_row": null,
            "max_height": null,
            "align_content": null,
            "visibility": null,
            "align_self": null,
            "height": null,
            "min_height": null,
            "padding": null,
            "grid_auto_rows": null,
            "grid_gap": null,
            "max_width": null,
            "order": null,
            "_view_module_version": "1.2.0",
            "grid_template_areas": null,
            "object_position": null,
            "object_fit": null,
            "grid_auto_columns": null,
            "margin": null,
            "display": null,
            "left": null
          }
        },
        "fd3e170b532a41f38cf6c9839bde6d25": {
          "model_module": "@jupyter-widgets/controls",
          "model_name": "DescriptionStyleModel",
          "model_module_version": "1.5.0",
          "state": {
            "_view_name": "StyleView",
            "_model_name": "DescriptionStyleModel",
            "description_width": "",
            "_view_module": "@jupyter-widgets/base",
            "_model_module_version": "1.5.0",
            "_view_count": null,
            "_view_module_version": "1.2.0",
            "_model_module": "@jupyter-widgets/controls"
          }
        },
        "011483f5758a4984a8d61113ca000da8": {
          "model_module": "@jupyter-widgets/base",
          "model_name": "LayoutModel",
          "model_module_version": "1.2.0",
          "state": {
            "_view_name": "LayoutView",
            "grid_template_rows": null,
            "right": null,
            "justify_content": null,
            "_view_module": "@jupyter-widgets/base",
            "overflow": null,
            "_model_module_version": "1.2.0",
            "_view_count": null,
            "flex_flow": null,
            "width": null,
            "min_width": null,
            "border": null,
            "align_items": null,
            "bottom": null,
            "_model_module": "@jupyter-widgets/base",
            "top": null,
            "grid_column": null,
            "overflow_y": null,
            "overflow_x": null,
            "grid_auto_flow": null,
            "grid_area": null,
            "grid_template_columns": null,
            "flex": null,
            "_model_name": "LayoutModel",
            "justify_items": null,
            "grid_row": null,
            "max_height": null,
            "align_content": null,
            "visibility": null,
            "align_self": null,
            "height": null,
            "min_height": null,
            "padding": null,
            "grid_auto_rows": null,
            "grid_gap": null,
            "max_width": null,
            "order": null,
            "_view_module_version": "1.2.0",
            "grid_template_areas": null,
            "object_position": null,
            "object_fit": null,
            "grid_auto_columns": null,
            "margin": null,
            "display": null,
            "left": null
          }
        },
        "0978cd572a1c46fd9ee9756795b873cf": {
          "model_module": "@jupyter-widgets/controls",
          "model_name": "HBoxModel",
          "model_module_version": "1.5.0",
          "state": {
            "_view_name": "HBoxView",
            "_dom_classes": [],
            "_model_name": "HBoxModel",
            "_view_module": "@jupyter-widgets/controls",
            "_model_module_version": "1.5.0",
            "_view_count": null,
            "_view_module_version": "1.5.0",
            "box_style": "",
            "layout": "IPY_MODEL_6c376f953dac4c2b802a2eb167104546",
            "_model_module": "@jupyter-widgets/controls",
            "children": [
              "IPY_MODEL_8e058713ab404b78a82e7e194545517d",
              "IPY_MODEL_1d976d71bc02435db492cb2198f48577"
            ]
          }
        },
        "6c376f953dac4c2b802a2eb167104546": {
          "model_module": "@jupyter-widgets/base",
          "model_name": "LayoutModel",
          "model_module_version": "1.2.0",
          "state": {
            "_view_name": "LayoutView",
            "grid_template_rows": null,
            "right": null,
            "justify_content": null,
            "_view_module": "@jupyter-widgets/base",
            "overflow": null,
            "_model_module_version": "1.2.0",
            "_view_count": null,
            "flex_flow": null,
            "width": null,
            "min_width": null,
            "border": null,
            "align_items": null,
            "bottom": null,
            "_model_module": "@jupyter-widgets/base",
            "top": null,
            "grid_column": null,
            "overflow_y": null,
            "overflow_x": null,
            "grid_auto_flow": null,
            "grid_area": null,
            "grid_template_columns": null,
            "flex": null,
            "_model_name": "LayoutModel",
            "justify_items": null,
            "grid_row": null,
            "max_height": null,
            "align_content": null,
            "visibility": null,
            "align_self": null,
            "height": null,
            "min_height": null,
            "padding": null,
            "grid_auto_rows": null,
            "grid_gap": null,
            "max_width": null,
            "order": null,
            "_view_module_version": "1.2.0",
            "grid_template_areas": null,
            "object_position": null,
            "object_fit": null,
            "grid_auto_columns": null,
            "margin": null,
            "display": null,
            "left": null
          }
        },
        "8e058713ab404b78a82e7e194545517d": {
          "model_module": "@jupyter-widgets/controls",
          "model_name": "FloatProgressModel",
          "model_module_version": "1.5.0",
          "state": {
            "_view_name": "ProgressView",
            "style": "IPY_MODEL_63bb209642b347618a484a3e94f150e7",
            "_dom_classes": [],
            "description": "#3: 100%",
            "_model_name": "FloatProgressModel",
            "bar_style": "success",
            "max": 167,
            "_view_module": "@jupyter-widgets/controls",
            "_model_module_version": "1.5.0",
            "value": 167,
            "_view_count": null,
            "_view_module_version": "1.5.0",
            "orientation": "horizontal",
            "min": 0,
            "description_tooltip": null,
            "_model_module": "@jupyter-widgets/controls",
            "layout": "IPY_MODEL_9c6e0e0f85844cab92fce58d17ec7884"
          }
        },
        "1d976d71bc02435db492cb2198f48577": {
          "model_module": "@jupyter-widgets/controls",
          "model_name": "HTMLModel",
          "model_module_version": "1.5.0",
          "state": {
            "_view_name": "HTMLView",
            "style": "IPY_MODEL_119dcf6f8a964712990f2332a4a94089",
            "_dom_classes": [],
            "description": "",
            "_model_name": "HTMLModel",
            "placeholder": "​",
            "_view_module": "@jupyter-widgets/controls",
            "_model_module_version": "1.5.0",
            "value": " 167/167 [01:57&lt;00:00,  1.42ba/s]",
            "_view_count": null,
            "_view_module_version": "1.5.0",
            "description_tooltip": null,
            "_model_module": "@jupyter-widgets/controls",
            "layout": "IPY_MODEL_3e8ee8395a4747b5924142db8357ec93"
          }
        },
        "63bb209642b347618a484a3e94f150e7": {
          "model_module": "@jupyter-widgets/controls",
          "model_name": "ProgressStyleModel",
          "model_module_version": "1.5.0",
          "state": {
            "_view_name": "StyleView",
            "_model_name": "ProgressStyleModel",
            "description_width": "initial",
            "_view_module": "@jupyter-widgets/base",
            "_model_module_version": "1.5.0",
            "_view_count": null,
            "_view_module_version": "1.2.0",
            "bar_color": null,
            "_model_module": "@jupyter-widgets/controls"
          }
        },
        "9c6e0e0f85844cab92fce58d17ec7884": {
          "model_module": "@jupyter-widgets/base",
          "model_name": "LayoutModel",
          "model_module_version": "1.2.0",
          "state": {
            "_view_name": "LayoutView",
            "grid_template_rows": null,
            "right": null,
            "justify_content": null,
            "_view_module": "@jupyter-widgets/base",
            "overflow": null,
            "_model_module_version": "1.2.0",
            "_view_count": null,
            "flex_flow": null,
            "width": null,
            "min_width": null,
            "border": null,
            "align_items": null,
            "bottom": null,
            "_model_module": "@jupyter-widgets/base",
            "top": null,
            "grid_column": null,
            "overflow_y": null,
            "overflow_x": null,
            "grid_auto_flow": null,
            "grid_area": null,
            "grid_template_columns": null,
            "flex": null,
            "_model_name": "LayoutModel",
            "justify_items": null,
            "grid_row": null,
            "max_height": null,
            "align_content": null,
            "visibility": null,
            "align_self": null,
            "height": null,
            "min_height": null,
            "padding": null,
            "grid_auto_rows": null,
            "grid_gap": null,
            "max_width": null,
            "order": null,
            "_view_module_version": "1.2.0",
            "grid_template_areas": null,
            "object_position": null,
            "object_fit": null,
            "grid_auto_columns": null,
            "margin": null,
            "display": null,
            "left": null
          }
        },
        "119dcf6f8a964712990f2332a4a94089": {
          "model_module": "@jupyter-widgets/controls",
          "model_name": "DescriptionStyleModel",
          "model_module_version": "1.5.0",
          "state": {
            "_view_name": "StyleView",
            "_model_name": "DescriptionStyleModel",
            "description_width": "",
            "_view_module": "@jupyter-widgets/base",
            "_model_module_version": "1.5.0",
            "_view_count": null,
            "_view_module_version": "1.2.0",
            "_model_module": "@jupyter-widgets/controls"
          }
        },
        "3e8ee8395a4747b5924142db8357ec93": {
          "model_module": "@jupyter-widgets/base",
          "model_name": "LayoutModel",
          "model_module_version": "1.2.0",
          "state": {
            "_view_name": "LayoutView",
            "grid_template_rows": null,
            "right": null,
            "justify_content": null,
            "_view_module": "@jupyter-widgets/base",
            "overflow": null,
            "_model_module_version": "1.2.0",
            "_view_count": null,
            "flex_flow": null,
            "width": null,
            "min_width": null,
            "border": null,
            "align_items": null,
            "bottom": null,
            "_model_module": "@jupyter-widgets/base",
            "top": null,
            "grid_column": null,
            "overflow_y": null,
            "overflow_x": null,
            "grid_auto_flow": null,
            "grid_area": null,
            "grid_template_columns": null,
            "flex": null,
            "_model_name": "LayoutModel",
            "justify_items": null,
            "grid_row": null,
            "max_height": null,
            "align_content": null,
            "visibility": null,
            "align_self": null,
            "height": null,
            "min_height": null,
            "padding": null,
            "grid_auto_rows": null,
            "grid_gap": null,
            "max_width": null,
            "order": null,
            "_view_module_version": "1.2.0",
            "grid_template_areas": null,
            "object_position": null,
            "object_fit": null,
            "grid_auto_columns": null,
            "margin": null,
            "display": null,
            "left": null
          }
        },
        "a419250a1d0247148c9884819f5557af": {
          "model_module": "@jupyter-widgets/controls",
          "model_name": "HBoxModel",
          "model_module_version": "1.5.0",
          "state": {
            "_view_name": "HBoxView",
            "_dom_classes": [],
            "_model_name": "HBoxModel",
            "_view_module": "@jupyter-widgets/controls",
            "_model_module_version": "1.5.0",
            "_view_count": null,
            "_view_module_version": "1.5.0",
            "box_style": "",
            "layout": "IPY_MODEL_4b854d10d9994c90a3c8fbfb4250301e",
            "_model_module": "@jupyter-widgets/controls",
            "children": [
              "IPY_MODEL_d973f9478e854086ab8b7811f32ed6f3",
              "IPY_MODEL_53af9dcd48424c558cef108abd282e37"
            ]
          }
        },
        "4b854d10d9994c90a3c8fbfb4250301e": {
          "model_module": "@jupyter-widgets/base",
          "model_name": "LayoutModel",
          "model_module_version": "1.2.0",
          "state": {
            "_view_name": "LayoutView",
            "grid_template_rows": null,
            "right": null,
            "justify_content": null,
            "_view_module": "@jupyter-widgets/base",
            "overflow": null,
            "_model_module_version": "1.2.0",
            "_view_count": null,
            "flex_flow": null,
            "width": null,
            "min_width": null,
            "border": null,
            "align_items": null,
            "bottom": null,
            "_model_module": "@jupyter-widgets/base",
            "top": null,
            "grid_column": null,
            "overflow_y": null,
            "overflow_x": null,
            "grid_auto_flow": null,
            "grid_area": null,
            "grid_template_columns": null,
            "flex": null,
            "_model_name": "LayoutModel",
            "justify_items": null,
            "grid_row": null,
            "max_height": null,
            "align_content": null,
            "visibility": null,
            "align_self": null,
            "height": null,
            "min_height": null,
            "padding": null,
            "grid_auto_rows": null,
            "grid_gap": null,
            "max_width": null,
            "order": null,
            "_view_module_version": "1.2.0",
            "grid_template_areas": null,
            "object_position": null,
            "object_fit": null,
            "grid_auto_columns": null,
            "margin": null,
            "display": null,
            "left": null
          }
        },
        "d973f9478e854086ab8b7811f32ed6f3": {
          "model_module": "@jupyter-widgets/controls",
          "model_name": "FloatProgressModel",
          "model_module_version": "1.5.0",
          "state": {
            "_view_name": "ProgressView",
            "style": "IPY_MODEL_573162ddb64c4a30a18ea2404eaa1e59",
            "_dom_classes": [],
            "description": "#2: 100%",
            "_model_name": "FloatProgressModel",
            "bar_style": "success",
            "max": 167,
            "_view_module": "@jupyter-widgets/controls",
            "_model_module_version": "1.5.0",
            "value": 167,
            "_view_count": null,
            "_view_module_version": "1.5.0",
            "orientation": "horizontal",
            "min": 0,
            "description_tooltip": null,
            "_model_module": "@jupyter-widgets/controls",
            "layout": "IPY_MODEL_4b702d3bf125483fba485e1dfeec0eb5"
          }
        },
        "53af9dcd48424c558cef108abd282e37": {
          "model_module": "@jupyter-widgets/controls",
          "model_name": "HTMLModel",
          "model_module_version": "1.5.0",
          "state": {
            "_view_name": "HTMLView",
            "style": "IPY_MODEL_209938e04edf408588bdfe5e46bb16d1",
            "_dom_classes": [],
            "description": "",
            "_model_name": "HTMLModel",
            "placeholder": "​",
            "_view_module": "@jupyter-widgets/controls",
            "_model_module_version": "1.5.0",
            "value": " 167/167 [01:56&lt;00:00,  1.43ba/s]",
            "_view_count": null,
            "_view_module_version": "1.5.0",
            "description_tooltip": null,
            "_model_module": "@jupyter-widgets/controls",
            "layout": "IPY_MODEL_5bd78e28ed554c3eb264336e798bf415"
          }
        },
        "573162ddb64c4a30a18ea2404eaa1e59": {
          "model_module": "@jupyter-widgets/controls",
          "model_name": "ProgressStyleModel",
          "model_module_version": "1.5.0",
          "state": {
            "_view_name": "StyleView",
            "_model_name": "ProgressStyleModel",
            "description_width": "initial",
            "_view_module": "@jupyter-widgets/base",
            "_model_module_version": "1.5.0",
            "_view_count": null,
            "_view_module_version": "1.2.0",
            "bar_color": null,
            "_model_module": "@jupyter-widgets/controls"
          }
        },
        "4b702d3bf125483fba485e1dfeec0eb5": {
          "model_module": "@jupyter-widgets/base",
          "model_name": "LayoutModel",
          "model_module_version": "1.2.0",
          "state": {
            "_view_name": "LayoutView",
            "grid_template_rows": null,
            "right": null,
            "justify_content": null,
            "_view_module": "@jupyter-widgets/base",
            "overflow": null,
            "_model_module_version": "1.2.0",
            "_view_count": null,
            "flex_flow": null,
            "width": null,
            "min_width": null,
            "border": null,
            "align_items": null,
            "bottom": null,
            "_model_module": "@jupyter-widgets/base",
            "top": null,
            "grid_column": null,
            "overflow_y": null,
            "overflow_x": null,
            "grid_auto_flow": null,
            "grid_area": null,
            "grid_template_columns": null,
            "flex": null,
            "_model_name": "LayoutModel",
            "justify_items": null,
            "grid_row": null,
            "max_height": null,
            "align_content": null,
            "visibility": null,
            "align_self": null,
            "height": null,
            "min_height": null,
            "padding": null,
            "grid_auto_rows": null,
            "grid_gap": null,
            "max_width": null,
            "order": null,
            "_view_module_version": "1.2.0",
            "grid_template_areas": null,
            "object_position": null,
            "object_fit": null,
            "grid_auto_columns": null,
            "margin": null,
            "display": null,
            "left": null
          }
        },
        "209938e04edf408588bdfe5e46bb16d1": {
          "model_module": "@jupyter-widgets/controls",
          "model_name": "DescriptionStyleModel",
          "model_module_version": "1.5.0",
          "state": {
            "_view_name": "StyleView",
            "_model_name": "DescriptionStyleModel",
            "description_width": "",
            "_view_module": "@jupyter-widgets/base",
            "_model_module_version": "1.5.0",
            "_view_count": null,
            "_view_module_version": "1.2.0",
            "_model_module": "@jupyter-widgets/controls"
          }
        },
        "5bd78e28ed554c3eb264336e798bf415": {
          "model_module": "@jupyter-widgets/base",
          "model_name": "LayoutModel",
          "model_module_version": "1.2.0",
          "state": {
            "_view_name": "LayoutView",
            "grid_template_rows": null,
            "right": null,
            "justify_content": null,
            "_view_module": "@jupyter-widgets/base",
            "overflow": null,
            "_model_module_version": "1.2.0",
            "_view_count": null,
            "flex_flow": null,
            "width": null,
            "min_width": null,
            "border": null,
            "align_items": null,
            "bottom": null,
            "_model_module": "@jupyter-widgets/base",
            "top": null,
            "grid_column": null,
            "overflow_y": null,
            "overflow_x": null,
            "grid_auto_flow": null,
            "grid_area": null,
            "grid_template_columns": null,
            "flex": null,
            "_model_name": "LayoutModel",
            "justify_items": null,
            "grid_row": null,
            "max_height": null,
            "align_content": null,
            "visibility": null,
            "align_self": null,
            "height": null,
            "min_height": null,
            "padding": null,
            "grid_auto_rows": null,
            "grid_gap": null,
            "max_width": null,
            "order": null,
            "_view_module_version": "1.2.0",
            "grid_template_areas": null,
            "object_position": null,
            "object_fit": null,
            "grid_auto_columns": null,
            "margin": null,
            "display": null,
            "left": null
          }
        },
        "7b3a6b1e5e2845ebbfc67618b374093f": {
          "model_module": "@jupyter-widgets/controls",
          "model_name": "HBoxModel",
          "model_module_version": "1.5.0",
          "state": {
            "_view_name": "HBoxView",
            "_dom_classes": [],
            "_model_name": "HBoxModel",
            "_view_module": "@jupyter-widgets/controls",
            "_model_module_version": "1.5.0",
            "_view_count": null,
            "_view_module_version": "1.5.0",
            "box_style": "",
            "layout": "IPY_MODEL_5227f1f0400146dcb524eb2d10000e7c",
            "_model_module": "@jupyter-widgets/controls",
            "children": [
              "IPY_MODEL_0de97d7ce4a648b2a987a1234a0afce6",
              "IPY_MODEL_1960a3bfac7143d59d80cdb6f30948b3"
            ]
          }
        },
        "5227f1f0400146dcb524eb2d10000e7c": {
          "model_module": "@jupyter-widgets/base",
          "model_name": "LayoutModel",
          "model_module_version": "1.2.0",
          "state": {
            "_view_name": "LayoutView",
            "grid_template_rows": null,
            "right": null,
            "justify_content": null,
            "_view_module": "@jupyter-widgets/base",
            "overflow": null,
            "_model_module_version": "1.2.0",
            "_view_count": null,
            "flex_flow": null,
            "width": null,
            "min_width": null,
            "border": null,
            "align_items": null,
            "bottom": null,
            "_model_module": "@jupyter-widgets/base",
            "top": null,
            "grid_column": null,
            "overflow_y": null,
            "overflow_x": null,
            "grid_auto_flow": null,
            "grid_area": null,
            "grid_template_columns": null,
            "flex": null,
            "_model_name": "LayoutModel",
            "justify_items": null,
            "grid_row": null,
            "max_height": null,
            "align_content": null,
            "visibility": null,
            "align_self": null,
            "height": null,
            "min_height": null,
            "padding": null,
            "grid_auto_rows": null,
            "grid_gap": null,
            "max_width": null,
            "order": null,
            "_view_module_version": "1.2.0",
            "grid_template_areas": null,
            "object_position": null,
            "object_fit": null,
            "grid_auto_columns": null,
            "margin": null,
            "display": null,
            "left": null
          }
        },
        "0de97d7ce4a648b2a987a1234a0afce6": {
          "model_module": "@jupyter-widgets/controls",
          "model_name": "FloatProgressModel",
          "model_module_version": "1.5.0",
          "state": {
            "_view_name": "ProgressView",
            "style": "IPY_MODEL_c567c90ebce14dbb8a6dcc4f7f3cd216",
            "_dom_classes": [],
            "description": "#1: 100%",
            "_model_name": "FloatProgressModel",
            "bar_style": "success",
            "max": 168,
            "_view_module": "@jupyter-widgets/controls",
            "_model_module_version": "1.5.0",
            "value": 168,
            "_view_count": null,
            "_view_module_version": "1.5.0",
            "orientation": "horizontal",
            "min": 0,
            "description_tooltip": null,
            "_model_module": "@jupyter-widgets/controls",
            "layout": "IPY_MODEL_01eca0c8929240f69056c8397a1603e3"
          }
        },
        "1960a3bfac7143d59d80cdb6f30948b3": {
          "model_module": "@jupyter-widgets/controls",
          "model_name": "HTMLModel",
          "model_module_version": "1.5.0",
          "state": {
            "_view_name": "HTMLView",
            "style": "IPY_MODEL_8e71837ef374456db723d34e4a1a0286",
            "_dom_classes": [],
            "description": "",
            "_model_name": "HTMLModel",
            "placeholder": "​",
            "_view_module": "@jupyter-widgets/controls",
            "_model_module_version": "1.5.0",
            "value": " 168/168 [01:56&lt;00:00,  1.44ba/s]",
            "_view_count": null,
            "_view_module_version": "1.5.0",
            "description_tooltip": null,
            "_model_module": "@jupyter-widgets/controls",
            "layout": "IPY_MODEL_83df6cf446274a1ba422d6008e485c6b"
          }
        },
        "c567c90ebce14dbb8a6dcc4f7f3cd216": {
          "model_module": "@jupyter-widgets/controls",
          "model_name": "ProgressStyleModel",
          "model_module_version": "1.5.0",
          "state": {
            "_view_name": "StyleView",
            "_model_name": "ProgressStyleModel",
            "description_width": "initial",
            "_view_module": "@jupyter-widgets/base",
            "_model_module_version": "1.5.0",
            "_view_count": null,
            "_view_module_version": "1.2.0",
            "bar_color": null,
            "_model_module": "@jupyter-widgets/controls"
          }
        },
        "01eca0c8929240f69056c8397a1603e3": {
          "model_module": "@jupyter-widgets/base",
          "model_name": "LayoutModel",
          "model_module_version": "1.2.0",
          "state": {
            "_view_name": "LayoutView",
            "grid_template_rows": null,
            "right": null,
            "justify_content": null,
            "_view_module": "@jupyter-widgets/base",
            "overflow": null,
            "_model_module_version": "1.2.0",
            "_view_count": null,
            "flex_flow": null,
            "width": null,
            "min_width": null,
            "border": null,
            "align_items": null,
            "bottom": null,
            "_model_module": "@jupyter-widgets/base",
            "top": null,
            "grid_column": null,
            "overflow_y": null,
            "overflow_x": null,
            "grid_auto_flow": null,
            "grid_area": null,
            "grid_template_columns": null,
            "flex": null,
            "_model_name": "LayoutModel",
            "justify_items": null,
            "grid_row": null,
            "max_height": null,
            "align_content": null,
            "visibility": null,
            "align_self": null,
            "height": null,
            "min_height": null,
            "padding": null,
            "grid_auto_rows": null,
            "grid_gap": null,
            "max_width": null,
            "order": null,
            "_view_module_version": "1.2.0",
            "grid_template_areas": null,
            "object_position": null,
            "object_fit": null,
            "grid_auto_columns": null,
            "margin": null,
            "display": null,
            "left": null
          }
        },
        "8e71837ef374456db723d34e4a1a0286": {
          "model_module": "@jupyter-widgets/controls",
          "model_name": "DescriptionStyleModel",
          "model_module_version": "1.5.0",
          "state": {
            "_view_name": "StyleView",
            "_model_name": "DescriptionStyleModel",
            "description_width": "",
            "_view_module": "@jupyter-widgets/base",
            "_model_module_version": "1.5.0",
            "_view_count": null,
            "_view_module_version": "1.2.0",
            "_model_module": "@jupyter-widgets/controls"
          }
        },
        "83df6cf446274a1ba422d6008e485c6b": {
          "model_module": "@jupyter-widgets/base",
          "model_name": "LayoutModel",
          "model_module_version": "1.2.0",
          "state": {
            "_view_name": "LayoutView",
            "grid_template_rows": null,
            "right": null,
            "justify_content": null,
            "_view_module": "@jupyter-widgets/base",
            "overflow": null,
            "_model_module_version": "1.2.0",
            "_view_count": null,
            "flex_flow": null,
            "width": null,
            "min_width": null,
            "border": null,
            "align_items": null,
            "bottom": null,
            "_model_module": "@jupyter-widgets/base",
            "top": null,
            "grid_column": null,
            "overflow_y": null,
            "overflow_x": null,
            "grid_auto_flow": null,
            "grid_area": null,
            "grid_template_columns": null,
            "flex": null,
            "_model_name": "LayoutModel",
            "justify_items": null,
            "grid_row": null,
            "max_height": null,
            "align_content": null,
            "visibility": null,
            "align_self": null,
            "height": null,
            "min_height": null,
            "padding": null,
            "grid_auto_rows": null,
            "grid_gap": null,
            "max_width": null,
            "order": null,
            "_view_module_version": "1.2.0",
            "grid_template_areas": null,
            "object_position": null,
            "object_fit": null,
            "grid_auto_columns": null,
            "margin": null,
            "display": null,
            "left": null
          }
        },
        "a2479178c8ef4220b34287b57e4fdb04": {
          "model_module": "@jupyter-widgets/controls",
          "model_name": "HBoxModel",
          "model_module_version": "1.5.0",
          "state": {
            "_view_name": "HBoxView",
            "_dom_classes": [],
            "_model_name": "HBoxModel",
            "_view_module": "@jupyter-widgets/controls",
            "_model_module_version": "1.5.0",
            "_view_count": null,
            "_view_module_version": "1.5.0",
            "box_style": "",
            "layout": "IPY_MODEL_f174a40f742048c892d5445fbf0f1c6e",
            "_model_module": "@jupyter-widgets/controls",
            "children": [
              "IPY_MODEL_e4c4f902d95c45159d03bd4f3db936cd",
              "IPY_MODEL_856811c055b04a189837751f9f206478"
            ]
          }
        },
        "f174a40f742048c892d5445fbf0f1c6e": {
          "model_module": "@jupyter-widgets/base",
          "model_name": "LayoutModel",
          "model_module_version": "1.2.0",
          "state": {
            "_view_name": "LayoutView",
            "grid_template_rows": null,
            "right": null,
            "justify_content": null,
            "_view_module": "@jupyter-widgets/base",
            "overflow": null,
            "_model_module_version": "1.2.0",
            "_view_count": null,
            "flex_flow": null,
            "width": null,
            "min_width": null,
            "border": null,
            "align_items": null,
            "bottom": null,
            "_model_module": "@jupyter-widgets/base",
            "top": null,
            "grid_column": null,
            "overflow_y": null,
            "overflow_x": null,
            "grid_auto_flow": null,
            "grid_area": null,
            "grid_template_columns": null,
            "flex": null,
            "_model_name": "LayoutModel",
            "justify_items": null,
            "grid_row": null,
            "max_height": null,
            "align_content": null,
            "visibility": null,
            "align_self": null,
            "height": null,
            "min_height": null,
            "padding": null,
            "grid_auto_rows": null,
            "grid_gap": null,
            "max_width": null,
            "order": null,
            "_view_module_version": "1.2.0",
            "grid_template_areas": null,
            "object_position": null,
            "object_fit": null,
            "grid_auto_columns": null,
            "margin": null,
            "display": null,
            "left": null
          }
        },
        "e4c4f902d95c45159d03bd4f3db936cd": {
          "model_module": "@jupyter-widgets/controls",
          "model_name": "FloatProgressModel",
          "model_module_version": "1.5.0",
          "state": {
            "_view_name": "ProgressView",
            "style": "IPY_MODEL_a11a70f27485486c89bbf233dfe4bfbc",
            "_dom_classes": [],
            "description": "#0: 100%",
            "_model_name": "FloatProgressModel",
            "bar_style": "success",
            "max": 42,
            "_view_module": "@jupyter-widgets/controls",
            "_model_module_version": "1.5.0",
            "value": 42,
            "_view_count": null,
            "_view_module_version": "1.5.0",
            "orientation": "horizontal",
            "min": 0,
            "description_tooltip": null,
            "_model_module": "@jupyter-widgets/controls",
            "layout": "IPY_MODEL_cb808d41bf6449f3ba8a6e76e0224408"
          }
        },
        "856811c055b04a189837751f9f206478": {
          "model_module": "@jupyter-widgets/controls",
          "model_name": "HTMLModel",
          "model_module_version": "1.5.0",
          "state": {
            "_view_name": "HTMLView",
            "style": "IPY_MODEL_804edc488e294efca22bde2a87f519ac",
            "_dom_classes": [],
            "description": "",
            "_model_name": "HTMLModel",
            "placeholder": "​",
            "_view_module": "@jupyter-widgets/controls",
            "_model_module_version": "1.5.0",
            "value": " 42/42 [00:29&lt;00:00,  1.42ba/s]",
            "_view_count": null,
            "_view_module_version": "1.5.0",
            "description_tooltip": null,
            "_model_module": "@jupyter-widgets/controls",
            "layout": "IPY_MODEL_ec77b7362fbc4c8982cef52b5dc6a0ae"
          }
        },
        "a11a70f27485486c89bbf233dfe4bfbc": {
          "model_module": "@jupyter-widgets/controls",
          "model_name": "ProgressStyleModel",
          "model_module_version": "1.5.0",
          "state": {
            "_view_name": "StyleView",
            "_model_name": "ProgressStyleModel",
            "description_width": "initial",
            "_view_module": "@jupyter-widgets/base",
            "_model_module_version": "1.5.0",
            "_view_count": null,
            "_view_module_version": "1.2.0",
            "bar_color": null,
            "_model_module": "@jupyter-widgets/controls"
          }
        },
        "cb808d41bf6449f3ba8a6e76e0224408": {
          "model_module": "@jupyter-widgets/base",
          "model_name": "LayoutModel",
          "model_module_version": "1.2.0",
          "state": {
            "_view_name": "LayoutView",
            "grid_template_rows": null,
            "right": null,
            "justify_content": null,
            "_view_module": "@jupyter-widgets/base",
            "overflow": null,
            "_model_module_version": "1.2.0",
            "_view_count": null,
            "flex_flow": null,
            "width": null,
            "min_width": null,
            "border": null,
            "align_items": null,
            "bottom": null,
            "_model_module": "@jupyter-widgets/base",
            "top": null,
            "grid_column": null,
            "overflow_y": null,
            "overflow_x": null,
            "grid_auto_flow": null,
            "grid_area": null,
            "grid_template_columns": null,
            "flex": null,
            "_model_name": "LayoutModel",
            "justify_items": null,
            "grid_row": null,
            "max_height": null,
            "align_content": null,
            "visibility": null,
            "align_self": null,
            "height": null,
            "min_height": null,
            "padding": null,
            "grid_auto_rows": null,
            "grid_gap": null,
            "max_width": null,
            "order": null,
            "_view_module_version": "1.2.0",
            "grid_template_areas": null,
            "object_position": null,
            "object_fit": null,
            "grid_auto_columns": null,
            "margin": null,
            "display": null,
            "left": null
          }
        },
        "804edc488e294efca22bde2a87f519ac": {
          "model_module": "@jupyter-widgets/controls",
          "model_name": "DescriptionStyleModel",
          "model_module_version": "1.5.0",
          "state": {
            "_view_name": "StyleView",
            "_model_name": "DescriptionStyleModel",
            "description_width": "",
            "_view_module": "@jupyter-widgets/base",
            "_model_module_version": "1.5.0",
            "_view_count": null,
            "_view_module_version": "1.2.0",
            "_model_module": "@jupyter-widgets/controls"
          }
        },
        "ec77b7362fbc4c8982cef52b5dc6a0ae": {
          "model_module": "@jupyter-widgets/base",
          "model_name": "LayoutModel",
          "model_module_version": "1.2.0",
          "state": {
            "_view_name": "LayoutView",
            "grid_template_rows": null,
            "right": null,
            "justify_content": null,
            "_view_module": "@jupyter-widgets/base",
            "overflow": null,
            "_model_module_version": "1.2.0",
            "_view_count": null,
            "flex_flow": null,
            "width": null,
            "min_width": null,
            "border": null,
            "align_items": null,
            "bottom": null,
            "_model_module": "@jupyter-widgets/base",
            "top": null,
            "grid_column": null,
            "overflow_y": null,
            "overflow_x": null,
            "grid_auto_flow": null,
            "grid_area": null,
            "grid_template_columns": null,
            "flex": null,
            "_model_name": "LayoutModel",
            "justify_items": null,
            "grid_row": null,
            "max_height": null,
            "align_content": null,
            "visibility": null,
            "align_self": null,
            "height": null,
            "min_height": null,
            "padding": null,
            "grid_auto_rows": null,
            "grid_gap": null,
            "max_width": null,
            "order": null,
            "_view_module_version": "1.2.0",
            "grid_template_areas": null,
            "object_position": null,
            "object_fit": null,
            "grid_auto_columns": null,
            "margin": null,
            "display": null,
            "left": null
          }
        },
        "5a1b8dbad75a45159203079954a1b175": {
          "model_module": "@jupyter-widgets/controls",
          "model_name": "HBoxModel",
          "model_module_version": "1.5.0",
          "state": {
            "_view_name": "HBoxView",
            "_dom_classes": [],
            "_model_name": "HBoxModel",
            "_view_module": "@jupyter-widgets/controls",
            "_model_module_version": "1.5.0",
            "_view_count": null,
            "_view_module_version": "1.5.0",
            "box_style": "",
            "layout": "IPY_MODEL_dbe8beeef0e94c60a9d5ba7594584896",
            "_model_module": "@jupyter-widgets/controls",
            "children": [
              "IPY_MODEL_7395634dcec944c0bf5477244e698d56",
              "IPY_MODEL_b29cd1cd38a2466e8c582815c6b54d91"
            ]
          }
        },
        "dbe8beeef0e94c60a9d5ba7594584896": {
          "model_module": "@jupyter-widgets/base",
          "model_name": "LayoutModel",
          "model_module_version": "1.2.0",
          "state": {
            "_view_name": "LayoutView",
            "grid_template_rows": null,
            "right": null,
            "justify_content": null,
            "_view_module": "@jupyter-widgets/base",
            "overflow": null,
            "_model_module_version": "1.2.0",
            "_view_count": null,
            "flex_flow": null,
            "width": null,
            "min_width": null,
            "border": null,
            "align_items": null,
            "bottom": null,
            "_model_module": "@jupyter-widgets/base",
            "top": null,
            "grid_column": null,
            "overflow_y": null,
            "overflow_x": null,
            "grid_auto_flow": null,
            "grid_area": null,
            "grid_template_columns": null,
            "flex": null,
            "_model_name": "LayoutModel",
            "justify_items": null,
            "grid_row": null,
            "max_height": null,
            "align_content": null,
            "visibility": null,
            "align_self": null,
            "height": null,
            "min_height": null,
            "padding": null,
            "grid_auto_rows": null,
            "grid_gap": null,
            "max_width": null,
            "order": null,
            "_view_module_version": "1.2.0",
            "grid_template_areas": null,
            "object_position": null,
            "object_fit": null,
            "grid_auto_columns": null,
            "margin": null,
            "display": null,
            "left": null
          }
        },
        "7395634dcec944c0bf5477244e698d56": {
          "model_module": "@jupyter-widgets/controls",
          "model_name": "FloatProgressModel",
          "model_module_version": "1.5.0",
          "state": {
            "_view_name": "ProgressView",
            "style": "IPY_MODEL_e547802f2a8b43fb8d57bef586cd8fcd",
            "_dom_classes": [],
            "description": "#3: 100%",
            "_model_name": "FloatProgressModel",
            "bar_style": "success",
            "max": 42,
            "_view_module": "@jupyter-widgets/controls",
            "_model_module_version": "1.5.0",
            "value": 42,
            "_view_count": null,
            "_view_module_version": "1.5.0",
            "orientation": "horizontal",
            "min": 0,
            "description_tooltip": null,
            "_model_module": "@jupyter-widgets/controls",
            "layout": "IPY_MODEL_a25b3f88cf6e4ae6bfca32f350667211"
          }
        },
        "b29cd1cd38a2466e8c582815c6b54d91": {
          "model_module": "@jupyter-widgets/controls",
          "model_name": "HTMLModel",
          "model_module_version": "1.5.0",
          "state": {
            "_view_name": "HTMLView",
            "style": "IPY_MODEL_fbabd6bfb8e6473fab8fa0a1d50ba070",
            "_dom_classes": [],
            "description": "",
            "_model_name": "HTMLModel",
            "placeholder": "​",
            "_view_module": "@jupyter-widgets/controls",
            "_model_module_version": "1.5.0",
            "value": " 42/42 [00:29&lt;00:00,  1.41ba/s]",
            "_view_count": null,
            "_view_module_version": "1.5.0",
            "description_tooltip": null,
            "_model_module": "@jupyter-widgets/controls",
            "layout": "IPY_MODEL_e6ed58fc5a264c7087ba0c473ab908f4"
          }
        },
        "e547802f2a8b43fb8d57bef586cd8fcd": {
          "model_module": "@jupyter-widgets/controls",
          "model_name": "ProgressStyleModel",
          "model_module_version": "1.5.0",
          "state": {
            "_view_name": "StyleView",
            "_model_name": "ProgressStyleModel",
            "description_width": "initial",
            "_view_module": "@jupyter-widgets/base",
            "_model_module_version": "1.5.0",
            "_view_count": null,
            "_view_module_version": "1.2.0",
            "bar_color": null,
            "_model_module": "@jupyter-widgets/controls"
          }
        },
        "a25b3f88cf6e4ae6bfca32f350667211": {
          "model_module": "@jupyter-widgets/base",
          "model_name": "LayoutModel",
          "model_module_version": "1.2.0",
          "state": {
            "_view_name": "LayoutView",
            "grid_template_rows": null,
            "right": null,
            "justify_content": null,
            "_view_module": "@jupyter-widgets/base",
            "overflow": null,
            "_model_module_version": "1.2.0",
            "_view_count": null,
            "flex_flow": null,
            "width": null,
            "min_width": null,
            "border": null,
            "align_items": null,
            "bottom": null,
            "_model_module": "@jupyter-widgets/base",
            "top": null,
            "grid_column": null,
            "overflow_y": null,
            "overflow_x": null,
            "grid_auto_flow": null,
            "grid_area": null,
            "grid_template_columns": null,
            "flex": null,
            "_model_name": "LayoutModel",
            "justify_items": null,
            "grid_row": null,
            "max_height": null,
            "align_content": null,
            "visibility": null,
            "align_self": null,
            "height": null,
            "min_height": null,
            "padding": null,
            "grid_auto_rows": null,
            "grid_gap": null,
            "max_width": null,
            "order": null,
            "_view_module_version": "1.2.0",
            "grid_template_areas": null,
            "object_position": null,
            "object_fit": null,
            "grid_auto_columns": null,
            "margin": null,
            "display": null,
            "left": null
          }
        },
        "fbabd6bfb8e6473fab8fa0a1d50ba070": {
          "model_module": "@jupyter-widgets/controls",
          "model_name": "DescriptionStyleModel",
          "model_module_version": "1.5.0",
          "state": {
            "_view_name": "StyleView",
            "_model_name": "DescriptionStyleModel",
            "description_width": "",
            "_view_module": "@jupyter-widgets/base",
            "_model_module_version": "1.5.0",
            "_view_count": null,
            "_view_module_version": "1.2.0",
            "_model_module": "@jupyter-widgets/controls"
          }
        },
        "e6ed58fc5a264c7087ba0c473ab908f4": {
          "model_module": "@jupyter-widgets/base",
          "model_name": "LayoutModel",
          "model_module_version": "1.2.0",
          "state": {
            "_view_name": "LayoutView",
            "grid_template_rows": null,
            "right": null,
            "justify_content": null,
            "_view_module": "@jupyter-widgets/base",
            "overflow": null,
            "_model_module_version": "1.2.0",
            "_view_count": null,
            "flex_flow": null,
            "width": null,
            "min_width": null,
            "border": null,
            "align_items": null,
            "bottom": null,
            "_model_module": "@jupyter-widgets/base",
            "top": null,
            "grid_column": null,
            "overflow_y": null,
            "overflow_x": null,
            "grid_auto_flow": null,
            "grid_area": null,
            "grid_template_columns": null,
            "flex": null,
            "_model_name": "LayoutModel",
            "justify_items": null,
            "grid_row": null,
            "max_height": null,
            "align_content": null,
            "visibility": null,
            "align_self": null,
            "height": null,
            "min_height": null,
            "padding": null,
            "grid_auto_rows": null,
            "grid_gap": null,
            "max_width": null,
            "order": null,
            "_view_module_version": "1.2.0",
            "grid_template_areas": null,
            "object_position": null,
            "object_fit": null,
            "grid_auto_columns": null,
            "margin": null,
            "display": null,
            "left": null
          }
        },
        "2796d8cb9da54961aa7cf9dcafefe6c7": {
          "model_module": "@jupyter-widgets/controls",
          "model_name": "HBoxModel",
          "model_module_version": "1.5.0",
          "state": {
            "_view_name": "HBoxView",
            "_dom_classes": [],
            "_model_name": "HBoxModel",
            "_view_module": "@jupyter-widgets/controls",
            "_model_module_version": "1.5.0",
            "_view_count": null,
            "_view_module_version": "1.5.0",
            "box_style": "",
            "layout": "IPY_MODEL_d616d8f60682430fa39c8a15152aa2fc",
            "_model_module": "@jupyter-widgets/controls",
            "children": [
              "IPY_MODEL_7f102457113048a7baab407ec105ad4d",
              "IPY_MODEL_b702664dcd6c41929948314038f2660c"
            ]
          }
        },
        "d616d8f60682430fa39c8a15152aa2fc": {
          "model_module": "@jupyter-widgets/base",
          "model_name": "LayoutModel",
          "model_module_version": "1.2.0",
          "state": {
            "_view_name": "LayoutView",
            "grid_template_rows": null,
            "right": null,
            "justify_content": null,
            "_view_module": "@jupyter-widgets/base",
            "overflow": null,
            "_model_module_version": "1.2.0",
            "_view_count": null,
            "flex_flow": null,
            "width": null,
            "min_width": null,
            "border": null,
            "align_items": null,
            "bottom": null,
            "_model_module": "@jupyter-widgets/base",
            "top": null,
            "grid_column": null,
            "overflow_y": null,
            "overflow_x": null,
            "grid_auto_flow": null,
            "grid_area": null,
            "grid_template_columns": null,
            "flex": null,
            "_model_name": "LayoutModel",
            "justify_items": null,
            "grid_row": null,
            "max_height": null,
            "align_content": null,
            "visibility": null,
            "align_self": null,
            "height": null,
            "min_height": null,
            "padding": null,
            "grid_auto_rows": null,
            "grid_gap": null,
            "max_width": null,
            "order": null,
            "_view_module_version": "1.2.0",
            "grid_template_areas": null,
            "object_position": null,
            "object_fit": null,
            "grid_auto_columns": null,
            "margin": null,
            "display": null,
            "left": null
          }
        },
        "7f102457113048a7baab407ec105ad4d": {
          "model_module": "@jupyter-widgets/controls",
          "model_name": "FloatProgressModel",
          "model_module_version": "1.5.0",
          "state": {
            "_view_name": "ProgressView",
            "style": "IPY_MODEL_3f35e0b1307744d99ed39c478183051f",
            "_dom_classes": [],
            "description": "#1: 100%",
            "_model_name": "FloatProgressModel",
            "bar_style": "success",
            "max": 42,
            "_view_module": "@jupyter-widgets/controls",
            "_model_module_version": "1.5.0",
            "value": 42,
            "_view_count": null,
            "_view_module_version": "1.5.0",
            "orientation": "horizontal",
            "min": 0,
            "description_tooltip": null,
            "_model_module": "@jupyter-widgets/controls",
            "layout": "IPY_MODEL_d359b16f010e4279a8d058e8a65148f4"
          }
        },
        "b702664dcd6c41929948314038f2660c": {
          "model_module": "@jupyter-widgets/controls",
          "model_name": "HTMLModel",
          "model_module_version": "1.5.0",
          "state": {
            "_view_name": "HTMLView",
            "style": "IPY_MODEL_8d6791fd4303450e8b27029aafee6881",
            "_dom_classes": [],
            "description": "",
            "_model_name": "HTMLModel",
            "placeholder": "​",
            "_view_module": "@jupyter-widgets/controls",
            "_model_module_version": "1.5.0",
            "value": " 42/42 [00:28&lt;00:00,  1.45ba/s]",
            "_view_count": null,
            "_view_module_version": "1.5.0",
            "description_tooltip": null,
            "_model_module": "@jupyter-widgets/controls",
            "layout": "IPY_MODEL_b41421ad47134e4889852730ec11cb4e"
          }
        },
        "3f35e0b1307744d99ed39c478183051f": {
          "model_module": "@jupyter-widgets/controls",
          "model_name": "ProgressStyleModel",
          "model_module_version": "1.5.0",
          "state": {
            "_view_name": "StyleView",
            "_model_name": "ProgressStyleModel",
            "description_width": "initial",
            "_view_module": "@jupyter-widgets/base",
            "_model_module_version": "1.5.0",
            "_view_count": null,
            "_view_module_version": "1.2.0",
            "bar_color": null,
            "_model_module": "@jupyter-widgets/controls"
          }
        },
        "d359b16f010e4279a8d058e8a65148f4": {
          "model_module": "@jupyter-widgets/base",
          "model_name": "LayoutModel",
          "model_module_version": "1.2.0",
          "state": {
            "_view_name": "LayoutView",
            "grid_template_rows": null,
            "right": null,
            "justify_content": null,
            "_view_module": "@jupyter-widgets/base",
            "overflow": null,
            "_model_module_version": "1.2.0",
            "_view_count": null,
            "flex_flow": null,
            "width": null,
            "min_width": null,
            "border": null,
            "align_items": null,
            "bottom": null,
            "_model_module": "@jupyter-widgets/base",
            "top": null,
            "grid_column": null,
            "overflow_y": null,
            "overflow_x": null,
            "grid_auto_flow": null,
            "grid_area": null,
            "grid_template_columns": null,
            "flex": null,
            "_model_name": "LayoutModel",
            "justify_items": null,
            "grid_row": null,
            "max_height": null,
            "align_content": null,
            "visibility": null,
            "align_self": null,
            "height": null,
            "min_height": null,
            "padding": null,
            "grid_auto_rows": null,
            "grid_gap": null,
            "max_width": null,
            "order": null,
            "_view_module_version": "1.2.0",
            "grid_template_areas": null,
            "object_position": null,
            "object_fit": null,
            "grid_auto_columns": null,
            "margin": null,
            "display": null,
            "left": null
          }
        },
        "8d6791fd4303450e8b27029aafee6881": {
          "model_module": "@jupyter-widgets/controls",
          "model_name": "DescriptionStyleModel",
          "model_module_version": "1.5.0",
          "state": {
            "_view_name": "StyleView",
            "_model_name": "DescriptionStyleModel",
            "description_width": "",
            "_view_module": "@jupyter-widgets/base",
            "_model_module_version": "1.5.0",
            "_view_count": null,
            "_view_module_version": "1.2.0",
            "_model_module": "@jupyter-widgets/controls"
          }
        },
        "b41421ad47134e4889852730ec11cb4e": {
          "model_module": "@jupyter-widgets/base",
          "model_name": "LayoutModel",
          "model_module_version": "1.2.0",
          "state": {
            "_view_name": "LayoutView",
            "grid_template_rows": null,
            "right": null,
            "justify_content": null,
            "_view_module": "@jupyter-widgets/base",
            "overflow": null,
            "_model_module_version": "1.2.0",
            "_view_count": null,
            "flex_flow": null,
            "width": null,
            "min_width": null,
            "border": null,
            "align_items": null,
            "bottom": null,
            "_model_module": "@jupyter-widgets/base",
            "top": null,
            "grid_column": null,
            "overflow_y": null,
            "overflow_x": null,
            "grid_auto_flow": null,
            "grid_area": null,
            "grid_template_columns": null,
            "flex": null,
            "_model_name": "LayoutModel",
            "justify_items": null,
            "grid_row": null,
            "max_height": null,
            "align_content": null,
            "visibility": null,
            "align_self": null,
            "height": null,
            "min_height": null,
            "padding": null,
            "grid_auto_rows": null,
            "grid_gap": null,
            "max_width": null,
            "order": null,
            "_view_module_version": "1.2.0",
            "grid_template_areas": null,
            "object_position": null,
            "object_fit": null,
            "grid_auto_columns": null,
            "margin": null,
            "display": null,
            "left": null
          }
        },
        "a4625c4b1f7943479639ab89ccf4390e": {
          "model_module": "@jupyter-widgets/controls",
          "model_name": "HBoxModel",
          "model_module_version": "1.5.0",
          "state": {
            "_view_name": "HBoxView",
            "_dom_classes": [],
            "_model_name": "HBoxModel",
            "_view_module": "@jupyter-widgets/controls",
            "_model_module_version": "1.5.0",
            "_view_count": null,
            "_view_module_version": "1.5.0",
            "box_style": "",
            "layout": "IPY_MODEL_71f0adaffca24c97a5460290baeff549",
            "_model_module": "@jupyter-widgets/controls",
            "children": [
              "IPY_MODEL_5eaf3f4615d041ac9a5e9f84b4e1d2ec",
              "IPY_MODEL_9ac592e035cf4634a16e3be97c13ef93"
            ]
          }
        },
        "71f0adaffca24c97a5460290baeff549": {
          "model_module": "@jupyter-widgets/base",
          "model_name": "LayoutModel",
          "model_module_version": "1.2.0",
          "state": {
            "_view_name": "LayoutView",
            "grid_template_rows": null,
            "right": null,
            "justify_content": null,
            "_view_module": "@jupyter-widgets/base",
            "overflow": null,
            "_model_module_version": "1.2.0",
            "_view_count": null,
            "flex_flow": null,
            "width": null,
            "min_width": null,
            "border": null,
            "align_items": null,
            "bottom": null,
            "_model_module": "@jupyter-widgets/base",
            "top": null,
            "grid_column": null,
            "overflow_y": null,
            "overflow_x": null,
            "grid_auto_flow": null,
            "grid_area": null,
            "grid_template_columns": null,
            "flex": null,
            "_model_name": "LayoutModel",
            "justify_items": null,
            "grid_row": null,
            "max_height": null,
            "align_content": null,
            "visibility": null,
            "align_self": null,
            "height": null,
            "min_height": null,
            "padding": null,
            "grid_auto_rows": null,
            "grid_gap": null,
            "max_width": null,
            "order": null,
            "_view_module_version": "1.2.0",
            "grid_template_areas": null,
            "object_position": null,
            "object_fit": null,
            "grid_auto_columns": null,
            "margin": null,
            "display": null,
            "left": null
          }
        },
        "5eaf3f4615d041ac9a5e9f84b4e1d2ec": {
          "model_module": "@jupyter-widgets/controls",
          "model_name": "FloatProgressModel",
          "model_module_version": "1.5.0",
          "state": {
            "_view_name": "ProgressView",
            "style": "IPY_MODEL_b43c40b703464861b7130bfea2cd2ddd",
            "_dom_classes": [],
            "description": "#2: 100%",
            "_model_name": "FloatProgressModel",
            "bar_style": "success",
            "max": 42,
            "_view_module": "@jupyter-widgets/controls",
            "_model_module_version": "1.5.0",
            "value": 42,
            "_view_count": null,
            "_view_module_version": "1.5.0",
            "orientation": "horizontal",
            "min": 0,
            "description_tooltip": null,
            "_model_module": "@jupyter-widgets/controls",
            "layout": "IPY_MODEL_872f0bf170004a7ab3c077e6225f80c9"
          }
        },
        "9ac592e035cf4634a16e3be97c13ef93": {
          "model_module": "@jupyter-widgets/controls",
          "model_name": "HTMLModel",
          "model_module_version": "1.5.0",
          "state": {
            "_view_name": "HTMLView",
            "style": "IPY_MODEL_db980df8f192440baddcd321c931e0b1",
            "_dom_classes": [],
            "description": "",
            "_model_name": "HTMLModel",
            "placeholder": "​",
            "_view_module": "@jupyter-widgets/controls",
            "_model_module_version": "1.5.0",
            "value": " 42/42 [00:29&lt;00:00,  1.41ba/s]",
            "_view_count": null,
            "_view_module_version": "1.5.0",
            "description_tooltip": null,
            "_model_module": "@jupyter-widgets/controls",
            "layout": "IPY_MODEL_ffefcaa6c57c4c7a9f5e6401279128b6"
          }
        },
        "b43c40b703464861b7130bfea2cd2ddd": {
          "model_module": "@jupyter-widgets/controls",
          "model_name": "ProgressStyleModel",
          "model_module_version": "1.5.0",
          "state": {
            "_view_name": "StyleView",
            "_model_name": "ProgressStyleModel",
            "description_width": "initial",
            "_view_module": "@jupyter-widgets/base",
            "_model_module_version": "1.5.0",
            "_view_count": null,
            "_view_module_version": "1.2.0",
            "bar_color": null,
            "_model_module": "@jupyter-widgets/controls"
          }
        },
        "872f0bf170004a7ab3c077e6225f80c9": {
          "model_module": "@jupyter-widgets/base",
          "model_name": "LayoutModel",
          "model_module_version": "1.2.0",
          "state": {
            "_view_name": "LayoutView",
            "grid_template_rows": null,
            "right": null,
            "justify_content": null,
            "_view_module": "@jupyter-widgets/base",
            "overflow": null,
            "_model_module_version": "1.2.0",
            "_view_count": null,
            "flex_flow": null,
            "width": null,
            "min_width": null,
            "border": null,
            "align_items": null,
            "bottom": null,
            "_model_module": "@jupyter-widgets/base",
            "top": null,
            "grid_column": null,
            "overflow_y": null,
            "overflow_x": null,
            "grid_auto_flow": null,
            "grid_area": null,
            "grid_template_columns": null,
            "flex": null,
            "_model_name": "LayoutModel",
            "justify_items": null,
            "grid_row": null,
            "max_height": null,
            "align_content": null,
            "visibility": null,
            "align_self": null,
            "height": null,
            "min_height": null,
            "padding": null,
            "grid_auto_rows": null,
            "grid_gap": null,
            "max_width": null,
            "order": null,
            "_view_module_version": "1.2.0",
            "grid_template_areas": null,
            "object_position": null,
            "object_fit": null,
            "grid_auto_columns": null,
            "margin": null,
            "display": null,
            "left": null
          }
        },
        "db980df8f192440baddcd321c931e0b1": {
          "model_module": "@jupyter-widgets/controls",
          "model_name": "DescriptionStyleModel",
          "model_module_version": "1.5.0",
          "state": {
            "_view_name": "StyleView",
            "_model_name": "DescriptionStyleModel",
            "description_width": "",
            "_view_module": "@jupyter-widgets/base",
            "_model_module_version": "1.5.0",
            "_view_count": null,
            "_view_module_version": "1.2.0",
            "_model_module": "@jupyter-widgets/controls"
          }
        },
        "ffefcaa6c57c4c7a9f5e6401279128b6": {
          "model_module": "@jupyter-widgets/base",
          "model_name": "LayoutModel",
          "model_module_version": "1.2.0",
          "state": {
            "_view_name": "LayoutView",
            "grid_template_rows": null,
            "right": null,
            "justify_content": null,
            "_view_module": "@jupyter-widgets/base",
            "overflow": null,
            "_model_module_version": "1.2.0",
            "_view_count": null,
            "flex_flow": null,
            "width": null,
            "min_width": null,
            "border": null,
            "align_items": null,
            "bottom": null,
            "_model_module": "@jupyter-widgets/base",
            "top": null,
            "grid_column": null,
            "overflow_y": null,
            "overflow_x": null,
            "grid_auto_flow": null,
            "grid_area": null,
            "grid_template_columns": null,
            "flex": null,
            "_model_name": "LayoutModel",
            "justify_items": null,
            "grid_row": null,
            "max_height": null,
            "align_content": null,
            "visibility": null,
            "align_self": null,
            "height": null,
            "min_height": null,
            "padding": null,
            "grid_auto_rows": null,
            "grid_gap": null,
            "max_width": null,
            "order": null,
            "_view_module_version": "1.2.0",
            "grid_template_areas": null,
            "object_position": null,
            "object_fit": null,
            "grid_auto_columns": null,
            "margin": null,
            "display": null,
            "left": null
          }
        },
        "d506cfc3f7984aac99e872a693b4521d": {
          "model_module": "@jupyter-widgets/controls",
          "model_name": "HBoxModel",
          "model_module_version": "1.5.0",
          "state": {
            "_view_name": "HBoxView",
            "_dom_classes": [],
            "_model_name": "HBoxModel",
            "_view_module": "@jupyter-widgets/controls",
            "_model_module_version": "1.5.0",
            "_view_count": null,
            "_view_module_version": "1.5.0",
            "box_style": "",
            "layout": "IPY_MODEL_00d989459dee446aaf28b45ec50112ee",
            "_model_module": "@jupyter-widgets/controls",
            "children": [
              "IPY_MODEL_90d03f72ba6e4cd09969c47747e80026",
              "IPY_MODEL_533e6c227c904fc6ab01adc2a867ded1"
            ]
          }
        },
        "00d989459dee446aaf28b45ec50112ee": {
          "model_module": "@jupyter-widgets/base",
          "model_name": "LayoutModel",
          "model_module_version": "1.2.0",
          "state": {
            "_view_name": "LayoutView",
            "grid_template_rows": null,
            "right": null,
            "justify_content": null,
            "_view_module": "@jupyter-widgets/base",
            "overflow": null,
            "_model_module_version": "1.2.0",
            "_view_count": null,
            "flex_flow": null,
            "width": null,
            "min_width": null,
            "border": null,
            "align_items": null,
            "bottom": null,
            "_model_module": "@jupyter-widgets/base",
            "top": null,
            "grid_column": null,
            "overflow_y": null,
            "overflow_x": null,
            "grid_auto_flow": null,
            "grid_area": null,
            "grid_template_columns": null,
            "flex": null,
            "_model_name": "LayoutModel",
            "justify_items": null,
            "grid_row": null,
            "max_height": null,
            "align_content": null,
            "visibility": null,
            "align_self": null,
            "height": null,
            "min_height": null,
            "padding": null,
            "grid_auto_rows": null,
            "grid_gap": null,
            "max_width": null,
            "order": null,
            "_view_module_version": "1.2.0",
            "grid_template_areas": null,
            "object_position": null,
            "object_fit": null,
            "grid_auto_columns": null,
            "margin": null,
            "display": null,
            "left": null
          }
        },
        "90d03f72ba6e4cd09969c47747e80026": {
          "model_module": "@jupyter-widgets/controls",
          "model_name": "FloatProgressModel",
          "model_module_version": "1.5.0",
          "state": {
            "_view_name": "ProgressView",
            "style": "IPY_MODEL_166ac3ae3c0a41d790bd13c251166085",
            "_dom_classes": [],
            "description": "Downloading: ",
            "_model_name": "FloatProgressModel",
            "bar_style": "success",
            "max": 1764,
            "_view_module": "@jupyter-widgets/controls",
            "_model_module_version": "1.5.0",
            "value": 1764,
            "_view_count": null,
            "_view_module_version": "1.5.0",
            "orientation": "horizontal",
            "min": 0,
            "description_tooltip": null,
            "_model_module": "@jupyter-widgets/controls",
            "layout": "IPY_MODEL_9c5c00898346423b96c040360952f61c"
          }
        },
        "533e6c227c904fc6ab01adc2a867ded1": {
          "model_module": "@jupyter-widgets/controls",
          "model_name": "HTMLModel",
          "model_module_version": "1.5.0",
          "state": {
            "_view_name": "HTMLView",
            "style": "IPY_MODEL_5619dcb12db343ecb66ba5cc16727ffc",
            "_dom_classes": [],
            "description": "",
            "_model_name": "HTMLModel",
            "placeholder": "​",
            "_view_module": "@jupyter-widgets/controls",
            "_model_module_version": "1.5.0",
            "value": " 3.90k/? [00:05&lt;00:00, 658B/s]",
            "_view_count": null,
            "_view_module_version": "1.5.0",
            "description_tooltip": null,
            "_model_module": "@jupyter-widgets/controls",
            "layout": "IPY_MODEL_67d8030620d3429bbeb77ea1fc8707e1"
          }
        },
        "166ac3ae3c0a41d790bd13c251166085": {
          "model_module": "@jupyter-widgets/controls",
          "model_name": "ProgressStyleModel",
          "model_module_version": "1.5.0",
          "state": {
            "_view_name": "StyleView",
            "_model_name": "ProgressStyleModel",
            "description_width": "initial",
            "_view_module": "@jupyter-widgets/base",
            "_model_module_version": "1.5.0",
            "_view_count": null,
            "_view_module_version": "1.2.0",
            "bar_color": null,
            "_model_module": "@jupyter-widgets/controls"
          }
        },
        "9c5c00898346423b96c040360952f61c": {
          "model_module": "@jupyter-widgets/base",
          "model_name": "LayoutModel",
          "model_module_version": "1.2.0",
          "state": {
            "_view_name": "LayoutView",
            "grid_template_rows": null,
            "right": null,
            "justify_content": null,
            "_view_module": "@jupyter-widgets/base",
            "overflow": null,
            "_model_module_version": "1.2.0",
            "_view_count": null,
            "flex_flow": null,
            "width": null,
            "min_width": null,
            "border": null,
            "align_items": null,
            "bottom": null,
            "_model_module": "@jupyter-widgets/base",
            "top": null,
            "grid_column": null,
            "overflow_y": null,
            "overflow_x": null,
            "grid_auto_flow": null,
            "grid_area": null,
            "grid_template_columns": null,
            "flex": null,
            "_model_name": "LayoutModel",
            "justify_items": null,
            "grid_row": null,
            "max_height": null,
            "align_content": null,
            "visibility": null,
            "align_self": null,
            "height": null,
            "min_height": null,
            "padding": null,
            "grid_auto_rows": null,
            "grid_gap": null,
            "max_width": null,
            "order": null,
            "_view_module_version": "1.2.0",
            "grid_template_areas": null,
            "object_position": null,
            "object_fit": null,
            "grid_auto_columns": null,
            "margin": null,
            "display": null,
            "left": null
          }
        },
        "5619dcb12db343ecb66ba5cc16727ffc": {
          "model_module": "@jupyter-widgets/controls",
          "model_name": "DescriptionStyleModel",
          "model_module_version": "1.5.0",
          "state": {
            "_view_name": "StyleView",
            "_model_name": "DescriptionStyleModel",
            "description_width": "",
            "_view_module": "@jupyter-widgets/base",
            "_model_module_version": "1.5.0",
            "_view_count": null,
            "_view_module_version": "1.2.0",
            "_model_module": "@jupyter-widgets/controls"
          }
        },
        "67d8030620d3429bbeb77ea1fc8707e1": {
          "model_module": "@jupyter-widgets/base",
          "model_name": "LayoutModel",
          "model_module_version": "1.2.0",
          "state": {
            "_view_name": "LayoutView",
            "grid_template_rows": null,
            "right": null,
            "justify_content": null,
            "_view_module": "@jupyter-widgets/base",
            "overflow": null,
            "_model_module_version": "1.2.0",
            "_view_count": null,
            "flex_flow": null,
            "width": null,
            "min_width": null,
            "border": null,
            "align_items": null,
            "bottom": null,
            "_model_module": "@jupyter-widgets/base",
            "top": null,
            "grid_column": null,
            "overflow_y": null,
            "overflow_x": null,
            "grid_auto_flow": null,
            "grid_area": null,
            "grid_template_columns": null,
            "flex": null,
            "_model_name": "LayoutModel",
            "justify_items": null,
            "grid_row": null,
            "max_height": null,
            "align_content": null,
            "visibility": null,
            "align_self": null,
            "height": null,
            "min_height": null,
            "padding": null,
            "grid_auto_rows": null,
            "grid_gap": null,
            "max_width": null,
            "order": null,
            "_view_module_version": "1.2.0",
            "grid_template_areas": null,
            "object_position": null,
            "object_fit": null,
            "grid_auto_columns": null,
            "margin": null,
            "display": null,
            "left": null
          }
        },
        "d05559ae209e4e3290362fd001c58518": {
          "model_module": "@jupyter-widgets/controls",
          "model_name": "HBoxModel",
          "model_module_version": "1.5.0",
          "state": {
            "_view_name": "HBoxView",
            "_dom_classes": [],
            "_model_name": "HBoxModel",
            "_view_module": "@jupyter-widgets/controls",
            "_model_module_version": "1.5.0",
            "_view_count": null,
            "_view_module_version": "1.5.0",
            "box_style": "",
            "layout": "IPY_MODEL_1282b600e9a74d7a95adbebba5e9de03",
            "_model_module": "@jupyter-widgets/controls",
            "children": [
              "IPY_MODEL_0810298d03904822ace2375ff65a4a03",
              "IPY_MODEL_f83cdff905194f2ea29992dafabf33c0"
            ]
          }
        },
        "1282b600e9a74d7a95adbebba5e9de03": {
          "model_module": "@jupyter-widgets/base",
          "model_name": "LayoutModel",
          "model_module_version": "1.2.0",
          "state": {
            "_view_name": "LayoutView",
            "grid_template_rows": null,
            "right": null,
            "justify_content": null,
            "_view_module": "@jupyter-widgets/base",
            "overflow": null,
            "_model_module_version": "1.2.0",
            "_view_count": null,
            "flex_flow": null,
            "width": null,
            "min_width": null,
            "border": null,
            "align_items": null,
            "bottom": null,
            "_model_module": "@jupyter-widgets/base",
            "top": null,
            "grid_column": null,
            "overflow_y": null,
            "overflow_x": null,
            "grid_auto_flow": null,
            "grid_area": null,
            "grid_template_columns": null,
            "flex": null,
            "_model_name": "LayoutModel",
            "justify_items": null,
            "grid_row": null,
            "max_height": null,
            "align_content": null,
            "visibility": null,
            "align_self": null,
            "height": null,
            "min_height": null,
            "padding": null,
            "grid_auto_rows": null,
            "grid_gap": null,
            "max_width": null,
            "order": null,
            "_view_module_version": "1.2.0",
            "grid_template_areas": null,
            "object_position": null,
            "object_fit": null,
            "grid_auto_columns": null,
            "margin": null,
            "display": null,
            "left": null
          }
        },
        "0810298d03904822ace2375ff65a4a03": {
          "model_module": "@jupyter-widgets/controls",
          "model_name": "FloatProgressModel",
          "model_module_version": "1.5.0",
          "state": {
            "_view_name": "ProgressView",
            "style": "IPY_MODEL_fcf63c0d4b254d47969d250a67f55c5b",
            "_dom_classes": [],
            "description": "Downloading: 100%",
            "_model_name": "FloatProgressModel",
            "bar_style": "success",
            "max": 1451,
            "_view_module": "@jupyter-widgets/controls",
            "_model_module_version": "1.5.0",
            "value": 1451,
            "_view_count": null,
            "_view_module_version": "1.5.0",
            "orientation": "horizontal",
            "min": 0,
            "description_tooltip": null,
            "_model_module": "@jupyter-widgets/controls",
            "layout": "IPY_MODEL_4cd8f6214c8440d98a4cab0d7d8be0ac"
          }
        },
        "f83cdff905194f2ea29992dafabf33c0": {
          "model_module": "@jupyter-widgets/controls",
          "model_name": "HTMLModel",
          "model_module_version": "1.5.0",
          "state": {
            "_view_name": "HTMLView",
            "style": "IPY_MODEL_b26a4a96fffb4b8e8d166f8bf486f471",
            "_dom_classes": [],
            "description": "",
            "_model_name": "HTMLModel",
            "placeholder": "​",
            "_view_module": "@jupyter-widgets/controls",
            "_model_module_version": "1.5.0",
            "value": " 1.45k/1.45k [00:25&lt;00:00, 56.1B/s]",
            "_view_count": null,
            "_view_module_version": "1.5.0",
            "description_tooltip": null,
            "_model_module": "@jupyter-widgets/controls",
            "layout": "IPY_MODEL_714c2d1533df4fb1a34c290b8c49e480"
          }
        },
        "fcf63c0d4b254d47969d250a67f55c5b": {
          "model_module": "@jupyter-widgets/controls",
          "model_name": "ProgressStyleModel",
          "model_module_version": "1.5.0",
          "state": {
            "_view_name": "StyleView",
            "_model_name": "ProgressStyleModel",
            "description_width": "initial",
            "_view_module": "@jupyter-widgets/base",
            "_model_module_version": "1.5.0",
            "_view_count": null,
            "_view_module_version": "1.2.0",
            "bar_color": null,
            "_model_module": "@jupyter-widgets/controls"
          }
        },
        "4cd8f6214c8440d98a4cab0d7d8be0ac": {
          "model_module": "@jupyter-widgets/base",
          "model_name": "LayoutModel",
          "model_module_version": "1.2.0",
          "state": {
            "_view_name": "LayoutView",
            "grid_template_rows": null,
            "right": null,
            "justify_content": null,
            "_view_module": "@jupyter-widgets/base",
            "overflow": null,
            "_model_module_version": "1.2.0",
            "_view_count": null,
            "flex_flow": null,
            "width": null,
            "min_width": null,
            "border": null,
            "align_items": null,
            "bottom": null,
            "_model_module": "@jupyter-widgets/base",
            "top": null,
            "grid_column": null,
            "overflow_y": null,
            "overflow_x": null,
            "grid_auto_flow": null,
            "grid_area": null,
            "grid_template_columns": null,
            "flex": null,
            "_model_name": "LayoutModel",
            "justify_items": null,
            "grid_row": null,
            "max_height": null,
            "align_content": null,
            "visibility": null,
            "align_self": null,
            "height": null,
            "min_height": null,
            "padding": null,
            "grid_auto_rows": null,
            "grid_gap": null,
            "max_width": null,
            "order": null,
            "_view_module_version": "1.2.0",
            "grid_template_areas": null,
            "object_position": null,
            "object_fit": null,
            "grid_auto_columns": null,
            "margin": null,
            "display": null,
            "left": null
          }
        },
        "b26a4a96fffb4b8e8d166f8bf486f471": {
          "model_module": "@jupyter-widgets/controls",
          "model_name": "DescriptionStyleModel",
          "model_module_version": "1.5.0",
          "state": {
            "_view_name": "StyleView",
            "_model_name": "DescriptionStyleModel",
            "description_width": "",
            "_view_module": "@jupyter-widgets/base",
            "_model_module_version": "1.5.0",
            "_view_count": null,
            "_view_module_version": "1.2.0",
            "_model_module": "@jupyter-widgets/controls"
          }
        },
        "714c2d1533df4fb1a34c290b8c49e480": {
          "model_module": "@jupyter-widgets/base",
          "model_name": "LayoutModel",
          "model_module_version": "1.2.0",
          "state": {
            "_view_name": "LayoutView",
            "grid_template_rows": null,
            "right": null,
            "justify_content": null,
            "_view_module": "@jupyter-widgets/base",
            "overflow": null,
            "_model_module_version": "1.2.0",
            "_view_count": null,
            "flex_flow": null,
            "width": null,
            "min_width": null,
            "border": null,
            "align_items": null,
            "bottom": null,
            "_model_module": "@jupyter-widgets/base",
            "top": null,
            "grid_column": null,
            "overflow_y": null,
            "overflow_x": null,
            "grid_auto_flow": null,
            "grid_area": null,
            "grid_template_columns": null,
            "flex": null,
            "_model_name": "LayoutModel",
            "justify_items": null,
            "grid_row": null,
            "max_height": null,
            "align_content": null,
            "visibility": null,
            "align_self": null,
            "height": null,
            "min_height": null,
            "padding": null,
            "grid_auto_rows": null,
            "grid_gap": null,
            "max_width": null,
            "order": null,
            "_view_module_version": "1.2.0",
            "grid_template_areas": null,
            "object_position": null,
            "object_fit": null,
            "grid_auto_columns": null,
            "margin": null,
            "display": null,
            "left": null
          }
        },
        "52dd9911ee404eda87925875ea0d62c0": {
          "model_module": "@jupyter-widgets/controls",
          "model_name": "HBoxModel",
          "model_module_version": "1.5.0",
          "state": {
            "_view_name": "HBoxView",
            "_dom_classes": [],
            "_model_name": "HBoxModel",
            "_view_module": "@jupyter-widgets/controls",
            "_model_module_version": "1.5.0",
            "_view_count": null,
            "_view_module_version": "1.5.0",
            "box_style": "",
            "layout": "IPY_MODEL_868a9124dd48494298137e935dc09b71",
            "_model_module": "@jupyter-widgets/controls",
            "children": [
              "IPY_MODEL_ef9850eafa584b98a8db88a8cb0007d6",
              "IPY_MODEL_37e43d61278843e3a00b89cb0554743f"
            ]
          }
        },
        "868a9124dd48494298137e935dc09b71": {
          "model_module": "@jupyter-widgets/base",
          "model_name": "LayoutModel",
          "model_module_version": "1.2.0",
          "state": {
            "_view_name": "LayoutView",
            "grid_template_rows": null,
            "right": null,
            "justify_content": null,
            "_view_module": "@jupyter-widgets/base",
            "overflow": null,
            "_model_module_version": "1.2.0",
            "_view_count": null,
            "flex_flow": null,
            "width": null,
            "min_width": null,
            "border": null,
            "align_items": null,
            "bottom": null,
            "_model_module": "@jupyter-widgets/base",
            "top": null,
            "grid_column": null,
            "overflow_y": null,
            "overflow_x": null,
            "grid_auto_flow": null,
            "grid_area": null,
            "grid_template_columns": null,
            "flex": null,
            "_model_name": "LayoutModel",
            "justify_items": null,
            "grid_row": null,
            "max_height": null,
            "align_content": null,
            "visibility": null,
            "align_self": null,
            "height": null,
            "min_height": null,
            "padding": null,
            "grid_auto_rows": null,
            "grid_gap": null,
            "max_width": null,
            "order": null,
            "_view_module_version": "1.2.0",
            "grid_template_areas": null,
            "object_position": null,
            "object_fit": null,
            "grid_auto_columns": null,
            "margin": null,
            "display": null,
            "left": null
          }
        },
        "ef9850eafa584b98a8db88a8cb0007d6": {
          "model_module": "@jupyter-widgets/controls",
          "model_name": "FloatProgressModel",
          "model_module_version": "1.5.0",
          "state": {
            "_view_name": "ProgressView",
            "style": "IPY_MODEL_07b7dd125a47433b8e5732b3a415d452",
            "_dom_classes": [],
            "description": "Downloading: 100%",
            "_model_name": "FloatProgressModel",
            "bar_style": "success",
            "max": 1261920069,
            "_view_module": "@jupyter-widgets/controls",
            "_model_module_version": "1.5.0",
            "value": 1261920069,
            "_view_count": null,
            "_view_module_version": "1.5.0",
            "orientation": "horizontal",
            "min": 0,
            "description_tooltip": null,
            "_model_module": "@jupyter-widgets/controls",
            "layout": "IPY_MODEL_007f8859adf94fc594ffcc6791de373d"
          }
        },
        "37e43d61278843e3a00b89cb0554743f": {
          "model_module": "@jupyter-widgets/controls",
          "model_name": "HTMLModel",
          "model_module_version": "1.5.0",
          "state": {
            "_view_name": "HTMLView",
            "style": "IPY_MODEL_2c9ceec65edd4102a38d9ef1bbad4b6d",
            "_dom_classes": [],
            "description": "",
            "_model_name": "HTMLModel",
            "placeholder": "​",
            "_view_module": "@jupyter-widgets/controls",
            "_model_module_version": "1.5.0",
            "value": " 1.26G/1.26G [00:25&lt;00:00, 49.8MB/s]",
            "_view_count": null,
            "_view_module_version": "1.5.0",
            "description_tooltip": null,
            "_model_module": "@jupyter-widgets/controls",
            "layout": "IPY_MODEL_8960a7196f0746c0bfe5e38850d754e1"
          }
        },
        "07b7dd125a47433b8e5732b3a415d452": {
          "model_module": "@jupyter-widgets/controls",
          "model_name": "ProgressStyleModel",
          "model_module_version": "1.5.0",
          "state": {
            "_view_name": "StyleView",
            "_model_name": "ProgressStyleModel",
            "description_width": "initial",
            "_view_module": "@jupyter-widgets/base",
            "_model_module_version": "1.5.0",
            "_view_count": null,
            "_view_module_version": "1.2.0",
            "bar_color": null,
            "_model_module": "@jupyter-widgets/controls"
          }
        },
        "007f8859adf94fc594ffcc6791de373d": {
          "model_module": "@jupyter-widgets/base",
          "model_name": "LayoutModel",
          "model_module_version": "1.2.0",
          "state": {
            "_view_name": "LayoutView",
            "grid_template_rows": null,
            "right": null,
            "justify_content": null,
            "_view_module": "@jupyter-widgets/base",
            "overflow": null,
            "_model_module_version": "1.2.0",
            "_view_count": null,
            "flex_flow": null,
            "width": null,
            "min_width": null,
            "border": null,
            "align_items": null,
            "bottom": null,
            "_model_module": "@jupyter-widgets/base",
            "top": null,
            "grid_column": null,
            "overflow_y": null,
            "overflow_x": null,
            "grid_auto_flow": null,
            "grid_area": null,
            "grid_template_columns": null,
            "flex": null,
            "_model_name": "LayoutModel",
            "justify_items": null,
            "grid_row": null,
            "max_height": null,
            "align_content": null,
            "visibility": null,
            "align_self": null,
            "height": null,
            "min_height": null,
            "padding": null,
            "grid_auto_rows": null,
            "grid_gap": null,
            "max_width": null,
            "order": null,
            "_view_module_version": "1.2.0",
            "grid_template_areas": null,
            "object_position": null,
            "object_fit": null,
            "grid_auto_columns": null,
            "margin": null,
            "display": null,
            "left": null
          }
        },
        "2c9ceec65edd4102a38d9ef1bbad4b6d": {
          "model_module": "@jupyter-widgets/controls",
          "model_name": "DescriptionStyleModel",
          "model_module_version": "1.5.0",
          "state": {
            "_view_name": "StyleView",
            "_model_name": "DescriptionStyleModel",
            "description_width": "",
            "_view_module": "@jupyter-widgets/base",
            "_model_module_version": "1.5.0",
            "_view_count": null,
            "_view_module_version": "1.2.0",
            "_model_module": "@jupyter-widgets/controls"
          }
        },
        "8960a7196f0746c0bfe5e38850d754e1": {
          "model_module": "@jupyter-widgets/base",
          "model_name": "LayoutModel",
          "model_module_version": "1.2.0",
          "state": {
            "_view_name": "LayoutView",
            "grid_template_rows": null,
            "right": null,
            "justify_content": null,
            "_view_module": "@jupyter-widgets/base",
            "overflow": null,
            "_model_module_version": "1.2.0",
            "_view_count": null,
            "flex_flow": null,
            "width": null,
            "min_width": null,
            "border": null,
            "align_items": null,
            "bottom": null,
            "_model_module": "@jupyter-widgets/base",
            "top": null,
            "grid_column": null,
            "overflow_y": null,
            "overflow_x": null,
            "grid_auto_flow": null,
            "grid_area": null,
            "grid_template_columns": null,
            "flex": null,
            "_model_name": "LayoutModel",
            "justify_items": null,
            "grid_row": null,
            "max_height": null,
            "align_content": null,
            "visibility": null,
            "align_self": null,
            "height": null,
            "min_height": null,
            "padding": null,
            "grid_auto_rows": null,
            "grid_gap": null,
            "max_width": null,
            "order": null,
            "_view_module_version": "1.2.0",
            "grid_template_areas": null,
            "object_position": null,
            "object_fit": null,
            "grid_auto_columns": null,
            "margin": null,
            "display": null,
            "left": null
          }
        },
        "055653db97394436b7f70b80cc211f2d": {
          "model_module": "@jupyter-widgets/controls",
          "model_name": "HBoxModel",
          "model_module_version": "1.5.0",
          "state": {
            "_view_name": "HBoxView",
            "_dom_classes": [],
            "_model_name": "HBoxModel",
            "_view_module": "@jupyter-widgets/controls",
            "_model_module_version": "1.5.0",
            "_view_count": null,
            "_view_module_version": "1.5.0",
            "box_style": "",
            "layout": "IPY_MODEL_03926327ca8e4894b9a665d24cb17fb9",
            "_model_module": "@jupyter-widgets/controls",
            "children": [
              "IPY_MODEL_c9375a6012ab498fa810ea86b91418d3",
              "IPY_MODEL_de597703ee59447380cb8bab50322482"
            ]
          }
        },
        "03926327ca8e4894b9a665d24cb17fb9": {
          "model_module": "@jupyter-widgets/base",
          "model_name": "LayoutModel",
          "model_module_version": "1.2.0",
          "state": {
            "_view_name": "LayoutView",
            "grid_template_rows": null,
            "right": null,
            "justify_content": null,
            "_view_module": "@jupyter-widgets/base",
            "overflow": null,
            "_model_module_version": "1.2.0",
            "_view_count": null,
            "flex_flow": null,
            "width": null,
            "min_width": null,
            "border": null,
            "align_items": null,
            "bottom": null,
            "_model_module": "@jupyter-widgets/base",
            "top": null,
            "grid_column": null,
            "overflow_y": null,
            "overflow_x": null,
            "grid_auto_flow": null,
            "grid_area": null,
            "grid_template_columns": null,
            "flex": null,
            "_model_name": "LayoutModel",
            "justify_items": null,
            "grid_row": null,
            "max_height": null,
            "align_content": null,
            "visibility": null,
            "align_self": null,
            "height": null,
            "min_height": null,
            "padding": null,
            "grid_auto_rows": null,
            "grid_gap": null,
            "max_width": null,
            "order": null,
            "_view_module_version": "1.2.0",
            "grid_template_areas": null,
            "object_position": null,
            "object_fit": null,
            "grid_auto_columns": null,
            "margin": null,
            "display": null,
            "left": null
          }
        },
        "c9375a6012ab498fa810ea86b91418d3": {
          "model_module": "@jupyter-widgets/controls",
          "model_name": "FloatProgressModel",
          "model_module_version": "1.5.0",
          "state": {
            "_view_name": "ProgressView",
            "style": "IPY_MODEL_aaeeb098b8eb43ffbf0f9c609e0b8b86",
            "_dom_classes": [],
            "description": "100%",
            "_model_name": "FloatProgressModel",
            "bar_style": "success",
            "max": 1564,
            "_view_module": "@jupyter-widgets/controls",
            "_model_module_version": "1.5.0",
            "value": 1564,
            "_view_count": null,
            "_view_module_version": "1.5.0",
            "orientation": "horizontal",
            "min": 0,
            "description_tooltip": null,
            "_model_module": "@jupyter-widgets/controls",
            "layout": "IPY_MODEL_10e1df2fdaeb4184a92c24e19a5f6d00"
          }
        },
        "de597703ee59447380cb8bab50322482": {
          "model_module": "@jupyter-widgets/controls",
          "model_name": "HTMLModel",
          "model_module_version": "1.5.0",
          "state": {
            "_view_name": "HTMLView",
            "style": "IPY_MODEL_096053fc3f29415989bb4f2c499ff290",
            "_dom_classes": [],
            "description": "",
            "_model_name": "HTMLModel",
            "placeholder": "​",
            "_view_module": "@jupyter-widgets/controls",
            "_model_module_version": "1.5.0",
            "value": " 1564/1564 [00:32&lt;00:00, 48.70ex/s]",
            "_view_count": null,
            "_view_module_version": "1.5.0",
            "description_tooltip": null,
            "_model_module": "@jupyter-widgets/controls",
            "layout": "IPY_MODEL_527dd22a70c4490d8487948ff3fabe32"
          }
        },
        "aaeeb098b8eb43ffbf0f9c609e0b8b86": {
          "model_module": "@jupyter-widgets/controls",
          "model_name": "ProgressStyleModel",
          "model_module_version": "1.5.0",
          "state": {
            "_view_name": "StyleView",
            "_model_name": "ProgressStyleModel",
            "description_width": "initial",
            "_view_module": "@jupyter-widgets/base",
            "_model_module_version": "1.5.0",
            "_view_count": null,
            "_view_module_version": "1.2.0",
            "bar_color": null,
            "_model_module": "@jupyter-widgets/controls"
          }
        },
        "10e1df2fdaeb4184a92c24e19a5f6d00": {
          "model_module": "@jupyter-widgets/base",
          "model_name": "LayoutModel",
          "model_module_version": "1.2.0",
          "state": {
            "_view_name": "LayoutView",
            "grid_template_rows": null,
            "right": null,
            "justify_content": null,
            "_view_module": "@jupyter-widgets/base",
            "overflow": null,
            "_model_module_version": "1.2.0",
            "_view_count": null,
            "flex_flow": null,
            "width": null,
            "min_width": null,
            "border": null,
            "align_items": null,
            "bottom": null,
            "_model_module": "@jupyter-widgets/base",
            "top": null,
            "grid_column": null,
            "overflow_y": null,
            "overflow_x": null,
            "grid_auto_flow": null,
            "grid_area": null,
            "grid_template_columns": null,
            "flex": null,
            "_model_name": "LayoutModel",
            "justify_items": null,
            "grid_row": null,
            "max_height": null,
            "align_content": null,
            "visibility": null,
            "align_self": null,
            "height": null,
            "min_height": null,
            "padding": null,
            "grid_auto_rows": null,
            "grid_gap": null,
            "max_width": null,
            "order": null,
            "_view_module_version": "1.2.0",
            "grid_template_areas": null,
            "object_position": null,
            "object_fit": null,
            "grid_auto_columns": null,
            "margin": null,
            "display": null,
            "left": null
          }
        },
        "096053fc3f29415989bb4f2c499ff290": {
          "model_module": "@jupyter-widgets/controls",
          "model_name": "DescriptionStyleModel",
          "model_module_version": "1.5.0",
          "state": {
            "_view_name": "StyleView",
            "_model_name": "DescriptionStyleModel",
            "description_width": "",
            "_view_module": "@jupyter-widgets/base",
            "_model_module_version": "1.5.0",
            "_view_count": null,
            "_view_module_version": "1.2.0",
            "_model_module": "@jupyter-widgets/controls"
          }
        },
        "527dd22a70c4490d8487948ff3fabe32": {
          "model_module": "@jupyter-widgets/base",
          "model_name": "LayoutModel",
          "model_module_version": "1.2.0",
          "state": {
            "_view_name": "LayoutView",
            "grid_template_rows": null,
            "right": null,
            "justify_content": null,
            "_view_module": "@jupyter-widgets/base",
            "overflow": null,
            "_model_module_version": "1.2.0",
            "_view_count": null,
            "flex_flow": null,
            "width": null,
            "min_width": null,
            "border": null,
            "align_items": null,
            "bottom": null,
            "_model_module": "@jupyter-widgets/base",
            "top": null,
            "grid_column": null,
            "overflow_y": null,
            "overflow_x": null,
            "grid_auto_flow": null,
            "grid_area": null,
            "grid_template_columns": null,
            "flex": null,
            "_model_name": "LayoutModel",
            "justify_items": null,
            "grid_row": null,
            "max_height": null,
            "align_content": null,
            "visibility": null,
            "align_self": null,
            "height": null,
            "min_height": null,
            "padding": null,
            "grid_auto_rows": null,
            "grid_gap": null,
            "max_width": null,
            "order": null,
            "_view_module_version": "1.2.0",
            "grid_template_areas": null,
            "object_position": null,
            "object_fit": null,
            "grid_auto_columns": null,
            "margin": null,
            "display": null,
            "left": null
          }
        },
        "bc449d9e51d44bcdb102eab0fd74ecfe": {
          "model_module": "@jupyter-widgets/controls",
          "model_name": "HBoxModel",
          "model_module_version": "1.5.0",
          "state": {
            "_view_name": "HBoxView",
            "_dom_classes": [],
            "_model_name": "HBoxModel",
            "_view_module": "@jupyter-widgets/controls",
            "_model_module_version": "1.5.0",
            "_view_count": null,
            "_view_module_version": "1.5.0",
            "box_style": "",
            "layout": "IPY_MODEL_d6ce2099ff7a4cec8c13bd2deb3c464e",
            "_model_module": "@jupyter-widgets/controls",
            "children": [
              "IPY_MODEL_b37eab08b5394ee2b5643a265f0d50ef",
              "IPY_MODEL_029af175b2a24ed4901002fa6968fedc"
            ]
          }
        },
        "d6ce2099ff7a4cec8c13bd2deb3c464e": {
          "model_module": "@jupyter-widgets/base",
          "model_name": "LayoutModel",
          "model_module_version": "1.2.0",
          "state": {
            "_view_name": "LayoutView",
            "grid_template_rows": null,
            "right": null,
            "justify_content": null,
            "_view_module": "@jupyter-widgets/base",
            "overflow": null,
            "_model_module_version": "1.2.0",
            "_view_count": null,
            "flex_flow": null,
            "width": null,
            "min_width": null,
            "border": null,
            "align_items": null,
            "bottom": null,
            "_model_module": "@jupyter-widgets/base",
            "top": null,
            "grid_column": null,
            "overflow_y": null,
            "overflow_x": null,
            "grid_auto_flow": null,
            "grid_area": null,
            "grid_template_columns": null,
            "flex": null,
            "_model_name": "LayoutModel",
            "justify_items": null,
            "grid_row": null,
            "max_height": null,
            "align_content": null,
            "visibility": null,
            "align_self": null,
            "height": null,
            "min_height": null,
            "padding": null,
            "grid_auto_rows": null,
            "grid_gap": null,
            "max_width": null,
            "order": null,
            "_view_module_version": "1.2.0",
            "grid_template_areas": null,
            "object_position": null,
            "object_fit": null,
            "grid_auto_columns": null,
            "margin": null,
            "display": null,
            "left": null
          }
        },
        "b37eab08b5394ee2b5643a265f0d50ef": {
          "model_module": "@jupyter-widgets/controls",
          "model_name": "FloatProgressModel",
          "model_module_version": "1.5.0",
          "state": {
            "_view_name": "ProgressView",
            "style": "IPY_MODEL_e39db372be3d4e81aa8cb7f7687c9534",
            "_dom_classes": [],
            "description": "100%",
            "_model_name": "FloatProgressModel",
            "bar_style": "success",
            "max": 196,
            "_view_module": "@jupyter-widgets/controls",
            "_model_module_version": "1.5.0",
            "value": 196,
            "_view_count": null,
            "_view_module_version": "1.5.0",
            "orientation": "horizontal",
            "min": 0,
            "description_tooltip": null,
            "_model_module": "@jupyter-widgets/controls",
            "layout": "IPY_MODEL_10eed8e2504048feaad39dbeb2845407"
          }
        },
        "029af175b2a24ed4901002fa6968fedc": {
          "model_module": "@jupyter-widgets/controls",
          "model_name": "HTMLModel",
          "model_module_version": "1.5.0",
          "state": {
            "_view_name": "HTMLView",
            "style": "IPY_MODEL_18969c55e4194435bb856da323ab026c",
            "_dom_classes": [],
            "description": "",
            "_model_name": "HTMLModel",
            "placeholder": "​",
            "_view_module": "@jupyter-widgets/controls",
            "_model_module_version": "1.5.0",
            "value": " 196/196 [02:14&lt;00:00,  1.45ba/s]",
            "_view_count": null,
            "_view_module_version": "1.5.0",
            "description_tooltip": null,
            "_model_module": "@jupyter-widgets/controls",
            "layout": "IPY_MODEL_ca071fd1c3ad4fa081229c7f8e2686f5"
          }
        },
        "e39db372be3d4e81aa8cb7f7687c9534": {
          "model_module": "@jupyter-widgets/controls",
          "model_name": "ProgressStyleModel",
          "model_module_version": "1.5.0",
          "state": {
            "_view_name": "StyleView",
            "_model_name": "ProgressStyleModel",
            "description_width": "initial",
            "_view_module": "@jupyter-widgets/base",
            "_model_module_version": "1.5.0",
            "_view_count": null,
            "_view_module_version": "1.2.0",
            "bar_color": null,
            "_model_module": "@jupyter-widgets/controls"
          }
        },
        "10eed8e2504048feaad39dbeb2845407": {
          "model_module": "@jupyter-widgets/base",
          "model_name": "LayoutModel",
          "model_module_version": "1.2.0",
          "state": {
            "_view_name": "LayoutView",
            "grid_template_rows": null,
            "right": null,
            "justify_content": null,
            "_view_module": "@jupyter-widgets/base",
            "overflow": null,
            "_model_module_version": "1.2.0",
            "_view_count": null,
            "flex_flow": null,
            "width": null,
            "min_width": null,
            "border": null,
            "align_items": null,
            "bottom": null,
            "_model_module": "@jupyter-widgets/base",
            "top": null,
            "grid_column": null,
            "overflow_y": null,
            "overflow_x": null,
            "grid_auto_flow": null,
            "grid_area": null,
            "grid_template_columns": null,
            "flex": null,
            "_model_name": "LayoutModel",
            "justify_items": null,
            "grid_row": null,
            "max_height": null,
            "align_content": null,
            "visibility": null,
            "align_self": null,
            "height": null,
            "min_height": null,
            "padding": null,
            "grid_auto_rows": null,
            "grid_gap": null,
            "max_width": null,
            "order": null,
            "_view_module_version": "1.2.0",
            "grid_template_areas": null,
            "object_position": null,
            "object_fit": null,
            "grid_auto_columns": null,
            "margin": null,
            "display": null,
            "left": null
          }
        },
        "18969c55e4194435bb856da323ab026c": {
          "model_module": "@jupyter-widgets/controls",
          "model_name": "DescriptionStyleModel",
          "model_module_version": "1.5.0",
          "state": {
            "_view_name": "StyleView",
            "_model_name": "DescriptionStyleModel",
            "description_width": "",
            "_view_module": "@jupyter-widgets/base",
            "_model_module_version": "1.5.0",
            "_view_count": null,
            "_view_module_version": "1.2.0",
            "_model_module": "@jupyter-widgets/controls"
          }
        },
        "ca071fd1c3ad4fa081229c7f8e2686f5": {
          "model_module": "@jupyter-widgets/base",
          "model_name": "LayoutModel",
          "model_module_version": "1.2.0",
          "state": {
            "_view_name": "LayoutView",
            "grid_template_rows": null,
            "right": null,
            "justify_content": null,
            "_view_module": "@jupyter-widgets/base",
            "overflow": null,
            "_model_module_version": "1.2.0",
            "_view_count": null,
            "flex_flow": null,
            "width": null,
            "min_width": null,
            "border": null,
            "align_items": null,
            "bottom": null,
            "_model_module": "@jupyter-widgets/base",
            "top": null,
            "grid_column": null,
            "overflow_y": null,
            "overflow_x": null,
            "grid_auto_flow": null,
            "grid_area": null,
            "grid_template_columns": null,
            "flex": null,
            "_model_name": "LayoutModel",
            "justify_items": null,
            "grid_row": null,
            "max_height": null,
            "align_content": null,
            "visibility": null,
            "align_self": null,
            "height": null,
            "min_height": null,
            "padding": null,
            "grid_auto_rows": null,
            "grid_gap": null,
            "max_width": null,
            "order": null,
            "_view_module_version": "1.2.0",
            "grid_template_areas": null,
            "object_position": null,
            "object_fit": null,
            "grid_auto_columns": null,
            "margin": null,
            "display": null,
            "left": null
          }
        }
      }
    }
  },
  "cells": [
    {
      "cell_type": "code",
      "metadata": {
        "colab": {
          "base_uri": "https://localhost:8080/"
        },
        "id": "pJbYXou6chZf",
        "outputId": "060ec9b7-f23f-4038-87db-80d2c5dec737"
      },
      "source": [
        "!nvidia-smi"
      ],
      "execution_count": null,
      "outputs": [
        {
          "output_type": "stream",
          "text": [
            "Wed May 26 09:46:47 2021       \n",
            "+-----------------------------------------------------------------------------+\n",
            "| NVIDIA-SMI 465.19.01    Driver Version: 460.32.03    CUDA Version: 11.2     |\n",
            "|-------------------------------+----------------------+----------------------+\n",
            "| GPU  Name        Persistence-M| Bus-Id        Disp.A | Volatile Uncorr. ECC |\n",
            "| Fan  Temp  Perf  Pwr:Usage/Cap|         Memory-Usage | GPU-Util  Compute M. |\n",
            "|                               |                      |               MIG M. |\n",
            "|===============================+======================+======================|\n",
            "|   0  Tesla T4            Off  | 00000000:00:04.0 Off |                    0 |\n",
            "| N/A   59C    P8    10W /  70W |      0MiB / 15109MiB |      0%      Default |\n",
            "|                               |                      |                  N/A |\n",
            "+-------------------------------+----------------------+----------------------+\n",
            "                                                                               \n",
            "+-----------------------------------------------------------------------------+\n",
            "| Processes:                                                                  |\n",
            "|  GPU   GI   CI        PID   Type   Process name                  GPU Memory |\n",
            "|        ID   ID                                                   Usage      |\n",
            "|=============================================================================|\n",
            "|  No running processes found                                                 |\n",
            "+-----------------------------------------------------------------------------+\n"
          ],
          "name": "stdout"
        }
      ]
    },
    {
      "cell_type": "code",
      "metadata": {
        "id": "CqLy5MhlH7up",
        "colab": {
          "base_uri": "https://localhost:8080/"
        },
        "outputId": "2317d276-3831-4c95-f5b5-cee0e1d179f2"
      },
      "source": [
        "!pip install -q git+https://github.com/eaedk/testing-zindi-package.git"
      ],
      "execution_count": null,
      "outputs": [
        {
          "output_type": "stream",
          "text": [
            "  Building wheel for zindi (setup.py) ... \u001b[?25l\u001b[?25hdone\n"
          ],
          "name": "stdout"
        }
      ]
    },
    {
      "cell_type": "code",
      "metadata": {
        "id": "3Vae01SJ4Fe9"
      },
      "source": [
        "# Import Zindian class from the package\n",
        "from zindi.user import Zindian"
      ],
      "execution_count": null,
      "outputs": []
    },
    {
      "cell_type": "code",
      "metadata": {
        "id": "5jpHr8Gd4HRe"
      },
      "source": [
        "# login to your Zindi account to download the dataset\n",
        "my_username = \"your username\"\n",
        "user = Zindian(username = my_username)"
      ],
      "execution_count": null,
      "outputs": []
    },
    {
      "cell_type": "code",
      "metadata": {
        "id": "BL9uzjNe4JwF"
      },
      "source": [
        "user.select_a_challenge()                               # Select a Zindi challenge\n",
        "user.which_challenge                                    # Get information about the selected challenge"
      ],
      "execution_count": null,
      "outputs": []
    },
    {
      "cell_type": "code",
      "metadata": {
        "colab": {
          "base_uri": "https://localhost:8080/"
        },
        "id": "oozDQzoU4MZ7",
        "outputId": "d0d3927f-8d96-4c65-c4e8-8b905804a600"
      },
      "source": [
        "user.download_dataset(destination=\"dataset\") # Download the dataset of the selected challenge"
      ],
      "execution_count": null,
      "outputs": [
        {
          "output_type": "stream",
          "text": [
            "dataset/Test.csv: 100%|██████████| 215k/215k [00:00<00:00, 527ko/s] \n",
            "dataset/SampleSubmission.csv: 100%|██████████| 200k/200k [00:00<00:00, 359ko/s]\n",
            "dataset/clips.zip: 100%|██████████| 241M/241M [00:34<00:00, 7.26Mo/s]\n",
            "dataset/Train.csv: 100%|██████████| 1.05M/1.05M [00:00<00:00, 1.28Mo/s]\n"
          ],
          "name": "stderr"
        }
      ]
    },
    {
      "cell_type": "code",
      "metadata": {
        "id": "b4HO6jXX4PpM"
      },
      "source": [
        "!unzip dataset/clips.zip"
      ],
      "execution_count": null,
      "outputs": []
    },
    {
      "cell_type": "code",
      "metadata": {
        "colab": {
          "base_uri": "https://localhost:8080/"
        },
        "id": "tQhv8FRYHsLw",
        "outputId": "07d4a429-cabd-4a92-b609-b9c06faaa2cf"
      },
      "source": [
        "from google.colab import drive\n",
        "drive.mount('/content/gdrive/')"
      ],
      "execution_count": null,
      "outputs": [
        {
          "output_type": "stream",
          "text": [
            "Mounted at /content/gdrive/\n"
          ],
          "name": "stdout"
        }
      ]
    },
    {
      "cell_type": "code",
      "metadata": {
        "id": "IlyaoXNh4R6e"
      },
      "source": [
        "# Create a directory named wolof to save your model\n",
        "\n",
        "output_models_dir = \"gdrive/MyDrive/wolof\""
      ],
      "execution_count": null,
      "outputs": []
    },
    {
      "cell_type": "code",
      "metadata": {
        "id": "UmQPYkNy4Tx3"
      },
      "source": [
        "%%capture\n",
        "!pip install datasets==1.4.1\n",
        "!pip install transformers==4.4.0\n",
        "!pip install torchaudio\n",
        "!pip install jiwer\n"
      ],
      "execution_count": null,
      "outputs": []
    },
    {
      "cell_type": "code",
      "metadata": {
        "colab": {
          "base_uri": "https://localhost:8080/",
          "height": 198
        },
        "id": "8qYDqhuU4VgA",
        "outputId": "53045670-7896-4fd6-dbc7-3cb58d502983"
      },
      "source": [
        "import pandas as pd\n",
        "\n",
        "data = pd.read_csv('dataset/Train.csv')\n",
        "data['ID'] = 'clips/' + data['ID'] + '.mp3'\n",
        "data.to_csv('train.csv',index=False)\n",
        "data.head()\n"
      ],
      "execution_count": null,
      "outputs": [
        {
          "output_type": "execute_result",
          "data": {
            "text/html": [
              "<div>\n",
              "<style scoped>\n",
              "    .dataframe tbody tr th:only-of-type {\n",
              "        vertical-align: middle;\n",
              "    }\n",
              "\n",
              "    .dataframe tbody tr th {\n",
              "        vertical-align: top;\n",
              "    }\n",
              "\n",
              "    .dataframe thead th {\n",
              "        text-align: right;\n",
              "    }\n",
              "</style>\n",
              "<table border=\"1\" class=\"dataframe\">\n",
              "  <thead>\n",
              "    <tr style=\"text-align: right;\">\n",
              "      <th></th>\n",
              "      <th>ID</th>\n",
              "      <th>up_votes</th>\n",
              "      <th>down_votes</th>\n",
              "      <th>age</th>\n",
              "      <th>gender</th>\n",
              "      <th>transcription</th>\n",
              "    </tr>\n",
              "  </thead>\n",
              "  <tbody>\n",
              "    <tr>\n",
              "      <th>0</th>\n",
              "      <td>clips/002e50c29ac2890c7cb3b3d63dcbe512bc6850de...</td>\n",
              "      <td>2</td>\n",
              "      <td>0</td>\n",
              "      <td>NaN</td>\n",
              "      <td>NaN</td>\n",
              "      <td>Malicka</td>\n",
              "    </tr>\n",
              "    <tr>\n",
              "      <th>1</th>\n",
              "      <td>clips/0031672b4484f963c8a07babe6f713dd559539d4...</td>\n",
              "      <td>2</td>\n",
              "      <td>0</td>\n",
              "      <td>twenties</td>\n",
              "      <td>female</td>\n",
              "      <td>Ecole Elementaire Pikine Nord</td>\n",
              "    </tr>\n",
              "    <tr>\n",
              "      <th>2</th>\n",
              "      <td>clips/00362ccc6b48d3ea225e12ddf8a06a9d582cccc0...</td>\n",
              "      <td>2</td>\n",
              "      <td>0</td>\n",
              "      <td>twenties</td>\n",
              "      <td>male</td>\n",
              "      <td>Cimetière de Cambérène</td>\n",
              "    </tr>\n",
              "    <tr>\n",
              "      <th>3</th>\n",
              "      <td>clips/0042cdb4d4a015cddacc26d88faffdd714b7a272...</td>\n",
              "      <td>2</td>\n",
              "      <td>0</td>\n",
              "      <td>twenties</td>\n",
              "      <td>male</td>\n",
              "      <td>Tournalou Boune</td>\n",
              "    </tr>\n",
              "    <tr>\n",
              "      <th>4</th>\n",
              "      <td>clips/00439f02fa8f0dade934bdb317199b71662e9396...</td>\n",
              "      <td>2</td>\n",
              "      <td>0</td>\n",
              "      <td>twenties</td>\n",
              "      <td>male</td>\n",
              "      <td>Pharmacie Golf Sud</td>\n",
              "    </tr>\n",
              "  </tbody>\n",
              "</table>\n",
              "</div>"
            ],
            "text/plain": [
              "                                                  ID  ...                  transcription\n",
              "0  clips/002e50c29ac2890c7cb3b3d63dcbe512bc6850de...  ...                        Malicka\n",
              "1  clips/0031672b4484f963c8a07babe6f713dd559539d4...  ...  Ecole Elementaire Pikine Nord\n",
              "2  clips/00362ccc6b48d3ea225e12ddf8a06a9d582cccc0...  ...         Cimetière de Cambérène\n",
              "3  clips/0042cdb4d4a015cddacc26d88faffdd714b7a272...  ...                Tournalou Boune\n",
              "4  clips/00439f02fa8f0dade934bdb317199b71662e9396...  ...             Pharmacie Golf Sud\n",
              "\n",
              "[5 rows x 6 columns]"
            ]
          },
          "metadata": {
            "tags": []
          },
          "execution_count": 11
        }
      ]
    },
    {
      "cell_type": "code",
      "metadata": {
        "colab": {
          "base_uri": "https://localhost:8080/",
          "height": 128,
          "referenced_widgets": [
            "89aca9b5bb6b4020bb617480bb7de29b",
            "1607ef22f043405f9a76a5986e59f0ea",
            "01c69100f20744ffb9a10058a63ae8e1",
            "eeed381b5d6b4838b58c3c09d6fff51c",
            "16914640d9754d47a9ba8df2a862adec",
            "52ec80559a4c4b32bc4213e5bd502f9f",
            "d1ea07dc749f4b359a3fa325a183b3be",
            "dc529c34528b4a5baf0d97a14f85e886"
          ]
        },
        "id": "_nE5Lw5j4XYq",
        "outputId": "fadd2cd8-6c55-446a-d662-86086a32c413"
      },
      "source": [
        "# Create training folds(5 folds)\n",
        "\n",
        "from datasets import load_dataset, load_metric,concatenate_datasets\n",
        "\n",
        "\n",
        "\n",
        "vals_ds = load_dataset('csv',data_files=['train.csv'], split=[f'train[{k}%:{k+20}%]' for k in range(0, 100, 20)])\n",
        "\n",
        "\n",
        "voice_val = vals_ds[0].remove_columns(['up_votes', 'down_votes', 'age', 'gender'])\n",
        "\n",
        "\n",
        "trains_ds = load_dataset('csv',data_files=['train.csv'], split=[f'train[:{k}%]+train[{k+20}%:]' for k in range(0, 100, 20)])\n",
        "\n",
        "voice_train = trains_ds[0].remove_columns(['up_votes', 'down_votes', 'age', 'gender'])\n",
        "\n",
        "\n"
      ],
      "execution_count": null,
      "outputs": [
        {
          "output_type": "stream",
          "text": [
            "Using custom data configuration default-949450ca81edf56a\n"
          ],
          "name": "stderr"
        },
        {
          "output_type": "stream",
          "text": [
            "Downloading and preparing dataset csv/default (download: Unknown size, generated: Unknown size, post-processed: Unknown size, total: Unknown size) to /root/.cache/huggingface/datasets/csv/default-949450ca81edf56a/0.0.0/2a88c45fed596f9421a2e7f74ab1a3cd012ef75210a5dc1950e8d60ca8d9c66c...\n"
          ],
          "name": "stdout"
        },
        {
          "output_type": "display_data",
          "data": {
            "application/vnd.jupyter.widget-view+json": {
              "model_id": "89aca9b5bb6b4020bb617480bb7de29b",
              "version_minor": 0,
              "version_major": 2
            },
            "text/plain": [
              "HBox(children=(FloatProgress(value=1.0, bar_style='info', max=1.0), HTML(value='')))"
            ]
          },
          "metadata": {
            "tags": []
          }
        },
        {
          "output_type": "stream",
          "text": [
            "\rDataset csv downloaded and prepared to /root/.cache/huggingface/datasets/csv/default-949450ca81edf56a/0.0.0/2a88c45fed596f9421a2e7f74ab1a3cd012ef75210a5dc1950e8d60ca8d9c66c. Subsequent calls will reuse this data.\n"
          ],
          "name": "stdout"
        },
        {
          "output_type": "stream",
          "text": [
            "Using custom data configuration default-949450ca81edf56a\n",
            "Reusing dataset csv (/root/.cache/huggingface/datasets/csv/default-949450ca81edf56a/0.0.0/2a88c45fed596f9421a2e7f74ab1a3cd012ef75210a5dc1950e8d60ca8d9c66c)\n"
          ],
          "name": "stderr"
        }
      ]
    },
    {
      "cell_type": "code",
      "metadata": {
        "id": "P2-ViWy14bY4"
      },
      "source": [
        "from datasets import ClassLabel\n",
        "import random\n",
        "import pandas as pd\n",
        "from IPython.display import display, HTML\n",
        "\n",
        "def show_random_elements(dataset, num_examples=10):\n",
        "    assert num_examples <= len(dataset), \"Can't pick more elements than there are in the dataset.\"\n",
        "    picks = []\n",
        "    for _ in range(num_examples):\n",
        "        pick = random.randint(0, len(dataset)-1)\n",
        "        while pick in picks:\n",
        "            pick = random.randint(0, len(dataset)-1)\n",
        "        picks.append(pick)\n",
        "    \n",
        "    df = pd.DataFrame(dataset[picks])\n",
        "    display(HTML(df.to_html()))"
      ],
      "execution_count": null,
      "outputs": []
    },
    {
      "cell_type": "code",
      "metadata": {
        "colab": {
          "base_uri": "https://localhost:8080/",
          "height": 962
        },
        "id": "pNKkZ3ky4e9k",
        "outputId": "1209f5da-451c-4a3f-d7a5-36d6aee54247"
      },
      "source": [
        "# Display the dataset\n",
        "\n",
        "show_random_elements(voice_train, num_examples=20)"
      ],
      "execution_count": null,
      "outputs": [
        {
          "output_type": "display_data",
          "data": {
            "text/html": [
              "<table border=\"1\" class=\"dataframe\">\n",
              "  <thead>\n",
              "    <tr style=\"text-align: right;\">\n",
              "      <th></th>\n",
              "      <th>ID</th>\n",
              "      <th>transcription</th>\n",
              "    </tr>\n",
              "  </thead>\n",
              "  <tbody>\n",
              "    <tr>\n",
              "      <th>0</th>\n",
              "      <td>clips/ec54a7683a9f8644df86624a79ef6543a2313cf5ffeb7318627e1ed4c1c561132e8511c4b234023801000cca9c7d7698663ab857def672fc4a936114c159df92.mp3</td>\n",
              "      <td>ban oto mooy jaar Poste Courant</td>\n",
              "    </tr>\n",
              "    <tr>\n",
              "      <th>1</th>\n",
              "      <td>clips/3dfa7452f481c7b78b1d730eb23f431987017da1dbe63aa82dffd5a93ad5eb13fa4028cd5695c74a12e89d1036d554686aab23716a259d38955cb10901251c7d.mp3</td>\n",
              "      <td>Centre Sportiff de la BCEAO</td>\n",
              "    </tr>\n",
              "    <tr>\n",
              "      <th>2</th>\n",
              "      <td>clips/e3b2c5d4c288ee030919c4ed687d82a24472501547afcb7460c62ed054d2e9c7d62def2225962b2c9c4c2a566bb3555dce3fbe976f0f6837ea43a9b2e6444d65.mp3</td>\n",
              "      <td>Mosquée Terminus</td>\n",
              "    </tr>\n",
              "    <tr>\n",
              "      <th>3</th>\n",
              "      <td>clips/6918a57516f06d8db06b2f803770cc52d05a0cc257bfd6463494e62e47a7cfde174ea3775e8ecdde459ff780af35061b6a7cf6c4a2b61bdd039808ba75c8d106.mp3</td>\n",
              "      <td>Stade Amadou Barry</td>\n",
              "    </tr>\n",
              "    <tr>\n",
              "      <th>4</th>\n",
              "      <td>clips/70d180a9ee3f674465f1dc812e56d0c7fff54ec1b85ab33f5319e66dd52632528a2f3effd8311a5785c3b19adc464149f9a42e953e53170f8a8b02cb1875c45b.mp3</td>\n",
              "      <td>Bargny</td>\n",
              "    </tr>\n",
              "    <tr>\n",
              "      <th>5</th>\n",
              "      <td>clips/3f1b32e99713ee86bb0026a721e4c08317e4c10d777b12b2eb0040214251aebad91ecb22fd6f3bc4db20b95dbce1fa67c48b9ce8b5ed7d0e4374034ee3d0bc73.mp3</td>\n",
              "      <td>Centre de Sauvegarde</td>\n",
              "    </tr>\n",
              "    <tr>\n",
              "      <th>6</th>\n",
              "      <td>clips/c17d72db1542780d4263888758ed21bd34a73c85c503a33613e89187cd0eea5b68b3694ea7c42e4a6efc12fb3155c79d7fea8205f78a8d1d73a1b547ab924aed.mp3</td>\n",
              "      <td>Place de l’indépendance</td>\n",
              "    </tr>\n",
              "    <tr>\n",
              "      <th>7</th>\n",
              "      <td>clips/8e0a3887012c23492f43abf772f052a018ec56f64c29105739cf140325877113a21cd136ed8a0935f6572eed3d5cbf6e10661c0233b4576714ba9c894cec800f.mp3</td>\n",
              "      <td>Cimetiére Saint Lazzare</td>\n",
              "    </tr>\n",
              "    <tr>\n",
              "      <th>8</th>\n",
              "      <td>clips/bfcb5d267cdb2e6f2e425ab018c2e5a222d774d65798e29ec0afabafb9efad102bec40579715890c8dd8894ac4a5ef11d937760382eb3a6f72ab624fdcf6f00b.mp3</td>\n",
              "      <td>Terminus Gouy Mouride Rufisque</td>\n",
              "    </tr>\n",
              "    <tr>\n",
              "      <th>9</th>\n",
              "      <td>clips/577877b0b0744412da9d90ea4c3b82add72489fa840d6a9f8c4bf687a60369a8d3fc3197266cffb8bfdbf199eb4c7841d65331d7e5c5cae4882fadf60bb452db.mp3</td>\n",
              "      <td>Cité Pénitence</td>\n",
              "    </tr>\n",
              "    <tr>\n",
              "      <th>10</th>\n",
              "      <td>clips/538bd7ccf3ed4f232a72abd8798c751bd5af6ced320833ca60f91501151c2c79bb10b1ba92065c664f9810dad41e2a42a25f24f1395044a41d3dda409c924c17.mp3</td>\n",
              "      <td>Orange Médina</td>\n",
              "    </tr>\n",
              "    <tr>\n",
              "      <th>11</th>\n",
              "      <td>clips/aaaeb8252a6ef0a19aad0b062e745958ae881af884c91f73ef7bdafb815e48c8204f738eac9ecb5a84132a2ec03d84c836db2a82285e0392f3bee2c69a188f7a.mp3</td>\n",
              "      <td>Terminus de Rufisque</td>\n",
              "    </tr>\n",
              "    <tr>\n",
              "      <th>12</th>\n",
              "      <td>clips/7decbd774ecaea4a6af4402fe9edf3adc77d4a1169c886e18f86f3e5ad383273032dba70f7227db2d0a62b9af701102193f49688792d6d1441cd70dbf529e179.mp3</td>\n",
              "      <td>Mbengue</td>\n",
              "    </tr>\n",
              "    <tr>\n",
              "      <th>13</th>\n",
              "      <td>clips/cf680cdf3ce5fc16191f230dcabdf492be35cc81ca2574ba07f6d600664ed18ca1886e32969be2b3aeac722a1a741a6e43e0ccf9905b6e0a60e7da02367bf615.mp3</td>\n",
              "      <td>Rond Point Case Bi</td>\n",
              "    </tr>\n",
              "    <tr>\n",
              "      <th>14</th>\n",
              "      <td>clips/cc691fe0fb84cdf6e26292c710c37c3ec450734eee74c1debb88e6a3331eb4e9148ce85fe7b132472a0d9e15876b36635f7f3056f60c77357eb5422ccf7c9069.mp3</td>\n",
              "      <td>Grande Mosquée Derkle</td>\n",
              "    </tr>\n",
              "    <tr>\n",
              "      <th>15</th>\n",
              "      <td>clips/90b73fb2364c25470d43a62e949f308e003110900bccef409ec3d5bd197ac42800dfdcf9f321a70b0b7e6a3dc7e0d1a66cb453aca723f6e54b1908cee6f12056.mp3</td>\n",
              "      <td>Bargny Rails</td>\n",
              "    </tr>\n",
              "    <tr>\n",
              "      <th>16</th>\n",
              "      <td>clips/78e1c2eac95df118b001c86833cddea180964f5c6d8ec09434be27904eb58f1177711f75f94f139ca587b227153d07ce5cc94ed8e68c1a6cfc5d5926ff0536dc.mp3</td>\n",
              "      <td>Cinéma Poste Thiaroye laa bëgg dem</td>\n",
              "    </tr>\n",
              "    <tr>\n",
              "      <th>17</th>\n",
              "      <td>clips/d6b3303d6b75aefd9e0b5c79fb1cf39e2c48ae57f07f51c58084e4668622739efd059067cf75408d50e8f76bed3153fe6d74c3807bd388dcaf3a300863af139f.mp3</td>\n",
              "      <td>Point E</td>\n",
              "    </tr>\n",
              "    <tr>\n",
              "      <th>18</th>\n",
              "      <td>clips/95d3ca0ee532e506c5bd94d7432116426e1c1b5be6de01636e334c9b0c68825a08ada16844243fa26ff7711b4cf7cd0b4f2e1eacc3d9510e11796dd6cbaafef1.mp3</td>\n",
              "      <td>Pharmacie Boune</td>\n",
              "    </tr>\n",
              "    <tr>\n",
              "      <th>19</th>\n",
              "      <td>clips/93e4044a56941ad5c6c926f09a92f80ad946d8502821d6256d061101a162d49247054636dc616a56177fc804ab36965659a4e9de3f07b9c158f31ee06510b5aa.mp3</td>\n",
              "      <td>Difoncé</td>\n",
              "    </tr>\n",
              "  </tbody>\n",
              "</table>"
            ],
            "text/plain": [
              "<IPython.core.display.HTML object>"
            ]
          },
          "metadata": {
            "tags": []
          }
        }
      ]
    },
    {
      "cell_type": "code",
      "metadata": {
        "colab": {
          "base_uri": "https://localhost:8080/",
          "height": 117,
          "referenced_widgets": [
            "6103ec916bdb497d814625bd2d364a6c",
            "1e6d68505eb04477b40921f17ef93a6c",
            "cbc97f0401144db7a5a282c8a7064181",
            "144455799aad4ff893f4de9717a25c6e",
            "e50084b4342542d5bc5b4c4086f3c053",
            "3110a7b956334cefa4a1bb654d2aa147",
            "90d1eba3663d4baab535aa486c459c0a",
            "2f465ecf840d4e8e8226236c81df1c92",
            "53859c67b4b148d7b0242511afa63b92",
            "fa27fbd4c315495f95b2c90a662e26b2",
            "28c16b7dc79846c0a740b8f624ae7b7d",
            "7cc549cc1a6940a28d61fd1c751154b0",
            "6f7191a4c4764e6a92d28ca07d92ecde",
            "09fc45fab56f4a188cf0a55d3bd0c7f9",
            "901d962d846b4ca4bf2cd8514aa56618",
            "5417315c9f7a46088e2f3c9f93f8ac02"
          ]
        },
        "id": "VzfjH0Hu4jGl",
        "outputId": "3bc96642-5e7c-43e6-ff46-b8a4b58afe1d"
      },
      "source": [
        "import re\n",
        "chars_to_ignore_regex = '[\\,\\؟\\.\\!\\-\\;\\:\\\"\\)\\(\\«\\»\\؛\\—\\ـ\\_\\،\\“\\%\\‘\\”]'\n",
        "\n",
        "def remove_special_characters(batch):  \n",
        "    batch[\"transcription\"] = re.sub(chars_to_ignore_regex,'', batch[\"transcription\"]).lower() + \" \"\n",
        "    return batch\n",
        "\n",
        "\n",
        "voice_train = voice_train.map(remove_special_characters)\n",
        "voice_val = voice_val.map(remove_special_characters)    "
      ],
      "execution_count": null,
      "outputs": [
        {
          "output_type": "display_data",
          "data": {
            "application/vnd.jupyter.widget-view+json": {
              "model_id": "6103ec916bdb497d814625bd2d364a6c",
              "version_minor": 0,
              "version_major": 2
            },
            "text/plain": [
              "HBox(children=(FloatProgress(value=0.0, max=5346.0), HTML(value='')))"
            ]
          },
          "metadata": {
            "tags": []
          }
        },
        {
          "output_type": "stream",
          "text": [
            "\n"
          ],
          "name": "stdout"
        },
        {
          "output_type": "display_data",
          "data": {
            "application/vnd.jupyter.widget-view+json": {
              "model_id": "53859c67b4b148d7b0242511afa63b92",
              "version_minor": 0,
              "version_major": 2
            },
            "text/plain": [
              "HBox(children=(FloatProgress(value=0.0, max=1337.0), HTML(value='')))"
            ]
          },
          "metadata": {
            "tags": []
          }
        },
        {
          "output_type": "stream",
          "text": [
            "\n"
          ],
          "name": "stdout"
        }
      ]
    },
    {
      "cell_type": "code",
      "metadata": {
        "colab": {
          "base_uri": "https://localhost:8080/",
          "height": 910
        },
        "id": "IRKC5i084lah",
        "outputId": "8682845d-0e6d-46af-8f35-fde1e572753b"
      },
      "source": [
        "# Display cleaned data\n",
        "\n",
        "show_random_elements(voice_train, num_examples=20)"
      ],
      "execution_count": null,
      "outputs": [
        {
          "output_type": "display_data",
          "data": {
            "text/html": [
              "<table border=\"1\" class=\"dataframe\">\n",
              "  <thead>\n",
              "    <tr style=\"text-align: right;\">\n",
              "      <th></th>\n",
              "      <th>ID</th>\n",
              "      <th>transcription</th>\n",
              "    </tr>\n",
              "  </thead>\n",
              "  <tbody>\n",
              "    <tr>\n",
              "      <th>0</th>\n",
              "      <td>clips/8c3347001da20a744cb3bf6ce1bb532b961970e69ab7951503382fc13a8adaaf30b3d3c5311c27718e926d7ab4884e0365442d376d8349ea014334290a06bf44.mp3</td>\n",
              "      <td>flag diarri poul</td>\n",
              "    </tr>\n",
              "    <tr>\n",
              "      <th>1</th>\n",
              "      <td>clips/ce3710a710a352a856b82f9eacaca62e08bc63649b1e1394a4a9b6a591c35766e4823bcdec3378ae5843395abeffa09e60c39d4e3a308e94c1e275f34479528f.mp3</td>\n",
              "      <td>avenue cheikh anta diop</td>\n",
              "    </tr>\n",
              "    <tr>\n",
              "      <th>2</th>\n",
              "      <td>clips/3ffe6832d7bff6363826a83f04dd01df7b6ef55746afd5b021f062c332ce9a7c1937bf054fbea6aa1b233bb80ce2531aad6fa4b6dc113dce66575bea8c77df58.mp3</td>\n",
              "      <td>bén tally</td>\n",
              "    </tr>\n",
              "    <tr>\n",
              "      <th>3</th>\n",
              "      <td>clips/9ff1324a4decdefe61b427ecea5f8708855195c26483c8e7b93ea368bc13fbb27bb2e6864903b4ebeda7566ba9924af034e6234022146ad547da8d550ecd854c.mp3</td>\n",
              "      <td>pharmacie mamelle</td>\n",
              "    </tr>\n",
              "    <tr>\n",
              "      <th>4</th>\n",
              "      <td>clips/70d180a9ee3f674465f1dc812e56d0c7fff54ec1b85ab33f5319e66dd52632528a2f3effd8311a5785c3b19adc464149f9a42e953e53170f8a8b02cb1875c45b.mp3</td>\n",
              "      <td>bargny</td>\n",
              "    </tr>\n",
              "    <tr>\n",
              "      <th>5</th>\n",
              "      <td>clips/5096405ea10267d42961eded7e687cdf42a797136b70dac8cfc33cac910d586d11a89a45bfc60fd3a56e75ead91f89e9e225d04821480fa345236d12691c6da8.mp3</td>\n",
              "      <td>place du souvenir africain</td>\n",
              "    </tr>\n",
              "    <tr>\n",
              "      <th>6</th>\n",
              "      <td>clips/ddcdba0abefab8198bb3cdd2ff7e08125e5ba4d00e09f459d0080de663aad4a70074a9a4d941ee8f5acbb2000b16d652bc1c6fd982556dda5e6f47ad4269548e.mp3</td>\n",
              "      <td>thierno ndiaye</td>\n",
              "    </tr>\n",
              "    <tr>\n",
              "      <th>7</th>\n",
              "      <td>clips/d55029c146abb91c0f85cf87da75aec183f095ee3d2e7f775e81f2fa7925f0caacfd684d6314c92cc655ac5c2efc2f4f9738cd91242133ad6248d43c01261c6d.mp3</td>\n",
              "      <td>parc forestier de hann</td>\n",
              "    </tr>\n",
              "    <tr>\n",
              "      <th>8</th>\n",
              "      <td>clips/357ac99aa10c2b4d11e11bfc1efcdc42e0e4d2f2dba57c3b7bd8475597ea376d459d7853c95ff0262b7efbfd00ed7514124711ef6c56f0c6faf46c62aa7a73a8.mp3</td>\n",
              "      <td>orange médina</td>\n",
              "    </tr>\n",
              "    <tr>\n",
              "      <th>9</th>\n",
              "      <td>clips/9ddb3edd7d9cb84e0fca8ac51f0be1e32478c50c1b212fbffc7338cc0fb7e4c36679ac604539a1a6899538d997e36c28bb3a5be9fd7ad6615ceca0f5ffeb091d.mp3</td>\n",
              "      <td>cité douane golf sud océan</td>\n",
              "    </tr>\n",
              "    <tr>\n",
              "      <th>10</th>\n",
              "      <td>clips/b6b386daa1696286d88e54209d2ac5d7baad7a100d2bae936db4130852bff164f631a01f5512ea9546e253b5e66abed7909d3610a349dd9045f14ab4ef6ce723.mp3</td>\n",
              "      <td>patte d'oie</td>\n",
              "    </tr>\n",
              "    <tr>\n",
              "      <th>11</th>\n",
              "      <td>clips/e620385f107f7b1ed08da798fd6ffa122af241ada41687121d5060f2d9b4c61abff9d989492bafe5370961d81d613d5284cb35592e5b6a5d8fa3c9b3780edd0f.mp3</td>\n",
              "      <td>palais de justice guédiawaye</td>\n",
              "    </tr>\n",
              "    <tr>\n",
              "      <th>12</th>\n",
              "      <td>clips/c6363086da81b5b84e7a9799b7a44fb42900d10399ebfca8cada278619c14fb26161255c748d2212a02b043ab0ac6c24b9e62c345b05cdfd752cfdc938781290.mp3</td>\n",
              "      <td>bem dakar</td>\n",
              "    </tr>\n",
              "    <tr>\n",
              "      <th>13</th>\n",
              "      <td>clips/f129fb9b795ba1181e7af7fceaed914394e8b055e997a4a8d2993e96a6b9e3811c278beb43a65323ed2ac9428fb31201d9df27785b2517058bae442594a32257.mp3</td>\n",
              "      <td>hopital ouakam</td>\n",
              "    </tr>\n",
              "    <tr>\n",
              "      <th>14</th>\n",
              "      <td>clips/a2739a61bde991043c8fc018a09dabde65e30ebabdfd665f06e7136378857ad7ae920ae26d5dab3600003ae73f3b5086684aa321893eb9b3242926872bdff3ed.mp3</td>\n",
              "      <td>elton  fks usine de farine</td>\n",
              "    </tr>\n",
              "    <tr>\n",
              "      <th>15</th>\n",
              "      <td>clips/577c7fe46153657bf681670b10ed89eaaf953a92b938fd80ec41338e8d5ff02c83dd1cd9805ec81b6c226c0ad293ad9a853ba7764e27d9136103e95682ca28be.mp3</td>\n",
              "      <td>pharmacie ouakam</td>\n",
              "    </tr>\n",
              "    <tr>\n",
              "      <th>16</th>\n",
              "      <td>clips/e5cbed00dae5c027e158d8929a83be29e10f55de41dd43a103b59149dbfd18047c1d7d56a999a04ec67c0a69c708ff8bcaeda0efc0a879c744ff81dc13ac1fbd.mp3</td>\n",
              "      <td>claudel</td>\n",
              "    </tr>\n",
              "    <tr>\n",
              "      <th>17</th>\n",
              "      <td>clips/c42763b7a0cec239311e0583599730fa25c09ec591c8563eeb8d2e105a8b2e5e834a08035be84a11a9919c7dc10a8a6961a709bb09b319fb2a3a37b23df8743c.mp3</td>\n",
              "      <td>centre electrique de kounoune</td>\n",
              "    </tr>\n",
              "    <tr>\n",
              "      <th>18</th>\n",
              "      <td>clips/fe3c9ed202412271240e19a26af9961a8f0ec3ec2abffac15ed1519e23a06273b7005597ff86472ba8f1e89f8209379620e6575fa376bed78d68ae81fcea291a.mp3</td>\n",
              "      <td>dama bëgg dem ecole hlm rufisque</td>\n",
              "    </tr>\n",
              "    <tr>\n",
              "      <th>19</th>\n",
              "      <td>clips/e05feba5d0554f5819623a9d80cbb27512ab87115b3b06376205a25d90484d9464ba77114787f1c302a570c231a211f6bcbae92a9d59add26afef1153b683e81.mp3</td>\n",
              "      <td>stade alassane djigo</td>\n",
              "    </tr>\n",
              "  </tbody>\n",
              "</table>"
            ],
            "text/plain": [
              "<IPython.core.display.HTML object>"
            ]
          },
          "metadata": {
            "tags": []
          }
        }
      ]
    },
    {
      "cell_type": "code",
      "metadata": {
        "id": "-5UhdZLq4ntT"
      },
      "source": [
        "def extract_all_chars(batch):\n",
        "  all_text = \" \".join(batch[\"transcription\"])\n",
        "  vocab = list(set(all_text))\n",
        "  return {\"vocab\": [vocab], \"all_text\": [all_text]}\n"
      ],
      "execution_count": null,
      "outputs": []
    },
    {
      "cell_type": "code",
      "metadata": {
        "colab": {
          "base_uri": "https://localhost:8080/",
          "height": 117,
          "referenced_widgets": [
            "605974ff6b764be9b348d2b7bbfefb17",
            "0b8f13448df14bb1af016d0e4b89d23c",
            "ede1b52944a84cbcbfd4958f80bfd9ba",
            "afa4d743146f41dba80bb1eb631622a0",
            "2c5a79fc823b4b93872d19e44e7cb932",
            "eb01b0df93dc454c9d62bdf793b99824",
            "20d1aacfb414467a8a7317db785bedcd",
            "7733288324b442b49d3bc14dc5413440",
            "331e8b75410d482cb16adb8b9a4a5424",
            "f74918c6f2d04d12838c111c04bbc748",
            "3ecfb30d678d4756bfdffc6a8b6d17ff",
            "dd01700b5a114b10a41e67f913b9b57d",
            "668053b713ff4443b9f061c30d6a880a",
            "00f5930c3e054e16a446408ef2a3f040",
            "25414503a6ea46d48e6fe5d6560f970f",
            "c3a5563a53bc49f7bdb93cfcd9f95d34"
          ]
        },
        "id": "NlV098kb4p8G",
        "outputId": "519bb605-5988-46c2-ff33-36cb036a3f94"
      },
      "source": [
        "vocab_train = voice_train.map(extract_all_chars, batched=True, batch_size=-1, keep_in_memory=True, remove_columns=voice_train.column_names)\n",
        "vocab_val = voice_val.map(extract_all_chars, batched=True, batch_size=-1, keep_in_memory=True, remove_columns=voice_val.column_names)"
      ],
      "execution_count": null,
      "outputs": [
        {
          "output_type": "display_data",
          "data": {
            "application/vnd.jupyter.widget-view+json": {
              "model_id": "605974ff6b764be9b348d2b7bbfefb17",
              "version_minor": 0,
              "version_major": 2
            },
            "text/plain": [
              "HBox(children=(FloatProgress(value=0.0, max=1.0), HTML(value='')))"
            ]
          },
          "metadata": {
            "tags": []
          }
        },
        {
          "output_type": "stream",
          "text": [
            "\n"
          ],
          "name": "stdout"
        },
        {
          "output_type": "display_data",
          "data": {
            "application/vnd.jupyter.widget-view+json": {
              "model_id": "331e8b75410d482cb16adb8b9a4a5424",
              "version_minor": 0,
              "version_major": 2
            },
            "text/plain": [
              "HBox(children=(FloatProgress(value=0.0, max=1.0), HTML(value='')))"
            ]
          },
          "metadata": {
            "tags": []
          }
        },
        {
          "output_type": "stream",
          "text": [
            "\n"
          ],
          "name": "stdout"
        }
      ]
    },
    {
      "cell_type": "code",
      "metadata": {
        "id": "8GzKzxR74rhD"
      },
      "source": [
        "vocab_list = list(set(vocab_train[\"vocab\"][0]) | set(vocab_val[\"vocab\"][0]))"
      ],
      "execution_count": null,
      "outputs": []
    },
    {
      "cell_type": "code",
      "metadata": {
        "colab": {
          "base_uri": "https://localhost:8080/"
        },
        "id": "q7AroyeL4tM1",
        "outputId": "077918ec-d7a7-425f-cfb5-eaedae443810"
      },
      "source": [
        "vocab_dict = {v: k for k, v in enumerate(vocab_list)}\n",
        "vocab_dict"
      ],
      "execution_count": null,
      "outputs": [
        {
          "output_type": "execute_result",
          "data": {
            "text/plain": [
              "{' ': 25,\n",
              " \"'\": 1,\n",
              " 'a': 19,\n",
              " 'b': 24,\n",
              " 'c': 29,\n",
              " 'd': 30,\n",
              " 'e': 0,\n",
              " 'f': 5,\n",
              " 'g': 21,\n",
              " 'h': 36,\n",
              " 'i': 9,\n",
              " 'j': 13,\n",
              " 'k': 10,\n",
              " 'l': 27,\n",
              " 'm': 22,\n",
              " 'n': 18,\n",
              " 'o': 34,\n",
              " 'p': 12,\n",
              " 'q': 3,\n",
              " 'r': 23,\n",
              " 's': 16,\n",
              " 't': 32,\n",
              " 'u': 26,\n",
              " 'v': 6,\n",
              " 'w': 15,\n",
              " 'x': 28,\n",
              " 'y': 7,\n",
              " 'z': 2,\n",
              " 'â': 17,\n",
              " 'ç': 33,\n",
              " 'è': 35,\n",
              " 'é': 11,\n",
              " 'ë': 31,\n",
              " 'î': 4,\n",
              " 'ô': 14,\n",
              " 'œ': 8,\n",
              " '’': 20}"
            ]
          },
          "metadata": {
            "tags": []
          },
          "execution_count": 21
        }
      ]
    },
    {
      "cell_type": "code",
      "metadata": {
        "id": "bJ9j6TO84u7P"
      },
      "source": [
        "vocab_dict[\"|\"] = vocab_dict[\" \"]\n",
        "del vocab_dict[\" \"]"
      ],
      "execution_count": null,
      "outputs": []
    },
    {
      "cell_type": "code",
      "metadata": {
        "colab": {
          "base_uri": "https://localhost:8080/"
        },
        "id": "iinO1LPA4xBE",
        "outputId": "71bd3658-a770-4995-e868-91f77456804a"
      },
      "source": [
        "vocab_dict[\"[UNK]\"] = len(vocab_dict)\n",
        "vocab_dict[\"[PAD]\"] = len(vocab_dict)\n",
        "len(vocab_dict)"
      ],
      "execution_count": null,
      "outputs": [
        {
          "output_type": "execute_result",
          "data": {
            "text/plain": [
              "39"
            ]
          },
          "metadata": {
            "tags": []
          },
          "execution_count": 23
        }
      ]
    },
    {
      "cell_type": "code",
      "metadata": {
        "id": "RSlCJV-P4yrq"
      },
      "source": [
        "# Prepare vocabulary\n",
        "import json\n",
        "with open(f\"{output_models_dir}/vocab.json\", 'w') as vocab_file:\n",
        "    json.dump(vocab_dict, vocab_file)"
      ],
      "execution_count": null,
      "outputs": []
    },
    {
      "cell_type": "code",
      "metadata": {
        "id": "spu3suZd40ls"
      },
      "source": [
        "# Tokenization\n",
        "from transformers import Wav2Vec2CTCTokenizer\n",
        "\n",
        "tokenizer = Wav2Vec2CTCTokenizer(f\"{output_models_dir}/vocab.json\", unk_token=\"[UNK]\", pad_token=\"[PAD]\", word_delimiter_token=\"|\")"
      ],
      "execution_count": null,
      "outputs": []
    },
    {
      "cell_type": "code",
      "metadata": {
        "id": "cFdMDuLQ42ZV"
      },
      "source": [
        "from transformers import Wav2Vec2FeatureExtractor\n",
        "\n",
        "feature_extractor = Wav2Vec2FeatureExtractor(feature_size=1, sampling_rate=16000, padding_value=0.0, do_normalize=True, return_attention_mask=True)"
      ],
      "execution_count": null,
      "outputs": []
    },
    {
      "cell_type": "code",
      "metadata": {
        "id": "vARNm8KH44C5"
      },
      "source": [
        "from transformers import Wav2Vec2Processor\n",
        "\n",
        "processor = Wav2Vec2Processor(feature_extractor=feature_extractor, tokenizer=tokenizer)"
      ],
      "execution_count": null,
      "outputs": []
    },
    {
      "cell_type": "code",
      "metadata": {
        "id": "IDLaz3Gb46Wa"
      },
      "source": [
        "processor.save_pretrained(output_models_dir)"
      ],
      "execution_count": null,
      "outputs": []
    },
    {
      "cell_type": "code",
      "metadata": {
        "colab": {
          "base_uri": "https://localhost:8080/"
        },
        "id": "oBTSjs3C479k",
        "outputId": "c2f63d94-4fd8-435c-a116-38293fffe2cc"
      },
      "source": [
        "voice_train[0]"
      ],
      "execution_count": null,
      "outputs": [
        {
          "output_type": "execute_result",
          "data": {
            "text/plain": [
              "{'ID': 'clips/3344aa00fd1aac2f570fc6aa918e522e6ab4f6306cd12a8b18300ad062d6acca99ffffa6783e9569ea15b19e364393a45c66d8ad11c69bee7183500f009643ae.mp3',\n",
              " 'transcription': 'terrain mbedou fass '}"
            ]
          },
          "metadata": {
            "tags": []
          },
          "execution_count": 30
        }
      ]
    },
    {
      "cell_type": "code",
      "metadata": {
        "id": "kVe7wtG649WL"
      },
      "source": [
        "import torchaudio\n",
        "import torch\n",
        "\n",
        "# Apply transformation to 0.5 of the training data(reduce speed + reverbration)\n",
        "\n",
        "def speech_file_to_array_fn(batch):\n",
        "    speech_array, sampling_rate = torchaudio.load(batch[\"ID\"])\n",
        "    resampler = torchaudio.transforms.Resample(sampling_rate, 16_000)\n",
        "    batch[\"speech\"] = resampler(speech_array).squeeze().numpy()\n",
        "    batch[\"sampling_rate\"] = 16000\n",
        "    batch[\"target_text\"] = batch[\"transcription\"]\n",
        "    return batch\n",
        "\n",
        "def speech_file_to_array_fn_aug(batch):\n",
        "    speech_array, sampling_rate = torchaudio.load(batch[\"ID\"])\n",
        "    resampler = torchaudio.transforms.Resample(sampling_rate, 16_000)\n",
        "    #batch[\"speech\"] = resampler(speech_array).squeeze().numpy()\n",
        "    effects = [\n",
        "           [\"lowpass\", \"-1\", \"300\"], # apply single-pole lowpass filter\n",
        "           [\"speed\", \"0.9\"],  # reduce the speed\n",
        "                     # This only changes sample rate, so it is necessary to\n",
        "                     # add `rate` effect with original sample rate after this.\n",
        "           [\"rate\", f\"{sampling_rate}\"],\n",
        "           #[\"reverb\", \"-w\"],  # Reverbration gives some dramatic feeling\n",
        "           ]\n",
        "    effects2 = [[\"reverb\",\"-w\"]]\n",
        "\n",
        "    # Apply effects\n",
        "    prob = torch.rand(1)\n",
        "    rever = torch.rand(1)\n",
        "    if prob > 0.5:\n",
        "      waveform2, sample_rate2 = torchaudio.sox_effects.apply_effects_tensor(speech_array, sampling_rate, effects) \n",
        "      batch[\"speech\"] = resampler(waveform2).squeeze().numpy()\n",
        "      batch[\"sampling_rate\"] = 16000\n",
        "      batch[\"target_text\"] = batch[\"transcription\"]\n",
        "    if rever>0.5:\n",
        "      waveform3, sample_rate3 = torchaudio.sox_effects.apply_effects_tensor(speech_array, sampling_rate, effects2) \n",
        "      batch[\"speech\"] = resampler(waveform3).squeeze().numpy()\n",
        "      batch[\"sampling_rate\"] = 16000\n",
        "      batch[\"target_text\"] = batch[\"transcription\"]  \n",
        "\n",
        "\n",
        "    batch[\"speech\"] = resampler(speech_array).squeeze().numpy()\n",
        "    batch[\"sampling_rate\"] = 16000\n",
        "    batch[\"target_text\"] = batch[\"transcription\"]\n",
        "    return batch\n"
      ],
      "execution_count": null,
      "outputs": []
    },
    {
      "cell_type": "code",
      "metadata": {
        "colab": {
          "base_uri": "https://localhost:8080/",
          "height": 117,
          "referenced_widgets": [
            "ac6fb31bc89b44a8bab0de6dbaf98158",
            "345d8a273c0a444d91c32a2a07490843",
            "6c7b103192ae4dfcaca4b6b50cc99703",
            "e346b65a55a3418ca19ff1e848756633",
            "9a33e703caff401caefa27f6e7dc1448",
            "ab7b0ca47c654155bdbd6f90dc6b371d",
            "1d54002de8374d5f9c36030967e6bf15",
            "b5d685a85e064899b6a214522719216a",
            "38a8851a1e3548319c5dbf43768f1fd5",
            "c1194f2afa234261a00c93b9c69d4528",
            "8681daf5336148d6ad7d9f5e3f779bec",
            "849495a5b2a74000b67dbff1ef6ec4db",
            "3ff7ccd75b564567baa3fde4a496538a",
            "527ff02b5f1e43b6b46c5777f0af2416",
            "dd3418ebdf2648a39a1018a4041db91e",
            "f5eab5685ff24e5e9f94e8fee8ef8966"
          ]
        },
        "id": "yUQR_MWd4-_-",
        "outputId": "ed6b4db4-6384-4bf5-817f-7a30e87fb6cb"
      },
      "source": [
        "voice_train = voice_train.map(speech_file_to_array_fn_aug, remove_columns=voice_train.column_names,num_proc=1)\n",
        "voice_val = voice_val.map(speech_file_to_array_fn, remove_columns=voice_val.column_names,num_proc=1)"
      ],
      "execution_count": null,
      "outputs": [
        {
          "output_type": "display_data",
          "data": {
            "application/vnd.jupyter.widget-view+json": {
              "model_id": "ac6fb31bc89b44a8bab0de6dbaf98158",
              "version_minor": 0,
              "version_major": 2
            },
            "text/plain": [
              "HBox(children=(FloatProgress(value=0.0, max=5346.0), HTML(value='')))"
            ]
          },
          "metadata": {
            "tags": []
          }
        },
        {
          "output_type": "stream",
          "text": [
            "\n"
          ],
          "name": "stdout"
        },
        {
          "output_type": "display_data",
          "data": {
            "application/vnd.jupyter.widget-view+json": {
              "model_id": "38a8851a1e3548319c5dbf43768f1fd5",
              "version_minor": 0,
              "version_major": 2
            },
            "text/plain": [
              "HBox(children=(FloatProgress(value=0.0, max=1337.0), HTML(value='')))"
            ]
          },
          "metadata": {
            "tags": []
          }
        },
        {
          "output_type": "stream",
          "text": [
            "\n"
          ],
          "name": "stdout"
        }
      ]
    },
    {
      "cell_type": "code",
      "metadata": {
        "colab": {
          "base_uri": "https://localhost:8080/",
          "height": 75
        },
        "id": "Ea5fnF0c5A1O",
        "outputId": "8126964b-f03b-4654-fa6e-427c7b17fd5c"
      },
      "source": [
        "import IPython.display as ipd\n",
        "import numpy as np\n",
        "import random\n",
        "# Play audio\n",
        "rand_int = random.randint(0, len(voice_train)-1)\n",
        "\n",
        "ipd.Audio(data=np.asarray(voice_train[rand_int][\"speech\"]), autoplay=True, rate=16000)"
      ],
      "execution_count": null,
      "outputs": [
        {
          "output_type": "execute_result",
          "data": {
            "text/html": [
              "\n",
              "                <audio controls=\"controls\" autoplay=\"autoplay\">\n",
              "                    <source src=\"data:audio/wav;base64,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\" type=\"audio/wav\" />\n",
              "                    Your browser does not support the audio element.\n",
              "                </audio>\n",
              "              "
            ],
            "text/plain": [
              "<IPython.lib.display.Audio object>"
            ]
          },
          "metadata": {
            "tags": []
          },
          "execution_count": 33
        }
      ]
    },
    {
      "cell_type": "code",
      "metadata": {
        "colab": {
          "base_uri": "https://localhost:8080/"
        },
        "id": "EEwMAFKi5EL9",
        "outputId": "265d6a97-9d63-4d86-9092-7afd278bf8d3"
      },
      "source": [
        "rand_int = random.randint(0, len(voice_train)-1)\n",
        "\n",
        "print(\"Target text:\", voice_train[rand_int][\"target_text\"])\n",
        "print(\"Input array shape:\", np.asarray(voice_train[rand_int][\"speech\"]).shape)\n",
        "print(\"Sampling rate:\", voice_train[rand_int][\"sampling_rate\"])"
      ],
      "execution_count": null,
      "outputs": [
        {
          "output_type": "stream",
          "text": [
            "Target text: cem hann \n",
            "Input array shape: (33792,)\n",
            "Sampling rate: 16000\n"
          ],
          "name": "stdout"
        }
      ]
    },
    {
      "cell_type": "code",
      "metadata": {
        "id": "MCqwVIwT5Eub"
      },
      "source": [
        "def prepare_dataset(batch):\n",
        "    # check that all files have the correct sampling rate\n",
        "    assert (\n",
        "        len(set(batch[\"sampling_rate\"])) == 1\n",
        "    ), f\"Make sure all inputs have the same sampling rate of {processor.feature_extractor.sampling_rate}.\"\n",
        "\n",
        "    batch[\"input_values\"] = processor(batch[\"speech\"], sampling_rate=batch[\"sampling_rate\"][0]).input_values\n",
        "    \n",
        "    with processor.as_target_processor():\n",
        "        batch[\"labels\"] = processor(batch[\"target_text\"]).input_ids\n",
        "    return batch"
      ],
      "execution_count": null,
      "outputs": []
    },
    {
      "cell_type": "code",
      "metadata": {
        "colab": {
          "base_uri": "https://localhost:8080/",
          "height": 511,
          "referenced_widgets": [
            "9e124c6be9f34d8a865e1a44329ffd8c",
            "9a8fba7dabec4d789c1cd7c2630937b8",
            "2e294e6fbc6e4e0faf5283277b0f0bd4",
            "5103997704e04f97bcd374c43f708cbb",
            "1e8312ce485b4e2caa35cacfd56bb03c",
            "af86ba0581864f7196d00f20892750cb",
            "fd3e170b532a41f38cf6c9839bde6d25",
            "011483f5758a4984a8d61113ca000da8",
            "0978cd572a1c46fd9ee9756795b873cf",
            "6c376f953dac4c2b802a2eb167104546",
            "8e058713ab404b78a82e7e194545517d",
            "1d976d71bc02435db492cb2198f48577",
            "63bb209642b347618a484a3e94f150e7",
            "9c6e0e0f85844cab92fce58d17ec7884",
            "119dcf6f8a964712990f2332a4a94089",
            "3e8ee8395a4747b5924142db8357ec93",
            "a419250a1d0247148c9884819f5557af",
            "4b854d10d9994c90a3c8fbfb4250301e",
            "d973f9478e854086ab8b7811f32ed6f3",
            "53af9dcd48424c558cef108abd282e37",
            "573162ddb64c4a30a18ea2404eaa1e59",
            "4b702d3bf125483fba485e1dfeec0eb5",
            "209938e04edf408588bdfe5e46bb16d1",
            "5bd78e28ed554c3eb264336e798bf415",
            "7b3a6b1e5e2845ebbfc67618b374093f",
            "5227f1f0400146dcb524eb2d10000e7c",
            "0de97d7ce4a648b2a987a1234a0afce6",
            "1960a3bfac7143d59d80cdb6f30948b3",
            "c567c90ebce14dbb8a6dcc4f7f3cd216",
            "01eca0c8929240f69056c8397a1603e3",
            "8e71837ef374456db723d34e4a1a0286",
            "83df6cf446274a1ba422d6008e485c6b",
            "a2479178c8ef4220b34287b57e4fdb04",
            "f174a40f742048c892d5445fbf0f1c6e",
            "e4c4f902d95c45159d03bd4f3db936cd",
            "856811c055b04a189837751f9f206478",
            "a11a70f27485486c89bbf233dfe4bfbc",
            "cb808d41bf6449f3ba8a6e76e0224408",
            "804edc488e294efca22bde2a87f519ac",
            "ec77b7362fbc4c8982cef52b5dc6a0ae",
            "5a1b8dbad75a45159203079954a1b175",
            "dbe8beeef0e94c60a9d5ba7594584896",
            "7395634dcec944c0bf5477244e698d56",
            "b29cd1cd38a2466e8c582815c6b54d91",
            "e547802f2a8b43fb8d57bef586cd8fcd",
            "a25b3f88cf6e4ae6bfca32f350667211",
            "fbabd6bfb8e6473fab8fa0a1d50ba070",
            "e6ed58fc5a264c7087ba0c473ab908f4",
            "2796d8cb9da54961aa7cf9dcafefe6c7",
            "d616d8f60682430fa39c8a15152aa2fc",
            "7f102457113048a7baab407ec105ad4d",
            "b702664dcd6c41929948314038f2660c",
            "3f35e0b1307744d99ed39c478183051f",
            "d359b16f010e4279a8d058e8a65148f4",
            "8d6791fd4303450e8b27029aafee6881",
            "b41421ad47134e4889852730ec11cb4e",
            "a4625c4b1f7943479639ab89ccf4390e",
            "71f0adaffca24c97a5460290baeff549",
            "5eaf3f4615d041ac9a5e9f84b4e1d2ec",
            "9ac592e035cf4634a16e3be97c13ef93",
            "b43c40b703464861b7130bfea2cd2ddd",
            "872f0bf170004a7ab3c077e6225f80c9",
            "db980df8f192440baddcd321c931e0b1",
            "ffefcaa6c57c4c7a9f5e6401279128b6"
          ]
        },
        "id": "qInO6tWA5GsM",
        "outputId": "68c5a228-6107-4061-84ea-cdd08942e917"
      },
      "source": [
        "voice_train = voice_train.map(prepare_dataset, remove_columns=voice_train.column_names, batch_size=8, num_proc=4, batched=True)\n",
        "voice_val = voice_val.map(prepare_dataset, remove_columns=voice_val.column_names, batch_size=8, num_proc=4, batched=True)"
      ],
      "execution_count": null,
      "outputs": [
        {
          "output_type": "stream",
          "text": [
            "/usr/local/lib/python3.7/dist-packages/numpy/core/_asarray.py:83: VisibleDeprecationWarning: Creating an ndarray from ragged nested sequences (which is a list-or-tuple of lists-or-tuples-or ndarrays with different lengths or shapes) is deprecated. If you meant to do this, you must specify 'dtype=object' when creating the ndarray\n",
            "  return array(a, dtype, copy=False, order=order)\n"
          ],
          "name": "stderr"
        },
        {
          "output_type": "stream",
          "text": [
            "    "
          ],
          "name": "stdout"
        },
        {
          "output_type": "display_data",
          "data": {
            "application/vnd.jupyter.widget-view+json": {
              "model_id": "9e124c6be9f34d8a865e1a44329ffd8c",
              "version_minor": 0,
              "version_major": 2
            },
            "text/plain": [
              "HBox(children=(FloatProgress(value=0.0, description='#0', max=168.0, style=ProgressStyle(description_width='in…"
            ]
          },
          "metadata": {
            "tags": []
          }
        },
        {
          "output_type": "display_data",
          "data": {
            "application/vnd.jupyter.widget-view+json": {
              "model_id": "0978cd572a1c46fd9ee9756795b873cf",
              "version_minor": 0,
              "version_major": 2
            },
            "text/plain": [
              "HBox(children=(FloatProgress(value=0.0, description='#3', max=167.0, style=ProgressStyle(description_width='in…"
            ]
          },
          "metadata": {
            "tags": []
          }
        },
        {
          "output_type": "display_data",
          "data": {
            "application/vnd.jupyter.widget-view+json": {
              "model_id": "a419250a1d0247148c9884819f5557af",
              "version_minor": 0,
              "version_major": 2
            },
            "text/plain": [
              "HBox(children=(FloatProgress(value=0.0, description='#2', max=167.0, style=ProgressStyle(description_width='in…"
            ]
          },
          "metadata": {
            "tags": []
          }
        },
        {
          "output_type": "display_data",
          "data": {
            "application/vnd.jupyter.widget-view+json": {
              "model_id": "7b3a6b1e5e2845ebbfc67618b374093f",
              "version_minor": 0,
              "version_major": 2
            },
            "text/plain": [
              "HBox(children=(FloatProgress(value=0.0, description='#1', max=168.0, style=ProgressStyle(description_width='in…"
            ]
          },
          "metadata": {
            "tags": []
          }
        },
        {
          "output_type": "stream",
          "text": [
            "\n",
            "\n",
            "\n",
            "\n",
            "    "
          ],
          "name": "stdout"
        },
        {
          "output_type": "display_data",
          "data": {
            "application/vnd.jupyter.widget-view+json": {
              "model_id": "a2479178c8ef4220b34287b57e4fdb04",
              "version_minor": 0,
              "version_major": 2
            },
            "text/plain": [
              "HBox(children=(FloatProgress(value=0.0, description='#0', max=42.0, style=ProgressStyle(description_width='ini…"
            ]
          },
          "metadata": {
            "tags": []
          }
        },
        {
          "output_type": "display_data",
          "data": {
            "application/vnd.jupyter.widget-view+json": {
              "model_id": "5a1b8dbad75a45159203079954a1b175",
              "version_minor": 0,
              "version_major": 2
            },
            "text/plain": [
              "HBox(children=(FloatProgress(value=0.0, description='#3', max=42.0, style=ProgressStyle(description_width='ini…"
            ]
          },
          "metadata": {
            "tags": []
          }
        },
        {
          "output_type": "display_data",
          "data": {
            "application/vnd.jupyter.widget-view+json": {
              "model_id": "2796d8cb9da54961aa7cf9dcafefe6c7",
              "version_minor": 0,
              "version_major": 2
            },
            "text/plain": [
              "HBox(children=(FloatProgress(value=0.0, description='#1', max=42.0, style=ProgressStyle(description_width='ini…"
            ]
          },
          "metadata": {
            "tags": []
          }
        },
        {
          "output_type": "display_data",
          "data": {
            "application/vnd.jupyter.widget-view+json": {
              "model_id": "a4625c4b1f7943479639ab89ccf4390e",
              "version_minor": 0,
              "version_major": 2
            },
            "text/plain": [
              "HBox(children=(FloatProgress(value=0.0, description='#2', max=42.0, style=ProgressStyle(description_width='ini…"
            ]
          },
          "metadata": {
            "tags": []
          }
        },
        {
          "output_type": "stream",
          "text": [
            "\n",
            "\n",
            "\n",
            "\n"
          ],
          "name": "stdout"
        }
      ]
    },
    {
      "cell_type": "code",
      "metadata": {
        "id": "qd9EiFvF5Kfa"
      },
      "source": [
        "import torch\n",
        "\n",
        "from dataclasses import dataclass, field\n",
        "from typing import Any, Dict, List, Optional, Union\n",
        "\n",
        "@dataclass\n",
        "class DataCollatorCTCWithPadding:\n",
        "    \"\"\"\n",
        "    Data collator that will dynamically pad the inputs received.\n",
        "    Args:\n",
        "        processor (:class:`~transformers.Wav2Vec2Processor`)\n",
        "            The processor used for proccessing the data.\n",
        "        padding (:obj:`bool`, :obj:`str` or :class:`~transformers.tokenization_utils_base.PaddingStrategy`, `optional`, defaults to :obj:`True`):\n",
        "            Select a strategy to pad the returned sequences (according to the model's padding side and padding index)\n",
        "            among:\n",
        "            * :obj:`True` or :obj:`'longest'`: Pad to the longest sequence in the batch (or no padding if only a single\n",
        "              sequence if provided).\n",
        "            * :obj:`'max_length'`: Pad to a maximum length specified with the argument :obj:`max_length` or to the\n",
        "              maximum acceptable input length for the model if that argument is not provided.\n",
        "            * :obj:`False` or :obj:`'do_not_pad'` (default): No padding (i.e., can output a batch with sequences of\n",
        "              different lengths).\n",
        "        max_length (:obj:`int`, `optional`):\n",
        "            Maximum length of the ``input_values`` of the returned list and optionally padding length (see above).\n",
        "        max_length_labels (:obj:`int`, `optional`):\n",
        "            Maximum length of the ``labels`` returned list and optionally padding length (see above).\n",
        "        pad_to_multiple_of (:obj:`int`, `optional`):\n",
        "            If set will pad the sequence to a multiple of the provided value.\n",
        "            This is especially useful to enable the use of Tensor Cores on NVIDIA hardware with compute capability >=\n",
        "            7.5 (Volta).\n",
        "    \"\"\"\n",
        "\n",
        "    processor: Wav2Vec2Processor\n",
        "    padding: Union[bool, str] = True\n",
        "    max_length: Optional[int] = None\n",
        "    max_length_labels: Optional[int] = None\n",
        "    pad_to_multiple_of: Optional[int] = None\n",
        "    pad_to_multiple_of_labels: Optional[int] = None\n",
        "\n",
        "    def __call__(self, features: List[Dict[str, Union[List[int], torch.Tensor]]]) -> Dict[str, torch.Tensor]:\n",
        "        # split inputs and labels since they have to be of different lenghts and need\n",
        "        # different padding methods\n",
        "        input_features = [{\"input_values\": feature[\"input_values\"]} for feature in features]\n",
        "        label_features = [{\"input_ids\": feature[\"labels\"]} for feature in features]\n",
        "\n",
        "        batch = self.processor.pad(\n",
        "            input_features,\n",
        "            padding=self.padding,\n",
        "            max_length=self.max_length,\n",
        "            pad_to_multiple_of=self.pad_to_multiple_of,\n",
        "            return_tensors=\"pt\",\n",
        "        )\n",
        "        with self.processor.as_target_processor():\n",
        "            labels_batch = self.processor.pad(\n",
        "                label_features,\n",
        "                padding=self.padding,\n",
        "                max_length=self.max_length_labels,\n",
        "                pad_to_multiple_of=self.pad_to_multiple_of_labels,\n",
        "                return_tensors=\"pt\",\n",
        "            )\n",
        "\n",
        "        # replace padding with -100 to ignore loss correctly\n",
        "        labels = labels_batch[\"input_ids\"].masked_fill(labels_batch.attention_mask.ne(1), -100)\n",
        "\n",
        "        batch[\"labels\"] = labels\n",
        "\n",
        "        return batch"
      ],
      "execution_count": null,
      "outputs": []
    },
    {
      "cell_type": "code",
      "metadata": {
        "id": "qZ6M5pXy5d-W"
      },
      "source": [
        "data_collator = DataCollatorCTCWithPadding(processor=processor, padding=True)"
      ],
      "execution_count": null,
      "outputs": []
    },
    {
      "cell_type": "code",
      "metadata": {
        "id": "TIA5GeRw5fft",
        "colab": {
          "base_uri": "https://localhost:8080/",
          "height": 67,
          "referenced_widgets": [
            "d506cfc3f7984aac99e872a693b4521d",
            "00d989459dee446aaf28b45ec50112ee",
            "90d03f72ba6e4cd09969c47747e80026",
            "533e6c227c904fc6ab01adc2a867ded1",
            "166ac3ae3c0a41d790bd13c251166085",
            "9c5c00898346423b96c040360952f61c",
            "5619dcb12db343ecb66ba5cc16727ffc",
            "67d8030620d3429bbeb77ea1fc8707e1"
          ]
        },
        "outputId": "8ffe4439-c267-45b9-b5b3-a85d24f46cc0"
      },
      "source": [
        "wer_metric = load_metric(\"wer\")"
      ],
      "execution_count": null,
      "outputs": [
        {
          "output_type": "display_data",
          "data": {
            "application/vnd.jupyter.widget-view+json": {
              "model_id": "d506cfc3f7984aac99e872a693b4521d",
              "version_minor": 0,
              "version_major": 2
            },
            "text/plain": [
              "HBox(children=(FloatProgress(value=0.0, description='Downloading', max=1764.0, style=ProgressStyle(description…"
            ]
          },
          "metadata": {
            "tags": []
          }
        },
        {
          "output_type": "stream",
          "text": [
            "\n"
          ],
          "name": "stdout"
        }
      ]
    },
    {
      "cell_type": "code",
      "metadata": {
        "id": "GXLILI_b5f-V"
      },
      "source": [
        "def compute_metrics(pred):\n",
        "    pred_logits = pred.predictions\n",
        "    pred_ids = np.argmax(pred_logits, axis=-1)\n",
        "\n",
        "    pred.label_ids[pred.label_ids == -100] = processor.tokenizer.pad_token_id\n",
        "\n",
        "    pred_str = processor.batch_decode(pred_ids)\n",
        "    # we do not want to group tokens when computing the metrics\n",
        "    label_str = processor.batch_decode(pred.label_ids, group_tokens=False)\n",
        "\n",
        "    wer = wer_metric.compute(predictions=pred_str, references=label_str)\n",
        "\n",
        "    return {\"wer\": wer}"
      ],
      "execution_count": null,
      "outputs": []
    },
    {
      "cell_type": "code",
      "metadata": {
        "colab": {
          "base_uri": "https://localhost:8080/",
          "height": 174,
          "referenced_widgets": [
            "d05559ae209e4e3290362fd001c58518",
            "1282b600e9a74d7a95adbebba5e9de03",
            "0810298d03904822ace2375ff65a4a03",
            "f83cdff905194f2ea29992dafabf33c0",
            "fcf63c0d4b254d47969d250a67f55c5b",
            "4cd8f6214c8440d98a4cab0d7d8be0ac",
            "b26a4a96fffb4b8e8d166f8bf486f471",
            "714c2d1533df4fb1a34c290b8c49e480",
            "52dd9911ee404eda87925875ea0d62c0",
            "868a9124dd48494298137e935dc09b71",
            "ef9850eafa584b98a8db88a8cb0007d6",
            "37e43d61278843e3a00b89cb0554743f",
            "07b7dd125a47433b8e5732b3a415d452",
            "007f8859adf94fc594ffcc6791de373d",
            "2c9ceec65edd4102a38d9ef1bbad4b6d",
            "8960a7196f0746c0bfe5e38850d754e1"
          ]
        },
        "id": "tWVubgmH5hxF",
        "outputId": "149b04af-5bad-4eaa-a455-058b53f9a29a"
      },
      "source": [
        "from transformers import Wav2Vec2ForCTC\n",
        "\n",
        "model = Wav2Vec2ForCTC.from_pretrained(\n",
        "    \"facebook/wav2vec2-large-xlsr-53\", \n",
        "    attention_dropout=0.05,\n",
        "    hidden_dropout=0.05,\n",
        "    feat_proj_dropout=0.0,\n",
        "    mask_time_prob=0.05,\n",
        "    layerdrop=0.1,\n",
        "    gradient_checkpointing=True, \n",
        "    ctc_loss_reduction=\"mean\",\n",
        "    pad_token_id=processor.tokenizer.pad_token_id,\n",
        "    vocab_size=len(processor.tokenizer)\n",
        ")"
      ],
      "execution_count": null,
      "outputs": [
        {
          "output_type": "display_data",
          "data": {
            "application/vnd.jupyter.widget-view+json": {
              "model_id": "d05559ae209e4e3290362fd001c58518",
              "version_minor": 0,
              "version_major": 2
            },
            "text/plain": [
              "HBox(children=(FloatProgress(value=0.0, description='Downloading', max=1451.0, style=ProgressStyle(description…"
            ]
          },
          "metadata": {
            "tags": []
          }
        },
        {
          "output_type": "stream",
          "text": [
            "\n"
          ],
          "name": "stdout"
        },
        {
          "output_type": "display_data",
          "data": {
            "application/vnd.jupyter.widget-view+json": {
              "model_id": "52dd9911ee404eda87925875ea0d62c0",
              "version_minor": 0,
              "version_major": 2
            },
            "text/plain": [
              "HBox(children=(FloatProgress(value=0.0, description='Downloading', max=1261920069.0, style=ProgressStyle(descr…"
            ]
          },
          "metadata": {
            "tags": []
          }
        },
        {
          "output_type": "stream",
          "text": [
            "\n"
          ],
          "name": "stdout"
        },
        {
          "output_type": "stream",
          "text": [
            "Some weights of Wav2Vec2ForCTC were not initialized from the model checkpoint at facebook/wav2vec2-large-xlsr-53 and are newly initialized: ['lm_head.weight', 'lm_head.bias']\n",
            "You should probably TRAIN this model on a down-stream task to be able to use it for predictions and inference.\n"
          ],
          "name": "stderr"
        }
      ]
    },
    {
      "cell_type": "code",
      "metadata": {
        "id": "N5vOh8Ka5jik"
      },
      "source": [
        "model.freeze_feature_extractor()"
      ],
      "execution_count": null,
      "outputs": []
    },
    {
      "cell_type": "code",
      "metadata": {
        "id": "BTbs1S_M5mS1"
      },
      "source": [
        "from transformers import TrainingArguments\n",
        "\n",
        "training_args = TrainingArguments(\n",
        "  output_dir=output_models_dir,\n",
        "  #output_dir=\"dev/\",\n",
        "  group_by_length=True,\n",
        "  per_device_train_batch_size=16,\n",
        "  #per_device_eval_batch_size=32,\n",
        "  gradient_accumulation_steps=2,\n",
        "  dataloader_num_workers = 1,\n",
        "  evaluation_strategy=\"steps\",\n",
        "  num_train_epochs=51,\n",
        "  fp16=True,\n",
        "  save_steps=400,\n",
        "  eval_steps=400,\n",
        "  logging_steps=400,\n",
        "  learning_rate=1e-4,\n",
        "  warmup_steps=500,\n",
        "  save_total_limit=1,\n",
        ")"
      ],
      "execution_count": null,
      "outputs": []
    },
    {
      "cell_type": "code",
      "metadata": {
        "id": "tU4sJBwd5m1c"
      },
      "source": [
        "from transformers import Trainer\n",
        "\n",
        "trainer = Trainer(\n",
        "    model=model,\n",
        "    data_collator=data_collator,\n",
        "    args=training_args,\n",
        "    compute_metrics=compute_metrics,\n",
        "    train_dataset=voice_train,\n",
        "    eval_dataset=voice_val,\n",
        "    tokenizer=processor.feature_extractor,\n",
        ")"
      ],
      "execution_count": null,
      "outputs": []
    },
    {
      "cell_type": "code",
      "metadata": {
        "id": "SOYGkpXiKPvw"
      },
      "source": [
        "trainer.train() "
      ],
      "execution_count": null,
      "outputs": []
    },
    {
      "cell_type": "code",
      "metadata": {
        "id": "kmYOBR8a6VxV",
        "colab": {
          "base_uri": "https://localhost:8080/",
          "height": 301,
          "referenced_widgets": [
            "055653db97394436b7f70b80cc211f2d",
            "03926327ca8e4894b9a665d24cb17fb9",
            "c9375a6012ab498fa810ea86b91418d3",
            "de597703ee59447380cb8bab50322482",
            "aaeeb098b8eb43ffbf0f9c609e0b8b86",
            "10e1df2fdaeb4184a92c24e19a5f6d00",
            "096053fc3f29415989bb4f2c499ff290",
            "527dd22a70c4490d8487948ff3fabe32",
            "bc449d9e51d44bcdb102eab0fd74ecfe",
            "d6ce2099ff7a4cec8c13bd2deb3c464e",
            "b37eab08b5394ee2b5643a265f0d50ef",
            "029af175b2a24ed4901002fa6968fedc",
            "e39db372be3d4e81aa8cb7f7687c9534",
            "10eed8e2504048feaad39dbeb2845407",
            "18969c55e4194435bb856da323ab026c",
            "ca071fd1c3ad4fa081229c7f8e2686f5"
          ]
        },
        "outputId": "251e9a8d-1d37-4c3f-dfcf-01753d0cb7f7"
      },
      "source": [
        "import torch\n",
        "import torchaudio\n",
        "from datasets import load_dataset\n",
        "from transformers import Wav2Vec2ForCTC, Wav2Vec2Processor\n",
        "\n",
        "# Inference on test data\n",
        "\n",
        "test_dataset = load_dataset('csv',data_files=['dataset/SampleSubmission.csv'])\n",
        "\n",
        "\n",
        "\n",
        "processor = Wav2Vec2Processor.from_pretrained(output_models_dir)\n",
        "model = Wav2Vec2ForCTC.from_pretrained(f\"{output_models_dir}/checkpoint-4000\")\n",
        "model.to(\"cuda\")\n",
        "\n",
        "\n",
        "# Preprocessing the datasets.\n",
        "# We need to read the aduio files as arrays\n",
        "def speech_file_to_array_fn(batch):\n",
        "    speech_array, sampling_rate = torchaudio.load(f\"clips/{batch['ID']}.mp3\")\n",
        "    resampler = torchaudio.transforms.Resample(sampling_rate, 16000)\n",
        "    batch[\"speech\"] = resampler(speech_array).squeeze().numpy()\n",
        "    return batch\n",
        "\n",
        "\n",
        "test_dataset = test_dataset.map(speech_file_to_array_fn)\n",
        "\n",
        "def evaluate(batch):\n",
        "    inputs = processor(batch[\"speech\"], sampling_rate=16000, return_tensors=\"pt\", padding=True)\n",
        "\n",
        "    with torch.no_grad():\n",
        "         logits = model(inputs.input_values.to(\"cuda\"), attention_mask=inputs.attention_mask.to(\"cuda\")).logits\n",
        "\n",
        "    pred_ids = torch.argmax(logits, dim=-1)\n",
        "    batch[\"transcription\"] = processor.batch_decode(pred_ids)\n",
        "    return batch\n",
        "\n",
        "result = test_dataset.map(evaluate, batched=True, batch_size=8)\n",
        "\n",
        "print(\"Prediction:\", result)"
      ],
      "execution_count": null,
      "outputs": [
        {
          "output_type": "stream",
          "text": [
            "Using custom data configuration default-eebb785c5c9169c0\n",
            "Reusing dataset csv (/root/.cache/huggingface/datasets/csv/default-eebb785c5c9169c0/0.0.0/2a88c45fed596f9421a2e7f74ab1a3cd012ef75210a5dc1950e8d60ca8d9c66c)\n",
            "Special tokens have been added in the vocabulary, make sure the associated word embedding are fine-tuned or trained.\n"
          ],
          "name": "stderr"
        },
        {
          "output_type": "display_data",
          "data": {
            "application/vnd.jupyter.widget-view+json": {
              "model_id": "055653db97394436b7f70b80cc211f2d",
              "version_minor": 0,
              "version_major": 2
            },
            "text/plain": [
              "HBox(children=(FloatProgress(value=0.0, max=1564.0), HTML(value='')))"
            ]
          },
          "metadata": {
            "tags": []
          }
        },
        {
          "output_type": "stream",
          "text": [
            "\n"
          ],
          "name": "stdout"
        },
        {
          "output_type": "display_data",
          "data": {
            "application/vnd.jupyter.widget-view+json": {
              "model_id": "bc449d9e51d44bcdb102eab0fd74ecfe",
              "version_minor": 0,
              "version_major": 2
            },
            "text/plain": [
              "HBox(children=(FloatProgress(value=0.0, max=196.0), HTML(value='')))"
            ]
          },
          "metadata": {
            "tags": []
          }
        },
        {
          "output_type": "stream",
          "text": [
            "\n",
            "Prediction: DatasetDict({\n",
            "    train: Dataset({\n",
            "        features: ['ID', 'speech', 'transcription'],\n",
            "        num_rows: 1564\n",
            "    })\n",
            "})\n"
          ],
          "name": "stdout"
        }
      ]
    },
    {
      "cell_type": "code",
      "metadata": {
        "id": "jlf1IlIbozdL",
        "colab": {
          "base_uri": "https://localhost:8080/",
          "height": 198
        },
        "outputId": "f50ca68b-c5e9-42a8-8890-8dfabeb8d678"
      },
      "source": [
        "import pandas as pd\n",
        "\n",
        "\n",
        "sub = pd.read_csv('dataset/SampleSubmission.csv')\n",
        "sub.head()\n"
      ],
      "execution_count": null,
      "outputs": [
        {
          "output_type": "execute_result",
          "data": {
            "text/html": [
              "<div>\n",
              "<style scoped>\n",
              "    .dataframe tbody tr th:only-of-type {\n",
              "        vertical-align: middle;\n",
              "    }\n",
              "\n",
              "    .dataframe tbody tr th {\n",
              "        vertical-align: top;\n",
              "    }\n",
              "\n",
              "    .dataframe thead th {\n",
              "        text-align: right;\n",
              "    }\n",
              "</style>\n",
              "<table border=\"1\" class=\"dataframe\">\n",
              "  <thead>\n",
              "    <tr style=\"text-align: right;\">\n",
              "      <th></th>\n",
              "      <th>ID</th>\n",
              "      <th>transcription</th>\n",
              "    </tr>\n",
              "  </thead>\n",
              "  <tbody>\n",
              "    <tr>\n",
              "      <th>0</th>\n",
              "      <td>00416cff4f818d3dfd99c9178ff0e268e7575500c8baa5...</td>\n",
              "      <td>0</td>\n",
              "    </tr>\n",
              "    <tr>\n",
              "      <th>1</th>\n",
              "      <td>00891ba561e80e135f9d12b9fa1347f0a2560998f7ea16...</td>\n",
              "      <td>0</td>\n",
              "    </tr>\n",
              "    <tr>\n",
              "      <th>2</th>\n",
              "      <td>00a508027ed4edf0bd3db79f45f4ed6e1b89fba6482c10...</td>\n",
              "      <td>0</td>\n",
              "    </tr>\n",
              "    <tr>\n",
              "      <th>3</th>\n",
              "      <td>00ac13cd0d93e35c1ff672cc106ad94d1ea9b93fcf049a...</td>\n",
              "      <td>0</td>\n",
              "    </tr>\n",
              "    <tr>\n",
              "      <th>4</th>\n",
              "      <td>01337d7daaf50c9a53b783f4cd6704b5a152dd5d299899...</td>\n",
              "      <td>0</td>\n",
              "    </tr>\n",
              "  </tbody>\n",
              "</table>\n",
              "</div>"
            ],
            "text/plain": [
              "                                                  ID  transcription\n",
              "0  00416cff4f818d3dfd99c9178ff0e268e7575500c8baa5...              0\n",
              "1  00891ba561e80e135f9d12b9fa1347f0a2560998f7ea16...              0\n",
              "2  00a508027ed4edf0bd3db79f45f4ed6e1b89fba6482c10...              0\n",
              "3  00ac13cd0d93e35c1ff672cc106ad94d1ea9b93fcf049a...              0\n",
              "4  01337d7daaf50c9a53b783f4cd6704b5a152dd5d299899...              0"
            ]
          },
          "metadata": {
            "tags": []
          },
          "execution_count": 63
        }
      ]
    },
    {
      "cell_type": "code",
      "metadata": {
        "id": "Iy743TxEpuMP",
        "colab": {
          "base_uri": "https://localhost:8080/"
        },
        "outputId": "7711d193-6f42-463c-e829-b155391a9b45"
      },
      "source": [
        "result"
      ],
      "execution_count": null,
      "outputs": [
        {
          "output_type": "execute_result",
          "data": {
            "text/plain": [
              "DatasetDict({\n",
              "    train: Dataset({\n",
              "        features: ['ID', 'speech', 'transcription'],\n",
              "        num_rows: 1564\n",
              "    })\n",
              "})"
            ]
          },
          "metadata": {
            "tags": []
          },
          "execution_count": 64
        }
      ]
    },
    {
      "cell_type": "code",
      "metadata": {
        "id": "hEaqwARipwGX",
        "colab": {
          "base_uri": "https://localhost:8080/",
          "height": 35
        },
        "outputId": "637900db-f6e2-48b2-d475-93aa49c7716c"
      },
      "source": [
        "# fill the empty audio with None\n",
        "final_pred = [ 'None' if pred=='' else pred for pred in result['train']['transcription']]\n",
        "final_pred[1480]\n",
        "        "
      ],
      "execution_count": null,
      "outputs": [
        {
          "output_type": "execute_result",
          "data": {
            "application/vnd.google.colaboratory.intrinsic+json": {
              "type": "string"
            },
            "text/plain": [
              "'None'"
            ]
          },
          "metadata": {
            "tags": []
          },
          "execution_count": 65
        }
      ]
    },
    {
      "cell_type": "code",
      "metadata": {
        "id": "5CgqENv0pyCG",
        "colab": {
          "base_uri": "https://localhost:8080/",
          "height": 348
        },
        "outputId": "c17494c2-9be4-4606-d801-4321c622b27c"
      },
      "source": [
        "sub['transcription'] =  final_pred\n",
        "sub.to_csv('submission.csv',index=False)\n",
        "sub.head(10)"
      ],
      "execution_count": null,
      "outputs": [
        {
          "output_type": "execute_result",
          "data": {
            "text/html": [
              "<div>\n",
              "<style scoped>\n",
              "    .dataframe tbody tr th:only-of-type {\n",
              "        vertical-align: middle;\n",
              "    }\n",
              "\n",
              "    .dataframe tbody tr th {\n",
              "        vertical-align: top;\n",
              "    }\n",
              "\n",
              "    .dataframe thead th {\n",
              "        text-align: right;\n",
              "    }\n",
              "</style>\n",
              "<table border=\"1\" class=\"dataframe\">\n",
              "  <thead>\n",
              "    <tr style=\"text-align: right;\">\n",
              "      <th></th>\n",
              "      <th>ID</th>\n",
              "      <th>transcription</th>\n",
              "    </tr>\n",
              "  </thead>\n",
              "  <tbody>\n",
              "    <tr>\n",
              "      <th>0</th>\n",
              "      <td>00416cff4f818d3dfd99c9178ff0e268e7575500c8baa5...</td>\n",
              "      <td>africatel avss</td>\n",
              "    </tr>\n",
              "    <tr>\n",
              "      <th>1</th>\n",
              "      <td>00891ba561e80e135f9d12b9fa1347f0a2560998f7ea16...</td>\n",
              "      <td>nan laay def ngir dem tally bou bess</td>\n",
              "    </tr>\n",
              "    <tr>\n",
              "      <th>2</th>\n",
              "      <td>00a508027ed4edf0bd3db79f45f4ed6e1b89fba6482c10...</td>\n",
              "      <td>africatel avs</td>\n",
              "    </tr>\n",
              "    <tr>\n",
              "      <th>3</th>\n",
              "      <td>00ac13cd0d93e35c1ff672cc106ad94d1ea9b93fcf049a...</td>\n",
              "      <td>mosquée de cambérène</td>\n",
              "    </tr>\n",
              "    <tr>\n",
              "      <th>4</th>\n",
              "      <td>01337d7daaf50c9a53b783f4cd6704b5a152dd5d299899...</td>\n",
              "      <td>ecole hlm rufisque</td>\n",
              "    </tr>\n",
              "    <tr>\n",
              "      <th>5</th>\n",
              "      <td>016a99acf910b17ae7e2780ae71884c71dea8eeb1d4a51...</td>\n",
              "      <td>rue baffa séne</td>\n",
              "    </tr>\n",
              "    <tr>\n",
              "      <th>6</th>\n",
              "      <td>01eb602b69c303a54315a272c3544daba1eb3a3341b1ec...</td>\n",
              "      <td>ecole primaire privée les petits guénies</td>\n",
              "    </tr>\n",
              "    <tr>\n",
              "      <th>7</th>\n",
              "      <td>0235405604f73d5ba9500dc44c293e6ebcb7575f830c47...</td>\n",
              "      <td>marché ouakam</td>\n",
              "    </tr>\n",
              "    <tr>\n",
              "      <th>8</th>\n",
              "      <td>0266e6e8f354f4a241b744a64a226d24b90aeef8160ec8...</td>\n",
              "      <td>dieupeul derklé</td>\n",
              "    </tr>\n",
              "    <tr>\n",
              "      <th>9</th>\n",
              "      <td>027d12b2a3bd049c026d2103b849de47076a785f76c174...</td>\n",
              "      <td>bargny rails</td>\n",
              "    </tr>\n",
              "  </tbody>\n",
              "</table>\n",
              "</div>"
            ],
            "text/plain": [
              "                                                  ID                             transcription\n",
              "0  00416cff4f818d3dfd99c9178ff0e268e7575500c8baa5...                            africatel avss\n",
              "1  00891ba561e80e135f9d12b9fa1347f0a2560998f7ea16...      nan laay def ngir dem tally bou bess\n",
              "2  00a508027ed4edf0bd3db79f45f4ed6e1b89fba6482c10...                             africatel avs\n",
              "3  00ac13cd0d93e35c1ff672cc106ad94d1ea9b93fcf049a...                      mosquée de cambérène\n",
              "4  01337d7daaf50c9a53b783f4cd6704b5a152dd5d299899...                        ecole hlm rufisque\n",
              "5  016a99acf910b17ae7e2780ae71884c71dea8eeb1d4a51...                            rue baffa séne\n",
              "6  01eb602b69c303a54315a272c3544daba1eb3a3341b1ec...  ecole primaire privée les petits guénies\n",
              "7  0235405604f73d5ba9500dc44c293e6ebcb7575f830c47...                             marché ouakam\n",
              "8  0266e6e8f354f4a241b744a64a226d24b90aeef8160ec8...                           dieupeul derklé\n",
              "9  027d12b2a3bd049c026d2103b849de47076a785f76c174...                              bargny rails"
            ]
          },
          "metadata": {
            "tags": []
          },
          "execution_count": 66
        }
      ]
    },
    {
      "cell_type": "code",
      "metadata": {
        "id": "SQF435Chp34V"
      },
      "source": [
        "import IPython.display as ipd\n",
        "import numpy as np\n",
        "\n",
        "speech_array, sampling_rate = torchaudio.load(f\"clips/{sub['ID'][4]}.mp3\")\n",
        "resampler = torchaudio.transforms.Resample(sampling_rate, 16000)\n",
        "batch = resampler(speech_array).squeeze().numpy()\n",
        "ipd.Audio(data=np.asarray(batch), autoplay=True, rate=16000)"
      ],
      "execution_count": null,
      "outputs": []
    }
  ]
}